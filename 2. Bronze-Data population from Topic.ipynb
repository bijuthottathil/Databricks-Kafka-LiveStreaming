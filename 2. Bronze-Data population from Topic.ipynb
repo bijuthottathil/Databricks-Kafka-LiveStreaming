{
 "cells": [
  {
   "cell_type": "markdown",
   "metadata": {
    "application/vnd.databricks.v1+cell": {
     "cellMetadata": {},
     "inputWidgets": {},
     "nuid": "bcc401e7-636b-4da9-98a4-aac22aa933a7",
     "showTitle": false,
     "title": ""
    }
   },
   "source": [
    "# Kafka Configuration for reading data"
   ]
  },
  {
   "cell_type": "code",
   "execution_count": 0,
   "metadata": {
    "application/vnd.databricks.v1+cell": {
     "cellMetadata": {
      "byteLimit": 2048000,
      "rowLimit": 10000
     },
     "inputWidgets": {},
     "nuid": "1d8069ae-7d97-4cfc-802f-d37259984ac4",
     "showTitle": false,
     "title": ""
    }
   },
   "outputs": [],
   "source": [
    "# Kafka Configuration for reading data\n",
    "\n",
    "import os\n",
    "from pyspark.sql import SparkSession\n",
    "from pyspark.sql.types import StructType, StructField, StringType, ArrayType, DoubleType, TimestampType, IntegerType\n",
    "from pyspark.sql.functions import explode, col\n",
    "# Read data from Kafka\n",
    "kafka_df = (spark.readStream\n",
    "            .format(\"kafka\")\n",
    "            .option(\"kafka.bootstrap.servers\",  dbutils.secrets.get(scope=\"key_vault_scope\", key=\"MYKAFKASERVER\"))\n",
    "            .option(\"subscribe\",  dbutils.secrets.get(scope=\"key_vault_scope\", key=\"MYKAFKATOPIC\"))\n",
    "            .option(\"maxFilesPerTrigger\", 100)  # Process a maximum of 10 files at a time\n",
    "            .option(\"startingOffsets\", \"earliest\")  # or \"latest\"\n",
    "            .option(\"kafka.security.protocol\", \"SASL_SSL\")\n",
    "            .option(\"kafka.sasl.mechanism\", \"PLAIN\")\n",
    "            .option(\"kafka.sasl.jaas.config\", \"org.apache.kafka.common.security.plain.PlainLoginModule required username='OPJG2TBO5A6V3KGQ' password='NktHxsYoNZZjBNQyfyBMsfqxo3FIe1soT6VhBiL82np1pTQtmqJwYvCzQTRULLVk';\")\n",
    "             .load())\n",
    "\n",
    "# Cast Kafka value as string\n",
    "json_df = kafka_df.selectExpr(\"CAST(value AS STRING) as json_message\")\n",
    "\n",
    "# Display the streaming DataFrame\n",
    "display(json_df)"
   ]
  },
  {
   "cell_type": "markdown",
   "metadata": {
    "application/vnd.databricks.v1+cell": {
     "cellMetadata": {},
     "inputWidgets": {},
     "nuid": "ef60d96e-2789-4dcb-b029-d0987b6121d5",
     "showTitle": false,
     "title": ""
    }
   },
   "source": [
    "# Writing stream data to delta table in bronze layer"
   ]
  },
  {
   "cell_type": "code",
   "execution_count": 0,
   "metadata": {
    "application/vnd.databricks.v1+cell": {
     "cellMetadata": {
      "byteLimit": 2048000,
      "rowLimit": 10000
     },
     "inputWidgets": {},
     "nuid": "2ec5e5b2-2877-451e-9d17-9c8a79dcb898",
     "showTitle": false,
     "title": ""
    }
   },
   "outputs": [
    {
     "output_type": "execute_result",
     "data": {
      "text/plain": [
       "<pyspark.sql.streaming.query.StreamingQuery at 0x7f839482a290>"
      ]
     },
     "execution_count": 31,
     "metadata": {},
     "output_type": "execute_result"
    }
   ],
   "source": [
    "# Write the DataFrame to Delta table for storage with checkpointing\n",
    "json_df.writeStream \\\n",
    " .format(\"delta\") \\\n",
    "  .option(\"checkpointLocation\", \"/Volumes/kafka/bronze/checkpoint\") \\\n",
    "  .outputMode(\"append\") \\\n",
    "  .table(\"kafka.bronze.stock_data\")"
   ]
  },
  {
   "cell_type": "markdown",
   "metadata": {
    "application/vnd.databricks.v1+cell": {
     "cellMetadata": {},
     "inputWidgets": {},
     "nuid": "e87359ca-a2ce-4239-83f9-2c49a939128e",
     "showTitle": false,
     "title": ""
    }
   },
   "source": [
    "# Displaying bronze table data (Just to show results. Once we set job, we dont need to show it in notebook)"
   ]
  },
  {
   "cell_type": "code",
   "execution_count": 0,
   "metadata": {
    "application/vnd.databricks.v1+cell": {
     "cellMetadata": {
      "byteLimit": 2048000,
      "implicitDf": true,
      "rowLimit": 10000
     },
     "inputWidgets": {},
     "nuid": "77a259d8-f13e-4e82-8d7a-07a4dc2bae73",
     "showTitle": false,
     "title": ""
    }
   },
   "outputs": [
    {
     "output_type": "display_data",
     "data": {
      "text/html": [
       "<style scoped>\n",
       "  .table-result-container {\n",
       "    max-height: 300px;\n",
       "    overflow: auto;\n",
       "  }\n",
       "  table, th, td {\n",
       "    border: 1px solid black;\n",
       "    border-collapse: collapse;\n",
       "  }\n",
       "  th, td {\n",
       "    padding: 5px;\n",
       "  }\n",
       "  th {\n",
       "    text-align: left;\n",
       "  }\n",
       "</style><div class='table-result-container'><table class='table-result'><thead style='background-color: white'><tr><th>json_message</th></tr></thead><tbody><tr><td>{\"symbol\": \"MSFT\", \"timestamp\": \"2024-10-08 19:59:00\", \"open\": \"414.6050\", \"high\": \"414.6799\", \"low\": \"414.5300\", \"close\": \"414.6500\", \"volume\": \"555\"}</td></tr><tr><td>{\"symbol\": \"MSFT\", \"timestamp\": \"2024-10-08 19:58:00\", \"open\": \"414.6000\", \"high\": \"414.6400\", \"low\": \"414.4100\", \"close\": \"414.6050\", \"volume\": \"360\"}</td></tr><tr><td>{\"symbol\": \"MSFT\", \"timestamp\": \"2024-10-08 19:57:00\", \"open\": \"414.5300\", \"high\": \"414.6788\", \"low\": \"414.5300\", \"close\": \"414.6000\", \"volume\": \"62\"}</td></tr><tr><td>{\"symbol\": \"MSFT\", \"timestamp\": \"2024-10-08 19:56:00\", \"open\": \"414.5100\", \"high\": \"414.6500\", \"low\": \"414.5000\", \"close\": \"414.5200\", \"volume\": \"232\"}</td></tr><tr><td>{\"symbol\": \"MSFT\", \"timestamp\": \"2024-10-08 19:55:00\", \"open\": \"414.5300\", \"high\": \"414.6500\", \"low\": \"414.4900\", \"close\": \"414.4900\", \"volume\": \"359\"}</td></tr><tr><td>{\"symbol\": \"MSFT\", \"timestamp\": \"2024-10-08 19:54:00\", \"open\": \"414.5300\", \"high\": \"414.5500\", \"low\": \"414.5000\", \"close\": \"414.5300\", \"volume\": \"66\"}</td></tr><tr><td>{\"symbol\": \"MSFT\", \"timestamp\": \"2024-10-08 19:53:00\", \"open\": \"414.5300\", \"high\": \"414.5300\", \"low\": \"414.4160\", \"close\": \"414.4160\", \"volume\": \"2\"}</td></tr><tr><td>{\"symbol\": \"MSFT\", \"timestamp\": \"2024-10-08 19:52:00\", \"open\": \"414.5300\", \"high\": \"414.6500\", \"low\": \"414.5300\", \"close\": \"414.6500\", \"volume\": \"22\"}</td></tr><tr><td>{\"symbol\": \"MSFT\", \"timestamp\": \"2024-10-08 19:51:00\", \"open\": \"414.6300\", \"high\": \"414.6500\", \"low\": \"414.5300\", \"close\": \"414.5300\", \"volume\": \"1187\"}</td></tr><tr><td>{\"symbol\": \"MSFT\", \"timestamp\": \"2024-10-08 19:50:00\", \"open\": \"414.6900\", \"high\": \"414.6900\", \"low\": \"414.5300\", \"close\": \"414.6500\", \"volume\": \"31\"}</td></tr><tr><td>{\"symbol\": \"MSFT\", \"timestamp\": \"2024-10-08 19:49:00\", \"open\": \"414.6100\", \"high\": \"414.6900\", \"low\": \"414.6000\", \"close\": \"414.6000\", \"volume\": \"42\"}</td></tr><tr><td>{\"symbol\": \"MSFT\", \"timestamp\": \"2024-10-08 19:48:00\", \"open\": \"414.5950\", \"high\": \"414.6820\", \"low\": \"414.5950\", \"close\": \"414.6100\", \"volume\": \"14\"}</td></tr><tr><td>{\"symbol\": \"MSFT\", \"timestamp\": \"2024-10-08 19:47:00\", \"open\": \"414.6800\", \"high\": \"414.6900\", \"low\": \"414.5001\", \"close\": \"414.5001\", \"volume\": \"29\"}</td></tr><tr><td>{\"symbol\": \"MSFT\", \"timestamp\": \"2024-10-08 19:46:00\", \"open\": \"414.5950\", \"high\": \"414.6805\", \"low\": \"414.5950\", \"close\": \"414.6000\", \"volume\": \"108\"}</td></tr><tr><td>{\"symbol\": \"MSFT\", \"timestamp\": \"2024-10-08 19:45:00\", \"open\": \"414.6900\", \"high\": \"414.6900\", \"low\": \"414.5095\", \"close\": \"414.6900\", \"volume\": \"654\"}</td></tr><tr><td>{\"symbol\": \"MSFT\", \"timestamp\": \"2024-10-08 19:44:00\", \"open\": \"414.6500\", \"high\": \"414.6900\", \"low\": \"414.5450\", \"close\": \"414.6900\", \"volume\": \"129\"}</td></tr><tr><td>{\"symbol\": \"MSFT\", \"timestamp\": \"2024-10-08 19:43:00\", \"open\": \"414.6100\", \"high\": \"414.6500\", \"low\": \"414.6100\", \"close\": \"414.6100\", \"volume\": \"256\"}</td></tr><tr><td>{\"symbol\": \"MSFT\", \"timestamp\": \"2024-10-08 19:42:00\", \"open\": \"414.6900\", \"high\": \"414.6900\", \"low\": \"414.6100\", \"close\": \"414.6100\", \"volume\": \"287\"}</td></tr><tr><td>{\"symbol\": \"MSFT\", \"timestamp\": \"2024-10-08 19:41:00\", \"open\": \"414.6894\", \"high\": \"414.6900\", \"low\": \"414.6000\", \"close\": \"414.6900\", \"volume\": \"101\"}</td></tr><tr><td>{\"symbol\": \"MSFT\", \"timestamp\": \"2024-10-08 19:40:00\", \"open\": \"414.6700\", \"high\": \"414.6700\", \"low\": \"414.6000\", \"close\": \"414.6000\", \"volume\": \"48\"}</td></tr><tr><td>{\"symbol\": \"MSFT\", \"timestamp\": \"2024-10-08 19:39:00\", \"open\": \"414.5700\", \"high\": \"414.6999\", \"low\": \"414.5700\", \"close\": \"414.6700\", \"volume\": \"511\"}</td></tr><tr><td>{\"symbol\": \"MSFT\", \"timestamp\": \"2024-10-08 19:38:00\", \"open\": \"414.5400\", \"high\": \"414.6688\", \"low\": \"414.4165\", \"close\": \"414.5400\", \"volume\": \"22\"}</td></tr><tr><td>{\"symbol\": \"MSFT\", \"timestamp\": \"2024-10-08 19:37:00\", \"open\": \"414.5350\", \"high\": \"414.6500\", \"low\": \"414.5350\", \"close\": \"414.5500\", \"volume\": \"24\"}</td></tr><tr><td>{\"symbol\": \"MSFT\", \"timestamp\": \"2024-10-08 19:36:00\", \"open\": \"414.5800\", \"high\": \"414.6550\", \"low\": \"414.5600\", \"close\": \"414.6550\", \"volume\": \"68\"}</td></tr><tr><td>{\"symbol\": \"MSFT\", \"timestamp\": \"2024-10-08 19:35:00\", \"open\": \"414.6000\", \"high\": \"414.6700\", \"low\": \"414.3800\", \"close\": \"414.5400\", \"volume\": \"106\"}</td></tr><tr><td>{\"symbol\": \"MSFT\", \"timestamp\": \"2024-10-08 19:34:00\", \"open\": \"414.3900\", \"high\": \"414.6000\", \"low\": \"414.3900\", \"close\": \"414.6000\", \"volume\": \"233\"}</td></tr><tr><td>{\"symbol\": \"MSFT\", \"timestamp\": \"2024-10-08 19:33:00\", \"open\": \"414.4850\", \"high\": \"414.5900\", \"low\": \"414.4850\", \"close\": \"414.5900\", \"volume\": \"176\"}</td></tr><tr><td>{\"symbol\": \"MSFT\", \"timestamp\": \"2024-10-08 19:32:00\", \"open\": \"414.4600\", \"high\": \"414.5900\", \"low\": \"414.4600\", \"close\": \"414.5900\", \"volume\": \"771\"}</td></tr><tr><td>{\"symbol\": \"MSFT\", \"timestamp\": \"2024-10-08 19:31:00\", \"open\": \"414.5700\", \"high\": \"414.5700\", \"low\": \"414.3900\", \"close\": \"414.4800\", \"volume\": \"47\"}</td></tr><tr><td>{\"symbol\": \"MSFT\", \"timestamp\": \"2024-10-08 19:30:00\", \"open\": \"414.3963\", \"high\": \"414.5800\", \"low\": \"414.3800\", \"close\": \"414.5800\", \"volume\": \"242\"}</td></tr><tr><td>{\"symbol\": \"MSFT\", \"timestamp\": \"2024-10-08 19:29:00\", \"open\": \"414.5600\", \"high\": \"414.5600\", \"low\": \"414.4200\", \"close\": \"414.4200\", \"volume\": \"60\"}</td></tr><tr><td>{\"symbol\": \"MSFT\", \"timestamp\": \"2024-10-08 19:28:00\", \"open\": \"414.4800\", \"high\": \"414.5800\", \"low\": \"414.4100\", \"close\": \"414.4850\", \"volume\": \"207\"}</td></tr><tr><td>{\"symbol\": \"MSFT\", \"timestamp\": \"2024-10-08 19:27:00\", \"open\": \"414.4900\", \"high\": \"414.5781\", \"low\": \"414.4800\", \"close\": \"414.4800\", \"volume\": \"245\"}</td></tr><tr><td>{\"symbol\": \"MSFT\", \"timestamp\": \"2024-10-08 19:26:00\", \"open\": \"414.5000\", \"high\": \"414.5600\", \"low\": \"414.4900\", \"close\": \"414.4900\", \"volume\": \"24\"}</td></tr><tr><td>{\"symbol\": \"MSFT\", \"timestamp\": \"2024-10-08 19:25:00\", \"open\": \"414.4800\", \"high\": \"414.5700\", \"low\": \"414.4800\", \"close\": \"414.5000\", \"volume\": \"107\"}</td></tr><tr><td>{\"symbol\": \"MSFT\", \"timestamp\": \"2024-10-08 19:24:00\", \"open\": \"414.3800\", \"high\": \"414.5300\", \"low\": \"414.3800\", \"close\": \"414.4800\", \"volume\": \"5\"}</td></tr><tr><td>{\"symbol\": \"MSFT\", \"timestamp\": \"2024-10-08 19:23:00\", \"open\": \"414.4850\", \"high\": \"414.5900\", \"low\": \"414.3852\", \"close\": \"414.4800\", \"volume\": \"59\"}</td></tr><tr><td>{\"symbol\": \"MSFT\", \"timestamp\": \"2024-10-08 19:22:00\", \"open\": \"414.5200\", \"high\": \"414.5900\", \"low\": \"414.3800\", \"close\": \"414.3800\", \"volume\": \"329\"}</td></tr><tr><td>{\"symbol\": \"MSFT\", \"timestamp\": \"2024-10-08 19:21:00\", \"open\": \"414.4500\", \"high\": \"414.4850\", \"low\": \"414.4000\", \"close\": \"414.4100\", \"volume\": \"102\"}</td></tr><tr><td>{\"symbol\": \"MSFT\", \"timestamp\": \"2024-10-08 19:20:00\", \"open\": \"414.4650\", \"high\": \"414.5900\", \"low\": \"414.4650\", \"close\": \"414.5900\", \"volume\": \"7\"}</td></tr><tr><td>{\"symbol\": \"MSFT\", \"timestamp\": \"2024-10-08 19:19:00\", \"open\": \"414.5200\", \"high\": \"414.5300\", \"low\": \"414.4650\", \"close\": \"414.4650\", \"volume\": \"7\"}</td></tr><tr><td>{\"symbol\": \"MSFT\", \"timestamp\": \"2024-10-08 19:18:00\", \"open\": \"414.5800\", \"high\": \"414.5900\", \"low\": \"414.4300\", \"close\": \"414.4300\", \"volume\": \"54\"}</td></tr><tr><td>{\"symbol\": \"MSFT\", \"timestamp\": \"2024-10-08 19:17:00\", \"open\": \"414.3920\", \"high\": \"414.5899\", \"low\": \"414.3920\", \"close\": \"414.4850\", \"volume\": \"188\"}</td></tr><tr><td>{\"symbol\": \"MSFT\", \"timestamp\": \"2024-10-08 19:16:00\", \"open\": \"414.5500\", \"high\": \"414.5800\", \"low\": \"414.3900\", \"close\": \"414.3900\", \"volume\": \"12\"}</td></tr><tr><td>{\"symbol\": \"MSFT\", \"timestamp\": \"2024-10-08 19:15:00\", \"open\": \"414.5900\", \"high\": \"414.5900\", \"low\": \"414.3800\", \"close\": \"414.5800\", \"volume\": \"38\"}</td></tr><tr><td>{\"symbol\": \"MSFT\", \"timestamp\": \"2024-10-08 19:14:00\", \"open\": \"414.4850\", \"high\": \"414.5800\", \"low\": \"414.3800\", \"close\": \"414.3900\", \"volume\": \"2687\"}</td></tr><tr><td>{\"symbol\": \"MSFT\", \"timestamp\": \"2024-10-08 19:13:00\", \"open\": \"414.4100\", \"high\": \"414.5899\", \"low\": \"414.4100\", \"close\": \"414.5800\", \"volume\": \"131\"}</td></tr><tr><td>{\"symbol\": \"MSFT\", \"timestamp\": \"2024-10-08 19:12:00\", \"open\": \"414.5000\", \"high\": \"414.5888\", \"low\": \"414.3800\", \"close\": \"414.4900\", \"volume\": \"87\"}</td></tr><tr><td>{\"symbol\": \"MSFT\", \"timestamp\": \"2024-10-08 19:11:00\", \"open\": \"414.4500\", \"high\": \"414.6000\", \"low\": \"414.3800\", \"close\": \"414.4800\", \"volume\": \"414\"}</td></tr><tr><td>{\"symbol\": \"MSFT\", \"timestamp\": \"2024-10-08 19:10:00\", \"open\": \"414.5900\", \"high\": \"414.6000\", \"low\": \"414.5000\", \"close\": \"414.5000\", \"volume\": \"569\"}</td></tr><tr><td>{\"symbol\": \"MSFT\", \"timestamp\": \"2024-10-08 19:09:00\", \"open\": \"414.5900\", \"high\": \"414.5900\", \"low\": \"414.5000\", \"close\": \"414.5100\", \"volume\": \"18\"}</td></tr><tr><td>{\"symbol\": \"MSFT\", \"timestamp\": \"2024-10-08 19:08:00\", \"open\": \"414.5500\", \"high\": \"414.6788\", \"low\": \"414.5000\", \"close\": \"414.5000\", \"volume\": \"11\"}</td></tr><tr><td>{\"symbol\": \"MSFT\", \"timestamp\": \"2024-10-08 19:07:00\", \"open\": \"414.6500\", \"high\": \"414.6800\", \"low\": \"414.4300\", \"close\": \"414.6256\", \"volume\": \"89\"}</td></tr><tr><td>{\"symbol\": \"MSFT\", \"timestamp\": \"2024-10-08 19:06:00\", \"open\": \"414.5500\", \"high\": \"414.6500\", \"low\": \"414.4200\", \"close\": \"414.4200\", \"volume\": \"109\"}</td></tr><tr><td>{\"symbol\": \"MSFT\", \"timestamp\": \"2024-10-08 19:05:00\", \"open\": \"414.5500\", \"high\": \"414.6800\", \"low\": \"414.4200\", \"close\": \"414.5500\", \"volume\": \"69\"}</td></tr><tr><td>{\"symbol\": \"MSFT\", \"timestamp\": \"2024-10-08 19:04:00\", \"open\": \"414.5500\", \"high\": \"414.6400\", \"low\": \"414.5500\", \"close\": \"414.5800\", \"volume\": \"38\"}</td></tr><tr><td>{\"symbol\": \"MSFT\", \"timestamp\": \"2024-10-08 19:03:00\", \"open\": \"414.5500\", \"high\": \"414.6800\", \"low\": \"414.4200\", \"close\": \"414.5500\", \"volume\": \"9\"}</td></tr><tr><td>{\"symbol\": \"MSFT\", \"timestamp\": \"2024-10-08 19:02:00\", \"open\": \"414.5800\", \"high\": \"414.6800\", \"low\": \"414.4100\", \"close\": \"414.6800\", \"volume\": \"429\"}</td></tr><tr><td>{\"symbol\": \"MSFT\", \"timestamp\": \"2024-10-08 19:01:00\", \"open\": \"414.5800\", \"high\": \"414.5800\", \"low\": \"414.3800\", \"close\": \"414.5800\", \"volume\": \"41\"}</td></tr><tr><td>{\"symbol\": \"MSFT\", \"timestamp\": \"2024-10-08 19:00:00\", \"open\": \"414.6800\", \"high\": \"414.6800\", \"low\": \"414.4800\", \"close\": \"414.4800\", \"volume\": \"280\"}</td></tr><tr><td>{\"symbol\": \"MSFT\", \"timestamp\": \"2024-10-08 18:59:00\", \"open\": \"414.6300\", \"high\": \"414.6400\", \"low\": \"414.5800\", \"close\": \"414.6400\", \"volume\": \"35\"}</td></tr><tr><td>{\"symbol\": \"MSFT\", \"timestamp\": \"2024-10-08 18:58:00\", \"open\": \"414.6300\", \"high\": \"414.6300\", \"low\": \"414.5850\", \"close\": \"414.6000\", \"volume\": \"76\"}</td></tr><tr><td>{\"symbol\": \"MSFT\", \"timestamp\": \"2024-10-08 18:57:00\", \"open\": \"414.5300\", \"high\": \"414.6800\", \"low\": \"414.5000\", \"close\": \"414.5900\", \"volume\": \"167\"}</td></tr><tr><td>{\"symbol\": \"MSFT\", \"timestamp\": \"2024-10-08 18:56:00\", \"open\": \"414.6000\", \"high\": \"414.6400\", \"low\": \"414.5300\", \"close\": \"414.6400\", \"volume\": \"66\"}</td></tr><tr><td>{\"symbol\": \"MSFT\", \"timestamp\": \"2024-10-08 18:55:00\", \"open\": \"414.5300\", \"high\": \"414.6400\", \"low\": \"414.4200\", \"close\": \"414.5300\", \"volume\": \"17\"}</td></tr><tr><td>{\"symbol\": \"MSFT\", \"timestamp\": \"2024-10-08 18:54:00\", \"open\": \"414.3800\", \"high\": \"414.6800\", \"low\": \"414.3800\", \"close\": \"414.6400\", \"volume\": \"269\"}</td></tr><tr><td>{\"symbol\": \"MSFT\", \"timestamp\": \"2024-10-08 18:53:00\", \"open\": \"414.6400\", \"high\": \"414.6800\", \"low\": \"414.3800\", \"close\": \"414.5300\", \"volume\": \"88\"}</td></tr><tr><td>{\"symbol\": \"MSFT\", \"timestamp\": \"2024-10-08 18:52:00\", \"open\": \"414.5000\", \"high\": \"414.6800\", \"low\": \"414.5000\", \"close\": \"414.6800\", \"volume\": \"105\"}</td></tr><tr><td>{\"symbol\": \"MSFT\", \"timestamp\": \"2024-10-08 18:51:00\", \"open\": \"414.5400\", \"high\": \"414.6000\", \"low\": \"414.5400\", \"close\": \"414.6000\", \"volume\": \"49\"}</td></tr><tr><td>{\"symbol\": \"MSFT\", \"timestamp\": \"2024-10-08 18:50:00\", \"open\": \"414.7000\", \"high\": \"414.7000\", \"low\": \"414.3800\", \"close\": \"414.5400\", \"volume\": \"46\"}</td></tr><tr><td>{\"symbol\": \"MSFT\", \"timestamp\": \"2024-10-08 18:49:00\", \"open\": \"414.5400\", \"high\": \"414.6400\", \"low\": \"414.3800\", \"close\": \"414.6400\", \"volume\": \"1850\"}</td></tr><tr><td>{\"symbol\": \"MSFT\", \"timestamp\": \"2024-10-08 18:48:00\", \"open\": \"414.6500\", \"high\": \"414.7000\", \"low\": \"414.3800\", \"close\": \"414.3800\", \"volume\": \"170\"}</td></tr><tr><td>{\"symbol\": \"MSFT\", \"timestamp\": \"2024-10-08 18:47:00\", \"open\": \"414.6950\", \"high\": \"414.7000\", \"low\": \"414.5000\", \"close\": \"414.7000\", \"volume\": \"249\"}</td></tr><tr><td>{\"symbol\": \"MSFT\", \"timestamp\": \"2024-10-08 18:46:00\", \"open\": \"414.6000\", \"high\": \"414.7000\", \"low\": \"414.6000\", \"close\": \"414.6500\", \"volume\": \"19\"}</td></tr><tr><td>{\"symbol\": \"MSFT\", \"timestamp\": \"2024-10-08 18:45:00\", \"open\": \"414.5000\", \"high\": \"414.6900\", \"low\": \"414.5000\", \"close\": \"414.6600\", \"volume\": \"36\"}</td></tr><tr><td>{\"symbol\": \"MSFT\", \"timestamp\": \"2024-10-08 18:44:00\", \"open\": \"414.5600\", \"high\": \"414.6900\", \"low\": \"414.3800\", \"close\": \"414.5400\", \"volume\": \"8\"}</td></tr><tr><td>{\"symbol\": \"MSFT\", \"timestamp\": \"2024-10-08 18:43:00\", \"open\": \"414.5300\", \"high\": \"414.6800\", \"low\": \"414.5300\", \"close\": \"414.6800\", \"volume\": \"265\"}</td></tr><tr><td>{\"symbol\": \"MSFT\", \"timestamp\": \"2024-10-08 18:42:00\", \"open\": \"414.5400\", \"high\": \"414.6600\", \"low\": \"414.3800\", \"close\": \"414.4900\", \"volume\": \"21\"}</td></tr><tr><td>{\"symbol\": \"MSFT\", \"timestamp\": \"2024-10-08 18:41:00\", \"open\": \"414.3812\", \"high\": \"414.7000\", \"low\": \"414.3800\", \"close\": \"414.7000\", \"volume\": \"50\"}</td></tr><tr><td>{\"symbol\": \"MSFT\", \"timestamp\": \"2024-10-08 18:40:00\", \"open\": \"414.6700\", \"high\": \"414.7000\", \"low\": \"414.3800\", \"close\": \"414.6800\", \"volume\": \"309\"}</td></tr><tr><td>{\"symbol\": \"MSFT\", \"timestamp\": \"2024-10-08 18:39:00\", \"open\": \"414.5400\", \"high\": \"414.7000\", \"low\": \"414.5000\", \"close\": \"414.7000\", \"volume\": \"145\"}</td></tr><tr><td>{\"symbol\": \"MSFT\", \"timestamp\": \"2024-10-08 18:38:00\", \"open\": \"414.4500\", \"high\": \"414.6840\", \"low\": \"414.3800\", \"close\": \"414.5000\", \"volume\": \"141\"}</td></tr><tr><td>{\"symbol\": \"MSFT\", \"timestamp\": \"2024-10-08 18:37:00\", \"open\": \"414.3800\", \"high\": \"414.5400\", \"low\": \"414.3800\", \"close\": \"414.4100\", \"volume\": \"18\"}</td></tr><tr><td>{\"symbol\": \"MSFT\", \"timestamp\": \"2024-10-08 18:36:00\", \"open\": \"414.6000\", \"high\": \"414.6800\", \"low\": \"414.3960\", \"close\": \"414.6740\", \"volume\": \"95\"}</td></tr><tr><td>{\"symbol\": \"MSFT\", \"timestamp\": \"2024-10-08 18:35:00\", \"open\": \"414.3800\", \"high\": \"414.7000\", \"low\": \"414.3800\", \"close\": \"414.5000\", \"volume\": \"390\"}</td></tr><tr><td>{\"symbol\": \"MSFT\", \"timestamp\": \"2024-10-08 18:34:00\", \"open\": \"414.4600\", \"high\": \"414.7000\", \"low\": \"414.3800\", \"close\": \"414.6200\", \"volume\": \"2002\"}</td></tr><tr><td>{\"symbol\": \"MSFT\", \"timestamp\": \"2024-10-08 18:33:00\", \"open\": \"414.4650\", \"high\": \"414.4650\", \"low\": \"414.3800\", \"close\": \"414.3800\", \"volume\": \"36\"}</td></tr><tr><td>{\"symbol\": \"MSFT\", \"timestamp\": \"2024-10-08 18:32:00\", \"open\": \"414.6000\", \"high\": \"414.6000\", \"low\": \"414.4500\", \"close\": \"414.4500\", \"volume\": \"571\"}</td></tr><tr><td>{\"symbol\": \"MSFT\", \"timestamp\": \"2024-10-08 18:31:00\", \"open\": \"414.6000\", \"high\": \"414.6967\", \"low\": \"414.6000\", \"close\": \"414.6000\", \"volume\": \"117\"}</td></tr><tr><td>{\"symbol\": \"MSFT\", \"timestamp\": \"2024-10-08 18:30:00\", \"open\": \"414.6917\", \"high\": \"414.6917\", \"low\": \"414.5100\", \"close\": \"414.6000\", \"volume\": \"134\"}</td></tr><tr><td>{\"symbol\": \"MSFT\", \"timestamp\": \"2024-10-08 18:29:00\", \"open\": \"414.4500\", \"high\": \"414.6999\", \"low\": \"414.4500\", \"close\": \"414.5750\", \"volume\": \"284\"}</td></tr><tr><td>{\"symbol\": \"MSFT\", \"timestamp\": \"2024-10-08 18:28:00\", \"open\": \"414.6400\", \"high\": \"414.7100\", \"low\": \"414.5000\", \"close\": \"414.5000\", \"volume\": \"315\"}</td></tr><tr><td>{\"symbol\": \"MSFT\", \"timestamp\": \"2024-10-08 18:27:00\", \"open\": \"414.7100\", \"high\": \"414.7100\", \"low\": \"414.6300\", \"close\": \"414.6300\", \"volume\": \"166\"}</td></tr><tr><td>{\"symbol\": \"MSFT\", \"timestamp\": \"2024-10-08 18:26:00\", \"open\": \"414.6055\", \"high\": \"414.7100\", \"low\": \"414.6012\", \"close\": \"414.7100\", \"volume\": \"31\"}</td></tr><tr><td>{\"symbol\": \"MSFT\", \"timestamp\": \"2024-10-08 18:25:00\", \"open\": \"414.6800\", \"high\": \"414.7100\", \"low\": \"414.5600\", \"close\": \"414.7000\", \"volume\": \"69\"}</td></tr><tr><td>{\"symbol\": \"MSFT\", \"timestamp\": \"2024-10-08 18:24:00\", \"open\": \"414.7000\", \"high\": \"414.7100\", \"low\": \"414.5600\", \"close\": \"414.7100\", \"volume\": \"17\"}</td></tr><tr><td>{\"symbol\": \"MSFT\", \"timestamp\": \"2024-10-08 18:23:00\", \"open\": \"414.6050\", \"high\": \"414.7000\", \"low\": \"414.5900\", \"close\": \"414.6050\", \"volume\": \"49\"}</td></tr><tr><td>{\"symbol\": \"MSFT\", \"timestamp\": \"2024-10-08 18:22:00\", \"open\": \"414.5900\", \"high\": \"414.7100\", \"low\": \"414.5000\", \"close\": \"414.7100\", \"volume\": \"9\"}</td></tr><tr><td>{\"symbol\": \"MSFT\", \"timestamp\": \"2024-10-08 18:21:00\", \"open\": \"414.6000\", \"high\": \"414.6050\", \"low\": \"414.5500\", \"close\": \"414.6050\", \"volume\": \"7\"}</td></tr><tr><td>{\"symbol\": \"MSFT\", \"timestamp\": \"2024-10-08 18:20:00\", \"open\": \"414.7000\", \"high\": \"414.7100\", \"low\": \"414.5600\", \"close\": \"414.7100\", \"volume\": \"90598\"}</td></tr><tr><td>{\"symbol\": \"MSFT\", \"timestamp\": \"2024-10-08 19:59:00\", \"open\": \"414.6050\", \"high\": \"414.6799\", \"low\": \"414.5300\", \"close\": \"414.6500\", \"volume\": \"555\"}</td></tr><tr><td>{\"symbol\": \"MSFT\", \"timestamp\": \"2024-10-08 19:58:00\", \"open\": \"414.6000\", \"high\": \"414.6400\", \"low\": \"414.4100\", \"close\": \"414.6050\", \"volume\": \"360\"}</td></tr><tr><td>{\"symbol\": \"MSFT\", \"timestamp\": \"2024-10-08 19:57:00\", \"open\": \"414.5300\", \"high\": \"414.6788\", \"low\": \"414.5300\", \"close\": \"414.6000\", \"volume\": \"62\"}</td></tr><tr><td>{\"symbol\": \"MSFT\", \"timestamp\": \"2024-10-08 19:56:00\", \"open\": \"414.5100\", \"high\": \"414.6500\", \"low\": \"414.5000\", \"close\": \"414.5200\", \"volume\": \"232\"}</td></tr><tr><td>{\"symbol\": \"MSFT\", \"timestamp\": \"2024-10-08 19:55:00\", \"open\": \"414.5300\", \"high\": \"414.6500\", \"low\": \"414.4900\", \"close\": \"414.4900\", \"volume\": \"359\"}</td></tr><tr><td>{\"symbol\": \"MSFT\", \"timestamp\": \"2024-10-08 19:54:00\", \"open\": \"414.5300\", \"high\": \"414.5500\", \"low\": \"414.5000\", \"close\": \"414.5300\", \"volume\": \"66\"}</td></tr><tr><td>{\"symbol\": \"MSFT\", \"timestamp\": \"2024-10-08 19:53:00\", \"open\": \"414.5300\", \"high\": \"414.5300\", \"low\": \"414.4160\", \"close\": \"414.4160\", \"volume\": \"2\"}</td></tr><tr><td>{\"symbol\": \"MSFT\", \"timestamp\": \"2024-10-08 19:52:00\", \"open\": \"414.5300\", \"high\": \"414.6500\", \"low\": \"414.5300\", \"close\": \"414.6500\", \"volume\": \"22\"}</td></tr><tr><td>{\"symbol\": \"MSFT\", \"timestamp\": \"2024-10-08 19:51:00\", \"open\": \"414.6300\", \"high\": \"414.6500\", \"low\": \"414.5300\", \"close\": \"414.5300\", \"volume\": \"1187\"}</td></tr><tr><td>{\"symbol\": \"MSFT\", \"timestamp\": \"2024-10-08 19:50:00\", \"open\": \"414.6900\", \"high\": \"414.6900\", \"low\": \"414.5300\", \"close\": \"414.6500\", \"volume\": \"31\"}</td></tr><tr><td>{\"symbol\": \"MSFT\", \"timestamp\": \"2024-10-08 19:49:00\", \"open\": \"414.6100\", \"high\": \"414.6900\", \"low\": \"414.6000\", \"close\": \"414.6000\", \"volume\": \"42\"}</td></tr><tr><td>{\"symbol\": \"MSFT\", \"timestamp\": \"2024-10-08 19:48:00\", \"open\": \"414.5950\", \"high\": \"414.6820\", \"low\": \"414.5950\", \"close\": \"414.6100\", \"volume\": \"14\"}</td></tr><tr><td>{\"symbol\": \"MSFT\", \"timestamp\": \"2024-10-08 19:47:00\", \"open\": \"414.6800\", \"high\": \"414.6900\", \"low\": \"414.5001\", \"close\": \"414.5001\", \"volume\": \"29\"}</td></tr><tr><td>{\"symbol\": \"MSFT\", \"timestamp\": \"2024-10-08 19:46:00\", \"open\": \"414.5950\", \"high\": \"414.6805\", \"low\": \"414.5950\", \"close\": \"414.6000\", \"volume\": \"108\"}</td></tr><tr><td>{\"symbol\": \"MSFT\", \"timestamp\": \"2024-10-08 19:45:00\", \"open\": \"414.6900\", \"high\": \"414.6900\", \"low\": \"414.5095\", \"close\": \"414.6900\", \"volume\": \"654\"}</td></tr><tr><td>{\"symbol\": \"MSFT\", \"timestamp\": \"2024-10-08 19:44:00\", \"open\": \"414.6500\", \"high\": \"414.6900\", \"low\": \"414.5450\", \"close\": \"414.6900\", \"volume\": \"129\"}</td></tr><tr><td>{\"symbol\": \"MSFT\", \"timestamp\": \"2024-10-08 19:43:00\", \"open\": \"414.6100\", \"high\": \"414.6500\", \"low\": \"414.6100\", \"close\": \"414.6100\", \"volume\": \"256\"}</td></tr><tr><td>{\"symbol\": \"MSFT\", \"timestamp\": \"2024-10-08 19:42:00\", \"open\": \"414.6900\", \"high\": \"414.6900\", \"low\": \"414.6100\", \"close\": \"414.6100\", \"volume\": \"287\"}</td></tr><tr><td>{\"symbol\": \"MSFT\", \"timestamp\": \"2024-10-08 19:41:00\", \"open\": \"414.6894\", \"high\": \"414.6900\", \"low\": \"414.6000\", \"close\": \"414.6900\", \"volume\": \"101\"}</td></tr><tr><td>{\"symbol\": \"MSFT\", \"timestamp\": \"2024-10-08 19:40:00\", \"open\": \"414.6700\", \"high\": \"414.6700\", \"low\": \"414.6000\", \"close\": \"414.6000\", \"volume\": \"48\"}</td></tr><tr><td>{\"symbol\": \"MSFT\", \"timestamp\": \"2024-10-08 19:39:00\", \"open\": \"414.5700\", \"high\": \"414.6999\", \"low\": \"414.5700\", \"close\": \"414.6700\", \"volume\": \"511\"}</td></tr><tr><td>{\"symbol\": \"MSFT\", \"timestamp\": \"2024-10-08 19:38:00\", \"open\": \"414.5400\", \"high\": \"414.6688\", \"low\": \"414.4165\", \"close\": \"414.5400\", \"volume\": \"22\"}</td></tr><tr><td>{\"symbol\": \"MSFT\", \"timestamp\": \"2024-10-08 19:37:00\", \"open\": \"414.5350\", \"high\": \"414.6500\", \"low\": \"414.5350\", \"close\": \"414.5500\", \"volume\": \"24\"}</td></tr><tr><td>{\"symbol\": \"MSFT\", \"timestamp\": \"2024-10-08 19:36:00\", \"open\": \"414.5800\", \"high\": \"414.6550\", \"low\": \"414.5600\", \"close\": \"414.6550\", \"volume\": \"68\"}</td></tr><tr><td>{\"symbol\": \"MSFT\", \"timestamp\": \"2024-10-08 19:35:00\", \"open\": \"414.6000\", \"high\": \"414.6700\", \"low\": \"414.3800\", \"close\": \"414.5400\", \"volume\": \"106\"}</td></tr><tr><td>{\"symbol\": \"MSFT\", \"timestamp\": \"2024-10-08 19:34:00\", \"open\": \"414.3900\", \"high\": \"414.6000\", \"low\": \"414.3900\", \"close\": \"414.6000\", \"volume\": \"233\"}</td></tr><tr><td>{\"symbol\": \"MSFT\", \"timestamp\": \"2024-10-08 19:33:00\", \"open\": \"414.4850\", \"high\": \"414.5900\", \"low\": \"414.4850\", \"close\": \"414.5900\", \"volume\": \"176\"}</td></tr><tr><td>{\"symbol\": \"MSFT\", \"timestamp\": \"2024-10-08 19:32:00\", \"open\": \"414.4600\", \"high\": \"414.5900\", \"low\": \"414.4600\", \"close\": \"414.5900\", \"volume\": \"771\"}</td></tr><tr><td>{\"symbol\": \"MSFT\", \"timestamp\": \"2024-10-08 19:31:00\", \"open\": \"414.5700\", \"high\": \"414.5700\", \"low\": \"414.3900\", \"close\": \"414.4800\", \"volume\": \"47\"}</td></tr><tr><td>{\"symbol\": \"MSFT\", \"timestamp\": \"2024-10-08 19:30:00\", \"open\": \"414.3963\", \"high\": \"414.5800\", \"low\": \"414.3800\", \"close\": \"414.5800\", \"volume\": \"242\"}</td></tr><tr><td>{\"symbol\": \"MSFT\", \"timestamp\": \"2024-10-08 19:29:00\", \"open\": \"414.5600\", \"high\": \"414.5600\", \"low\": \"414.4200\", \"close\": \"414.4200\", \"volume\": \"60\"}</td></tr><tr><td>{\"symbol\": \"MSFT\", \"timestamp\": \"2024-10-08 19:28:00\", \"open\": \"414.4800\", \"high\": \"414.5800\", \"low\": \"414.4100\", \"close\": \"414.4850\", \"volume\": \"207\"}</td></tr><tr><td>{\"symbol\": \"MSFT\", \"timestamp\": \"2024-10-08 19:27:00\", \"open\": \"414.4900\", \"high\": \"414.5781\", \"low\": \"414.4800\", \"close\": \"414.4800\", \"volume\": \"245\"}</td></tr><tr><td>{\"symbol\": \"MSFT\", \"timestamp\": \"2024-10-08 19:26:00\", \"open\": \"414.5000\", \"high\": \"414.5600\", \"low\": \"414.4900\", \"close\": \"414.4900\", \"volume\": \"24\"}</td></tr><tr><td>{\"symbol\": \"MSFT\", \"timestamp\": \"2024-10-08 19:25:00\", \"open\": \"414.4800\", \"high\": \"414.5700\", \"low\": \"414.4800\", \"close\": \"414.5000\", \"volume\": \"107\"}</td></tr><tr><td>{\"symbol\": \"MSFT\", \"timestamp\": \"2024-10-08 19:24:00\", \"open\": \"414.3800\", \"high\": \"414.5300\", \"low\": \"414.3800\", \"close\": \"414.4800\", \"volume\": \"5\"}</td></tr><tr><td>{\"symbol\": \"MSFT\", \"timestamp\": \"2024-10-08 19:23:00\", \"open\": \"414.4850\", \"high\": \"414.5900\", \"low\": \"414.3852\", \"close\": \"414.4800\", \"volume\": \"59\"}</td></tr><tr><td>{\"symbol\": \"MSFT\", \"timestamp\": \"2024-10-08 19:22:00\", \"open\": \"414.5200\", \"high\": \"414.5900\", \"low\": \"414.3800\", \"close\": \"414.3800\", \"volume\": \"329\"}</td></tr><tr><td>{\"symbol\": \"MSFT\", \"timestamp\": \"2024-10-08 19:21:00\", \"open\": \"414.4500\", \"high\": \"414.4850\", \"low\": \"414.4000\", \"close\": \"414.4100\", \"volume\": \"102\"}</td></tr><tr><td>{\"symbol\": \"MSFT\", \"timestamp\": \"2024-10-08 19:20:00\", \"open\": \"414.4650\", \"high\": \"414.5900\", \"low\": \"414.4650\", \"close\": \"414.5900\", \"volume\": \"7\"}</td></tr><tr><td>{\"symbol\": \"MSFT\", \"timestamp\": \"2024-10-08 19:19:00\", \"open\": \"414.5200\", \"high\": \"414.5300\", \"low\": \"414.4650\", \"close\": \"414.4650\", \"volume\": \"7\"}</td></tr><tr><td>{\"symbol\": \"MSFT\", \"timestamp\": \"2024-10-08 19:18:00\", \"open\": \"414.5800\", \"high\": \"414.5900\", \"low\": \"414.4300\", \"close\": \"414.4300\", \"volume\": \"54\"}</td></tr><tr><td>{\"symbol\": \"MSFT\", \"timestamp\": \"2024-10-08 19:17:00\", \"open\": \"414.3920\", \"high\": \"414.5899\", \"low\": \"414.3920\", \"close\": \"414.4850\", \"volume\": \"188\"}</td></tr><tr><td>{\"symbol\": \"MSFT\", \"timestamp\": \"2024-10-08 19:16:00\", \"open\": \"414.5500\", \"high\": \"414.5800\", \"low\": \"414.3900\", \"close\": \"414.3900\", \"volume\": \"12\"}</td></tr><tr><td>{\"symbol\": \"MSFT\", \"timestamp\": \"2024-10-08 19:15:00\", \"open\": \"414.5900\", \"high\": \"414.5900\", \"low\": \"414.3800\", \"close\": \"414.5800\", \"volume\": \"38\"}</td></tr><tr><td>{\"symbol\": \"MSFT\", \"timestamp\": \"2024-10-08 19:14:00\", \"open\": \"414.4850\", \"high\": \"414.5800\", \"low\": \"414.3800\", \"close\": \"414.3900\", \"volume\": \"2687\"}</td></tr><tr><td>{\"symbol\": \"MSFT\", \"timestamp\": \"2024-10-08 19:13:00\", \"open\": \"414.4100\", \"high\": \"414.5899\", \"low\": \"414.4100\", \"close\": \"414.5800\", \"volume\": \"131\"}</td></tr><tr><td>{\"symbol\": \"MSFT\", \"timestamp\": \"2024-10-08 19:12:00\", \"open\": \"414.5000\", \"high\": \"414.5888\", \"low\": \"414.3800\", \"close\": \"414.4900\", \"volume\": \"87\"}</td></tr><tr><td>{\"symbol\": \"MSFT\", \"timestamp\": \"2024-10-08 19:11:00\", \"open\": \"414.4500\", \"high\": \"414.6000\", \"low\": \"414.3800\", \"close\": \"414.4800\", \"volume\": \"414\"}</td></tr><tr><td>{\"symbol\": \"MSFT\", \"timestamp\": \"2024-10-08 19:10:00\", \"open\": \"414.5900\", \"high\": \"414.6000\", \"low\": \"414.5000\", \"close\": \"414.5000\", \"volume\": \"569\"}</td></tr><tr><td>{\"symbol\": \"MSFT\", \"timestamp\": \"2024-10-08 19:09:00\", \"open\": \"414.5900\", \"high\": \"414.5900\", \"low\": \"414.5000\", \"close\": \"414.5100\", \"volume\": \"18\"}</td></tr><tr><td>{\"symbol\": \"MSFT\", \"timestamp\": \"2024-10-08 19:08:00\", \"open\": \"414.5500\", \"high\": \"414.6788\", \"low\": \"414.5000\", \"close\": \"414.5000\", \"volume\": \"11\"}</td></tr><tr><td>{\"symbol\": \"MSFT\", \"timestamp\": \"2024-10-08 19:07:00\", \"open\": \"414.6500\", \"high\": \"414.6800\", \"low\": \"414.4300\", \"close\": \"414.6256\", \"volume\": \"89\"}</td></tr><tr><td>{\"symbol\": \"MSFT\", \"timestamp\": \"2024-10-08 19:06:00\", \"open\": \"414.5500\", \"high\": \"414.6500\", \"low\": \"414.4200\", \"close\": \"414.4200\", \"volume\": \"109\"}</td></tr><tr><td>{\"symbol\": \"MSFT\", \"timestamp\": \"2024-10-08 19:05:00\", \"open\": \"414.5500\", \"high\": \"414.6800\", \"low\": \"414.4200\", \"close\": \"414.5500\", \"volume\": \"69\"}</td></tr><tr><td>{\"symbol\": \"MSFT\", \"timestamp\": \"2024-10-08 19:04:00\", \"open\": \"414.5500\", \"high\": \"414.6400\", \"low\": \"414.5500\", \"close\": \"414.5800\", \"volume\": \"38\"}</td></tr><tr><td>{\"symbol\": \"MSFT\", \"timestamp\": \"2024-10-08 19:03:00\", \"open\": \"414.5500\", \"high\": \"414.6800\", \"low\": \"414.4200\", \"close\": \"414.5500\", \"volume\": \"9\"}</td></tr><tr><td>{\"symbol\": \"MSFT\", \"timestamp\": \"2024-10-08 19:02:00\", \"open\": \"414.5800\", \"high\": \"414.6800\", \"low\": \"414.4100\", \"close\": \"414.6800\", \"volume\": \"429\"}</td></tr><tr><td>{\"symbol\": \"MSFT\", \"timestamp\": \"2024-10-08 19:01:00\", \"open\": \"414.5800\", \"high\": \"414.5800\", \"low\": \"414.3800\", \"close\": \"414.5800\", \"volume\": \"41\"}</td></tr><tr><td>{\"symbol\": \"MSFT\", \"timestamp\": \"2024-10-08 19:00:00\", \"open\": \"414.6800\", \"high\": \"414.6800\", \"low\": \"414.4800\", \"close\": \"414.4800\", \"volume\": \"280\"}</td></tr><tr><td>{\"symbol\": \"MSFT\", \"timestamp\": \"2024-10-08 18:59:00\", \"open\": \"414.6300\", \"high\": \"414.6400\", \"low\": \"414.5800\", \"close\": \"414.6400\", \"volume\": \"35\"}</td></tr><tr><td>{\"symbol\": \"MSFT\", \"timestamp\": \"2024-10-08 18:58:00\", \"open\": \"414.6300\", \"high\": \"414.6300\", \"low\": \"414.5850\", \"close\": \"414.6000\", \"volume\": \"76\"}</td></tr><tr><td>{\"symbol\": \"MSFT\", \"timestamp\": \"2024-10-08 18:57:00\", \"open\": \"414.5300\", \"high\": \"414.6800\", \"low\": \"414.5000\", \"close\": \"414.5900\", \"volume\": \"167\"}</td></tr><tr><td>{\"symbol\": \"MSFT\", \"timestamp\": \"2024-10-08 18:56:00\", \"open\": \"414.6000\", \"high\": \"414.6400\", \"low\": \"414.5300\", \"close\": \"414.6400\", \"volume\": \"66\"}</td></tr><tr><td>{\"symbol\": \"MSFT\", \"timestamp\": \"2024-10-08 18:55:00\", \"open\": \"414.5300\", \"high\": \"414.6400\", \"low\": \"414.4200\", \"close\": \"414.5300\", \"volume\": \"17\"}</td></tr><tr><td>{\"symbol\": \"MSFT\", \"timestamp\": \"2024-10-08 18:54:00\", \"open\": \"414.3800\", \"high\": \"414.6800\", \"low\": \"414.3800\", \"close\": \"414.6400\", \"volume\": \"269\"}</td></tr><tr><td>{\"symbol\": \"MSFT\", \"timestamp\": \"2024-10-08 18:53:00\", \"open\": \"414.6400\", \"high\": \"414.6800\", \"low\": \"414.3800\", \"close\": \"414.5300\", \"volume\": \"88\"}</td></tr><tr><td>{\"symbol\": \"MSFT\", \"timestamp\": \"2024-10-08 18:52:00\", \"open\": \"414.5000\", \"high\": \"414.6800\", \"low\": \"414.5000\", \"close\": \"414.6800\", \"volume\": \"105\"}</td></tr><tr><td>{\"symbol\": \"MSFT\", \"timestamp\": \"2024-10-08 18:51:00\", \"open\": \"414.5400\", \"high\": \"414.6000\", \"low\": \"414.5400\", \"close\": \"414.6000\", \"volume\": \"49\"}</td></tr><tr><td>{\"symbol\": \"MSFT\", \"timestamp\": \"2024-10-08 18:50:00\", \"open\": \"414.7000\", \"high\": \"414.7000\", \"low\": \"414.3800\", \"close\": \"414.5400\", \"volume\": \"46\"}</td></tr><tr><td>{\"symbol\": \"MSFT\", \"timestamp\": \"2024-10-08 18:49:00\", \"open\": \"414.5400\", \"high\": \"414.6400\", \"low\": \"414.3800\", \"close\": \"414.6400\", \"volume\": \"1850\"}</td></tr><tr><td>{\"symbol\": \"MSFT\", \"timestamp\": \"2024-10-08 18:48:00\", \"open\": \"414.6500\", \"high\": \"414.7000\", \"low\": \"414.3800\", \"close\": \"414.3800\", \"volume\": \"170\"}</td></tr><tr><td>{\"symbol\": \"MSFT\", \"timestamp\": \"2024-10-08 18:47:00\", \"open\": \"414.6950\", \"high\": \"414.7000\", \"low\": \"414.5000\", \"close\": \"414.7000\", \"volume\": \"249\"}</td></tr><tr><td>{\"symbol\": \"MSFT\", \"timestamp\": \"2024-10-08 18:46:00\", \"open\": \"414.6000\", \"high\": \"414.7000\", \"low\": \"414.6000\", \"close\": \"414.6500\", \"volume\": \"19\"}</td></tr><tr><td>{\"symbol\": \"MSFT\", \"timestamp\": \"2024-10-08 18:45:00\", \"open\": \"414.5000\", \"high\": \"414.6900\", \"low\": \"414.5000\", \"close\": \"414.6600\", \"volume\": \"36\"}</td></tr><tr><td>{\"symbol\": \"MSFT\", \"timestamp\": \"2024-10-08 18:44:00\", \"open\": \"414.5600\", \"high\": \"414.6900\", \"low\": \"414.3800\", \"close\": \"414.5400\", \"volume\": \"8\"}</td></tr><tr><td>{\"symbol\": \"MSFT\", \"timestamp\": \"2024-10-08 18:43:00\", \"open\": \"414.5300\", \"high\": \"414.6800\", \"low\": \"414.5300\", \"close\": \"414.6800\", \"volume\": \"265\"}</td></tr><tr><td>{\"symbol\": \"MSFT\", \"timestamp\": \"2024-10-08 18:42:00\", \"open\": \"414.5400\", \"high\": \"414.6600\", \"low\": \"414.3800\", \"close\": \"414.4900\", \"volume\": \"21\"}</td></tr><tr><td>{\"symbol\": \"MSFT\", \"timestamp\": \"2024-10-08 18:41:00\", \"open\": \"414.3812\", \"high\": \"414.7000\", \"low\": \"414.3800\", \"close\": \"414.7000\", \"volume\": \"50\"}</td></tr><tr><td>{\"symbol\": \"MSFT\", \"timestamp\": \"2024-10-08 18:40:00\", \"open\": \"414.6700\", \"high\": \"414.7000\", \"low\": \"414.3800\", \"close\": \"414.6800\", \"volume\": \"309\"}</td></tr><tr><td>{\"symbol\": \"MSFT\", \"timestamp\": \"2024-10-08 18:39:00\", \"open\": \"414.5400\", \"high\": \"414.7000\", \"low\": \"414.5000\", \"close\": \"414.7000\", \"volume\": \"145\"}</td></tr><tr><td>{\"symbol\": \"MSFT\", \"timestamp\": \"2024-10-08 18:38:00\", \"open\": \"414.4500\", \"high\": \"414.6840\", \"low\": \"414.3800\", \"close\": \"414.5000\", \"volume\": \"141\"}</td></tr><tr><td>{\"symbol\": \"MSFT\", \"timestamp\": \"2024-10-08 18:37:00\", \"open\": \"414.3800\", \"high\": \"414.5400\", \"low\": \"414.3800\", \"close\": \"414.4100\", \"volume\": \"18\"}</td></tr><tr><td>{\"symbol\": \"MSFT\", \"timestamp\": \"2024-10-08 18:36:00\", \"open\": \"414.6000\", \"high\": \"414.6800\", \"low\": \"414.3960\", \"close\": \"414.6740\", \"volume\": \"95\"}</td></tr><tr><td>{\"symbol\": \"MSFT\", \"timestamp\": \"2024-10-08 18:35:00\", \"open\": \"414.3800\", \"high\": \"414.7000\", \"low\": \"414.3800\", \"close\": \"414.5000\", \"volume\": \"390\"}</td></tr><tr><td>{\"symbol\": \"MSFT\", \"timestamp\": \"2024-10-08 18:34:00\", \"open\": \"414.4600\", \"high\": \"414.7000\", \"low\": \"414.3800\", \"close\": \"414.6200\", \"volume\": \"2002\"}</td></tr><tr><td>{\"symbol\": \"MSFT\", \"timestamp\": \"2024-10-08 18:33:00\", \"open\": \"414.4650\", \"high\": \"414.4650\", \"low\": \"414.3800\", \"close\": \"414.3800\", \"volume\": \"36\"}</td></tr><tr><td>{\"symbol\": \"MSFT\", \"timestamp\": \"2024-10-08 18:32:00\", \"open\": \"414.6000\", \"high\": \"414.6000\", \"low\": \"414.4500\", \"close\": \"414.4500\", \"volume\": \"571\"}</td></tr><tr><td>{\"symbol\": \"MSFT\", \"timestamp\": \"2024-10-08 18:31:00\", \"open\": \"414.6000\", \"high\": \"414.6967\", \"low\": \"414.6000\", \"close\": \"414.6000\", \"volume\": \"117\"}</td></tr><tr><td>{\"symbol\": \"MSFT\", \"timestamp\": \"2024-10-08 18:30:00\", \"open\": \"414.6917\", \"high\": \"414.6917\", \"low\": \"414.5100\", \"close\": \"414.6000\", \"volume\": \"134\"}</td></tr><tr><td>{\"symbol\": \"MSFT\", \"timestamp\": \"2024-10-08 18:29:00\", \"open\": \"414.4500\", \"high\": \"414.6999\", \"low\": \"414.4500\", \"close\": \"414.5750\", \"volume\": \"284\"}</td></tr><tr><td>{\"symbol\": \"MSFT\", \"timestamp\": \"2024-10-08 18:28:00\", \"open\": \"414.6400\", \"high\": \"414.7100\", \"low\": \"414.5000\", \"close\": \"414.5000\", \"volume\": \"315\"}</td></tr><tr><td>{\"symbol\": \"MSFT\", \"timestamp\": \"2024-10-08 18:27:00\", \"open\": \"414.7100\", \"high\": \"414.7100\", \"low\": \"414.6300\", \"close\": \"414.6300\", \"volume\": \"166\"}</td></tr><tr><td>{\"symbol\": \"MSFT\", \"timestamp\": \"2024-10-08 18:26:00\", \"open\": \"414.6055\", \"high\": \"414.7100\", \"low\": \"414.6012\", \"close\": \"414.7100\", \"volume\": \"31\"}</td></tr><tr><td>{\"symbol\": \"MSFT\", \"timestamp\": \"2024-10-08 18:25:00\", \"open\": \"414.6800\", \"high\": \"414.7100\", \"low\": \"414.5600\", \"close\": \"414.7000\", \"volume\": \"69\"}</td></tr><tr><td>{\"symbol\": \"MSFT\", \"timestamp\": \"2024-10-08 18:24:00\", \"open\": \"414.7000\", \"high\": \"414.7100\", \"low\": \"414.5600\", \"close\": \"414.7100\", \"volume\": \"17\"}</td></tr><tr><td>{\"symbol\": \"MSFT\", \"timestamp\": \"2024-10-08 18:23:00\", \"open\": \"414.6050\", \"high\": \"414.7000\", \"low\": \"414.5900\", \"close\": \"414.6050\", \"volume\": \"49\"}</td></tr><tr><td>{\"symbol\": \"MSFT\", \"timestamp\": \"2024-10-08 18:22:00\", \"open\": \"414.5900\", \"high\": \"414.7100\", \"low\": \"414.5000\", \"close\": \"414.7100\", \"volume\": \"9\"}</td></tr><tr><td>{\"symbol\": \"MSFT\", \"timestamp\": \"2024-10-08 18:21:00\", \"open\": \"414.6000\", \"high\": \"414.6050\", \"low\": \"414.5500\", \"close\": \"414.6050\", \"volume\": \"7\"}</td></tr><tr><td>{\"symbol\": \"MSFT\", \"timestamp\": \"2024-10-08 18:20:00\", \"open\": \"414.7000\", \"high\": \"414.7100\", \"low\": \"414.5600\", \"close\": \"414.7100\", \"volume\": \"90598\"}</td></tr><tr><td>{\"symbol\": \"AAPL\", \"timestamp\": \"2024-10-08 19:59:00\", \"open\": \"225.3000\", \"high\": \"225.3000\", \"low\": \"225.2212\", \"close\": \"225.2212\", \"volume\": \"1577\"}</td></tr><tr><td>{\"symbol\": \"AAPL\", \"timestamp\": \"2024-10-08 19:58:00\", \"open\": \"225.3000\", \"high\": \"225.3000\", \"low\": \"225.2700\", \"close\": \"225.2900\", \"volume\": \"359\"}</td></tr><tr><td>{\"symbol\": \"AAPL\", \"timestamp\": \"2024-10-08 19:57:00\", \"open\": \"225.2600\", \"high\": \"225.3100\", \"low\": \"225.2600\", \"close\": \"225.3000\", \"volume\": \"65\"}</td></tr><tr><td>{\"symbol\": \"AAPL\", \"timestamp\": \"2024-10-08 19:56:00\", \"open\": \"225.3050\", \"high\": \"225.3588\", \"low\": \"225.2600\", \"close\": \"225.3588\", \"volume\": \"239\"}</td></tr><tr><td>{\"symbol\": \"AAPL\", \"timestamp\": \"2024-10-08 19:55:00\", \"open\": \"225.2525\", \"high\": \"225.4875\", \"low\": \"225.2500\", \"close\": \"225.3000\", \"volume\": \"160\"}</td></tr><tr><td>{\"symbol\": \"AAPL\", \"timestamp\": \"2024-10-08 19:54:00\", \"open\": \"225.3488\", \"high\": \"225.3488\", \"low\": \"225.2500\", \"close\": \"225.3000\", \"volume\": \"10\"}</td></tr><tr><td>{\"symbol\": \"AAPL\", \"timestamp\": \"2024-10-08 19:53:00\", \"open\": \"225.4580\", \"high\": \"225.4580\", \"low\": \"225.2360\", \"close\": \"225.3200\", \"volume\": \"169\"}</td></tr><tr><td>{\"symbol\": \"AAPL\", \"timestamp\": \"2024-10-08 19:52:00\", \"open\": \"225.3500\", \"high\": \"225.3500\", \"low\": \"225.3200\", \"close\": \"225.3500\", \"volume\": \"44\"}</td></tr><tr><td>{\"symbol\": \"AAPL\", \"timestamp\": \"2024-10-08 19:51:00\", \"open\": \"225.2400\", \"high\": \"225.3000\", \"low\": \"225.2400\", \"close\": \"225.3000\", \"volume\": \"283\"}</td></tr><tr><td>{\"symbol\": \"AAPL\", \"timestamp\": \"2024-10-08 19:50:00\", \"open\": \"225.2950\", \"high\": \"225.2950\", \"low\": \"225.2300\", \"close\": \"225.2300\", \"volume\": \"15\"}</td></tr><tr><td>{\"symbol\": \"AAPL\", \"timestamp\": \"2024-10-08 19:49:00\", \"open\": \"225.2400\", \"high\": \"225.2950\", \"low\": \"225.2300\", \"close\": \"225.2700\", \"volume\": \"36\"}</td></tr><tr><td>{\"symbol\": \"AAPL\", \"timestamp\": \"2024-10-08 19:48:00\", \"open\": \"225.2950\", \"high\": \"225.3535\", \"low\": \"225.2300\", \"close\": \"225.2950\", \"volume\": \"169\"}</td></tr><tr><td>{\"symbol\": \"AAPL\", \"timestamp\": \"2024-10-08 19:47:00\", \"open\": \"225.2950\", \"high\": \"225.2950\", \"low\": \"225.2300\", \"close\": \"225.2300\", \"volume\": \"504\"}</td></tr><tr><td>{\"symbol\": \"AAPL\", \"timestamp\": \"2024-10-08 19:46:00\", \"open\": \"225.2200\", \"high\": \"225.3600\", \"low\": \"225.2200\", \"close\": \"225.2900\", \"volume\": \"94\"}</td></tr><tr><td>{\"symbol\": \"AAPL\", \"timestamp\": \"2024-10-08 19:45:00\", \"open\": \"225.3600\", \"high\": \"225.3600\", \"low\": \"225.2200\", \"close\": \"225.2900\", \"volume\": \"11\"}</td></tr><tr><td>{\"symbol\": \"AAPL\", \"timestamp\": \"2024-10-08 19:44:00\", \"open\": \"225.3800\", \"high\": \"225.3800\", \"low\": \"225.2200\", \"close\": \"225.3000\", \"volume\": \"193\"}</td></tr><tr><td>{\"symbol\": \"AAPL\", \"timestamp\": \"2024-10-08 19:43:00\", \"open\": \"225.3800\", \"high\": \"225.5100\", \"low\": \"225.2500\", \"close\": \"225.5100\", \"volume\": \"104\"}</td></tr><tr><td>{\"symbol\": \"AAPL\", \"timestamp\": \"2024-10-08 19:42:00\", \"open\": \"225.3700\", \"high\": \"225.3700\", \"low\": \"225.3700\", \"close\": \"225.3700\", \"volume\": \"1\"}</td></tr><tr><td>{\"symbol\": \"AAPL\", \"timestamp\": \"2024-10-08 19:41:00\", \"open\": \"225.2267\", \"high\": \"225.5100\", \"low\": \"225.2267\", \"close\": \"225.3700\", \"volume\": \"11\"}</td></tr><tr><td>{\"symbol\": \"AAPL\", \"timestamp\": \"2024-10-08 19:40:00\", \"open\": \"225.2200\", \"high\": \"225.4479\", \"low\": \"225.2200\", \"close\": \"225.2300\", \"volume\": \"221\"}</td></tr><tr><td>{\"symbol\": \"AAPL\", \"timestamp\": \"2024-10-08 19:39:00\", \"open\": \"225.2200\", \"high\": \"225.3600\", \"low\": \"225.2200\", \"close\": \"225.3600\", \"volume\": \"27\"}</td></tr><tr><td>{\"symbol\": \"AAPL\", \"timestamp\": \"2024-10-08 19:38:00\", \"open\": \"225.2600\", \"high\": \"225.5000\", \"low\": \"225.2200\", \"close\": \"225.4860\", \"volume\": \"77\"}</td></tr><tr><td>{\"symbol\": \"AAPL\", \"timestamp\": \"2024-10-08 19:37:00\", \"open\": \"225.2600\", \"high\": \"225.2600\", \"low\": \"225.2200\", \"close\": \"225.2300\", \"volume\": \"874\"}</td></tr><tr><td>{\"symbol\": \"AAPL\", \"timestamp\": \"2024-10-08 19:36:00\", \"open\": \"225.2200\", \"high\": \"225.2500\", \"low\": \"225.2200\", \"close\": \"225.2400\", \"volume\": \"150\"}</td></tr><tr><td>{\"symbol\": \"AAPL\", \"timestamp\": \"2024-10-08 19:35:00\", \"open\": \"225.2200\", \"high\": \"225.2500\", \"low\": \"225.2200\", \"close\": \"225.2350\", \"volume\": \"75\"}</td></tr><tr><td>{\"symbol\": \"AAPL\", \"timestamp\": \"2024-10-08 19:34:00\", \"open\": \"225.2600\", \"high\": \"225.2600\", \"low\": \"225.2200\", \"close\": \"225.2350\", \"volume\": \"1022\"}</td></tr><tr><td>{\"symbol\": \"AAPL\", \"timestamp\": \"2024-10-08 19:33:00\", \"open\": \"225.2500\", \"high\": \"225.2600\", \"low\": \"225.2200\", \"close\": \"225.2400\", \"volume\": \"1619\"}</td></tr><tr><td>{\"symbol\": \"AAPL\", \"timestamp\": \"2024-10-08 19:32:00\", \"open\": \"225.2850\", \"high\": \"225.3100\", \"low\": \"225.2500\", \"close\": \"225.2500\", \"volume\": \"419\"}</td></tr><tr><td>{\"symbol\": \"AAPL\", \"timestamp\": \"2024-10-08 19:31:00\", \"open\": \"225.3200\", \"high\": \"225.3200\", \"low\": \"225.3200\", \"close\": \"225.3200\", \"volume\": \"1\"}</td></tr><tr><td>{\"symbol\": \"AAPL\", \"timestamp\": \"2024-10-08 19:30:00\", \"open\": \"225.3400\", \"high\": \"225.3800\", \"low\": \"225.2500\", \"close\": \"225.2500\", \"volume\": \"321\"}</td></tr><tr><td>{\"symbol\": \"AAPL\", \"timestamp\": \"2024-10-08 19:29:00\", \"open\": \"225.3000\", \"high\": \"225.3600\", \"low\": \"225.2500\", \"close\": \"225.3400\", \"volume\": \"51\"}</td></tr><tr><td>{\"symbol\": \"AAPL\", \"timestamp\": \"2024-10-08 19:28:00\", \"open\": \"225.4000\", \"high\": \"225.4000\", \"low\": \"225.2500\", \"close\": \"225.2513\", \"volume\": \"338\"}</td></tr><tr><td>{\"symbol\": \"AAPL\", \"timestamp\": \"2024-10-08 19:27:00\", \"open\": \"225.3750\", \"high\": \"225.3900\", \"low\": \"225.3500\", \"close\": \"225.3500\", \"volume\": \"233\"}</td></tr><tr><td>{\"symbol\": \"AAPL\", \"timestamp\": \"2024-10-08 19:26:00\", \"open\": \"225.4500\", \"high\": \"225.4500\", \"low\": \"225.3500\", \"close\": \"225.3500\", \"volume\": \"34\"}</td></tr><tr><td>{\"symbol\": \"AAPL\", \"timestamp\": \"2024-10-08 19:25:00\", \"open\": \"225.3500\", \"high\": \"225.4280\", \"low\": \"225.3500\", \"close\": \"225.4000\", \"volume\": \"113\"}</td></tr><tr><td>{\"symbol\": \"AAPL\", \"timestamp\": \"2024-10-08 19:24:00\", \"open\": \"225.4250\", \"high\": \"225.4300\", \"low\": \"225.3500\", \"close\": \"225.4000\", \"volume\": \"397\"}</td></tr><tr><td>{\"symbol\": \"AAPL\", \"timestamp\": \"2024-10-08 19:23:00\", \"open\": \"225.4500\", \"high\": \"225.4500\", \"low\": \"225.4000\", \"close\": \"225.4250\", \"volume\": \"56\"}</td></tr><tr><td>{\"symbol\": \"AAPL\", \"timestamp\": \"2024-10-08 19:22:00\", \"open\": \"225.4250\", \"high\": \"225.4250\", \"low\": \"225.4000\", \"close\": \"225.4000\", \"volume\": \"62\"}</td></tr><tr><td>{\"symbol\": \"AAPL\", \"timestamp\": \"2024-10-08 19:21:00\", \"open\": \"225.4300\", \"high\": \"225.4300\", \"low\": \"225.4000\", \"close\": \"225.4250\", \"volume\": \"539\"}</td></tr><tr><td>{\"symbol\": \"AAPL\", \"timestamp\": \"2024-10-08 19:20:00\", \"open\": \"225.4000\", \"high\": \"225.4300\", \"low\": \"225.4000\", \"close\": \"225.4300\", \"volume\": \"18\"}</td></tr><tr><td>{\"symbol\": \"AAPL\", \"timestamp\": \"2024-10-08 19:19:00\", \"open\": \"225.4000\", \"high\": \"225.4300\", \"low\": \"225.4000\", \"close\": \"225.4300\", \"volume\": \"8\"}</td></tr><tr><td>{\"symbol\": \"AAPL\", \"timestamp\": \"2024-10-08 19:18:00\", \"open\": \"225.4300\", \"high\": \"225.4300\", \"low\": \"225.4000\", \"close\": \"225.4000\", \"volume\": \"12\"}</td></tr><tr><td>{\"symbol\": \"AAPL\", \"timestamp\": \"2024-10-08 19:17:00\", \"open\": \"225.4500\", \"high\": \"225.4500\", \"low\": \"225.4000\", \"close\": \"225.4250\", \"volume\": \"8\"}</td></tr><tr><td>{\"symbol\": \"AAPL\", \"timestamp\": \"2024-10-08 19:16:00\", \"open\": \"225.4550\", \"high\": \"225.4550\", \"low\": \"225.4000\", \"close\": \"225.4500\", \"volume\": \"179\"}</td></tr><tr><td>{\"symbol\": \"AAPL\", \"timestamp\": \"2024-10-08 19:15:00\", \"open\": \"225.4492\", \"high\": \"225.4500\", \"low\": \"225.4250\", \"close\": \"225.4500\", \"volume\": \"304\"}</td></tr><tr><td>{\"symbol\": \"AAPL\", \"timestamp\": \"2024-10-08 19:14:00\", \"open\": \"225.4200\", \"high\": \"225.4488\", \"low\": \"225.4000\", \"close\": \"225.4250\", \"volume\": \"16\"}</td></tr><tr><td>{\"symbol\": \"AAPL\", \"timestamp\": \"2024-10-08 19:13:00\", \"open\": \"225.4550\", \"high\": \"225.4550\", \"low\": \"225.4025\", \"close\": \"225.4500\", \"volume\": \"43\"}</td></tr><tr><td>{\"symbol\": \"AAPL\", \"timestamp\": \"2024-10-08 19:12:00\", \"open\": \"225.4550\", \"high\": \"225.5100\", \"low\": \"225.4000\", \"close\": \"225.5000\", \"volume\": \"116\"}</td></tr><tr><td>{\"symbol\": \"AAPL\", \"timestamp\": \"2024-10-08 19:11:00\", \"open\": \"225.4650\", \"high\": \"225.4650\", \"low\": \"225.4650\", \"close\": \"225.4650\", \"volume\": \"1\"}</td></tr><tr><td>{\"symbol\": \"AAPL\", \"timestamp\": \"2024-10-08 19:10:00\", \"open\": \"225.4500\", \"high\": \"225.4900\", \"low\": \"225.4500\", \"close\": \"225.4650\", \"volume\": \"36\"}</td></tr><tr><td>{\"symbol\": \"AAPL\", \"timestamp\": \"2024-10-08 19:09:00\", \"open\": \"225.4700\", \"high\": \"225.4900\", \"low\": \"225.4500\", \"close\": \"225.4700\", \"volume\": \"8\"}</td></tr><tr><td>{\"symbol\": \"AAPL\", \"timestamp\": \"2024-10-08 19:08:00\", \"open\": \"225.4700\", \"high\": \"225.5077\", \"low\": \"225.4000\", \"close\": \"225.4700\", \"volume\": \"26\"}</td></tr><tr><td>{\"symbol\": \"AAPL\", \"timestamp\": \"2024-10-08 19:07:00\", \"open\": \"225.4000\", \"high\": \"225.5388\", \"low\": \"225.4000\", \"close\": \"225.4500\", \"volume\": \"75\"}</td></tr><tr><td>{\"symbol\": \"AAPL\", \"timestamp\": \"2024-10-08 19:06:00\", \"open\": \"225.5000\", \"high\": \"225.5000\", \"low\": \"225.4000\", \"close\": \"225.4700\", \"volume\": \"31\"}</td></tr><tr><td>{\"symbol\": \"AAPL\", \"timestamp\": \"2024-10-08 19:05:00\", \"open\": \"225.5300\", \"high\": \"225.5300\", \"low\": \"225.4000\", \"close\": \"225.5000\", \"volume\": \"351\"}</td></tr><tr><td>{\"symbol\": \"AAPL\", \"timestamp\": \"2024-10-08 19:04:00\", \"open\": \"225.5200\", \"high\": \"225.5200\", \"low\": \"225.5200\", \"close\": \"225.5200\", \"volume\": \"1\"}</td></tr><tr><td>{\"symbol\": \"AAPL\", \"timestamp\": \"2024-10-08 19:03:00\", \"open\": \"225.5200\", \"high\": \"225.5400\", \"low\": \"225.5000\", \"close\": \"225.5200\", \"volume\": \"101\"}</td></tr><tr><td>{\"symbol\": \"AAPL\", \"timestamp\": \"2024-10-08 19:02:00\", \"open\": \"225.5300\", \"high\": \"225.5300\", \"low\": \"225.5150\", \"close\": \"225.5292\", \"volume\": \"15\"}</td></tr><tr><td>{\"symbol\": \"AAPL\", \"timestamp\": \"2024-10-08 19:01:00\", \"open\": \"225.5200\", \"high\": \"225.5400\", \"low\": \"225.5000\", \"close\": \"225.5150\", \"volume\": \"276\"}</td></tr><tr><td>{\"symbol\": \"AAPL\", \"timestamp\": \"2024-10-08 19:00:00\", \"open\": \"225.5000\", \"high\": \"225.5400\", \"low\": \"225.5000\", \"close\": \"225.5400\", \"volume\": \"991\"}</td></tr><tr><td>{\"symbol\": \"AAPL\", \"timestamp\": \"2024-10-08 18:59:00\", \"open\": \"225.5150\", \"high\": \"225.5300\", \"low\": \"225.5000\", \"close\": \"225.5300\", \"volume\": \"263\"}</td></tr><tr><td>{\"symbol\": \"AAPL\", \"timestamp\": \"2024-10-08 18:58:00\", \"open\": \"225.5015\", \"high\": \"225.5150\", \"low\": \"225.5000\", \"close\": \"225.5150\", \"volume\": \"42\"}</td></tr><tr><td>{\"symbol\": \"AAPL\", \"timestamp\": \"2024-10-08 18:57:00\", \"open\": \"225.5000\", \"high\": \"225.5150\", \"low\": \"225.5000\", \"close\": \"225.5000\", \"volume\": \"64\"}</td></tr><tr><td>{\"symbol\": \"AAPL\", \"timestamp\": \"2024-10-08 18:56:00\", \"open\": \"225.4500\", \"high\": \"225.5300\", \"low\": \"225.4500\", \"close\": \"225.5100\", \"volume\": \"1053\"}</td></tr><tr><td>{\"symbol\": \"AAPL\", \"timestamp\": \"2024-10-08 18:55:00\", \"open\": \"225.4500\", \"high\": \"225.4600\", \"low\": \"225.4500\", \"close\": \"225.4500\", \"volume\": \"159\"}</td></tr><tr><td>{\"symbol\": \"AAPL\", \"timestamp\": \"2024-10-08 18:54:00\", \"open\": \"225.5000\", \"high\": \"225.5000\", \"low\": \"225.4009\", \"close\": \"225.4500\", \"volume\": \"2305\"}</td></tr><tr><td>{\"symbol\": \"AAPL\", \"timestamp\": \"2024-10-08 18:53:00\", \"open\": \"225.4300\", \"high\": \"225.5000\", \"low\": \"225.4000\", \"close\": \"225.4000\", \"volume\": \"143\"}</td></tr><tr><td>{\"symbol\": \"AAPL\", \"timestamp\": \"2024-10-08 18:52:00\", \"open\": \"225.4500\", \"high\": \"225.5000\", \"low\": \"225.4300\", \"close\": \"225.4500\", \"volume\": \"13\"}</td></tr><tr><td>{\"symbol\": \"AAPL\", \"timestamp\": \"2024-10-08 18:51:00\", \"open\": \"225.4500\", \"high\": \"225.5000\", \"low\": \"225.4000\", \"close\": \"225.4000\", \"volume\": \"35\"}</td></tr><tr><td>{\"symbol\": \"AAPL\", \"timestamp\": \"2024-10-08 18:50:00\", \"open\": \"225.4500\", \"high\": \"225.4500\", \"low\": \"225.4000\", \"close\": \"225.4000\", \"volume\": \"13\"}</td></tr><tr><td>{\"symbol\": \"AAPL\", \"timestamp\": \"2024-10-08 18:49:00\", \"open\": \"225.4500\", \"high\": \"225.4500\", \"low\": \"225.4000\", \"close\": \"225.4300\", \"volume\": \"143\"}</td></tr><tr><td>{\"symbol\": \"AAPL\", \"timestamp\": \"2024-10-08 18:48:00\", \"open\": \"225.4000\", \"high\": \"225.4950\", \"low\": \"225.4000\", \"close\": \"225.4000\", \"volume\": \"63\"}</td></tr><tr><td>{\"symbol\": \"AAPL\", \"timestamp\": \"2024-10-08 18:47:00\", \"open\": \"225.4000\", \"high\": \"225.4200\", \"low\": \"225.3800\", \"close\": \"225.4000\", \"volume\": \"962\"}</td></tr><tr><td>{\"symbol\": \"AAPL\", \"timestamp\": \"2024-10-08 18:46:00\", \"open\": \"225.3850\", \"high\": \"225.4000\", \"low\": \"225.3850\", \"close\": \"225.4000\", \"volume\": \"2\"}</td></tr><tr><td>{\"symbol\": \"AAPL\", \"timestamp\": \"2024-10-08 18:45:00\", \"open\": \"225.4100\", \"high\": \"225.4100\", \"low\": \"225.3500\", \"close\": \"225.3850\", \"volume\": \"31\"}</td></tr><tr><td>{\"symbol\": \"AAPL\", \"timestamp\": \"2024-10-08 18:44:00\", \"open\": \"225.3500\", \"high\": \"225.4182\", \"low\": \"225.3500\", \"close\": \"225.4100\", \"volume\": \"47\"}</td></tr><tr><td>{\"symbol\": \"AAPL\", \"timestamp\": \"2024-10-08 18:43:00\", \"open\": \"225.4100\", \"high\": \"225.4200\", \"low\": \"225.3500\", \"close\": \"225.3800\", \"volume\": \"60\"}</td></tr><tr><td>{\"symbol\": \"AAPL\", \"timestamp\": \"2024-10-08 18:42:00\", \"open\": \"225.3850\", \"high\": \"225.3850\", \"low\": \"225.3500\", \"close\": \"225.3850\", \"volume\": \"18\"}</td></tr><tr><td>{\"symbol\": \"AAPL\", \"timestamp\": \"2024-10-08 18:41:00\", \"open\": \"225.3850\", \"high\": \"225.3850\", \"low\": \"225.3500\", \"close\": \"225.3500\", \"volume\": \"7\"}</td></tr><tr><td>{\"symbol\": \"AAPL\", \"timestamp\": \"2024-10-08 18:40:00\", \"open\": \"225.3900\", \"high\": \"225.3900\", \"low\": \"225.3500\", \"close\": \"225.3850\", \"volume\": \"213\"}</td></tr><tr><td>{\"symbol\": \"AAPL\", \"timestamp\": \"2024-10-08 18:39:00\", \"open\": \"225.3850\", \"high\": \"225.4200\", \"low\": \"225.3500\", \"close\": \"225.4200\", \"volume\": \"146\"}</td></tr><tr><td>{\"symbol\": \"AAPL\", \"timestamp\": \"2024-10-08 18:38:00\", \"open\": \"225.3500\", \"high\": \"225.3850\", \"low\": \"225.3500\", \"close\": \"225.3850\", \"volume\": \"258\"}</td></tr><tr><td>{\"symbol\": \"AAPL\", \"timestamp\": \"2024-10-08 18:37:00\", \"open\": \"225.4250\", \"high\": \"225.4250\", \"low\": \"225.3500\", \"close\": \"225.4250\", \"volume\": \"5\"}</td></tr><tr><td>{\"symbol\": \"AAPL\", \"timestamp\": \"2024-10-08 18:36:00\", \"open\": \"225.4250\", \"high\": \"225.5000\", \"low\": \"225.3500\", \"close\": \"225.4250\", \"volume\": \"213\"}</td></tr><tr><td>{\"symbol\": \"AAPL\", \"timestamp\": \"2024-10-08 18:35:00\", \"open\": \"225.4250\", \"high\": \"225.5000\", \"low\": \"225.3500\", \"close\": \"225.4730\", \"volume\": \"113\"}</td></tr><tr><td>{\"symbol\": \"AAPL\", \"timestamp\": \"2024-10-08 18:34:00\", \"open\": \"225.4250\", \"high\": \"225.4250\", \"low\": \"225.4250\", \"close\": \"225.4250\", \"volume\": \"3\"}</td></tr><tr><td>{\"symbol\": \"AAPL\", \"timestamp\": \"2024-10-08 18:33:00\", \"open\": \"225.3500\", \"high\": \"225.4400\", \"low\": \"225.3500\", \"close\": \"225.4250\", \"volume\": \"85\"}</td></tr><tr><td>{\"symbol\": \"AAPL\", \"timestamp\": \"2024-10-08 18:32:00\", \"open\": \"225.4250\", \"high\": \"225.4250\", \"low\": \"225.3500\", \"close\": \"225.4000\", \"volume\": \"25\"}</td></tr><tr><td>{\"symbol\": \"AAPL\", \"timestamp\": \"2024-10-08 18:31:00\", \"open\": \"225.3500\", \"high\": \"225.4250\", \"low\": \"225.3500\", \"close\": \"225.3800\", \"volume\": \"261\"}</td></tr><tr><td>{\"symbol\": \"AAPL\", \"timestamp\": \"2024-10-08 18:30:00\", \"open\": \"225.3900\", \"high\": \"225.4300\", \"low\": \"225.3500\", \"close\": \"225.4250\", \"volume\": \"506\"}</td></tr><tr><td>{\"symbol\": \"AAPL\", \"timestamp\": \"2024-10-08 18:29:00\", \"open\": \"225.3300\", \"high\": \"225.4300\", \"low\": \"225.3100\", \"close\": \"225.4300\", \"volume\": \"217\"}</td></tr><tr><td>{\"symbol\": \"AAPL\", \"timestamp\": \"2024-10-08 18:28:00\", \"open\": \"225.3500\", \"high\": \"225.3500\", \"low\": \"225.2800\", \"close\": \"225.3000\", \"volume\": \"169\"}</td></tr><tr><td>{\"symbol\": \"AAPL\", \"timestamp\": \"2024-10-08 18:27:00\", \"open\": \"225.3200\", \"high\": \"225.3500\", \"low\": \"225.2700\", \"close\": \"225.3050\", \"volume\": \"172\"}</td></tr><tr><td>{\"symbol\": \"AAPL\", \"timestamp\": \"2024-10-08 18:26:00\", \"open\": \"225.3100\", \"high\": \"225.3300\", \"low\": \"225.2600\", \"close\": \"225.3300\", \"volume\": \"374\"}</td></tr><tr><td>{\"symbol\": \"AAPL\", \"timestamp\": \"2024-10-08 18:25:00\", \"open\": \"225.2950\", \"high\": \"225.3300\", \"low\": \"225.2600\", \"close\": \"225.3300\", \"volume\": \"114\"}</td></tr><tr><td>{\"symbol\": \"AAPL\", \"timestamp\": \"2024-10-08 18:24:00\", \"open\": \"225.2950\", \"high\": \"225.2950\", \"low\": \"225.2600\", \"close\": \"225.2600\", \"volume\": \"5\"}</td></tr><tr><td>{\"symbol\": \"AAPL\", \"timestamp\": \"2024-10-08 18:23:00\", \"open\": \"225.3250\", \"high\": \"225.3965\", \"low\": \"225.2600\", \"close\": \"225.3965\", \"volume\": \"75\"}</td></tr><tr><td>{\"symbol\": \"AAPL\", \"timestamp\": \"2024-10-08 18:22:00\", \"open\": \"225.3300\", \"high\": \"225.3300\", \"low\": \"225.2633\", \"close\": \"225.3000\", \"volume\": \"19\"}</td></tr><tr><td>{\"symbol\": \"AAPL\", \"timestamp\": \"2024-10-08 18:21:00\", \"open\": \"225.3300\", \"high\": \"225.4000\", \"low\": \"225.2500\", \"close\": \"225.3250\", \"volume\": \"195\"}</td></tr><tr><td>{\"symbol\": \"AAPL\", \"timestamp\": \"2024-10-08 18:20:00\", \"open\": \"225.3100\", \"high\": \"225.7700\", \"low\": \"225.2500\", \"close\": \"225.2500\", \"volume\": \"191387\"}</td></tr><tr><td>{\"symbol\": \"GOOGL\", \"timestamp\": \"2024-10-08 19:54:00\", \"open\": \"164.1900\", \"high\": \"164.2400\", \"low\": \"164.1830\", \"close\": \"164.2400\", \"volume\": \"675\"}</td></tr><tr><td>{\"symbol\": \"GOOGL\", \"timestamp\": \"2024-10-08 19:53:00\", \"open\": \"164.1815\", \"high\": \"164.2400\", \"low\": \"164.1815\", \"close\": \"164.2400\", \"volume\": \"101\"}</td></tr><tr><td>{\"symbol\": \"GOOGL\", \"timestamp\": \"2024-10-08 19:52:00\", \"open\": \"164.2368\", \"high\": \"164.2368\", \"low\": \"164.2000\", \"close\": \"164.2000\", \"volume\": \"55\"}</td></tr><tr><td>{\"symbol\": \"GOOGL\", \"timestamp\": \"2024-10-08 19:51:00\", \"open\": \"164.1600\", \"high\": \"164.2200\", \"low\": \"164.1600\", \"close\": \"164.2200\", \"volume\": \"434\"}</td></tr><tr><td>{\"symbol\": \"GOOGL\", \"timestamp\": \"2024-10-08 19:50:00\", \"open\": \"164.1512\", \"high\": \"164.1512\", \"low\": \"164.1512\", \"close\": \"164.1512\", \"volume\": \"1\"}</td></tr><tr><td>{\"symbol\": \"GOOGL\", \"timestamp\": \"2024-10-08 19:49:00\", \"open\": \"164.1960\", \"high\": \"164.1960\", \"low\": \"164.1500\", \"close\": \"164.1500\", \"volume\": \"101\"}</td></tr><tr><td>{\"symbol\": \"GOOGL\", \"timestamp\": \"2024-10-08 19:48:00\", \"open\": \"164.1700\", \"high\": \"164.2000\", \"low\": \"164.1700\", \"close\": \"164.2000\", \"volume\": \"150\"}</td></tr><tr><td>{\"symbol\": \"GOOGL\", \"timestamp\": \"2024-10-08 19:47:00\", \"open\": \"164.1600\", \"high\": \"164.1800\", \"low\": \"164.1400\", \"close\": \"164.1500\", \"volume\": \"169\"}</td></tr><tr><td>{\"symbol\": \"GOOGL\", \"timestamp\": \"2024-10-08 19:46:00\", \"open\": \"164.1800\", \"high\": \"164.1800\", \"low\": \"164.1600\", \"close\": \"164.1800\", \"volume\": \"209\"}</td></tr><tr><td>{\"symbol\": \"GOOGL\", \"timestamp\": \"2024-10-08 19:44:00\", \"open\": \"164.1400\", \"high\": \"164.1800\", \"low\": \"164.1400\", \"close\": \"164.1500\", \"volume\": \"212\"}</td></tr><tr><td>{\"symbol\": \"GOOGL\", \"timestamp\": \"2024-10-08 19:43:00\", \"open\": \"164.1955\", \"high\": \"164.1955\", \"low\": \"164.1500\", \"close\": \"164.1800\", \"volume\": \"110\"}</td></tr><tr><td>{\"symbol\": \"GOOGL\", \"timestamp\": \"2024-10-08 19:42:00\", \"open\": \"164.1000\", \"high\": \"164.2000\", \"low\": \"164.1000\", \"close\": \"164.1106\", \"volume\": \"45\"}</td></tr><tr><td>{\"symbol\": \"GOOGL\", \"timestamp\": \"2024-10-08 19:41:00\", \"open\": \"164.1100\", \"high\": \"164.1100\", \"low\": \"164.1100\", \"close\": \"164.1100\", \"volume\": \"20\"}</td></tr><tr><td>{\"symbol\": \"GOOGL\", \"timestamp\": \"2024-10-08 19:40:00\", \"open\": \"164.1800\", \"high\": \"164.1991\", \"low\": \"164.1000\", \"close\": \"164.1000\", \"volume\": \"104\"}</td></tr><tr><td>{\"symbol\": \"GOOGL\", \"timestamp\": \"2024-10-08 19:39:00\", \"open\": \"164.1400\", \"high\": \"164.1800\", \"low\": \"164.1000\", \"close\": \"164.1000\", \"volume\": \"134\"}</td></tr><tr><td>{\"symbol\": \"GOOGL\", \"timestamp\": \"2024-10-08 19:38:00\", \"open\": \"164.1891\", \"high\": \"164.1891\", \"low\": \"164.1400\", \"close\": \"164.1400\", \"volume\": \"26\"}</td></tr><tr><td>{\"symbol\": \"GOOGL\", \"timestamp\": \"2024-10-08 19:37:00\", \"open\": \"164.1900\", \"high\": \"164.1900\", \"low\": \"164.1500\", \"close\": \"164.1500\", \"volume\": \"80\"}</td></tr><tr><td>{\"symbol\": \"GOOGL\", \"timestamp\": \"2024-10-08 19:36:00\", \"open\": \"164.1500\", \"high\": \"164.1900\", \"low\": \"164.1500\", \"close\": \"164.1900\", \"volume\": \"12\"}</td></tr><tr><td>{\"symbol\": \"GOOGL\", \"timestamp\": \"2024-10-08 19:35:00\", \"open\": \"164.1800\", \"high\": \"164.2000\", \"low\": \"164.1800\", \"close\": \"164.2000\", \"volume\": \"43\"}</td></tr><tr><td>{\"symbol\": \"GOOGL\", \"timestamp\": \"2024-10-08 19:34:00\", \"open\": \"164.1500\", \"high\": \"164.1500\", \"low\": \"164.1500\", \"close\": \"164.1500\", \"volume\": \"20\"}</td></tr><tr><td>{\"symbol\": \"GOOGL\", \"timestamp\": \"2024-10-08 19:33:00\", \"open\": \"164.1500\", \"high\": \"164.1500\", \"low\": \"164.1000\", \"close\": \"164.1100\", \"volume\": \"168\"}</td></tr><tr><td>{\"symbol\": \"GOOGL\", \"timestamp\": \"2024-10-08 19:32:00\", \"open\": \"164.1900\", \"high\": \"164.1900\", \"low\": \"164.1500\", \"close\": \"164.1500\", \"volume\": \"162\"}</td></tr><tr><td>{\"symbol\": \"GOOGL\", \"timestamp\": \"2024-10-08 19:31:00\", \"open\": \"164.2000\", \"high\": \"164.2000\", \"low\": \"164.1900\", \"close\": \"164.1900\", \"volume\": \"130\"}</td></tr><tr><td>{\"symbol\": \"GOOGL\", \"timestamp\": \"2024-10-08 19:30:00\", \"open\": \"164.1515\", \"high\": \"164.1600\", \"low\": \"164.1500\", \"close\": \"164.1500\", \"volume\": \"124\"}</td></tr><tr><td>{\"symbol\": \"GOOGL\", \"timestamp\": \"2024-10-08 19:29:00\", \"open\": \"164.1500\", \"high\": \"164.1500\", \"low\": \"164.1500\", \"close\": \"164.1500\", \"volume\": \"1\"}</td></tr><tr><td>{\"symbol\": \"GOOGL\", \"timestamp\": \"2024-10-08 19:28:00\", \"open\": \"164.1600\", \"high\": \"164.1600\", \"low\": \"164.1500\", \"close\": \"164.1500\", \"volume\": \"320\"}</td></tr><tr><td>{\"symbol\": \"GOOGL\", \"timestamp\": \"2024-10-08 19:27:00\", \"open\": \"164.1525\", \"high\": \"164.2000\", \"low\": \"164.1500\", \"close\": \"164.2000\", \"volume\": \"106\"}</td></tr><tr><td>{\"symbol\": \"GOOGL\", \"timestamp\": \"2024-10-08 19:25:00\", \"open\": \"164.1600\", \"high\": \"164.1600\", \"low\": \"164.1500\", \"close\": \"164.1500\", \"volume\": \"132\"}</td></tr><tr><td>{\"symbol\": \"GOOGL\", \"timestamp\": \"2024-10-08 19:24:00\", \"open\": \"164.1025\", \"high\": \"164.1600\", \"low\": \"164.1025\", \"close\": \"164.1600\", \"volume\": \"30\"}</td></tr><tr><td>{\"symbol\": \"GOOGL\", \"timestamp\": \"2024-10-08 19:23:00\", \"open\": \"164.1025\", \"high\": \"164.1600\", \"low\": \"164.1025\", \"close\": \"164.1600\", \"volume\": \"2\"}</td></tr><tr><td>{\"symbol\": \"GOOGL\", \"timestamp\": \"2024-10-08 19:21:00\", \"open\": \"164.1800\", \"high\": \"164.2000\", \"low\": \"164.1600\", \"close\": \"164.1600\", \"volume\": \"112\"}</td></tr><tr><td>{\"symbol\": \"GOOGL\", \"timestamp\": \"2024-10-08 19:20:00\", \"open\": \"164.1200\", \"high\": \"164.1200\", \"low\": \"164.1200\", \"close\": \"164.1200\", \"volume\": \"2\"}</td></tr><tr><td>{\"symbol\": \"GOOGL\", \"timestamp\": \"2024-10-08 19:18:00\", \"open\": \"164.1200\", \"high\": \"164.2000\", \"low\": \"164.1012\", \"close\": \"164.1200\", \"volume\": \"139\"}</td></tr><tr><td>{\"symbol\": \"GOOGL\", \"timestamp\": \"2024-10-08 19:17:00\", \"open\": \"164.1000\", \"high\": \"164.2000\", \"low\": \"164.1000\", \"close\": \"164.1100\", \"volume\": \"66\"}</td></tr><tr><td>{\"symbol\": \"GOOGL\", \"timestamp\": \"2024-10-08 19:16:00\", \"open\": \"164.1000\", \"high\": \"164.1000\", \"low\": \"164.1000\", \"close\": \"164.1000\", \"volume\": \"12\"}</td></tr><tr><td>{\"symbol\": \"GOOGL\", \"timestamp\": \"2024-10-08 19:15:00\", \"open\": \"164.1300\", \"high\": \"164.1900\", \"low\": \"164.1300\", \"close\": \"164.1900\", \"volume\": \"20\"}</td></tr><tr><td>{\"symbol\": \"GOOGL\", \"timestamp\": \"2024-10-08 19:14:00\", \"open\": \"164.1300\", \"high\": \"164.2000\", \"low\": \"164.1100\", \"close\": \"164.1100\", \"volume\": \"280\"}</td></tr><tr><td>{\"symbol\": \"GOOGL\", \"timestamp\": \"2024-10-08 19:13:00\", \"open\": \"164.1100\", \"high\": \"164.1100\", \"low\": \"164.1100\", \"close\": \"164.1100\", \"volume\": \"21\"}</td></tr><tr><td>{\"symbol\": \"AAPL\", \"timestamp\": \"2024-10-08 19:54:00\", \"open\": \"225.3488\", \"high\": \"225.3488\", \"low\": \"225.2500\", \"close\": \"225.3000\", \"volume\": \"10\"}</td></tr><tr><td>{\"symbol\": \"AAPL\", \"timestamp\": \"2024-10-08 19:53:00\", \"open\": \"225.4580\", \"high\": \"225.4580\", \"low\": \"225.2360\", \"close\": \"225.3200\", \"volume\": \"169\"}</td></tr><tr><td>{\"symbol\": \"AAPL\", \"timestamp\": \"2024-10-08 19:52:00\", \"open\": \"225.3500\", \"high\": \"225.3500\", \"low\": \"225.3200\", \"close\": \"225.3500\", \"volume\": \"44\"}</td></tr><tr><td>{\"symbol\": \"AAPL\", \"timestamp\": \"2024-10-08 19:51:00\", \"open\": \"225.2400\", \"high\": \"225.3000\", \"low\": \"225.2400\", \"close\": \"225.3000\", \"volume\": \"283\"}</td></tr><tr><td>{\"symbol\": \"AAPL\", \"timestamp\": \"2024-10-08 19:50:00\", \"open\": \"225.2950\", \"high\": \"225.2950\", \"low\": \"225.2300\", \"close\": \"225.2300\", \"volume\": \"15\"}</td></tr><tr><td>{\"symbol\": \"AAPL\", \"timestamp\": \"2024-10-08 19:49:00\", \"open\": \"225.2400\", \"high\": \"225.2950\", \"low\": \"225.2300\", \"close\": \"225.2700\", \"volume\": \"36\"}</td></tr><tr><td>{\"symbol\": \"AAPL\", \"timestamp\": \"2024-10-08 19:48:00\", \"open\": \"225.2950\", \"high\": \"225.3535\", \"low\": \"225.2300\", \"close\": \"225.2950\", \"volume\": \"169\"}</td></tr><tr><td>{\"symbol\": \"AAPL\", \"timestamp\": \"2024-10-08 19:47:00\", \"open\": \"225.2950\", \"high\": \"225.2950\", \"low\": \"225.2300\", \"close\": \"225.2300\", \"volume\": \"504\"}</td></tr><tr><td>{\"symbol\": \"AAPL\", \"timestamp\": \"2024-10-08 19:46:00\", \"open\": \"225.2200\", \"high\": \"225.3600\", \"low\": \"225.2200\", \"close\": \"225.2900\", \"volume\": \"94\"}</td></tr><tr><td>{\"symbol\": \"AAPL\", \"timestamp\": \"2024-10-08 19:45:00\", \"open\": \"225.3600\", \"high\": \"225.3600\", \"low\": \"225.2200\", \"close\": \"225.2900\", \"volume\": \"11\"}</td></tr><tr><td>{\"symbol\": \"AAPL\", \"timestamp\": \"2024-10-08 19:44:00\", \"open\": \"225.3800\", \"high\": \"225.3800\", \"low\": \"225.2200\", \"close\": \"225.3000\", \"volume\": \"193\"}</td></tr><tr><td>{\"symbol\": \"AAPL\", \"timestamp\": \"2024-10-08 19:43:00\", \"open\": \"225.3800\", \"high\": \"225.5100\", \"low\": \"225.2500\", \"close\": \"225.5100\", \"volume\": \"104\"}</td></tr><tr><td>{\"symbol\": \"AAPL\", \"timestamp\": \"2024-10-08 19:42:00\", \"open\": \"225.3700\", \"high\": \"225.3700\", \"low\": \"225.3700\", \"close\": \"225.3700\", \"volume\": \"1\"}</td></tr><tr><td>{\"symbol\": \"AAPL\", \"timestamp\": \"2024-10-08 19:41:00\", \"open\": \"225.2267\", \"high\": \"225.5100\", \"low\": \"225.2267\", \"close\": \"225.3700\", \"volume\": \"11\"}</td></tr><tr><td>{\"symbol\": \"AAPL\", \"timestamp\": \"2024-10-08 19:40:00\", \"open\": \"225.2200\", \"high\": \"225.4479\", \"low\": \"225.2200\", \"close\": \"225.2300\", \"volume\": \"221\"}</td></tr><tr><td>{\"symbol\": \"AAPL\", \"timestamp\": \"2024-10-08 19:39:00\", \"open\": \"225.2200\", \"high\": \"225.3600\", \"low\": \"225.2200\", \"close\": \"225.3600\", \"volume\": \"27\"}</td></tr><tr><td>{\"symbol\": \"AAPL\", \"timestamp\": \"2024-10-08 19:38:00\", \"open\": \"225.2600\", \"high\": \"225.5000\", \"low\": \"225.2200\", \"close\": \"225.4860\", \"volume\": \"77\"}</td></tr><tr><td>{\"symbol\": \"AAPL\", \"timestamp\": \"2024-10-08 19:37:00\", \"open\": \"225.2600\", \"high\": \"225.2600\", \"low\": \"225.2200\", \"close\": \"225.2300\", \"volume\": \"874\"}</td></tr><tr><td>{\"symbol\": \"AAPL\", \"timestamp\": \"2024-10-08 19:36:00\", \"open\": \"225.2200\", \"high\": \"225.2500\", \"low\": \"225.2200\", \"close\": \"225.2400\", \"volume\": \"150\"}</td></tr><tr><td>{\"symbol\": \"AAPL\", \"timestamp\": \"2024-10-08 19:35:00\", \"open\": \"225.2200\", \"high\": \"225.2500\", \"low\": \"225.2200\", \"close\": \"225.2350\", \"volume\": \"75\"}</td></tr><tr><td>{\"symbol\": \"AAPL\", \"timestamp\": \"2024-10-08 19:34:00\", \"open\": \"225.2600\", \"high\": \"225.2600\", \"low\": \"225.2200\", \"close\": \"225.2350\", \"volume\": \"1022\"}</td></tr><tr><td>{\"symbol\": \"AAPL\", \"timestamp\": \"2024-10-08 19:33:00\", \"open\": \"225.2500\", \"high\": \"225.2600\", \"low\": \"225.2200\", \"close\": \"225.2400\", \"volume\": \"1619\"}</td></tr><tr><td>{\"symbol\": \"AAPL\", \"timestamp\": \"2024-10-08 19:32:00\", \"open\": \"225.2850\", \"high\": \"225.3100\", \"low\": \"225.2500\", \"close\": \"225.2500\", \"volume\": \"419\"}</td></tr><tr><td>{\"symbol\": \"AAPL\", \"timestamp\": \"2024-10-08 19:31:00\", \"open\": \"225.3200\", \"high\": \"225.3200\", \"low\": \"225.3200\", \"close\": \"225.3200\", \"volume\": \"1\"}</td></tr><tr><td>{\"symbol\": \"AAPL\", \"timestamp\": \"2024-10-08 19:30:00\", \"open\": \"225.3400\", \"high\": \"225.3800\", \"low\": \"225.2500\", \"close\": \"225.2500\", \"volume\": \"321\"}</td></tr><tr><td>{\"symbol\": \"AAPL\", \"timestamp\": \"2024-10-08 19:29:00\", \"open\": \"225.3000\", \"high\": \"225.3600\", \"low\": \"225.2500\", \"close\": \"225.3400\", \"volume\": \"51\"}</td></tr><tr><td>{\"symbol\": \"AAPL\", \"timestamp\": \"2024-10-08 19:28:00\", \"open\": \"225.4000\", \"high\": \"225.4000\", \"low\": \"225.2500\", \"close\": \"225.2513\", \"volume\": \"338\"}</td></tr><tr><td>{\"symbol\": \"AAPL\", \"timestamp\": \"2024-10-08 19:27:00\", \"open\": \"225.3750\", \"high\": \"225.3900\", \"low\": \"225.3500\", \"close\": \"225.3500\", \"volume\": \"233\"}</td></tr><tr><td>{\"symbol\": \"AAPL\", \"timestamp\": \"2024-10-08 19:26:00\", \"open\": \"225.4500\", \"high\": \"225.4500\", \"low\": \"225.3500\", \"close\": \"225.3500\", \"volume\": \"34\"}</td></tr><tr><td>{\"symbol\": \"AAPL\", \"timestamp\": \"2024-10-08 19:25:00\", \"open\": \"225.3500\", \"high\": \"225.4280\", \"low\": \"225.3500\", \"close\": \"225.4000\", \"volume\": \"113\"}</td></tr><tr><td>{\"symbol\": \"AAPL\", \"timestamp\": \"2024-10-08 19:24:00\", \"open\": \"225.4250\", \"high\": \"225.4300\", \"low\": \"225.3500\", \"close\": \"225.4000\", \"volume\": \"397\"}</td></tr><tr><td>{\"symbol\": \"AAPL\", \"timestamp\": \"2024-10-08 19:23:00\", \"open\": \"225.4500\", \"high\": \"225.4500\", \"low\": \"225.4000\", \"close\": \"225.4250\", \"volume\": \"56\"}</td></tr><tr><td>{\"symbol\": \"AAPL\", \"timestamp\": \"2024-10-08 19:22:00\", \"open\": \"225.4250\", \"high\": \"225.4250\", \"low\": \"225.4000\", \"close\": \"225.4000\", \"volume\": \"62\"}</td></tr><tr><td>{\"symbol\": \"AAPL\", \"timestamp\": \"2024-10-08 19:21:00\", \"open\": \"225.4300\", \"high\": \"225.4300\", \"low\": \"225.4000\", \"close\": \"225.4250\", \"volume\": \"539\"}</td></tr><tr><td>{\"symbol\": \"AAPL\", \"timestamp\": \"2024-10-08 19:20:00\", \"open\": \"225.4000\", \"high\": \"225.4300\", \"low\": \"225.4000\", \"close\": \"225.4300\", \"volume\": \"18\"}</td></tr><tr><td>{\"symbol\": \"AAPL\", \"timestamp\": \"2024-10-08 19:19:00\", \"open\": \"225.4000\", \"high\": \"225.4300\", \"low\": \"225.4000\", \"close\": \"225.4300\", \"volume\": \"8\"}</td></tr><tr><td>{\"symbol\": \"AAPL\", \"timestamp\": \"2024-10-08 19:18:00\", \"open\": \"225.4300\", \"high\": \"225.4300\", \"low\": \"225.4000\", \"close\": \"225.4000\", \"volume\": \"12\"}</td></tr><tr><td>{\"symbol\": \"AAPL\", \"timestamp\": \"2024-10-08 19:17:00\", \"open\": \"225.4500\", \"high\": \"225.4500\", \"low\": \"225.4000\", \"close\": \"225.4250\", \"volume\": \"8\"}</td></tr><tr><td>{\"symbol\": \"AAPL\", \"timestamp\": \"2024-10-08 19:16:00\", \"open\": \"225.4550\", \"high\": \"225.4550\", \"low\": \"225.4000\", \"close\": \"225.4500\", \"volume\": \"179\"}</td></tr><tr><td>{\"symbol\": \"AAPL\", \"timestamp\": \"2024-10-08 19:15:00\", \"open\": \"225.4492\", \"high\": \"225.4500\", \"low\": \"225.4250\", \"close\": \"225.4500\", \"volume\": \"304\"}</td></tr><tr><td>{\"symbol\": \"AAPL\", \"timestamp\": \"2024-10-08 18:57:00\", \"open\": \"225.5000\", \"high\": \"225.5150\", \"low\": \"225.5000\", \"close\": \"225.5000\", \"volume\": \"64\"}</td></tr><tr><td>{\"symbol\": \"AAPL\", \"timestamp\": \"2024-10-08 18:56:00\", \"open\": \"225.4500\", \"high\": \"225.5300\", \"low\": \"225.4500\", \"close\": \"225.5100\", \"volume\": \"1053\"}</td></tr><tr><td>{\"symbol\": \"AAPL\", \"timestamp\": \"2024-10-08 18:55:00\", \"open\": \"225.4500\", \"high\": \"225.4600\", \"low\": \"225.4500\", \"close\": \"225.4500\", \"volume\": \"159\"}</td></tr><tr><td>{\"symbol\": \"AAPL\", \"timestamp\": \"2024-10-08 18:54:00\", \"open\": \"225.5000\", \"high\": \"225.5000\", \"low\": \"225.4009\", \"close\": \"225.4500\", \"volume\": \"2305\"}</td></tr><tr><td>{\"symbol\": \"AAPL\", \"timestamp\": \"2024-10-08 18:53:00\", \"open\": \"225.4300\", \"high\": \"225.5000\", \"low\": \"225.4000\", \"close\": \"225.4000\", \"volume\": \"143\"}</td></tr><tr><td>{\"symbol\": \"AAPL\", \"timestamp\": \"2024-10-08 18:52:00\", \"open\": \"225.4500\", \"high\": \"225.5000\", \"low\": \"225.4300\", \"close\": \"225.4500\", \"volume\": \"13\"}</td></tr><tr><td>{\"symbol\": \"AAPL\", \"timestamp\": \"2024-10-08 18:51:00\", \"open\": \"225.4500\", \"high\": \"225.5000\", \"low\": \"225.4000\", \"close\": \"225.4000\", \"volume\": \"35\"}</td></tr><tr><td>{\"symbol\": \"AAPL\", \"timestamp\": \"2024-10-08 18:50:00\", \"open\": \"225.4500\", \"high\": \"225.4500\", \"low\": \"225.4000\", \"close\": \"225.4000\", \"volume\": \"13\"}</td></tr><tr><td>{\"symbol\": \"AAPL\", \"timestamp\": \"2024-10-08 18:49:00\", \"open\": \"225.4500\", \"high\": \"225.4500\", \"low\": \"225.4000\", \"close\": \"225.4300\", \"volume\": \"143\"}</td></tr><tr><td>{\"symbol\": \"AAPL\", \"timestamp\": \"2024-10-08 18:48:00\", \"open\": \"225.4000\", \"high\": \"225.4950\", \"low\": \"225.4000\", \"close\": \"225.4000\", \"volume\": \"63\"}</td></tr><tr><td>{\"symbol\": \"AAPL\", \"timestamp\": \"2024-10-08 18:47:00\", \"open\": \"225.4000\", \"high\": \"225.4200\", \"low\": \"225.3800\", \"close\": \"225.4000\", \"volume\": \"962\"}</td></tr><tr><td>{\"symbol\": \"AAPL\", \"timestamp\": \"2024-10-08 18:46:00\", \"open\": \"225.3850\", \"high\": \"225.4000\", \"low\": \"225.3850\", \"close\": \"225.4000\", \"volume\": \"2\"}</td></tr><tr><td>{\"symbol\": \"AAPL\", \"timestamp\": \"2024-10-08 18:45:00\", \"open\": \"225.4100\", \"high\": \"225.4100\", \"low\": \"225.3500\", \"close\": \"225.3850\", \"volume\": \"31\"}</td></tr><tr><td>{\"symbol\": \"AAPL\", \"timestamp\": \"2024-10-08 18:44:00\", \"open\": \"225.3500\", \"high\": \"225.4182\", \"low\": \"225.3500\", \"close\": \"225.4100\", \"volume\": \"47\"}</td></tr><tr><td>{\"symbol\": \"AAPL\", \"timestamp\": \"2024-10-08 18:43:00\", \"open\": \"225.4100\", \"high\": \"225.4200\", \"low\": \"225.3500\", \"close\": \"225.3800\", \"volume\": \"60\"}</td></tr><tr><td>{\"symbol\": \"AAPL\", \"timestamp\": \"2024-10-08 18:42:00\", \"open\": \"225.3850\", \"high\": \"225.3850\", \"low\": \"225.3500\", \"close\": \"225.3850\", \"volume\": \"18\"}</td></tr><tr><td>{\"symbol\": \"AAPL\", \"timestamp\": \"2024-10-08 18:41:00\", \"open\": \"225.3850\", \"high\": \"225.3850\", \"low\": \"225.3500\", \"close\": \"225.3500\", \"volume\": \"7\"}</td></tr><tr><td>{\"symbol\": \"AAPL\", \"timestamp\": \"2024-10-08 18:40:00\", \"open\": \"225.3900\", \"high\": \"225.3900\", \"low\": \"225.3500\", \"close\": \"225.3850\", \"volume\": \"213\"}</td></tr><tr><td>{\"symbol\": \"AAPL\", \"timestamp\": \"2024-10-08 18:39:00\", \"open\": \"225.3850\", \"high\": \"225.4200\", \"low\": \"225.3500\", \"close\": \"225.4200\", \"volume\": \"146\"}</td></tr><tr><td>{\"symbol\": \"AAPL\", \"timestamp\": \"2024-10-08 18:38:00\", \"open\": \"225.3500\", \"high\": \"225.3850\", \"low\": \"225.3500\", \"close\": \"225.3850\", \"volume\": \"258\"}</td></tr><tr><td>{\"symbol\": \"AAPL\", \"timestamp\": \"2024-10-08 18:37:00\", \"open\": \"225.4250\", \"high\": \"225.4250\", \"low\": \"225.3500\", \"close\": \"225.4250\", \"volume\": \"5\"}</td></tr><tr><td>{\"symbol\": \"AAPL\", \"timestamp\": \"2024-10-08 18:36:00\", \"open\": \"225.4250\", \"high\": \"225.5000\", \"low\": \"225.3500\", \"close\": \"225.4250\", \"volume\": \"213\"}</td></tr><tr><td>{\"symbol\": \"AAPL\", \"timestamp\": \"2024-10-08 18:35:00\", \"open\": \"225.4250\", \"high\": \"225.5000\", \"low\": \"225.3500\", \"close\": \"225.4730\", \"volume\": \"113\"}</td></tr><tr><td>{\"symbol\": \"AAPL\", \"timestamp\": \"2024-10-08 18:34:00\", \"open\": \"225.4250\", \"high\": \"225.4250\", \"low\": \"225.4250\", \"close\": \"225.4250\", \"volume\": \"3\"}</td></tr><tr><td>{\"symbol\": \"AAPL\", \"timestamp\": \"2024-10-08 18:33:00\", \"open\": \"225.3500\", \"high\": \"225.4400\", \"low\": \"225.3500\", \"close\": \"225.4250\", \"volume\": \"85\"}</td></tr><tr><td>{\"symbol\": \"AAPL\", \"timestamp\": \"2024-10-08 18:32:00\", \"open\": \"225.4250\", \"high\": \"225.4250\", \"low\": \"225.3500\", \"close\": \"225.4000\", \"volume\": \"25\"}</td></tr><tr><td>{\"symbol\": \"AAPL\", \"timestamp\": \"2024-10-08 18:31:00\", \"open\": \"225.3500\", \"high\": \"225.4250\", \"low\": \"225.3500\", \"close\": \"225.3800\", \"volume\": \"261\"}</td></tr><tr><td>{\"symbol\": \"AAPL\", \"timestamp\": \"2024-10-08 18:30:00\", \"open\": \"225.3900\", \"high\": \"225.4300\", \"low\": \"225.3500\", \"close\": \"225.4250\", \"volume\": \"506\"}</td></tr><tr><td>{\"symbol\": \"AAPL\", \"timestamp\": \"2024-10-08 18:29:00\", \"open\": \"225.3300\", \"high\": \"225.4300\", \"low\": \"225.3100\", \"close\": \"225.4300\", \"volume\": \"217\"}</td></tr><tr><td>{\"symbol\": \"AAPL\", \"timestamp\": \"2024-10-08 18:28:00\", \"open\": \"225.3500\", \"high\": \"225.3500\", \"low\": \"225.2800\", \"close\": \"225.3000\", \"volume\": \"169\"}</td></tr><tr><td>{\"symbol\": \"AAPL\", \"timestamp\": \"2024-10-08 18:27:00\", \"open\": \"225.3200\", \"high\": \"225.3500\", \"low\": \"225.2700\", \"close\": \"225.3050\", \"volume\": \"172\"}</td></tr><tr><td>{\"symbol\": \"AAPL\", \"timestamp\": \"2024-10-08 18:26:00\", \"open\": \"225.3100\", \"high\": \"225.3300\", \"low\": \"225.2600\", \"close\": \"225.3300\", \"volume\": \"374\"}</td></tr><tr><td>{\"symbol\": \"AAPL\", \"timestamp\": \"2024-10-08 18:25:00\", \"open\": \"225.2950\", \"high\": \"225.3300\", \"low\": \"225.2600\", \"close\": \"225.3300\", \"volume\": \"114\"}</td></tr><tr><td>{\"symbol\": \"AAPL\", \"timestamp\": \"2024-10-08 18:24:00\", \"open\": \"225.2950\", \"high\": \"225.2950\", \"low\": \"225.2600\", \"close\": \"225.2600\", \"volume\": \"5\"}</td></tr><tr><td>{\"symbol\": \"AAPL\", \"timestamp\": \"2024-10-08 19:54:00\", \"open\": \"225.3488\", \"high\": \"225.3488\", \"low\": \"225.2500\", \"close\": \"225.3000\", \"volume\": \"10\"}</td></tr><tr><td>{\"symbol\": \"AAPL\", \"timestamp\": \"2024-10-08 19:53:00\", \"open\": \"225.4580\", \"high\": \"225.4580\", \"low\": \"225.2360\", \"close\": \"225.3200\", \"volume\": \"169\"}</td></tr><tr><td>{\"symbol\": \"AAPL\", \"timestamp\": \"2024-10-08 19:52:00\", \"open\": \"225.3500\", \"high\": \"225.3500\", \"low\": \"225.3200\", \"close\": \"225.3500\", \"volume\": \"44\"}</td></tr><tr><td>{\"symbol\": \"AAPL\", \"timestamp\": \"2024-10-08 19:51:00\", \"open\": \"225.2400\", \"high\": \"225.3000\", \"low\": \"225.2400\", \"close\": \"225.3000\", \"volume\": \"283\"}</td></tr><tr><td>{\"symbol\": \"AAPL\", \"timestamp\": \"2024-10-08 19:50:00\", \"open\": \"225.2950\", \"high\": \"225.2950\", \"low\": \"225.2300\", \"close\": \"225.2300\", \"volume\": \"15\"}</td></tr><tr><td>{\"symbol\": \"AAPL\", \"timestamp\": \"2024-10-08 19:49:00\", \"open\": \"225.2400\", \"high\": \"225.2950\", \"low\": \"225.2300\", \"close\": \"225.2700\", \"volume\": \"36\"}</td></tr><tr><td>{\"symbol\": \"AAPL\", \"timestamp\": \"2024-10-08 19:48:00\", \"open\": \"225.2950\", \"high\": \"225.3535\", \"low\": \"225.2300\", \"close\": \"225.2950\", \"volume\": \"169\"}</td></tr><tr><td>{\"symbol\": \"AAPL\", \"timestamp\": \"2024-10-08 19:47:00\", \"open\": \"225.2950\", \"high\": \"225.2950\", \"low\": \"225.2300\", \"close\": \"225.2300\", \"volume\": \"504\"}</td></tr><tr><td>{\"symbol\": \"AAPL\", \"timestamp\": \"2024-10-08 19:46:00\", \"open\": \"225.2200\", \"high\": \"225.3600\", \"low\": \"225.2200\", \"close\": \"225.2900\", \"volume\": \"94\"}</td></tr><tr><td>{\"symbol\": \"AAPL\", \"timestamp\": \"2024-10-08 19:45:00\", \"open\": \"225.3600\", \"high\": \"225.3600\", \"low\": \"225.2200\", \"close\": \"225.2900\", \"volume\": \"11\"}</td></tr><tr><td>{\"symbol\": \"AAPL\", \"timestamp\": \"2024-10-08 19:44:00\", \"open\": \"225.3800\", \"high\": \"225.3800\", \"low\": \"225.2200\", \"close\": \"225.3000\", \"volume\": \"193\"}</td></tr><tr><td>{\"symbol\": \"AAPL\", \"timestamp\": \"2024-10-08 19:43:00\", \"open\": \"225.3800\", \"high\": \"225.5100\", \"low\": \"225.2500\", \"close\": \"225.5100\", \"volume\": \"104\"}</td></tr><tr><td>{\"symbol\": \"AAPL\", \"timestamp\": \"2024-10-08 19:42:00\", \"open\": \"225.3700\", \"high\": \"225.3700\", \"low\": \"225.3700\", \"close\": \"225.3700\", \"volume\": \"1\"}</td></tr><tr><td>{\"symbol\": \"AAPL\", \"timestamp\": \"2024-10-08 19:41:00\", \"open\": \"225.2267\", \"high\": \"225.5100\", \"low\": \"225.2267\", \"close\": \"225.3700\", \"volume\": \"11\"}</td></tr><tr><td>{\"symbol\": \"AAPL\", \"timestamp\": \"2024-10-08 19:40:00\", \"open\": \"225.2200\", \"high\": \"225.4479\", \"low\": \"225.2200\", \"close\": \"225.2300\", \"volume\": \"221\"}</td></tr><tr><td>{\"symbol\": \"AAPL\", \"timestamp\": \"2024-10-08 19:39:00\", \"open\": \"225.2200\", \"high\": \"225.3600\", \"low\": \"225.2200\", \"close\": \"225.3600\", \"volume\": \"27\"}</td></tr><tr><td>{\"symbol\": \"AAPL\", \"timestamp\": \"2024-10-08 19:38:00\", \"open\": \"225.2600\", \"high\": \"225.5000\", \"low\": \"225.2200\", \"close\": \"225.4860\", \"volume\": \"77\"}</td></tr><tr><td>{\"symbol\": \"AAPL\", \"timestamp\": \"2024-10-08 19:37:00\", \"open\": \"225.2600\", \"high\": \"225.2600\", \"low\": \"225.2200\", \"close\": \"225.2300\", \"volume\": \"874\"}</td></tr><tr><td>{\"symbol\": \"AAPL\", \"timestamp\": \"2024-10-08 19:36:00\", \"open\": \"225.2200\", \"high\": \"225.2500\", \"low\": \"225.2200\", \"close\": \"225.2400\", \"volume\": \"150\"}</td></tr><tr><td>{\"symbol\": \"AAPL\", \"timestamp\": \"2024-10-08 19:35:00\", \"open\": \"225.2200\", \"high\": \"225.2500\", \"low\": \"225.2200\", \"close\": \"225.2350\", \"volume\": \"75\"}</td></tr><tr><td>{\"symbol\": \"AAPL\", \"timestamp\": \"2024-10-08 19:34:00\", \"open\": \"225.2600\", \"high\": \"225.2600\", \"low\": \"225.2200\", \"close\": \"225.2350\", \"volume\": \"1022\"}</td></tr><tr><td>{\"symbol\": \"AAPL\", \"timestamp\": \"2024-10-08 19:33:00\", \"open\": \"225.2500\", \"high\": \"225.2600\", \"low\": \"225.2200\", \"close\": \"225.2400\", \"volume\": \"1619\"}</td></tr><tr><td>{\"symbol\": \"AAPL\", \"timestamp\": \"2024-10-08 19:32:00\", \"open\": \"225.2850\", \"high\": \"225.3100\", \"low\": \"225.2500\", \"close\": \"225.2500\", \"volume\": \"419\"}</td></tr><tr><td>{\"symbol\": \"AAPL\", \"timestamp\": \"2024-10-08 19:31:00\", \"open\": \"225.3200\", \"high\": \"225.3200\", \"low\": \"225.3200\", \"close\": \"225.3200\", \"volume\": \"1\"}</td></tr><tr><td>{\"symbol\": \"AAPL\", \"timestamp\": \"2024-10-08 19:30:00\", \"open\": \"225.3400\", \"high\": \"225.3800\", \"low\": \"225.2500\", \"close\": \"225.2500\", \"volume\": \"321\"}</td></tr><tr><td>{\"symbol\": \"AAPL\", \"timestamp\": \"2024-10-08 19:29:00\", \"open\": \"225.3000\", \"high\": \"225.3600\", \"low\": \"225.2500\", \"close\": \"225.3400\", \"volume\": \"51\"}</td></tr><tr><td>{\"symbol\": \"AAPL\", \"timestamp\": \"2024-10-08 19:28:00\", \"open\": \"225.4000\", \"high\": \"225.4000\", \"low\": \"225.2500\", \"close\": \"225.2513\", \"volume\": \"338\"}</td></tr><tr><td>{\"symbol\": \"AAPL\", \"timestamp\": \"2024-10-08 19:27:00\", \"open\": \"225.3750\", \"high\": \"225.3900\", \"low\": \"225.3500\", \"close\": \"225.3500\", \"volume\": \"233\"}</td></tr><tr><td>{\"symbol\": \"AAPL\", \"timestamp\": \"2024-10-08 19:26:00\", \"open\": \"225.4500\", \"high\": \"225.4500\", \"low\": \"225.3500\", \"close\": \"225.3500\", \"volume\": \"34\"}</td></tr><tr><td>{\"symbol\": \"AAPL\", \"timestamp\": \"2024-10-08 19:25:00\", \"open\": \"225.3500\", \"high\": \"225.4280\", \"low\": \"225.3500\", \"close\": \"225.4000\", \"volume\": \"113\"}</td></tr><tr><td>{\"symbol\": \"AAPL\", \"timestamp\": \"2024-10-08 19:24:00\", \"open\": \"225.4250\", \"high\": \"225.4300\", \"low\": \"225.3500\", \"close\": \"225.4000\", \"volume\": \"397\"}</td></tr><tr><td>{\"symbol\": \"GOOGL\", \"timestamp\": \"2024-10-08 18:45:00\", \"open\": \"164.0500\", \"high\": \"164.0500\", \"low\": \"164.0400\", \"close\": \"164.0400\", \"volume\": \"342\"}</td></tr><tr><td>{\"symbol\": \"GOOGL\", \"timestamp\": \"2024-10-08 18:43:00\", \"open\": \"164.0500\", \"high\": \"164.0500\", \"low\": \"164.0300\", \"close\": \"164.0300\", \"volume\": \"25\"}</td></tr><tr><td>{\"symbol\": \"GOOGL\", \"timestamp\": \"2024-10-08 18:42:00\", \"open\": \"164.0500\", \"high\": \"164.0500\", \"low\": \"164.0500\", \"close\": \"164.0500\", \"volume\": \"5\"}</td></tr><tr><td>{\"symbol\": \"GOOGL\", \"timestamp\": \"2024-10-08 18:41:00\", \"open\": \"164.0485\", \"high\": \"164.0500\", \"low\": \"164.0300\", \"close\": \"164.0500\", \"volume\": \"102\"}</td></tr><tr><td>{\"symbol\": \"GOOGL\", \"timestamp\": \"2024-10-08 18:40:00\", \"open\": \"164.0400\", \"high\": \"164.0500\", \"low\": \"164.0215\", \"close\": \"164.0215\", \"volume\": \"63\"}</td></tr><tr><td>{\"symbol\": \"GOOGL\", \"timestamp\": \"2024-10-08 18:39:00\", \"open\": \"164.1800\", \"high\": \"164.1800\", \"low\": \"164.0400\", \"close\": \"164.0400\", \"volume\": \"1468\"}</td></tr><tr><td>{\"symbol\": \"GOOGL\", \"timestamp\": \"2024-10-08 18:38:00\", \"open\": \"164.1800\", \"high\": \"164.1962\", \"low\": \"164.1800\", \"close\": \"164.1962\", \"volume\": \"41\"}</td></tr><tr><td>{\"symbol\": \"GOOGL\", \"timestamp\": \"2024-10-08 18:37:00\", \"open\": \"164.1000\", \"high\": \"164.1000\", \"low\": \"164.1000\", \"close\": \"164.1000\", \"volume\": \"5\"}</td></tr><tr><td>{\"symbol\": \"GOOGL\", \"timestamp\": \"2024-10-08 18:35:00\", \"open\": \"164.1100\", \"high\": \"164.1100\", \"low\": \"164.0500\", \"close\": \"164.0500\", \"volume\": \"25\"}</td></tr><tr><td>{\"symbol\": \"GOOGL\", \"timestamp\": \"2024-10-08 18:34:00\", \"open\": \"164.1997\", \"high\": \"164.1997\", \"low\": \"164.1997\", \"close\": \"164.1997\", \"volume\": \"2\"}</td></tr><tr><td>{\"symbol\": \"GOOGL\", \"timestamp\": \"2024-10-08 18:33:00\", \"open\": \"164.1000\", \"high\": \"164.1300\", \"low\": \"164.0512\", \"close\": \"164.1300\", \"volume\": \"70\"}</td></tr><tr><td>{\"symbol\": \"GOOGL\", \"timestamp\": \"2024-10-08 18:32:00\", \"open\": \"164.1100\", \"high\": \"164.1300\", \"low\": \"164.1100\", \"close\": \"164.1300\", \"volume\": \"7\"}</td></tr><tr><td>{\"symbol\": \"GOOGL\", \"timestamp\": \"2024-10-08 18:31:00\", \"open\": \"164.1900\", \"high\": \"164.1900\", \"low\": \"164.1300\", \"close\": \"164.1300\", \"volume\": \"36\"}</td></tr><tr><td>{\"symbol\": \"GOOGL\", \"timestamp\": \"2024-10-08 18:30:00\", \"open\": \"164.1000\", \"high\": \"164.2000\", \"low\": \"164.1000\", \"close\": \"164.1500\", \"volume\": \"351\"}</td></tr><tr><td>{\"symbol\": \"GOOGL\", \"timestamp\": \"2024-10-08 18:27:00\", \"open\": \"164.0500\", \"high\": \"164.1000\", \"low\": \"164.0500\", \"close\": \"164.1000\", \"volume\": \"31\"}</td></tr><tr><td>{\"symbol\": \"GOOGL\", \"timestamp\": \"2024-10-08 18:26:00\", \"open\": \"164.0800\", \"high\": \"164.1000\", \"low\": \"164.0800\", \"close\": \"164.1000\", \"volume\": \"81\"}</td></tr><tr><td>{\"symbol\": \"GOOGL\", \"timestamp\": \"2024-10-08 18:25:00\", \"open\": \"164.1000\", \"high\": \"164.1000\", \"low\": \"164.1000\", \"close\": \"164.1000\", \"volume\": \"9\"}</td></tr><tr><td>{\"symbol\": \"GOOGL\", \"timestamp\": \"2024-10-08 18:24:00\", \"open\": \"164.1000\", \"high\": \"164.1000\", \"low\": \"164.0600\", \"close\": \"164.0600\", \"volume\": \"23\"}</td></tr><tr><td>{\"symbol\": \"GOOGL\", \"timestamp\": \"2024-10-08 18:23:00\", \"open\": \"164.0810\", \"high\": \"164.1000\", \"low\": \"164.0500\", \"close\": \"164.0500\", \"volume\": \"176\"}</td></tr><tr><td>{\"symbol\": \"GOOGL\", \"timestamp\": \"2024-10-08 18:22:00\", \"open\": \"164.0500\", \"high\": \"164.0514\", \"low\": \"164.0500\", \"close\": \"164.0514\", \"volume\": \"48\"}</td></tr><tr><td>{\"symbol\": \"GOOGL\", \"timestamp\": \"2024-10-08 18:20:00\", \"open\": \"164.3800\", \"high\": \"164.3800\", \"low\": \"164.3800\", \"close\": \"164.3800\", \"volume\": \"44642\"}</td></tr><tr><td>{\"symbol\": \"GOOGL\", \"timestamp\": \"2024-10-08 18:18:00\", \"open\": \"164.0250\", \"high\": \"164.0250\", \"low\": \"164.0250\", \"close\": \"164.0250\", \"volume\": \"8\"}</td></tr><tr><td>{\"symbol\": \"GOOGL\", \"timestamp\": \"2024-10-08 18:17:00\", \"open\": \"164.0500\", \"high\": \"164.0500\", \"low\": \"164.0257\", \"close\": \"164.0257\", \"volume\": \"9\"}</td></tr><tr><td>{\"symbol\": \"GOOGL\", \"timestamp\": \"2024-10-08 18:16:00\", \"open\": \"164.0800\", \"high\": \"164.1000\", \"low\": \"164.0800\", \"close\": \"164.1000\", \"volume\": \"3\"}</td></tr><tr><td>{\"symbol\": \"GOOGL\", \"timestamp\": \"2024-10-08 18:15:00\", \"open\": \"164.0500\", \"high\": \"164.0500\", \"low\": \"164.0500\", \"close\": \"164.0500\", \"volume\": \"1\"}</td></tr><tr><td>{\"symbol\": \"GOOGL\", \"timestamp\": \"2024-10-08 18:14:00\", \"open\": \"164.0200\", \"high\": \"164.1000\", \"low\": \"164.0200\", \"close\": \"164.1000\", \"volume\": \"15\"}</td></tr><tr><td>{\"symbol\": \"GOOGL\", \"timestamp\": \"2024-10-08 18:13:00\", \"open\": \"164.0200\", \"high\": \"166.5766\", \"low\": \"164.0200\", \"close\": \"166.5766\", \"volume\": \"328\"}</td></tr><tr><td>{\"symbol\": \"GOOGL\", \"timestamp\": \"2024-10-08 18:12:00\", \"open\": \"164.0800\", \"high\": \"164.1000\", \"low\": \"161.7687\", \"close\": \"164.1000\", \"volume\": \"169\"}</td></tr><tr><td>{\"symbol\": \"GOOGL\", \"timestamp\": \"2024-10-08 18:11:00\", \"open\": \"164.0800\", \"high\": \"164.0800\", \"low\": \"164.0800\", \"close\": \"164.0800\", \"volume\": \"1\"}</td></tr><tr><td>{\"symbol\": \"GOOGL\", \"timestamp\": \"2024-10-08 18:10:00\", \"open\": \"164.1000\", \"high\": \"164.1000\", \"low\": \"160.3763\", \"close\": \"160.3763\", \"volume\": \"80\"}</td></tr><tr><td>{\"symbol\": \"AAPL\", \"timestamp\": \"2024-10-08 19:54:00\", \"open\": \"225.3488\", \"high\": \"225.3488\", \"low\": \"225.2500\", \"close\": \"225.3000\", \"volume\": \"10\"}</td></tr><tr><td>{\"symbol\": \"AAPL\", \"timestamp\": \"2024-10-08 19:53:00\", \"open\": \"225.4580\", \"high\": \"225.4580\", \"low\": \"225.2360\", \"close\": \"225.3200\", \"volume\": \"169\"}</td></tr><tr><td>{\"symbol\": \"AAPL\", \"timestamp\": \"2024-10-08 19:52:00\", \"open\": \"225.3500\", \"high\": \"225.3500\", \"low\": \"225.3200\", \"close\": \"225.3500\", \"volume\": \"44\"}</td></tr><tr><td>{\"symbol\": \"AAPL\", \"timestamp\": \"2024-10-08 19:51:00\", \"open\": \"225.2400\", \"high\": \"225.3000\", \"low\": \"225.2400\", \"close\": \"225.3000\", \"volume\": \"283\"}</td></tr><tr><td>{\"symbol\": \"AAPL\", \"timestamp\": \"2024-10-08 19:50:00\", \"open\": \"225.2950\", \"high\": \"225.2950\", \"low\": \"225.2300\", \"close\": \"225.2300\", \"volume\": \"15\"}</td></tr><tr><td>{\"symbol\": \"AAPL\", \"timestamp\": \"2024-10-08 19:49:00\", \"open\": \"225.2400\", \"high\": \"225.2950\", \"low\": \"225.2300\", \"close\": \"225.2700\", \"volume\": \"36\"}</td></tr><tr><td>{\"symbol\": \"AAPL\", \"timestamp\": \"2024-10-08 19:48:00\", \"open\": \"225.2950\", \"high\": \"225.3535\", \"low\": \"225.2300\", \"close\": \"225.2950\", \"volume\": \"169\"}</td></tr><tr><td>{\"symbol\": \"AAPL\", \"timestamp\": \"2024-10-08 19:47:00\", \"open\": \"225.2950\", \"high\": \"225.2950\", \"low\": \"225.2300\", \"close\": \"225.2300\", \"volume\": \"504\"}</td></tr><tr><td>{\"symbol\": \"AAPL\", \"timestamp\": \"2024-10-08 19:46:00\", \"open\": \"225.2200\", \"high\": \"225.3600\", \"low\": \"225.2200\", \"close\": \"225.2900\", \"volume\": \"94\"}</td></tr><tr><td>{\"symbol\": \"AAPL\", \"timestamp\": \"2024-10-08 19:45:00\", \"open\": \"225.3600\", \"high\": \"225.3600\", \"low\": \"225.2200\", \"close\": \"225.2900\", \"volume\": \"11\"}</td></tr><tr><td>{\"symbol\": \"AAPL\", \"timestamp\": \"2024-10-08 19:44:00\", \"open\": \"225.3800\", \"high\": \"225.3800\", \"low\": \"225.2200\", \"close\": \"225.3000\", \"volume\": \"193\"}</td></tr><tr><td>{\"symbol\": \"AAPL\", \"timestamp\": \"2024-10-08 19:43:00\", \"open\": \"225.3800\", \"high\": \"225.5100\", \"low\": \"225.2500\", \"close\": \"225.5100\", \"volume\": \"104\"}</td></tr><tr><td>{\"symbol\": \"AAPL\", \"timestamp\": \"2024-10-08 19:42:00\", \"open\": \"225.3700\", \"high\": \"225.3700\", \"low\": \"225.3700\", \"close\": \"225.3700\", \"volume\": \"1\"}</td></tr><tr><td>{\"symbol\": \"AAPL\", \"timestamp\": \"2024-10-08 19:41:00\", \"open\": \"225.2267\", \"high\": \"225.5100\", \"low\": \"225.2267\", \"close\": \"225.3700\", \"volume\": \"11\"}</td></tr><tr><td>{\"symbol\": \"AAPL\", \"timestamp\": \"2024-10-08 19:40:00\", \"open\": \"225.2200\", \"high\": \"225.4479\", \"low\": \"225.2200\", \"close\": \"225.2300\", \"volume\": \"221\"}</td></tr><tr><td>{\"symbol\": \"AAPL\", \"timestamp\": \"2024-10-08 19:39:00\", \"open\": \"225.2200\", \"high\": \"225.3600\", \"low\": \"225.2200\", \"close\": \"225.3600\", \"volume\": \"27\"}</td></tr><tr><td>{\"symbol\": \"AAPL\", \"timestamp\": \"2024-10-08 19:38:00\", \"open\": \"225.2600\", \"high\": \"225.5000\", \"low\": \"225.2200\", \"close\": \"225.4860\", \"volume\": \"77\"}</td></tr><tr><td>{\"symbol\": \"AAPL\", \"timestamp\": \"2024-10-08 19:37:00\", \"open\": \"225.2600\", \"high\": \"225.2600\", \"low\": \"225.2200\", \"close\": \"225.2300\", \"volume\": \"874\"}</td></tr><tr><td>{\"symbol\": \"AAPL\", \"timestamp\": \"2024-10-08 19:36:00\", \"open\": \"225.2200\", \"high\": \"225.2500\", \"low\": \"225.2200\", \"close\": \"225.2400\", \"volume\": \"150\"}</td></tr><tr><td>{\"symbol\": \"AAPL\", \"timestamp\": \"2024-10-08 19:35:00\", \"open\": \"225.2200\", \"high\": \"225.2500\", \"low\": \"225.2200\", \"close\": \"225.2350\", \"volume\": \"75\"}</td></tr><tr><td>{\"symbol\": \"AAPL\", \"timestamp\": \"2024-10-08 19:34:00\", \"open\": \"225.2600\", \"high\": \"225.2600\", \"low\": \"225.2200\", \"close\": \"225.2350\", \"volume\": \"1022\"}</td></tr><tr><td>{\"symbol\": \"AAPL\", \"timestamp\": \"2024-10-08 19:33:00\", \"open\": \"225.2500\", \"high\": \"225.2600\", \"low\": \"225.2200\", \"close\": \"225.2400\", \"volume\": \"1619\"}</td></tr><tr><td>{\"symbol\": \"AAPL\", \"timestamp\": \"2024-10-08 19:32:00\", \"open\": \"225.2850\", \"high\": \"225.3100\", \"low\": \"225.2500\", \"close\": \"225.2500\", \"volume\": \"419\"}</td></tr><tr><td>{\"symbol\": \"AAPL\", \"timestamp\": \"2024-10-08 19:31:00\", \"open\": \"225.3200\", \"high\": \"225.3200\", \"low\": \"225.3200\", \"close\": \"225.3200\", \"volume\": \"1\"}</td></tr><tr><td>{\"symbol\": \"AAPL\", \"timestamp\": \"2024-10-08 19:30:00\", \"open\": \"225.3400\", \"high\": \"225.3800\", \"low\": \"225.2500\", \"close\": \"225.2500\", \"volume\": \"321\"}</td></tr><tr><td>{\"symbol\": \"AAPL\", \"timestamp\": \"2024-10-08 19:29:00\", \"open\": \"225.3000\", \"high\": \"225.3600\", \"low\": \"225.2500\", \"close\": \"225.3400\", \"volume\": \"51\"}</td></tr><tr><td>{\"symbol\": \"AAPL\", \"timestamp\": \"2024-10-08 19:28:00\", \"open\": \"225.4000\", \"high\": \"225.4000\", \"low\": \"225.2500\", \"close\": \"225.2513\", \"volume\": \"338\"}</td></tr><tr><td>{\"symbol\": \"AAPL\", \"timestamp\": \"2024-10-08 19:27:00\", \"open\": \"225.3750\", \"high\": \"225.3900\", \"low\": \"225.3500\", \"close\": \"225.3500\", \"volume\": \"233\"}</td></tr><tr><td>{\"symbol\": \"AAPL\", \"timestamp\": \"2024-10-08 19:26:00\", \"open\": \"225.4500\", \"high\": \"225.4500\", \"low\": \"225.3500\", \"close\": \"225.3500\", \"volume\": \"34\"}</td></tr><tr><td>{\"symbol\": \"AAPL\", \"timestamp\": \"2024-10-08 18:49:00\", \"open\": \"225.4500\", \"high\": \"225.4500\", \"low\": \"225.4000\", \"close\": \"225.4300\", \"volume\": \"143\"}</td></tr><tr><td>{\"symbol\": \"AAPL\", \"timestamp\": \"2024-10-08 18:48:00\", \"open\": \"225.4000\", \"high\": \"225.4950\", \"low\": \"225.4000\", \"close\": \"225.4000\", \"volume\": \"63\"}</td></tr><tr><td>{\"symbol\": \"AAPL\", \"timestamp\": \"2024-10-08 18:47:00\", \"open\": \"225.4000\", \"high\": \"225.4200\", \"low\": \"225.3800\", \"close\": \"225.4000\", \"volume\": \"962\"}</td></tr><tr><td>{\"symbol\": \"AAPL\", \"timestamp\": \"2024-10-08 18:46:00\", \"open\": \"225.3850\", \"high\": \"225.4000\", \"low\": \"225.3850\", \"close\": \"225.4000\", \"volume\": \"2\"}</td></tr><tr><td>{\"symbol\": \"AAPL\", \"timestamp\": \"2024-10-08 18:45:00\", \"open\": \"225.4100\", \"high\": \"225.4100\", \"low\": \"225.3500\", \"close\": \"225.3850\", \"volume\": \"31\"}</td></tr><tr><td>{\"symbol\": \"AAPL\", \"timestamp\": \"2024-10-08 18:44:00\", \"open\": \"225.3500\", \"high\": \"225.4182\", \"low\": \"225.3500\", \"close\": \"225.4100\", \"volume\": \"47\"}</td></tr><tr><td>{\"symbol\": \"AAPL\", \"timestamp\": \"2024-10-08 18:43:00\", \"open\": \"225.4100\", \"high\": \"225.4200\", \"low\": \"225.3500\", \"close\": \"225.3800\", \"volume\": \"60\"}</td></tr><tr><td>{\"symbol\": \"AAPL\", \"timestamp\": \"2024-10-08 18:42:00\", \"open\": \"225.3850\", \"high\": \"225.3850\", \"low\": \"225.3500\", \"close\": \"225.3850\", \"volume\": \"18\"}</td></tr><tr><td>{\"symbol\": \"AAPL\", \"timestamp\": \"2024-10-08 18:41:00\", \"open\": \"225.3850\", \"high\": \"225.3850\", \"low\": \"225.3500\", \"close\": \"225.3500\", \"volume\": \"7\"}</td></tr><tr><td>{\"symbol\": \"AAPL\", \"timestamp\": \"2024-10-08 18:40:00\", \"open\": \"225.3900\", \"high\": \"225.3900\", \"low\": \"225.3500\", \"close\": \"225.3850\", \"volume\": \"213\"}</td></tr><tr><td>{\"symbol\": \"AAPL\", \"timestamp\": \"2024-10-08 18:39:00\", \"open\": \"225.3850\", \"high\": \"225.4200\", \"low\": \"225.3500\", \"close\": \"225.4200\", \"volume\": \"146\"}</td></tr><tr><td>{\"symbol\": \"AAPL\", \"timestamp\": \"2024-10-08 18:38:00\", \"open\": \"225.3500\", \"high\": \"225.3850\", \"low\": \"225.3500\", \"close\": \"225.3850\", \"volume\": \"258\"}</td></tr><tr><td>{\"symbol\": \"AAPL\", \"timestamp\": \"2024-10-08 18:37:00\", \"open\": \"225.4250\", \"high\": \"225.4250\", \"low\": \"225.3500\", \"close\": \"225.4250\", \"volume\": \"5\"}</td></tr><tr><td>{\"symbol\": \"AAPL\", \"timestamp\": \"2024-10-08 18:36:00\", \"open\": \"225.4250\", \"high\": \"225.5000\", \"low\": \"225.3500\", \"close\": \"225.4250\", \"volume\": \"213\"}</td></tr><tr><td>{\"symbol\": \"AAPL\", \"timestamp\": \"2024-10-08 18:35:00\", \"open\": \"225.4250\", \"high\": \"225.5000\", \"low\": \"225.3500\", \"close\": \"225.4730\", \"volume\": \"113\"}</td></tr><tr><td>{\"symbol\": \"AAPL\", \"timestamp\": \"2024-10-08 18:34:00\", \"open\": \"225.4250\", \"high\": \"225.4250\", \"low\": \"225.4250\", \"close\": \"225.4250\", \"volume\": \"3\"}</td></tr><tr><td>{\"symbol\": \"AAPL\", \"timestamp\": \"2024-10-08 18:33:00\", \"open\": \"225.3500\", \"high\": \"225.4400\", \"low\": \"225.3500\", \"close\": \"225.4250\", \"volume\": \"85\"}</td></tr><tr><td>{\"symbol\": \"AAPL\", \"timestamp\": \"2024-10-08 18:32:00\", \"open\": \"225.4250\", \"high\": \"225.4250\", \"low\": \"225.3500\", \"close\": \"225.4000\", \"volume\": \"25\"}</td></tr><tr><td>{\"symbol\": \"AAPL\", \"timestamp\": \"2024-10-08 18:31:00\", \"open\": \"225.3500\", \"high\": \"225.4250\", \"low\": \"225.3500\", \"close\": \"225.3800\", \"volume\": \"261\"}</td></tr><tr><td>{\"symbol\": \"AAPL\", \"timestamp\": \"2024-10-08 18:30:00\", \"open\": \"225.3900\", \"high\": \"225.4300\", \"low\": \"225.3500\", \"close\": \"225.4250\", \"volume\": \"506\"}</td></tr><tr><td>{\"symbol\": \"AAPL\", \"timestamp\": \"2024-10-08 18:29:00\", \"open\": \"225.3300\", \"high\": \"225.4300\", \"low\": \"225.3100\", \"close\": \"225.4300\", \"volume\": \"217\"}</td></tr><tr><td>{\"symbol\": \"AAPL\", \"timestamp\": \"2024-10-08 18:28:00\", \"open\": \"225.3500\", \"high\": \"225.3500\", \"low\": \"225.2800\", \"close\": \"225.3000\", \"volume\": \"169\"}</td></tr><tr><td>{\"symbol\": \"AAPL\", \"timestamp\": \"2024-10-08 18:27:00\", \"open\": \"225.3200\", \"high\": \"225.3500\", \"low\": \"225.2700\", \"close\": \"225.3050\", \"volume\": \"172\"}</td></tr><tr><td>{\"symbol\": \"AAPL\", \"timestamp\": \"2024-10-08 18:26:00\", \"open\": \"225.3100\", \"high\": \"225.3300\", \"low\": \"225.2600\", \"close\": \"225.3300\", \"volume\": \"374\"}</td></tr><tr><td>{\"symbol\": \"AAPL\", \"timestamp\": \"2024-10-08 18:25:00\", \"open\": \"225.2950\", \"high\": \"225.3300\", \"low\": \"225.2600\", \"close\": \"225.3300\", \"volume\": \"114\"}</td></tr><tr><td>{\"symbol\": \"AAPL\", \"timestamp\": \"2024-10-08 18:24:00\", \"open\": \"225.2950\", \"high\": \"225.2950\", \"low\": \"225.2600\", \"close\": \"225.2600\", \"volume\": \"5\"}</td></tr><tr><td>{\"symbol\": \"AAPL\", \"timestamp\": \"2024-10-08 18:23:00\", \"open\": \"225.3250\", \"high\": \"225.3965\", \"low\": \"225.2600\", \"close\": \"225.3965\", \"volume\": \"75\"}</td></tr><tr><td>{\"symbol\": \"AAPL\", \"timestamp\": \"2024-10-08 18:22:00\", \"open\": \"225.3300\", \"high\": \"225.3300\", \"low\": \"225.2633\", \"close\": \"225.3000\", \"volume\": \"19\"}</td></tr><tr><td>{\"symbol\": \"AAPL\", \"timestamp\": \"2024-10-08 18:21:00\", \"open\": \"225.3300\", \"high\": \"225.4000\", \"low\": \"225.2500\", \"close\": \"225.3250\", \"volume\": \"195\"}</td></tr><tr><td>{\"symbol\": \"AAPL\", \"timestamp\": \"2024-10-08 18:20:00\", \"open\": \"225.3100\", \"high\": \"225.7700\", \"low\": \"225.2500\", \"close\": \"225.2500\", \"volume\": \"191387\"}</td></tr><tr><td>{\"symbol\": \"AAPL\", \"timestamp\": \"2024-10-08 19:55:00\", \"open\": \"225.2525\", \"high\": \"225.4875\", \"low\": \"225.2500\", \"close\": \"225.3000\", \"volume\": \"160\"}</td></tr><tr><td>{\"symbol\": \"AAPL\", \"timestamp\": \"2024-10-08 19:54:00\", \"open\": \"225.3488\", \"high\": \"225.3488\", \"low\": \"225.2500\", \"close\": \"225.3000\", \"volume\": \"10\"}</td></tr><tr><td>{\"symbol\": \"AAPL\", \"timestamp\": \"2024-10-08 19:53:00\", \"open\": \"225.4580\", \"high\": \"225.4580\", \"low\": \"225.2360\", \"close\": \"225.3200\", \"volume\": \"169\"}</td></tr><tr><td>{\"symbol\": \"AAPL\", \"timestamp\": \"2024-10-08 19:52:00\", \"open\": \"225.3500\", \"high\": \"225.3500\", \"low\": \"225.3200\", \"close\": \"225.3500\", \"volume\": \"44\"}</td></tr><tr><td>{\"symbol\": \"AAPL\", \"timestamp\": \"2024-10-08 19:51:00\", \"open\": \"225.2400\", \"high\": \"225.3000\", \"low\": \"225.2400\", \"close\": \"225.3000\", \"volume\": \"283\"}</td></tr><tr><td>{\"symbol\": \"AAPL\", \"timestamp\": \"2024-10-08 19:50:00\", \"open\": \"225.2950\", \"high\": \"225.2950\", \"low\": \"225.2300\", \"close\": \"225.2300\", \"volume\": \"15\"}</td></tr><tr><td>{\"symbol\": \"AAPL\", \"timestamp\": \"2024-10-08 19:49:00\", \"open\": \"225.2400\", \"high\": \"225.2950\", \"low\": \"225.2300\", \"close\": \"225.2700\", \"volume\": \"36\"}</td></tr><tr><td>{\"symbol\": \"AAPL\", \"timestamp\": \"2024-10-08 19:48:00\", \"open\": \"225.2950\", \"high\": \"225.3535\", \"low\": \"225.2300\", \"close\": \"225.2950\", \"volume\": \"169\"}</td></tr><tr><td>{\"symbol\": \"AAPL\", \"timestamp\": \"2024-10-08 19:47:00\", \"open\": \"225.2950\", \"high\": \"225.2950\", \"low\": \"225.2300\", \"close\": \"225.2300\", \"volume\": \"504\"}</td></tr><tr><td>{\"symbol\": \"AAPL\", \"timestamp\": \"2024-10-08 19:46:00\", \"open\": \"225.2200\", \"high\": \"225.3600\", \"low\": \"225.2200\", \"close\": \"225.2900\", \"volume\": \"94\"}</td></tr><tr><td>{\"symbol\": \"AAPL\", \"timestamp\": \"2024-10-08 19:45:00\", \"open\": \"225.3600\", \"high\": \"225.3600\", \"low\": \"225.2200\", \"close\": \"225.2900\", \"volume\": \"11\"}</td></tr><tr><td>{\"symbol\": \"AAPL\", \"timestamp\": \"2024-10-08 19:44:00\", \"open\": \"225.3800\", \"high\": \"225.3800\", \"low\": \"225.2200\", \"close\": \"225.3000\", \"volume\": \"193\"}</td></tr><tr><td>{\"symbol\": \"AAPL\", \"timestamp\": \"2024-10-08 19:43:00\", \"open\": \"225.3800\", \"high\": \"225.5100\", \"low\": \"225.2500\", \"close\": \"225.5100\", \"volume\": \"104\"}</td></tr><tr><td>{\"symbol\": \"AAPL\", \"timestamp\": \"2024-10-08 19:42:00\", \"open\": \"225.3700\", \"high\": \"225.3700\", \"low\": \"225.3700\", \"close\": \"225.3700\", \"volume\": \"1\"}</td></tr><tr><td>{\"symbol\": \"AAPL\", \"timestamp\": \"2024-10-08 19:41:00\", \"open\": \"225.2267\", \"high\": \"225.5100\", \"low\": \"225.2267\", \"close\": \"225.3700\", \"volume\": \"11\"}</td></tr><tr><td>{\"symbol\": \"AAPL\", \"timestamp\": \"2024-10-08 19:40:00\", \"open\": \"225.2200\", \"high\": \"225.4479\", \"low\": \"225.2200\", \"close\": \"225.2300\", \"volume\": \"221\"}</td></tr><tr><td>{\"symbol\": \"AAPL\", \"timestamp\": \"2024-10-08 19:39:00\", \"open\": \"225.2200\", \"high\": \"225.3600\", \"low\": \"225.2200\", \"close\": \"225.3600\", \"volume\": \"27\"}</td></tr><tr><td>{\"symbol\": \"AAPL\", \"timestamp\": \"2024-10-08 19:38:00\", \"open\": \"225.2600\", \"high\": \"225.5000\", \"low\": \"225.2200\", \"close\": \"225.4860\", \"volume\": \"77\"}</td></tr><tr><td>{\"symbol\": \"AAPL\", \"timestamp\": \"2024-10-08 19:37:00\", \"open\": \"225.2600\", \"high\": \"225.2600\", \"low\": \"225.2200\", \"close\": \"225.2300\", \"volume\": \"874\"}</td></tr><tr><td>{\"symbol\": \"AAPL\", \"timestamp\": \"2024-10-08 19:36:00\", \"open\": \"225.2200\", \"high\": \"225.2500\", \"low\": \"225.2200\", \"close\": \"225.2400\", \"volume\": \"150\"}</td></tr><tr><td>{\"symbol\": \"AAPL\", \"timestamp\": \"2024-10-08 19:35:00\", \"open\": \"225.2200\", \"high\": \"225.2500\", \"low\": \"225.2200\", \"close\": \"225.2350\", \"volume\": \"75\"}</td></tr><tr><td>{\"symbol\": \"AAPL\", \"timestamp\": \"2024-10-08 19:34:00\", \"open\": \"225.2600\", \"high\": \"225.2600\", \"low\": \"225.2200\", \"close\": \"225.2350\", \"volume\": \"1022\"}</td></tr><tr><td>{\"symbol\": \"AAPL\", \"timestamp\": \"2024-10-08 19:33:00\", \"open\": \"225.2500\", \"high\": \"225.2600\", \"low\": \"225.2200\", \"close\": \"225.2400\", \"volume\": \"1619\"}</td></tr><tr><td>{\"symbol\": \"AAPL\", \"timestamp\": \"2024-10-08 19:32:00\", \"open\": \"225.2850\", \"high\": \"225.3100\", \"low\": \"225.2500\", \"close\": \"225.2500\", \"volume\": \"419\"}</td></tr><tr><td>{\"symbol\": \"AAPL\", \"timestamp\": \"2024-10-08 19:31:00\", \"open\": \"225.3200\", \"high\": \"225.3200\", \"low\": \"225.3200\", \"close\": \"225.3200\", \"volume\": \"1\"}</td></tr><tr><td>{\"symbol\": \"AAPL\", \"timestamp\": \"2024-10-08 19:30:00\", \"open\": \"225.3400\", \"high\": \"225.3800\", \"low\": \"225.2500\", \"close\": \"225.2500\", \"volume\": \"321\"}</td></tr><tr><td>{\"symbol\": \"AAPL\", \"timestamp\": \"2024-10-08 19:29:00\", \"open\": \"225.3000\", \"high\": \"225.3600\", \"low\": \"225.2500\", \"close\": \"225.3400\", \"volume\": \"51\"}</td></tr><tr><td>{\"symbol\": \"AAPL\", \"timestamp\": \"2024-10-08 19:28:00\", \"open\": \"225.4000\", \"high\": \"225.4000\", \"low\": \"225.2500\", \"close\": \"225.2513\", \"volume\": \"338\"}</td></tr><tr><td>{\"symbol\": \"AAPL\", \"timestamp\": \"2024-10-08 19:27:00\", \"open\": \"225.3750\", \"high\": \"225.3900\", \"low\": \"225.3500\", \"close\": \"225.3500\", \"volume\": \"233\"}</td></tr><tr><td>{\"symbol\": \"AAPL\", \"timestamp\": \"2024-10-08 19:26:00\", \"open\": \"225.4500\", \"high\": \"225.4500\", \"low\": \"225.3500\", \"close\": \"225.3500\", \"volume\": \"34\"}</td></tr><tr><td>{\"symbol\": \"AAPL\", \"timestamp\": \"2024-10-08 19:25:00\", \"open\": \"225.3500\", \"high\": \"225.4280\", \"low\": \"225.3500\", \"close\": \"225.4000\", \"volume\": \"113\"}</td></tr><tr><td>{\"symbol\": \"AAPL\", \"timestamp\": \"2024-10-08 19:24:00\", \"open\": \"225.4250\", \"high\": \"225.4300\", \"low\": \"225.3500\", \"close\": \"225.4000\", \"volume\": \"397\"}</td></tr><tr><td>{\"symbol\": \"AAPL\", \"timestamp\": \"2024-10-08 19:23:00\", \"open\": \"225.4500\", \"high\": \"225.4500\", \"low\": \"225.4000\", \"close\": \"225.4250\", \"volume\": \"56\"}</td></tr><tr><td>{\"symbol\": \"AAPL\", \"timestamp\": \"2024-10-08 19:22:00\", \"open\": \"225.4250\", \"high\": \"225.4250\", \"low\": \"225.4000\", \"close\": \"225.4000\", \"volume\": \"62\"}</td></tr><tr><td>{\"symbol\": \"AAPL\", \"timestamp\": \"2024-10-08 19:21:00\", \"open\": \"225.4300\", \"high\": \"225.4300\", \"low\": \"225.4000\", \"close\": \"225.4250\", \"volume\": \"539\"}</td></tr><tr><td>{\"symbol\": \"AAPL\", \"timestamp\": \"2024-10-08 19:20:00\", \"open\": \"225.4000\", \"high\": \"225.4300\", \"low\": \"225.4000\", \"close\": \"225.4300\", \"volume\": \"18\"}</td></tr><tr><td>{\"symbol\": \"AAPL\", \"timestamp\": \"2024-10-08 19:19:00\", \"open\": \"225.4000\", \"high\": \"225.4300\", \"low\": \"225.4000\", \"close\": \"225.4300\", \"volume\": \"8\"}</td></tr><tr><td>{\"symbol\": \"AAPL\", \"timestamp\": \"2024-10-08 19:18:00\", \"open\": \"225.4300\", \"high\": \"225.4300\", \"low\": \"225.4000\", \"close\": \"225.4000\", \"volume\": \"12\"}</td></tr><tr><td>{\"symbol\": \"AAPL\", \"timestamp\": \"2024-10-08 19:17:00\", \"open\": \"225.4500\", \"high\": \"225.4500\", \"low\": \"225.4000\", \"close\": \"225.4250\", \"volume\": \"8\"}</td></tr><tr><td>{\"symbol\": \"AAPL\", \"timestamp\": \"2024-10-08 19:16:00\", \"open\": \"225.4550\", \"high\": \"225.4550\", \"low\": \"225.4000\", \"close\": \"225.4500\", \"volume\": \"179\"}</td></tr><tr><td>{\"symbol\": \"AAPL\", \"timestamp\": \"2024-10-08 19:15:00\", \"open\": \"225.4492\", \"high\": \"225.4500\", \"low\": \"225.4250\", \"close\": \"225.4500\", \"volume\": \"304\"}</td></tr><tr><td>{\"symbol\": \"AAPL\", \"timestamp\": \"2024-10-08 19:14:00\", \"open\": \"225.4200\", \"high\": \"225.4488\", \"low\": \"225.4000\", \"close\": \"225.4250\", \"volume\": \"16\"}</td></tr><tr><td>{\"symbol\": \"AAPL\", \"timestamp\": \"2024-10-08 19:13:00\", \"open\": \"225.4550\", \"high\": \"225.4550\", \"low\": \"225.4025\", \"close\": \"225.4500\", \"volume\": \"43\"}</td></tr><tr><td>{\"symbol\": \"AAPL\", \"timestamp\": \"2024-10-08 19:12:00\", \"open\": \"225.4550\", \"high\": \"225.5100\", \"low\": \"225.4000\", \"close\": \"225.5000\", \"volume\": \"116\"}</td></tr><tr><td>{\"symbol\": \"AAPL\", \"timestamp\": \"2024-10-08 19:11:00\", \"open\": \"225.4650\", \"high\": \"225.4650\", \"low\": \"225.4650\", \"close\": \"225.4650\", \"volume\": \"1\"}</td></tr><tr><td>{\"symbol\": \"AAPL\", \"timestamp\": \"2024-10-08 19:10:00\", \"open\": \"225.4500\", \"high\": \"225.4900\", \"low\": \"225.4500\", \"close\": \"225.4650\", \"volume\": \"36\"}</td></tr><tr><td>{\"symbol\": \"AAPL\", \"timestamp\": \"2024-10-08 19:09:00\", \"open\": \"225.4700\", \"high\": \"225.4900\", \"low\": \"225.4500\", \"close\": \"225.4700\", \"volume\": \"8\"}</td></tr><tr><td>{\"symbol\": \"AAPL\", \"timestamp\": \"2024-10-08 19:08:00\", \"open\": \"225.4700\", \"high\": \"225.5077\", \"low\": \"225.4000\", \"close\": \"225.4700\", \"volume\": \"26\"}</td></tr><tr><td>{\"symbol\": \"AAPL\", \"timestamp\": \"2024-10-08 19:07:00\", \"open\": \"225.4000\", \"high\": \"225.5388\", \"low\": \"225.4000\", \"close\": \"225.4500\", \"volume\": \"75\"}</td></tr><tr><td>{\"symbol\": \"AAPL\", \"timestamp\": \"2024-10-08 19:06:00\", \"open\": \"225.5000\", \"high\": \"225.5000\", \"low\": \"225.4000\", \"close\": \"225.4700\", \"volume\": \"31\"}</td></tr><tr><td>{\"symbol\": \"AAPL\", \"timestamp\": \"2024-10-08 19:05:00\", \"open\": \"225.5300\", \"high\": \"225.5300\", \"low\": \"225.4000\", \"close\": \"225.5000\", \"volume\": \"351\"}</td></tr><tr><td>{\"symbol\": \"AAPL\", \"timestamp\": \"2024-10-08 19:04:00\", \"open\": \"225.5200\", \"high\": \"225.5200\", \"low\": \"225.5200\", \"close\": \"225.5200\", \"volume\": \"1\"}</td></tr><tr><td>{\"symbol\": \"AAPL\", \"timestamp\": \"2024-10-08 19:03:00\", \"open\": \"225.5200\", \"high\": \"225.5400\", \"low\": \"225.5000\", \"close\": \"225.5200\", \"volume\": \"101\"}</td></tr><tr><td>{\"symbol\": \"AAPL\", \"timestamp\": \"2024-10-08 19:02:00\", \"open\": \"225.5300\", \"high\": \"225.5300\", \"low\": \"225.5150\", \"close\": \"225.5292\", \"volume\": \"15\"}</td></tr><tr><td>{\"symbol\": \"AAPL\", \"timestamp\": \"2024-10-08 19:01:00\", \"open\": \"225.5200\", \"high\": \"225.5400\", \"low\": \"225.5000\", \"close\": \"225.5150\", \"volume\": \"276\"}</td></tr><tr><td>{\"symbol\": \"AAPL\", \"timestamp\": \"2024-10-08 19:00:00\", \"open\": \"225.5000\", \"high\": \"225.5400\", \"low\": \"225.5000\", \"close\": \"225.5400\", \"volume\": \"991\"}</td></tr><tr><td>{\"symbol\": \"AAPL\", \"timestamp\": \"2024-10-08 18:59:00\", \"open\": \"225.5150\", \"high\": \"225.5300\", \"low\": \"225.5000\", \"close\": \"225.5300\", \"volume\": \"263\"}</td></tr><tr><td>{\"symbol\": \"AAPL\", \"timestamp\": \"2024-10-08 18:58:00\", \"open\": \"225.5015\", \"high\": \"225.5150\", \"low\": \"225.5000\", \"close\": \"225.5150\", \"volume\": \"42\"}</td></tr><tr><td>{\"symbol\": \"AAPL\", \"timestamp\": \"2024-10-08 18:57:00\", \"open\": \"225.5000\", \"high\": \"225.5150\", \"low\": \"225.5000\", \"close\": \"225.5000\", \"volume\": \"64\"}</td></tr><tr><td>{\"symbol\": \"AAPL\", \"timestamp\": \"2024-10-08 18:56:00\", \"open\": \"225.4500\", \"high\": \"225.5300\", \"low\": \"225.4500\", \"close\": \"225.5100\", \"volume\": \"1053\"}</td></tr><tr><td>{\"symbol\": \"AAPL\", \"timestamp\": \"2024-10-08 18:55:00\", \"open\": \"225.4500\", \"high\": \"225.4600\", \"low\": \"225.4500\", \"close\": \"225.4500\", \"volume\": \"159\"}</td></tr><tr><td>{\"symbol\": \"AAPL\", \"timestamp\": \"2024-10-08 18:54:00\", \"open\": \"225.5000\", \"high\": \"225.5000\", \"low\": \"225.4009\", \"close\": \"225.4500\", \"volume\": \"2305\"}</td></tr><tr><td>{\"symbol\": \"AAPL\", \"timestamp\": \"2024-10-08 18:53:00\", \"open\": \"225.4300\", \"high\": \"225.5000\", \"low\": \"225.4000\", \"close\": \"225.4000\", \"volume\": \"143\"}</td></tr><tr><td>{\"symbol\": \"AAPL\", \"timestamp\": \"2024-10-08 18:52:00\", \"open\": \"225.4500\", \"high\": \"225.5000\", \"low\": \"225.4300\", \"close\": \"225.4500\", \"volume\": \"13\"}</td></tr><tr><td>{\"symbol\": \"AAPL\", \"timestamp\": \"2024-10-08 18:51:00\", \"open\": \"225.4500\", \"high\": \"225.5000\", \"low\": \"225.4000\", \"close\": \"225.4000\", \"volume\": \"35\"}</td></tr><tr><td>{\"symbol\": \"AAPL\", \"timestamp\": \"2024-10-08 18:50:00\", \"open\": \"225.4500\", \"high\": \"225.4500\", \"low\": \"225.4000\", \"close\": \"225.4000\", \"volume\": \"13\"}</td></tr><tr><td>{\"symbol\": \"AAPL\", \"timestamp\": \"2024-10-08 18:49:00\", \"open\": \"225.4500\", \"high\": \"225.4500\", \"low\": \"225.4000\", \"close\": \"225.4300\", \"volume\": \"143\"}</td></tr><tr><td>{\"symbol\": \"AAPL\", \"timestamp\": \"2024-10-08 18:48:00\", \"open\": \"225.4000\", \"high\": \"225.4950\", \"low\": \"225.4000\", \"close\": \"225.4000\", \"volume\": \"63\"}</td></tr><tr><td>{\"symbol\": \"AAPL\", \"timestamp\": \"2024-10-08 18:47:00\", \"open\": \"225.4000\", \"high\": \"225.4200\", \"low\": \"225.3800\", \"close\": \"225.4000\", \"volume\": \"962\"}</td></tr><tr><td>{\"symbol\": \"AAPL\", \"timestamp\": \"2024-10-08 18:46:00\", \"open\": \"225.3850\", \"high\": \"225.4000\", \"low\": \"225.3850\", \"close\": \"225.4000\", \"volume\": \"2\"}</td></tr><tr><td>{\"symbol\": \"AAPL\", \"timestamp\": \"2024-10-08 18:45:00\", \"open\": \"225.4100\", \"high\": \"225.4100\", \"low\": \"225.3500\", \"close\": \"225.3850\", \"volume\": \"31\"}</td></tr><tr><td>{\"symbol\": \"AAPL\", \"timestamp\": \"2024-10-08 18:44:00\", \"open\": \"225.3500\", \"high\": \"225.4182\", \"low\": \"225.3500\", \"close\": \"225.4100\", \"volume\": \"47\"}</td></tr><tr><td>{\"symbol\": \"AAPL\", \"timestamp\": \"2024-10-08 18:43:00\", \"open\": \"225.4100\", \"high\": \"225.4200\", \"low\": \"225.3500\", \"close\": \"225.3800\", \"volume\": \"60\"}</td></tr><tr><td>{\"symbol\": \"AAPL\", \"timestamp\": \"2024-10-08 18:42:00\", \"open\": \"225.3850\", \"high\": \"225.3850\", \"low\": \"225.3500\", \"close\": \"225.3850\", \"volume\": \"18\"}</td></tr><tr><td>{\"symbol\": \"AAPL\", \"timestamp\": \"2024-10-08 18:41:00\", \"open\": \"225.3850\", \"high\": \"225.3850\", \"low\": \"225.3500\", \"close\": \"225.3500\", \"volume\": \"7\"}</td></tr><tr><td>{\"symbol\": \"AAPL\", \"timestamp\": \"2024-10-08 18:40:00\", \"open\": \"225.3900\", \"high\": \"225.3900\", \"low\": \"225.3500\", \"close\": \"225.3850\", \"volume\": \"213\"}</td></tr><tr><td>{\"symbol\": \"AAPL\", \"timestamp\": \"2024-10-08 18:39:00\", \"open\": \"225.3850\", \"high\": \"225.4200\", \"low\": \"225.3500\", \"close\": \"225.4200\", \"volume\": \"146\"}</td></tr><tr><td>{\"symbol\": \"AAPL\", \"timestamp\": \"2024-10-08 18:38:00\", \"open\": \"225.3500\", \"high\": \"225.3850\", \"low\": \"225.3500\", \"close\": \"225.3850\", \"volume\": \"258\"}</td></tr><tr><td>{\"symbol\": \"AAPL\", \"timestamp\": \"2024-10-08 18:37:00\", \"open\": \"225.4250\", \"high\": \"225.4250\", \"low\": \"225.3500\", \"close\": \"225.4250\", \"volume\": \"5\"}</td></tr><tr><td>{\"symbol\": \"AAPL\", \"timestamp\": \"2024-10-08 18:36:00\", \"open\": \"225.4250\", \"high\": \"225.5000\", \"low\": \"225.3500\", \"close\": \"225.4250\", \"volume\": \"213\"}</td></tr><tr><td>{\"symbol\": \"AAPL\", \"timestamp\": \"2024-10-08 18:35:00\", \"open\": \"225.4250\", \"high\": \"225.5000\", \"low\": \"225.3500\", \"close\": \"225.4730\", \"volume\": \"113\"}</td></tr><tr><td>{\"symbol\": \"AAPL\", \"timestamp\": \"2024-10-08 18:34:00\", \"open\": \"225.4250\", \"high\": \"225.4250\", \"low\": \"225.4250\", \"close\": \"225.4250\", \"volume\": \"3\"}</td></tr><tr><td>{\"symbol\": \"AAPL\", \"timestamp\": \"2024-10-08 18:33:00\", \"open\": \"225.3500\", \"high\": \"225.4400\", \"low\": \"225.3500\", \"close\": \"225.4250\", \"volume\": \"85\"}</td></tr><tr><td>{\"symbol\": \"AAPL\", \"timestamp\": \"2024-10-08 18:32:00\", \"open\": \"225.4250\", \"high\": \"225.4250\", \"low\": \"225.3500\", \"close\": \"225.4000\", \"volume\": \"25\"}</td></tr><tr><td>{\"symbol\": \"AAPL\", \"timestamp\": \"2024-10-08 18:31:00\", \"open\": \"225.3500\", \"high\": \"225.4250\", \"low\": \"225.3500\", \"close\": \"225.3800\", \"volume\": \"261\"}</td></tr><tr><td>{\"symbol\": \"AAPL\", \"timestamp\": \"2024-10-08 18:30:00\", \"open\": \"225.3900\", \"high\": \"225.4300\", \"low\": \"225.3500\", \"close\": \"225.4250\", \"volume\": \"506\"}</td></tr><tr><td>{\"symbol\": \"AAPL\", \"timestamp\": \"2024-10-08 18:29:00\", \"open\": \"225.3300\", \"high\": \"225.4300\", \"low\": \"225.3100\", \"close\": \"225.4300\", \"volume\": \"217\"}</td></tr><tr><td>{\"symbol\": \"GOOGL\", \"timestamp\": \"2024-10-08 19:12:00\", \"open\": \"164.1300\", \"high\": \"164.1300\", \"low\": \"164.1000\", \"close\": \"164.1300\", \"volume\": \"18\"}</td></tr><tr><td>{\"symbol\": \"GOOGL\", \"timestamp\": \"2024-10-08 19:11:00\", \"open\": \"164.1050\", \"high\": \"164.1050\", \"low\": \"164.1050\", \"close\": \"164.1050\", \"volume\": \"1\"}</td></tr><tr><td>{\"symbol\": \"GOOGL\", \"timestamp\": \"2024-10-08 19:09:00\", \"open\": \"164.1300\", \"high\": \"164.1300\", \"low\": \"164.1300\", \"close\": \"164.1300\", \"volume\": \"1\"}</td></tr><tr><td>{\"symbol\": \"GOOGL\", \"timestamp\": \"2024-10-08 19:08:00\", \"open\": \"164.2000\", \"high\": \"164.2000\", \"low\": \"164.2000\", \"close\": \"164.2000\", \"volume\": \"5\"}</td></tr><tr><td>{\"symbol\": \"GOOGL\", \"timestamp\": \"2024-10-08 19:07:00\", \"open\": \"164.0800\", \"high\": \"164.0900\", \"low\": \"164.0800\", \"close\": \"164.0900\", \"volume\": \"17\"}</td></tr><tr><td>{\"symbol\": \"GOOGL\", \"timestamp\": \"2024-10-08 19:05:00\", \"open\": \"164.1000\", \"high\": \"164.1650\", \"low\": \"164.1000\", \"close\": \"164.1650\", \"volume\": \"50\"}</td></tr><tr><td>{\"symbol\": \"GOOGL\", \"timestamp\": \"2024-10-08 19:04:00\", \"open\": \"164.1000\", \"high\": \"164.1000\", \"low\": \"164.1000\", \"close\": \"164.1000\", \"volume\": \"302\"}</td></tr><tr><td>{\"symbol\": \"GOOGL\", \"timestamp\": \"2024-10-08 19:03:00\", \"open\": \"164.0800\", \"high\": \"164.0800\", \"low\": \"164.0800\", \"close\": \"164.0800\", \"volume\": \"2\"}</td></tr><tr><td>{\"symbol\": \"GOOGL\", \"timestamp\": \"2024-10-08 19:01:00\", \"open\": \"164.1000\", \"high\": \"164.1000\", \"low\": \"164.1000\", \"close\": \"164.1000\", \"volume\": \"20\"}</td></tr><tr><td>{\"symbol\": \"GOOGL\", \"timestamp\": \"2024-10-08 19:00:00\", \"open\": \"164.1000\", \"high\": \"164.1000\", \"low\": \"164.1000\", \"close\": \"164.1000\", \"volume\": \"2\"}</td></tr><tr><td>{\"symbol\": \"GOOGL\", \"timestamp\": \"2024-10-08 18:59:00\", \"open\": \"164.0900\", \"high\": \"164.0900\", \"low\": \"164.0600\", \"close\": \"164.0600\", \"volume\": \"31\"}</td></tr><tr><td>{\"symbol\": \"GOOGL\", \"timestamp\": \"2024-10-08 18:58:00\", \"open\": \"164.0900\", \"high\": \"164.0900\", \"low\": \"164.0900\", \"close\": \"164.0900\", \"volume\": \"1\"}</td></tr><tr><td>{\"symbol\": \"GOOGL\", \"timestamp\": \"2024-10-08 18:57:00\", \"open\": \"164.0145\", \"high\": \"164.0145\", \"low\": \"164.0145\", \"close\": \"164.0145\", \"volume\": \"3\"}</td></tr><tr><td>{\"symbol\": \"GOOGL\", \"timestamp\": \"2024-10-08 18:56:00\", \"open\": \"164.0500\", \"high\": \"164.0700\", \"low\": \"164.0500\", \"close\": \"164.0700\", \"volume\": \"3344\"}</td></tr><tr><td>{\"symbol\": \"GOOGL\", \"timestamp\": \"2024-10-08 18:55:00\", \"open\": \"164.0100\", \"high\": \"164.0500\", \"low\": \"164.0100\", \"close\": \"164.0400\", \"volume\": \"399\"}</td></tr><tr><td>{\"symbol\": \"GOOGL\", \"timestamp\": \"2024-10-08 18:54:00\", \"open\": \"164.0100\", \"high\": \"164.0100\", \"low\": \"164.0100\", \"close\": \"164.0100\", \"volume\": \"10\"}</td></tr><tr><td>{\"symbol\": \"GOOGL\", \"timestamp\": \"2024-10-08 18:53:00\", \"open\": \"163.9900\", \"high\": \"164.0400\", \"low\": \"163.9900\", \"close\": \"164.0400\", \"volume\": \"911\"}</td></tr><tr><td>{\"symbol\": \"GOOGL\", \"timestamp\": \"2024-10-08 18:52:00\", \"open\": \"164.0200\", \"high\": \"164.0200\", \"low\": \"163.9900\", \"close\": \"164.0000\", \"volume\": \"369\"}</td></tr><tr><td>{\"symbol\": \"GOOGL\", \"timestamp\": \"2024-10-08 18:51:00\", \"open\": \"164.0120\", \"high\": \"164.0120\", \"low\": \"164.0120\", \"close\": \"164.0120\", \"volume\": \"1\"}</td></tr><tr><td>{\"symbol\": \"GOOGL\", \"timestamp\": \"2024-10-08 18:50:00\", \"open\": \"164.0100\", \"high\": \"164.0500\", \"low\": \"164.0100\", \"close\": \"164.0500\", \"volume\": \"14\"}</td></tr><tr><td>{\"symbol\": \"GOOGL\", \"timestamp\": \"2024-10-08 18:49:00\", \"open\": \"164.0400\", \"high\": \"164.0400\", \"low\": \"164.0200\", \"close\": \"164.0200\", \"volume\": \"40\"}</td></tr><tr><td>{\"symbol\": \"GOOGL\", \"timestamp\": \"2024-10-08 18:48:00\", \"open\": \"163.9900\", \"high\": \"163.9900\", \"low\": \"163.9900\", \"close\": \"163.9900\", \"volume\": \"5\"}</td></tr><tr><td>{\"symbol\": \"GOOGL\", \"timestamp\": \"2024-10-08 18:47:00\", \"open\": \"164.0499\", \"high\": \"164.0499\", \"low\": \"164.0200\", \"close\": \"164.0200\", \"volume\": \"105\"}</td></tr><tr><td>{\"symbol\": \"GOOGL\", \"timestamp\": \"2024-10-08 18:46:00\", \"open\": \"164.0300\", \"high\": \"164.0300\", \"low\": \"164.0300\", \"close\": \"164.0300\", \"volume\": \"2\"}</td></tr><tr><td>{\"symbol\": \"AAPL\", \"timestamp\": \"2024-10-08 19:14:00\", \"open\": \"225.4200\", \"high\": \"225.4488\", \"low\": \"225.4000\", \"close\": \"225.4250\", \"volume\": \"16\"}</td></tr><tr><td>{\"symbol\": \"AAPL\", \"timestamp\": \"2024-10-08 19:13:00\", \"open\": \"225.4550\", \"high\": \"225.4550\", \"low\": \"225.4025\", \"close\": \"225.4500\", \"volume\": \"43\"}</td></tr><tr><td>{\"symbol\": \"AAPL\", \"timestamp\": \"2024-10-08 19:12:00\", \"open\": \"225.4550\", \"high\": \"225.5100\", \"low\": \"225.4000\", \"close\": \"225.5000\", \"volume\": \"116\"}</td></tr><tr><td>{\"symbol\": \"AAPL\", \"timestamp\": \"2024-10-08 19:11:00\", \"open\": \"225.4650\", \"high\": \"225.4650\", \"low\": \"225.4650\", \"close\": \"225.4650\", \"volume\": \"1\"}</td></tr><tr><td>{\"symbol\": \"AAPL\", \"timestamp\": \"2024-10-08 19:10:00\", \"open\": \"225.4500\", \"high\": \"225.4900\", \"low\": \"225.4500\", \"close\": \"225.4650\", \"volume\": \"36\"}</td></tr><tr><td>{\"symbol\": \"AAPL\", \"timestamp\": \"2024-10-08 19:09:00\", \"open\": \"225.4700\", \"high\": \"225.4900\", \"low\": \"225.4500\", \"close\": \"225.4700\", \"volume\": \"8\"}</td></tr><tr><td>{\"symbol\": \"AAPL\", \"timestamp\": \"2024-10-08 19:08:00\", \"open\": \"225.4700\", \"high\": \"225.5077\", \"low\": \"225.4000\", \"close\": \"225.4700\", \"volume\": \"26\"}</td></tr><tr><td>{\"symbol\": \"AAPL\", \"timestamp\": \"2024-10-08 19:07:00\", \"open\": \"225.4000\", \"high\": \"225.5388\", \"low\": \"225.4000\", \"close\": \"225.4500\", \"volume\": \"75\"}</td></tr><tr><td>{\"symbol\": \"AAPL\", \"timestamp\": \"2024-10-08 19:06:00\", \"open\": \"225.5000\", \"high\": \"225.5000\", \"low\": \"225.4000\", \"close\": \"225.4700\", \"volume\": \"31\"}</td></tr><tr><td>{\"symbol\": \"AAPL\", \"timestamp\": \"2024-10-08 19:05:00\", \"open\": \"225.5300\", \"high\": \"225.5300\", \"low\": \"225.4000\", \"close\": \"225.5000\", \"volume\": \"351\"}</td></tr><tr><td>{\"symbol\": \"AAPL\", \"timestamp\": \"2024-10-08 19:04:00\", \"open\": \"225.5200\", \"high\": \"225.5200\", \"low\": \"225.5200\", \"close\": \"225.5200\", \"volume\": \"1\"}</td></tr><tr><td>{\"symbol\": \"AAPL\", \"timestamp\": \"2024-10-08 19:03:00\", \"open\": \"225.5200\", \"high\": \"225.5400\", \"low\": \"225.5000\", \"close\": \"225.5200\", \"volume\": \"101\"}</td></tr><tr><td>{\"symbol\": \"AAPL\", \"timestamp\": \"2024-10-08 19:02:00\", \"open\": \"225.5300\", \"high\": \"225.5300\", \"low\": \"225.5150\", \"close\": \"225.5292\", \"volume\": \"15\"}</td></tr><tr><td>{\"symbol\": \"AAPL\", \"timestamp\": \"2024-10-08 19:01:00\", \"open\": \"225.5200\", \"high\": \"225.5400\", \"low\": \"225.5000\", \"close\": \"225.5150\", \"volume\": \"276\"}</td></tr><tr><td>{\"symbol\": \"AAPL\", \"timestamp\": \"2024-10-08 19:00:00\", \"open\": \"225.5000\", \"high\": \"225.5400\", \"low\": \"225.5000\", \"close\": \"225.5400\", \"volume\": \"991\"}</td></tr><tr><td>{\"symbol\": \"AAPL\", \"timestamp\": \"2024-10-08 18:59:00\", \"open\": \"225.5150\", \"high\": \"225.5300\", \"low\": \"225.5000\", \"close\": \"225.5300\", \"volume\": \"263\"}</td></tr><tr><td>{\"symbol\": \"AAPL\", \"timestamp\": \"2024-10-08 18:58:00\", \"open\": \"225.5015\", \"high\": \"225.5150\", \"low\": \"225.5000\", \"close\": \"225.5150\", \"volume\": \"42\"}</td></tr><tr><td>{\"symbol\": \"AAPL\", \"timestamp\": \"2024-10-08 18:57:00\", \"open\": \"225.5000\", \"high\": \"225.5150\", \"low\": \"225.5000\", \"close\": \"225.5000\", \"volume\": \"64\"}</td></tr><tr><td>{\"symbol\": \"AAPL\", \"timestamp\": \"2024-10-08 18:56:00\", \"open\": \"225.4500\", \"high\": \"225.5300\", \"low\": \"225.4500\", \"close\": \"225.5100\", \"volume\": \"1053\"}</td></tr><tr><td>{\"symbol\": \"AAPL\", \"timestamp\": \"2024-10-08 18:55:00\", \"open\": \"225.4500\", \"high\": \"225.4600\", \"low\": \"225.4500\", \"close\": \"225.4500\", \"volume\": \"159\"}</td></tr><tr><td>{\"symbol\": \"AAPL\", \"timestamp\": \"2024-10-08 18:54:00\", \"open\": \"225.5000\", \"high\": \"225.5000\", \"low\": \"225.4009\", \"close\": \"225.4500\", \"volume\": \"2305\"}</td></tr><tr><td>{\"symbol\": \"AAPL\", \"timestamp\": \"2024-10-08 18:53:00\", \"open\": \"225.4300\", \"high\": \"225.5000\", \"low\": \"225.4000\", \"close\": \"225.4000\", \"volume\": \"143\"}</td></tr><tr><td>{\"symbol\": \"AAPL\", \"timestamp\": \"2024-10-08 18:52:00\", \"open\": \"225.4500\", \"high\": \"225.5000\", \"low\": \"225.4300\", \"close\": \"225.4500\", \"volume\": \"13\"}</td></tr><tr><td>{\"symbol\": \"AAPL\", \"timestamp\": \"2024-10-08 18:51:00\", \"open\": \"225.4500\", \"high\": \"225.5000\", \"low\": \"225.4000\", \"close\": \"225.4000\", \"volume\": \"35\"}</td></tr><tr><td>{\"symbol\": \"AAPL\", \"timestamp\": \"2024-10-08 18:50:00\", \"open\": \"225.4500\", \"high\": \"225.4500\", \"low\": \"225.4000\", \"close\": \"225.4000\", \"volume\": \"13\"}</td></tr><tr><td>{\"symbol\": \"AAPL\", \"timestamp\": \"2024-10-08 19:00:00\", \"open\": \"225.5000\", \"high\": \"225.5400\", \"low\": \"225.5000\", \"close\": \"225.5400\", \"volume\": \"991\"}</td></tr><tr><td>{\"symbol\": \"AAPL\", \"timestamp\": \"2024-10-08 18:59:00\", \"open\": \"225.5150\", \"high\": \"225.5300\", \"low\": \"225.5000\", \"close\": \"225.5300\", \"volume\": \"263\"}</td></tr><tr><td>{\"symbol\": \"AAPL\", \"timestamp\": \"2024-10-08 18:58:00\", \"open\": \"225.5015\", \"high\": \"225.5150\", \"low\": \"225.5000\", \"close\": \"225.5150\", \"volume\": \"42\"}</td></tr><tr><td>{\"symbol\": \"AAPL\", \"timestamp\": \"2024-10-08 18:57:00\", \"open\": \"225.5000\", \"high\": \"225.5150\", \"low\": \"225.5000\", \"close\": \"225.5000\", \"volume\": \"64\"}</td></tr><tr><td>{\"symbol\": \"AAPL\", \"timestamp\": \"2024-10-08 18:56:00\", \"open\": \"225.4500\", \"high\": \"225.5300\", \"low\": \"225.4500\", \"close\": \"225.5100\", \"volume\": \"1053\"}</td></tr><tr><td>{\"symbol\": \"AAPL\", \"timestamp\": \"2024-10-08 18:55:00\", \"open\": \"225.4500\", \"high\": \"225.4600\", \"low\": \"225.4500\", \"close\": \"225.4500\", \"volume\": \"159\"}</td></tr><tr><td>{\"symbol\": \"AAPL\", \"timestamp\": \"2024-10-08 18:54:00\", \"open\": \"225.5000\", \"high\": \"225.5000\", \"low\": \"225.4009\", \"close\": \"225.4500\", \"volume\": \"2305\"}</td></tr><tr><td>{\"symbol\": \"AAPL\", \"timestamp\": \"2024-10-08 18:53:00\", \"open\": \"225.4300\", \"high\": \"225.5000\", \"low\": \"225.4000\", \"close\": \"225.4000\", \"volume\": \"143\"}</td></tr><tr><td>{\"symbol\": \"AAPL\", \"timestamp\": \"2024-10-08 18:52:00\", \"open\": \"225.4500\", \"high\": \"225.5000\", \"low\": \"225.4300\", \"close\": \"225.4500\", \"volume\": \"13\"}</td></tr><tr><td>{\"symbol\": \"AAPL\", \"timestamp\": \"2024-10-08 18:51:00\", \"open\": \"225.4500\", \"high\": \"225.5000\", \"low\": \"225.4000\", \"close\": \"225.4000\", \"volume\": \"35\"}</td></tr><tr><td>{\"symbol\": \"AAPL\", \"timestamp\": \"2024-10-08 18:50:00\", \"open\": \"225.4500\", \"high\": \"225.4500\", \"low\": \"225.4000\", \"close\": \"225.4000\", \"volume\": \"13\"}</td></tr><tr><td>{\"symbol\": \"AAPL\", \"timestamp\": \"2024-10-08 18:49:00\", \"open\": \"225.4500\", \"high\": \"225.4500\", \"low\": \"225.4000\", \"close\": \"225.4300\", \"volume\": \"143\"}</td></tr><tr><td>{\"symbol\": \"AAPL\", \"timestamp\": \"2024-10-08 18:48:00\", \"open\": \"225.4000\", \"high\": \"225.4950\", \"low\": \"225.4000\", \"close\": \"225.4000\", \"volume\": \"63\"}</td></tr><tr><td>{\"symbol\": \"AAPL\", \"timestamp\": \"2024-10-08 18:47:00\", \"open\": \"225.4000\", \"high\": \"225.4200\", \"low\": \"225.3800\", \"close\": \"225.4000\", \"volume\": \"962\"}</td></tr><tr><td>{\"symbol\": \"AAPL\", \"timestamp\": \"2024-10-08 18:46:00\", \"open\": \"225.3850\", \"high\": \"225.4000\", \"low\": \"225.3850\", \"close\": \"225.4000\", \"volume\": \"2\"}</td></tr><tr><td>{\"symbol\": \"AAPL\", \"timestamp\": \"2024-10-08 18:45:00\", \"open\": \"225.4100\", \"high\": \"225.4100\", \"low\": \"225.3500\", \"close\": \"225.3850\", \"volume\": \"31\"}</td></tr><tr><td>{\"symbol\": \"AAPL\", \"timestamp\": \"2024-10-08 18:44:00\", \"open\": \"225.3500\", \"high\": \"225.4182\", \"low\": \"225.3500\", \"close\": \"225.4100\", \"volume\": \"47\"}</td></tr><tr><td>{\"symbol\": \"AAPL\", \"timestamp\": \"2024-10-08 18:43:00\", \"open\": \"225.4100\", \"high\": \"225.4200\", \"low\": \"225.3500\", \"close\": \"225.3800\", \"volume\": \"60\"}</td></tr><tr><td>{\"symbol\": \"AAPL\", \"timestamp\": \"2024-10-08 18:42:00\", \"open\": \"225.3850\", \"high\": \"225.3850\", \"low\": \"225.3500\", \"close\": \"225.3850\", \"volume\": \"18\"}</td></tr><tr><td>{\"symbol\": \"AAPL\", \"timestamp\": \"2024-10-08 18:41:00\", \"open\": \"225.3850\", \"high\": \"225.3850\", \"low\": \"225.3500\", \"close\": \"225.3500\", \"volume\": \"7\"}</td></tr><tr><td>{\"symbol\": \"AAPL\", \"timestamp\": \"2024-10-08 18:40:00\", \"open\": \"225.3900\", \"high\": \"225.3900\", \"low\": \"225.3500\", \"close\": \"225.3850\", \"volume\": \"213\"}</td></tr><tr><td>{\"symbol\": \"AAPL\", \"timestamp\": \"2024-10-08 18:39:00\", \"open\": \"225.3850\", \"high\": \"225.4200\", \"low\": \"225.3500\", \"close\": \"225.4200\", \"volume\": \"146\"}</td></tr><tr><td>{\"symbol\": \"AAPL\", \"timestamp\": \"2024-10-08 18:38:00\", \"open\": \"225.3500\", \"high\": \"225.3850\", \"low\": \"225.3500\", \"close\": \"225.3850\", \"volume\": \"258\"}</td></tr><tr><td>{\"symbol\": \"AAPL\", \"timestamp\": \"2024-10-08 18:37:00\", \"open\": \"225.4250\", \"high\": \"225.4250\", \"low\": \"225.3500\", \"close\": \"225.4250\", \"volume\": \"5\"}</td></tr><tr><td>{\"symbol\": \"AAPL\", \"timestamp\": \"2024-10-08 18:36:00\", \"open\": \"225.4250\", \"high\": \"225.5000\", \"low\": \"225.3500\", \"close\": \"225.4250\", \"volume\": \"213\"}</td></tr><tr><td>{\"symbol\": \"AAPL\", \"timestamp\": \"2024-10-08 18:35:00\", \"open\": \"225.4250\", \"high\": \"225.5000\", \"low\": \"225.3500\", \"close\": \"225.4730\", \"volume\": \"113\"}</td></tr><tr><td>{\"symbol\": \"AAPL\", \"timestamp\": \"2024-10-08 18:34:00\", \"open\": \"225.4250\", \"high\": \"225.4250\", \"low\": \"225.4250\", \"close\": \"225.4250\", \"volume\": \"3\"}</td></tr><tr><td>{\"symbol\": \"AAPL\", \"timestamp\": \"2024-10-08 19:23:00\", \"open\": \"225.4500\", \"high\": \"225.4500\", \"low\": \"225.4000\", \"close\": \"225.4250\", \"volume\": \"56\"}</td></tr><tr><td>{\"symbol\": \"AAPL\", \"timestamp\": \"2024-10-08 19:22:00\", \"open\": \"225.4250\", \"high\": \"225.4250\", \"low\": \"225.4000\", \"close\": \"225.4000\", \"volume\": \"62\"}</td></tr><tr><td>{\"symbol\": \"AAPL\", \"timestamp\": \"2024-10-08 19:21:00\", \"open\": \"225.4300\", \"high\": \"225.4300\", \"low\": \"225.4000\", \"close\": \"225.4250\", \"volume\": \"539\"}</td></tr><tr><td>{\"symbol\": \"AAPL\", \"timestamp\": \"2024-10-08 19:20:00\", \"open\": \"225.4000\", \"high\": \"225.4300\", \"low\": \"225.4000\", \"close\": \"225.4300\", \"volume\": \"18\"}</td></tr><tr><td>{\"symbol\": \"AAPL\", \"timestamp\": \"2024-10-08 19:19:00\", \"open\": \"225.4000\", \"high\": \"225.4300\", \"low\": \"225.4000\", \"close\": \"225.4300\", \"volume\": \"8\"}</td></tr><tr><td>{\"symbol\": \"AAPL\", \"timestamp\": \"2024-10-08 19:18:00\", \"open\": \"225.4300\", \"high\": \"225.4300\", \"low\": \"225.4000\", \"close\": \"225.4000\", \"volume\": \"12\"}</td></tr><tr><td>{\"symbol\": \"AAPL\", \"timestamp\": \"2024-10-08 19:17:00\", \"open\": \"225.4500\", \"high\": \"225.4500\", \"low\": \"225.4000\", \"close\": \"225.4250\", \"volume\": \"8\"}</td></tr><tr><td>{\"symbol\": \"AAPL\", \"timestamp\": \"2024-10-08 19:16:00\", \"open\": \"225.4550\", \"high\": \"225.4550\", \"low\": \"225.4000\", \"close\": \"225.4500\", \"volume\": \"179\"}</td></tr><tr><td>{\"symbol\": \"AAPL\", \"timestamp\": \"2024-10-08 19:15:00\", \"open\": \"225.4492\", \"high\": \"225.4500\", \"low\": \"225.4250\", \"close\": \"225.4500\", \"volume\": \"304\"}</td></tr><tr><td>{\"symbol\": \"AAPL\", \"timestamp\": \"2024-10-08 19:14:00\", \"open\": \"225.4200\", \"high\": \"225.4488\", \"low\": \"225.4000\", \"close\": \"225.4250\", \"volume\": \"16\"}</td></tr><tr><td>{\"symbol\": \"AAPL\", \"timestamp\": \"2024-10-08 19:13:00\", \"open\": \"225.4550\", \"high\": \"225.4550\", \"low\": \"225.4025\", \"close\": \"225.4500\", \"volume\": \"43\"}</td></tr><tr><td>{\"symbol\": \"AAPL\", \"timestamp\": \"2024-10-08 19:12:00\", \"open\": \"225.4550\", \"high\": \"225.5100\", \"low\": \"225.4000\", \"close\": \"225.5000\", \"volume\": \"116\"}</td></tr><tr><td>{\"symbol\": \"AAPL\", \"timestamp\": \"2024-10-08 19:11:00\", \"open\": \"225.4650\", \"high\": \"225.4650\", \"low\": \"225.4650\", \"close\": \"225.4650\", \"volume\": \"1\"}</td></tr><tr><td>{\"symbol\": \"AAPL\", \"timestamp\": \"2024-10-08 19:10:00\", \"open\": \"225.4500\", \"high\": \"225.4900\", \"low\": \"225.4500\", \"close\": \"225.4650\", \"volume\": \"36\"}</td></tr><tr><td>{\"symbol\": \"AAPL\", \"timestamp\": \"2024-10-08 19:09:00\", \"open\": \"225.4700\", \"high\": \"225.4900\", \"low\": \"225.4500\", \"close\": \"225.4700\", \"volume\": \"8\"}</td></tr><tr><td>{\"symbol\": \"AAPL\", \"timestamp\": \"2024-10-08 19:08:00\", \"open\": \"225.4700\", \"high\": \"225.5077\", \"low\": \"225.4000\", \"close\": \"225.4700\", \"volume\": \"26\"}</td></tr><tr><td>{\"symbol\": \"AAPL\", \"timestamp\": \"2024-10-08 19:07:00\", \"open\": \"225.4000\", \"high\": \"225.5388\", \"low\": \"225.4000\", \"close\": \"225.4500\", \"volume\": \"75\"}</td></tr><tr><td>{\"symbol\": \"AAPL\", \"timestamp\": \"2024-10-08 19:06:00\", \"open\": \"225.5000\", \"high\": \"225.5000\", \"low\": \"225.4000\", \"close\": \"225.4700\", \"volume\": \"31\"}</td></tr><tr><td>{\"symbol\": \"AAPL\", \"timestamp\": \"2024-10-08 19:05:00\", \"open\": \"225.5300\", \"high\": \"225.5300\", \"low\": \"225.4000\", \"close\": \"225.5000\", \"volume\": \"351\"}</td></tr><tr><td>{\"symbol\": \"AAPL\", \"timestamp\": \"2024-10-08 19:04:00\", \"open\": \"225.5200\", \"high\": \"225.5200\", \"low\": \"225.5200\", \"close\": \"225.5200\", \"volume\": \"1\"}</td></tr><tr><td>{\"symbol\": \"AAPL\", \"timestamp\": \"2024-10-08 19:03:00\", \"open\": \"225.5200\", \"high\": \"225.5400\", \"low\": \"225.5000\", \"close\": \"225.5200\", \"volume\": \"101\"}</td></tr><tr><td>{\"symbol\": \"AAPL\", \"timestamp\": \"2024-10-08 19:02:00\", \"open\": \"225.5300\", \"high\": \"225.5300\", \"low\": \"225.5150\", \"close\": \"225.5292\", \"volume\": \"15\"}</td></tr><tr><td>{\"symbol\": \"AAPL\", \"timestamp\": \"2024-10-08 19:01:00\", \"open\": \"225.5200\", \"high\": \"225.5400\", \"low\": \"225.5000\", \"close\": \"225.5150\", \"volume\": \"276\"}</td></tr><tr><td>{\"symbol\": \"AAPL\", \"timestamp\": \"2024-10-08 19:00:00\", \"open\": \"225.5000\", \"high\": \"225.5400\", \"low\": \"225.5000\", \"close\": \"225.5400\", \"volume\": \"991\"}</td></tr><tr><td>{\"symbol\": \"AAPL\", \"timestamp\": \"2024-10-08 18:59:00\", \"open\": \"225.5150\", \"high\": \"225.5300\", \"low\": \"225.5000\", \"close\": \"225.5300\", \"volume\": \"263\"}</td></tr><tr><td>{\"symbol\": \"AAPL\", \"timestamp\": \"2024-10-08 18:58:00\", \"open\": \"225.5015\", \"high\": \"225.5150\", \"low\": \"225.5000\", \"close\": \"225.5150\", \"volume\": \"42\"}</td></tr><tr><td>{\"symbol\": \"AAPL\", \"timestamp\": \"2024-10-08 19:25:00\", \"open\": \"225.3500\", \"high\": \"225.4280\", \"low\": \"225.3500\", \"close\": \"225.4000\", \"volume\": \"113\"}</td></tr><tr><td>{\"symbol\": \"AAPL\", \"timestamp\": \"2024-10-08 19:24:00\", \"open\": \"225.4250\", \"high\": \"225.4300\", \"low\": \"225.3500\", \"close\": \"225.4000\", \"volume\": \"397\"}</td></tr><tr><td>{\"symbol\": \"AAPL\", \"timestamp\": \"2024-10-08 19:23:00\", \"open\": \"225.4500\", \"high\": \"225.4500\", \"low\": \"225.4000\", \"close\": \"225.4250\", \"volume\": \"56\"}</td></tr><tr><td>{\"symbol\": \"AAPL\", \"timestamp\": \"2024-10-08 19:22:00\", \"open\": \"225.4250\", \"high\": \"225.4250\", \"low\": \"225.4000\", \"close\": \"225.4000\", \"volume\": \"62\"}</td></tr><tr><td>{\"symbol\": \"AAPL\", \"timestamp\": \"2024-10-08 19:21:00\", \"open\": \"225.4300\", \"high\": \"225.4300\", \"low\": \"225.4000\", \"close\": \"225.4250\", \"volume\": \"539\"}</td></tr><tr><td>{\"symbol\": \"AAPL\", \"timestamp\": \"2024-10-08 19:20:00\", \"open\": \"225.4000\", \"high\": \"225.4300\", \"low\": \"225.4000\", \"close\": \"225.4300\", \"volume\": \"18\"}</td></tr><tr><td>{\"symbol\": \"AAPL\", \"timestamp\": \"2024-10-08 19:19:00\", \"open\": \"225.4000\", \"high\": \"225.4300\", \"low\": \"225.4000\", \"close\": \"225.4300\", \"volume\": \"8\"}</td></tr><tr><td>{\"symbol\": \"AAPL\", \"timestamp\": \"2024-10-08 19:18:00\", \"open\": \"225.4300\", \"high\": \"225.4300\", \"low\": \"225.4000\", \"close\": \"225.4000\", \"volume\": \"12\"}</td></tr><tr><td>{\"symbol\": \"AAPL\", \"timestamp\": \"2024-10-08 19:17:00\", \"open\": \"225.4500\", \"high\": \"225.4500\", \"low\": \"225.4000\", \"close\": \"225.4250\", \"volume\": \"8\"}</td></tr><tr><td>{\"symbol\": \"AAPL\", \"timestamp\": \"2024-10-08 19:16:00\", \"open\": \"225.4550\", \"high\": \"225.4550\", \"low\": \"225.4000\", \"close\": \"225.4500\", \"volume\": \"179\"}</td></tr><tr><td>{\"symbol\": \"AAPL\", \"timestamp\": \"2024-10-08 19:15:00\", \"open\": \"225.4492\", \"high\": \"225.4500\", \"low\": \"225.4250\", \"close\": \"225.4500\", \"volume\": \"304\"}</td></tr><tr><td>{\"symbol\": \"AAPL\", \"timestamp\": \"2024-10-08 19:14:00\", \"open\": \"225.4200\", \"high\": \"225.4488\", \"low\": \"225.4000\", \"close\": \"225.4250\", \"volume\": \"16\"}</td></tr><tr><td>{\"symbol\": \"AAPL\", \"timestamp\": \"2024-10-08 19:13:00\", \"open\": \"225.4550\", \"high\": \"225.4550\", \"low\": \"225.4025\", \"close\": \"225.4500\", \"volume\": \"43\"}</td></tr><tr><td>{\"symbol\": \"AAPL\", \"timestamp\": \"2024-10-08 19:12:00\", \"open\": \"225.4550\", \"high\": \"225.5100\", \"low\": \"225.4000\", \"close\": \"225.5000\", \"volume\": \"116\"}</td></tr><tr><td>{\"symbol\": \"AAPL\", \"timestamp\": \"2024-10-08 19:11:00\", \"open\": \"225.4650\", \"high\": \"225.4650\", \"low\": \"225.4650\", \"close\": \"225.4650\", \"volume\": \"1\"}</td></tr><tr><td>{\"symbol\": \"AAPL\", \"timestamp\": \"2024-10-08 19:10:00\", \"open\": \"225.4500\", \"high\": \"225.4900\", \"low\": \"225.4500\", \"close\": \"225.4650\", \"volume\": \"36\"}</td></tr><tr><td>{\"symbol\": \"AAPL\", \"timestamp\": \"2024-10-08 19:09:00\", \"open\": \"225.4700\", \"high\": \"225.4900\", \"low\": \"225.4500\", \"close\": \"225.4700\", \"volume\": \"8\"}</td></tr><tr><td>{\"symbol\": \"AAPL\", \"timestamp\": \"2024-10-08 19:08:00\", \"open\": \"225.4700\", \"high\": \"225.5077\", \"low\": \"225.4000\", \"close\": \"225.4700\", \"volume\": \"26\"}</td></tr><tr><td>{\"symbol\": \"AAPL\", \"timestamp\": \"2024-10-08 19:07:00\", \"open\": \"225.4000\", \"high\": \"225.5388\", \"low\": \"225.4000\", \"close\": \"225.4500\", \"volume\": \"75\"}</td></tr><tr><td>{\"symbol\": \"AAPL\", \"timestamp\": \"2024-10-08 19:06:00\", \"open\": \"225.5000\", \"high\": \"225.5000\", \"low\": \"225.4000\", \"close\": \"225.4700\", \"volume\": \"31\"}</td></tr><tr><td>{\"symbol\": \"AAPL\", \"timestamp\": \"2024-10-08 19:05:00\", \"open\": \"225.5300\", \"high\": \"225.5300\", \"low\": \"225.4000\", \"close\": \"225.5000\", \"volume\": \"351\"}</td></tr><tr><td>{\"symbol\": \"AAPL\", \"timestamp\": \"2024-10-08 19:04:00\", \"open\": \"225.5200\", \"high\": \"225.5200\", \"low\": \"225.5200\", \"close\": \"225.5200\", \"volume\": \"1\"}</td></tr><tr><td>{\"symbol\": \"AAPL\", \"timestamp\": \"2024-10-08 19:03:00\", \"open\": \"225.5200\", \"high\": \"225.5400\", \"low\": \"225.5000\", \"close\": \"225.5200\", \"volume\": \"101\"}</td></tr><tr><td>{\"symbol\": \"AAPL\", \"timestamp\": \"2024-10-08 19:02:00\", \"open\": \"225.5300\", \"high\": \"225.5300\", \"low\": \"225.5150\", \"close\": \"225.5292\", \"volume\": \"15\"}</td></tr><tr><td>{\"symbol\": \"AAPL\", \"timestamp\": \"2024-10-08 19:01:00\", \"open\": \"225.5200\", \"high\": \"225.5400\", \"low\": \"225.5000\", \"close\": \"225.5150\", \"volume\": \"276\"}</td></tr><tr><td>{\"symbol\": \"AAPL\", \"timestamp\": \"2024-10-08 18:33:00\", \"open\": \"225.3500\", \"high\": \"225.4400\", \"low\": \"225.3500\", \"close\": \"225.4250\", \"volume\": \"85\"}</td></tr><tr><td>{\"symbol\": \"AAPL\", \"timestamp\": \"2024-10-08 18:32:00\", \"open\": \"225.4250\", \"high\": \"225.4250\", \"low\": \"225.3500\", \"close\": \"225.4000\", \"volume\": \"25\"}</td></tr><tr><td>{\"symbol\": \"AAPL\", \"timestamp\": \"2024-10-08 18:31:00\", \"open\": \"225.3500\", \"high\": \"225.4250\", \"low\": \"225.3500\", \"close\": \"225.3800\", \"volume\": \"261\"}</td></tr><tr><td>{\"symbol\": \"AAPL\", \"timestamp\": \"2024-10-08 18:30:00\", \"open\": \"225.3900\", \"high\": \"225.4300\", \"low\": \"225.3500\", \"close\": \"225.4250\", \"volume\": \"506\"}</td></tr><tr><td>{\"symbol\": \"AAPL\", \"timestamp\": \"2024-10-08 18:29:00\", \"open\": \"225.3300\", \"high\": \"225.4300\", \"low\": \"225.3100\", \"close\": \"225.4300\", \"volume\": \"217\"}</td></tr><tr><td>{\"symbol\": \"AAPL\", \"timestamp\": \"2024-10-08 18:28:00\", \"open\": \"225.3500\", \"high\": \"225.3500\", \"low\": \"225.2800\", \"close\": \"225.3000\", \"volume\": \"169\"}</td></tr><tr><td>{\"symbol\": \"AAPL\", \"timestamp\": \"2024-10-08 18:27:00\", \"open\": \"225.3200\", \"high\": \"225.3500\", \"low\": \"225.2700\", \"close\": \"225.3050\", \"volume\": \"172\"}</td></tr><tr><td>{\"symbol\": \"AAPL\", \"timestamp\": \"2024-10-08 18:26:00\", \"open\": \"225.3100\", \"high\": \"225.3300\", \"low\": \"225.2600\", \"close\": \"225.3300\", \"volume\": \"374\"}</td></tr><tr><td>{\"symbol\": \"AAPL\", \"timestamp\": \"2024-10-08 18:25:00\", \"open\": \"225.2950\", \"high\": \"225.3300\", \"low\": \"225.2600\", \"close\": \"225.3300\", \"volume\": \"114\"}</td></tr><tr><td>{\"symbol\": \"AAPL\", \"timestamp\": \"2024-10-08 18:24:00\", \"open\": \"225.2950\", \"high\": \"225.2950\", \"low\": \"225.2600\", \"close\": \"225.2600\", \"volume\": \"5\"}</td></tr><tr><td>{\"symbol\": \"AAPL\", \"timestamp\": \"2024-10-08 18:23:00\", \"open\": \"225.3250\", \"high\": \"225.3965\", \"low\": \"225.2600\", \"close\": \"225.3965\", \"volume\": \"75\"}</td></tr><tr><td>{\"symbol\": \"AAPL\", \"timestamp\": \"2024-10-08 18:22:00\", \"open\": \"225.3300\", \"high\": \"225.3300\", \"low\": \"225.2633\", \"close\": \"225.3000\", \"volume\": \"19\"}</td></tr><tr><td>{\"symbol\": \"AAPL\", \"timestamp\": \"2024-10-08 18:21:00\", \"open\": \"225.3300\", \"high\": \"225.4000\", \"low\": \"225.2500\", \"close\": \"225.3250\", \"volume\": \"195\"}</td></tr><tr><td>{\"symbol\": \"AAPL\", \"timestamp\": \"2024-10-08 18:20:00\", \"open\": \"225.3100\", \"high\": \"225.7700\", \"low\": \"225.2500\", \"close\": \"225.2500\", \"volume\": \"191387\"}</td></tr><tr><td>{\"symbol\": \"AAPL\", \"timestamp\": \"2024-10-08 18:28:00\", \"open\": \"225.3500\", \"high\": \"225.3500\", \"low\": \"225.2800\", \"close\": \"225.3000\", \"volume\": \"169\"}</td></tr><tr><td>{\"symbol\": \"AAPL\", \"timestamp\": \"2024-10-08 18:27:00\", \"open\": \"225.3200\", \"high\": \"225.3500\", \"low\": \"225.2700\", \"close\": \"225.3050\", \"volume\": \"172\"}</td></tr><tr><td>{\"symbol\": \"AAPL\", \"timestamp\": \"2024-10-08 18:26:00\", \"open\": \"225.3100\", \"high\": \"225.3300\", \"low\": \"225.2600\", \"close\": \"225.3300\", \"volume\": \"374\"}</td></tr><tr><td>{\"symbol\": \"AAPL\", \"timestamp\": \"2024-10-08 18:25:00\", \"open\": \"225.2950\", \"high\": \"225.3300\", \"low\": \"225.2600\", \"close\": \"225.3300\", \"volume\": \"114\"}</td></tr><tr><td>{\"symbol\": \"AAPL\", \"timestamp\": \"2024-10-08 18:24:00\", \"open\": \"225.2950\", \"high\": \"225.2950\", \"low\": \"225.2600\", \"close\": \"225.2600\", \"volume\": \"5\"}</td></tr><tr><td>{\"symbol\": \"AAPL\", \"timestamp\": \"2024-10-08 18:23:00\", \"open\": \"225.3250\", \"high\": \"225.3965\", \"low\": \"225.2600\", \"close\": \"225.3965\", \"volume\": \"75\"}</td></tr><tr><td>{\"symbol\": \"AAPL\", \"timestamp\": \"2024-10-08 18:22:00\", \"open\": \"225.3300\", \"high\": \"225.3300\", \"low\": \"225.2633\", \"close\": \"225.3000\", \"volume\": \"19\"}</td></tr><tr><td>{\"symbol\": \"AAPL\", \"timestamp\": \"2024-10-08 18:21:00\", \"open\": \"225.3300\", \"high\": \"225.4000\", \"low\": \"225.2500\", \"close\": \"225.3250\", \"volume\": \"195\"}</td></tr><tr><td>{\"symbol\": \"AAPL\", \"timestamp\": \"2024-10-08 18:20:00\", \"open\": \"225.3100\", \"high\": \"225.7700\", \"low\": \"225.2500\", \"close\": \"225.2500\", \"volume\": \"191387\"}</td></tr><tr><td>{\"symbol\": \"GOOGL\", \"timestamp\": \"2024-10-08 19:59:00\", \"open\": \"164.1800\", \"high\": \"164.1900\", \"low\": \"164.1800\", \"close\": \"164.1800\", \"volume\": \"37\"}</td></tr><tr><td>{\"symbol\": \"GOOGL\", \"timestamp\": \"2024-10-08 19:58:00\", \"open\": \"164.1809\", \"high\": \"164.2000\", \"low\": \"164.1800\", \"close\": \"164.1810\", \"volume\": \"286\"}</td></tr><tr><td>{\"symbol\": \"GOOGL\", \"timestamp\": \"2024-10-08 19:57:00\", \"open\": \"164.2370\", \"high\": \"164.2370\", \"low\": \"164.1810\", \"close\": \"164.2000\", \"volume\": \"616\"}</td></tr><tr><td>{\"symbol\": \"GOOGL\", \"timestamp\": \"2024-10-08 19:56:00\", \"open\": \"164.2400\", \"high\": \"164.2400\", \"low\": \"164.2400\", \"close\": \"164.2400\", \"volume\": \"7\"}</td></tr><tr><td>{\"symbol\": \"GOOGL\", \"timestamp\": \"2024-10-08 19:55:00\", \"open\": \"164.1900\", \"high\": \"164.1900\", \"low\": \"164.1830\", \"close\": \"164.1830\", \"volume\": \"17\"}</td></tr><tr><td>{\"symbol\": \"AAPL\", \"timestamp\": \"2024-10-08 19:59:00\", \"open\": \"225.3000\", \"high\": \"225.3000\", \"low\": \"225.2212\", \"close\": \"225.2212\", \"volume\": \"1577\"}</td></tr><tr><td>{\"symbol\": \"AAPL\", \"timestamp\": \"2024-10-08 19:58:00\", \"open\": \"225.3000\", \"high\": \"225.3000\", \"low\": \"225.2700\", \"close\": \"225.2900\", \"volume\": \"359\"}</td></tr><tr><td>{\"symbol\": \"AAPL\", \"timestamp\": \"2024-10-08 19:57:00\", \"open\": \"225.2600\", \"high\": \"225.3100\", \"low\": \"225.2600\", \"close\": \"225.3000\", \"volume\": \"65\"}</td></tr><tr><td>{\"symbol\": \"AAPL\", \"timestamp\": \"2024-10-08 19:56:00\", \"open\": \"225.3050\", \"high\": \"225.3588\", \"low\": \"225.2600\", \"close\": \"225.3588\", \"volume\": \"239\"}</td></tr><tr><td>{\"symbol\": \"AAPL\", \"timestamp\": \"2024-10-08 19:55:00\", \"open\": \"225.2525\", \"high\": \"225.4875\", \"low\": \"225.2500\", \"close\": \"225.3000\", \"volume\": \"160\"}</td></tr><tr><td>{\"symbol\": \"AAPL\", \"timestamp\": \"2024-10-08 19:59:00\", \"open\": \"225.3000\", \"high\": \"225.3000\", \"low\": \"225.2212\", \"close\": \"225.2212\", \"volume\": \"1577\"}</td></tr><tr><td>{\"symbol\": \"AAPL\", \"timestamp\": \"2024-10-08 19:58:00\", \"open\": \"225.3000\", \"high\": \"225.3000\", \"low\": \"225.2700\", \"close\": \"225.2900\", \"volume\": \"359\"}</td></tr><tr><td>{\"symbol\": \"AAPL\", \"timestamp\": \"2024-10-08 19:57:00\", \"open\": \"225.2600\", \"high\": \"225.3100\", \"low\": \"225.2600\", \"close\": \"225.3000\", \"volume\": \"65\"}</td></tr><tr><td>{\"symbol\": \"AAPL\", \"timestamp\": \"2024-10-08 19:56:00\", \"open\": \"225.3050\", \"high\": \"225.3588\", \"low\": \"225.2600\", \"close\": \"225.3588\", \"volume\": \"239\"}</td></tr><tr><td>{\"symbol\": \"AAPL\", \"timestamp\": \"2024-10-08 19:55:00\", \"open\": \"225.2525\", \"high\": \"225.4875\", \"low\": \"225.2500\", \"close\": \"225.3000\", \"volume\": \"160\"}</td></tr><tr><td>{\"symbol\": \"AAPL\", \"timestamp\": \"2024-10-08 19:59:00\", \"open\": \"225.3000\", \"high\": \"225.3000\", \"low\": \"225.2212\", \"close\": \"225.2212\", \"volume\": \"1577\"}</td></tr><tr><td>{\"symbol\": \"AAPL\", \"timestamp\": \"2024-10-08 19:58:00\", \"open\": \"225.3000\", \"high\": \"225.3000\", \"low\": \"225.2700\", \"close\": \"225.2900\", \"volume\": \"359\"}</td></tr><tr><td>{\"symbol\": \"AAPL\", \"timestamp\": \"2024-10-08 19:57:00\", \"open\": \"225.2600\", \"high\": \"225.3100\", \"low\": \"225.2600\", \"close\": \"225.3000\", \"volume\": \"65\"}</td></tr><tr><td>{\"symbol\": \"AAPL\", \"timestamp\": \"2024-10-08 19:56:00\", \"open\": \"225.3050\", \"high\": \"225.3588\", \"low\": \"225.2600\", \"close\": \"225.3588\", \"volume\": \"239\"}</td></tr><tr><td>{\"symbol\": \"AAPL\", \"timestamp\": \"2024-10-08 19:55:00\", \"open\": \"225.2525\", \"high\": \"225.4875\", \"low\": \"225.2500\", \"close\": \"225.3000\", \"volume\": \"160\"}</td></tr><tr><td>{\"symbol\": \"AAPL\", \"timestamp\": \"2024-10-08 18:23:00\", \"open\": \"225.3250\", \"high\": \"225.3965\", \"low\": \"225.2600\", \"close\": \"225.3965\", \"volume\": \"75\"}</td></tr><tr><td>{\"symbol\": \"AAPL\", \"timestamp\": \"2024-10-08 18:22:00\", \"open\": \"225.3300\", \"high\": \"225.3300\", \"low\": \"225.2633\", \"close\": \"225.3000\", \"volume\": \"19\"}</td></tr><tr><td>{\"symbol\": \"AAPL\", \"timestamp\": \"2024-10-08 18:21:00\", \"open\": \"225.3300\", \"high\": \"225.4000\", \"low\": \"225.2500\", \"close\": \"225.3250\", \"volume\": \"195\"}</td></tr><tr><td>{\"symbol\": \"AAPL\", \"timestamp\": \"2024-10-08 18:20:00\", \"open\": \"225.3100\", \"high\": \"225.7700\", \"low\": \"225.2500\", \"close\": \"225.2500\", \"volume\": \"191387\"}</td></tr><tr><td>{\"symbol\": \"AAPL\", \"timestamp\": \"2024-10-08 19:59:00\", \"open\": \"225.3000\", \"high\": \"225.3000\", \"low\": \"225.2212\", \"close\": \"225.2212\", \"volume\": \"1577\"}</td></tr><tr><td>{\"symbol\": \"AAPL\", \"timestamp\": \"2024-10-08 19:58:00\", \"open\": \"225.3000\", \"high\": \"225.3000\", \"low\": \"225.2700\", \"close\": \"225.2900\", \"volume\": \"359\"}</td></tr><tr><td>{\"symbol\": \"AAPL\", \"timestamp\": \"2024-10-08 19:57:00\", \"open\": \"225.2600\", \"high\": \"225.3100\", \"low\": \"225.2600\", \"close\": \"225.3000\", \"volume\": \"65\"}</td></tr><tr><td>{\"symbol\": \"AAPL\", \"timestamp\": \"2024-10-08 19:56:00\", \"open\": \"225.3050\", \"high\": \"225.3588\", \"low\": \"225.2600\", \"close\": \"225.3588\", \"volume\": \"239\"}</td></tr><tr><td>{\"symbol\": \"GOOGL\", \"timestamp\": \"2024-10-08 18:09:00\", \"open\": \"164.0800\", \"high\": \"164.0900\", \"low\": \"164.0000\", \"close\": \"164.0500\", \"volume\": \"425\"}</td></tr><tr><td>{\"symbol\": \"GOOGL\", \"timestamp\": \"2024-10-08 18:08:00\", \"open\": \"164.0800\", \"high\": \"164.0800\", \"low\": \"164.0158\", \"close\": \"164.0158\", \"volume\": \"66\"}</td></tr><tr><td>{\"symbol\": \"GOOGL\", \"timestamp\": \"2024-10-08 18:07:00\", \"open\": \"164.1000\", \"high\": \"164.1000\", \"low\": \"163.9500\", \"close\": \"164.1000\", \"volume\": \"89\"}</td></tr></tbody></table></div>"
      ]
     },
     "metadata": {
      "application/vnd.databricks.v1+output": {
       "addedWidgets": {},
       "aggData": [],
       "aggError": "",
       "aggOverflow": false,
       "aggSchema": [],
       "aggSeriesLimitReached": false,
       "aggType": "",
       "arguments": {},
       "columnCustomDisplayInfos": {},
       "data": [
        [
         "{\"symbol\": \"MSFT\", \"timestamp\": \"2024-10-08 19:59:00\", \"open\": \"414.6050\", \"high\": \"414.6799\", \"low\": \"414.5300\", \"close\": \"414.6500\", \"volume\": \"555\"}"
        ],
        [
         "{\"symbol\": \"MSFT\", \"timestamp\": \"2024-10-08 19:58:00\", \"open\": \"414.6000\", \"high\": \"414.6400\", \"low\": \"414.4100\", \"close\": \"414.6050\", \"volume\": \"360\"}"
        ],
        [
         "{\"symbol\": \"MSFT\", \"timestamp\": \"2024-10-08 19:57:00\", \"open\": \"414.5300\", \"high\": \"414.6788\", \"low\": \"414.5300\", \"close\": \"414.6000\", \"volume\": \"62\"}"
        ],
        [
         "{\"symbol\": \"MSFT\", \"timestamp\": \"2024-10-08 19:56:00\", \"open\": \"414.5100\", \"high\": \"414.6500\", \"low\": \"414.5000\", \"close\": \"414.5200\", \"volume\": \"232\"}"
        ],
        [
         "{\"symbol\": \"MSFT\", \"timestamp\": \"2024-10-08 19:55:00\", \"open\": \"414.5300\", \"high\": \"414.6500\", \"low\": \"414.4900\", \"close\": \"414.4900\", \"volume\": \"359\"}"
        ],
        [
         "{\"symbol\": \"MSFT\", \"timestamp\": \"2024-10-08 19:54:00\", \"open\": \"414.5300\", \"high\": \"414.5500\", \"low\": \"414.5000\", \"close\": \"414.5300\", \"volume\": \"66\"}"
        ],
        [
         "{\"symbol\": \"MSFT\", \"timestamp\": \"2024-10-08 19:53:00\", \"open\": \"414.5300\", \"high\": \"414.5300\", \"low\": \"414.4160\", \"close\": \"414.4160\", \"volume\": \"2\"}"
        ],
        [
         "{\"symbol\": \"MSFT\", \"timestamp\": \"2024-10-08 19:52:00\", \"open\": \"414.5300\", \"high\": \"414.6500\", \"low\": \"414.5300\", \"close\": \"414.6500\", \"volume\": \"22\"}"
        ],
        [
         "{\"symbol\": \"MSFT\", \"timestamp\": \"2024-10-08 19:51:00\", \"open\": \"414.6300\", \"high\": \"414.6500\", \"low\": \"414.5300\", \"close\": \"414.5300\", \"volume\": \"1187\"}"
        ],
        [
         "{\"symbol\": \"MSFT\", \"timestamp\": \"2024-10-08 19:50:00\", \"open\": \"414.6900\", \"high\": \"414.6900\", \"low\": \"414.5300\", \"close\": \"414.6500\", \"volume\": \"31\"}"
        ],
        [
         "{\"symbol\": \"MSFT\", \"timestamp\": \"2024-10-08 19:49:00\", \"open\": \"414.6100\", \"high\": \"414.6900\", \"low\": \"414.6000\", \"close\": \"414.6000\", \"volume\": \"42\"}"
        ],
        [
         "{\"symbol\": \"MSFT\", \"timestamp\": \"2024-10-08 19:48:00\", \"open\": \"414.5950\", \"high\": \"414.6820\", \"low\": \"414.5950\", \"close\": \"414.6100\", \"volume\": \"14\"}"
        ],
        [
         "{\"symbol\": \"MSFT\", \"timestamp\": \"2024-10-08 19:47:00\", \"open\": \"414.6800\", \"high\": \"414.6900\", \"low\": \"414.5001\", \"close\": \"414.5001\", \"volume\": \"29\"}"
        ],
        [
         "{\"symbol\": \"MSFT\", \"timestamp\": \"2024-10-08 19:46:00\", \"open\": \"414.5950\", \"high\": \"414.6805\", \"low\": \"414.5950\", \"close\": \"414.6000\", \"volume\": \"108\"}"
        ],
        [
         "{\"symbol\": \"MSFT\", \"timestamp\": \"2024-10-08 19:45:00\", \"open\": \"414.6900\", \"high\": \"414.6900\", \"low\": \"414.5095\", \"close\": \"414.6900\", \"volume\": \"654\"}"
        ],
        [
         "{\"symbol\": \"MSFT\", \"timestamp\": \"2024-10-08 19:44:00\", \"open\": \"414.6500\", \"high\": \"414.6900\", \"low\": \"414.5450\", \"close\": \"414.6900\", \"volume\": \"129\"}"
        ],
        [
         "{\"symbol\": \"MSFT\", \"timestamp\": \"2024-10-08 19:43:00\", \"open\": \"414.6100\", \"high\": \"414.6500\", \"low\": \"414.6100\", \"close\": \"414.6100\", \"volume\": \"256\"}"
        ],
        [
         "{\"symbol\": \"MSFT\", \"timestamp\": \"2024-10-08 19:42:00\", \"open\": \"414.6900\", \"high\": \"414.6900\", \"low\": \"414.6100\", \"close\": \"414.6100\", \"volume\": \"287\"}"
        ],
        [
         "{\"symbol\": \"MSFT\", \"timestamp\": \"2024-10-08 19:41:00\", \"open\": \"414.6894\", \"high\": \"414.6900\", \"low\": \"414.6000\", \"close\": \"414.6900\", \"volume\": \"101\"}"
        ],
        [
         "{\"symbol\": \"MSFT\", \"timestamp\": \"2024-10-08 19:40:00\", \"open\": \"414.6700\", \"high\": \"414.6700\", \"low\": \"414.6000\", \"close\": \"414.6000\", \"volume\": \"48\"}"
        ],
        [
         "{\"symbol\": \"MSFT\", \"timestamp\": \"2024-10-08 19:39:00\", \"open\": \"414.5700\", \"high\": \"414.6999\", \"low\": \"414.5700\", \"close\": \"414.6700\", \"volume\": \"511\"}"
        ],
        [
         "{\"symbol\": \"MSFT\", \"timestamp\": \"2024-10-08 19:38:00\", \"open\": \"414.5400\", \"high\": \"414.6688\", \"low\": \"414.4165\", \"close\": \"414.5400\", \"volume\": \"22\"}"
        ],
        [
         "{\"symbol\": \"MSFT\", \"timestamp\": \"2024-10-08 19:37:00\", \"open\": \"414.5350\", \"high\": \"414.6500\", \"low\": \"414.5350\", \"close\": \"414.5500\", \"volume\": \"24\"}"
        ],
        [
         "{\"symbol\": \"MSFT\", \"timestamp\": \"2024-10-08 19:36:00\", \"open\": \"414.5800\", \"high\": \"414.6550\", \"low\": \"414.5600\", \"close\": \"414.6550\", \"volume\": \"68\"}"
        ],
        [
         "{\"symbol\": \"MSFT\", \"timestamp\": \"2024-10-08 19:35:00\", \"open\": \"414.6000\", \"high\": \"414.6700\", \"low\": \"414.3800\", \"close\": \"414.5400\", \"volume\": \"106\"}"
        ],
        [
         "{\"symbol\": \"MSFT\", \"timestamp\": \"2024-10-08 19:34:00\", \"open\": \"414.3900\", \"high\": \"414.6000\", \"low\": \"414.3900\", \"close\": \"414.6000\", \"volume\": \"233\"}"
        ],
        [
         "{\"symbol\": \"MSFT\", \"timestamp\": \"2024-10-08 19:33:00\", \"open\": \"414.4850\", \"high\": \"414.5900\", \"low\": \"414.4850\", \"close\": \"414.5900\", \"volume\": \"176\"}"
        ],
        [
         "{\"symbol\": \"MSFT\", \"timestamp\": \"2024-10-08 19:32:00\", \"open\": \"414.4600\", \"high\": \"414.5900\", \"low\": \"414.4600\", \"close\": \"414.5900\", \"volume\": \"771\"}"
        ],
        [
         "{\"symbol\": \"MSFT\", \"timestamp\": \"2024-10-08 19:31:00\", \"open\": \"414.5700\", \"high\": \"414.5700\", \"low\": \"414.3900\", \"close\": \"414.4800\", \"volume\": \"47\"}"
        ],
        [
         "{\"symbol\": \"MSFT\", \"timestamp\": \"2024-10-08 19:30:00\", \"open\": \"414.3963\", \"high\": \"414.5800\", \"low\": \"414.3800\", \"close\": \"414.5800\", \"volume\": \"242\"}"
        ],
        [
         "{\"symbol\": \"MSFT\", \"timestamp\": \"2024-10-08 19:29:00\", \"open\": \"414.5600\", \"high\": \"414.5600\", \"low\": \"414.4200\", \"close\": \"414.4200\", \"volume\": \"60\"}"
        ],
        [
         "{\"symbol\": \"MSFT\", \"timestamp\": \"2024-10-08 19:28:00\", \"open\": \"414.4800\", \"high\": \"414.5800\", \"low\": \"414.4100\", \"close\": \"414.4850\", \"volume\": \"207\"}"
        ],
        [
         "{\"symbol\": \"MSFT\", \"timestamp\": \"2024-10-08 19:27:00\", \"open\": \"414.4900\", \"high\": \"414.5781\", \"low\": \"414.4800\", \"close\": \"414.4800\", \"volume\": \"245\"}"
        ],
        [
         "{\"symbol\": \"MSFT\", \"timestamp\": \"2024-10-08 19:26:00\", \"open\": \"414.5000\", \"high\": \"414.5600\", \"low\": \"414.4900\", \"close\": \"414.4900\", \"volume\": \"24\"}"
        ],
        [
         "{\"symbol\": \"MSFT\", \"timestamp\": \"2024-10-08 19:25:00\", \"open\": \"414.4800\", \"high\": \"414.5700\", \"low\": \"414.4800\", \"close\": \"414.5000\", \"volume\": \"107\"}"
        ],
        [
         "{\"symbol\": \"MSFT\", \"timestamp\": \"2024-10-08 19:24:00\", \"open\": \"414.3800\", \"high\": \"414.5300\", \"low\": \"414.3800\", \"close\": \"414.4800\", \"volume\": \"5\"}"
        ],
        [
         "{\"symbol\": \"MSFT\", \"timestamp\": \"2024-10-08 19:23:00\", \"open\": \"414.4850\", \"high\": \"414.5900\", \"low\": \"414.3852\", \"close\": \"414.4800\", \"volume\": \"59\"}"
        ],
        [
         "{\"symbol\": \"MSFT\", \"timestamp\": \"2024-10-08 19:22:00\", \"open\": \"414.5200\", \"high\": \"414.5900\", \"low\": \"414.3800\", \"close\": \"414.3800\", \"volume\": \"329\"}"
        ],
        [
         "{\"symbol\": \"MSFT\", \"timestamp\": \"2024-10-08 19:21:00\", \"open\": \"414.4500\", \"high\": \"414.4850\", \"low\": \"414.4000\", \"close\": \"414.4100\", \"volume\": \"102\"}"
        ],
        [
         "{\"symbol\": \"MSFT\", \"timestamp\": \"2024-10-08 19:20:00\", \"open\": \"414.4650\", \"high\": \"414.5900\", \"low\": \"414.4650\", \"close\": \"414.5900\", \"volume\": \"7\"}"
        ],
        [
         "{\"symbol\": \"MSFT\", \"timestamp\": \"2024-10-08 19:19:00\", \"open\": \"414.5200\", \"high\": \"414.5300\", \"low\": \"414.4650\", \"close\": \"414.4650\", \"volume\": \"7\"}"
        ],
        [
         "{\"symbol\": \"MSFT\", \"timestamp\": \"2024-10-08 19:18:00\", \"open\": \"414.5800\", \"high\": \"414.5900\", \"low\": \"414.4300\", \"close\": \"414.4300\", \"volume\": \"54\"}"
        ],
        [
         "{\"symbol\": \"MSFT\", \"timestamp\": \"2024-10-08 19:17:00\", \"open\": \"414.3920\", \"high\": \"414.5899\", \"low\": \"414.3920\", \"close\": \"414.4850\", \"volume\": \"188\"}"
        ],
        [
         "{\"symbol\": \"MSFT\", \"timestamp\": \"2024-10-08 19:16:00\", \"open\": \"414.5500\", \"high\": \"414.5800\", \"low\": \"414.3900\", \"close\": \"414.3900\", \"volume\": \"12\"}"
        ],
        [
         "{\"symbol\": \"MSFT\", \"timestamp\": \"2024-10-08 19:15:00\", \"open\": \"414.5900\", \"high\": \"414.5900\", \"low\": \"414.3800\", \"close\": \"414.5800\", \"volume\": \"38\"}"
        ],
        [
         "{\"symbol\": \"MSFT\", \"timestamp\": \"2024-10-08 19:14:00\", \"open\": \"414.4850\", \"high\": \"414.5800\", \"low\": \"414.3800\", \"close\": \"414.3900\", \"volume\": \"2687\"}"
        ],
        [
         "{\"symbol\": \"MSFT\", \"timestamp\": \"2024-10-08 19:13:00\", \"open\": \"414.4100\", \"high\": \"414.5899\", \"low\": \"414.4100\", \"close\": \"414.5800\", \"volume\": \"131\"}"
        ],
        [
         "{\"symbol\": \"MSFT\", \"timestamp\": \"2024-10-08 19:12:00\", \"open\": \"414.5000\", \"high\": \"414.5888\", \"low\": \"414.3800\", \"close\": \"414.4900\", \"volume\": \"87\"}"
        ],
        [
         "{\"symbol\": \"MSFT\", \"timestamp\": \"2024-10-08 19:11:00\", \"open\": \"414.4500\", \"high\": \"414.6000\", \"low\": \"414.3800\", \"close\": \"414.4800\", \"volume\": \"414\"}"
        ],
        [
         "{\"symbol\": \"MSFT\", \"timestamp\": \"2024-10-08 19:10:00\", \"open\": \"414.5900\", \"high\": \"414.6000\", \"low\": \"414.5000\", \"close\": \"414.5000\", \"volume\": \"569\"}"
        ],
        [
         "{\"symbol\": \"MSFT\", \"timestamp\": \"2024-10-08 19:09:00\", \"open\": \"414.5900\", \"high\": \"414.5900\", \"low\": \"414.5000\", \"close\": \"414.5100\", \"volume\": \"18\"}"
        ],
        [
         "{\"symbol\": \"MSFT\", \"timestamp\": \"2024-10-08 19:08:00\", \"open\": \"414.5500\", \"high\": \"414.6788\", \"low\": \"414.5000\", \"close\": \"414.5000\", \"volume\": \"11\"}"
        ],
        [
         "{\"symbol\": \"MSFT\", \"timestamp\": \"2024-10-08 19:07:00\", \"open\": \"414.6500\", \"high\": \"414.6800\", \"low\": \"414.4300\", \"close\": \"414.6256\", \"volume\": \"89\"}"
        ],
        [
         "{\"symbol\": \"MSFT\", \"timestamp\": \"2024-10-08 19:06:00\", \"open\": \"414.5500\", \"high\": \"414.6500\", \"low\": \"414.4200\", \"close\": \"414.4200\", \"volume\": \"109\"}"
        ],
        [
         "{\"symbol\": \"MSFT\", \"timestamp\": \"2024-10-08 19:05:00\", \"open\": \"414.5500\", \"high\": \"414.6800\", \"low\": \"414.4200\", \"close\": \"414.5500\", \"volume\": \"69\"}"
        ],
        [
         "{\"symbol\": \"MSFT\", \"timestamp\": \"2024-10-08 19:04:00\", \"open\": \"414.5500\", \"high\": \"414.6400\", \"low\": \"414.5500\", \"close\": \"414.5800\", \"volume\": \"38\"}"
        ],
        [
         "{\"symbol\": \"MSFT\", \"timestamp\": \"2024-10-08 19:03:00\", \"open\": \"414.5500\", \"high\": \"414.6800\", \"low\": \"414.4200\", \"close\": \"414.5500\", \"volume\": \"9\"}"
        ],
        [
         "{\"symbol\": \"MSFT\", \"timestamp\": \"2024-10-08 19:02:00\", \"open\": \"414.5800\", \"high\": \"414.6800\", \"low\": \"414.4100\", \"close\": \"414.6800\", \"volume\": \"429\"}"
        ],
        [
         "{\"symbol\": \"MSFT\", \"timestamp\": \"2024-10-08 19:01:00\", \"open\": \"414.5800\", \"high\": \"414.5800\", \"low\": \"414.3800\", \"close\": \"414.5800\", \"volume\": \"41\"}"
        ],
        [
         "{\"symbol\": \"MSFT\", \"timestamp\": \"2024-10-08 19:00:00\", \"open\": \"414.6800\", \"high\": \"414.6800\", \"low\": \"414.4800\", \"close\": \"414.4800\", \"volume\": \"280\"}"
        ],
        [
         "{\"symbol\": \"MSFT\", \"timestamp\": \"2024-10-08 18:59:00\", \"open\": \"414.6300\", \"high\": \"414.6400\", \"low\": \"414.5800\", \"close\": \"414.6400\", \"volume\": \"35\"}"
        ],
        [
         "{\"symbol\": \"MSFT\", \"timestamp\": \"2024-10-08 18:58:00\", \"open\": \"414.6300\", \"high\": \"414.6300\", \"low\": \"414.5850\", \"close\": \"414.6000\", \"volume\": \"76\"}"
        ],
        [
         "{\"symbol\": \"MSFT\", \"timestamp\": \"2024-10-08 18:57:00\", \"open\": \"414.5300\", \"high\": \"414.6800\", \"low\": \"414.5000\", \"close\": \"414.5900\", \"volume\": \"167\"}"
        ],
        [
         "{\"symbol\": \"MSFT\", \"timestamp\": \"2024-10-08 18:56:00\", \"open\": \"414.6000\", \"high\": \"414.6400\", \"low\": \"414.5300\", \"close\": \"414.6400\", \"volume\": \"66\"}"
        ],
        [
         "{\"symbol\": \"MSFT\", \"timestamp\": \"2024-10-08 18:55:00\", \"open\": \"414.5300\", \"high\": \"414.6400\", \"low\": \"414.4200\", \"close\": \"414.5300\", \"volume\": \"17\"}"
        ],
        [
         "{\"symbol\": \"MSFT\", \"timestamp\": \"2024-10-08 18:54:00\", \"open\": \"414.3800\", \"high\": \"414.6800\", \"low\": \"414.3800\", \"close\": \"414.6400\", \"volume\": \"269\"}"
        ],
        [
         "{\"symbol\": \"MSFT\", \"timestamp\": \"2024-10-08 18:53:00\", \"open\": \"414.6400\", \"high\": \"414.6800\", \"low\": \"414.3800\", \"close\": \"414.5300\", \"volume\": \"88\"}"
        ],
        [
         "{\"symbol\": \"MSFT\", \"timestamp\": \"2024-10-08 18:52:00\", \"open\": \"414.5000\", \"high\": \"414.6800\", \"low\": \"414.5000\", \"close\": \"414.6800\", \"volume\": \"105\"}"
        ],
        [
         "{\"symbol\": \"MSFT\", \"timestamp\": \"2024-10-08 18:51:00\", \"open\": \"414.5400\", \"high\": \"414.6000\", \"low\": \"414.5400\", \"close\": \"414.6000\", \"volume\": \"49\"}"
        ],
        [
         "{\"symbol\": \"MSFT\", \"timestamp\": \"2024-10-08 18:50:00\", \"open\": \"414.7000\", \"high\": \"414.7000\", \"low\": \"414.3800\", \"close\": \"414.5400\", \"volume\": \"46\"}"
        ],
        [
         "{\"symbol\": \"MSFT\", \"timestamp\": \"2024-10-08 18:49:00\", \"open\": \"414.5400\", \"high\": \"414.6400\", \"low\": \"414.3800\", \"close\": \"414.6400\", \"volume\": \"1850\"}"
        ],
        [
         "{\"symbol\": \"MSFT\", \"timestamp\": \"2024-10-08 18:48:00\", \"open\": \"414.6500\", \"high\": \"414.7000\", \"low\": \"414.3800\", \"close\": \"414.3800\", \"volume\": \"170\"}"
        ],
        [
         "{\"symbol\": \"MSFT\", \"timestamp\": \"2024-10-08 18:47:00\", \"open\": \"414.6950\", \"high\": \"414.7000\", \"low\": \"414.5000\", \"close\": \"414.7000\", \"volume\": \"249\"}"
        ],
        [
         "{\"symbol\": \"MSFT\", \"timestamp\": \"2024-10-08 18:46:00\", \"open\": \"414.6000\", \"high\": \"414.7000\", \"low\": \"414.6000\", \"close\": \"414.6500\", \"volume\": \"19\"}"
        ],
        [
         "{\"symbol\": \"MSFT\", \"timestamp\": \"2024-10-08 18:45:00\", \"open\": \"414.5000\", \"high\": \"414.6900\", \"low\": \"414.5000\", \"close\": \"414.6600\", \"volume\": \"36\"}"
        ],
        [
         "{\"symbol\": \"MSFT\", \"timestamp\": \"2024-10-08 18:44:00\", \"open\": \"414.5600\", \"high\": \"414.6900\", \"low\": \"414.3800\", \"close\": \"414.5400\", \"volume\": \"8\"}"
        ],
        [
         "{\"symbol\": \"MSFT\", \"timestamp\": \"2024-10-08 18:43:00\", \"open\": \"414.5300\", \"high\": \"414.6800\", \"low\": \"414.5300\", \"close\": \"414.6800\", \"volume\": \"265\"}"
        ],
        [
         "{\"symbol\": \"MSFT\", \"timestamp\": \"2024-10-08 18:42:00\", \"open\": \"414.5400\", \"high\": \"414.6600\", \"low\": \"414.3800\", \"close\": \"414.4900\", \"volume\": \"21\"}"
        ],
        [
         "{\"symbol\": \"MSFT\", \"timestamp\": \"2024-10-08 18:41:00\", \"open\": \"414.3812\", \"high\": \"414.7000\", \"low\": \"414.3800\", \"close\": \"414.7000\", \"volume\": \"50\"}"
        ],
        [
         "{\"symbol\": \"MSFT\", \"timestamp\": \"2024-10-08 18:40:00\", \"open\": \"414.6700\", \"high\": \"414.7000\", \"low\": \"414.3800\", \"close\": \"414.6800\", \"volume\": \"309\"}"
        ],
        [
         "{\"symbol\": \"MSFT\", \"timestamp\": \"2024-10-08 18:39:00\", \"open\": \"414.5400\", \"high\": \"414.7000\", \"low\": \"414.5000\", \"close\": \"414.7000\", \"volume\": \"145\"}"
        ],
        [
         "{\"symbol\": \"MSFT\", \"timestamp\": \"2024-10-08 18:38:00\", \"open\": \"414.4500\", \"high\": \"414.6840\", \"low\": \"414.3800\", \"close\": \"414.5000\", \"volume\": \"141\"}"
        ],
        [
         "{\"symbol\": \"MSFT\", \"timestamp\": \"2024-10-08 18:37:00\", \"open\": \"414.3800\", \"high\": \"414.5400\", \"low\": \"414.3800\", \"close\": \"414.4100\", \"volume\": \"18\"}"
        ],
        [
         "{\"symbol\": \"MSFT\", \"timestamp\": \"2024-10-08 18:36:00\", \"open\": \"414.6000\", \"high\": \"414.6800\", \"low\": \"414.3960\", \"close\": \"414.6740\", \"volume\": \"95\"}"
        ],
        [
         "{\"symbol\": \"MSFT\", \"timestamp\": \"2024-10-08 18:35:00\", \"open\": \"414.3800\", \"high\": \"414.7000\", \"low\": \"414.3800\", \"close\": \"414.5000\", \"volume\": \"390\"}"
        ],
        [
         "{\"symbol\": \"MSFT\", \"timestamp\": \"2024-10-08 18:34:00\", \"open\": \"414.4600\", \"high\": \"414.7000\", \"low\": \"414.3800\", \"close\": \"414.6200\", \"volume\": \"2002\"}"
        ],
        [
         "{\"symbol\": \"MSFT\", \"timestamp\": \"2024-10-08 18:33:00\", \"open\": \"414.4650\", \"high\": \"414.4650\", \"low\": \"414.3800\", \"close\": \"414.3800\", \"volume\": \"36\"}"
        ],
        [
         "{\"symbol\": \"MSFT\", \"timestamp\": \"2024-10-08 18:32:00\", \"open\": \"414.6000\", \"high\": \"414.6000\", \"low\": \"414.4500\", \"close\": \"414.4500\", \"volume\": \"571\"}"
        ],
        [
         "{\"symbol\": \"MSFT\", \"timestamp\": \"2024-10-08 18:31:00\", \"open\": \"414.6000\", \"high\": \"414.6967\", \"low\": \"414.6000\", \"close\": \"414.6000\", \"volume\": \"117\"}"
        ],
        [
         "{\"symbol\": \"MSFT\", \"timestamp\": \"2024-10-08 18:30:00\", \"open\": \"414.6917\", \"high\": \"414.6917\", \"low\": \"414.5100\", \"close\": \"414.6000\", \"volume\": \"134\"}"
        ],
        [
         "{\"symbol\": \"MSFT\", \"timestamp\": \"2024-10-08 18:29:00\", \"open\": \"414.4500\", \"high\": \"414.6999\", \"low\": \"414.4500\", \"close\": \"414.5750\", \"volume\": \"284\"}"
        ],
        [
         "{\"symbol\": \"MSFT\", \"timestamp\": \"2024-10-08 18:28:00\", \"open\": \"414.6400\", \"high\": \"414.7100\", \"low\": \"414.5000\", \"close\": \"414.5000\", \"volume\": \"315\"}"
        ],
        [
         "{\"symbol\": \"MSFT\", \"timestamp\": \"2024-10-08 18:27:00\", \"open\": \"414.7100\", \"high\": \"414.7100\", \"low\": \"414.6300\", \"close\": \"414.6300\", \"volume\": \"166\"}"
        ],
        [
         "{\"symbol\": \"MSFT\", \"timestamp\": \"2024-10-08 18:26:00\", \"open\": \"414.6055\", \"high\": \"414.7100\", \"low\": \"414.6012\", \"close\": \"414.7100\", \"volume\": \"31\"}"
        ],
        [
         "{\"symbol\": \"MSFT\", \"timestamp\": \"2024-10-08 18:25:00\", \"open\": \"414.6800\", \"high\": \"414.7100\", \"low\": \"414.5600\", \"close\": \"414.7000\", \"volume\": \"69\"}"
        ],
        [
         "{\"symbol\": \"MSFT\", \"timestamp\": \"2024-10-08 18:24:00\", \"open\": \"414.7000\", \"high\": \"414.7100\", \"low\": \"414.5600\", \"close\": \"414.7100\", \"volume\": \"17\"}"
        ],
        [
         "{\"symbol\": \"MSFT\", \"timestamp\": \"2024-10-08 18:23:00\", \"open\": \"414.6050\", \"high\": \"414.7000\", \"low\": \"414.5900\", \"close\": \"414.6050\", \"volume\": \"49\"}"
        ],
        [
         "{\"symbol\": \"MSFT\", \"timestamp\": \"2024-10-08 18:22:00\", \"open\": \"414.5900\", \"high\": \"414.7100\", \"low\": \"414.5000\", \"close\": \"414.7100\", \"volume\": \"9\"}"
        ],
        [
         "{\"symbol\": \"MSFT\", \"timestamp\": \"2024-10-08 18:21:00\", \"open\": \"414.6000\", \"high\": \"414.6050\", \"low\": \"414.5500\", \"close\": \"414.6050\", \"volume\": \"7\"}"
        ],
        [
         "{\"symbol\": \"MSFT\", \"timestamp\": \"2024-10-08 18:20:00\", \"open\": \"414.7000\", \"high\": \"414.7100\", \"low\": \"414.5600\", \"close\": \"414.7100\", \"volume\": \"90598\"}"
        ],
        [
         "{\"symbol\": \"MSFT\", \"timestamp\": \"2024-10-08 19:59:00\", \"open\": \"414.6050\", \"high\": \"414.6799\", \"low\": \"414.5300\", \"close\": \"414.6500\", \"volume\": \"555\"}"
        ],
        [
         "{\"symbol\": \"MSFT\", \"timestamp\": \"2024-10-08 19:58:00\", \"open\": \"414.6000\", \"high\": \"414.6400\", \"low\": \"414.4100\", \"close\": \"414.6050\", \"volume\": \"360\"}"
        ],
        [
         "{\"symbol\": \"MSFT\", \"timestamp\": \"2024-10-08 19:57:00\", \"open\": \"414.5300\", \"high\": \"414.6788\", \"low\": \"414.5300\", \"close\": \"414.6000\", \"volume\": \"62\"}"
        ],
        [
         "{\"symbol\": \"MSFT\", \"timestamp\": \"2024-10-08 19:56:00\", \"open\": \"414.5100\", \"high\": \"414.6500\", \"low\": \"414.5000\", \"close\": \"414.5200\", \"volume\": \"232\"}"
        ],
        [
         "{\"symbol\": \"MSFT\", \"timestamp\": \"2024-10-08 19:55:00\", \"open\": \"414.5300\", \"high\": \"414.6500\", \"low\": \"414.4900\", \"close\": \"414.4900\", \"volume\": \"359\"}"
        ],
        [
         "{\"symbol\": \"MSFT\", \"timestamp\": \"2024-10-08 19:54:00\", \"open\": \"414.5300\", \"high\": \"414.5500\", \"low\": \"414.5000\", \"close\": \"414.5300\", \"volume\": \"66\"}"
        ],
        [
         "{\"symbol\": \"MSFT\", \"timestamp\": \"2024-10-08 19:53:00\", \"open\": \"414.5300\", \"high\": \"414.5300\", \"low\": \"414.4160\", \"close\": \"414.4160\", \"volume\": \"2\"}"
        ],
        [
         "{\"symbol\": \"MSFT\", \"timestamp\": \"2024-10-08 19:52:00\", \"open\": \"414.5300\", \"high\": \"414.6500\", \"low\": \"414.5300\", \"close\": \"414.6500\", \"volume\": \"22\"}"
        ],
        [
         "{\"symbol\": \"MSFT\", \"timestamp\": \"2024-10-08 19:51:00\", \"open\": \"414.6300\", \"high\": \"414.6500\", \"low\": \"414.5300\", \"close\": \"414.5300\", \"volume\": \"1187\"}"
        ],
        [
         "{\"symbol\": \"MSFT\", \"timestamp\": \"2024-10-08 19:50:00\", \"open\": \"414.6900\", \"high\": \"414.6900\", \"low\": \"414.5300\", \"close\": \"414.6500\", \"volume\": \"31\"}"
        ],
        [
         "{\"symbol\": \"MSFT\", \"timestamp\": \"2024-10-08 19:49:00\", \"open\": \"414.6100\", \"high\": \"414.6900\", \"low\": \"414.6000\", \"close\": \"414.6000\", \"volume\": \"42\"}"
        ],
        [
         "{\"symbol\": \"MSFT\", \"timestamp\": \"2024-10-08 19:48:00\", \"open\": \"414.5950\", \"high\": \"414.6820\", \"low\": \"414.5950\", \"close\": \"414.6100\", \"volume\": \"14\"}"
        ],
        [
         "{\"symbol\": \"MSFT\", \"timestamp\": \"2024-10-08 19:47:00\", \"open\": \"414.6800\", \"high\": \"414.6900\", \"low\": \"414.5001\", \"close\": \"414.5001\", \"volume\": \"29\"}"
        ],
        [
         "{\"symbol\": \"MSFT\", \"timestamp\": \"2024-10-08 19:46:00\", \"open\": \"414.5950\", \"high\": \"414.6805\", \"low\": \"414.5950\", \"close\": \"414.6000\", \"volume\": \"108\"}"
        ],
        [
         "{\"symbol\": \"MSFT\", \"timestamp\": \"2024-10-08 19:45:00\", \"open\": \"414.6900\", \"high\": \"414.6900\", \"low\": \"414.5095\", \"close\": \"414.6900\", \"volume\": \"654\"}"
        ],
        [
         "{\"symbol\": \"MSFT\", \"timestamp\": \"2024-10-08 19:44:00\", \"open\": \"414.6500\", \"high\": \"414.6900\", \"low\": \"414.5450\", \"close\": \"414.6900\", \"volume\": \"129\"}"
        ],
        [
         "{\"symbol\": \"MSFT\", \"timestamp\": \"2024-10-08 19:43:00\", \"open\": \"414.6100\", \"high\": \"414.6500\", \"low\": \"414.6100\", \"close\": \"414.6100\", \"volume\": \"256\"}"
        ],
        [
         "{\"symbol\": \"MSFT\", \"timestamp\": \"2024-10-08 19:42:00\", \"open\": \"414.6900\", \"high\": \"414.6900\", \"low\": \"414.6100\", \"close\": \"414.6100\", \"volume\": \"287\"}"
        ],
        [
         "{\"symbol\": \"MSFT\", \"timestamp\": \"2024-10-08 19:41:00\", \"open\": \"414.6894\", \"high\": \"414.6900\", \"low\": \"414.6000\", \"close\": \"414.6900\", \"volume\": \"101\"}"
        ],
        [
         "{\"symbol\": \"MSFT\", \"timestamp\": \"2024-10-08 19:40:00\", \"open\": \"414.6700\", \"high\": \"414.6700\", \"low\": \"414.6000\", \"close\": \"414.6000\", \"volume\": \"48\"}"
        ],
        [
         "{\"symbol\": \"MSFT\", \"timestamp\": \"2024-10-08 19:39:00\", \"open\": \"414.5700\", \"high\": \"414.6999\", \"low\": \"414.5700\", \"close\": \"414.6700\", \"volume\": \"511\"}"
        ],
        [
         "{\"symbol\": \"MSFT\", \"timestamp\": \"2024-10-08 19:38:00\", \"open\": \"414.5400\", \"high\": \"414.6688\", \"low\": \"414.4165\", \"close\": \"414.5400\", \"volume\": \"22\"}"
        ],
        [
         "{\"symbol\": \"MSFT\", \"timestamp\": \"2024-10-08 19:37:00\", \"open\": \"414.5350\", \"high\": \"414.6500\", \"low\": \"414.5350\", \"close\": \"414.5500\", \"volume\": \"24\"}"
        ],
        [
         "{\"symbol\": \"MSFT\", \"timestamp\": \"2024-10-08 19:36:00\", \"open\": \"414.5800\", \"high\": \"414.6550\", \"low\": \"414.5600\", \"close\": \"414.6550\", \"volume\": \"68\"}"
        ],
        [
         "{\"symbol\": \"MSFT\", \"timestamp\": \"2024-10-08 19:35:00\", \"open\": \"414.6000\", \"high\": \"414.6700\", \"low\": \"414.3800\", \"close\": \"414.5400\", \"volume\": \"106\"}"
        ],
        [
         "{\"symbol\": \"MSFT\", \"timestamp\": \"2024-10-08 19:34:00\", \"open\": \"414.3900\", \"high\": \"414.6000\", \"low\": \"414.3900\", \"close\": \"414.6000\", \"volume\": \"233\"}"
        ],
        [
         "{\"symbol\": \"MSFT\", \"timestamp\": \"2024-10-08 19:33:00\", \"open\": \"414.4850\", \"high\": \"414.5900\", \"low\": \"414.4850\", \"close\": \"414.5900\", \"volume\": \"176\"}"
        ],
        [
         "{\"symbol\": \"MSFT\", \"timestamp\": \"2024-10-08 19:32:00\", \"open\": \"414.4600\", \"high\": \"414.5900\", \"low\": \"414.4600\", \"close\": \"414.5900\", \"volume\": \"771\"}"
        ],
        [
         "{\"symbol\": \"MSFT\", \"timestamp\": \"2024-10-08 19:31:00\", \"open\": \"414.5700\", \"high\": \"414.5700\", \"low\": \"414.3900\", \"close\": \"414.4800\", \"volume\": \"47\"}"
        ],
        [
         "{\"symbol\": \"MSFT\", \"timestamp\": \"2024-10-08 19:30:00\", \"open\": \"414.3963\", \"high\": \"414.5800\", \"low\": \"414.3800\", \"close\": \"414.5800\", \"volume\": \"242\"}"
        ],
        [
         "{\"symbol\": \"MSFT\", \"timestamp\": \"2024-10-08 19:29:00\", \"open\": \"414.5600\", \"high\": \"414.5600\", \"low\": \"414.4200\", \"close\": \"414.4200\", \"volume\": \"60\"}"
        ],
        [
         "{\"symbol\": \"MSFT\", \"timestamp\": \"2024-10-08 19:28:00\", \"open\": \"414.4800\", \"high\": \"414.5800\", \"low\": \"414.4100\", \"close\": \"414.4850\", \"volume\": \"207\"}"
        ],
        [
         "{\"symbol\": \"MSFT\", \"timestamp\": \"2024-10-08 19:27:00\", \"open\": \"414.4900\", \"high\": \"414.5781\", \"low\": \"414.4800\", \"close\": \"414.4800\", \"volume\": \"245\"}"
        ],
        [
         "{\"symbol\": \"MSFT\", \"timestamp\": \"2024-10-08 19:26:00\", \"open\": \"414.5000\", \"high\": \"414.5600\", \"low\": \"414.4900\", \"close\": \"414.4900\", \"volume\": \"24\"}"
        ],
        [
         "{\"symbol\": \"MSFT\", \"timestamp\": \"2024-10-08 19:25:00\", \"open\": \"414.4800\", \"high\": \"414.5700\", \"low\": \"414.4800\", \"close\": \"414.5000\", \"volume\": \"107\"}"
        ],
        [
         "{\"symbol\": \"MSFT\", \"timestamp\": \"2024-10-08 19:24:00\", \"open\": \"414.3800\", \"high\": \"414.5300\", \"low\": \"414.3800\", \"close\": \"414.4800\", \"volume\": \"5\"}"
        ],
        [
         "{\"symbol\": \"MSFT\", \"timestamp\": \"2024-10-08 19:23:00\", \"open\": \"414.4850\", \"high\": \"414.5900\", \"low\": \"414.3852\", \"close\": \"414.4800\", \"volume\": \"59\"}"
        ],
        [
         "{\"symbol\": \"MSFT\", \"timestamp\": \"2024-10-08 19:22:00\", \"open\": \"414.5200\", \"high\": \"414.5900\", \"low\": \"414.3800\", \"close\": \"414.3800\", \"volume\": \"329\"}"
        ],
        [
         "{\"symbol\": \"MSFT\", \"timestamp\": \"2024-10-08 19:21:00\", \"open\": \"414.4500\", \"high\": \"414.4850\", \"low\": \"414.4000\", \"close\": \"414.4100\", \"volume\": \"102\"}"
        ],
        [
         "{\"symbol\": \"MSFT\", \"timestamp\": \"2024-10-08 19:20:00\", \"open\": \"414.4650\", \"high\": \"414.5900\", \"low\": \"414.4650\", \"close\": \"414.5900\", \"volume\": \"7\"}"
        ],
        [
         "{\"symbol\": \"MSFT\", \"timestamp\": \"2024-10-08 19:19:00\", \"open\": \"414.5200\", \"high\": \"414.5300\", \"low\": \"414.4650\", \"close\": \"414.4650\", \"volume\": \"7\"}"
        ],
        [
         "{\"symbol\": \"MSFT\", \"timestamp\": \"2024-10-08 19:18:00\", \"open\": \"414.5800\", \"high\": \"414.5900\", \"low\": \"414.4300\", \"close\": \"414.4300\", \"volume\": \"54\"}"
        ],
        [
         "{\"symbol\": \"MSFT\", \"timestamp\": \"2024-10-08 19:17:00\", \"open\": \"414.3920\", \"high\": \"414.5899\", \"low\": \"414.3920\", \"close\": \"414.4850\", \"volume\": \"188\"}"
        ],
        [
         "{\"symbol\": \"MSFT\", \"timestamp\": \"2024-10-08 19:16:00\", \"open\": \"414.5500\", \"high\": \"414.5800\", \"low\": \"414.3900\", \"close\": \"414.3900\", \"volume\": \"12\"}"
        ],
        [
         "{\"symbol\": \"MSFT\", \"timestamp\": \"2024-10-08 19:15:00\", \"open\": \"414.5900\", \"high\": \"414.5900\", \"low\": \"414.3800\", \"close\": \"414.5800\", \"volume\": \"38\"}"
        ],
        [
         "{\"symbol\": \"MSFT\", \"timestamp\": \"2024-10-08 19:14:00\", \"open\": \"414.4850\", \"high\": \"414.5800\", \"low\": \"414.3800\", \"close\": \"414.3900\", \"volume\": \"2687\"}"
        ],
        [
         "{\"symbol\": \"MSFT\", \"timestamp\": \"2024-10-08 19:13:00\", \"open\": \"414.4100\", \"high\": \"414.5899\", \"low\": \"414.4100\", \"close\": \"414.5800\", \"volume\": \"131\"}"
        ],
        [
         "{\"symbol\": \"MSFT\", \"timestamp\": \"2024-10-08 19:12:00\", \"open\": \"414.5000\", \"high\": \"414.5888\", \"low\": \"414.3800\", \"close\": \"414.4900\", \"volume\": \"87\"}"
        ],
        [
         "{\"symbol\": \"MSFT\", \"timestamp\": \"2024-10-08 19:11:00\", \"open\": \"414.4500\", \"high\": \"414.6000\", \"low\": \"414.3800\", \"close\": \"414.4800\", \"volume\": \"414\"}"
        ],
        [
         "{\"symbol\": \"MSFT\", \"timestamp\": \"2024-10-08 19:10:00\", \"open\": \"414.5900\", \"high\": \"414.6000\", \"low\": \"414.5000\", \"close\": \"414.5000\", \"volume\": \"569\"}"
        ],
        [
         "{\"symbol\": \"MSFT\", \"timestamp\": \"2024-10-08 19:09:00\", \"open\": \"414.5900\", \"high\": \"414.5900\", \"low\": \"414.5000\", \"close\": \"414.5100\", \"volume\": \"18\"}"
        ],
        [
         "{\"symbol\": \"MSFT\", \"timestamp\": \"2024-10-08 19:08:00\", \"open\": \"414.5500\", \"high\": \"414.6788\", \"low\": \"414.5000\", \"close\": \"414.5000\", \"volume\": \"11\"}"
        ],
        [
         "{\"symbol\": \"MSFT\", \"timestamp\": \"2024-10-08 19:07:00\", \"open\": \"414.6500\", \"high\": \"414.6800\", \"low\": \"414.4300\", \"close\": \"414.6256\", \"volume\": \"89\"}"
        ],
        [
         "{\"symbol\": \"MSFT\", \"timestamp\": \"2024-10-08 19:06:00\", \"open\": \"414.5500\", \"high\": \"414.6500\", \"low\": \"414.4200\", \"close\": \"414.4200\", \"volume\": \"109\"}"
        ],
        [
         "{\"symbol\": \"MSFT\", \"timestamp\": \"2024-10-08 19:05:00\", \"open\": \"414.5500\", \"high\": \"414.6800\", \"low\": \"414.4200\", \"close\": \"414.5500\", \"volume\": \"69\"}"
        ],
        [
         "{\"symbol\": \"MSFT\", \"timestamp\": \"2024-10-08 19:04:00\", \"open\": \"414.5500\", \"high\": \"414.6400\", \"low\": \"414.5500\", \"close\": \"414.5800\", \"volume\": \"38\"}"
        ],
        [
         "{\"symbol\": \"MSFT\", \"timestamp\": \"2024-10-08 19:03:00\", \"open\": \"414.5500\", \"high\": \"414.6800\", \"low\": \"414.4200\", \"close\": \"414.5500\", \"volume\": \"9\"}"
        ],
        [
         "{\"symbol\": \"MSFT\", \"timestamp\": \"2024-10-08 19:02:00\", \"open\": \"414.5800\", \"high\": \"414.6800\", \"low\": \"414.4100\", \"close\": \"414.6800\", \"volume\": \"429\"}"
        ],
        [
         "{\"symbol\": \"MSFT\", \"timestamp\": \"2024-10-08 19:01:00\", \"open\": \"414.5800\", \"high\": \"414.5800\", \"low\": \"414.3800\", \"close\": \"414.5800\", \"volume\": \"41\"}"
        ],
        [
         "{\"symbol\": \"MSFT\", \"timestamp\": \"2024-10-08 19:00:00\", \"open\": \"414.6800\", \"high\": \"414.6800\", \"low\": \"414.4800\", \"close\": \"414.4800\", \"volume\": \"280\"}"
        ],
        [
         "{\"symbol\": \"MSFT\", \"timestamp\": \"2024-10-08 18:59:00\", \"open\": \"414.6300\", \"high\": \"414.6400\", \"low\": \"414.5800\", \"close\": \"414.6400\", \"volume\": \"35\"}"
        ],
        [
         "{\"symbol\": \"MSFT\", \"timestamp\": \"2024-10-08 18:58:00\", \"open\": \"414.6300\", \"high\": \"414.6300\", \"low\": \"414.5850\", \"close\": \"414.6000\", \"volume\": \"76\"}"
        ],
        [
         "{\"symbol\": \"MSFT\", \"timestamp\": \"2024-10-08 18:57:00\", \"open\": \"414.5300\", \"high\": \"414.6800\", \"low\": \"414.5000\", \"close\": \"414.5900\", \"volume\": \"167\"}"
        ],
        [
         "{\"symbol\": \"MSFT\", \"timestamp\": \"2024-10-08 18:56:00\", \"open\": \"414.6000\", \"high\": \"414.6400\", \"low\": \"414.5300\", \"close\": \"414.6400\", \"volume\": \"66\"}"
        ],
        [
         "{\"symbol\": \"MSFT\", \"timestamp\": \"2024-10-08 18:55:00\", \"open\": \"414.5300\", \"high\": \"414.6400\", \"low\": \"414.4200\", \"close\": \"414.5300\", \"volume\": \"17\"}"
        ],
        [
         "{\"symbol\": \"MSFT\", \"timestamp\": \"2024-10-08 18:54:00\", \"open\": \"414.3800\", \"high\": \"414.6800\", \"low\": \"414.3800\", \"close\": \"414.6400\", \"volume\": \"269\"}"
        ],
        [
         "{\"symbol\": \"MSFT\", \"timestamp\": \"2024-10-08 18:53:00\", \"open\": \"414.6400\", \"high\": \"414.6800\", \"low\": \"414.3800\", \"close\": \"414.5300\", \"volume\": \"88\"}"
        ],
        [
         "{\"symbol\": \"MSFT\", \"timestamp\": \"2024-10-08 18:52:00\", \"open\": \"414.5000\", \"high\": \"414.6800\", \"low\": \"414.5000\", \"close\": \"414.6800\", \"volume\": \"105\"}"
        ],
        [
         "{\"symbol\": \"MSFT\", \"timestamp\": \"2024-10-08 18:51:00\", \"open\": \"414.5400\", \"high\": \"414.6000\", \"low\": \"414.5400\", \"close\": \"414.6000\", \"volume\": \"49\"}"
        ],
        [
         "{\"symbol\": \"MSFT\", \"timestamp\": \"2024-10-08 18:50:00\", \"open\": \"414.7000\", \"high\": \"414.7000\", \"low\": \"414.3800\", \"close\": \"414.5400\", \"volume\": \"46\"}"
        ],
        [
         "{\"symbol\": \"MSFT\", \"timestamp\": \"2024-10-08 18:49:00\", \"open\": \"414.5400\", \"high\": \"414.6400\", \"low\": \"414.3800\", \"close\": \"414.6400\", \"volume\": \"1850\"}"
        ],
        [
         "{\"symbol\": \"MSFT\", \"timestamp\": \"2024-10-08 18:48:00\", \"open\": \"414.6500\", \"high\": \"414.7000\", \"low\": \"414.3800\", \"close\": \"414.3800\", \"volume\": \"170\"}"
        ],
        [
         "{\"symbol\": \"MSFT\", \"timestamp\": \"2024-10-08 18:47:00\", \"open\": \"414.6950\", \"high\": \"414.7000\", \"low\": \"414.5000\", \"close\": \"414.7000\", \"volume\": \"249\"}"
        ],
        [
         "{\"symbol\": \"MSFT\", \"timestamp\": \"2024-10-08 18:46:00\", \"open\": \"414.6000\", \"high\": \"414.7000\", \"low\": \"414.6000\", \"close\": \"414.6500\", \"volume\": \"19\"}"
        ],
        [
         "{\"symbol\": \"MSFT\", \"timestamp\": \"2024-10-08 18:45:00\", \"open\": \"414.5000\", \"high\": \"414.6900\", \"low\": \"414.5000\", \"close\": \"414.6600\", \"volume\": \"36\"}"
        ],
        [
         "{\"symbol\": \"MSFT\", \"timestamp\": \"2024-10-08 18:44:00\", \"open\": \"414.5600\", \"high\": \"414.6900\", \"low\": \"414.3800\", \"close\": \"414.5400\", \"volume\": \"8\"}"
        ],
        [
         "{\"symbol\": \"MSFT\", \"timestamp\": \"2024-10-08 18:43:00\", \"open\": \"414.5300\", \"high\": \"414.6800\", \"low\": \"414.5300\", \"close\": \"414.6800\", \"volume\": \"265\"}"
        ],
        [
         "{\"symbol\": \"MSFT\", \"timestamp\": \"2024-10-08 18:42:00\", \"open\": \"414.5400\", \"high\": \"414.6600\", \"low\": \"414.3800\", \"close\": \"414.4900\", \"volume\": \"21\"}"
        ],
        [
         "{\"symbol\": \"MSFT\", \"timestamp\": \"2024-10-08 18:41:00\", \"open\": \"414.3812\", \"high\": \"414.7000\", \"low\": \"414.3800\", \"close\": \"414.7000\", \"volume\": \"50\"}"
        ],
        [
         "{\"symbol\": \"MSFT\", \"timestamp\": \"2024-10-08 18:40:00\", \"open\": \"414.6700\", \"high\": \"414.7000\", \"low\": \"414.3800\", \"close\": \"414.6800\", \"volume\": \"309\"}"
        ],
        [
         "{\"symbol\": \"MSFT\", \"timestamp\": \"2024-10-08 18:39:00\", \"open\": \"414.5400\", \"high\": \"414.7000\", \"low\": \"414.5000\", \"close\": \"414.7000\", \"volume\": \"145\"}"
        ],
        [
         "{\"symbol\": \"MSFT\", \"timestamp\": \"2024-10-08 18:38:00\", \"open\": \"414.4500\", \"high\": \"414.6840\", \"low\": \"414.3800\", \"close\": \"414.5000\", \"volume\": \"141\"}"
        ],
        [
         "{\"symbol\": \"MSFT\", \"timestamp\": \"2024-10-08 18:37:00\", \"open\": \"414.3800\", \"high\": \"414.5400\", \"low\": \"414.3800\", \"close\": \"414.4100\", \"volume\": \"18\"}"
        ],
        [
         "{\"symbol\": \"MSFT\", \"timestamp\": \"2024-10-08 18:36:00\", \"open\": \"414.6000\", \"high\": \"414.6800\", \"low\": \"414.3960\", \"close\": \"414.6740\", \"volume\": \"95\"}"
        ],
        [
         "{\"symbol\": \"MSFT\", \"timestamp\": \"2024-10-08 18:35:00\", \"open\": \"414.3800\", \"high\": \"414.7000\", \"low\": \"414.3800\", \"close\": \"414.5000\", \"volume\": \"390\"}"
        ],
        [
         "{\"symbol\": \"MSFT\", \"timestamp\": \"2024-10-08 18:34:00\", \"open\": \"414.4600\", \"high\": \"414.7000\", \"low\": \"414.3800\", \"close\": \"414.6200\", \"volume\": \"2002\"}"
        ],
        [
         "{\"symbol\": \"MSFT\", \"timestamp\": \"2024-10-08 18:33:00\", \"open\": \"414.4650\", \"high\": \"414.4650\", \"low\": \"414.3800\", \"close\": \"414.3800\", \"volume\": \"36\"}"
        ],
        [
         "{\"symbol\": \"MSFT\", \"timestamp\": \"2024-10-08 18:32:00\", \"open\": \"414.6000\", \"high\": \"414.6000\", \"low\": \"414.4500\", \"close\": \"414.4500\", \"volume\": \"571\"}"
        ],
        [
         "{\"symbol\": \"MSFT\", \"timestamp\": \"2024-10-08 18:31:00\", \"open\": \"414.6000\", \"high\": \"414.6967\", \"low\": \"414.6000\", \"close\": \"414.6000\", \"volume\": \"117\"}"
        ],
        [
         "{\"symbol\": \"MSFT\", \"timestamp\": \"2024-10-08 18:30:00\", \"open\": \"414.6917\", \"high\": \"414.6917\", \"low\": \"414.5100\", \"close\": \"414.6000\", \"volume\": \"134\"}"
        ],
        [
         "{\"symbol\": \"MSFT\", \"timestamp\": \"2024-10-08 18:29:00\", \"open\": \"414.4500\", \"high\": \"414.6999\", \"low\": \"414.4500\", \"close\": \"414.5750\", \"volume\": \"284\"}"
        ],
        [
         "{\"symbol\": \"MSFT\", \"timestamp\": \"2024-10-08 18:28:00\", \"open\": \"414.6400\", \"high\": \"414.7100\", \"low\": \"414.5000\", \"close\": \"414.5000\", \"volume\": \"315\"}"
        ],
        [
         "{\"symbol\": \"MSFT\", \"timestamp\": \"2024-10-08 18:27:00\", \"open\": \"414.7100\", \"high\": \"414.7100\", \"low\": \"414.6300\", \"close\": \"414.6300\", \"volume\": \"166\"}"
        ],
        [
         "{\"symbol\": \"MSFT\", \"timestamp\": \"2024-10-08 18:26:00\", \"open\": \"414.6055\", \"high\": \"414.7100\", \"low\": \"414.6012\", \"close\": \"414.7100\", \"volume\": \"31\"}"
        ],
        [
         "{\"symbol\": \"MSFT\", \"timestamp\": \"2024-10-08 18:25:00\", \"open\": \"414.6800\", \"high\": \"414.7100\", \"low\": \"414.5600\", \"close\": \"414.7000\", \"volume\": \"69\"}"
        ],
        [
         "{\"symbol\": \"MSFT\", \"timestamp\": \"2024-10-08 18:24:00\", \"open\": \"414.7000\", \"high\": \"414.7100\", \"low\": \"414.5600\", \"close\": \"414.7100\", \"volume\": \"17\"}"
        ],
        [
         "{\"symbol\": \"MSFT\", \"timestamp\": \"2024-10-08 18:23:00\", \"open\": \"414.6050\", \"high\": \"414.7000\", \"low\": \"414.5900\", \"close\": \"414.6050\", \"volume\": \"49\"}"
        ],
        [
         "{\"symbol\": \"MSFT\", \"timestamp\": \"2024-10-08 18:22:00\", \"open\": \"414.5900\", \"high\": \"414.7100\", \"low\": \"414.5000\", \"close\": \"414.7100\", \"volume\": \"9\"}"
        ],
        [
         "{\"symbol\": \"MSFT\", \"timestamp\": \"2024-10-08 18:21:00\", \"open\": \"414.6000\", \"high\": \"414.6050\", \"low\": \"414.5500\", \"close\": \"414.6050\", \"volume\": \"7\"}"
        ],
        [
         "{\"symbol\": \"MSFT\", \"timestamp\": \"2024-10-08 18:20:00\", \"open\": \"414.7000\", \"high\": \"414.7100\", \"low\": \"414.5600\", \"close\": \"414.7100\", \"volume\": \"90598\"}"
        ],
        [
         "{\"symbol\": \"AAPL\", \"timestamp\": \"2024-10-08 19:59:00\", \"open\": \"225.3000\", \"high\": \"225.3000\", \"low\": \"225.2212\", \"close\": \"225.2212\", \"volume\": \"1577\"}"
        ],
        [
         "{\"symbol\": \"AAPL\", \"timestamp\": \"2024-10-08 19:58:00\", \"open\": \"225.3000\", \"high\": \"225.3000\", \"low\": \"225.2700\", \"close\": \"225.2900\", \"volume\": \"359\"}"
        ],
        [
         "{\"symbol\": \"AAPL\", \"timestamp\": \"2024-10-08 19:57:00\", \"open\": \"225.2600\", \"high\": \"225.3100\", \"low\": \"225.2600\", \"close\": \"225.3000\", \"volume\": \"65\"}"
        ],
        [
         "{\"symbol\": \"AAPL\", \"timestamp\": \"2024-10-08 19:56:00\", \"open\": \"225.3050\", \"high\": \"225.3588\", \"low\": \"225.2600\", \"close\": \"225.3588\", \"volume\": \"239\"}"
        ],
        [
         "{\"symbol\": \"AAPL\", \"timestamp\": \"2024-10-08 19:55:00\", \"open\": \"225.2525\", \"high\": \"225.4875\", \"low\": \"225.2500\", \"close\": \"225.3000\", \"volume\": \"160\"}"
        ],
        [
         "{\"symbol\": \"AAPL\", \"timestamp\": \"2024-10-08 19:54:00\", \"open\": \"225.3488\", \"high\": \"225.3488\", \"low\": \"225.2500\", \"close\": \"225.3000\", \"volume\": \"10\"}"
        ],
        [
         "{\"symbol\": \"AAPL\", \"timestamp\": \"2024-10-08 19:53:00\", \"open\": \"225.4580\", \"high\": \"225.4580\", \"low\": \"225.2360\", \"close\": \"225.3200\", \"volume\": \"169\"}"
        ],
        [
         "{\"symbol\": \"AAPL\", \"timestamp\": \"2024-10-08 19:52:00\", \"open\": \"225.3500\", \"high\": \"225.3500\", \"low\": \"225.3200\", \"close\": \"225.3500\", \"volume\": \"44\"}"
        ],
        [
         "{\"symbol\": \"AAPL\", \"timestamp\": \"2024-10-08 19:51:00\", \"open\": \"225.2400\", \"high\": \"225.3000\", \"low\": \"225.2400\", \"close\": \"225.3000\", \"volume\": \"283\"}"
        ],
        [
         "{\"symbol\": \"AAPL\", \"timestamp\": \"2024-10-08 19:50:00\", \"open\": \"225.2950\", \"high\": \"225.2950\", \"low\": \"225.2300\", \"close\": \"225.2300\", \"volume\": \"15\"}"
        ],
        [
         "{\"symbol\": \"AAPL\", \"timestamp\": \"2024-10-08 19:49:00\", \"open\": \"225.2400\", \"high\": \"225.2950\", \"low\": \"225.2300\", \"close\": \"225.2700\", \"volume\": \"36\"}"
        ],
        [
         "{\"symbol\": \"AAPL\", \"timestamp\": \"2024-10-08 19:48:00\", \"open\": \"225.2950\", \"high\": \"225.3535\", \"low\": \"225.2300\", \"close\": \"225.2950\", \"volume\": \"169\"}"
        ],
        [
         "{\"symbol\": \"AAPL\", \"timestamp\": \"2024-10-08 19:47:00\", \"open\": \"225.2950\", \"high\": \"225.2950\", \"low\": \"225.2300\", \"close\": \"225.2300\", \"volume\": \"504\"}"
        ],
        [
         "{\"symbol\": \"AAPL\", \"timestamp\": \"2024-10-08 19:46:00\", \"open\": \"225.2200\", \"high\": \"225.3600\", \"low\": \"225.2200\", \"close\": \"225.2900\", \"volume\": \"94\"}"
        ],
        [
         "{\"symbol\": \"AAPL\", \"timestamp\": \"2024-10-08 19:45:00\", \"open\": \"225.3600\", \"high\": \"225.3600\", \"low\": \"225.2200\", \"close\": \"225.2900\", \"volume\": \"11\"}"
        ],
        [
         "{\"symbol\": \"AAPL\", \"timestamp\": \"2024-10-08 19:44:00\", \"open\": \"225.3800\", \"high\": \"225.3800\", \"low\": \"225.2200\", \"close\": \"225.3000\", \"volume\": \"193\"}"
        ],
        [
         "{\"symbol\": \"AAPL\", \"timestamp\": \"2024-10-08 19:43:00\", \"open\": \"225.3800\", \"high\": \"225.5100\", \"low\": \"225.2500\", \"close\": \"225.5100\", \"volume\": \"104\"}"
        ],
        [
         "{\"symbol\": \"AAPL\", \"timestamp\": \"2024-10-08 19:42:00\", \"open\": \"225.3700\", \"high\": \"225.3700\", \"low\": \"225.3700\", \"close\": \"225.3700\", \"volume\": \"1\"}"
        ],
        [
         "{\"symbol\": \"AAPL\", \"timestamp\": \"2024-10-08 19:41:00\", \"open\": \"225.2267\", \"high\": \"225.5100\", \"low\": \"225.2267\", \"close\": \"225.3700\", \"volume\": \"11\"}"
        ],
        [
         "{\"symbol\": \"AAPL\", \"timestamp\": \"2024-10-08 19:40:00\", \"open\": \"225.2200\", \"high\": \"225.4479\", \"low\": \"225.2200\", \"close\": \"225.2300\", \"volume\": \"221\"}"
        ],
        [
         "{\"symbol\": \"AAPL\", \"timestamp\": \"2024-10-08 19:39:00\", \"open\": \"225.2200\", \"high\": \"225.3600\", \"low\": \"225.2200\", \"close\": \"225.3600\", \"volume\": \"27\"}"
        ],
        [
         "{\"symbol\": \"AAPL\", \"timestamp\": \"2024-10-08 19:38:00\", \"open\": \"225.2600\", \"high\": \"225.5000\", \"low\": \"225.2200\", \"close\": \"225.4860\", \"volume\": \"77\"}"
        ],
        [
         "{\"symbol\": \"AAPL\", \"timestamp\": \"2024-10-08 19:37:00\", \"open\": \"225.2600\", \"high\": \"225.2600\", \"low\": \"225.2200\", \"close\": \"225.2300\", \"volume\": \"874\"}"
        ],
        [
         "{\"symbol\": \"AAPL\", \"timestamp\": \"2024-10-08 19:36:00\", \"open\": \"225.2200\", \"high\": \"225.2500\", \"low\": \"225.2200\", \"close\": \"225.2400\", \"volume\": \"150\"}"
        ],
        [
         "{\"symbol\": \"AAPL\", \"timestamp\": \"2024-10-08 19:35:00\", \"open\": \"225.2200\", \"high\": \"225.2500\", \"low\": \"225.2200\", \"close\": \"225.2350\", \"volume\": \"75\"}"
        ],
        [
         "{\"symbol\": \"AAPL\", \"timestamp\": \"2024-10-08 19:34:00\", \"open\": \"225.2600\", \"high\": \"225.2600\", \"low\": \"225.2200\", \"close\": \"225.2350\", \"volume\": \"1022\"}"
        ],
        [
         "{\"symbol\": \"AAPL\", \"timestamp\": \"2024-10-08 19:33:00\", \"open\": \"225.2500\", \"high\": \"225.2600\", \"low\": \"225.2200\", \"close\": \"225.2400\", \"volume\": \"1619\"}"
        ],
        [
         "{\"symbol\": \"AAPL\", \"timestamp\": \"2024-10-08 19:32:00\", \"open\": \"225.2850\", \"high\": \"225.3100\", \"low\": \"225.2500\", \"close\": \"225.2500\", \"volume\": \"419\"}"
        ],
        [
         "{\"symbol\": \"AAPL\", \"timestamp\": \"2024-10-08 19:31:00\", \"open\": \"225.3200\", \"high\": \"225.3200\", \"low\": \"225.3200\", \"close\": \"225.3200\", \"volume\": \"1\"}"
        ],
        [
         "{\"symbol\": \"AAPL\", \"timestamp\": \"2024-10-08 19:30:00\", \"open\": \"225.3400\", \"high\": \"225.3800\", \"low\": \"225.2500\", \"close\": \"225.2500\", \"volume\": \"321\"}"
        ],
        [
         "{\"symbol\": \"AAPL\", \"timestamp\": \"2024-10-08 19:29:00\", \"open\": \"225.3000\", \"high\": \"225.3600\", \"low\": \"225.2500\", \"close\": \"225.3400\", \"volume\": \"51\"}"
        ],
        [
         "{\"symbol\": \"AAPL\", \"timestamp\": \"2024-10-08 19:28:00\", \"open\": \"225.4000\", \"high\": \"225.4000\", \"low\": \"225.2500\", \"close\": \"225.2513\", \"volume\": \"338\"}"
        ],
        [
         "{\"symbol\": \"AAPL\", \"timestamp\": \"2024-10-08 19:27:00\", \"open\": \"225.3750\", \"high\": \"225.3900\", \"low\": \"225.3500\", \"close\": \"225.3500\", \"volume\": \"233\"}"
        ],
        [
         "{\"symbol\": \"AAPL\", \"timestamp\": \"2024-10-08 19:26:00\", \"open\": \"225.4500\", \"high\": \"225.4500\", \"low\": \"225.3500\", \"close\": \"225.3500\", \"volume\": \"34\"}"
        ],
        [
         "{\"symbol\": \"AAPL\", \"timestamp\": \"2024-10-08 19:25:00\", \"open\": \"225.3500\", \"high\": \"225.4280\", \"low\": \"225.3500\", \"close\": \"225.4000\", \"volume\": \"113\"}"
        ],
        [
         "{\"symbol\": \"AAPL\", \"timestamp\": \"2024-10-08 19:24:00\", \"open\": \"225.4250\", \"high\": \"225.4300\", \"low\": \"225.3500\", \"close\": \"225.4000\", \"volume\": \"397\"}"
        ],
        [
         "{\"symbol\": \"AAPL\", \"timestamp\": \"2024-10-08 19:23:00\", \"open\": \"225.4500\", \"high\": \"225.4500\", \"low\": \"225.4000\", \"close\": \"225.4250\", \"volume\": \"56\"}"
        ],
        [
         "{\"symbol\": \"AAPL\", \"timestamp\": \"2024-10-08 19:22:00\", \"open\": \"225.4250\", \"high\": \"225.4250\", \"low\": \"225.4000\", \"close\": \"225.4000\", \"volume\": \"62\"}"
        ],
        [
         "{\"symbol\": \"AAPL\", \"timestamp\": \"2024-10-08 19:21:00\", \"open\": \"225.4300\", \"high\": \"225.4300\", \"low\": \"225.4000\", \"close\": \"225.4250\", \"volume\": \"539\"}"
        ],
        [
         "{\"symbol\": \"AAPL\", \"timestamp\": \"2024-10-08 19:20:00\", \"open\": \"225.4000\", \"high\": \"225.4300\", \"low\": \"225.4000\", \"close\": \"225.4300\", \"volume\": \"18\"}"
        ],
        [
         "{\"symbol\": \"AAPL\", \"timestamp\": \"2024-10-08 19:19:00\", \"open\": \"225.4000\", \"high\": \"225.4300\", \"low\": \"225.4000\", \"close\": \"225.4300\", \"volume\": \"8\"}"
        ],
        [
         "{\"symbol\": \"AAPL\", \"timestamp\": \"2024-10-08 19:18:00\", \"open\": \"225.4300\", \"high\": \"225.4300\", \"low\": \"225.4000\", \"close\": \"225.4000\", \"volume\": \"12\"}"
        ],
        [
         "{\"symbol\": \"AAPL\", \"timestamp\": \"2024-10-08 19:17:00\", \"open\": \"225.4500\", \"high\": \"225.4500\", \"low\": \"225.4000\", \"close\": \"225.4250\", \"volume\": \"8\"}"
        ],
        [
         "{\"symbol\": \"AAPL\", \"timestamp\": \"2024-10-08 19:16:00\", \"open\": \"225.4550\", \"high\": \"225.4550\", \"low\": \"225.4000\", \"close\": \"225.4500\", \"volume\": \"179\"}"
        ],
        [
         "{\"symbol\": \"AAPL\", \"timestamp\": \"2024-10-08 19:15:00\", \"open\": \"225.4492\", \"high\": \"225.4500\", \"low\": \"225.4250\", \"close\": \"225.4500\", \"volume\": \"304\"}"
        ],
        [
         "{\"symbol\": \"AAPL\", \"timestamp\": \"2024-10-08 19:14:00\", \"open\": \"225.4200\", \"high\": \"225.4488\", \"low\": \"225.4000\", \"close\": \"225.4250\", \"volume\": \"16\"}"
        ],
        [
         "{\"symbol\": \"AAPL\", \"timestamp\": \"2024-10-08 19:13:00\", \"open\": \"225.4550\", \"high\": \"225.4550\", \"low\": \"225.4025\", \"close\": \"225.4500\", \"volume\": \"43\"}"
        ],
        [
         "{\"symbol\": \"AAPL\", \"timestamp\": \"2024-10-08 19:12:00\", \"open\": \"225.4550\", \"high\": \"225.5100\", \"low\": \"225.4000\", \"close\": \"225.5000\", \"volume\": \"116\"}"
        ],
        [
         "{\"symbol\": \"AAPL\", \"timestamp\": \"2024-10-08 19:11:00\", \"open\": \"225.4650\", \"high\": \"225.4650\", \"low\": \"225.4650\", \"close\": \"225.4650\", \"volume\": \"1\"}"
        ],
        [
         "{\"symbol\": \"AAPL\", \"timestamp\": \"2024-10-08 19:10:00\", \"open\": \"225.4500\", \"high\": \"225.4900\", \"low\": \"225.4500\", \"close\": \"225.4650\", \"volume\": \"36\"}"
        ],
        [
         "{\"symbol\": \"AAPL\", \"timestamp\": \"2024-10-08 19:09:00\", \"open\": \"225.4700\", \"high\": \"225.4900\", \"low\": \"225.4500\", \"close\": \"225.4700\", \"volume\": \"8\"}"
        ],
        [
         "{\"symbol\": \"AAPL\", \"timestamp\": \"2024-10-08 19:08:00\", \"open\": \"225.4700\", \"high\": \"225.5077\", \"low\": \"225.4000\", \"close\": \"225.4700\", \"volume\": \"26\"}"
        ],
        [
         "{\"symbol\": \"AAPL\", \"timestamp\": \"2024-10-08 19:07:00\", \"open\": \"225.4000\", \"high\": \"225.5388\", \"low\": \"225.4000\", \"close\": \"225.4500\", \"volume\": \"75\"}"
        ],
        [
         "{\"symbol\": \"AAPL\", \"timestamp\": \"2024-10-08 19:06:00\", \"open\": \"225.5000\", \"high\": \"225.5000\", \"low\": \"225.4000\", \"close\": \"225.4700\", \"volume\": \"31\"}"
        ],
        [
         "{\"symbol\": \"AAPL\", \"timestamp\": \"2024-10-08 19:05:00\", \"open\": \"225.5300\", \"high\": \"225.5300\", \"low\": \"225.4000\", \"close\": \"225.5000\", \"volume\": \"351\"}"
        ],
        [
         "{\"symbol\": \"AAPL\", \"timestamp\": \"2024-10-08 19:04:00\", \"open\": \"225.5200\", \"high\": \"225.5200\", \"low\": \"225.5200\", \"close\": \"225.5200\", \"volume\": \"1\"}"
        ],
        [
         "{\"symbol\": \"AAPL\", \"timestamp\": \"2024-10-08 19:03:00\", \"open\": \"225.5200\", \"high\": \"225.5400\", \"low\": \"225.5000\", \"close\": \"225.5200\", \"volume\": \"101\"}"
        ],
        [
         "{\"symbol\": \"AAPL\", \"timestamp\": \"2024-10-08 19:02:00\", \"open\": \"225.5300\", \"high\": \"225.5300\", \"low\": \"225.5150\", \"close\": \"225.5292\", \"volume\": \"15\"}"
        ],
        [
         "{\"symbol\": \"AAPL\", \"timestamp\": \"2024-10-08 19:01:00\", \"open\": \"225.5200\", \"high\": \"225.5400\", \"low\": \"225.5000\", \"close\": \"225.5150\", \"volume\": \"276\"}"
        ],
        [
         "{\"symbol\": \"AAPL\", \"timestamp\": \"2024-10-08 19:00:00\", \"open\": \"225.5000\", \"high\": \"225.5400\", \"low\": \"225.5000\", \"close\": \"225.5400\", \"volume\": \"991\"}"
        ],
        [
         "{\"symbol\": \"AAPL\", \"timestamp\": \"2024-10-08 18:59:00\", \"open\": \"225.5150\", \"high\": \"225.5300\", \"low\": \"225.5000\", \"close\": \"225.5300\", \"volume\": \"263\"}"
        ],
        [
         "{\"symbol\": \"AAPL\", \"timestamp\": \"2024-10-08 18:58:00\", \"open\": \"225.5015\", \"high\": \"225.5150\", \"low\": \"225.5000\", \"close\": \"225.5150\", \"volume\": \"42\"}"
        ],
        [
         "{\"symbol\": \"AAPL\", \"timestamp\": \"2024-10-08 18:57:00\", \"open\": \"225.5000\", \"high\": \"225.5150\", \"low\": \"225.5000\", \"close\": \"225.5000\", \"volume\": \"64\"}"
        ],
        [
         "{\"symbol\": \"AAPL\", \"timestamp\": \"2024-10-08 18:56:00\", \"open\": \"225.4500\", \"high\": \"225.5300\", \"low\": \"225.4500\", \"close\": \"225.5100\", \"volume\": \"1053\"}"
        ],
        [
         "{\"symbol\": \"AAPL\", \"timestamp\": \"2024-10-08 18:55:00\", \"open\": \"225.4500\", \"high\": \"225.4600\", \"low\": \"225.4500\", \"close\": \"225.4500\", \"volume\": \"159\"}"
        ],
        [
         "{\"symbol\": \"AAPL\", \"timestamp\": \"2024-10-08 18:54:00\", \"open\": \"225.5000\", \"high\": \"225.5000\", \"low\": \"225.4009\", \"close\": \"225.4500\", \"volume\": \"2305\"}"
        ],
        [
         "{\"symbol\": \"AAPL\", \"timestamp\": \"2024-10-08 18:53:00\", \"open\": \"225.4300\", \"high\": \"225.5000\", \"low\": \"225.4000\", \"close\": \"225.4000\", \"volume\": \"143\"}"
        ],
        [
         "{\"symbol\": \"AAPL\", \"timestamp\": \"2024-10-08 18:52:00\", \"open\": \"225.4500\", \"high\": \"225.5000\", \"low\": \"225.4300\", \"close\": \"225.4500\", \"volume\": \"13\"}"
        ],
        [
         "{\"symbol\": \"AAPL\", \"timestamp\": \"2024-10-08 18:51:00\", \"open\": \"225.4500\", \"high\": \"225.5000\", \"low\": \"225.4000\", \"close\": \"225.4000\", \"volume\": \"35\"}"
        ],
        [
         "{\"symbol\": \"AAPL\", \"timestamp\": \"2024-10-08 18:50:00\", \"open\": \"225.4500\", \"high\": \"225.4500\", \"low\": \"225.4000\", \"close\": \"225.4000\", \"volume\": \"13\"}"
        ],
        [
         "{\"symbol\": \"AAPL\", \"timestamp\": \"2024-10-08 18:49:00\", \"open\": \"225.4500\", \"high\": \"225.4500\", \"low\": \"225.4000\", \"close\": \"225.4300\", \"volume\": \"143\"}"
        ],
        [
         "{\"symbol\": \"AAPL\", \"timestamp\": \"2024-10-08 18:48:00\", \"open\": \"225.4000\", \"high\": \"225.4950\", \"low\": \"225.4000\", \"close\": \"225.4000\", \"volume\": \"63\"}"
        ],
        [
         "{\"symbol\": \"AAPL\", \"timestamp\": \"2024-10-08 18:47:00\", \"open\": \"225.4000\", \"high\": \"225.4200\", \"low\": \"225.3800\", \"close\": \"225.4000\", \"volume\": \"962\"}"
        ],
        [
         "{\"symbol\": \"AAPL\", \"timestamp\": \"2024-10-08 18:46:00\", \"open\": \"225.3850\", \"high\": \"225.4000\", \"low\": \"225.3850\", \"close\": \"225.4000\", \"volume\": \"2\"}"
        ],
        [
         "{\"symbol\": \"AAPL\", \"timestamp\": \"2024-10-08 18:45:00\", \"open\": \"225.4100\", \"high\": \"225.4100\", \"low\": \"225.3500\", \"close\": \"225.3850\", \"volume\": \"31\"}"
        ],
        [
         "{\"symbol\": \"AAPL\", \"timestamp\": \"2024-10-08 18:44:00\", \"open\": \"225.3500\", \"high\": \"225.4182\", \"low\": \"225.3500\", \"close\": \"225.4100\", \"volume\": \"47\"}"
        ],
        [
         "{\"symbol\": \"AAPL\", \"timestamp\": \"2024-10-08 18:43:00\", \"open\": \"225.4100\", \"high\": \"225.4200\", \"low\": \"225.3500\", \"close\": \"225.3800\", \"volume\": \"60\"}"
        ],
        [
         "{\"symbol\": \"AAPL\", \"timestamp\": \"2024-10-08 18:42:00\", \"open\": \"225.3850\", \"high\": \"225.3850\", \"low\": \"225.3500\", \"close\": \"225.3850\", \"volume\": \"18\"}"
        ],
        [
         "{\"symbol\": \"AAPL\", \"timestamp\": \"2024-10-08 18:41:00\", \"open\": \"225.3850\", \"high\": \"225.3850\", \"low\": \"225.3500\", \"close\": \"225.3500\", \"volume\": \"7\"}"
        ],
        [
         "{\"symbol\": \"AAPL\", \"timestamp\": \"2024-10-08 18:40:00\", \"open\": \"225.3900\", \"high\": \"225.3900\", \"low\": \"225.3500\", \"close\": \"225.3850\", \"volume\": \"213\"}"
        ],
        [
         "{\"symbol\": \"AAPL\", \"timestamp\": \"2024-10-08 18:39:00\", \"open\": \"225.3850\", \"high\": \"225.4200\", \"low\": \"225.3500\", \"close\": \"225.4200\", \"volume\": \"146\"}"
        ],
        [
         "{\"symbol\": \"AAPL\", \"timestamp\": \"2024-10-08 18:38:00\", \"open\": \"225.3500\", \"high\": \"225.3850\", \"low\": \"225.3500\", \"close\": \"225.3850\", \"volume\": \"258\"}"
        ],
        [
         "{\"symbol\": \"AAPL\", \"timestamp\": \"2024-10-08 18:37:00\", \"open\": \"225.4250\", \"high\": \"225.4250\", \"low\": \"225.3500\", \"close\": \"225.4250\", \"volume\": \"5\"}"
        ],
        [
         "{\"symbol\": \"AAPL\", \"timestamp\": \"2024-10-08 18:36:00\", \"open\": \"225.4250\", \"high\": \"225.5000\", \"low\": \"225.3500\", \"close\": \"225.4250\", \"volume\": \"213\"}"
        ],
        [
         "{\"symbol\": \"AAPL\", \"timestamp\": \"2024-10-08 18:35:00\", \"open\": \"225.4250\", \"high\": \"225.5000\", \"low\": \"225.3500\", \"close\": \"225.4730\", \"volume\": \"113\"}"
        ],
        [
         "{\"symbol\": \"AAPL\", \"timestamp\": \"2024-10-08 18:34:00\", \"open\": \"225.4250\", \"high\": \"225.4250\", \"low\": \"225.4250\", \"close\": \"225.4250\", \"volume\": \"3\"}"
        ],
        [
         "{\"symbol\": \"AAPL\", \"timestamp\": \"2024-10-08 18:33:00\", \"open\": \"225.3500\", \"high\": \"225.4400\", \"low\": \"225.3500\", \"close\": \"225.4250\", \"volume\": \"85\"}"
        ],
        [
         "{\"symbol\": \"AAPL\", \"timestamp\": \"2024-10-08 18:32:00\", \"open\": \"225.4250\", \"high\": \"225.4250\", \"low\": \"225.3500\", \"close\": \"225.4000\", \"volume\": \"25\"}"
        ],
        [
         "{\"symbol\": \"AAPL\", \"timestamp\": \"2024-10-08 18:31:00\", \"open\": \"225.3500\", \"high\": \"225.4250\", \"low\": \"225.3500\", \"close\": \"225.3800\", \"volume\": \"261\"}"
        ],
        [
         "{\"symbol\": \"AAPL\", \"timestamp\": \"2024-10-08 18:30:00\", \"open\": \"225.3900\", \"high\": \"225.4300\", \"low\": \"225.3500\", \"close\": \"225.4250\", \"volume\": \"506\"}"
        ],
        [
         "{\"symbol\": \"AAPL\", \"timestamp\": \"2024-10-08 18:29:00\", \"open\": \"225.3300\", \"high\": \"225.4300\", \"low\": \"225.3100\", \"close\": \"225.4300\", \"volume\": \"217\"}"
        ],
        [
         "{\"symbol\": \"AAPL\", \"timestamp\": \"2024-10-08 18:28:00\", \"open\": \"225.3500\", \"high\": \"225.3500\", \"low\": \"225.2800\", \"close\": \"225.3000\", \"volume\": \"169\"}"
        ],
        [
         "{\"symbol\": \"AAPL\", \"timestamp\": \"2024-10-08 18:27:00\", \"open\": \"225.3200\", \"high\": \"225.3500\", \"low\": \"225.2700\", \"close\": \"225.3050\", \"volume\": \"172\"}"
        ],
        [
         "{\"symbol\": \"AAPL\", \"timestamp\": \"2024-10-08 18:26:00\", \"open\": \"225.3100\", \"high\": \"225.3300\", \"low\": \"225.2600\", \"close\": \"225.3300\", \"volume\": \"374\"}"
        ],
        [
         "{\"symbol\": \"AAPL\", \"timestamp\": \"2024-10-08 18:25:00\", \"open\": \"225.2950\", \"high\": \"225.3300\", \"low\": \"225.2600\", \"close\": \"225.3300\", \"volume\": \"114\"}"
        ],
        [
         "{\"symbol\": \"AAPL\", \"timestamp\": \"2024-10-08 18:24:00\", \"open\": \"225.2950\", \"high\": \"225.2950\", \"low\": \"225.2600\", \"close\": \"225.2600\", \"volume\": \"5\"}"
        ],
        [
         "{\"symbol\": \"AAPL\", \"timestamp\": \"2024-10-08 18:23:00\", \"open\": \"225.3250\", \"high\": \"225.3965\", \"low\": \"225.2600\", \"close\": \"225.3965\", \"volume\": \"75\"}"
        ],
        [
         "{\"symbol\": \"AAPL\", \"timestamp\": \"2024-10-08 18:22:00\", \"open\": \"225.3300\", \"high\": \"225.3300\", \"low\": \"225.2633\", \"close\": \"225.3000\", \"volume\": \"19\"}"
        ],
        [
         "{\"symbol\": \"AAPL\", \"timestamp\": \"2024-10-08 18:21:00\", \"open\": \"225.3300\", \"high\": \"225.4000\", \"low\": \"225.2500\", \"close\": \"225.3250\", \"volume\": \"195\"}"
        ],
        [
         "{\"symbol\": \"AAPL\", \"timestamp\": \"2024-10-08 18:20:00\", \"open\": \"225.3100\", \"high\": \"225.7700\", \"low\": \"225.2500\", \"close\": \"225.2500\", \"volume\": \"191387\"}"
        ],
        [
         "{\"symbol\": \"GOOGL\", \"timestamp\": \"2024-10-08 19:54:00\", \"open\": \"164.1900\", \"high\": \"164.2400\", \"low\": \"164.1830\", \"close\": \"164.2400\", \"volume\": \"675\"}"
        ],
        [
         "{\"symbol\": \"GOOGL\", \"timestamp\": \"2024-10-08 19:53:00\", \"open\": \"164.1815\", \"high\": \"164.2400\", \"low\": \"164.1815\", \"close\": \"164.2400\", \"volume\": \"101\"}"
        ],
        [
         "{\"symbol\": \"GOOGL\", \"timestamp\": \"2024-10-08 19:52:00\", \"open\": \"164.2368\", \"high\": \"164.2368\", \"low\": \"164.2000\", \"close\": \"164.2000\", \"volume\": \"55\"}"
        ],
        [
         "{\"symbol\": \"GOOGL\", \"timestamp\": \"2024-10-08 19:51:00\", \"open\": \"164.1600\", \"high\": \"164.2200\", \"low\": \"164.1600\", \"close\": \"164.2200\", \"volume\": \"434\"}"
        ],
        [
         "{\"symbol\": \"GOOGL\", \"timestamp\": \"2024-10-08 19:50:00\", \"open\": \"164.1512\", \"high\": \"164.1512\", \"low\": \"164.1512\", \"close\": \"164.1512\", \"volume\": \"1\"}"
        ],
        [
         "{\"symbol\": \"GOOGL\", \"timestamp\": \"2024-10-08 19:49:00\", \"open\": \"164.1960\", \"high\": \"164.1960\", \"low\": \"164.1500\", \"close\": \"164.1500\", \"volume\": \"101\"}"
        ],
        [
         "{\"symbol\": \"GOOGL\", \"timestamp\": \"2024-10-08 19:48:00\", \"open\": \"164.1700\", \"high\": \"164.2000\", \"low\": \"164.1700\", \"close\": \"164.2000\", \"volume\": \"150\"}"
        ],
        [
         "{\"symbol\": \"GOOGL\", \"timestamp\": \"2024-10-08 19:47:00\", \"open\": \"164.1600\", \"high\": \"164.1800\", \"low\": \"164.1400\", \"close\": \"164.1500\", \"volume\": \"169\"}"
        ],
        [
         "{\"symbol\": \"GOOGL\", \"timestamp\": \"2024-10-08 19:46:00\", \"open\": \"164.1800\", \"high\": \"164.1800\", \"low\": \"164.1600\", \"close\": \"164.1800\", \"volume\": \"209\"}"
        ],
        [
         "{\"symbol\": \"GOOGL\", \"timestamp\": \"2024-10-08 19:44:00\", \"open\": \"164.1400\", \"high\": \"164.1800\", \"low\": \"164.1400\", \"close\": \"164.1500\", \"volume\": \"212\"}"
        ],
        [
         "{\"symbol\": \"GOOGL\", \"timestamp\": \"2024-10-08 19:43:00\", \"open\": \"164.1955\", \"high\": \"164.1955\", \"low\": \"164.1500\", \"close\": \"164.1800\", \"volume\": \"110\"}"
        ],
        [
         "{\"symbol\": \"GOOGL\", \"timestamp\": \"2024-10-08 19:42:00\", \"open\": \"164.1000\", \"high\": \"164.2000\", \"low\": \"164.1000\", \"close\": \"164.1106\", \"volume\": \"45\"}"
        ],
        [
         "{\"symbol\": \"GOOGL\", \"timestamp\": \"2024-10-08 19:41:00\", \"open\": \"164.1100\", \"high\": \"164.1100\", \"low\": \"164.1100\", \"close\": \"164.1100\", \"volume\": \"20\"}"
        ],
        [
         "{\"symbol\": \"GOOGL\", \"timestamp\": \"2024-10-08 19:40:00\", \"open\": \"164.1800\", \"high\": \"164.1991\", \"low\": \"164.1000\", \"close\": \"164.1000\", \"volume\": \"104\"}"
        ],
        [
         "{\"symbol\": \"GOOGL\", \"timestamp\": \"2024-10-08 19:39:00\", \"open\": \"164.1400\", \"high\": \"164.1800\", \"low\": \"164.1000\", \"close\": \"164.1000\", \"volume\": \"134\"}"
        ],
        [
         "{\"symbol\": \"GOOGL\", \"timestamp\": \"2024-10-08 19:38:00\", \"open\": \"164.1891\", \"high\": \"164.1891\", \"low\": \"164.1400\", \"close\": \"164.1400\", \"volume\": \"26\"}"
        ],
        [
         "{\"symbol\": \"GOOGL\", \"timestamp\": \"2024-10-08 19:37:00\", \"open\": \"164.1900\", \"high\": \"164.1900\", \"low\": \"164.1500\", \"close\": \"164.1500\", \"volume\": \"80\"}"
        ],
        [
         "{\"symbol\": \"GOOGL\", \"timestamp\": \"2024-10-08 19:36:00\", \"open\": \"164.1500\", \"high\": \"164.1900\", \"low\": \"164.1500\", \"close\": \"164.1900\", \"volume\": \"12\"}"
        ],
        [
         "{\"symbol\": \"GOOGL\", \"timestamp\": \"2024-10-08 19:35:00\", \"open\": \"164.1800\", \"high\": \"164.2000\", \"low\": \"164.1800\", \"close\": \"164.2000\", \"volume\": \"43\"}"
        ],
        [
         "{\"symbol\": \"GOOGL\", \"timestamp\": \"2024-10-08 19:34:00\", \"open\": \"164.1500\", \"high\": \"164.1500\", \"low\": \"164.1500\", \"close\": \"164.1500\", \"volume\": \"20\"}"
        ],
        [
         "{\"symbol\": \"GOOGL\", \"timestamp\": \"2024-10-08 19:33:00\", \"open\": \"164.1500\", \"high\": \"164.1500\", \"low\": \"164.1000\", \"close\": \"164.1100\", \"volume\": \"168\"}"
        ],
        [
         "{\"symbol\": \"GOOGL\", \"timestamp\": \"2024-10-08 19:32:00\", \"open\": \"164.1900\", \"high\": \"164.1900\", \"low\": \"164.1500\", \"close\": \"164.1500\", \"volume\": \"162\"}"
        ],
        [
         "{\"symbol\": \"GOOGL\", \"timestamp\": \"2024-10-08 19:31:00\", \"open\": \"164.2000\", \"high\": \"164.2000\", \"low\": \"164.1900\", \"close\": \"164.1900\", \"volume\": \"130\"}"
        ],
        [
         "{\"symbol\": \"GOOGL\", \"timestamp\": \"2024-10-08 19:30:00\", \"open\": \"164.1515\", \"high\": \"164.1600\", \"low\": \"164.1500\", \"close\": \"164.1500\", \"volume\": \"124\"}"
        ],
        [
         "{\"symbol\": \"GOOGL\", \"timestamp\": \"2024-10-08 19:29:00\", \"open\": \"164.1500\", \"high\": \"164.1500\", \"low\": \"164.1500\", \"close\": \"164.1500\", \"volume\": \"1\"}"
        ],
        [
         "{\"symbol\": \"GOOGL\", \"timestamp\": \"2024-10-08 19:28:00\", \"open\": \"164.1600\", \"high\": \"164.1600\", \"low\": \"164.1500\", \"close\": \"164.1500\", \"volume\": \"320\"}"
        ],
        [
         "{\"symbol\": \"GOOGL\", \"timestamp\": \"2024-10-08 19:27:00\", \"open\": \"164.1525\", \"high\": \"164.2000\", \"low\": \"164.1500\", \"close\": \"164.2000\", \"volume\": \"106\"}"
        ],
        [
         "{\"symbol\": \"GOOGL\", \"timestamp\": \"2024-10-08 19:25:00\", \"open\": \"164.1600\", \"high\": \"164.1600\", \"low\": \"164.1500\", \"close\": \"164.1500\", \"volume\": \"132\"}"
        ],
        [
         "{\"symbol\": \"GOOGL\", \"timestamp\": \"2024-10-08 19:24:00\", \"open\": \"164.1025\", \"high\": \"164.1600\", \"low\": \"164.1025\", \"close\": \"164.1600\", \"volume\": \"30\"}"
        ],
        [
         "{\"symbol\": \"GOOGL\", \"timestamp\": \"2024-10-08 19:23:00\", \"open\": \"164.1025\", \"high\": \"164.1600\", \"low\": \"164.1025\", \"close\": \"164.1600\", \"volume\": \"2\"}"
        ],
        [
         "{\"symbol\": \"GOOGL\", \"timestamp\": \"2024-10-08 19:21:00\", \"open\": \"164.1800\", \"high\": \"164.2000\", \"low\": \"164.1600\", \"close\": \"164.1600\", \"volume\": \"112\"}"
        ],
        [
         "{\"symbol\": \"GOOGL\", \"timestamp\": \"2024-10-08 19:20:00\", \"open\": \"164.1200\", \"high\": \"164.1200\", \"low\": \"164.1200\", \"close\": \"164.1200\", \"volume\": \"2\"}"
        ],
        [
         "{\"symbol\": \"GOOGL\", \"timestamp\": \"2024-10-08 19:18:00\", \"open\": \"164.1200\", \"high\": \"164.2000\", \"low\": \"164.1012\", \"close\": \"164.1200\", \"volume\": \"139\"}"
        ],
        [
         "{\"symbol\": \"GOOGL\", \"timestamp\": \"2024-10-08 19:17:00\", \"open\": \"164.1000\", \"high\": \"164.2000\", \"low\": \"164.1000\", \"close\": \"164.1100\", \"volume\": \"66\"}"
        ],
        [
         "{\"symbol\": \"GOOGL\", \"timestamp\": \"2024-10-08 19:16:00\", \"open\": \"164.1000\", \"high\": \"164.1000\", \"low\": \"164.1000\", \"close\": \"164.1000\", \"volume\": \"12\"}"
        ],
        [
         "{\"symbol\": \"GOOGL\", \"timestamp\": \"2024-10-08 19:15:00\", \"open\": \"164.1300\", \"high\": \"164.1900\", \"low\": \"164.1300\", \"close\": \"164.1900\", \"volume\": \"20\"}"
        ],
        [
         "{\"symbol\": \"GOOGL\", \"timestamp\": \"2024-10-08 19:14:00\", \"open\": \"164.1300\", \"high\": \"164.2000\", \"low\": \"164.1100\", \"close\": \"164.1100\", \"volume\": \"280\"}"
        ],
        [
         "{\"symbol\": \"GOOGL\", \"timestamp\": \"2024-10-08 19:13:00\", \"open\": \"164.1100\", \"high\": \"164.1100\", \"low\": \"164.1100\", \"close\": \"164.1100\", \"volume\": \"21\"}"
        ],
        [
         "{\"symbol\": \"AAPL\", \"timestamp\": \"2024-10-08 19:54:00\", \"open\": \"225.3488\", \"high\": \"225.3488\", \"low\": \"225.2500\", \"close\": \"225.3000\", \"volume\": \"10\"}"
        ],
        [
         "{\"symbol\": \"AAPL\", \"timestamp\": \"2024-10-08 19:53:00\", \"open\": \"225.4580\", \"high\": \"225.4580\", \"low\": \"225.2360\", \"close\": \"225.3200\", \"volume\": \"169\"}"
        ],
        [
         "{\"symbol\": \"AAPL\", \"timestamp\": \"2024-10-08 19:52:00\", \"open\": \"225.3500\", \"high\": \"225.3500\", \"low\": \"225.3200\", \"close\": \"225.3500\", \"volume\": \"44\"}"
        ],
        [
         "{\"symbol\": \"AAPL\", \"timestamp\": \"2024-10-08 19:51:00\", \"open\": \"225.2400\", \"high\": \"225.3000\", \"low\": \"225.2400\", \"close\": \"225.3000\", \"volume\": \"283\"}"
        ],
        [
         "{\"symbol\": \"AAPL\", \"timestamp\": \"2024-10-08 19:50:00\", \"open\": \"225.2950\", \"high\": \"225.2950\", \"low\": \"225.2300\", \"close\": \"225.2300\", \"volume\": \"15\"}"
        ],
        [
         "{\"symbol\": \"AAPL\", \"timestamp\": \"2024-10-08 19:49:00\", \"open\": \"225.2400\", \"high\": \"225.2950\", \"low\": \"225.2300\", \"close\": \"225.2700\", \"volume\": \"36\"}"
        ],
        [
         "{\"symbol\": \"AAPL\", \"timestamp\": \"2024-10-08 19:48:00\", \"open\": \"225.2950\", \"high\": \"225.3535\", \"low\": \"225.2300\", \"close\": \"225.2950\", \"volume\": \"169\"}"
        ],
        [
         "{\"symbol\": \"AAPL\", \"timestamp\": \"2024-10-08 19:47:00\", \"open\": \"225.2950\", \"high\": \"225.2950\", \"low\": \"225.2300\", \"close\": \"225.2300\", \"volume\": \"504\"}"
        ],
        [
         "{\"symbol\": \"AAPL\", \"timestamp\": \"2024-10-08 19:46:00\", \"open\": \"225.2200\", \"high\": \"225.3600\", \"low\": \"225.2200\", \"close\": \"225.2900\", \"volume\": \"94\"}"
        ],
        [
         "{\"symbol\": \"AAPL\", \"timestamp\": \"2024-10-08 19:45:00\", \"open\": \"225.3600\", \"high\": \"225.3600\", \"low\": \"225.2200\", \"close\": \"225.2900\", \"volume\": \"11\"}"
        ],
        [
         "{\"symbol\": \"AAPL\", \"timestamp\": \"2024-10-08 19:44:00\", \"open\": \"225.3800\", \"high\": \"225.3800\", \"low\": \"225.2200\", \"close\": \"225.3000\", \"volume\": \"193\"}"
        ],
        [
         "{\"symbol\": \"AAPL\", \"timestamp\": \"2024-10-08 19:43:00\", \"open\": \"225.3800\", \"high\": \"225.5100\", \"low\": \"225.2500\", \"close\": \"225.5100\", \"volume\": \"104\"}"
        ],
        [
         "{\"symbol\": \"AAPL\", \"timestamp\": \"2024-10-08 19:42:00\", \"open\": \"225.3700\", \"high\": \"225.3700\", \"low\": \"225.3700\", \"close\": \"225.3700\", \"volume\": \"1\"}"
        ],
        [
         "{\"symbol\": \"AAPL\", \"timestamp\": \"2024-10-08 19:41:00\", \"open\": \"225.2267\", \"high\": \"225.5100\", \"low\": \"225.2267\", \"close\": \"225.3700\", \"volume\": \"11\"}"
        ],
        [
         "{\"symbol\": \"AAPL\", \"timestamp\": \"2024-10-08 19:40:00\", \"open\": \"225.2200\", \"high\": \"225.4479\", \"low\": \"225.2200\", \"close\": \"225.2300\", \"volume\": \"221\"}"
        ],
        [
         "{\"symbol\": \"AAPL\", \"timestamp\": \"2024-10-08 19:39:00\", \"open\": \"225.2200\", \"high\": \"225.3600\", \"low\": \"225.2200\", \"close\": \"225.3600\", \"volume\": \"27\"}"
        ],
        [
         "{\"symbol\": \"AAPL\", \"timestamp\": \"2024-10-08 19:38:00\", \"open\": \"225.2600\", \"high\": \"225.5000\", \"low\": \"225.2200\", \"close\": \"225.4860\", \"volume\": \"77\"}"
        ],
        [
         "{\"symbol\": \"AAPL\", \"timestamp\": \"2024-10-08 19:37:00\", \"open\": \"225.2600\", \"high\": \"225.2600\", \"low\": \"225.2200\", \"close\": \"225.2300\", \"volume\": \"874\"}"
        ],
        [
         "{\"symbol\": \"AAPL\", \"timestamp\": \"2024-10-08 19:36:00\", \"open\": \"225.2200\", \"high\": \"225.2500\", \"low\": \"225.2200\", \"close\": \"225.2400\", \"volume\": \"150\"}"
        ],
        [
         "{\"symbol\": \"AAPL\", \"timestamp\": \"2024-10-08 19:35:00\", \"open\": \"225.2200\", \"high\": \"225.2500\", \"low\": \"225.2200\", \"close\": \"225.2350\", \"volume\": \"75\"}"
        ],
        [
         "{\"symbol\": \"AAPL\", \"timestamp\": \"2024-10-08 19:34:00\", \"open\": \"225.2600\", \"high\": \"225.2600\", \"low\": \"225.2200\", \"close\": \"225.2350\", \"volume\": \"1022\"}"
        ],
        [
         "{\"symbol\": \"AAPL\", \"timestamp\": \"2024-10-08 19:33:00\", \"open\": \"225.2500\", \"high\": \"225.2600\", \"low\": \"225.2200\", \"close\": \"225.2400\", \"volume\": \"1619\"}"
        ],
        [
         "{\"symbol\": \"AAPL\", \"timestamp\": \"2024-10-08 19:32:00\", \"open\": \"225.2850\", \"high\": \"225.3100\", \"low\": \"225.2500\", \"close\": \"225.2500\", \"volume\": \"419\"}"
        ],
        [
         "{\"symbol\": \"AAPL\", \"timestamp\": \"2024-10-08 19:31:00\", \"open\": \"225.3200\", \"high\": \"225.3200\", \"low\": \"225.3200\", \"close\": \"225.3200\", \"volume\": \"1\"}"
        ],
        [
         "{\"symbol\": \"AAPL\", \"timestamp\": \"2024-10-08 19:30:00\", \"open\": \"225.3400\", \"high\": \"225.3800\", \"low\": \"225.2500\", \"close\": \"225.2500\", \"volume\": \"321\"}"
        ],
        [
         "{\"symbol\": \"AAPL\", \"timestamp\": \"2024-10-08 19:29:00\", \"open\": \"225.3000\", \"high\": \"225.3600\", \"low\": \"225.2500\", \"close\": \"225.3400\", \"volume\": \"51\"}"
        ],
        [
         "{\"symbol\": \"AAPL\", \"timestamp\": \"2024-10-08 19:28:00\", \"open\": \"225.4000\", \"high\": \"225.4000\", \"low\": \"225.2500\", \"close\": \"225.2513\", \"volume\": \"338\"}"
        ],
        [
         "{\"symbol\": \"AAPL\", \"timestamp\": \"2024-10-08 19:27:00\", \"open\": \"225.3750\", \"high\": \"225.3900\", \"low\": \"225.3500\", \"close\": \"225.3500\", \"volume\": \"233\"}"
        ],
        [
         "{\"symbol\": \"AAPL\", \"timestamp\": \"2024-10-08 19:26:00\", \"open\": \"225.4500\", \"high\": \"225.4500\", \"low\": \"225.3500\", \"close\": \"225.3500\", \"volume\": \"34\"}"
        ],
        [
         "{\"symbol\": \"AAPL\", \"timestamp\": \"2024-10-08 19:25:00\", \"open\": \"225.3500\", \"high\": \"225.4280\", \"low\": \"225.3500\", \"close\": \"225.4000\", \"volume\": \"113\"}"
        ],
        [
         "{\"symbol\": \"AAPL\", \"timestamp\": \"2024-10-08 19:24:00\", \"open\": \"225.4250\", \"high\": \"225.4300\", \"low\": \"225.3500\", \"close\": \"225.4000\", \"volume\": \"397\"}"
        ],
        [
         "{\"symbol\": \"AAPL\", \"timestamp\": \"2024-10-08 19:23:00\", \"open\": \"225.4500\", \"high\": \"225.4500\", \"low\": \"225.4000\", \"close\": \"225.4250\", \"volume\": \"56\"}"
        ],
        [
         "{\"symbol\": \"AAPL\", \"timestamp\": \"2024-10-08 19:22:00\", \"open\": \"225.4250\", \"high\": \"225.4250\", \"low\": \"225.4000\", \"close\": \"225.4000\", \"volume\": \"62\"}"
        ],
        [
         "{\"symbol\": \"AAPL\", \"timestamp\": \"2024-10-08 19:21:00\", \"open\": \"225.4300\", \"high\": \"225.4300\", \"low\": \"225.4000\", \"close\": \"225.4250\", \"volume\": \"539\"}"
        ],
        [
         "{\"symbol\": \"AAPL\", \"timestamp\": \"2024-10-08 19:20:00\", \"open\": \"225.4000\", \"high\": \"225.4300\", \"low\": \"225.4000\", \"close\": \"225.4300\", \"volume\": \"18\"}"
        ],
        [
         "{\"symbol\": \"AAPL\", \"timestamp\": \"2024-10-08 19:19:00\", \"open\": \"225.4000\", \"high\": \"225.4300\", \"low\": \"225.4000\", \"close\": \"225.4300\", \"volume\": \"8\"}"
        ],
        [
         "{\"symbol\": \"AAPL\", \"timestamp\": \"2024-10-08 19:18:00\", \"open\": \"225.4300\", \"high\": \"225.4300\", \"low\": \"225.4000\", \"close\": \"225.4000\", \"volume\": \"12\"}"
        ],
        [
         "{\"symbol\": \"AAPL\", \"timestamp\": \"2024-10-08 19:17:00\", \"open\": \"225.4500\", \"high\": \"225.4500\", \"low\": \"225.4000\", \"close\": \"225.4250\", \"volume\": \"8\"}"
        ],
        [
         "{\"symbol\": \"AAPL\", \"timestamp\": \"2024-10-08 19:16:00\", \"open\": \"225.4550\", \"high\": \"225.4550\", \"low\": \"225.4000\", \"close\": \"225.4500\", \"volume\": \"179\"}"
        ],
        [
         "{\"symbol\": \"AAPL\", \"timestamp\": \"2024-10-08 19:15:00\", \"open\": \"225.4492\", \"high\": \"225.4500\", \"low\": \"225.4250\", \"close\": \"225.4500\", \"volume\": \"304\"}"
        ],
        [
         "{\"symbol\": \"AAPL\", \"timestamp\": \"2024-10-08 18:57:00\", \"open\": \"225.5000\", \"high\": \"225.5150\", \"low\": \"225.5000\", \"close\": \"225.5000\", \"volume\": \"64\"}"
        ],
        [
         "{\"symbol\": \"AAPL\", \"timestamp\": \"2024-10-08 18:56:00\", \"open\": \"225.4500\", \"high\": \"225.5300\", \"low\": \"225.4500\", \"close\": \"225.5100\", \"volume\": \"1053\"}"
        ],
        [
         "{\"symbol\": \"AAPL\", \"timestamp\": \"2024-10-08 18:55:00\", \"open\": \"225.4500\", \"high\": \"225.4600\", \"low\": \"225.4500\", \"close\": \"225.4500\", \"volume\": \"159\"}"
        ],
        [
         "{\"symbol\": \"AAPL\", \"timestamp\": \"2024-10-08 18:54:00\", \"open\": \"225.5000\", \"high\": \"225.5000\", \"low\": \"225.4009\", \"close\": \"225.4500\", \"volume\": \"2305\"}"
        ],
        [
         "{\"symbol\": \"AAPL\", \"timestamp\": \"2024-10-08 18:53:00\", \"open\": \"225.4300\", \"high\": \"225.5000\", \"low\": \"225.4000\", \"close\": \"225.4000\", \"volume\": \"143\"}"
        ],
        [
         "{\"symbol\": \"AAPL\", \"timestamp\": \"2024-10-08 18:52:00\", \"open\": \"225.4500\", \"high\": \"225.5000\", \"low\": \"225.4300\", \"close\": \"225.4500\", \"volume\": \"13\"}"
        ],
        [
         "{\"symbol\": \"AAPL\", \"timestamp\": \"2024-10-08 18:51:00\", \"open\": \"225.4500\", \"high\": \"225.5000\", \"low\": \"225.4000\", \"close\": \"225.4000\", \"volume\": \"35\"}"
        ],
        [
         "{\"symbol\": \"AAPL\", \"timestamp\": \"2024-10-08 18:50:00\", \"open\": \"225.4500\", \"high\": \"225.4500\", \"low\": \"225.4000\", \"close\": \"225.4000\", \"volume\": \"13\"}"
        ],
        [
         "{\"symbol\": \"AAPL\", \"timestamp\": \"2024-10-08 18:49:00\", \"open\": \"225.4500\", \"high\": \"225.4500\", \"low\": \"225.4000\", \"close\": \"225.4300\", \"volume\": \"143\"}"
        ],
        [
         "{\"symbol\": \"AAPL\", \"timestamp\": \"2024-10-08 18:48:00\", \"open\": \"225.4000\", \"high\": \"225.4950\", \"low\": \"225.4000\", \"close\": \"225.4000\", \"volume\": \"63\"}"
        ],
        [
         "{\"symbol\": \"AAPL\", \"timestamp\": \"2024-10-08 18:47:00\", \"open\": \"225.4000\", \"high\": \"225.4200\", \"low\": \"225.3800\", \"close\": \"225.4000\", \"volume\": \"962\"}"
        ],
        [
         "{\"symbol\": \"AAPL\", \"timestamp\": \"2024-10-08 18:46:00\", \"open\": \"225.3850\", \"high\": \"225.4000\", \"low\": \"225.3850\", \"close\": \"225.4000\", \"volume\": \"2\"}"
        ],
        [
         "{\"symbol\": \"AAPL\", \"timestamp\": \"2024-10-08 18:45:00\", \"open\": \"225.4100\", \"high\": \"225.4100\", \"low\": \"225.3500\", \"close\": \"225.3850\", \"volume\": \"31\"}"
        ],
        [
         "{\"symbol\": \"AAPL\", \"timestamp\": \"2024-10-08 18:44:00\", \"open\": \"225.3500\", \"high\": \"225.4182\", \"low\": \"225.3500\", \"close\": \"225.4100\", \"volume\": \"47\"}"
        ],
        [
         "{\"symbol\": \"AAPL\", \"timestamp\": \"2024-10-08 18:43:00\", \"open\": \"225.4100\", \"high\": \"225.4200\", \"low\": \"225.3500\", \"close\": \"225.3800\", \"volume\": \"60\"}"
        ],
        [
         "{\"symbol\": \"AAPL\", \"timestamp\": \"2024-10-08 18:42:00\", \"open\": \"225.3850\", \"high\": \"225.3850\", \"low\": \"225.3500\", \"close\": \"225.3850\", \"volume\": \"18\"}"
        ],
        [
         "{\"symbol\": \"AAPL\", \"timestamp\": \"2024-10-08 18:41:00\", \"open\": \"225.3850\", \"high\": \"225.3850\", \"low\": \"225.3500\", \"close\": \"225.3500\", \"volume\": \"7\"}"
        ],
        [
         "{\"symbol\": \"AAPL\", \"timestamp\": \"2024-10-08 18:40:00\", \"open\": \"225.3900\", \"high\": \"225.3900\", \"low\": \"225.3500\", \"close\": \"225.3850\", \"volume\": \"213\"}"
        ],
        [
         "{\"symbol\": \"AAPL\", \"timestamp\": \"2024-10-08 18:39:00\", \"open\": \"225.3850\", \"high\": \"225.4200\", \"low\": \"225.3500\", \"close\": \"225.4200\", \"volume\": \"146\"}"
        ],
        [
         "{\"symbol\": \"AAPL\", \"timestamp\": \"2024-10-08 18:38:00\", \"open\": \"225.3500\", \"high\": \"225.3850\", \"low\": \"225.3500\", \"close\": \"225.3850\", \"volume\": \"258\"}"
        ],
        [
         "{\"symbol\": \"AAPL\", \"timestamp\": \"2024-10-08 18:37:00\", \"open\": \"225.4250\", \"high\": \"225.4250\", \"low\": \"225.3500\", \"close\": \"225.4250\", \"volume\": \"5\"}"
        ],
        [
         "{\"symbol\": \"AAPL\", \"timestamp\": \"2024-10-08 18:36:00\", \"open\": \"225.4250\", \"high\": \"225.5000\", \"low\": \"225.3500\", \"close\": \"225.4250\", \"volume\": \"213\"}"
        ],
        [
         "{\"symbol\": \"AAPL\", \"timestamp\": \"2024-10-08 18:35:00\", \"open\": \"225.4250\", \"high\": \"225.5000\", \"low\": \"225.3500\", \"close\": \"225.4730\", \"volume\": \"113\"}"
        ],
        [
         "{\"symbol\": \"AAPL\", \"timestamp\": \"2024-10-08 18:34:00\", \"open\": \"225.4250\", \"high\": \"225.4250\", \"low\": \"225.4250\", \"close\": \"225.4250\", \"volume\": \"3\"}"
        ],
        [
         "{\"symbol\": \"AAPL\", \"timestamp\": \"2024-10-08 18:33:00\", \"open\": \"225.3500\", \"high\": \"225.4400\", \"low\": \"225.3500\", \"close\": \"225.4250\", \"volume\": \"85\"}"
        ],
        [
         "{\"symbol\": \"AAPL\", \"timestamp\": \"2024-10-08 18:32:00\", \"open\": \"225.4250\", \"high\": \"225.4250\", \"low\": \"225.3500\", \"close\": \"225.4000\", \"volume\": \"25\"}"
        ],
        [
         "{\"symbol\": \"AAPL\", \"timestamp\": \"2024-10-08 18:31:00\", \"open\": \"225.3500\", \"high\": \"225.4250\", \"low\": \"225.3500\", \"close\": \"225.3800\", \"volume\": \"261\"}"
        ],
        [
         "{\"symbol\": \"AAPL\", \"timestamp\": \"2024-10-08 18:30:00\", \"open\": \"225.3900\", \"high\": \"225.4300\", \"low\": \"225.3500\", \"close\": \"225.4250\", \"volume\": \"506\"}"
        ],
        [
         "{\"symbol\": \"AAPL\", \"timestamp\": \"2024-10-08 18:29:00\", \"open\": \"225.3300\", \"high\": \"225.4300\", \"low\": \"225.3100\", \"close\": \"225.4300\", \"volume\": \"217\"}"
        ],
        [
         "{\"symbol\": \"AAPL\", \"timestamp\": \"2024-10-08 18:28:00\", \"open\": \"225.3500\", \"high\": \"225.3500\", \"low\": \"225.2800\", \"close\": \"225.3000\", \"volume\": \"169\"}"
        ],
        [
         "{\"symbol\": \"AAPL\", \"timestamp\": \"2024-10-08 18:27:00\", \"open\": \"225.3200\", \"high\": \"225.3500\", \"low\": \"225.2700\", \"close\": \"225.3050\", \"volume\": \"172\"}"
        ],
        [
         "{\"symbol\": \"AAPL\", \"timestamp\": \"2024-10-08 18:26:00\", \"open\": \"225.3100\", \"high\": \"225.3300\", \"low\": \"225.2600\", \"close\": \"225.3300\", \"volume\": \"374\"}"
        ],
        [
         "{\"symbol\": \"AAPL\", \"timestamp\": \"2024-10-08 18:25:00\", \"open\": \"225.2950\", \"high\": \"225.3300\", \"low\": \"225.2600\", \"close\": \"225.3300\", \"volume\": \"114\"}"
        ],
        [
         "{\"symbol\": \"AAPL\", \"timestamp\": \"2024-10-08 18:24:00\", \"open\": \"225.2950\", \"high\": \"225.2950\", \"low\": \"225.2600\", \"close\": \"225.2600\", \"volume\": \"5\"}"
        ],
        [
         "{\"symbol\": \"AAPL\", \"timestamp\": \"2024-10-08 19:54:00\", \"open\": \"225.3488\", \"high\": \"225.3488\", \"low\": \"225.2500\", \"close\": \"225.3000\", \"volume\": \"10\"}"
        ],
        [
         "{\"symbol\": \"AAPL\", \"timestamp\": \"2024-10-08 19:53:00\", \"open\": \"225.4580\", \"high\": \"225.4580\", \"low\": \"225.2360\", \"close\": \"225.3200\", \"volume\": \"169\"}"
        ],
        [
         "{\"symbol\": \"AAPL\", \"timestamp\": \"2024-10-08 19:52:00\", \"open\": \"225.3500\", \"high\": \"225.3500\", \"low\": \"225.3200\", \"close\": \"225.3500\", \"volume\": \"44\"}"
        ],
        [
         "{\"symbol\": \"AAPL\", \"timestamp\": \"2024-10-08 19:51:00\", \"open\": \"225.2400\", \"high\": \"225.3000\", \"low\": \"225.2400\", \"close\": \"225.3000\", \"volume\": \"283\"}"
        ],
        [
         "{\"symbol\": \"AAPL\", \"timestamp\": \"2024-10-08 19:50:00\", \"open\": \"225.2950\", \"high\": \"225.2950\", \"low\": \"225.2300\", \"close\": \"225.2300\", \"volume\": \"15\"}"
        ],
        [
         "{\"symbol\": \"AAPL\", \"timestamp\": \"2024-10-08 19:49:00\", \"open\": \"225.2400\", \"high\": \"225.2950\", \"low\": \"225.2300\", \"close\": \"225.2700\", \"volume\": \"36\"}"
        ],
        [
         "{\"symbol\": \"AAPL\", \"timestamp\": \"2024-10-08 19:48:00\", \"open\": \"225.2950\", \"high\": \"225.3535\", \"low\": \"225.2300\", \"close\": \"225.2950\", \"volume\": \"169\"}"
        ],
        [
         "{\"symbol\": \"AAPL\", \"timestamp\": \"2024-10-08 19:47:00\", \"open\": \"225.2950\", \"high\": \"225.2950\", \"low\": \"225.2300\", \"close\": \"225.2300\", \"volume\": \"504\"}"
        ],
        [
         "{\"symbol\": \"AAPL\", \"timestamp\": \"2024-10-08 19:46:00\", \"open\": \"225.2200\", \"high\": \"225.3600\", \"low\": \"225.2200\", \"close\": \"225.2900\", \"volume\": \"94\"}"
        ],
        [
         "{\"symbol\": \"AAPL\", \"timestamp\": \"2024-10-08 19:45:00\", \"open\": \"225.3600\", \"high\": \"225.3600\", \"low\": \"225.2200\", \"close\": \"225.2900\", \"volume\": \"11\"}"
        ],
        [
         "{\"symbol\": \"AAPL\", \"timestamp\": \"2024-10-08 19:44:00\", \"open\": \"225.3800\", \"high\": \"225.3800\", \"low\": \"225.2200\", \"close\": \"225.3000\", \"volume\": \"193\"}"
        ],
        [
         "{\"symbol\": \"AAPL\", \"timestamp\": \"2024-10-08 19:43:00\", \"open\": \"225.3800\", \"high\": \"225.5100\", \"low\": \"225.2500\", \"close\": \"225.5100\", \"volume\": \"104\"}"
        ],
        [
         "{\"symbol\": \"AAPL\", \"timestamp\": \"2024-10-08 19:42:00\", \"open\": \"225.3700\", \"high\": \"225.3700\", \"low\": \"225.3700\", \"close\": \"225.3700\", \"volume\": \"1\"}"
        ],
        [
         "{\"symbol\": \"AAPL\", \"timestamp\": \"2024-10-08 19:41:00\", \"open\": \"225.2267\", \"high\": \"225.5100\", \"low\": \"225.2267\", \"close\": \"225.3700\", \"volume\": \"11\"}"
        ],
        [
         "{\"symbol\": \"AAPL\", \"timestamp\": \"2024-10-08 19:40:00\", \"open\": \"225.2200\", \"high\": \"225.4479\", \"low\": \"225.2200\", \"close\": \"225.2300\", \"volume\": \"221\"}"
        ],
        [
         "{\"symbol\": \"AAPL\", \"timestamp\": \"2024-10-08 19:39:00\", \"open\": \"225.2200\", \"high\": \"225.3600\", \"low\": \"225.2200\", \"close\": \"225.3600\", \"volume\": \"27\"}"
        ],
        [
         "{\"symbol\": \"AAPL\", \"timestamp\": \"2024-10-08 19:38:00\", \"open\": \"225.2600\", \"high\": \"225.5000\", \"low\": \"225.2200\", \"close\": \"225.4860\", \"volume\": \"77\"}"
        ],
        [
         "{\"symbol\": \"AAPL\", \"timestamp\": \"2024-10-08 19:37:00\", \"open\": \"225.2600\", \"high\": \"225.2600\", \"low\": \"225.2200\", \"close\": \"225.2300\", \"volume\": \"874\"}"
        ],
        [
         "{\"symbol\": \"AAPL\", \"timestamp\": \"2024-10-08 19:36:00\", \"open\": \"225.2200\", \"high\": \"225.2500\", \"low\": \"225.2200\", \"close\": \"225.2400\", \"volume\": \"150\"}"
        ],
        [
         "{\"symbol\": \"AAPL\", \"timestamp\": \"2024-10-08 19:35:00\", \"open\": \"225.2200\", \"high\": \"225.2500\", \"low\": \"225.2200\", \"close\": \"225.2350\", \"volume\": \"75\"}"
        ],
        [
         "{\"symbol\": \"AAPL\", \"timestamp\": \"2024-10-08 19:34:00\", \"open\": \"225.2600\", \"high\": \"225.2600\", \"low\": \"225.2200\", \"close\": \"225.2350\", \"volume\": \"1022\"}"
        ],
        [
         "{\"symbol\": \"AAPL\", \"timestamp\": \"2024-10-08 19:33:00\", \"open\": \"225.2500\", \"high\": \"225.2600\", \"low\": \"225.2200\", \"close\": \"225.2400\", \"volume\": \"1619\"}"
        ],
        [
         "{\"symbol\": \"AAPL\", \"timestamp\": \"2024-10-08 19:32:00\", \"open\": \"225.2850\", \"high\": \"225.3100\", \"low\": \"225.2500\", \"close\": \"225.2500\", \"volume\": \"419\"}"
        ],
        [
         "{\"symbol\": \"AAPL\", \"timestamp\": \"2024-10-08 19:31:00\", \"open\": \"225.3200\", \"high\": \"225.3200\", \"low\": \"225.3200\", \"close\": \"225.3200\", \"volume\": \"1\"}"
        ],
        [
         "{\"symbol\": \"AAPL\", \"timestamp\": \"2024-10-08 19:30:00\", \"open\": \"225.3400\", \"high\": \"225.3800\", \"low\": \"225.2500\", \"close\": \"225.2500\", \"volume\": \"321\"}"
        ],
        [
         "{\"symbol\": \"AAPL\", \"timestamp\": \"2024-10-08 19:29:00\", \"open\": \"225.3000\", \"high\": \"225.3600\", \"low\": \"225.2500\", \"close\": \"225.3400\", \"volume\": \"51\"}"
        ],
        [
         "{\"symbol\": \"AAPL\", \"timestamp\": \"2024-10-08 19:28:00\", \"open\": \"225.4000\", \"high\": \"225.4000\", \"low\": \"225.2500\", \"close\": \"225.2513\", \"volume\": \"338\"}"
        ],
        [
         "{\"symbol\": \"AAPL\", \"timestamp\": \"2024-10-08 19:27:00\", \"open\": \"225.3750\", \"high\": \"225.3900\", \"low\": \"225.3500\", \"close\": \"225.3500\", \"volume\": \"233\"}"
        ],
        [
         "{\"symbol\": \"AAPL\", \"timestamp\": \"2024-10-08 19:26:00\", \"open\": \"225.4500\", \"high\": \"225.4500\", \"low\": \"225.3500\", \"close\": \"225.3500\", \"volume\": \"34\"}"
        ],
        [
         "{\"symbol\": \"AAPL\", \"timestamp\": \"2024-10-08 19:25:00\", \"open\": \"225.3500\", \"high\": \"225.4280\", \"low\": \"225.3500\", \"close\": \"225.4000\", \"volume\": \"113\"}"
        ],
        [
         "{\"symbol\": \"AAPL\", \"timestamp\": \"2024-10-08 19:24:00\", \"open\": \"225.4250\", \"high\": \"225.4300\", \"low\": \"225.3500\", \"close\": \"225.4000\", \"volume\": \"397\"}"
        ],
        [
         "{\"symbol\": \"GOOGL\", \"timestamp\": \"2024-10-08 18:45:00\", \"open\": \"164.0500\", \"high\": \"164.0500\", \"low\": \"164.0400\", \"close\": \"164.0400\", \"volume\": \"342\"}"
        ],
        [
         "{\"symbol\": \"GOOGL\", \"timestamp\": \"2024-10-08 18:43:00\", \"open\": \"164.0500\", \"high\": \"164.0500\", \"low\": \"164.0300\", \"close\": \"164.0300\", \"volume\": \"25\"}"
        ],
        [
         "{\"symbol\": \"GOOGL\", \"timestamp\": \"2024-10-08 18:42:00\", \"open\": \"164.0500\", \"high\": \"164.0500\", \"low\": \"164.0500\", \"close\": \"164.0500\", \"volume\": \"5\"}"
        ],
        [
         "{\"symbol\": \"GOOGL\", \"timestamp\": \"2024-10-08 18:41:00\", \"open\": \"164.0485\", \"high\": \"164.0500\", \"low\": \"164.0300\", \"close\": \"164.0500\", \"volume\": \"102\"}"
        ],
        [
         "{\"symbol\": \"GOOGL\", \"timestamp\": \"2024-10-08 18:40:00\", \"open\": \"164.0400\", \"high\": \"164.0500\", \"low\": \"164.0215\", \"close\": \"164.0215\", \"volume\": \"63\"}"
        ],
        [
         "{\"symbol\": \"GOOGL\", \"timestamp\": \"2024-10-08 18:39:00\", \"open\": \"164.1800\", \"high\": \"164.1800\", \"low\": \"164.0400\", \"close\": \"164.0400\", \"volume\": \"1468\"}"
        ],
        [
         "{\"symbol\": \"GOOGL\", \"timestamp\": \"2024-10-08 18:38:00\", \"open\": \"164.1800\", \"high\": \"164.1962\", \"low\": \"164.1800\", \"close\": \"164.1962\", \"volume\": \"41\"}"
        ],
        [
         "{\"symbol\": \"GOOGL\", \"timestamp\": \"2024-10-08 18:37:00\", \"open\": \"164.1000\", \"high\": \"164.1000\", \"low\": \"164.1000\", \"close\": \"164.1000\", \"volume\": \"5\"}"
        ],
        [
         "{\"symbol\": \"GOOGL\", \"timestamp\": \"2024-10-08 18:35:00\", \"open\": \"164.1100\", \"high\": \"164.1100\", \"low\": \"164.0500\", \"close\": \"164.0500\", \"volume\": \"25\"}"
        ],
        [
         "{\"symbol\": \"GOOGL\", \"timestamp\": \"2024-10-08 18:34:00\", \"open\": \"164.1997\", \"high\": \"164.1997\", \"low\": \"164.1997\", \"close\": \"164.1997\", \"volume\": \"2\"}"
        ],
        [
         "{\"symbol\": \"GOOGL\", \"timestamp\": \"2024-10-08 18:33:00\", \"open\": \"164.1000\", \"high\": \"164.1300\", \"low\": \"164.0512\", \"close\": \"164.1300\", \"volume\": \"70\"}"
        ],
        [
         "{\"symbol\": \"GOOGL\", \"timestamp\": \"2024-10-08 18:32:00\", \"open\": \"164.1100\", \"high\": \"164.1300\", \"low\": \"164.1100\", \"close\": \"164.1300\", \"volume\": \"7\"}"
        ],
        [
         "{\"symbol\": \"GOOGL\", \"timestamp\": \"2024-10-08 18:31:00\", \"open\": \"164.1900\", \"high\": \"164.1900\", \"low\": \"164.1300\", \"close\": \"164.1300\", \"volume\": \"36\"}"
        ],
        [
         "{\"symbol\": \"GOOGL\", \"timestamp\": \"2024-10-08 18:30:00\", \"open\": \"164.1000\", \"high\": \"164.2000\", \"low\": \"164.1000\", \"close\": \"164.1500\", \"volume\": \"351\"}"
        ],
        [
         "{\"symbol\": \"GOOGL\", \"timestamp\": \"2024-10-08 18:27:00\", \"open\": \"164.0500\", \"high\": \"164.1000\", \"low\": \"164.0500\", \"close\": \"164.1000\", \"volume\": \"31\"}"
        ],
        [
         "{\"symbol\": \"GOOGL\", \"timestamp\": \"2024-10-08 18:26:00\", \"open\": \"164.0800\", \"high\": \"164.1000\", \"low\": \"164.0800\", \"close\": \"164.1000\", \"volume\": \"81\"}"
        ],
        [
         "{\"symbol\": \"GOOGL\", \"timestamp\": \"2024-10-08 18:25:00\", \"open\": \"164.1000\", \"high\": \"164.1000\", \"low\": \"164.1000\", \"close\": \"164.1000\", \"volume\": \"9\"}"
        ],
        [
         "{\"symbol\": \"GOOGL\", \"timestamp\": \"2024-10-08 18:24:00\", \"open\": \"164.1000\", \"high\": \"164.1000\", \"low\": \"164.0600\", \"close\": \"164.0600\", \"volume\": \"23\"}"
        ],
        [
         "{\"symbol\": \"GOOGL\", \"timestamp\": \"2024-10-08 18:23:00\", \"open\": \"164.0810\", \"high\": \"164.1000\", \"low\": \"164.0500\", \"close\": \"164.0500\", \"volume\": \"176\"}"
        ],
        [
         "{\"symbol\": \"GOOGL\", \"timestamp\": \"2024-10-08 18:22:00\", \"open\": \"164.0500\", \"high\": \"164.0514\", \"low\": \"164.0500\", \"close\": \"164.0514\", \"volume\": \"48\"}"
        ],
        [
         "{\"symbol\": \"GOOGL\", \"timestamp\": \"2024-10-08 18:20:00\", \"open\": \"164.3800\", \"high\": \"164.3800\", \"low\": \"164.3800\", \"close\": \"164.3800\", \"volume\": \"44642\"}"
        ],
        [
         "{\"symbol\": \"GOOGL\", \"timestamp\": \"2024-10-08 18:18:00\", \"open\": \"164.0250\", \"high\": \"164.0250\", \"low\": \"164.0250\", \"close\": \"164.0250\", \"volume\": \"8\"}"
        ],
        [
         "{\"symbol\": \"GOOGL\", \"timestamp\": \"2024-10-08 18:17:00\", \"open\": \"164.0500\", \"high\": \"164.0500\", \"low\": \"164.0257\", \"close\": \"164.0257\", \"volume\": \"9\"}"
        ],
        [
         "{\"symbol\": \"GOOGL\", \"timestamp\": \"2024-10-08 18:16:00\", \"open\": \"164.0800\", \"high\": \"164.1000\", \"low\": \"164.0800\", \"close\": \"164.1000\", \"volume\": \"3\"}"
        ],
        [
         "{\"symbol\": \"GOOGL\", \"timestamp\": \"2024-10-08 18:15:00\", \"open\": \"164.0500\", \"high\": \"164.0500\", \"low\": \"164.0500\", \"close\": \"164.0500\", \"volume\": \"1\"}"
        ],
        [
         "{\"symbol\": \"GOOGL\", \"timestamp\": \"2024-10-08 18:14:00\", \"open\": \"164.0200\", \"high\": \"164.1000\", \"low\": \"164.0200\", \"close\": \"164.1000\", \"volume\": \"15\"}"
        ],
        [
         "{\"symbol\": \"GOOGL\", \"timestamp\": \"2024-10-08 18:13:00\", \"open\": \"164.0200\", \"high\": \"166.5766\", \"low\": \"164.0200\", \"close\": \"166.5766\", \"volume\": \"328\"}"
        ],
        [
         "{\"symbol\": \"GOOGL\", \"timestamp\": \"2024-10-08 18:12:00\", \"open\": \"164.0800\", \"high\": \"164.1000\", \"low\": \"161.7687\", \"close\": \"164.1000\", \"volume\": \"169\"}"
        ],
        [
         "{\"symbol\": \"GOOGL\", \"timestamp\": \"2024-10-08 18:11:00\", \"open\": \"164.0800\", \"high\": \"164.0800\", \"low\": \"164.0800\", \"close\": \"164.0800\", \"volume\": \"1\"}"
        ],
        [
         "{\"symbol\": \"GOOGL\", \"timestamp\": \"2024-10-08 18:10:00\", \"open\": \"164.1000\", \"high\": \"164.1000\", \"low\": \"160.3763\", \"close\": \"160.3763\", \"volume\": \"80\"}"
        ],
        [
         "{\"symbol\": \"AAPL\", \"timestamp\": \"2024-10-08 19:54:00\", \"open\": \"225.3488\", \"high\": \"225.3488\", \"low\": \"225.2500\", \"close\": \"225.3000\", \"volume\": \"10\"}"
        ],
        [
         "{\"symbol\": \"AAPL\", \"timestamp\": \"2024-10-08 19:53:00\", \"open\": \"225.4580\", \"high\": \"225.4580\", \"low\": \"225.2360\", \"close\": \"225.3200\", \"volume\": \"169\"}"
        ],
        [
         "{\"symbol\": \"AAPL\", \"timestamp\": \"2024-10-08 19:52:00\", \"open\": \"225.3500\", \"high\": \"225.3500\", \"low\": \"225.3200\", \"close\": \"225.3500\", \"volume\": \"44\"}"
        ],
        [
         "{\"symbol\": \"AAPL\", \"timestamp\": \"2024-10-08 19:51:00\", \"open\": \"225.2400\", \"high\": \"225.3000\", \"low\": \"225.2400\", \"close\": \"225.3000\", \"volume\": \"283\"}"
        ],
        [
         "{\"symbol\": \"AAPL\", \"timestamp\": \"2024-10-08 19:50:00\", \"open\": \"225.2950\", \"high\": \"225.2950\", \"low\": \"225.2300\", \"close\": \"225.2300\", \"volume\": \"15\"}"
        ],
        [
         "{\"symbol\": \"AAPL\", \"timestamp\": \"2024-10-08 19:49:00\", \"open\": \"225.2400\", \"high\": \"225.2950\", \"low\": \"225.2300\", \"close\": \"225.2700\", \"volume\": \"36\"}"
        ],
        [
         "{\"symbol\": \"AAPL\", \"timestamp\": \"2024-10-08 19:48:00\", \"open\": \"225.2950\", \"high\": \"225.3535\", \"low\": \"225.2300\", \"close\": \"225.2950\", \"volume\": \"169\"}"
        ],
        [
         "{\"symbol\": \"AAPL\", \"timestamp\": \"2024-10-08 19:47:00\", \"open\": \"225.2950\", \"high\": \"225.2950\", \"low\": \"225.2300\", \"close\": \"225.2300\", \"volume\": \"504\"}"
        ],
        [
         "{\"symbol\": \"AAPL\", \"timestamp\": \"2024-10-08 19:46:00\", \"open\": \"225.2200\", \"high\": \"225.3600\", \"low\": \"225.2200\", \"close\": \"225.2900\", \"volume\": \"94\"}"
        ],
        [
         "{\"symbol\": \"AAPL\", \"timestamp\": \"2024-10-08 19:45:00\", \"open\": \"225.3600\", \"high\": \"225.3600\", \"low\": \"225.2200\", \"close\": \"225.2900\", \"volume\": \"11\"}"
        ],
        [
         "{\"symbol\": \"AAPL\", \"timestamp\": \"2024-10-08 19:44:00\", \"open\": \"225.3800\", \"high\": \"225.3800\", \"low\": \"225.2200\", \"close\": \"225.3000\", \"volume\": \"193\"}"
        ],
        [
         "{\"symbol\": \"AAPL\", \"timestamp\": \"2024-10-08 19:43:00\", \"open\": \"225.3800\", \"high\": \"225.5100\", \"low\": \"225.2500\", \"close\": \"225.5100\", \"volume\": \"104\"}"
        ],
        [
         "{\"symbol\": \"AAPL\", \"timestamp\": \"2024-10-08 19:42:00\", \"open\": \"225.3700\", \"high\": \"225.3700\", \"low\": \"225.3700\", \"close\": \"225.3700\", \"volume\": \"1\"}"
        ],
        [
         "{\"symbol\": \"AAPL\", \"timestamp\": \"2024-10-08 19:41:00\", \"open\": \"225.2267\", \"high\": \"225.5100\", \"low\": \"225.2267\", \"close\": \"225.3700\", \"volume\": \"11\"}"
        ],
        [
         "{\"symbol\": \"AAPL\", \"timestamp\": \"2024-10-08 19:40:00\", \"open\": \"225.2200\", \"high\": \"225.4479\", \"low\": \"225.2200\", \"close\": \"225.2300\", \"volume\": \"221\"}"
        ],
        [
         "{\"symbol\": \"AAPL\", \"timestamp\": \"2024-10-08 19:39:00\", \"open\": \"225.2200\", \"high\": \"225.3600\", \"low\": \"225.2200\", \"close\": \"225.3600\", \"volume\": \"27\"}"
        ],
        [
         "{\"symbol\": \"AAPL\", \"timestamp\": \"2024-10-08 19:38:00\", \"open\": \"225.2600\", \"high\": \"225.5000\", \"low\": \"225.2200\", \"close\": \"225.4860\", \"volume\": \"77\"}"
        ],
        [
         "{\"symbol\": \"AAPL\", \"timestamp\": \"2024-10-08 19:37:00\", \"open\": \"225.2600\", \"high\": \"225.2600\", \"low\": \"225.2200\", \"close\": \"225.2300\", \"volume\": \"874\"}"
        ],
        [
         "{\"symbol\": \"AAPL\", \"timestamp\": \"2024-10-08 19:36:00\", \"open\": \"225.2200\", \"high\": \"225.2500\", \"low\": \"225.2200\", \"close\": \"225.2400\", \"volume\": \"150\"}"
        ],
        [
         "{\"symbol\": \"AAPL\", \"timestamp\": \"2024-10-08 19:35:00\", \"open\": \"225.2200\", \"high\": \"225.2500\", \"low\": \"225.2200\", \"close\": \"225.2350\", \"volume\": \"75\"}"
        ],
        [
         "{\"symbol\": \"AAPL\", \"timestamp\": \"2024-10-08 19:34:00\", \"open\": \"225.2600\", \"high\": \"225.2600\", \"low\": \"225.2200\", \"close\": \"225.2350\", \"volume\": \"1022\"}"
        ],
        [
         "{\"symbol\": \"AAPL\", \"timestamp\": \"2024-10-08 19:33:00\", \"open\": \"225.2500\", \"high\": \"225.2600\", \"low\": \"225.2200\", \"close\": \"225.2400\", \"volume\": \"1619\"}"
        ],
        [
         "{\"symbol\": \"AAPL\", \"timestamp\": \"2024-10-08 19:32:00\", \"open\": \"225.2850\", \"high\": \"225.3100\", \"low\": \"225.2500\", \"close\": \"225.2500\", \"volume\": \"419\"}"
        ],
        [
         "{\"symbol\": \"AAPL\", \"timestamp\": \"2024-10-08 19:31:00\", \"open\": \"225.3200\", \"high\": \"225.3200\", \"low\": \"225.3200\", \"close\": \"225.3200\", \"volume\": \"1\"}"
        ],
        [
         "{\"symbol\": \"AAPL\", \"timestamp\": \"2024-10-08 19:30:00\", \"open\": \"225.3400\", \"high\": \"225.3800\", \"low\": \"225.2500\", \"close\": \"225.2500\", \"volume\": \"321\"}"
        ],
        [
         "{\"symbol\": \"AAPL\", \"timestamp\": \"2024-10-08 19:29:00\", \"open\": \"225.3000\", \"high\": \"225.3600\", \"low\": \"225.2500\", \"close\": \"225.3400\", \"volume\": \"51\"}"
        ],
        [
         "{\"symbol\": \"AAPL\", \"timestamp\": \"2024-10-08 19:28:00\", \"open\": \"225.4000\", \"high\": \"225.4000\", \"low\": \"225.2500\", \"close\": \"225.2513\", \"volume\": \"338\"}"
        ],
        [
         "{\"symbol\": \"AAPL\", \"timestamp\": \"2024-10-08 19:27:00\", \"open\": \"225.3750\", \"high\": \"225.3900\", \"low\": \"225.3500\", \"close\": \"225.3500\", \"volume\": \"233\"}"
        ],
        [
         "{\"symbol\": \"AAPL\", \"timestamp\": \"2024-10-08 19:26:00\", \"open\": \"225.4500\", \"high\": \"225.4500\", \"low\": \"225.3500\", \"close\": \"225.3500\", \"volume\": \"34\"}"
        ],
        [
         "{\"symbol\": \"AAPL\", \"timestamp\": \"2024-10-08 18:49:00\", \"open\": \"225.4500\", \"high\": \"225.4500\", \"low\": \"225.4000\", \"close\": \"225.4300\", \"volume\": \"143\"}"
        ],
        [
         "{\"symbol\": \"AAPL\", \"timestamp\": \"2024-10-08 18:48:00\", \"open\": \"225.4000\", \"high\": \"225.4950\", \"low\": \"225.4000\", \"close\": \"225.4000\", \"volume\": \"63\"}"
        ],
        [
         "{\"symbol\": \"AAPL\", \"timestamp\": \"2024-10-08 18:47:00\", \"open\": \"225.4000\", \"high\": \"225.4200\", \"low\": \"225.3800\", \"close\": \"225.4000\", \"volume\": \"962\"}"
        ],
        [
         "{\"symbol\": \"AAPL\", \"timestamp\": \"2024-10-08 18:46:00\", \"open\": \"225.3850\", \"high\": \"225.4000\", \"low\": \"225.3850\", \"close\": \"225.4000\", \"volume\": \"2\"}"
        ],
        [
         "{\"symbol\": \"AAPL\", \"timestamp\": \"2024-10-08 18:45:00\", \"open\": \"225.4100\", \"high\": \"225.4100\", \"low\": \"225.3500\", \"close\": \"225.3850\", \"volume\": \"31\"}"
        ],
        [
         "{\"symbol\": \"AAPL\", \"timestamp\": \"2024-10-08 18:44:00\", \"open\": \"225.3500\", \"high\": \"225.4182\", \"low\": \"225.3500\", \"close\": \"225.4100\", \"volume\": \"47\"}"
        ],
        [
         "{\"symbol\": \"AAPL\", \"timestamp\": \"2024-10-08 18:43:00\", \"open\": \"225.4100\", \"high\": \"225.4200\", \"low\": \"225.3500\", \"close\": \"225.3800\", \"volume\": \"60\"}"
        ],
        [
         "{\"symbol\": \"AAPL\", \"timestamp\": \"2024-10-08 18:42:00\", \"open\": \"225.3850\", \"high\": \"225.3850\", \"low\": \"225.3500\", \"close\": \"225.3850\", \"volume\": \"18\"}"
        ],
        [
         "{\"symbol\": \"AAPL\", \"timestamp\": \"2024-10-08 18:41:00\", \"open\": \"225.3850\", \"high\": \"225.3850\", \"low\": \"225.3500\", \"close\": \"225.3500\", \"volume\": \"7\"}"
        ],
        [
         "{\"symbol\": \"AAPL\", \"timestamp\": \"2024-10-08 18:40:00\", \"open\": \"225.3900\", \"high\": \"225.3900\", \"low\": \"225.3500\", \"close\": \"225.3850\", \"volume\": \"213\"}"
        ],
        [
         "{\"symbol\": \"AAPL\", \"timestamp\": \"2024-10-08 18:39:00\", \"open\": \"225.3850\", \"high\": \"225.4200\", \"low\": \"225.3500\", \"close\": \"225.4200\", \"volume\": \"146\"}"
        ],
        [
         "{\"symbol\": \"AAPL\", \"timestamp\": \"2024-10-08 18:38:00\", \"open\": \"225.3500\", \"high\": \"225.3850\", \"low\": \"225.3500\", \"close\": \"225.3850\", \"volume\": \"258\"}"
        ],
        [
         "{\"symbol\": \"AAPL\", \"timestamp\": \"2024-10-08 18:37:00\", \"open\": \"225.4250\", \"high\": \"225.4250\", \"low\": \"225.3500\", \"close\": \"225.4250\", \"volume\": \"5\"}"
        ],
        [
         "{\"symbol\": \"AAPL\", \"timestamp\": \"2024-10-08 18:36:00\", \"open\": \"225.4250\", \"high\": \"225.5000\", \"low\": \"225.3500\", \"close\": \"225.4250\", \"volume\": \"213\"}"
        ],
        [
         "{\"symbol\": \"AAPL\", \"timestamp\": \"2024-10-08 18:35:00\", \"open\": \"225.4250\", \"high\": \"225.5000\", \"low\": \"225.3500\", \"close\": \"225.4730\", \"volume\": \"113\"}"
        ],
        [
         "{\"symbol\": \"AAPL\", \"timestamp\": \"2024-10-08 18:34:00\", \"open\": \"225.4250\", \"high\": \"225.4250\", \"low\": \"225.4250\", \"close\": \"225.4250\", \"volume\": \"3\"}"
        ],
        [
         "{\"symbol\": \"AAPL\", \"timestamp\": \"2024-10-08 18:33:00\", \"open\": \"225.3500\", \"high\": \"225.4400\", \"low\": \"225.3500\", \"close\": \"225.4250\", \"volume\": \"85\"}"
        ],
        [
         "{\"symbol\": \"AAPL\", \"timestamp\": \"2024-10-08 18:32:00\", \"open\": \"225.4250\", \"high\": \"225.4250\", \"low\": \"225.3500\", \"close\": \"225.4000\", \"volume\": \"25\"}"
        ],
        [
         "{\"symbol\": \"AAPL\", \"timestamp\": \"2024-10-08 18:31:00\", \"open\": \"225.3500\", \"high\": \"225.4250\", \"low\": \"225.3500\", \"close\": \"225.3800\", \"volume\": \"261\"}"
        ],
        [
         "{\"symbol\": \"AAPL\", \"timestamp\": \"2024-10-08 18:30:00\", \"open\": \"225.3900\", \"high\": \"225.4300\", \"low\": \"225.3500\", \"close\": \"225.4250\", \"volume\": \"506\"}"
        ],
        [
         "{\"symbol\": \"AAPL\", \"timestamp\": \"2024-10-08 18:29:00\", \"open\": \"225.3300\", \"high\": \"225.4300\", \"low\": \"225.3100\", \"close\": \"225.4300\", \"volume\": \"217\"}"
        ],
        [
         "{\"symbol\": \"AAPL\", \"timestamp\": \"2024-10-08 18:28:00\", \"open\": \"225.3500\", \"high\": \"225.3500\", \"low\": \"225.2800\", \"close\": \"225.3000\", \"volume\": \"169\"}"
        ],
        [
         "{\"symbol\": \"AAPL\", \"timestamp\": \"2024-10-08 18:27:00\", \"open\": \"225.3200\", \"high\": \"225.3500\", \"low\": \"225.2700\", \"close\": \"225.3050\", \"volume\": \"172\"}"
        ],
        [
         "{\"symbol\": \"AAPL\", \"timestamp\": \"2024-10-08 18:26:00\", \"open\": \"225.3100\", \"high\": \"225.3300\", \"low\": \"225.2600\", \"close\": \"225.3300\", \"volume\": \"374\"}"
        ],
        [
         "{\"symbol\": \"AAPL\", \"timestamp\": \"2024-10-08 18:25:00\", \"open\": \"225.2950\", \"high\": \"225.3300\", \"low\": \"225.2600\", \"close\": \"225.3300\", \"volume\": \"114\"}"
        ],
        [
         "{\"symbol\": \"AAPL\", \"timestamp\": \"2024-10-08 18:24:00\", \"open\": \"225.2950\", \"high\": \"225.2950\", \"low\": \"225.2600\", \"close\": \"225.2600\", \"volume\": \"5\"}"
        ],
        [
         "{\"symbol\": \"AAPL\", \"timestamp\": \"2024-10-08 18:23:00\", \"open\": \"225.3250\", \"high\": \"225.3965\", \"low\": \"225.2600\", \"close\": \"225.3965\", \"volume\": \"75\"}"
        ],
        [
         "{\"symbol\": \"AAPL\", \"timestamp\": \"2024-10-08 18:22:00\", \"open\": \"225.3300\", \"high\": \"225.3300\", \"low\": \"225.2633\", \"close\": \"225.3000\", \"volume\": \"19\"}"
        ],
        [
         "{\"symbol\": \"AAPL\", \"timestamp\": \"2024-10-08 18:21:00\", \"open\": \"225.3300\", \"high\": \"225.4000\", \"low\": \"225.2500\", \"close\": \"225.3250\", \"volume\": \"195\"}"
        ],
        [
         "{\"symbol\": \"AAPL\", \"timestamp\": \"2024-10-08 18:20:00\", \"open\": \"225.3100\", \"high\": \"225.7700\", \"low\": \"225.2500\", \"close\": \"225.2500\", \"volume\": \"191387\"}"
        ],
        [
         "{\"symbol\": \"AAPL\", \"timestamp\": \"2024-10-08 19:55:00\", \"open\": \"225.2525\", \"high\": \"225.4875\", \"low\": \"225.2500\", \"close\": \"225.3000\", \"volume\": \"160\"}"
        ],
        [
         "{\"symbol\": \"AAPL\", \"timestamp\": \"2024-10-08 19:54:00\", \"open\": \"225.3488\", \"high\": \"225.3488\", \"low\": \"225.2500\", \"close\": \"225.3000\", \"volume\": \"10\"}"
        ],
        [
         "{\"symbol\": \"AAPL\", \"timestamp\": \"2024-10-08 19:53:00\", \"open\": \"225.4580\", \"high\": \"225.4580\", \"low\": \"225.2360\", \"close\": \"225.3200\", \"volume\": \"169\"}"
        ],
        [
         "{\"symbol\": \"AAPL\", \"timestamp\": \"2024-10-08 19:52:00\", \"open\": \"225.3500\", \"high\": \"225.3500\", \"low\": \"225.3200\", \"close\": \"225.3500\", \"volume\": \"44\"}"
        ],
        [
         "{\"symbol\": \"AAPL\", \"timestamp\": \"2024-10-08 19:51:00\", \"open\": \"225.2400\", \"high\": \"225.3000\", \"low\": \"225.2400\", \"close\": \"225.3000\", \"volume\": \"283\"}"
        ],
        [
         "{\"symbol\": \"AAPL\", \"timestamp\": \"2024-10-08 19:50:00\", \"open\": \"225.2950\", \"high\": \"225.2950\", \"low\": \"225.2300\", \"close\": \"225.2300\", \"volume\": \"15\"}"
        ],
        [
         "{\"symbol\": \"AAPL\", \"timestamp\": \"2024-10-08 19:49:00\", \"open\": \"225.2400\", \"high\": \"225.2950\", \"low\": \"225.2300\", \"close\": \"225.2700\", \"volume\": \"36\"}"
        ],
        [
         "{\"symbol\": \"AAPL\", \"timestamp\": \"2024-10-08 19:48:00\", \"open\": \"225.2950\", \"high\": \"225.3535\", \"low\": \"225.2300\", \"close\": \"225.2950\", \"volume\": \"169\"}"
        ],
        [
         "{\"symbol\": \"AAPL\", \"timestamp\": \"2024-10-08 19:47:00\", \"open\": \"225.2950\", \"high\": \"225.2950\", \"low\": \"225.2300\", \"close\": \"225.2300\", \"volume\": \"504\"}"
        ],
        [
         "{\"symbol\": \"AAPL\", \"timestamp\": \"2024-10-08 19:46:00\", \"open\": \"225.2200\", \"high\": \"225.3600\", \"low\": \"225.2200\", \"close\": \"225.2900\", \"volume\": \"94\"}"
        ],
        [
         "{\"symbol\": \"AAPL\", \"timestamp\": \"2024-10-08 19:45:00\", \"open\": \"225.3600\", \"high\": \"225.3600\", \"low\": \"225.2200\", \"close\": \"225.2900\", \"volume\": \"11\"}"
        ],
        [
         "{\"symbol\": \"AAPL\", \"timestamp\": \"2024-10-08 19:44:00\", \"open\": \"225.3800\", \"high\": \"225.3800\", \"low\": \"225.2200\", \"close\": \"225.3000\", \"volume\": \"193\"}"
        ],
        [
         "{\"symbol\": \"AAPL\", \"timestamp\": \"2024-10-08 19:43:00\", \"open\": \"225.3800\", \"high\": \"225.5100\", \"low\": \"225.2500\", \"close\": \"225.5100\", \"volume\": \"104\"}"
        ],
        [
         "{\"symbol\": \"AAPL\", \"timestamp\": \"2024-10-08 19:42:00\", \"open\": \"225.3700\", \"high\": \"225.3700\", \"low\": \"225.3700\", \"close\": \"225.3700\", \"volume\": \"1\"}"
        ],
        [
         "{\"symbol\": \"AAPL\", \"timestamp\": \"2024-10-08 19:41:00\", \"open\": \"225.2267\", \"high\": \"225.5100\", \"low\": \"225.2267\", \"close\": \"225.3700\", \"volume\": \"11\"}"
        ],
        [
         "{\"symbol\": \"AAPL\", \"timestamp\": \"2024-10-08 19:40:00\", \"open\": \"225.2200\", \"high\": \"225.4479\", \"low\": \"225.2200\", \"close\": \"225.2300\", \"volume\": \"221\"}"
        ],
        [
         "{\"symbol\": \"AAPL\", \"timestamp\": \"2024-10-08 19:39:00\", \"open\": \"225.2200\", \"high\": \"225.3600\", \"low\": \"225.2200\", \"close\": \"225.3600\", \"volume\": \"27\"}"
        ],
        [
         "{\"symbol\": \"AAPL\", \"timestamp\": \"2024-10-08 19:38:00\", \"open\": \"225.2600\", \"high\": \"225.5000\", \"low\": \"225.2200\", \"close\": \"225.4860\", \"volume\": \"77\"}"
        ],
        [
         "{\"symbol\": \"AAPL\", \"timestamp\": \"2024-10-08 19:37:00\", \"open\": \"225.2600\", \"high\": \"225.2600\", \"low\": \"225.2200\", \"close\": \"225.2300\", \"volume\": \"874\"}"
        ],
        [
         "{\"symbol\": \"AAPL\", \"timestamp\": \"2024-10-08 19:36:00\", \"open\": \"225.2200\", \"high\": \"225.2500\", \"low\": \"225.2200\", \"close\": \"225.2400\", \"volume\": \"150\"}"
        ],
        [
         "{\"symbol\": \"AAPL\", \"timestamp\": \"2024-10-08 19:35:00\", \"open\": \"225.2200\", \"high\": \"225.2500\", \"low\": \"225.2200\", \"close\": \"225.2350\", \"volume\": \"75\"}"
        ],
        [
         "{\"symbol\": \"AAPL\", \"timestamp\": \"2024-10-08 19:34:00\", \"open\": \"225.2600\", \"high\": \"225.2600\", \"low\": \"225.2200\", \"close\": \"225.2350\", \"volume\": \"1022\"}"
        ],
        [
         "{\"symbol\": \"AAPL\", \"timestamp\": \"2024-10-08 19:33:00\", \"open\": \"225.2500\", \"high\": \"225.2600\", \"low\": \"225.2200\", \"close\": \"225.2400\", \"volume\": \"1619\"}"
        ],
        [
         "{\"symbol\": \"AAPL\", \"timestamp\": \"2024-10-08 19:32:00\", \"open\": \"225.2850\", \"high\": \"225.3100\", \"low\": \"225.2500\", \"close\": \"225.2500\", \"volume\": \"419\"}"
        ],
        [
         "{\"symbol\": \"AAPL\", \"timestamp\": \"2024-10-08 19:31:00\", \"open\": \"225.3200\", \"high\": \"225.3200\", \"low\": \"225.3200\", \"close\": \"225.3200\", \"volume\": \"1\"}"
        ],
        [
         "{\"symbol\": \"AAPL\", \"timestamp\": \"2024-10-08 19:30:00\", \"open\": \"225.3400\", \"high\": \"225.3800\", \"low\": \"225.2500\", \"close\": \"225.2500\", \"volume\": \"321\"}"
        ],
        [
         "{\"symbol\": \"AAPL\", \"timestamp\": \"2024-10-08 19:29:00\", \"open\": \"225.3000\", \"high\": \"225.3600\", \"low\": \"225.2500\", \"close\": \"225.3400\", \"volume\": \"51\"}"
        ],
        [
         "{\"symbol\": \"AAPL\", \"timestamp\": \"2024-10-08 19:28:00\", \"open\": \"225.4000\", \"high\": \"225.4000\", \"low\": \"225.2500\", \"close\": \"225.2513\", \"volume\": \"338\"}"
        ],
        [
         "{\"symbol\": \"AAPL\", \"timestamp\": \"2024-10-08 19:27:00\", \"open\": \"225.3750\", \"high\": \"225.3900\", \"low\": \"225.3500\", \"close\": \"225.3500\", \"volume\": \"233\"}"
        ],
        [
         "{\"symbol\": \"AAPL\", \"timestamp\": \"2024-10-08 19:26:00\", \"open\": \"225.4500\", \"high\": \"225.4500\", \"low\": \"225.3500\", \"close\": \"225.3500\", \"volume\": \"34\"}"
        ],
        [
         "{\"symbol\": \"AAPL\", \"timestamp\": \"2024-10-08 19:25:00\", \"open\": \"225.3500\", \"high\": \"225.4280\", \"low\": \"225.3500\", \"close\": \"225.4000\", \"volume\": \"113\"}"
        ],
        [
         "{\"symbol\": \"AAPL\", \"timestamp\": \"2024-10-08 19:24:00\", \"open\": \"225.4250\", \"high\": \"225.4300\", \"low\": \"225.3500\", \"close\": \"225.4000\", \"volume\": \"397\"}"
        ],
        [
         "{\"symbol\": \"AAPL\", \"timestamp\": \"2024-10-08 19:23:00\", \"open\": \"225.4500\", \"high\": \"225.4500\", \"low\": \"225.4000\", \"close\": \"225.4250\", \"volume\": \"56\"}"
        ],
        [
         "{\"symbol\": \"AAPL\", \"timestamp\": \"2024-10-08 19:22:00\", \"open\": \"225.4250\", \"high\": \"225.4250\", \"low\": \"225.4000\", \"close\": \"225.4000\", \"volume\": \"62\"}"
        ],
        [
         "{\"symbol\": \"AAPL\", \"timestamp\": \"2024-10-08 19:21:00\", \"open\": \"225.4300\", \"high\": \"225.4300\", \"low\": \"225.4000\", \"close\": \"225.4250\", \"volume\": \"539\"}"
        ],
        [
         "{\"symbol\": \"AAPL\", \"timestamp\": \"2024-10-08 19:20:00\", \"open\": \"225.4000\", \"high\": \"225.4300\", \"low\": \"225.4000\", \"close\": \"225.4300\", \"volume\": \"18\"}"
        ],
        [
         "{\"symbol\": \"AAPL\", \"timestamp\": \"2024-10-08 19:19:00\", \"open\": \"225.4000\", \"high\": \"225.4300\", \"low\": \"225.4000\", \"close\": \"225.4300\", \"volume\": \"8\"}"
        ],
        [
         "{\"symbol\": \"AAPL\", \"timestamp\": \"2024-10-08 19:18:00\", \"open\": \"225.4300\", \"high\": \"225.4300\", \"low\": \"225.4000\", \"close\": \"225.4000\", \"volume\": \"12\"}"
        ],
        [
         "{\"symbol\": \"AAPL\", \"timestamp\": \"2024-10-08 19:17:00\", \"open\": \"225.4500\", \"high\": \"225.4500\", \"low\": \"225.4000\", \"close\": \"225.4250\", \"volume\": \"8\"}"
        ],
        [
         "{\"symbol\": \"AAPL\", \"timestamp\": \"2024-10-08 19:16:00\", \"open\": \"225.4550\", \"high\": \"225.4550\", \"low\": \"225.4000\", \"close\": \"225.4500\", \"volume\": \"179\"}"
        ],
        [
         "{\"symbol\": \"AAPL\", \"timestamp\": \"2024-10-08 19:15:00\", \"open\": \"225.4492\", \"high\": \"225.4500\", \"low\": \"225.4250\", \"close\": \"225.4500\", \"volume\": \"304\"}"
        ],
        [
         "{\"symbol\": \"AAPL\", \"timestamp\": \"2024-10-08 19:14:00\", \"open\": \"225.4200\", \"high\": \"225.4488\", \"low\": \"225.4000\", \"close\": \"225.4250\", \"volume\": \"16\"}"
        ],
        [
         "{\"symbol\": \"AAPL\", \"timestamp\": \"2024-10-08 19:13:00\", \"open\": \"225.4550\", \"high\": \"225.4550\", \"low\": \"225.4025\", \"close\": \"225.4500\", \"volume\": \"43\"}"
        ],
        [
         "{\"symbol\": \"AAPL\", \"timestamp\": \"2024-10-08 19:12:00\", \"open\": \"225.4550\", \"high\": \"225.5100\", \"low\": \"225.4000\", \"close\": \"225.5000\", \"volume\": \"116\"}"
        ],
        [
         "{\"symbol\": \"AAPL\", \"timestamp\": \"2024-10-08 19:11:00\", \"open\": \"225.4650\", \"high\": \"225.4650\", \"low\": \"225.4650\", \"close\": \"225.4650\", \"volume\": \"1\"}"
        ],
        [
         "{\"symbol\": \"AAPL\", \"timestamp\": \"2024-10-08 19:10:00\", \"open\": \"225.4500\", \"high\": \"225.4900\", \"low\": \"225.4500\", \"close\": \"225.4650\", \"volume\": \"36\"}"
        ],
        [
         "{\"symbol\": \"AAPL\", \"timestamp\": \"2024-10-08 19:09:00\", \"open\": \"225.4700\", \"high\": \"225.4900\", \"low\": \"225.4500\", \"close\": \"225.4700\", \"volume\": \"8\"}"
        ],
        [
         "{\"symbol\": \"AAPL\", \"timestamp\": \"2024-10-08 19:08:00\", \"open\": \"225.4700\", \"high\": \"225.5077\", \"low\": \"225.4000\", \"close\": \"225.4700\", \"volume\": \"26\"}"
        ],
        [
         "{\"symbol\": \"AAPL\", \"timestamp\": \"2024-10-08 19:07:00\", \"open\": \"225.4000\", \"high\": \"225.5388\", \"low\": \"225.4000\", \"close\": \"225.4500\", \"volume\": \"75\"}"
        ],
        [
         "{\"symbol\": \"AAPL\", \"timestamp\": \"2024-10-08 19:06:00\", \"open\": \"225.5000\", \"high\": \"225.5000\", \"low\": \"225.4000\", \"close\": \"225.4700\", \"volume\": \"31\"}"
        ],
        [
         "{\"symbol\": \"AAPL\", \"timestamp\": \"2024-10-08 19:05:00\", \"open\": \"225.5300\", \"high\": \"225.5300\", \"low\": \"225.4000\", \"close\": \"225.5000\", \"volume\": \"351\"}"
        ],
        [
         "{\"symbol\": \"AAPL\", \"timestamp\": \"2024-10-08 19:04:00\", \"open\": \"225.5200\", \"high\": \"225.5200\", \"low\": \"225.5200\", \"close\": \"225.5200\", \"volume\": \"1\"}"
        ],
        [
         "{\"symbol\": \"AAPL\", \"timestamp\": \"2024-10-08 19:03:00\", \"open\": \"225.5200\", \"high\": \"225.5400\", \"low\": \"225.5000\", \"close\": \"225.5200\", \"volume\": \"101\"}"
        ],
        [
         "{\"symbol\": \"AAPL\", \"timestamp\": \"2024-10-08 19:02:00\", \"open\": \"225.5300\", \"high\": \"225.5300\", \"low\": \"225.5150\", \"close\": \"225.5292\", \"volume\": \"15\"}"
        ],
        [
         "{\"symbol\": \"AAPL\", \"timestamp\": \"2024-10-08 19:01:00\", \"open\": \"225.5200\", \"high\": \"225.5400\", \"low\": \"225.5000\", \"close\": \"225.5150\", \"volume\": \"276\"}"
        ],
        [
         "{\"symbol\": \"AAPL\", \"timestamp\": \"2024-10-08 19:00:00\", \"open\": \"225.5000\", \"high\": \"225.5400\", \"low\": \"225.5000\", \"close\": \"225.5400\", \"volume\": \"991\"}"
        ],
        [
         "{\"symbol\": \"AAPL\", \"timestamp\": \"2024-10-08 18:59:00\", \"open\": \"225.5150\", \"high\": \"225.5300\", \"low\": \"225.5000\", \"close\": \"225.5300\", \"volume\": \"263\"}"
        ],
        [
         "{\"symbol\": \"AAPL\", \"timestamp\": \"2024-10-08 18:58:00\", \"open\": \"225.5015\", \"high\": \"225.5150\", \"low\": \"225.5000\", \"close\": \"225.5150\", \"volume\": \"42\"}"
        ],
        [
         "{\"symbol\": \"AAPL\", \"timestamp\": \"2024-10-08 18:57:00\", \"open\": \"225.5000\", \"high\": \"225.5150\", \"low\": \"225.5000\", \"close\": \"225.5000\", \"volume\": \"64\"}"
        ],
        [
         "{\"symbol\": \"AAPL\", \"timestamp\": \"2024-10-08 18:56:00\", \"open\": \"225.4500\", \"high\": \"225.5300\", \"low\": \"225.4500\", \"close\": \"225.5100\", \"volume\": \"1053\"}"
        ],
        [
         "{\"symbol\": \"AAPL\", \"timestamp\": \"2024-10-08 18:55:00\", \"open\": \"225.4500\", \"high\": \"225.4600\", \"low\": \"225.4500\", \"close\": \"225.4500\", \"volume\": \"159\"}"
        ],
        [
         "{\"symbol\": \"AAPL\", \"timestamp\": \"2024-10-08 18:54:00\", \"open\": \"225.5000\", \"high\": \"225.5000\", \"low\": \"225.4009\", \"close\": \"225.4500\", \"volume\": \"2305\"}"
        ],
        [
         "{\"symbol\": \"AAPL\", \"timestamp\": \"2024-10-08 18:53:00\", \"open\": \"225.4300\", \"high\": \"225.5000\", \"low\": \"225.4000\", \"close\": \"225.4000\", \"volume\": \"143\"}"
        ],
        [
         "{\"symbol\": \"AAPL\", \"timestamp\": \"2024-10-08 18:52:00\", \"open\": \"225.4500\", \"high\": \"225.5000\", \"low\": \"225.4300\", \"close\": \"225.4500\", \"volume\": \"13\"}"
        ],
        [
         "{\"symbol\": \"AAPL\", \"timestamp\": \"2024-10-08 18:51:00\", \"open\": \"225.4500\", \"high\": \"225.5000\", \"low\": \"225.4000\", \"close\": \"225.4000\", \"volume\": \"35\"}"
        ],
        [
         "{\"symbol\": \"AAPL\", \"timestamp\": \"2024-10-08 18:50:00\", \"open\": \"225.4500\", \"high\": \"225.4500\", \"low\": \"225.4000\", \"close\": \"225.4000\", \"volume\": \"13\"}"
        ],
        [
         "{\"symbol\": \"AAPL\", \"timestamp\": \"2024-10-08 18:49:00\", \"open\": \"225.4500\", \"high\": \"225.4500\", \"low\": \"225.4000\", \"close\": \"225.4300\", \"volume\": \"143\"}"
        ],
        [
         "{\"symbol\": \"AAPL\", \"timestamp\": \"2024-10-08 18:48:00\", \"open\": \"225.4000\", \"high\": \"225.4950\", \"low\": \"225.4000\", \"close\": \"225.4000\", \"volume\": \"63\"}"
        ],
        [
         "{\"symbol\": \"AAPL\", \"timestamp\": \"2024-10-08 18:47:00\", \"open\": \"225.4000\", \"high\": \"225.4200\", \"low\": \"225.3800\", \"close\": \"225.4000\", \"volume\": \"962\"}"
        ],
        [
         "{\"symbol\": \"AAPL\", \"timestamp\": \"2024-10-08 18:46:00\", \"open\": \"225.3850\", \"high\": \"225.4000\", \"low\": \"225.3850\", \"close\": \"225.4000\", \"volume\": \"2\"}"
        ],
        [
         "{\"symbol\": \"AAPL\", \"timestamp\": \"2024-10-08 18:45:00\", \"open\": \"225.4100\", \"high\": \"225.4100\", \"low\": \"225.3500\", \"close\": \"225.3850\", \"volume\": \"31\"}"
        ],
        [
         "{\"symbol\": \"AAPL\", \"timestamp\": \"2024-10-08 18:44:00\", \"open\": \"225.3500\", \"high\": \"225.4182\", \"low\": \"225.3500\", \"close\": \"225.4100\", \"volume\": \"47\"}"
        ],
        [
         "{\"symbol\": \"AAPL\", \"timestamp\": \"2024-10-08 18:43:00\", \"open\": \"225.4100\", \"high\": \"225.4200\", \"low\": \"225.3500\", \"close\": \"225.3800\", \"volume\": \"60\"}"
        ],
        [
         "{\"symbol\": \"AAPL\", \"timestamp\": \"2024-10-08 18:42:00\", \"open\": \"225.3850\", \"high\": \"225.3850\", \"low\": \"225.3500\", \"close\": \"225.3850\", \"volume\": \"18\"}"
        ],
        [
         "{\"symbol\": \"AAPL\", \"timestamp\": \"2024-10-08 18:41:00\", \"open\": \"225.3850\", \"high\": \"225.3850\", \"low\": \"225.3500\", \"close\": \"225.3500\", \"volume\": \"7\"}"
        ],
        [
         "{\"symbol\": \"AAPL\", \"timestamp\": \"2024-10-08 18:40:00\", \"open\": \"225.3900\", \"high\": \"225.3900\", \"low\": \"225.3500\", \"close\": \"225.3850\", \"volume\": \"213\"}"
        ],
        [
         "{\"symbol\": \"AAPL\", \"timestamp\": \"2024-10-08 18:39:00\", \"open\": \"225.3850\", \"high\": \"225.4200\", \"low\": \"225.3500\", \"close\": \"225.4200\", \"volume\": \"146\"}"
        ],
        [
         "{\"symbol\": \"AAPL\", \"timestamp\": \"2024-10-08 18:38:00\", \"open\": \"225.3500\", \"high\": \"225.3850\", \"low\": \"225.3500\", \"close\": \"225.3850\", \"volume\": \"258\"}"
        ],
        [
         "{\"symbol\": \"AAPL\", \"timestamp\": \"2024-10-08 18:37:00\", \"open\": \"225.4250\", \"high\": \"225.4250\", \"low\": \"225.3500\", \"close\": \"225.4250\", \"volume\": \"5\"}"
        ],
        [
         "{\"symbol\": \"AAPL\", \"timestamp\": \"2024-10-08 18:36:00\", \"open\": \"225.4250\", \"high\": \"225.5000\", \"low\": \"225.3500\", \"close\": \"225.4250\", \"volume\": \"213\"}"
        ],
        [
         "{\"symbol\": \"AAPL\", \"timestamp\": \"2024-10-08 18:35:00\", \"open\": \"225.4250\", \"high\": \"225.5000\", \"low\": \"225.3500\", \"close\": \"225.4730\", \"volume\": \"113\"}"
        ],
        [
         "{\"symbol\": \"AAPL\", \"timestamp\": \"2024-10-08 18:34:00\", \"open\": \"225.4250\", \"high\": \"225.4250\", \"low\": \"225.4250\", \"close\": \"225.4250\", \"volume\": \"3\"}"
        ],
        [
         "{\"symbol\": \"AAPL\", \"timestamp\": \"2024-10-08 18:33:00\", \"open\": \"225.3500\", \"high\": \"225.4400\", \"low\": \"225.3500\", \"close\": \"225.4250\", \"volume\": \"85\"}"
        ],
        [
         "{\"symbol\": \"AAPL\", \"timestamp\": \"2024-10-08 18:32:00\", \"open\": \"225.4250\", \"high\": \"225.4250\", \"low\": \"225.3500\", \"close\": \"225.4000\", \"volume\": \"25\"}"
        ],
        [
         "{\"symbol\": \"AAPL\", \"timestamp\": \"2024-10-08 18:31:00\", \"open\": \"225.3500\", \"high\": \"225.4250\", \"low\": \"225.3500\", \"close\": \"225.3800\", \"volume\": \"261\"}"
        ],
        [
         "{\"symbol\": \"AAPL\", \"timestamp\": \"2024-10-08 18:30:00\", \"open\": \"225.3900\", \"high\": \"225.4300\", \"low\": \"225.3500\", \"close\": \"225.4250\", \"volume\": \"506\"}"
        ],
        [
         "{\"symbol\": \"AAPL\", \"timestamp\": \"2024-10-08 18:29:00\", \"open\": \"225.3300\", \"high\": \"225.4300\", \"low\": \"225.3100\", \"close\": \"225.4300\", \"volume\": \"217\"}"
        ],
        [
         "{\"symbol\": \"GOOGL\", \"timestamp\": \"2024-10-08 19:12:00\", \"open\": \"164.1300\", \"high\": \"164.1300\", \"low\": \"164.1000\", \"close\": \"164.1300\", \"volume\": \"18\"}"
        ],
        [
         "{\"symbol\": \"GOOGL\", \"timestamp\": \"2024-10-08 19:11:00\", \"open\": \"164.1050\", \"high\": \"164.1050\", \"low\": \"164.1050\", \"close\": \"164.1050\", \"volume\": \"1\"}"
        ],
        [
         "{\"symbol\": \"GOOGL\", \"timestamp\": \"2024-10-08 19:09:00\", \"open\": \"164.1300\", \"high\": \"164.1300\", \"low\": \"164.1300\", \"close\": \"164.1300\", \"volume\": \"1\"}"
        ],
        [
         "{\"symbol\": \"GOOGL\", \"timestamp\": \"2024-10-08 19:08:00\", \"open\": \"164.2000\", \"high\": \"164.2000\", \"low\": \"164.2000\", \"close\": \"164.2000\", \"volume\": \"5\"}"
        ],
        [
         "{\"symbol\": \"GOOGL\", \"timestamp\": \"2024-10-08 19:07:00\", \"open\": \"164.0800\", \"high\": \"164.0900\", \"low\": \"164.0800\", \"close\": \"164.0900\", \"volume\": \"17\"}"
        ],
        [
         "{\"symbol\": \"GOOGL\", \"timestamp\": \"2024-10-08 19:05:00\", \"open\": \"164.1000\", \"high\": \"164.1650\", \"low\": \"164.1000\", \"close\": \"164.1650\", \"volume\": \"50\"}"
        ],
        [
         "{\"symbol\": \"GOOGL\", \"timestamp\": \"2024-10-08 19:04:00\", \"open\": \"164.1000\", \"high\": \"164.1000\", \"low\": \"164.1000\", \"close\": \"164.1000\", \"volume\": \"302\"}"
        ],
        [
         "{\"symbol\": \"GOOGL\", \"timestamp\": \"2024-10-08 19:03:00\", \"open\": \"164.0800\", \"high\": \"164.0800\", \"low\": \"164.0800\", \"close\": \"164.0800\", \"volume\": \"2\"}"
        ],
        [
         "{\"symbol\": \"GOOGL\", \"timestamp\": \"2024-10-08 19:01:00\", \"open\": \"164.1000\", \"high\": \"164.1000\", \"low\": \"164.1000\", \"close\": \"164.1000\", \"volume\": \"20\"}"
        ],
        [
         "{\"symbol\": \"GOOGL\", \"timestamp\": \"2024-10-08 19:00:00\", \"open\": \"164.1000\", \"high\": \"164.1000\", \"low\": \"164.1000\", \"close\": \"164.1000\", \"volume\": \"2\"}"
        ],
        [
         "{\"symbol\": \"GOOGL\", \"timestamp\": \"2024-10-08 18:59:00\", \"open\": \"164.0900\", \"high\": \"164.0900\", \"low\": \"164.0600\", \"close\": \"164.0600\", \"volume\": \"31\"}"
        ],
        [
         "{\"symbol\": \"GOOGL\", \"timestamp\": \"2024-10-08 18:58:00\", \"open\": \"164.0900\", \"high\": \"164.0900\", \"low\": \"164.0900\", \"close\": \"164.0900\", \"volume\": \"1\"}"
        ],
        [
         "{\"symbol\": \"GOOGL\", \"timestamp\": \"2024-10-08 18:57:00\", \"open\": \"164.0145\", \"high\": \"164.0145\", \"low\": \"164.0145\", \"close\": \"164.0145\", \"volume\": \"3\"}"
        ],
        [
         "{\"symbol\": \"GOOGL\", \"timestamp\": \"2024-10-08 18:56:00\", \"open\": \"164.0500\", \"high\": \"164.0700\", \"low\": \"164.0500\", \"close\": \"164.0700\", \"volume\": \"3344\"}"
        ],
        [
         "{\"symbol\": \"GOOGL\", \"timestamp\": \"2024-10-08 18:55:00\", \"open\": \"164.0100\", \"high\": \"164.0500\", \"low\": \"164.0100\", \"close\": \"164.0400\", \"volume\": \"399\"}"
        ],
        [
         "{\"symbol\": \"GOOGL\", \"timestamp\": \"2024-10-08 18:54:00\", \"open\": \"164.0100\", \"high\": \"164.0100\", \"low\": \"164.0100\", \"close\": \"164.0100\", \"volume\": \"10\"}"
        ],
        [
         "{\"symbol\": \"GOOGL\", \"timestamp\": \"2024-10-08 18:53:00\", \"open\": \"163.9900\", \"high\": \"164.0400\", \"low\": \"163.9900\", \"close\": \"164.0400\", \"volume\": \"911\"}"
        ],
        [
         "{\"symbol\": \"GOOGL\", \"timestamp\": \"2024-10-08 18:52:00\", \"open\": \"164.0200\", \"high\": \"164.0200\", \"low\": \"163.9900\", \"close\": \"164.0000\", \"volume\": \"369\"}"
        ],
        [
         "{\"symbol\": \"GOOGL\", \"timestamp\": \"2024-10-08 18:51:00\", \"open\": \"164.0120\", \"high\": \"164.0120\", \"low\": \"164.0120\", \"close\": \"164.0120\", \"volume\": \"1\"}"
        ],
        [
         "{\"symbol\": \"GOOGL\", \"timestamp\": \"2024-10-08 18:50:00\", \"open\": \"164.0100\", \"high\": \"164.0500\", \"low\": \"164.0100\", \"close\": \"164.0500\", \"volume\": \"14\"}"
        ],
        [
         "{\"symbol\": \"GOOGL\", \"timestamp\": \"2024-10-08 18:49:00\", \"open\": \"164.0400\", \"high\": \"164.0400\", \"low\": \"164.0200\", \"close\": \"164.0200\", \"volume\": \"40\"}"
        ],
        [
         "{\"symbol\": \"GOOGL\", \"timestamp\": \"2024-10-08 18:48:00\", \"open\": \"163.9900\", \"high\": \"163.9900\", \"low\": \"163.9900\", \"close\": \"163.9900\", \"volume\": \"5\"}"
        ],
        [
         "{\"symbol\": \"GOOGL\", \"timestamp\": \"2024-10-08 18:47:00\", \"open\": \"164.0499\", \"high\": \"164.0499\", \"low\": \"164.0200\", \"close\": \"164.0200\", \"volume\": \"105\"}"
        ],
        [
         "{\"symbol\": \"GOOGL\", \"timestamp\": \"2024-10-08 18:46:00\", \"open\": \"164.0300\", \"high\": \"164.0300\", \"low\": \"164.0300\", \"close\": \"164.0300\", \"volume\": \"2\"}"
        ],
        [
         "{\"symbol\": \"AAPL\", \"timestamp\": \"2024-10-08 19:14:00\", \"open\": \"225.4200\", \"high\": \"225.4488\", \"low\": \"225.4000\", \"close\": \"225.4250\", \"volume\": \"16\"}"
        ],
        [
         "{\"symbol\": \"AAPL\", \"timestamp\": \"2024-10-08 19:13:00\", \"open\": \"225.4550\", \"high\": \"225.4550\", \"low\": \"225.4025\", \"close\": \"225.4500\", \"volume\": \"43\"}"
        ],
        [
         "{\"symbol\": \"AAPL\", \"timestamp\": \"2024-10-08 19:12:00\", \"open\": \"225.4550\", \"high\": \"225.5100\", \"low\": \"225.4000\", \"close\": \"225.5000\", \"volume\": \"116\"}"
        ],
        [
         "{\"symbol\": \"AAPL\", \"timestamp\": \"2024-10-08 19:11:00\", \"open\": \"225.4650\", \"high\": \"225.4650\", \"low\": \"225.4650\", \"close\": \"225.4650\", \"volume\": \"1\"}"
        ],
        [
         "{\"symbol\": \"AAPL\", \"timestamp\": \"2024-10-08 19:10:00\", \"open\": \"225.4500\", \"high\": \"225.4900\", \"low\": \"225.4500\", \"close\": \"225.4650\", \"volume\": \"36\"}"
        ],
        [
         "{\"symbol\": \"AAPL\", \"timestamp\": \"2024-10-08 19:09:00\", \"open\": \"225.4700\", \"high\": \"225.4900\", \"low\": \"225.4500\", \"close\": \"225.4700\", \"volume\": \"8\"}"
        ],
        [
         "{\"symbol\": \"AAPL\", \"timestamp\": \"2024-10-08 19:08:00\", \"open\": \"225.4700\", \"high\": \"225.5077\", \"low\": \"225.4000\", \"close\": \"225.4700\", \"volume\": \"26\"}"
        ],
        [
         "{\"symbol\": \"AAPL\", \"timestamp\": \"2024-10-08 19:07:00\", \"open\": \"225.4000\", \"high\": \"225.5388\", \"low\": \"225.4000\", \"close\": \"225.4500\", \"volume\": \"75\"}"
        ],
        [
         "{\"symbol\": \"AAPL\", \"timestamp\": \"2024-10-08 19:06:00\", \"open\": \"225.5000\", \"high\": \"225.5000\", \"low\": \"225.4000\", \"close\": \"225.4700\", \"volume\": \"31\"}"
        ],
        [
         "{\"symbol\": \"AAPL\", \"timestamp\": \"2024-10-08 19:05:00\", \"open\": \"225.5300\", \"high\": \"225.5300\", \"low\": \"225.4000\", \"close\": \"225.5000\", \"volume\": \"351\"}"
        ],
        [
         "{\"symbol\": \"AAPL\", \"timestamp\": \"2024-10-08 19:04:00\", \"open\": \"225.5200\", \"high\": \"225.5200\", \"low\": \"225.5200\", \"close\": \"225.5200\", \"volume\": \"1\"}"
        ],
        [
         "{\"symbol\": \"AAPL\", \"timestamp\": \"2024-10-08 19:03:00\", \"open\": \"225.5200\", \"high\": \"225.5400\", \"low\": \"225.5000\", \"close\": \"225.5200\", \"volume\": \"101\"}"
        ],
        [
         "{\"symbol\": \"AAPL\", \"timestamp\": \"2024-10-08 19:02:00\", \"open\": \"225.5300\", \"high\": \"225.5300\", \"low\": \"225.5150\", \"close\": \"225.5292\", \"volume\": \"15\"}"
        ],
        [
         "{\"symbol\": \"AAPL\", \"timestamp\": \"2024-10-08 19:01:00\", \"open\": \"225.5200\", \"high\": \"225.5400\", \"low\": \"225.5000\", \"close\": \"225.5150\", \"volume\": \"276\"}"
        ],
        [
         "{\"symbol\": \"AAPL\", \"timestamp\": \"2024-10-08 19:00:00\", \"open\": \"225.5000\", \"high\": \"225.5400\", \"low\": \"225.5000\", \"close\": \"225.5400\", \"volume\": \"991\"}"
        ],
        [
         "{\"symbol\": \"AAPL\", \"timestamp\": \"2024-10-08 18:59:00\", \"open\": \"225.5150\", \"high\": \"225.5300\", \"low\": \"225.5000\", \"close\": \"225.5300\", \"volume\": \"263\"}"
        ],
        [
         "{\"symbol\": \"AAPL\", \"timestamp\": \"2024-10-08 18:58:00\", \"open\": \"225.5015\", \"high\": \"225.5150\", \"low\": \"225.5000\", \"close\": \"225.5150\", \"volume\": \"42\"}"
        ],
        [
         "{\"symbol\": \"AAPL\", \"timestamp\": \"2024-10-08 18:57:00\", \"open\": \"225.5000\", \"high\": \"225.5150\", \"low\": \"225.5000\", \"close\": \"225.5000\", \"volume\": \"64\"}"
        ],
        [
         "{\"symbol\": \"AAPL\", \"timestamp\": \"2024-10-08 18:56:00\", \"open\": \"225.4500\", \"high\": \"225.5300\", \"low\": \"225.4500\", \"close\": \"225.5100\", \"volume\": \"1053\"}"
        ],
        [
         "{\"symbol\": \"AAPL\", \"timestamp\": \"2024-10-08 18:55:00\", \"open\": \"225.4500\", \"high\": \"225.4600\", \"low\": \"225.4500\", \"close\": \"225.4500\", \"volume\": \"159\"}"
        ],
        [
         "{\"symbol\": \"AAPL\", \"timestamp\": \"2024-10-08 18:54:00\", \"open\": \"225.5000\", \"high\": \"225.5000\", \"low\": \"225.4009\", \"close\": \"225.4500\", \"volume\": \"2305\"}"
        ],
        [
         "{\"symbol\": \"AAPL\", \"timestamp\": \"2024-10-08 18:53:00\", \"open\": \"225.4300\", \"high\": \"225.5000\", \"low\": \"225.4000\", \"close\": \"225.4000\", \"volume\": \"143\"}"
        ],
        [
         "{\"symbol\": \"AAPL\", \"timestamp\": \"2024-10-08 18:52:00\", \"open\": \"225.4500\", \"high\": \"225.5000\", \"low\": \"225.4300\", \"close\": \"225.4500\", \"volume\": \"13\"}"
        ],
        [
         "{\"symbol\": \"AAPL\", \"timestamp\": \"2024-10-08 18:51:00\", \"open\": \"225.4500\", \"high\": \"225.5000\", \"low\": \"225.4000\", \"close\": \"225.4000\", \"volume\": \"35\"}"
        ],
        [
         "{\"symbol\": \"AAPL\", \"timestamp\": \"2024-10-08 18:50:00\", \"open\": \"225.4500\", \"high\": \"225.4500\", \"low\": \"225.4000\", \"close\": \"225.4000\", \"volume\": \"13\"}"
        ],
        [
         "{\"symbol\": \"AAPL\", \"timestamp\": \"2024-10-08 19:00:00\", \"open\": \"225.5000\", \"high\": \"225.5400\", \"low\": \"225.5000\", \"close\": \"225.5400\", \"volume\": \"991\"}"
        ],
        [
         "{\"symbol\": \"AAPL\", \"timestamp\": \"2024-10-08 18:59:00\", \"open\": \"225.5150\", \"high\": \"225.5300\", \"low\": \"225.5000\", \"close\": \"225.5300\", \"volume\": \"263\"}"
        ],
        [
         "{\"symbol\": \"AAPL\", \"timestamp\": \"2024-10-08 18:58:00\", \"open\": \"225.5015\", \"high\": \"225.5150\", \"low\": \"225.5000\", \"close\": \"225.5150\", \"volume\": \"42\"}"
        ],
        [
         "{\"symbol\": \"AAPL\", \"timestamp\": \"2024-10-08 18:57:00\", \"open\": \"225.5000\", \"high\": \"225.5150\", \"low\": \"225.5000\", \"close\": \"225.5000\", \"volume\": \"64\"}"
        ],
        [
         "{\"symbol\": \"AAPL\", \"timestamp\": \"2024-10-08 18:56:00\", \"open\": \"225.4500\", \"high\": \"225.5300\", \"low\": \"225.4500\", \"close\": \"225.5100\", \"volume\": \"1053\"}"
        ],
        [
         "{\"symbol\": \"AAPL\", \"timestamp\": \"2024-10-08 18:55:00\", \"open\": \"225.4500\", \"high\": \"225.4600\", \"low\": \"225.4500\", \"close\": \"225.4500\", \"volume\": \"159\"}"
        ],
        [
         "{\"symbol\": \"AAPL\", \"timestamp\": \"2024-10-08 18:54:00\", \"open\": \"225.5000\", \"high\": \"225.5000\", \"low\": \"225.4009\", \"close\": \"225.4500\", \"volume\": \"2305\"}"
        ],
        [
         "{\"symbol\": \"AAPL\", \"timestamp\": \"2024-10-08 18:53:00\", \"open\": \"225.4300\", \"high\": \"225.5000\", \"low\": \"225.4000\", \"close\": \"225.4000\", \"volume\": \"143\"}"
        ],
        [
         "{\"symbol\": \"AAPL\", \"timestamp\": \"2024-10-08 18:52:00\", \"open\": \"225.4500\", \"high\": \"225.5000\", \"low\": \"225.4300\", \"close\": \"225.4500\", \"volume\": \"13\"}"
        ],
        [
         "{\"symbol\": \"AAPL\", \"timestamp\": \"2024-10-08 18:51:00\", \"open\": \"225.4500\", \"high\": \"225.5000\", \"low\": \"225.4000\", \"close\": \"225.4000\", \"volume\": \"35\"}"
        ],
        [
         "{\"symbol\": \"AAPL\", \"timestamp\": \"2024-10-08 18:50:00\", \"open\": \"225.4500\", \"high\": \"225.4500\", \"low\": \"225.4000\", \"close\": \"225.4000\", \"volume\": \"13\"}"
        ],
        [
         "{\"symbol\": \"AAPL\", \"timestamp\": \"2024-10-08 18:49:00\", \"open\": \"225.4500\", \"high\": \"225.4500\", \"low\": \"225.4000\", \"close\": \"225.4300\", \"volume\": \"143\"}"
        ],
        [
         "{\"symbol\": \"AAPL\", \"timestamp\": \"2024-10-08 18:48:00\", \"open\": \"225.4000\", \"high\": \"225.4950\", \"low\": \"225.4000\", \"close\": \"225.4000\", \"volume\": \"63\"}"
        ],
        [
         "{\"symbol\": \"AAPL\", \"timestamp\": \"2024-10-08 18:47:00\", \"open\": \"225.4000\", \"high\": \"225.4200\", \"low\": \"225.3800\", \"close\": \"225.4000\", \"volume\": \"962\"}"
        ],
        [
         "{\"symbol\": \"AAPL\", \"timestamp\": \"2024-10-08 18:46:00\", \"open\": \"225.3850\", \"high\": \"225.4000\", \"low\": \"225.3850\", \"close\": \"225.4000\", \"volume\": \"2\"}"
        ],
        [
         "{\"symbol\": \"AAPL\", \"timestamp\": \"2024-10-08 18:45:00\", \"open\": \"225.4100\", \"high\": \"225.4100\", \"low\": \"225.3500\", \"close\": \"225.3850\", \"volume\": \"31\"}"
        ],
        [
         "{\"symbol\": \"AAPL\", \"timestamp\": \"2024-10-08 18:44:00\", \"open\": \"225.3500\", \"high\": \"225.4182\", \"low\": \"225.3500\", \"close\": \"225.4100\", \"volume\": \"47\"}"
        ],
        [
         "{\"symbol\": \"AAPL\", \"timestamp\": \"2024-10-08 18:43:00\", \"open\": \"225.4100\", \"high\": \"225.4200\", \"low\": \"225.3500\", \"close\": \"225.3800\", \"volume\": \"60\"}"
        ],
        [
         "{\"symbol\": \"AAPL\", \"timestamp\": \"2024-10-08 18:42:00\", \"open\": \"225.3850\", \"high\": \"225.3850\", \"low\": \"225.3500\", \"close\": \"225.3850\", \"volume\": \"18\"}"
        ],
        [
         "{\"symbol\": \"AAPL\", \"timestamp\": \"2024-10-08 18:41:00\", \"open\": \"225.3850\", \"high\": \"225.3850\", \"low\": \"225.3500\", \"close\": \"225.3500\", \"volume\": \"7\"}"
        ],
        [
         "{\"symbol\": \"AAPL\", \"timestamp\": \"2024-10-08 18:40:00\", \"open\": \"225.3900\", \"high\": \"225.3900\", \"low\": \"225.3500\", \"close\": \"225.3850\", \"volume\": \"213\"}"
        ],
        [
         "{\"symbol\": \"AAPL\", \"timestamp\": \"2024-10-08 18:39:00\", \"open\": \"225.3850\", \"high\": \"225.4200\", \"low\": \"225.3500\", \"close\": \"225.4200\", \"volume\": \"146\"}"
        ],
        [
         "{\"symbol\": \"AAPL\", \"timestamp\": \"2024-10-08 18:38:00\", \"open\": \"225.3500\", \"high\": \"225.3850\", \"low\": \"225.3500\", \"close\": \"225.3850\", \"volume\": \"258\"}"
        ],
        [
         "{\"symbol\": \"AAPL\", \"timestamp\": \"2024-10-08 18:37:00\", \"open\": \"225.4250\", \"high\": \"225.4250\", \"low\": \"225.3500\", \"close\": \"225.4250\", \"volume\": \"5\"}"
        ],
        [
         "{\"symbol\": \"AAPL\", \"timestamp\": \"2024-10-08 18:36:00\", \"open\": \"225.4250\", \"high\": \"225.5000\", \"low\": \"225.3500\", \"close\": \"225.4250\", \"volume\": \"213\"}"
        ],
        [
         "{\"symbol\": \"AAPL\", \"timestamp\": \"2024-10-08 18:35:00\", \"open\": \"225.4250\", \"high\": \"225.5000\", \"low\": \"225.3500\", \"close\": \"225.4730\", \"volume\": \"113\"}"
        ],
        [
         "{\"symbol\": \"AAPL\", \"timestamp\": \"2024-10-08 18:34:00\", \"open\": \"225.4250\", \"high\": \"225.4250\", \"low\": \"225.4250\", \"close\": \"225.4250\", \"volume\": \"3\"}"
        ],
        [
         "{\"symbol\": \"AAPL\", \"timestamp\": \"2024-10-08 19:23:00\", \"open\": \"225.4500\", \"high\": \"225.4500\", \"low\": \"225.4000\", \"close\": \"225.4250\", \"volume\": \"56\"}"
        ],
        [
         "{\"symbol\": \"AAPL\", \"timestamp\": \"2024-10-08 19:22:00\", \"open\": \"225.4250\", \"high\": \"225.4250\", \"low\": \"225.4000\", \"close\": \"225.4000\", \"volume\": \"62\"}"
        ],
        [
         "{\"symbol\": \"AAPL\", \"timestamp\": \"2024-10-08 19:21:00\", \"open\": \"225.4300\", \"high\": \"225.4300\", \"low\": \"225.4000\", \"close\": \"225.4250\", \"volume\": \"539\"}"
        ],
        [
         "{\"symbol\": \"AAPL\", \"timestamp\": \"2024-10-08 19:20:00\", \"open\": \"225.4000\", \"high\": \"225.4300\", \"low\": \"225.4000\", \"close\": \"225.4300\", \"volume\": \"18\"}"
        ],
        [
         "{\"symbol\": \"AAPL\", \"timestamp\": \"2024-10-08 19:19:00\", \"open\": \"225.4000\", \"high\": \"225.4300\", \"low\": \"225.4000\", \"close\": \"225.4300\", \"volume\": \"8\"}"
        ],
        [
         "{\"symbol\": \"AAPL\", \"timestamp\": \"2024-10-08 19:18:00\", \"open\": \"225.4300\", \"high\": \"225.4300\", \"low\": \"225.4000\", \"close\": \"225.4000\", \"volume\": \"12\"}"
        ],
        [
         "{\"symbol\": \"AAPL\", \"timestamp\": \"2024-10-08 19:17:00\", \"open\": \"225.4500\", \"high\": \"225.4500\", \"low\": \"225.4000\", \"close\": \"225.4250\", \"volume\": \"8\"}"
        ],
        [
         "{\"symbol\": \"AAPL\", \"timestamp\": \"2024-10-08 19:16:00\", \"open\": \"225.4550\", \"high\": \"225.4550\", \"low\": \"225.4000\", \"close\": \"225.4500\", \"volume\": \"179\"}"
        ],
        [
         "{\"symbol\": \"AAPL\", \"timestamp\": \"2024-10-08 19:15:00\", \"open\": \"225.4492\", \"high\": \"225.4500\", \"low\": \"225.4250\", \"close\": \"225.4500\", \"volume\": \"304\"}"
        ],
        [
         "{\"symbol\": \"AAPL\", \"timestamp\": \"2024-10-08 19:14:00\", \"open\": \"225.4200\", \"high\": \"225.4488\", \"low\": \"225.4000\", \"close\": \"225.4250\", \"volume\": \"16\"}"
        ],
        [
         "{\"symbol\": \"AAPL\", \"timestamp\": \"2024-10-08 19:13:00\", \"open\": \"225.4550\", \"high\": \"225.4550\", \"low\": \"225.4025\", \"close\": \"225.4500\", \"volume\": \"43\"}"
        ],
        [
         "{\"symbol\": \"AAPL\", \"timestamp\": \"2024-10-08 19:12:00\", \"open\": \"225.4550\", \"high\": \"225.5100\", \"low\": \"225.4000\", \"close\": \"225.5000\", \"volume\": \"116\"}"
        ],
        [
         "{\"symbol\": \"AAPL\", \"timestamp\": \"2024-10-08 19:11:00\", \"open\": \"225.4650\", \"high\": \"225.4650\", \"low\": \"225.4650\", \"close\": \"225.4650\", \"volume\": \"1\"}"
        ],
        [
         "{\"symbol\": \"AAPL\", \"timestamp\": \"2024-10-08 19:10:00\", \"open\": \"225.4500\", \"high\": \"225.4900\", \"low\": \"225.4500\", \"close\": \"225.4650\", \"volume\": \"36\"}"
        ],
        [
         "{\"symbol\": \"AAPL\", \"timestamp\": \"2024-10-08 19:09:00\", \"open\": \"225.4700\", \"high\": \"225.4900\", \"low\": \"225.4500\", \"close\": \"225.4700\", \"volume\": \"8\"}"
        ],
        [
         "{\"symbol\": \"AAPL\", \"timestamp\": \"2024-10-08 19:08:00\", \"open\": \"225.4700\", \"high\": \"225.5077\", \"low\": \"225.4000\", \"close\": \"225.4700\", \"volume\": \"26\"}"
        ],
        [
         "{\"symbol\": \"AAPL\", \"timestamp\": \"2024-10-08 19:07:00\", \"open\": \"225.4000\", \"high\": \"225.5388\", \"low\": \"225.4000\", \"close\": \"225.4500\", \"volume\": \"75\"}"
        ],
        [
         "{\"symbol\": \"AAPL\", \"timestamp\": \"2024-10-08 19:06:00\", \"open\": \"225.5000\", \"high\": \"225.5000\", \"low\": \"225.4000\", \"close\": \"225.4700\", \"volume\": \"31\"}"
        ],
        [
         "{\"symbol\": \"AAPL\", \"timestamp\": \"2024-10-08 19:05:00\", \"open\": \"225.5300\", \"high\": \"225.5300\", \"low\": \"225.4000\", \"close\": \"225.5000\", \"volume\": \"351\"}"
        ],
        [
         "{\"symbol\": \"AAPL\", \"timestamp\": \"2024-10-08 19:04:00\", \"open\": \"225.5200\", \"high\": \"225.5200\", \"low\": \"225.5200\", \"close\": \"225.5200\", \"volume\": \"1\"}"
        ],
        [
         "{\"symbol\": \"AAPL\", \"timestamp\": \"2024-10-08 19:03:00\", \"open\": \"225.5200\", \"high\": \"225.5400\", \"low\": \"225.5000\", \"close\": \"225.5200\", \"volume\": \"101\"}"
        ],
        [
         "{\"symbol\": \"AAPL\", \"timestamp\": \"2024-10-08 19:02:00\", \"open\": \"225.5300\", \"high\": \"225.5300\", \"low\": \"225.5150\", \"close\": \"225.5292\", \"volume\": \"15\"}"
        ],
        [
         "{\"symbol\": \"AAPL\", \"timestamp\": \"2024-10-08 19:01:00\", \"open\": \"225.5200\", \"high\": \"225.5400\", \"low\": \"225.5000\", \"close\": \"225.5150\", \"volume\": \"276\"}"
        ],
        [
         "{\"symbol\": \"AAPL\", \"timestamp\": \"2024-10-08 19:00:00\", \"open\": \"225.5000\", \"high\": \"225.5400\", \"low\": \"225.5000\", \"close\": \"225.5400\", \"volume\": \"991\"}"
        ],
        [
         "{\"symbol\": \"AAPL\", \"timestamp\": \"2024-10-08 18:59:00\", \"open\": \"225.5150\", \"high\": \"225.5300\", \"low\": \"225.5000\", \"close\": \"225.5300\", \"volume\": \"263\"}"
        ],
        [
         "{\"symbol\": \"AAPL\", \"timestamp\": \"2024-10-08 18:58:00\", \"open\": \"225.5015\", \"high\": \"225.5150\", \"low\": \"225.5000\", \"close\": \"225.5150\", \"volume\": \"42\"}"
        ],
        [
         "{\"symbol\": \"AAPL\", \"timestamp\": \"2024-10-08 19:25:00\", \"open\": \"225.3500\", \"high\": \"225.4280\", \"low\": \"225.3500\", \"close\": \"225.4000\", \"volume\": \"113\"}"
        ],
        [
         "{\"symbol\": \"AAPL\", \"timestamp\": \"2024-10-08 19:24:00\", \"open\": \"225.4250\", \"high\": \"225.4300\", \"low\": \"225.3500\", \"close\": \"225.4000\", \"volume\": \"397\"}"
        ],
        [
         "{\"symbol\": \"AAPL\", \"timestamp\": \"2024-10-08 19:23:00\", \"open\": \"225.4500\", \"high\": \"225.4500\", \"low\": \"225.4000\", \"close\": \"225.4250\", \"volume\": \"56\"}"
        ],
        [
         "{\"symbol\": \"AAPL\", \"timestamp\": \"2024-10-08 19:22:00\", \"open\": \"225.4250\", \"high\": \"225.4250\", \"low\": \"225.4000\", \"close\": \"225.4000\", \"volume\": \"62\"}"
        ],
        [
         "{\"symbol\": \"AAPL\", \"timestamp\": \"2024-10-08 19:21:00\", \"open\": \"225.4300\", \"high\": \"225.4300\", \"low\": \"225.4000\", \"close\": \"225.4250\", \"volume\": \"539\"}"
        ],
        [
         "{\"symbol\": \"AAPL\", \"timestamp\": \"2024-10-08 19:20:00\", \"open\": \"225.4000\", \"high\": \"225.4300\", \"low\": \"225.4000\", \"close\": \"225.4300\", \"volume\": \"18\"}"
        ],
        [
         "{\"symbol\": \"AAPL\", \"timestamp\": \"2024-10-08 19:19:00\", \"open\": \"225.4000\", \"high\": \"225.4300\", \"low\": \"225.4000\", \"close\": \"225.4300\", \"volume\": \"8\"}"
        ],
        [
         "{\"symbol\": \"AAPL\", \"timestamp\": \"2024-10-08 19:18:00\", \"open\": \"225.4300\", \"high\": \"225.4300\", \"low\": \"225.4000\", \"close\": \"225.4000\", \"volume\": \"12\"}"
        ],
        [
         "{\"symbol\": \"AAPL\", \"timestamp\": \"2024-10-08 19:17:00\", \"open\": \"225.4500\", \"high\": \"225.4500\", \"low\": \"225.4000\", \"close\": \"225.4250\", \"volume\": \"8\"}"
        ],
        [
         "{\"symbol\": \"AAPL\", \"timestamp\": \"2024-10-08 19:16:00\", \"open\": \"225.4550\", \"high\": \"225.4550\", \"low\": \"225.4000\", \"close\": \"225.4500\", \"volume\": \"179\"}"
        ],
        [
         "{\"symbol\": \"AAPL\", \"timestamp\": \"2024-10-08 19:15:00\", \"open\": \"225.4492\", \"high\": \"225.4500\", \"low\": \"225.4250\", \"close\": \"225.4500\", \"volume\": \"304\"}"
        ],
        [
         "{\"symbol\": \"AAPL\", \"timestamp\": \"2024-10-08 19:14:00\", \"open\": \"225.4200\", \"high\": \"225.4488\", \"low\": \"225.4000\", \"close\": \"225.4250\", \"volume\": \"16\"}"
        ],
        [
         "{\"symbol\": \"AAPL\", \"timestamp\": \"2024-10-08 19:13:00\", \"open\": \"225.4550\", \"high\": \"225.4550\", \"low\": \"225.4025\", \"close\": \"225.4500\", \"volume\": \"43\"}"
        ],
        [
         "{\"symbol\": \"AAPL\", \"timestamp\": \"2024-10-08 19:12:00\", \"open\": \"225.4550\", \"high\": \"225.5100\", \"low\": \"225.4000\", \"close\": \"225.5000\", \"volume\": \"116\"}"
        ],
        [
         "{\"symbol\": \"AAPL\", \"timestamp\": \"2024-10-08 19:11:00\", \"open\": \"225.4650\", \"high\": \"225.4650\", \"low\": \"225.4650\", \"close\": \"225.4650\", \"volume\": \"1\"}"
        ],
        [
         "{\"symbol\": \"AAPL\", \"timestamp\": \"2024-10-08 19:10:00\", \"open\": \"225.4500\", \"high\": \"225.4900\", \"low\": \"225.4500\", \"close\": \"225.4650\", \"volume\": \"36\"}"
        ],
        [
         "{\"symbol\": \"AAPL\", \"timestamp\": \"2024-10-08 19:09:00\", \"open\": \"225.4700\", \"high\": \"225.4900\", \"low\": \"225.4500\", \"close\": \"225.4700\", \"volume\": \"8\"}"
        ],
        [
         "{\"symbol\": \"AAPL\", \"timestamp\": \"2024-10-08 19:08:00\", \"open\": \"225.4700\", \"high\": \"225.5077\", \"low\": \"225.4000\", \"close\": \"225.4700\", \"volume\": \"26\"}"
        ],
        [
         "{\"symbol\": \"AAPL\", \"timestamp\": \"2024-10-08 19:07:00\", \"open\": \"225.4000\", \"high\": \"225.5388\", \"low\": \"225.4000\", \"close\": \"225.4500\", \"volume\": \"75\"}"
        ],
        [
         "{\"symbol\": \"AAPL\", \"timestamp\": \"2024-10-08 19:06:00\", \"open\": \"225.5000\", \"high\": \"225.5000\", \"low\": \"225.4000\", \"close\": \"225.4700\", \"volume\": \"31\"}"
        ],
        [
         "{\"symbol\": \"AAPL\", \"timestamp\": \"2024-10-08 19:05:00\", \"open\": \"225.5300\", \"high\": \"225.5300\", \"low\": \"225.4000\", \"close\": \"225.5000\", \"volume\": \"351\"}"
        ],
        [
         "{\"symbol\": \"AAPL\", \"timestamp\": \"2024-10-08 19:04:00\", \"open\": \"225.5200\", \"high\": \"225.5200\", \"low\": \"225.5200\", \"close\": \"225.5200\", \"volume\": \"1\"}"
        ],
        [
         "{\"symbol\": \"AAPL\", \"timestamp\": \"2024-10-08 19:03:00\", \"open\": \"225.5200\", \"high\": \"225.5400\", \"low\": \"225.5000\", \"close\": \"225.5200\", \"volume\": \"101\"}"
        ],
        [
         "{\"symbol\": \"AAPL\", \"timestamp\": \"2024-10-08 19:02:00\", \"open\": \"225.5300\", \"high\": \"225.5300\", \"low\": \"225.5150\", \"close\": \"225.5292\", \"volume\": \"15\"}"
        ],
        [
         "{\"symbol\": \"AAPL\", \"timestamp\": \"2024-10-08 19:01:00\", \"open\": \"225.5200\", \"high\": \"225.5400\", \"low\": \"225.5000\", \"close\": \"225.5150\", \"volume\": \"276\"}"
        ],
        [
         "{\"symbol\": \"AAPL\", \"timestamp\": \"2024-10-08 18:33:00\", \"open\": \"225.3500\", \"high\": \"225.4400\", \"low\": \"225.3500\", \"close\": \"225.4250\", \"volume\": \"85\"}"
        ],
        [
         "{\"symbol\": \"AAPL\", \"timestamp\": \"2024-10-08 18:32:00\", \"open\": \"225.4250\", \"high\": \"225.4250\", \"low\": \"225.3500\", \"close\": \"225.4000\", \"volume\": \"25\"}"
        ],
        [
         "{\"symbol\": \"AAPL\", \"timestamp\": \"2024-10-08 18:31:00\", \"open\": \"225.3500\", \"high\": \"225.4250\", \"low\": \"225.3500\", \"close\": \"225.3800\", \"volume\": \"261\"}"
        ],
        [
         "{\"symbol\": \"AAPL\", \"timestamp\": \"2024-10-08 18:30:00\", \"open\": \"225.3900\", \"high\": \"225.4300\", \"low\": \"225.3500\", \"close\": \"225.4250\", \"volume\": \"506\"}"
        ],
        [
         "{\"symbol\": \"AAPL\", \"timestamp\": \"2024-10-08 18:29:00\", \"open\": \"225.3300\", \"high\": \"225.4300\", \"low\": \"225.3100\", \"close\": \"225.4300\", \"volume\": \"217\"}"
        ],
        [
         "{\"symbol\": \"AAPL\", \"timestamp\": \"2024-10-08 18:28:00\", \"open\": \"225.3500\", \"high\": \"225.3500\", \"low\": \"225.2800\", \"close\": \"225.3000\", \"volume\": \"169\"}"
        ],
        [
         "{\"symbol\": \"AAPL\", \"timestamp\": \"2024-10-08 18:27:00\", \"open\": \"225.3200\", \"high\": \"225.3500\", \"low\": \"225.2700\", \"close\": \"225.3050\", \"volume\": \"172\"}"
        ],
        [
         "{\"symbol\": \"AAPL\", \"timestamp\": \"2024-10-08 18:26:00\", \"open\": \"225.3100\", \"high\": \"225.3300\", \"low\": \"225.2600\", \"close\": \"225.3300\", \"volume\": \"374\"}"
        ],
        [
         "{\"symbol\": \"AAPL\", \"timestamp\": \"2024-10-08 18:25:00\", \"open\": \"225.2950\", \"high\": \"225.3300\", \"low\": \"225.2600\", \"close\": \"225.3300\", \"volume\": \"114\"}"
        ],
        [
         "{\"symbol\": \"AAPL\", \"timestamp\": \"2024-10-08 18:24:00\", \"open\": \"225.2950\", \"high\": \"225.2950\", \"low\": \"225.2600\", \"close\": \"225.2600\", \"volume\": \"5\"}"
        ],
        [
         "{\"symbol\": \"AAPL\", \"timestamp\": \"2024-10-08 18:23:00\", \"open\": \"225.3250\", \"high\": \"225.3965\", \"low\": \"225.2600\", \"close\": \"225.3965\", \"volume\": \"75\"}"
        ],
        [
         "{\"symbol\": \"AAPL\", \"timestamp\": \"2024-10-08 18:22:00\", \"open\": \"225.3300\", \"high\": \"225.3300\", \"low\": \"225.2633\", \"close\": \"225.3000\", \"volume\": \"19\"}"
        ],
        [
         "{\"symbol\": \"AAPL\", \"timestamp\": \"2024-10-08 18:21:00\", \"open\": \"225.3300\", \"high\": \"225.4000\", \"low\": \"225.2500\", \"close\": \"225.3250\", \"volume\": \"195\"}"
        ],
        [
         "{\"symbol\": \"AAPL\", \"timestamp\": \"2024-10-08 18:20:00\", \"open\": \"225.3100\", \"high\": \"225.7700\", \"low\": \"225.2500\", \"close\": \"225.2500\", \"volume\": \"191387\"}"
        ],
        [
         "{\"symbol\": \"AAPL\", \"timestamp\": \"2024-10-08 18:28:00\", \"open\": \"225.3500\", \"high\": \"225.3500\", \"low\": \"225.2800\", \"close\": \"225.3000\", \"volume\": \"169\"}"
        ],
        [
         "{\"symbol\": \"AAPL\", \"timestamp\": \"2024-10-08 18:27:00\", \"open\": \"225.3200\", \"high\": \"225.3500\", \"low\": \"225.2700\", \"close\": \"225.3050\", \"volume\": \"172\"}"
        ],
        [
         "{\"symbol\": \"AAPL\", \"timestamp\": \"2024-10-08 18:26:00\", \"open\": \"225.3100\", \"high\": \"225.3300\", \"low\": \"225.2600\", \"close\": \"225.3300\", \"volume\": \"374\"}"
        ],
        [
         "{\"symbol\": \"AAPL\", \"timestamp\": \"2024-10-08 18:25:00\", \"open\": \"225.2950\", \"high\": \"225.3300\", \"low\": \"225.2600\", \"close\": \"225.3300\", \"volume\": \"114\"}"
        ],
        [
         "{\"symbol\": \"AAPL\", \"timestamp\": \"2024-10-08 18:24:00\", \"open\": \"225.2950\", \"high\": \"225.2950\", \"low\": \"225.2600\", \"close\": \"225.2600\", \"volume\": \"5\"}"
        ],
        [
         "{\"symbol\": \"AAPL\", \"timestamp\": \"2024-10-08 18:23:00\", \"open\": \"225.3250\", \"high\": \"225.3965\", \"low\": \"225.2600\", \"close\": \"225.3965\", \"volume\": \"75\"}"
        ],
        [
         "{\"symbol\": \"AAPL\", \"timestamp\": \"2024-10-08 18:22:00\", \"open\": \"225.3300\", \"high\": \"225.3300\", \"low\": \"225.2633\", \"close\": \"225.3000\", \"volume\": \"19\"}"
        ],
        [
         "{\"symbol\": \"AAPL\", \"timestamp\": \"2024-10-08 18:21:00\", \"open\": \"225.3300\", \"high\": \"225.4000\", \"low\": \"225.2500\", \"close\": \"225.3250\", \"volume\": \"195\"}"
        ],
        [
         "{\"symbol\": \"AAPL\", \"timestamp\": \"2024-10-08 18:20:00\", \"open\": \"225.3100\", \"high\": \"225.7700\", \"low\": \"225.2500\", \"close\": \"225.2500\", \"volume\": \"191387\"}"
        ],
        [
         "{\"symbol\": \"GOOGL\", \"timestamp\": \"2024-10-08 19:59:00\", \"open\": \"164.1800\", \"high\": \"164.1900\", \"low\": \"164.1800\", \"close\": \"164.1800\", \"volume\": \"37\"}"
        ],
        [
         "{\"symbol\": \"GOOGL\", \"timestamp\": \"2024-10-08 19:58:00\", \"open\": \"164.1809\", \"high\": \"164.2000\", \"low\": \"164.1800\", \"close\": \"164.1810\", \"volume\": \"286\"}"
        ],
        [
         "{\"symbol\": \"GOOGL\", \"timestamp\": \"2024-10-08 19:57:00\", \"open\": \"164.2370\", \"high\": \"164.2370\", \"low\": \"164.1810\", \"close\": \"164.2000\", \"volume\": \"616\"}"
        ],
        [
         "{\"symbol\": \"GOOGL\", \"timestamp\": \"2024-10-08 19:56:00\", \"open\": \"164.2400\", \"high\": \"164.2400\", \"low\": \"164.2400\", \"close\": \"164.2400\", \"volume\": \"7\"}"
        ],
        [
         "{\"symbol\": \"GOOGL\", \"timestamp\": \"2024-10-08 19:55:00\", \"open\": \"164.1900\", \"high\": \"164.1900\", \"low\": \"164.1830\", \"close\": \"164.1830\", \"volume\": \"17\"}"
        ],
        [
         "{\"symbol\": \"AAPL\", \"timestamp\": \"2024-10-08 19:59:00\", \"open\": \"225.3000\", \"high\": \"225.3000\", \"low\": \"225.2212\", \"close\": \"225.2212\", \"volume\": \"1577\"}"
        ],
        [
         "{\"symbol\": \"AAPL\", \"timestamp\": \"2024-10-08 19:58:00\", \"open\": \"225.3000\", \"high\": \"225.3000\", \"low\": \"225.2700\", \"close\": \"225.2900\", \"volume\": \"359\"}"
        ],
        [
         "{\"symbol\": \"AAPL\", \"timestamp\": \"2024-10-08 19:57:00\", \"open\": \"225.2600\", \"high\": \"225.3100\", \"low\": \"225.2600\", \"close\": \"225.3000\", \"volume\": \"65\"}"
        ],
        [
         "{\"symbol\": \"AAPL\", \"timestamp\": \"2024-10-08 19:56:00\", \"open\": \"225.3050\", \"high\": \"225.3588\", \"low\": \"225.2600\", \"close\": \"225.3588\", \"volume\": \"239\"}"
        ],
        [
         "{\"symbol\": \"AAPL\", \"timestamp\": \"2024-10-08 19:55:00\", \"open\": \"225.2525\", \"high\": \"225.4875\", \"low\": \"225.2500\", \"close\": \"225.3000\", \"volume\": \"160\"}"
        ],
        [
         "{\"symbol\": \"AAPL\", \"timestamp\": \"2024-10-08 19:59:00\", \"open\": \"225.3000\", \"high\": \"225.3000\", \"low\": \"225.2212\", \"close\": \"225.2212\", \"volume\": \"1577\"}"
        ],
        [
         "{\"symbol\": \"AAPL\", \"timestamp\": \"2024-10-08 19:58:00\", \"open\": \"225.3000\", \"high\": \"225.3000\", \"low\": \"225.2700\", \"close\": \"225.2900\", \"volume\": \"359\"}"
        ],
        [
         "{\"symbol\": \"AAPL\", \"timestamp\": \"2024-10-08 19:57:00\", \"open\": \"225.2600\", \"high\": \"225.3100\", \"low\": \"225.2600\", \"close\": \"225.3000\", \"volume\": \"65\"}"
        ],
        [
         "{\"symbol\": \"AAPL\", \"timestamp\": \"2024-10-08 19:56:00\", \"open\": \"225.3050\", \"high\": \"225.3588\", \"low\": \"225.2600\", \"close\": \"225.3588\", \"volume\": \"239\"}"
        ],
        [
         "{\"symbol\": \"AAPL\", \"timestamp\": \"2024-10-08 19:55:00\", \"open\": \"225.2525\", \"high\": \"225.4875\", \"low\": \"225.2500\", \"close\": \"225.3000\", \"volume\": \"160\"}"
        ],
        [
         "{\"symbol\": \"AAPL\", \"timestamp\": \"2024-10-08 19:59:00\", \"open\": \"225.3000\", \"high\": \"225.3000\", \"low\": \"225.2212\", \"close\": \"225.2212\", \"volume\": \"1577\"}"
        ],
        [
         "{\"symbol\": \"AAPL\", \"timestamp\": \"2024-10-08 19:58:00\", \"open\": \"225.3000\", \"high\": \"225.3000\", \"low\": \"225.2700\", \"close\": \"225.2900\", \"volume\": \"359\"}"
        ],
        [
         "{\"symbol\": \"AAPL\", \"timestamp\": \"2024-10-08 19:57:00\", \"open\": \"225.2600\", \"high\": \"225.3100\", \"low\": \"225.2600\", \"close\": \"225.3000\", \"volume\": \"65\"}"
        ],
        [
         "{\"symbol\": \"AAPL\", \"timestamp\": \"2024-10-08 19:56:00\", \"open\": \"225.3050\", \"high\": \"225.3588\", \"low\": \"225.2600\", \"close\": \"225.3588\", \"volume\": \"239\"}"
        ],
        [
         "{\"symbol\": \"AAPL\", \"timestamp\": \"2024-10-08 19:55:00\", \"open\": \"225.2525\", \"high\": \"225.4875\", \"low\": \"225.2500\", \"close\": \"225.3000\", \"volume\": \"160\"}"
        ],
        [
         "{\"symbol\": \"AAPL\", \"timestamp\": \"2024-10-08 18:23:00\", \"open\": \"225.3250\", \"high\": \"225.3965\", \"low\": \"225.2600\", \"close\": \"225.3965\", \"volume\": \"75\"}"
        ],
        [
         "{\"symbol\": \"AAPL\", \"timestamp\": \"2024-10-08 18:22:00\", \"open\": \"225.3300\", \"high\": \"225.3300\", \"low\": \"225.2633\", \"close\": \"225.3000\", \"volume\": \"19\"}"
        ],
        [
         "{\"symbol\": \"AAPL\", \"timestamp\": \"2024-10-08 18:21:00\", \"open\": \"225.3300\", \"high\": \"225.4000\", \"low\": \"225.2500\", \"close\": \"225.3250\", \"volume\": \"195\"}"
        ],
        [
         "{\"symbol\": \"AAPL\", \"timestamp\": \"2024-10-08 18:20:00\", \"open\": \"225.3100\", \"high\": \"225.7700\", \"low\": \"225.2500\", \"close\": \"225.2500\", \"volume\": \"191387\"}"
        ],
        [
         "{\"symbol\": \"AAPL\", \"timestamp\": \"2024-10-08 19:59:00\", \"open\": \"225.3000\", \"high\": \"225.3000\", \"low\": \"225.2212\", \"close\": \"225.2212\", \"volume\": \"1577\"}"
        ],
        [
         "{\"symbol\": \"AAPL\", \"timestamp\": \"2024-10-08 19:58:00\", \"open\": \"225.3000\", \"high\": \"225.3000\", \"low\": \"225.2700\", \"close\": \"225.2900\", \"volume\": \"359\"}"
        ],
        [
         "{\"symbol\": \"AAPL\", \"timestamp\": \"2024-10-08 19:57:00\", \"open\": \"225.2600\", \"high\": \"225.3100\", \"low\": \"225.2600\", \"close\": \"225.3000\", \"volume\": \"65\"}"
        ],
        [
         "{\"symbol\": \"AAPL\", \"timestamp\": \"2024-10-08 19:56:00\", \"open\": \"225.3050\", \"high\": \"225.3588\", \"low\": \"225.2600\", \"close\": \"225.3588\", \"volume\": \"239\"}"
        ],
        [
         "{\"symbol\": \"GOOGL\", \"timestamp\": \"2024-10-08 18:09:00\", \"open\": \"164.0800\", \"high\": \"164.0900\", \"low\": \"164.0000\", \"close\": \"164.0500\", \"volume\": \"425\"}"
        ],
        [
         "{\"symbol\": \"GOOGL\", \"timestamp\": \"2024-10-08 18:08:00\", \"open\": \"164.0800\", \"high\": \"164.0800\", \"low\": \"164.0158\", \"close\": \"164.0158\", \"volume\": \"66\"}"
        ],
        [
         "{\"symbol\": \"GOOGL\", \"timestamp\": \"2024-10-08 18:07:00\", \"open\": \"164.1000\", \"high\": \"164.1000\", \"low\": \"163.9500\", \"close\": \"164.1000\", \"volume\": \"89\"}"
        ]
       ],
       "datasetInfos": [],
       "dbfsResultPath": null,
       "isJsonSchema": true,
       "metadata": {
        "createTempViewForImplicitDf": true,
        "dataframeName": "_sqldf",
        "executionCount": 35
       },
       "overflow": false,
       "plotOptions": {
        "customPlotOptions": {},
        "displayType": "table",
        "pivotAggregation": null,
        "pivotColumns": null,
        "xColumns": null,
        "yColumns": null
       },
       "removedWidgets": [],
       "schema": [
        {
         "metadata": "{}",
         "name": "json_message",
         "type": "\"string\""
        }
       ],
       "type": "table"
      }
     },
     "output_type": "display_data"
    }
   ],
   "source": [
    "%sql\n",
    "SELECT * FROM kafka.bronze.stock_data "
   ]
  }
 ],
 "metadata": {
  "application/vnd.databricks.v1+notebook": {
   "dashboards": [],
   "environmentMetadata": null,
   "language": "python",
   "notebookMetadata": {
    "mostRecentlyExecutedCommandWithImplicitDF": {
     "commandId": 4258952733357684,
     "dataframes": [
      "_sqldf"
     ]
    },
    "pythonIndentUnit": 4
   },
   "notebookName": "2. Bronze-Data population from Topic",
   "widgets": {}
  }
 },
 "nbformat": 4,
 "nbformat_minor": 0
}
