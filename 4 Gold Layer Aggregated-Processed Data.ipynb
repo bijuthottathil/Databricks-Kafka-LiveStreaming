{
 "cells": [
  {
   "cell_type": "markdown",
   "metadata": {
    "application/vnd.databricks.v1+cell": {
     "cellMetadata": {},
     "inputWidgets": {},
     "nuid": "32c631e2-8ae7-45dd-88d1-7d9e74daacf2",
     "showTitle": false,
     "title": ""
    }
   },
   "source": [
    "# Calculating 5-minute moving average for each stock symbol"
   ]
  },
  {
   "cell_type": "code",
   "execution_count": 0,
   "metadata": {
    "application/vnd.databricks.v1+cell": {
     "cellMetadata": {
      "byteLimit": 2048000,
      "rowLimit": 10000
     },
     "inputWidgets": {},
     "nuid": "1bbb3803-5e25-4012-b8c6-46393a4d614d",
     "showTitle": false,
     "title": ""
    }
   },
   "outputs": [],
   "source": [
    "from pyspark.sql import functions as F\n",
    "\n",
    "# Read from Silver table\n",
    "silver_df = df = spark.read.table(\"kafka.silver.silver_stock_data\")\n",
    "\n",
    "# Example of calculating 5-minute moving average for each stock symbol\n",
    "gold_df = (silver_df\n",
    "           .groupBy(F.window(\"timestamp\", \"5 minutes\"), \"symbol\")\n",
    "           .agg(F.avg(\"high\").alias(\"avg_price\")))\n",
    "           # Calculate 50-period simple moving average for each stock symbol\n",
    "ohlc_df = silver_df.groupBy(F.window(\"timestamp\", \"1 day\"), \"symbol\").agg(\n",
    "    F.first(\"open\").alias(\"open_price\"),\n",
    "    F.max(\"high\").alias(\"high_price\"),\n",
    "    F.min(\"low\").alias(\"low_price\"),\n",
    "    F.last(\"close\").alias(\"close_price\"),\n",
    "    F.sum(\"volume\").alias(\"daily_volume\")\n",
    ")\n",
    "\n",
    "# Write to the Gold Delta table\n",
    "#gold_df.write.format(\"delta\").mode(\"overwrite\").saveAsTable(\"kafka.gold.gold_stock_data\")\n",
    "\n",
    "ohlc_df.write.format(\"delta\").mode(\"overwrite\") \\\n",
    ".option(\"mergeSchema\", \"true\") \\\n",
    ".saveAsTable(\"kafka.gold.gold_stock_data\") \n",
    "\n"
   ]
  },
  {
   "cell_type": "code",
   "execution_count": 0,
   "metadata": {
    "application/vnd.databricks.v1+cell": {
     "cellMetadata": {
      "byteLimit": 2048000,
      "implicitDf": true,
      "rowLimit": 10000
     },
     "inputWidgets": {},
     "nuid": "dc130dd3-7ab1-47e4-8598-bdc818606d6b",
     "showTitle": false,
     "title": ""
    }
   },
   "outputs": [
    {
     "output_type": "display_data",
     "data": {
      "text/html": [
       "<style scoped>\n",
       "  .table-result-container {\n",
       "    max-height: 300px;\n",
       "    overflow: auto;\n",
       "  }\n",
       "  table, th, td {\n",
       "    border: 1px solid black;\n",
       "    border-collapse: collapse;\n",
       "  }\n",
       "  th, td {\n",
       "    padding: 5px;\n",
       "  }\n",
       "  th {\n",
       "    text-align: left;\n",
       "  }\n",
       "</style><div class='table-result-container'><table class='table-result'><thead style='background-color: white'><tr><th>window</th><th>symbol</th><th>avg_price</th><th>open_price</th><th>high_price</th><th>low_price</th><th>close_price</th><th>daily_volume</th></tr></thead><tbody><tr><td>List(2024-10-04T00:00:00Z, 2024-10-05T00:00:00Z)</td><td>MSFT</td><td>null</td><td>415.8800</td><td>418.1800</td><td>415.6025</td><td>415.6550</td><td>115084.0</td></tr><tr><td>List(2024-10-04T00:00:00Z, 2024-10-05T00:00:00Z)</td><td>GOOGL</td><td>null</td><td>166.9500</td><td>167.0600</td><td>164.5400</td><td>166.8500</td><td>579984.0</td></tr><tr><td>List(2024-10-04T00:00:00Z, 2024-10-05T00:00:00Z)</td><td>AAPL</td><td>null</td><td>226.3700</td><td>226.8000</td><td>224.4200</td><td>226.6350</td><td>950900.0</td></tr></tbody></table></div>"
      ]
     },
     "metadata": {
      "application/vnd.databricks.v1+output": {
       "addedWidgets": {},
       "aggData": [],
       "aggError": "",
       "aggOverflow": false,
       "aggSchema": [],
       "aggSeriesLimitReached": false,
       "aggType": "",
       "arguments": {},
       "columnCustomDisplayInfos": {},
       "data": [
        [
         [
          "2024-10-04T00:00:00Z",
          "2024-10-05T00:00:00Z"
         ],
         "MSFT",
         null,
         "415.8800",
         "418.1800",
         "415.6025",
         "415.6550",
         115084.0
        ],
        [
         [
          "2024-10-04T00:00:00Z",
          "2024-10-05T00:00:00Z"
         ],
         "GOOGL",
         null,
         "166.9500",
         "167.0600",
         "164.5400",
         "166.8500",
         579984.0
        ],
        [
         [
          "2024-10-04T00:00:00Z",
          "2024-10-05T00:00:00Z"
         ],
         "AAPL",
         null,
         "226.3700",
         "226.8000",
         "224.4200",
         "226.6350",
         950900.0
        ]
       ],
       "datasetInfos": [],
       "dbfsResultPath": null,
       "isJsonSchema": true,
       "metadata": {
        "createTempViewForImplicitDf": true,
        "dataframeName": "_sqldf",
        "executionCount": 18
       },
       "overflow": false,
       "plotOptions": {
        "customPlotOptions": {},
        "displayType": "table",
        "pivotAggregation": null,
        "pivotColumns": null,
        "xColumns": null,
        "yColumns": null
       },
       "removedWidgets": [],
       "schema": [
        {
         "metadata": "{\"spark.timeWindow\":true}",
         "name": "window",
         "type": "{\"type\":\"struct\",\"fields\":[{\"name\":\"start\",\"type\":\"timestamp\",\"nullable\":true,\"metadata\":{}},{\"name\":\"end\",\"type\":\"timestamp\",\"nullable\":true,\"metadata\":{}}]}"
        },
        {
         "metadata": "{}",
         "name": "symbol",
         "type": "\"string\""
        },
        {
         "metadata": "{}",
         "name": "avg_price",
         "type": "\"double\""
        },
        {
         "metadata": "{}",
         "name": "open_price",
         "type": "\"string\""
        },
        {
         "metadata": "{}",
         "name": "high_price",
         "type": "\"string\""
        },
        {
         "metadata": "{}",
         "name": "low_price",
         "type": "\"string\""
        },
        {
         "metadata": "{}",
         "name": "close_price",
         "type": "\"string\""
        },
        {
         "metadata": "{}",
         "name": "daily_volume",
         "type": "\"double\""
        }
       ],
       "type": "table"
      }
     },
     "output_type": "display_data"
    }
   ],
   "source": [
    "%sql\n",
    "select * from kafka.gold.gold_stock_data"
   ]
  },
  {
   "cell_type": "markdown",
   "metadata": {
    "application/vnd.databricks.v1+cell": {
     "cellMetadata": {},
     "inputWidgets": {},
     "nuid": "de61cb1c-abbe-4dcb-8daa-44e3d12b3f6f",
     "showTitle": false,
     "title": ""
    }
   },
   "source": [
    "#-- Daily stock price aggregates"
   ]
  },
  {
   "cell_type": "code",
   "execution_count": 0,
   "metadata": {
    "application/vnd.databricks.v1+cell": {
     "cellMetadata": {
      "byteLimit": 2048000,
      "implicitDf": true,
      "rowLimit": 10000
     },
     "inputWidgets": {},
     "nuid": "fa299e71-ddbd-4f56-87fa-0025850aa681",
     "showTitle": false,
     "title": ""
    }
   },
   "outputs": [
    {
     "output_type": "display_data",
     "data": {
      "text/html": [
       "<style scoped>\n",
       "  .table-result-container {\n",
       "    max-height: 300px;\n",
       "    overflow: auto;\n",
       "  }\n",
       "  table, th, td {\n",
       "    border: 1px solid black;\n",
       "    border-collapse: collapse;\n",
       "  }\n",
       "  th, td {\n",
       "    padding: 5px;\n",
       "  }\n",
       "  th {\n",
       "    text-align: left;\n",
       "  }\n",
       "</style><div class='table-result-container'><table class='table-result'><thead style='background-color: white'><tr><th>num_affected_rows</th><th>num_inserted_rows</th></tr></thead><tbody></tbody></table></div>"
      ]
     },
     "metadata": {
      "application/vnd.databricks.v1+output": {
       "addedWidgets": {},
       "aggData": [],
       "aggError": "",
       "aggOverflow": false,
       "aggSchema": [],
       "aggSeriesLimitReached": false,
       "aggType": "",
       "arguments": {},
       "columnCustomDisplayInfos": {},
       "data": [],
       "datasetInfos": [],
       "dbfsResultPath": null,
       "isJsonSchema": true,
       "metadata": {
        "createTempViewForImplicitDf": true,
        "dataframeName": "_sqldf",
        "executionCount": 19
       },
       "overflow": false,
       "plotOptions": {
        "customPlotOptions": {},
        "displayType": "table",
        "pivotAggregation": null,
        "pivotColumns": null,
        "xColumns": null,
        "yColumns": null
       },
       "removedWidgets": [],
       "schema": [
        {
         "metadata": "{}",
         "name": "num_affected_rows",
         "type": "\"long\""
        },
        {
         "metadata": "{}",
         "name": "num_inserted_rows",
         "type": "\"long\""
        }
       ],
       "type": "table"
      }
     },
     "output_type": "display_data"
    }
   ],
   "source": [
    "%sql\n",
    "-- Daily stock price aggregates\n",
    "CREATE OR REPLACE TABLE kafka.gold.daily_stock_aggregates AS\n",
    "SELECT \n",
    "  symbol,\n",
    "  timestamp,\n",
    "  AVG(open) AS avg_open,\n",
    "  AVG(close) AS avg_close,\n",
    "  MAX(high) AS max_high,\n",
    "  MIN(low) AS min_low,\n",
    "  SUM(volume) AS total_volume\n",
    "FROM kafka.silver.silver_stock_data\n",
    "GROUP BY symbol, timestamp;\n"
   ]
  },
  {
   "cell_type": "markdown",
   "metadata": {
    "application/vnd.databricks.v1+cell": {
     "cellMetadata": {},
     "inputWidgets": {},
     "nuid": "ee8725a1-1925-4085-aab4-7b9dda3adb52",
     "showTitle": false,
     "title": ""
    }
   },
   "source": [
    "# Daily stock aggregation"
   ]
  },
  {
   "cell_type": "code",
   "execution_count": 0,
   "metadata": {
    "application/vnd.databricks.v1+cell": {
     "cellMetadata": {
      "byteLimit": 2048000,
      "implicitDf": true,
      "rowLimit": 10000
     },
     "inputWidgets": {},
     "nuid": "8593964e-c2b2-4fc0-9f5d-938b687b83c4",
     "showTitle": false,
     "title": ""
    }
   },
   "outputs": [
    {
     "output_type": "display_data",
     "data": {
      "text/html": [
       "<style scoped>\n",
       "  .table-result-container {\n",
       "    max-height: 300px;\n",
       "    overflow: auto;\n",
       "  }\n",
       "  table, th, td {\n",
       "    border: 1px solid black;\n",
       "    border-collapse: collapse;\n",
       "  }\n",
       "  th, td {\n",
       "    padding: 5px;\n",
       "  }\n",
       "  th {\n",
       "    text-align: left;\n",
       "  }\n",
       "</style><div class='table-result-container'><table class='table-result'><thead style='background-color: white'><tr><th>symbol</th><th>timestamp</th><th>avg_open</th><th>avg_close</th><th>max_high</th><th>min_low</th><th>total_volume</th></tr></thead><tbody><tr><td>AAPL</td><td>2024-10-04 19:48:00</td><td>226.43</td><td>226.48500000000007</td><td>226.4900</td><td>226.4200</td><td>1530.0</td></tr><tr><td>AAPL</td><td>2024-10-04 18:59:00</td><td>226.565</td><td>226.565</td><td>226.7000</td><td>226.5600</td><td>1290.0</td></tr><tr><td>AAPL</td><td>2024-10-04 18:55:00</td><td>226.54000000000002</td><td>226.53000000000003</td><td>226.5400</td><td>226.5300</td><td>550.0</td></tr><tr><td>AAPL</td><td>2024-10-04 18:39:00</td><td>226.53500000000003</td><td>226.53000000000003</td><td>226.6300</td><td>226.5300</td><td>7990.0</td></tr><tr><td>AAPL</td><td>2024-10-04 19:00:00</td><td>226.45</td><td>226.575</td><td>226.5750</td><td>226.4500</td><td>60.0</td></tr><tr><td>AAPL</td><td>2024-10-04 18:38:00</td><td>226.53500000000003</td><td>226.53500000000003</td><td>226.5400</td><td>226.5300</td><td>270.0</td></tr><tr><td>AAPL</td><td>2024-10-04 19:04:00</td><td>226.575</td><td>226.45</td><td>226.5750</td><td>226.4500</td><td>260.0</td></tr><tr><td>AAPL</td><td>2024-10-04 19:16:00</td><td>226.555</td><td>226.5</td><td>226.5550</td><td>226.5000</td><td>280.0</td></tr><tr><td>AAPL</td><td>2024-10-04 19:58:00</td><td>225.29000000000002</td><td>226.41890000000006</td><td>226.4600</td><td>225.2900</td><td>1450.0</td></tr><tr><td>AAPL</td><td>2024-10-04 19:38:00</td><td>226.45999999999998</td><td>226.45999999999998</td><td>226.4600</td><td>226.4600</td><td>360.0</td></tr><tr><td>AAPL</td><td>2024-10-04 19:55:00</td><td>226.45800000000003</td><td>226.45</td><td>226.4600</td><td>226.4220</td><td>4230.0</td></tr><tr><td>AAPL</td><td>2024-10-04 18:44:00</td><td>226.63999999999993</td><td>226.66000000000003</td><td>226.6600</td><td>226.6300</td><td>800.0</td></tr><tr><td>AAPL</td><td>2024-10-04 18:32:00</td><td>226.58999999999997</td><td>226.58499999999998</td><td>226.5900</td><td>226.5400</td><td>220.0</td></tr><tr><td>AAPL</td><td>2024-10-04 18:57:00</td><td>226.54000000000002</td><td>226.4982</td><td>226.5500</td><td>226.4800</td><td>17680.0</td></tr><tr><td>AAPL</td><td>2024-10-04 18:36:00</td><td>226.54950000000002</td><td>226.53000000000003</td><td>226.5500</td><td>226.5300</td><td>3180.0</td></tr><tr><td>AAPL</td><td>2024-10-04 19:10:00</td><td>226.49650000000003</td><td>226.5</td><td>226.5000</td><td>226.4965</td><td>60.0</td></tr><tr><td>AAPL</td><td>2024-10-04 18:40:00</td><td>226.57999999999998</td><td>226.57999999999998</td><td>226.5800</td><td>226.5300</td><td>400.0</td></tr><tr><td>AAPL</td><td>2024-10-04 19:27:00</td><td>226.53000000000003</td><td>226.45999999999998</td><td>226.5600</td><td>225.0100</td><td>8630.0</td></tr><tr><td>AAPL</td><td>2024-10-04 18:52:00</td><td>226.70999999999998</td><td>226.68</td><td>226.7300</td><td>226.6300</td><td>5190.0</td></tr><tr><td>AAPL</td><td>2024-10-04 18:27:00</td><td>226.57999999999998</td><td>226.65000000000003</td><td>226.6500</td><td>226.5212</td><td>350.0</td></tr><tr><td>AAPL</td><td>2024-10-04 19:07:00</td><td>226.54000000000002</td><td>226.54000000000002</td><td>226.5500</td><td>226.4500</td><td>90.0</td></tr><tr><td>AAPL</td><td>2024-10-04 19:21:00</td><td>226.59999999999997</td><td>226.57</td><td>226.6000</td><td>226.5600</td><td>1520.0</td></tr><tr><td>AAPL</td><td>2024-10-04 19:43:00</td><td>226.48500000000007</td><td>226.44</td><td>226.4850</td><td>226.4400</td><td>130.0</td></tr><tr><td>AAPL</td><td>2024-10-04 19:36:00</td><td>226.539</td><td>226.445</td><td>226.5472</td><td>226.4450</td><td>30240.0</td></tr><tr><td>AAPL</td><td>2024-10-04 18:30:00</td><td>226.52000000000004</td><td>226.63999999999993</td><td>226.6400</td><td>226.5200</td><td>600.0</td></tr><tr><td>AAPL</td><td>2024-10-04 19:13:00</td><td>226.555</td><td>226.54000000000002</td><td>226.6200</td><td>226.4900</td><td>2360.0</td></tr><tr><td>AAPL</td><td>2024-10-04 19:12:00</td><td>226.555</td><td>226.555</td><td>226.8000</td><td>226.5100</td><td>596090.0</td></tr><tr><td>AAPL</td><td>2024-10-04 19:40:00</td><td>226.45</td><td>226.43</td><td>226.4500</td><td>226.4200</td><td>2490.0</td></tr><tr><td>AAPL</td><td>2024-10-04 19:17:00</td><td>226.5</td><td>226.555</td><td>226.6167</td><td>226.4900</td><td>13650.0</td></tr><tr><td>AAPL</td><td>2024-10-04 19:01:00</td><td>226.7</td><td>226.575</td><td>226.7000</td><td>226.4500</td><td>170.0</td></tr><tr><td>AAPL</td><td>2024-10-04 18:29:00</td><td>226.58999999999997</td><td>226.58999999999997</td><td>226.6500</td><td>226.5300</td><td>5330.0</td></tr><tr><td>AAPL</td><td>2024-10-04 18:46:00</td><td>226.63999999999993</td><td>226.63999999999993</td><td>226.6800</td><td>226.6400</td><td>1930.0</td></tr><tr><td>AAPL</td><td>2024-10-04 18:26:00</td><td>226.61000000000007</td><td>226.63999999999993</td><td>226.6400</td><td>226.5800</td><td>2700.0</td></tr><tr><td>AAPL</td><td>2024-10-04 18:43:00</td><td>226.56</td><td>226.63000000000005</td><td>226.6300</td><td>226.5475</td><td>2150.0</td></tr><tr><td>AAPL</td><td>2024-10-04 19:24:00</td><td>226.57120000000003</td><td>226.58999999999997</td><td>226.5950</td><td>226.5712</td><td>40.0</td></tr><tr><td>AAPL</td><td>2024-10-04 19:35:00</td><td>226.565</td><td>226.44</td><td>226.5700</td><td>226.3300</td><td>49890.0</td></tr><tr><td>AAPL</td><td>2024-10-04 19:53:00</td><td>226.45999999999998</td><td>226.46999999999997</td><td>226.5000</td><td>226.4600</td><td>1520.0</td></tr><tr><td>AAPL</td><td>2024-10-04 19:44:00</td><td>226.48500000000007</td><td>226.48500000000007</td><td>226.5500</td><td>226.4200</td><td>1640.0</td></tr><tr><td>AAPL</td><td>2024-10-04 18:53:00</td><td>226.63000000000005</td><td>226.68</td><td>226.6900</td><td>226.6300</td><td>220.0</td></tr><tr><td>AAPL</td><td>2024-10-04 19:54:00</td><td>226.46999999999997</td><td>226.45999999999998</td><td>226.4700</td><td>226.4600</td><td>5190.0</td></tr><tr><td>AAPL</td><td>2024-10-04 19:14:00</td><td>226.49</td><td>226.54000000000002</td><td>226.6200</td><td>226.4900</td><td>530.0</td></tr><tr><td>AAPL</td><td>2024-10-04 18:51:00</td><td>226.65000000000003</td><td>226.70999999999998</td><td>226.7100</td><td>226.6400</td><td>31740.0</td></tr><tr><td>AAPL</td><td>2024-10-04 18:58:00</td><td>226.46499999999997</td><td>226.45</td><td>226.7000</td><td>226.4300</td><td>120.0</td></tr><tr><td>AAPL</td><td>2024-10-04 19:15:00</td><td>226.52000000000004</td><td>226.555</td><td>226.6200</td><td>226.4900</td><td>360.0</td></tr><tr><td>AAPL</td><td>2024-10-04 18:37:00</td><td>226.53000000000003</td><td>226.53000000000003</td><td>226.5400</td><td>226.5300</td><td>570.0</td></tr><tr><td>AAPL</td><td>2024-10-04 19:33:00</td><td>226.445</td><td>226.46499999999997</td><td>226.4650</td><td>226.3600</td><td>550.0</td></tr><tr><td>AAPL</td><td>2024-10-04 19:28:00</td><td>226.46999999999997</td><td>226.40000000000003</td><td>226.5100</td><td>226.2800</td><td>5600.0</td></tr><tr><td>AAPL</td><td>2024-10-04 19:06:00</td><td>226.59999999999997</td><td>226.55</td><td>226.6000</td><td>226.4500</td><td>140.0</td></tr><tr><td>AAPL</td><td>2024-10-04 18:22:00</td><td>226.61999999999995</td><td>226.58999999999997</td><td>226.6400</td><td>226.5600</td><td>3830.0</td></tr><tr><td>AAPL</td><td>2024-10-04 19:46:00</td><td>226.42080000000004</td><td>226.48500000000007</td><td>226.5500</td><td>226.4200</td><td>670.0</td></tr><tr><td>AAPL</td><td>2024-10-04 18:50:00</td><td>226.67000000000002</td><td>226.66500000000002</td><td>226.6900</td><td>226.6400</td><td>1970.0</td></tr><tr><td>AAPL</td><td>2024-10-04 18:34:00</td><td>226.55</td><td>226.575</td><td>226.5750</td><td>226.5300</td><td>410.0</td></tr><tr><td>AAPL</td><td>2024-10-04 18:20:00</td><td>226.635</td><td>226.635</td><td>226.6500</td><td>226.5600</td><td>60.0</td></tr><tr><td>AAPL</td><td>2024-10-04 19:50:00</td><td>226.42000000000002</td><td>226.48500000000007</td><td>226.5500</td><td>226.4200</td><td>180.0</td></tr><tr><td>AAPL</td><td>2024-10-04 19:05:00</td><td>226.47999999999996</td><td>226.57</td><td>226.6900</td><td>226.4500</td><td>160.0</td></tr><tr><td>AAPL</td><td>2024-10-04 18:31:00</td><td>226.59999999999997</td><td>226.58999999999997</td><td>226.6400</td><td>226.5400</td><td>950.0</td></tr><tr><td>AAPL</td><td>2024-10-04 19:56:00</td><td>226.44</td><td>226.36999999999995</td><td>226.4600</td><td>226.3700</td><td>21340.0</td></tr><tr><td>AAPL</td><td>2024-10-04 18:42:00</td><td>226.54000000000002</td><td>226.69</td><td>226.6900</td><td>226.5300</td><td>7850.0</td></tr><tr><td>AAPL</td><td>2024-10-04 19:49:00</td><td>226.42519999999996</td><td>226.48500000000007</td><td>226.5500</td><td>226.4252</td><td>270.0</td></tr><tr><td>AAPL</td><td>2024-10-04 19:51:00</td><td>226.45999999999998</td><td>226.45999999999998</td><td>226.4980</td><td>226.4200</td><td>800.0</td></tr><tr><td>AAPL</td><td>2024-10-04 18:45:00</td><td>226.66000000000003</td><td>226.69</td><td>226.6900</td><td>226.6300</td><td>5650.0</td></tr><tr><td>AAPL</td><td>2024-10-04 18:35:00</td><td>226.53500000000003</td><td>226.53000000000003</td><td>226.5400</td><td>226.5300</td><td>480.0</td></tr><tr><td>AAPL</td><td>2024-10-04 19:45:00</td><td>226.43</td><td>226.48500000000007</td><td>226.4900</td><td>226.4200</td><td>1120.0</td></tr><tr><td>AAPL</td><td>2024-10-04 19:31:00</td><td>225.13000000000005</td><td>226.445</td><td>226.4450</td><td>224.7100</td><td>1700.0</td></tr><tr><td>AAPL</td><td>2024-10-04 19:23:00</td><td>226.59999999999997</td><td>226.59999999999997</td><td>226.6000</td><td>226.5700</td><td>570.0</td></tr><tr><td>AAPL</td><td>2024-10-04 19:57:00</td><td>226.45930000000004</td><td>226.44</td><td>226.4593</td><td>226.3700</td><td>660.0</td></tr><tr><td>AAPL</td><td>2024-10-04 18:41:00</td><td>226.53230000000002</td><td>226.57999999999998</td><td>226.5800</td><td>226.5323</td><td>4680.0</td></tr><tr><td>AAPL</td><td>2024-10-04 19:59:00</td><td>226.36999999999995</td><td>226.41500000000002</td><td>226.4500</td><td>226.3700</td><td>2660.0</td></tr><tr><td>AAPL</td><td>2024-10-04 19:39:00</td><td>226.42000000000002</td><td>226.45</td><td>226.4600</td><td>226.4200</td><td>330.0</td></tr><tr><td>AAPL</td><td>2024-10-04 18:24:00</td><td>226.5245</td><td>226.61000000000007</td><td>226.6955</td><td>226.5200</td><td>100.0</td></tr><tr><td>AAPL</td><td>2024-10-04 19:03:00</td><td>226.575</td><td>226.56</td><td>226.5750</td><td>226.4700</td><td>90.0</td></tr><tr><td>AAPL</td><td>2024-10-04 19:29:00</td><td>226.33999999999997</td><td>226.31</td><td>226.5700</td><td>225.1100</td><td>1910.0</td></tr><tr><td>AAPL</td><td>2024-10-04 19:30:00</td><td>226.32999999999998</td><td>226.44</td><td>226.5700</td><td>226.3000</td><td>460.0</td></tr><tr><td>AAPL</td><td>2024-10-04 19:19:00</td><td>226.61999999999995</td><td>226.5707</td><td>226.6200</td><td>226.5700</td><td>1400.0</td></tr><tr><td>AAPL</td><td>2024-10-04 19:41:00</td><td>226.43</td><td>226.42109999999997</td><td>226.5500</td><td>226.4211</td><td>2530.0</td></tr><tr><td>AAPL</td><td>2024-10-04 18:23:00</td><td>226.58999999999997</td><td>226.65000000000003</td><td>226.6955</td><td>226.5200</td><td>1510.0</td></tr><tr><td>AAPL</td><td>2024-10-04 18:54:00</td><td>226.66000000000003</td><td>226.55</td><td>226.7255</td><td>226.5500</td><td>26170.0</td></tr><tr><td>AAPL</td><td>2024-10-04 19:34:00</td><td>226.57</td><td>226.49499999999995</td><td>226.5700</td><td>226.4201</td><td>280.0</td></tr><tr><td>AAPL</td><td>2024-10-04 19:20:00</td><td>226.57</td><td>226.57</td><td>226.6000</td><td>226.5700</td><td>2110.0</td></tr><tr><td>AAPL</td><td>2024-10-04 19:32:00</td><td>226.445</td><td>224.42000000000002</td><td>226.4450</td><td>224.4200</td><td>140.0</td></tr><tr><td>AAPL</td><td>2024-10-04 19:37:00</td><td>226.44</td><td>226.45999999999998</td><td>226.5500</td><td>226.3508</td><td>1010.0</td></tr><tr><td>AAPL</td><td>2024-10-04 18:28:00</td><td>226.58999999999997</td><td>226.58999999999997</td><td>226.5900</td><td>226.5300</td><td>630.0</td></tr><tr><td>AAPL</td><td>2024-10-04 19:09:00</td><td>226.63000000000005</td><td>226.54000000000002</td><td>226.6300</td><td>226.4800</td><td>50.0</td></tr><tr><td>AAPL</td><td>2024-10-04 19:25:00</td><td>226.61000000000007</td><td>226.53000000000003</td><td>226.6100</td><td>226.4900</td><td>1420.0</td></tr><tr><td>AAPL</td><td>2024-10-04 19:08:00</td><td>226.63000000000005</td><td>226.63000000000005</td><td>226.6300</td><td>226.5400</td><td>180.0</td></tr><tr><td>AAPL</td><td>2024-10-04 19:02:00</td><td>226.7</td><td>226.575</td><td>226.7000</td><td>226.4500</td><td>1120.0</td></tr><tr><td>AAPL</td><td>2024-10-04 18:48:00</td><td>226.66500000000002</td><td>226.66500000000002</td><td>226.6900</td><td>226.6400</td><td>4640.0</td></tr><tr><td>AAPL</td><td>2024-10-04 18:33:00</td><td>226.57</td><td>226.575</td><td>226.6300</td><td>226.5200</td><td>2050.0</td></tr><tr><td>AAPL</td><td>2024-10-04 19:42:00</td><td>226.55</td><td>226.48500000000007</td><td>226.5500</td><td>226.4200</td><td>1180.0</td></tr><tr><td>AAPL</td><td>2024-10-04 19:26:00</td><td>226.56</td><td>225.63999999999993</td><td>226.5600</td><td>225.6100</td><td>6340.0</td></tr><tr><td>AAPL</td><td>2024-10-04 18:21:00</td><td>226.61000000000007</td><td>226.56</td><td>226.6350</td><td>226.5600</td><td>70.0</td></tr><tr><td>AAPL</td><td>2024-10-04 18:49:00</td><td>226.66500000000002</td><td>226.67000000000002</td><td>226.6700</td><td>226.6400</td><td>620.0</td></tr><tr><td>AAPL</td><td>2024-10-04 18:47:00</td><td>226.68</td><td>226.67000000000002</td><td>226.6800</td><td>226.6400</td><td>130.0</td></tr><tr><td>AAPL</td><td>2024-10-04 19:18:00</td><td>226.555</td><td>226.59499999999997</td><td>226.6135</td><td>226.5550</td><td>1010.0</td></tr><tr><td>AAPL</td><td>2024-10-04 18:25:00</td><td>226.61000000000007</td><td>226.63990000000007</td><td>226.6910</td><td>226.5200</td><td>320.0</td></tr><tr><td>AAPL</td><td>2024-10-04 19:11:00</td><td>226.5</td><td>226.555</td><td>226.6135</td><td>226.4900</td><td>13750.0</td></tr><tr><td>AAPL</td><td>2024-10-04 19:22:00</td><td>226.59999999999997</td><td>226.59999999999997</td><td>226.6000</td><td>226.5850</td><td>1580.0</td></tr><tr><td>AAPL</td><td>2024-10-04 18:56:00</td><td>226.53000000000003</td><td>226.54000000000002</td><td>226.5500</td><td>226.5300</td><td>5320.0</td></tr><tr><td>AAPL</td><td>2024-10-04 19:52:00</td><td>226.45999999999998</td><td>226.45999999999998</td><td>226.4900</td><td>226.4600</td><td>1530.0</td></tr><tr><td>AAPL</td><td>2024-10-04 19:47:00</td><td>226.4278</td><td>226.48500000000007</td><td>226.5467</td><td>226.4239</td><td>2570.0</td></tr><tr><td>GOOGL</td><td>2024-10-04 19:22:00</td><td>166.87750000000003</td><td>166.82999999999998</td><td>166.8775</td><td>166.8300</td><td>252.0</td></tr><tr><td>GOOGL</td><td>2024-10-04 19:00:00</td><td>166.86999999999998</td><td>166.88000000000002</td><td>166.8800</td><td>166.8700</td><td>60.0</td></tr><tr><td>GOOGL</td><td>2024-10-04 19:56:00</td><td>166.98</td><td>164.99</td><td>166.9800</td><td>164.5400</td><td>3324.0</td></tr><tr><td>GOOGL</td><td>2024-10-04 18:48:00</td><td>166.79</td><td>166.81999999999996</td><td>166.8400</td><td>166.7900</td><td>6552.0</td></tr><tr><td>GOOGL</td><td>2024-10-04 19:38:00</td><td>166.86999999999998</td><td>166.88000000000002</td><td>166.8800</td><td>166.8700</td><td>1080.0</td></tr><tr><td>GOOGL</td><td>2024-10-04 19:32:00</td><td>166.88000000000002</td><td>166.88000000000002</td><td>166.8800</td><td>166.8700</td><td>744.0</td></tr><tr><td>GOOGL</td><td>2024-10-04 18:27:00</td><td>166.88000000000002</td><td>166.87879999999998</td><td>166.8800</td><td>166.8500</td><td>96.0</td></tr><tr><td>GOOGL</td><td>2024-10-04 18:15:00</td><td>166.84999999999997</td><td>166.88999999999996</td><td>166.8900</td><td>166.8500</td><td>60.0</td></tr><tr><td>GOOGL</td><td>2024-10-04 18:52:00</td><td>166.88000000000002</td><td>166.77</td><td>166.8800</td><td>166.7700</td><td>372.0</td></tr><tr><td>GOOGL</td><td>2024-10-04 19:55:00</td><td>166.86000000000004</td><td>166.90000000000003</td><td>166.9000</td><td>166.8600</td><td>7932.0</td></tr><tr><td>GOOGL</td><td>2024-10-04 18:16:00</td><td>166.88000000000002</td><td>166.82999999999998</td><td>166.8900</td><td>166.7827</td><td>7848.0</td></tr><tr><td>GOOGL</td><td>2024-10-04 19:26:00</td><td>166.86999999999998</td><td>166.87989999999996</td><td>166.8800</td><td>166.8700</td><td>108.0</td></tr><tr><td>GOOGL</td><td>2024-10-04 19:19:00</td><td>166.88000000000002</td><td>166.88000000000002</td><td>166.8800</td><td>166.8800</td><td>48.0</td></tr><tr><td>GOOGL</td><td>2024-10-04 18:39:00</td><td>166.83999999999997</td><td>166.83999999999997</td><td>166.8400</td><td>166.8300</td><td>132.0</td></tr><tr><td>GOOGL</td><td>2024-10-04 18:55:00</td><td>166.86999999999998</td><td>166.80999999999997</td><td>166.8700</td><td>166.8100</td><td>1092.0</td></tr><tr><td>GOOGL</td><td>2024-10-04 18:50:00</td><td>166.88000000000002</td><td>166.88000000000002</td><td>166.8800</td><td>166.8800</td><td>24.0</td></tr><tr><td>GOOGL</td><td>2024-10-04 18:21:00</td><td>166.88999999999996</td><td>166.88999999999996</td><td>166.8900</td><td>166.8800</td><td>60.0</td></tr><tr><td>GOOGL</td><td>2024-10-04 19:15:00</td><td>166.88999999999996</td><td>166.88000000000002</td><td>166.8900</td><td>166.8800</td><td>1176.0</td></tr><tr><td>GOOGL</td><td>2024-10-04 19:03:00</td><td>166.86999999999998</td><td>166.86999999999998</td><td>166.8700</td><td>166.8700</td><td>576.0</td></tr><tr><td>GOOGL</td><td>2024-10-04 19:41:00</td><td>166.88000000000002</td><td>166.88000000000002</td><td>166.8800</td><td>166.8700</td><td>432.0</td></tr><tr><td>GOOGL</td><td>2024-10-04 18:19:00</td><td>166.88999999999996</td><td>166.86000000000004</td><td>166.8900</td><td>166.8600</td><td>192.0</td></tr><tr><td>GOOGL</td><td>2024-10-04 18:32:00</td><td>166.77</td><td>166.88000000000002</td><td>166.8800</td><td>166.7700</td><td>1236.0</td></tr><tr><td>GOOGL</td><td>2024-10-04 19:28:00</td><td>165.11000000000004</td><td>165.11000000000004</td><td>165.1100</td><td>165.1100</td><td>108.0</td></tr><tr><td>GOOGL</td><td>2024-10-04 19:39:00</td><td>166.82999999999998</td><td>166.88000000000002</td><td>166.8800</td><td>166.8300</td><td>60.0</td></tr><tr><td>GOOGL</td><td>2024-10-04 18:38:00</td><td>166.84999999999997</td><td>166.83819999999997</td><td>166.8500</td><td>166.8382</td><td>36.0</td></tr><tr><td>GOOGL</td><td>2024-10-04 18:42:00</td><td>166.77</td><td>166.82500000000002</td><td>166.8400</td><td>166.7700</td><td>324.0</td></tr><tr><td>GOOGL</td><td>2024-10-04 19:16:00</td><td>166.88000000000002</td><td>166.88000000000002</td><td>166.8800</td><td>166.8800</td><td>768.0</td></tr><tr><td>GOOGL</td><td>2024-10-04 19:27:00</td><td>166.88000000000002</td><td>166.88000000000002</td><td>166.8800</td><td>166.8800</td><td>132.0</td></tr><tr><td>GOOGL</td><td>2024-10-04 18:12:00</td><td>166.88999999999996</td><td>166.88999999999996</td><td>166.8900</td><td>166.8800</td><td>336.0</td></tr><tr><td>GOOGL</td><td>2024-10-04 19:02:00</td><td>166.84999999999997</td><td>166.86999999999998</td><td>166.8800</td><td>166.8500</td><td>1380.0</td></tr><tr><td>GOOGL</td><td>2024-10-04 19:04:00</td><td>166.88000000000002</td><td>166.88000000000002</td><td>166.8800</td><td>166.8700</td><td>7416.0</td></tr><tr><td>GOOGL</td><td>2024-10-04 19:42:00</td><td>166.87989999999996</td><td>166.88000000000002</td><td>166.8800</td><td>166.8799</td><td>624.0</td></tr><tr><td>GOOGL</td><td>2024-10-04 19:59:00</td><td>166.95000000000002</td><td>166.97150000000002</td><td>166.9715</td><td>166.8900</td><td>1056.0</td></tr><tr><td>GOOGL</td><td>2024-10-04 19:11:00</td><td>166.95000000000002</td><td>166.90000000000003</td><td>166.9500</td><td>166.8900</td><td>384.0</td></tr><tr><td>GOOGL</td><td>2024-10-04 18:25:00</td><td>166.88000000000002</td><td>166.77</td><td>166.8800</td><td>166.7700</td><td>144.0</td></tr><tr><td>GOOGL</td><td>2024-10-04 18:56:00</td><td>166.88000000000002</td><td>166.84999999999997</td><td>166.8800</td><td>166.8200</td><td>1800.0</td></tr><tr><td>GOOGL</td><td>2024-10-04 19:49:00</td><td>166.86000000000004</td><td>166.86999999999998</td><td>166.8700</td><td>166.8600</td><td>72.0</td></tr><tr><td>GOOGL</td><td>2024-10-04 18:08:00</td><td>166.84999999999997</td><td>166.84999999999997</td><td>166.8500</td><td>166.8500</td><td>48.0</td></tr><tr><td>GOOGL</td><td>2024-10-04 19:21:00</td><td>166.88000000000002</td><td>166.88000000000002</td><td>166.8800</td><td>166.8800</td><td>36.0</td></tr><tr><td>GOOGL</td><td>2024-10-04 18:11:00</td><td>166.84999999999997</td><td>166.86999999999998</td><td>166.8900</td><td>166.8500</td><td>588.0</td></tr><tr><td>GOOGL</td><td>2024-10-04 18:49:00</td><td>166.81999999999996</td><td>166.88000000000002</td><td>166.8800</td><td>166.7755</td><td>3360.0</td></tr><tr><td>GOOGL</td><td>2024-10-04 19:17:00</td><td>166.87750000000003</td><td>166.88000000000002</td><td>166.8800</td><td>166.8775</td><td>828.0</td></tr><tr><td>GOOGL</td><td>2024-10-04 18:31:00</td><td>166.86999999999998</td><td>166.86999999999998</td><td>166.8700</td><td>166.8700</td><td>12.0</td></tr><tr><td>GOOGL</td><td>2024-10-04 18:51:00</td><td>166.88000000000002</td><td>166.77</td><td>166.8800</td><td>166.7700</td><td>204.0</td></tr><tr><td>GOOGL</td><td>2024-10-04 18:33:00</td><td>166.86000000000004</td><td>166.86999999999998</td><td>166.8700</td><td>166.8600</td><td>552.0</td></tr><tr><td>GOOGL</td><td>2024-10-04 18:44:00</td><td>166.83999999999997</td><td>166.83999999999997</td><td>166.8400</td><td>166.8394</td><td>84.0</td></tr><tr><td>GOOGL</td><td>2024-10-04 18:18:00</td><td>166.82999999999998</td><td>166.82999999999998</td><td>166.8600</td><td>166.8300</td><td>108.0</td></tr><tr><td>GOOGL</td><td>2024-10-04 19:47:00</td><td>166.82749999999996</td><td>166.84999999999997</td><td>166.8500</td><td>166.8275</td><td>1380.0</td></tr><tr><td>GOOGL</td><td>2024-10-04 19:40:00</td><td>166.82999999999998</td><td>166.88000000000002</td><td>166.8800</td><td>166.8300</td><td>852.0</td></tr><tr><td>GOOGL</td><td>2024-10-04 18:26:00</td><td>166.86999999999998</td><td>166.88000000000002</td><td>166.8800</td><td>166.8700</td><td>360.0</td></tr><tr><td>GOOGL</td><td>2024-10-04 19:37:00</td><td>166.78</td><td>166.83999999999997</td><td>166.8800</td><td>166.7800</td><td>1872.0</td></tr><tr><td>GOOGL</td><td>2024-10-04 19:01:00</td><td>166.86999999999998</td><td>166.88000000000002</td><td>166.8800</td><td>166.8500</td><td>5028.0</td></tr><tr><td>GOOGL</td><td>2024-10-04 18:43:00</td><td>166.83999999999997</td><td>166.83999999999997</td><td>166.8400</td><td>166.7735</td><td>9552.0</td></tr><tr><td>GOOGL</td><td>2024-10-04 18:13:00</td><td>166.88999999999996</td><td>166.88999999999996</td><td>166.8900</td><td>166.8900</td><td>4176.0</td></tr><tr><td>GOOGL</td><td>2024-10-04 19:43:00</td><td>166.83019999999996</td><td>166.83019999999996</td><td>166.8302</td><td>166.8302</td><td>1200.0</td></tr><tr><td>GOOGL</td><td>2024-10-04 18:30:00</td><td>166.86999999999998</td><td>166.86999999999998</td><td>166.8700</td><td>166.8700</td><td>24.0</td></tr><tr><td>GOOGL</td><td>2024-10-04 18:57:00</td><td>166.88000000000002</td><td>166.88000000000002</td><td>166.8800</td><td>166.8214</td><td>696.0</td></tr><tr><td>GOOGL</td><td>2024-10-04 18:35:00</td><td>166.84999999999997</td><td>166.86999999999998</td><td>166.8700</td><td>166.8500</td><td>180.0</td></tr><tr><td>GOOGL</td><td>2024-10-04 19:51:00</td><td>166.87799999999996</td><td>166.80400000000003</td><td>166.8800</td><td>166.8040</td><td>264.0</td></tr><tr><td>GOOGL</td><td>2024-10-04 18:23:00</td><td>166.86999999999998</td><td>166.83120000000002</td><td>166.8700</td><td>166.8312</td><td>48.0</td></tr><tr><td>GOOGL</td><td>2024-10-04 19:36:00</td><td>166.86999999999998</td><td>166.82269999999997</td><td>166.8700</td><td>166.8227</td><td>780.0</td></tr><tr><td>GOOGL</td><td>2024-10-04 18:47:00</td><td>166.83999999999997</td><td>166.83999999999997</td><td>166.8400</td><td>166.8400</td><td>24.0</td></tr><tr><td>GOOGL</td><td>2024-10-04 19:05:00</td><td>166.88000000000002</td><td>166.88000000000002</td><td>166.8800</td><td>166.8800</td><td>72.0</td></tr><tr><td>GOOGL</td><td>2024-10-04 19:25:00</td><td>166.78</td><td>166.88000000000002</td><td>166.8800</td><td>166.7800</td><td>1224.0</td></tr><tr><td>GOOGL</td><td>2024-10-04 18:22:00</td><td>166.86999999999998</td><td>166.86999999999998</td><td>166.8800</td><td>166.8500</td><td>564.0</td></tr><tr><td>GOOGL</td><td>2024-10-04 19:54:00</td><td>166.86000000000004</td><td>166.86999999999998</td><td>166.8700</td><td>166.8600</td><td>252.0</td></tr><tr><td>GOOGL</td><td>2024-10-04 19:50:00</td><td>166.86000000000004</td><td>166.87969999999999</td><td>166.8797</td><td>166.8283</td><td>1428.0</td></tr><tr><td>GOOGL</td><td>2024-10-04 18:41:00</td><td>166.82999999999998</td><td>166.83999999999997</td><td>166.8400</td><td>166.7700</td><td>564.0</td></tr><tr><td>GOOGL</td><td>2024-10-04 18:40:00</td><td>166.83999999999997</td><td>166.83999999999997</td><td>166.8400</td><td>166.8400</td><td>600.0</td></tr><tr><td>GOOGL</td><td>2024-10-04 19:35:00</td><td>166.88000000000002</td><td>166.88000000000002</td><td>166.8800</td><td>166.8800</td><td>120.0</td></tr><tr><td>GOOGL</td><td>2024-10-04 19:57:00</td><td>166.93000000000004</td><td>166.98</td><td>166.9800</td><td>166.8800</td><td>5736.0</td></tr><tr><td>GOOGL</td><td>2024-10-04 19:44:00</td><td>166.88000000000002</td><td>166.88000000000002</td><td>166.8800</td><td>166.8800</td><td>1860.0</td></tr><tr><td>GOOGL</td><td>2024-10-04 19:46:00</td><td>166.82999999999998</td><td>166.86999999999998</td><td>166.8700</td><td>166.8300</td><td>132.0</td></tr><tr><td>GOOGL</td><td>2024-10-04 19:53:00</td><td>166.79999999999998</td><td>166.79999999999998</td><td>166.8000</td><td>166.8000</td><td>12.0</td></tr><tr><td>GOOGL</td><td>2024-10-04 18:24:00</td><td>166.88000000000002</td><td>166.88000000000002</td><td>166.8800</td><td>166.8800</td><td>12.0</td></tr><tr><td>GOOGL</td><td>2024-10-04 18:09:00</td><td>166.84999999999997</td><td>166.89989999999997</td><td>166.9000</td><td>166.8500</td><td>22560.0</td></tr><tr><td>GOOGL</td><td>2024-10-04 18:59:00</td><td>166.88000000000002</td><td>166.88000000000002</td><td>166.8800</td><td>166.8800</td><td>2412.0</td></tr><tr><td>GOOGL</td><td>2024-10-04 19:52:00</td><td>166.84999999999997</td><td>166.88000000000002</td><td>166.8800</td><td>166.8500</td><td>420.0</td></tr><tr><td>GOOGL</td><td>2024-10-04 19:08:00</td><td>166.88000000000002</td><td>166.7943</td><td>167.0000</td><td>166.7943</td><td>2664.0</td></tr><tr><td>GOOGL</td><td>2024-10-04 19:09:00</td><td>166.88000000000002</td><td>166.93000000000004</td><td>167.0000</td><td>166.8800</td><td>1224.0</td></tr><tr><td>GOOGL</td><td>2024-10-04 19:58:00</td><td>166.88000000000002</td><td>166.90000000000003</td><td>166.9766</td><td>166.8800</td><td>5640.0</td></tr><tr><td>GOOGL</td><td>2024-10-04 19:30:00</td><td>166.88000000000002</td><td>166.88000000000002</td><td>166.8800</td><td>166.8800</td><td>624.0</td></tr><tr><td>GOOGL</td><td>2024-10-04 19:31:00</td><td>166.876</td><td>165.31999999999996</td><td>166.8760</td><td>165.3200</td><td>480.0</td></tr><tr><td>GOOGL</td><td>2024-10-04 19:06:00</td><td>166.82179999999997</td><td>167.0</td><td>167.0000</td><td>166.8218</td><td>240.0</td></tr><tr><td>GOOGL</td><td>2024-10-04 19:13:00</td><td>166.9918</td><td>166.9918</td><td>166.9918</td><td>166.9918</td><td>3000.0</td></tr><tr><td>GOOGL</td><td>2024-10-04 19:33:00</td><td>166.88000000000002</td><td>166.88000000000002</td><td>166.8800</td><td>166.8800</td><td>36.0</td></tr><tr><td>GOOGL</td><td>2024-10-04 19:12:00</td><td>166.93000000000004</td><td>166.93000000000004</td><td>167.0600</td><td>166.9300</td><td>437616.0</td></tr><tr><td>GOOGL</td><td>2024-10-04 18:46:00</td><td>166.7735</td><td>166.83999999999997</td><td>166.8400</td><td>166.7735</td><td>696.0</td></tr><tr><td>GOOGL</td><td>2024-10-04 18:45:00</td><td>166.83999999999997</td><td>166.83999999999997</td><td>166.8400</td><td>166.7700</td><td>636.0</td></tr><tr><td>GOOGL</td><td>2024-10-04 19:34:00</td><td>166.80009999999996</td><td>166.86999999999998</td><td>166.8800</td><td>166.8000</td><td>2196.0</td></tr><tr><td>GOOGL</td><td>2024-10-04 19:20:00</td><td>166.88000000000002</td><td>166.88000000000002</td><td>166.8800</td><td>166.7825</td><td>648.0</td></tr><tr><td>GOOGL</td><td>2024-10-04 18:37:00</td><td>166.84999999999997</td><td>166.84999999999997</td><td>166.8500</td><td>166.8500</td><td>120.0</td></tr><tr><td>GOOGL</td><td>2024-10-04 18:10:00</td><td>166.84999999999997</td><td>166.90000000000003</td><td>166.9000</td><td>166.8500</td><td>72.0</td></tr><tr><td>GOOGL</td><td>2024-10-04 18:28:00</td><td>166.86000000000004</td><td>166.7952</td><td>166.8799</td><td>166.7952</td><td>3084.0</td></tr><tr><td>GOOGL</td><td>2024-10-04 19:29:00</td><td>166.88000000000002</td><td>166.86999999999998</td><td>166.8800</td><td>166.8354</td><td>1104.0</td></tr><tr><td>GOOGL</td><td>2024-10-04 19:14:00</td><td>166.95000000000002</td><td>166.94000000000003</td><td>166.9500</td><td>166.9400</td><td>36.0</td></tr><tr><td>GOOGL</td><td>2024-10-04 18:20:00</td><td>166.88000000000002</td><td>166.83120000000002</td><td>166.8800</td><td>166.8312</td><td>36.0</td></tr><tr><td>GOOGL</td><td>2024-10-04 18:36:00</td><td>166.84999999999997</td><td>166.84999999999997</td><td>166.8500</td><td>166.8500</td><td>684.0</td></tr><tr><td>GOOGL</td><td>2024-10-04 18:58:00</td><td>166.86999999999998</td><td>166.86999999999998</td><td>166.8793</td><td>166.8700</td><td>576.0</td></tr><tr><td>GOOGL</td><td>2024-10-04 19:45:00</td><td>166.88000000000002</td><td>166.88000000000002</td><td>166.8800</td><td>166.8800</td><td>312.0</td></tr><tr><td>MSFT</td><td>2024-10-04 19:38:00</td><td>415.84999999999997</td><td>415.84</td><td>415.8500</td><td>415.8300</td><td>1206.0</td></tr><tr><td>MSFT</td><td>2024-10-04 19:42:00</td><td>415.75500000000005</td><td>415.785</td><td>415.8500</td><td>415.7400</td><td>2106.0</td></tr><tr><td>MSFT</td><td>2024-10-04 18:44:00</td><td>415.95</td><td>415.95</td><td>415.9500</td><td>415.8400</td><td>350.0</td></tr><tr><td>MSFT</td><td>2024-10-04 18:31:00</td><td>415.61</td><td>415.7</td><td>415.7000</td><td>415.6100</td><td>745.0</td></tr><tr><td>MSFT</td><td>2024-10-04 19:16:00</td><td>415.8412</td><td>415.86549999999994</td><td>415.8700</td><td>415.8250</td><td>756.0</td></tr><tr><td>MSFT</td><td>2024-10-04 18:25:00</td><td>415.69</td><td>415.69</td><td>415.7000</td><td>415.6500</td><td>664.0</td></tr><tr><td>MSFT</td><td>2024-10-04 19:07:00</td><td>415.86999999999995</td><td>415.76499999999993</td><td>415.8700</td><td>415.7650</td><td>150.0</td></tr><tr><td>MSFT</td><td>2024-10-04 19:26:00</td><td>415.82</td><td>415.82</td><td>418.1800</td><td>415.8200</td><td>2598.0</td></tr><tr><td>MSFT</td><td>2024-10-04 18:23:00</td><td>415.65</td><td>415.65</td><td>415.7700</td><td>415.6025</td><td>304.0</td></tr><tr><td>MSFT</td><td>2024-10-04 19:03:00</td><td>415.87</td><td>415.7200000000001</td><td>415.9000</td><td>415.7200</td><td>345.0</td></tr><tr><td>MSFT</td><td>2024-10-04 18:58:00</td><td>415.85</td><td>415.805</td><td>415.9000</td><td>415.8000</td><td>1635.0</td></tr><tr><td>MSFT</td><td>2024-10-04 18:21:00</td><td>415.6999</td><td>415.6986</td><td>415.7000</td><td>415.6500</td><td>328.0</td></tr><tr><td>MSFT</td><td>2024-10-04 19:24:00</td><td>415.825</td><td>415.8</td><td>415.8500</td><td>415.8000</td><td>2532.0</td></tr><tr><td>MSFT</td><td>2024-10-04 19:20:00</td><td>415.825</td><td>415.825</td><td>415.8700</td><td>415.7800</td><td>144.0</td></tr><tr><td>MSFT</td><td>2024-10-04 18:54:00</td><td>415.87</td><td>415.9</td><td>415.9400</td><td>415.8700</td><td>210.0</td></tr><tr><td>MSFT</td><td>2024-10-04 19:19:00</td><td>415.86000000000007</td><td>415.825</td><td>415.8600</td><td>415.8150</td><td>246.0</td></tr><tr><td>MSFT</td><td>2024-10-04 18:51:00</td><td>415.91999999999996</td><td>415.875</td><td>415.9500</td><td>415.8500</td><td>535.0</td></tr><tr><td>MSFT</td><td>2024-10-04 18:53:00</td><td>415.875</td><td>415.87</td><td>415.9400</td><td>415.8075</td><td>380.0</td></tr><tr><td>MSFT</td><td>2024-10-04 19:59:00</td><td>415.88000000000005</td><td>415.815</td><td>415.9000</td><td>415.8150</td><td>2316.0</td></tr><tr><td>MSFT</td><td>2024-10-04 18:30:00</td><td>415.7</td><td>415.7</td><td>415.7000</td><td>415.6550</td><td>560.0</td></tr><tr><td>MSFT</td><td>2024-10-04 18:32:00</td><td>415.7</td><td>415.68999999999994</td><td>415.7000</td><td>415.6100</td><td>1925.0</td></tr><tr><td>MSFT</td><td>2024-10-04 19:04:00</td><td>415.81000000000006</td><td>415.81000000000006</td><td>415.8100</td><td>415.7290</td><td>520.0</td></tr><tr><td>MSFT</td><td>2024-10-04 19:34:00</td><td>415.84920000000005</td><td>415.84009999999995</td><td>415.8500</td><td>415.8350</td><td>1122.0</td></tr><tr><td>MSFT</td><td>2024-10-04 19:09:00</td><td>415.84</td><td>415.785</td><td>415.8500</td><td>415.7850</td><td>210.0</td></tr><tr><td>MSFT</td><td>2024-10-04 19:46:00</td><td>415.8</td><td>415.84999999999997</td><td>415.9200</td><td>415.8000</td><td>132.0</td></tr><tr><td>MSFT</td><td>2024-10-04 19:33:00</td><td>415.83</td><td>415.83</td><td>416.4500</td><td>415.8300</td><td>1806.0</td></tr><tr><td>MSFT</td><td>2024-10-04 19:35:00</td><td>415.84</td><td>415.835</td><td>415.8400</td><td>415.8350</td><td>66.0</td></tr><tr><td>MSFT</td><td>2024-10-04 19:18:00</td><td>415.86999999999995</td><td>415.86999999999995</td><td>415.8700</td><td>415.8250</td><td>204.0</td></tr><tr><td>MSFT</td><td>2024-10-04 18:49:00</td><td>415.93999999999994</td><td>415.875</td><td>415.9400</td><td>415.8750</td><td>595.0</td></tr><tr><td>MSFT</td><td>2024-10-04 19:08:00</td><td>415.81</td><td>415.785</td><td>415.8400</td><td>415.7650</td><td>282.0</td></tr><tr><td>MSFT</td><td>2024-10-04 19:10:00</td><td>415.815</td><td>415.84999999999997</td><td>415.8500</td><td>415.8100</td><td>360.0</td></tr><tr><td>MSFT</td><td>2024-10-04 19:50:00</td><td>415.82</td><td>415.92</td><td>415.9200</td><td>415.8200</td><td>276.0</td></tr><tr><td>MSFT</td><td>2024-10-04 19:45:00</td><td>415.94</td><td>415.84999999999997</td><td>415.9400</td><td>415.8300</td><td>1956.0</td></tr><tr><td>MSFT</td><td>2024-10-04 19:39:00</td><td>415.84</td><td>415.84999999999997</td><td>415.8500</td><td>415.8300</td><td>324.0</td></tr><tr><td>MSFT</td><td>2024-10-04 18:46:00</td><td>415.84</td><td>415.8</td><td>415.9500</td><td>415.8000</td><td>185.0</td></tr><tr><td>MSFT</td><td>2024-10-04 19:27:00</td><td>415.84920000000005</td><td>415.82</td><td>418.0700</td><td>415.8000</td><td>570.0</td></tr><tr><td>MSFT</td><td>2024-10-04 19:22:00</td><td>415.835</td><td>415.8</td><td>415.8700</td><td>415.8000</td><td>1890.0</td></tr><tr><td>MSFT</td><td>2024-10-04 18:33:00</td><td>415.66999999999996</td><td>415.66999999999996</td><td>415.6900</td><td>415.6700</td><td>30.0</td></tr><tr><td>MSFT</td><td>2024-10-04 18:52:00</td><td>415.95</td><td>415.8</td><td>415.9500</td><td>415.8000</td><td>585.0</td></tr><tr><td>MSFT</td><td>2024-10-04 18:27:00</td><td>415.6549999999999</td><td>415.6145</td><td>415.7000</td><td>415.6145</td><td>445.0</td></tr><tr><td>MSFT</td><td>2024-10-04 19:58:00</td><td>415.86000000000007</td><td>415.88000000000005</td><td>417.2700</td><td>415.8500</td><td>3954.0</td></tr><tr><td>MSFT</td><td>2024-10-04 18:35:00</td><td>415.7</td><td>415.7</td><td>415.7000</td><td>415.6700</td><td>630.0</td></tr><tr><td>MSFT</td><td>2024-10-04 19:37:00</td><td>415.84</td><td>415.83</td><td>415.8500</td><td>415.8300</td><td>420.0</td></tr><tr><td>MSFT</td><td>2024-10-04 19:44:00</td><td>415.8</td><td>415.81</td><td>415.9400</td><td>415.7600</td><td>750.0</td></tr><tr><td>MSFT</td><td>2024-10-04 18:41:00</td><td>415.73999999999995</td><td>415.73999999999995</td><td>415.7400</td><td>415.7200</td><td>285.0</td></tr><tr><td>MSFT</td><td>2024-10-04 19:23:00</td><td>415.8622</td><td>415.84999999999997</td><td>415.8700</td><td>415.8200</td><td>714.0</td></tr><tr><td>MSFT</td><td>2024-10-04 19:11:00</td><td>415.82</td><td>415.825</td><td>415.8300</td><td>415.7800</td><td>222.0</td></tr><tr><td>MSFT</td><td>2024-10-04 19:52:00</td><td>415.86999999999995</td><td>415.86999999999995</td><td>415.9000</td><td>415.7600</td><td>708.0</td></tr><tr><td>MSFT</td><td>2024-10-04 19:55:00</td><td>415.84999999999997</td><td>415.86999999999995</td><td>415.9200</td><td>415.7500</td><td>558.0</td></tr><tr><td>MSFT</td><td>2024-10-04 19:49:00</td><td>415.82</td><td>415.84999999999997</td><td>415.9100</td><td>415.8200</td><td>192.0</td></tr><tr><td>MSFT</td><td>2024-10-04 18:22:00</td><td>415.7</td><td>415.62</td><td>415.7000</td><td>415.6092</td><td>2512.0</td></tr><tr><td>MSFT</td><td>2024-10-04 19:43:00</td><td>415.84999999999997</td><td>415.84999999999997</td><td>415.8500</td><td>415.7850</td><td>246.0</td></tr><tr><td>MSFT</td><td>2024-10-04 18:28:00</td><td>415.7</td><td>415.7</td><td>415.7000</td><td>415.6550</td><td>440.0</td></tr><tr><td>MSFT</td><td>2024-10-04 19:36:00</td><td>415.8485</td><td>415.84</td><td>415.8500</td><td>415.8350</td><td>228.0</td></tr><tr><td>MSFT</td><td>2024-10-04 19:51:00</td><td>415.86000000000007</td><td>415.825</td><td>415.9199</td><td>415.7300</td><td>438.0</td></tr><tr><td>MSFT</td><td>2024-10-04 18:26:00</td><td>415.6549999999999</td><td>415.6549999999999</td><td>415.7800</td><td>415.6100</td><td>235.0</td></tr><tr><td>MSFT</td><td>2024-10-04 19:54:00</td><td>415.825</td><td>415.92</td><td>415.9200</td><td>415.8250</td><td>252.0</td></tr><tr><td>MSFT</td><td>2024-10-04 18:29:00</td><td>415.7</td><td>415.7</td><td>415.7000</td><td>415.6550</td><td>3015.0</td></tr><tr><td>MSFT</td><td>2024-10-04 19:41:00</td><td>415.84</td><td>415.7865</td><td>415.8500</td><td>415.7550</td><td>3630.0</td></tr><tr><td>MSFT</td><td>2024-10-04 19:31:00</td><td>417.71</td><td>415.83</td><td>417.7100</td><td>415.8200</td><td>1920.0</td></tr><tr><td>MSFT</td><td>2024-10-04 18:37:00</td><td>415.68999999999994</td><td>415.7</td><td>415.7100</td><td>415.6900</td><td>960.0</td></tr><tr><td>MSFT</td><td>2024-10-04 18:55:00</td><td>415.87</td><td>415.83000000000004</td><td>415.9000</td><td>415.8300</td><td>445.0</td></tr><tr><td>MSFT</td><td>2024-10-04 18:24:00</td><td>415.65</td><td>415.68</td><td>415.7000</td><td>415.6500</td><td>268.0</td></tr><tr><td>MSFT</td><td>2024-10-04 19:56:00</td><td>415.86999999999995</td><td>415.8450000000001</td><td>417.5100</td><td>415.8450</td><td>618.0</td></tr><tr><td>MSFT</td><td>2024-10-04 19:00:00</td><td>415.9</td><td>415.8</td><td>415.9000</td><td>415.8000</td><td>95.0</td></tr><tr><td>MSFT</td><td>2024-10-04 19:13:00</td><td>416.93</td><td>415.86999999999995</td><td>416.9300</td><td>415.8200</td><td>2958.0</td></tr><tr><td>MSFT</td><td>2024-10-04 18:34:00</td><td>415.68999999999994</td><td>415.7</td><td>415.7000</td><td>415.6700</td><td>305.0</td></tr><tr><td>MSFT</td><td>2024-10-04 18:57:00</td><td>415.88</td><td>415.8992999999999</td><td>415.8999</td><td>415.8500</td><td>170.0</td></tr><tr><td>MSFT</td><td>2024-10-04 19:29:00</td><td>415.84</td><td>415.835</td><td>417.5600</td><td>415.8350</td><td>960.0</td></tr><tr><td>MSFT</td><td>2024-10-04 18:59:00</td><td>415.9</td><td>415.805</td><td>415.9000</td><td>415.8000</td><td>195.0</td></tr><tr><td>MSFT</td><td>2024-10-04 19:30:00</td><td>415.84999999999997</td><td>415.82</td><td>415.8500</td><td>415.8200</td><td>870.0</td></tr><tr><td>MSFT</td><td>2024-10-04 19:53:00</td><td>415.88000000000005</td><td>415.88000000000005</td><td>415.8800</td><td>415.8250</td><td>258.0</td></tr><tr><td>MSFT</td><td>2024-10-04 18:36:00</td><td>415.68999999999994</td><td>415.7</td><td>415.7000</td><td>415.6900</td><td>145.0</td></tr><tr><td>MSFT</td><td>2024-10-04 18:39:00</td><td>415.73999999999995</td><td>415.7099999999999</td><td>415.7400</td><td>415.7100</td><td>910.0</td></tr><tr><td>MSFT</td><td>2024-10-04 18:47:00</td><td>415.95</td><td>415.95</td><td>415.9500</td><td>415.8400</td><td>825.0</td></tr><tr><td>MSFT</td><td>2024-10-04 19:40:00</td><td>415.84999999999997</td><td>415.84999999999997</td><td>415.8500</td><td>415.8215</td><td>348.0</td></tr><tr><td>MSFT</td><td>2024-10-04 19:47:00</td><td>415.82</td><td>415.82</td><td>415.8500</td><td>415.7500</td><td>408.0</td></tr><tr><td>MSFT</td><td>2024-10-04 19:12:00</td><td>415.86999999999995</td><td>415.79</td><td>416.0600</td><td>415.7900</td><td>22386.0</td></tr><tr><td>MSFT</td><td>2024-10-04 19:02:00</td><td>415.9</td><td>415.8</td><td>415.9000</td><td>415.7800</td><td>130.0</td></tr><tr><td>MSFT</td><td>2024-10-04 19:17:00</td><td>415.86769999999996</td><td>415.8699</td><td>415.8700</td><td>415.8250</td><td>816.0</td></tr><tr><td>MSFT</td><td>2024-10-04 19:05:00</td><td>415.81000000000006</td><td>415.87</td><td>415.9000</td><td>415.8100</td><td>155.0</td></tr><tr><td>MSFT</td><td>2024-10-04 19:06:00</td><td>415.86999999999995</td><td>415.86999999999995</td><td>415.9000</td><td>415.8100</td><td>192.0</td></tr><tr><td>MSFT</td><td>2024-10-04 19:32:00</td><td>415.83</td><td>415.83</td><td>415.8500</td><td>415.8200</td><td>1086.0</td></tr><tr><td>MSFT</td><td>2024-10-04 19:15:00</td><td>415.825</td><td>415.825</td><td>415.8250</td><td>415.8250</td><td>12.0</td></tr><tr><td>MSFT</td><td>2024-10-04 19:01:00</td><td>415.805</td><td>415.8999</td><td>415.8999</td><td>415.7100</td><td>320.0</td></tr><tr><td>MSFT</td><td>2024-10-04 19:25:00</td><td>415.84999999999997</td><td>415.82</td><td>415.8500</td><td>415.8000</td><td>744.0</td></tr><tr><td>MSFT</td><td>2024-10-04 19:57:00</td><td>415.86999999999995</td><td>415.89989999999995</td><td>415.9500</td><td>415.8450</td><td>9372.0</td></tr><tr><td>MSFT</td><td>2024-10-04 19:14:00</td><td>415.825</td><td>415.86999999999995</td><td>416.7800</td><td>415.7800</td><td>162.0</td></tr><tr><td>MSFT</td><td>2024-10-04 19:21:00</td><td>415.84</td><td>415.8</td><td>415.8500</td><td>415.8000</td><td>1908.0</td></tr><tr><td>MSFT</td><td>2024-10-04 18:48:00</td><td>415.84</td><td>415.91999999999996</td><td>415.9500</td><td>415.8400</td><td>210.0</td></tr><tr><td>MSFT</td><td>2024-10-04 18:43:00</td><td>415.9335</td><td>415.84</td><td>415.9500</td><td>415.8400</td><td>1195.0</td></tr><tr><td>MSFT</td><td>2024-10-04 19:28:00</td><td>415.82</td><td>415.84999999999997</td><td>416.2600</td><td>415.8200</td><td>360.0</td></tr><tr><td>MSFT</td><td>2024-10-04 19:48:00</td><td>415.82</td><td>415.82</td><td>415.9200</td><td>415.7700</td><td>144.0</td></tr><tr><td>MSFT</td><td>2024-10-04 18:45:00</td><td>415.95</td><td>415.84</td><td>415.9500</td><td>415.8000</td><td>305.0</td></tr><tr><td>MSFT</td><td>2024-10-04 18:42:00</td><td>415.7200000000001</td><td>415.84</td><td>415.9500</td><td>415.7200</td><td>4685.0</td></tr><tr><td>MSFT</td><td>2024-10-04 18:56:00</td><td>415.83000000000004</td><td>415.895</td><td>415.8950</td><td>415.8300</td><td>45.0</td></tr><tr><td>MSFT</td><td>2024-10-04 18:40:00</td><td>415.7099999999999</td><td>415.73999999999995</td><td>415.7400</td><td>415.7100</td><td>160.0</td></tr><tr><td>MSFT</td><td>2024-10-04 18:50:00</td><td>415.95</td><td>415.95</td><td>415.9500</td><td>415.8750</td><td>180.0</td></tr><tr><td>MSFT</td><td>2024-10-04 18:38:00</td><td>415.68999999999994</td><td>415.7099999999999</td><td>415.7400</td><td>415.6800</td><td>6165.0</td></tr><tr><td>MSFT</td><td>2024-10-04 18:20:00</td><td>415.7</td><td>415.65</td><td>415.7100</td><td>415.6200</td><td>672.0</td></tr></tbody></table></div>"
      ]
     },
     "metadata": {
      "application/vnd.databricks.v1+output": {
       "addedWidgets": {},
       "aggData": [],
       "aggError": "",
       "aggOverflow": false,
       "aggSchema": [],
       "aggSeriesLimitReached": false,
       "aggType": "",
       "arguments": {},
       "columnCustomDisplayInfos": {},
       "data": [
        [
         "AAPL",
         "2024-10-04 19:48:00",
         226.43,
         226.48500000000007,
         "226.4900",
         "226.4200",
         1530.0
        ],
        [
         "AAPL",
         "2024-10-04 18:59:00",
         226.565,
         226.565,
         "226.7000",
         "226.5600",
         1290.0
        ],
        [
         "AAPL",
         "2024-10-04 18:55:00",
         226.54000000000002,
         226.53000000000003,
         "226.5400",
         "226.5300",
         550.0
        ],
        [
         "AAPL",
         "2024-10-04 18:39:00",
         226.53500000000003,
         226.53000000000003,
         "226.6300",
         "226.5300",
         7990.0
        ],
        [
         "AAPL",
         "2024-10-04 19:00:00",
         226.45,
         226.575,
         "226.5750",
         "226.4500",
         60.0
        ],
        [
         "AAPL",
         "2024-10-04 18:38:00",
         226.53500000000003,
         226.53500000000003,
         "226.5400",
         "226.5300",
         270.0
        ],
        [
         "AAPL",
         "2024-10-04 19:04:00",
         226.575,
         226.45,
         "226.5750",
         "226.4500",
         260.0
        ],
        [
         "AAPL",
         "2024-10-04 19:16:00",
         226.555,
         226.5,
         "226.5550",
         "226.5000",
         280.0
        ],
        [
         "AAPL",
         "2024-10-04 19:58:00",
         225.29000000000002,
         226.41890000000006,
         "226.4600",
         "225.2900",
         1450.0
        ],
        [
         "AAPL",
         "2024-10-04 19:38:00",
         226.45999999999998,
         226.45999999999998,
         "226.4600",
         "226.4600",
         360.0
        ],
        [
         "AAPL",
         "2024-10-04 19:55:00",
         226.45800000000003,
         226.45,
         "226.4600",
         "226.4220",
         4230.0
        ],
        [
         "AAPL",
         "2024-10-04 18:44:00",
         226.63999999999993,
         226.66000000000003,
         "226.6600",
         "226.6300",
         800.0
        ],
        [
         "AAPL",
         "2024-10-04 18:32:00",
         226.58999999999997,
         226.58499999999998,
         "226.5900",
         "226.5400",
         220.0
        ],
        [
         "AAPL",
         "2024-10-04 18:57:00",
         226.54000000000002,
         226.4982,
         "226.5500",
         "226.4800",
         17680.0
        ],
        [
         "AAPL",
         "2024-10-04 18:36:00",
         226.54950000000002,
         226.53000000000003,
         "226.5500",
         "226.5300",
         3180.0
        ],
        [
         "AAPL",
         "2024-10-04 19:10:00",
         226.49650000000003,
         226.5,
         "226.5000",
         "226.4965",
         60.0
        ],
        [
         "AAPL",
         "2024-10-04 18:40:00",
         226.57999999999998,
         226.57999999999998,
         "226.5800",
         "226.5300",
         400.0
        ],
        [
         "AAPL",
         "2024-10-04 19:27:00",
         226.53000000000003,
         226.45999999999998,
         "226.5600",
         "225.0100",
         8630.0
        ],
        [
         "AAPL",
         "2024-10-04 18:52:00",
         226.70999999999998,
         226.68,
         "226.7300",
         "226.6300",
         5190.0
        ],
        [
         "AAPL",
         "2024-10-04 18:27:00",
         226.57999999999998,
         226.65000000000003,
         "226.6500",
         "226.5212",
         350.0
        ],
        [
         "AAPL",
         "2024-10-04 19:07:00",
         226.54000000000002,
         226.54000000000002,
         "226.5500",
         "226.4500",
         90.0
        ],
        [
         "AAPL",
         "2024-10-04 19:21:00",
         226.59999999999997,
         226.57,
         "226.6000",
         "226.5600",
         1520.0
        ],
        [
         "AAPL",
         "2024-10-04 19:43:00",
         226.48500000000007,
         226.44,
         "226.4850",
         "226.4400",
         130.0
        ],
        [
         "AAPL",
         "2024-10-04 19:36:00",
         226.539,
         226.445,
         "226.5472",
         "226.4450",
         30240.0
        ],
        [
         "AAPL",
         "2024-10-04 18:30:00",
         226.52000000000004,
         226.63999999999993,
         "226.6400",
         "226.5200",
         600.0
        ],
        [
         "AAPL",
         "2024-10-04 19:13:00",
         226.555,
         226.54000000000002,
         "226.6200",
         "226.4900",
         2360.0
        ],
        [
         "AAPL",
         "2024-10-04 19:12:00",
         226.555,
         226.555,
         "226.8000",
         "226.5100",
         596090.0
        ],
        [
         "AAPL",
         "2024-10-04 19:40:00",
         226.45,
         226.43,
         "226.4500",
         "226.4200",
         2490.0
        ],
        [
         "AAPL",
         "2024-10-04 19:17:00",
         226.5,
         226.555,
         "226.6167",
         "226.4900",
         13650.0
        ],
        [
         "AAPL",
         "2024-10-04 19:01:00",
         226.7,
         226.575,
         "226.7000",
         "226.4500",
         170.0
        ],
        [
         "AAPL",
         "2024-10-04 18:29:00",
         226.58999999999997,
         226.58999999999997,
         "226.6500",
         "226.5300",
         5330.0
        ],
        [
         "AAPL",
         "2024-10-04 18:46:00",
         226.63999999999993,
         226.63999999999993,
         "226.6800",
         "226.6400",
         1930.0
        ],
        [
         "AAPL",
         "2024-10-04 18:26:00",
         226.61000000000007,
         226.63999999999993,
         "226.6400",
         "226.5800",
         2700.0
        ],
        [
         "AAPL",
         "2024-10-04 18:43:00",
         226.56,
         226.63000000000005,
         "226.6300",
         "226.5475",
         2150.0
        ],
        [
         "AAPL",
         "2024-10-04 19:24:00",
         226.57120000000003,
         226.58999999999997,
         "226.5950",
         "226.5712",
         40.0
        ],
        [
         "AAPL",
         "2024-10-04 19:35:00",
         226.565,
         226.44,
         "226.5700",
         "226.3300",
         49890.0
        ],
        [
         "AAPL",
         "2024-10-04 19:53:00",
         226.45999999999998,
         226.46999999999997,
         "226.5000",
         "226.4600",
         1520.0
        ],
        [
         "AAPL",
         "2024-10-04 19:44:00",
         226.48500000000007,
         226.48500000000007,
         "226.5500",
         "226.4200",
         1640.0
        ],
        [
         "AAPL",
         "2024-10-04 18:53:00",
         226.63000000000005,
         226.68,
         "226.6900",
         "226.6300",
         220.0
        ],
        [
         "AAPL",
         "2024-10-04 19:54:00",
         226.46999999999997,
         226.45999999999998,
         "226.4700",
         "226.4600",
         5190.0
        ],
        [
         "AAPL",
         "2024-10-04 19:14:00",
         226.49,
         226.54000000000002,
         "226.6200",
         "226.4900",
         530.0
        ],
        [
         "AAPL",
         "2024-10-04 18:51:00",
         226.65000000000003,
         226.70999999999998,
         "226.7100",
         "226.6400",
         31740.0
        ],
        [
         "AAPL",
         "2024-10-04 18:58:00",
         226.46499999999997,
         226.45,
         "226.7000",
         "226.4300",
         120.0
        ],
        [
         "AAPL",
         "2024-10-04 19:15:00",
         226.52000000000004,
         226.555,
         "226.6200",
         "226.4900",
         360.0
        ],
        [
         "AAPL",
         "2024-10-04 18:37:00",
         226.53000000000003,
         226.53000000000003,
         "226.5400",
         "226.5300",
         570.0
        ],
        [
         "AAPL",
         "2024-10-04 19:33:00",
         226.445,
         226.46499999999997,
         "226.4650",
         "226.3600",
         550.0
        ],
        [
         "AAPL",
         "2024-10-04 19:28:00",
         226.46999999999997,
         226.40000000000003,
         "226.5100",
         "226.2800",
         5600.0
        ],
        [
         "AAPL",
         "2024-10-04 19:06:00",
         226.59999999999997,
         226.55,
         "226.6000",
         "226.4500",
         140.0
        ],
        [
         "AAPL",
         "2024-10-04 18:22:00",
         226.61999999999995,
         226.58999999999997,
         "226.6400",
         "226.5600",
         3830.0
        ],
        [
         "AAPL",
         "2024-10-04 19:46:00",
         226.42080000000004,
         226.48500000000007,
         "226.5500",
         "226.4200",
         670.0
        ],
        [
         "AAPL",
         "2024-10-04 18:50:00",
         226.67000000000002,
         226.66500000000002,
         "226.6900",
         "226.6400",
         1970.0
        ],
        [
         "AAPL",
         "2024-10-04 18:34:00",
         226.55,
         226.575,
         "226.5750",
         "226.5300",
         410.0
        ],
        [
         "AAPL",
         "2024-10-04 18:20:00",
         226.635,
         226.635,
         "226.6500",
         "226.5600",
         60.0
        ],
        [
         "AAPL",
         "2024-10-04 19:50:00",
         226.42000000000002,
         226.48500000000007,
         "226.5500",
         "226.4200",
         180.0
        ],
        [
         "AAPL",
         "2024-10-04 19:05:00",
         226.47999999999996,
         226.57,
         "226.6900",
         "226.4500",
         160.0
        ],
        [
         "AAPL",
         "2024-10-04 18:31:00",
         226.59999999999997,
         226.58999999999997,
         "226.6400",
         "226.5400",
         950.0
        ],
        [
         "AAPL",
         "2024-10-04 19:56:00",
         226.44,
         226.36999999999995,
         "226.4600",
         "226.3700",
         21340.0
        ],
        [
         "AAPL",
         "2024-10-04 18:42:00",
         226.54000000000002,
         226.69,
         "226.6900",
         "226.5300",
         7850.0
        ],
        [
         "AAPL",
         "2024-10-04 19:49:00",
         226.42519999999996,
         226.48500000000007,
         "226.5500",
         "226.4252",
         270.0
        ],
        [
         "AAPL",
         "2024-10-04 19:51:00",
         226.45999999999998,
         226.45999999999998,
         "226.4980",
         "226.4200",
         800.0
        ],
        [
         "AAPL",
         "2024-10-04 18:45:00",
         226.66000000000003,
         226.69,
         "226.6900",
         "226.6300",
         5650.0
        ],
        [
         "AAPL",
         "2024-10-04 18:35:00",
         226.53500000000003,
         226.53000000000003,
         "226.5400",
         "226.5300",
         480.0
        ],
        [
         "AAPL",
         "2024-10-04 19:45:00",
         226.43,
         226.48500000000007,
         "226.4900",
         "226.4200",
         1120.0
        ],
        [
         "AAPL",
         "2024-10-04 19:31:00",
         225.13000000000005,
         226.445,
         "226.4450",
         "224.7100",
         1700.0
        ],
        [
         "AAPL",
         "2024-10-04 19:23:00",
         226.59999999999997,
         226.59999999999997,
         "226.6000",
         "226.5700",
         570.0
        ],
        [
         "AAPL",
         "2024-10-04 19:57:00",
         226.45930000000004,
         226.44,
         "226.4593",
         "226.3700",
         660.0
        ],
        [
         "AAPL",
         "2024-10-04 18:41:00",
         226.53230000000002,
         226.57999999999998,
         "226.5800",
         "226.5323",
         4680.0
        ],
        [
         "AAPL",
         "2024-10-04 19:59:00",
         226.36999999999995,
         226.41500000000002,
         "226.4500",
         "226.3700",
         2660.0
        ],
        [
         "AAPL",
         "2024-10-04 19:39:00",
         226.42000000000002,
         226.45,
         "226.4600",
         "226.4200",
         330.0
        ],
        [
         "AAPL",
         "2024-10-04 18:24:00",
         226.5245,
         226.61000000000007,
         "226.6955",
         "226.5200",
         100.0
        ],
        [
         "AAPL",
         "2024-10-04 19:03:00",
         226.575,
         226.56,
         "226.5750",
         "226.4700",
         90.0
        ],
        [
         "AAPL",
         "2024-10-04 19:29:00",
         226.33999999999997,
         226.31,
         "226.5700",
         "225.1100",
         1910.0
        ],
        [
         "AAPL",
         "2024-10-04 19:30:00",
         226.32999999999998,
         226.44,
         "226.5700",
         "226.3000",
         460.0
        ],
        [
         "AAPL",
         "2024-10-04 19:19:00",
         226.61999999999995,
         226.5707,
         "226.6200",
         "226.5700",
         1400.0
        ],
        [
         "AAPL",
         "2024-10-04 19:41:00",
         226.43,
         226.42109999999997,
         "226.5500",
         "226.4211",
         2530.0
        ],
        [
         "AAPL",
         "2024-10-04 18:23:00",
         226.58999999999997,
         226.65000000000003,
         "226.6955",
         "226.5200",
         1510.0
        ],
        [
         "AAPL",
         "2024-10-04 18:54:00",
         226.66000000000003,
         226.55,
         "226.7255",
         "226.5500",
         26170.0
        ],
        [
         "AAPL",
         "2024-10-04 19:34:00",
         226.57,
         226.49499999999995,
         "226.5700",
         "226.4201",
         280.0
        ],
        [
         "AAPL",
         "2024-10-04 19:20:00",
         226.57,
         226.57,
         "226.6000",
         "226.5700",
         2110.0
        ],
        [
         "AAPL",
         "2024-10-04 19:32:00",
         226.445,
         224.42000000000002,
         "226.4450",
         "224.4200",
         140.0
        ],
        [
         "AAPL",
         "2024-10-04 19:37:00",
         226.44,
         226.45999999999998,
         "226.5500",
         "226.3508",
         1010.0
        ],
        [
         "AAPL",
         "2024-10-04 18:28:00",
         226.58999999999997,
         226.58999999999997,
         "226.5900",
         "226.5300",
         630.0
        ],
        [
         "AAPL",
         "2024-10-04 19:09:00",
         226.63000000000005,
         226.54000000000002,
         "226.6300",
         "226.4800",
         50.0
        ],
        [
         "AAPL",
         "2024-10-04 19:25:00",
         226.61000000000007,
         226.53000000000003,
         "226.6100",
         "226.4900",
         1420.0
        ],
        [
         "AAPL",
         "2024-10-04 19:08:00",
         226.63000000000005,
         226.63000000000005,
         "226.6300",
         "226.5400",
         180.0
        ],
        [
         "AAPL",
         "2024-10-04 19:02:00",
         226.7,
         226.575,
         "226.7000",
         "226.4500",
         1120.0
        ],
        [
         "AAPL",
         "2024-10-04 18:48:00",
         226.66500000000002,
         226.66500000000002,
         "226.6900",
         "226.6400",
         4640.0
        ],
        [
         "AAPL",
         "2024-10-04 18:33:00",
         226.57,
         226.575,
         "226.6300",
         "226.5200",
         2050.0
        ],
        [
         "AAPL",
         "2024-10-04 19:42:00",
         226.55,
         226.48500000000007,
         "226.5500",
         "226.4200",
         1180.0
        ],
        [
         "AAPL",
         "2024-10-04 19:26:00",
         226.56,
         225.63999999999993,
         "226.5600",
         "225.6100",
         6340.0
        ],
        [
         "AAPL",
         "2024-10-04 18:21:00",
         226.61000000000007,
         226.56,
         "226.6350",
         "226.5600",
         70.0
        ],
        [
         "AAPL",
         "2024-10-04 18:49:00",
         226.66500000000002,
         226.67000000000002,
         "226.6700",
         "226.6400",
         620.0
        ],
        [
         "AAPL",
         "2024-10-04 18:47:00",
         226.68,
         226.67000000000002,
         "226.6800",
         "226.6400",
         130.0
        ],
        [
         "AAPL",
         "2024-10-04 19:18:00",
         226.555,
         226.59499999999997,
         "226.6135",
         "226.5550",
         1010.0
        ],
        [
         "AAPL",
         "2024-10-04 18:25:00",
         226.61000000000007,
         226.63990000000007,
         "226.6910",
         "226.5200",
         320.0
        ],
        [
         "AAPL",
         "2024-10-04 19:11:00",
         226.5,
         226.555,
         "226.6135",
         "226.4900",
         13750.0
        ],
        [
         "AAPL",
         "2024-10-04 19:22:00",
         226.59999999999997,
         226.59999999999997,
         "226.6000",
         "226.5850",
         1580.0
        ],
        [
         "AAPL",
         "2024-10-04 18:56:00",
         226.53000000000003,
         226.54000000000002,
         "226.5500",
         "226.5300",
         5320.0
        ],
        [
         "AAPL",
         "2024-10-04 19:52:00",
         226.45999999999998,
         226.45999999999998,
         "226.4900",
         "226.4600",
         1530.0
        ],
        [
         "AAPL",
         "2024-10-04 19:47:00",
         226.4278,
         226.48500000000007,
         "226.5467",
         "226.4239",
         2570.0
        ],
        [
         "GOOGL",
         "2024-10-04 19:22:00",
         166.87750000000003,
         166.82999999999998,
         "166.8775",
         "166.8300",
         252.0
        ],
        [
         "GOOGL",
         "2024-10-04 19:00:00",
         166.86999999999998,
         166.88000000000002,
         "166.8800",
         "166.8700",
         60.0
        ],
        [
         "GOOGL",
         "2024-10-04 19:56:00",
         166.98,
         164.99,
         "166.9800",
         "164.5400",
         3324.0
        ],
        [
         "GOOGL",
         "2024-10-04 18:48:00",
         166.79,
         166.81999999999996,
         "166.8400",
         "166.7900",
         6552.0
        ],
        [
         "GOOGL",
         "2024-10-04 19:38:00",
         166.86999999999998,
         166.88000000000002,
         "166.8800",
         "166.8700",
         1080.0
        ],
        [
         "GOOGL",
         "2024-10-04 19:32:00",
         166.88000000000002,
         166.88000000000002,
         "166.8800",
         "166.8700",
         744.0
        ],
        [
         "GOOGL",
         "2024-10-04 18:27:00",
         166.88000000000002,
         166.87879999999998,
         "166.8800",
         "166.8500",
         96.0
        ],
        [
         "GOOGL",
         "2024-10-04 18:15:00",
         166.84999999999997,
         166.88999999999996,
         "166.8900",
         "166.8500",
         60.0
        ],
        [
         "GOOGL",
         "2024-10-04 18:52:00",
         166.88000000000002,
         166.77,
         "166.8800",
         "166.7700",
         372.0
        ],
        [
         "GOOGL",
         "2024-10-04 19:55:00",
         166.86000000000004,
         166.90000000000003,
         "166.9000",
         "166.8600",
         7932.0
        ],
        [
         "GOOGL",
         "2024-10-04 18:16:00",
         166.88000000000002,
         166.82999999999998,
         "166.8900",
         "166.7827",
         7848.0
        ],
        [
         "GOOGL",
         "2024-10-04 19:26:00",
         166.86999999999998,
         166.87989999999996,
         "166.8800",
         "166.8700",
         108.0
        ],
        [
         "GOOGL",
         "2024-10-04 19:19:00",
         166.88000000000002,
         166.88000000000002,
         "166.8800",
         "166.8800",
         48.0
        ],
        [
         "GOOGL",
         "2024-10-04 18:39:00",
         166.83999999999997,
         166.83999999999997,
         "166.8400",
         "166.8300",
         132.0
        ],
        [
         "GOOGL",
         "2024-10-04 18:55:00",
         166.86999999999998,
         166.80999999999997,
         "166.8700",
         "166.8100",
         1092.0
        ],
        [
         "GOOGL",
         "2024-10-04 18:50:00",
         166.88000000000002,
         166.88000000000002,
         "166.8800",
         "166.8800",
         24.0
        ],
        [
         "GOOGL",
         "2024-10-04 18:21:00",
         166.88999999999996,
         166.88999999999996,
         "166.8900",
         "166.8800",
         60.0
        ],
        [
         "GOOGL",
         "2024-10-04 19:15:00",
         166.88999999999996,
         166.88000000000002,
         "166.8900",
         "166.8800",
         1176.0
        ],
        [
         "GOOGL",
         "2024-10-04 19:03:00",
         166.86999999999998,
         166.86999999999998,
         "166.8700",
         "166.8700",
         576.0
        ],
        [
         "GOOGL",
         "2024-10-04 19:41:00",
         166.88000000000002,
         166.88000000000002,
         "166.8800",
         "166.8700",
         432.0
        ],
        [
         "GOOGL",
         "2024-10-04 18:19:00",
         166.88999999999996,
         166.86000000000004,
         "166.8900",
         "166.8600",
         192.0
        ],
        [
         "GOOGL",
         "2024-10-04 18:32:00",
         166.77,
         166.88000000000002,
         "166.8800",
         "166.7700",
         1236.0
        ],
        [
         "GOOGL",
         "2024-10-04 19:28:00",
         165.11000000000004,
         165.11000000000004,
         "165.1100",
         "165.1100",
         108.0
        ],
        [
         "GOOGL",
         "2024-10-04 19:39:00",
         166.82999999999998,
         166.88000000000002,
         "166.8800",
         "166.8300",
         60.0
        ],
        [
         "GOOGL",
         "2024-10-04 18:38:00",
         166.84999999999997,
         166.83819999999997,
         "166.8500",
         "166.8382",
         36.0
        ],
        [
         "GOOGL",
         "2024-10-04 18:42:00",
         166.77,
         166.82500000000002,
         "166.8400",
         "166.7700",
         324.0
        ],
        [
         "GOOGL",
         "2024-10-04 19:16:00",
         166.88000000000002,
         166.88000000000002,
         "166.8800",
         "166.8800",
         768.0
        ],
        [
         "GOOGL",
         "2024-10-04 19:27:00",
         166.88000000000002,
         166.88000000000002,
         "166.8800",
         "166.8800",
         132.0
        ],
        [
         "GOOGL",
         "2024-10-04 18:12:00",
         166.88999999999996,
         166.88999999999996,
         "166.8900",
         "166.8800",
         336.0
        ],
        [
         "GOOGL",
         "2024-10-04 19:02:00",
         166.84999999999997,
         166.86999999999998,
         "166.8800",
         "166.8500",
         1380.0
        ],
        [
         "GOOGL",
         "2024-10-04 19:04:00",
         166.88000000000002,
         166.88000000000002,
         "166.8800",
         "166.8700",
         7416.0
        ],
        [
         "GOOGL",
         "2024-10-04 19:42:00",
         166.87989999999996,
         166.88000000000002,
         "166.8800",
         "166.8799",
         624.0
        ],
        [
         "GOOGL",
         "2024-10-04 19:59:00",
         166.95000000000002,
         166.97150000000002,
         "166.9715",
         "166.8900",
         1056.0
        ],
        [
         "GOOGL",
         "2024-10-04 19:11:00",
         166.95000000000002,
         166.90000000000003,
         "166.9500",
         "166.8900",
         384.0
        ],
        [
         "GOOGL",
         "2024-10-04 18:25:00",
         166.88000000000002,
         166.77,
         "166.8800",
         "166.7700",
         144.0
        ],
        [
         "GOOGL",
         "2024-10-04 18:56:00",
         166.88000000000002,
         166.84999999999997,
         "166.8800",
         "166.8200",
         1800.0
        ],
        [
         "GOOGL",
         "2024-10-04 19:49:00",
         166.86000000000004,
         166.86999999999998,
         "166.8700",
         "166.8600",
         72.0
        ],
        [
         "GOOGL",
         "2024-10-04 18:08:00",
         166.84999999999997,
         166.84999999999997,
         "166.8500",
         "166.8500",
         48.0
        ],
        [
         "GOOGL",
         "2024-10-04 19:21:00",
         166.88000000000002,
         166.88000000000002,
         "166.8800",
         "166.8800",
         36.0
        ],
        [
         "GOOGL",
         "2024-10-04 18:11:00",
         166.84999999999997,
         166.86999999999998,
         "166.8900",
         "166.8500",
         588.0
        ],
        [
         "GOOGL",
         "2024-10-04 18:49:00",
         166.81999999999996,
         166.88000000000002,
         "166.8800",
         "166.7755",
         3360.0
        ],
        [
         "GOOGL",
         "2024-10-04 19:17:00",
         166.87750000000003,
         166.88000000000002,
         "166.8800",
         "166.8775",
         828.0
        ],
        [
         "GOOGL",
         "2024-10-04 18:31:00",
         166.86999999999998,
         166.86999999999998,
         "166.8700",
         "166.8700",
         12.0
        ],
        [
         "GOOGL",
         "2024-10-04 18:51:00",
         166.88000000000002,
         166.77,
         "166.8800",
         "166.7700",
         204.0
        ],
        [
         "GOOGL",
         "2024-10-04 18:33:00",
         166.86000000000004,
         166.86999999999998,
         "166.8700",
         "166.8600",
         552.0
        ],
        [
         "GOOGL",
         "2024-10-04 18:44:00",
         166.83999999999997,
         166.83999999999997,
         "166.8400",
         "166.8394",
         84.0
        ],
        [
         "GOOGL",
         "2024-10-04 18:18:00",
         166.82999999999998,
         166.82999999999998,
         "166.8600",
         "166.8300",
         108.0
        ],
        [
         "GOOGL",
         "2024-10-04 19:47:00",
         166.82749999999996,
         166.84999999999997,
         "166.8500",
         "166.8275",
         1380.0
        ],
        [
         "GOOGL",
         "2024-10-04 19:40:00",
         166.82999999999998,
         166.88000000000002,
         "166.8800",
         "166.8300",
         852.0
        ],
        [
         "GOOGL",
         "2024-10-04 18:26:00",
         166.86999999999998,
         166.88000000000002,
         "166.8800",
         "166.8700",
         360.0
        ],
        [
         "GOOGL",
         "2024-10-04 19:37:00",
         166.78,
         166.83999999999997,
         "166.8800",
         "166.7800",
         1872.0
        ],
        [
         "GOOGL",
         "2024-10-04 19:01:00",
         166.86999999999998,
         166.88000000000002,
         "166.8800",
         "166.8500",
         5028.0
        ],
        [
         "GOOGL",
         "2024-10-04 18:43:00",
         166.83999999999997,
         166.83999999999997,
         "166.8400",
         "166.7735",
         9552.0
        ],
        [
         "GOOGL",
         "2024-10-04 18:13:00",
         166.88999999999996,
         166.88999999999996,
         "166.8900",
         "166.8900",
         4176.0
        ],
        [
         "GOOGL",
         "2024-10-04 19:43:00",
         166.83019999999996,
         166.83019999999996,
         "166.8302",
         "166.8302",
         1200.0
        ],
        [
         "GOOGL",
         "2024-10-04 18:30:00",
         166.86999999999998,
         166.86999999999998,
         "166.8700",
         "166.8700",
         24.0
        ],
        [
         "GOOGL",
         "2024-10-04 18:57:00",
         166.88000000000002,
         166.88000000000002,
         "166.8800",
         "166.8214",
         696.0
        ],
        [
         "GOOGL",
         "2024-10-04 18:35:00",
         166.84999999999997,
         166.86999999999998,
         "166.8700",
         "166.8500",
         180.0
        ],
        [
         "GOOGL",
         "2024-10-04 19:51:00",
         166.87799999999996,
         166.80400000000003,
         "166.8800",
         "166.8040",
         264.0
        ],
        [
         "GOOGL",
         "2024-10-04 18:23:00",
         166.86999999999998,
         166.83120000000002,
         "166.8700",
         "166.8312",
         48.0
        ],
        [
         "GOOGL",
         "2024-10-04 19:36:00",
         166.86999999999998,
         166.82269999999997,
         "166.8700",
         "166.8227",
         780.0
        ],
        [
         "GOOGL",
         "2024-10-04 18:47:00",
         166.83999999999997,
         166.83999999999997,
         "166.8400",
         "166.8400",
         24.0
        ],
        [
         "GOOGL",
         "2024-10-04 19:05:00",
         166.88000000000002,
         166.88000000000002,
         "166.8800",
         "166.8800",
         72.0
        ],
        [
         "GOOGL",
         "2024-10-04 19:25:00",
         166.78,
         166.88000000000002,
         "166.8800",
         "166.7800",
         1224.0
        ],
        [
         "GOOGL",
         "2024-10-04 18:22:00",
         166.86999999999998,
         166.86999999999998,
         "166.8800",
         "166.8500",
         564.0
        ],
        [
         "GOOGL",
         "2024-10-04 19:54:00",
         166.86000000000004,
         166.86999999999998,
         "166.8700",
         "166.8600",
         252.0
        ],
        [
         "GOOGL",
         "2024-10-04 19:50:00",
         166.86000000000004,
         166.87969999999999,
         "166.8797",
         "166.8283",
         1428.0
        ],
        [
         "GOOGL",
         "2024-10-04 18:41:00",
         166.82999999999998,
         166.83999999999997,
         "166.8400",
         "166.7700",
         564.0
        ],
        [
         "GOOGL",
         "2024-10-04 18:40:00",
         166.83999999999997,
         166.83999999999997,
         "166.8400",
         "166.8400",
         600.0
        ],
        [
         "GOOGL",
         "2024-10-04 19:35:00",
         166.88000000000002,
         166.88000000000002,
         "166.8800",
         "166.8800",
         120.0
        ],
        [
         "GOOGL",
         "2024-10-04 19:57:00",
         166.93000000000004,
         166.98,
         "166.9800",
         "166.8800",
         5736.0
        ],
        [
         "GOOGL",
         "2024-10-04 19:44:00",
         166.88000000000002,
         166.88000000000002,
         "166.8800",
         "166.8800",
         1860.0
        ],
        [
         "GOOGL",
         "2024-10-04 19:46:00",
         166.82999999999998,
         166.86999999999998,
         "166.8700",
         "166.8300",
         132.0
        ],
        [
         "GOOGL",
         "2024-10-04 19:53:00",
         166.79999999999998,
         166.79999999999998,
         "166.8000",
         "166.8000",
         12.0
        ],
        [
         "GOOGL",
         "2024-10-04 18:24:00",
         166.88000000000002,
         166.88000000000002,
         "166.8800",
         "166.8800",
         12.0
        ],
        [
         "GOOGL",
         "2024-10-04 18:09:00",
         166.84999999999997,
         166.89989999999997,
         "166.9000",
         "166.8500",
         22560.0
        ],
        [
         "GOOGL",
         "2024-10-04 18:59:00",
         166.88000000000002,
         166.88000000000002,
         "166.8800",
         "166.8800",
         2412.0
        ],
        [
         "GOOGL",
         "2024-10-04 19:52:00",
         166.84999999999997,
         166.88000000000002,
         "166.8800",
         "166.8500",
         420.0
        ],
        [
         "GOOGL",
         "2024-10-04 19:08:00",
         166.88000000000002,
         166.7943,
         "167.0000",
         "166.7943",
         2664.0
        ],
        [
         "GOOGL",
         "2024-10-04 19:09:00",
         166.88000000000002,
         166.93000000000004,
         "167.0000",
         "166.8800",
         1224.0
        ],
        [
         "GOOGL",
         "2024-10-04 19:58:00",
         166.88000000000002,
         166.90000000000003,
         "166.9766",
         "166.8800",
         5640.0
        ],
        [
         "GOOGL",
         "2024-10-04 19:30:00",
         166.88000000000002,
         166.88000000000002,
         "166.8800",
         "166.8800",
         624.0
        ],
        [
         "GOOGL",
         "2024-10-04 19:31:00",
         166.876,
         165.31999999999996,
         "166.8760",
         "165.3200",
         480.0
        ],
        [
         "GOOGL",
         "2024-10-04 19:06:00",
         166.82179999999997,
         167.0,
         "167.0000",
         "166.8218",
         240.0
        ],
        [
         "GOOGL",
         "2024-10-04 19:13:00",
         166.9918,
         166.9918,
         "166.9918",
         "166.9918",
         3000.0
        ],
        [
         "GOOGL",
         "2024-10-04 19:33:00",
         166.88000000000002,
         166.88000000000002,
         "166.8800",
         "166.8800",
         36.0
        ],
        [
         "GOOGL",
         "2024-10-04 19:12:00",
         166.93000000000004,
         166.93000000000004,
         "167.0600",
         "166.9300",
         437616.0
        ],
        [
         "GOOGL",
         "2024-10-04 18:46:00",
         166.7735,
         166.83999999999997,
         "166.8400",
         "166.7735",
         696.0
        ],
        [
         "GOOGL",
         "2024-10-04 18:45:00",
         166.83999999999997,
         166.83999999999997,
         "166.8400",
         "166.7700",
         636.0
        ],
        [
         "GOOGL",
         "2024-10-04 19:34:00",
         166.80009999999996,
         166.86999999999998,
         "166.8800",
         "166.8000",
         2196.0
        ],
        [
         "GOOGL",
         "2024-10-04 19:20:00",
         166.88000000000002,
         166.88000000000002,
         "166.8800",
         "166.7825",
         648.0
        ],
        [
         "GOOGL",
         "2024-10-04 18:37:00",
         166.84999999999997,
         166.84999999999997,
         "166.8500",
         "166.8500",
         120.0
        ],
        [
         "GOOGL",
         "2024-10-04 18:10:00",
         166.84999999999997,
         166.90000000000003,
         "166.9000",
         "166.8500",
         72.0
        ],
        [
         "GOOGL",
         "2024-10-04 18:28:00",
         166.86000000000004,
         166.7952,
         "166.8799",
         "166.7952",
         3084.0
        ],
        [
         "GOOGL",
         "2024-10-04 19:29:00",
         166.88000000000002,
         166.86999999999998,
         "166.8800",
         "166.8354",
         1104.0
        ],
        [
         "GOOGL",
         "2024-10-04 19:14:00",
         166.95000000000002,
         166.94000000000003,
         "166.9500",
         "166.9400",
         36.0
        ],
        [
         "GOOGL",
         "2024-10-04 18:20:00",
         166.88000000000002,
         166.83120000000002,
         "166.8800",
         "166.8312",
         36.0
        ],
        [
         "GOOGL",
         "2024-10-04 18:36:00",
         166.84999999999997,
         166.84999999999997,
         "166.8500",
         "166.8500",
         684.0
        ],
        [
         "GOOGL",
         "2024-10-04 18:58:00",
         166.86999999999998,
         166.86999999999998,
         "166.8793",
         "166.8700",
         576.0
        ],
        [
         "GOOGL",
         "2024-10-04 19:45:00",
         166.88000000000002,
         166.88000000000002,
         "166.8800",
         "166.8800",
         312.0
        ],
        [
         "MSFT",
         "2024-10-04 19:38:00",
         415.84999999999997,
         415.84,
         "415.8500",
         "415.8300",
         1206.0
        ],
        [
         "MSFT",
         "2024-10-04 19:42:00",
         415.75500000000005,
         415.785,
         "415.8500",
         "415.7400",
         2106.0
        ],
        [
         "MSFT",
         "2024-10-04 18:44:00",
         415.95,
         415.95,
         "415.9500",
         "415.8400",
         350.0
        ],
        [
         "MSFT",
         "2024-10-04 18:31:00",
         415.61,
         415.7,
         "415.7000",
         "415.6100",
         745.0
        ],
        [
         "MSFT",
         "2024-10-04 19:16:00",
         415.8412,
         415.86549999999994,
         "415.8700",
         "415.8250",
         756.0
        ],
        [
         "MSFT",
         "2024-10-04 18:25:00",
         415.69,
         415.69,
         "415.7000",
         "415.6500",
         664.0
        ],
        [
         "MSFT",
         "2024-10-04 19:07:00",
         415.86999999999995,
         415.76499999999993,
         "415.8700",
         "415.7650",
         150.0
        ],
        [
         "MSFT",
         "2024-10-04 19:26:00",
         415.82,
         415.82,
         "418.1800",
         "415.8200",
         2598.0
        ],
        [
         "MSFT",
         "2024-10-04 18:23:00",
         415.65,
         415.65,
         "415.7700",
         "415.6025",
         304.0
        ],
        [
         "MSFT",
         "2024-10-04 19:03:00",
         415.87,
         415.7200000000001,
         "415.9000",
         "415.7200",
         345.0
        ],
        [
         "MSFT",
         "2024-10-04 18:58:00",
         415.85,
         415.805,
         "415.9000",
         "415.8000",
         1635.0
        ],
        [
         "MSFT",
         "2024-10-04 18:21:00",
         415.6999,
         415.6986,
         "415.7000",
         "415.6500",
         328.0
        ],
        [
         "MSFT",
         "2024-10-04 19:24:00",
         415.825,
         415.8,
         "415.8500",
         "415.8000",
         2532.0
        ],
        [
         "MSFT",
         "2024-10-04 19:20:00",
         415.825,
         415.825,
         "415.8700",
         "415.7800",
         144.0
        ],
        [
         "MSFT",
         "2024-10-04 18:54:00",
         415.87,
         415.9,
         "415.9400",
         "415.8700",
         210.0
        ],
        [
         "MSFT",
         "2024-10-04 19:19:00",
         415.86000000000007,
         415.825,
         "415.8600",
         "415.8150",
         246.0
        ],
        [
         "MSFT",
         "2024-10-04 18:51:00",
         415.91999999999996,
         415.875,
         "415.9500",
         "415.8500",
         535.0
        ],
        [
         "MSFT",
         "2024-10-04 18:53:00",
         415.875,
         415.87,
         "415.9400",
         "415.8075",
         380.0
        ],
        [
         "MSFT",
         "2024-10-04 19:59:00",
         415.88000000000005,
         415.815,
         "415.9000",
         "415.8150",
         2316.0
        ],
        [
         "MSFT",
         "2024-10-04 18:30:00",
         415.7,
         415.7,
         "415.7000",
         "415.6550",
         560.0
        ],
        [
         "MSFT",
         "2024-10-04 18:32:00",
         415.7,
         415.68999999999994,
         "415.7000",
         "415.6100",
         1925.0
        ],
        [
         "MSFT",
         "2024-10-04 19:04:00",
         415.81000000000006,
         415.81000000000006,
         "415.8100",
         "415.7290",
         520.0
        ],
        [
         "MSFT",
         "2024-10-04 19:34:00",
         415.84920000000005,
         415.84009999999995,
         "415.8500",
         "415.8350",
         1122.0
        ],
        [
         "MSFT",
         "2024-10-04 19:09:00",
         415.84,
         415.785,
         "415.8500",
         "415.7850",
         210.0
        ],
        [
         "MSFT",
         "2024-10-04 19:46:00",
         415.8,
         415.84999999999997,
         "415.9200",
         "415.8000",
         132.0
        ],
        [
         "MSFT",
         "2024-10-04 19:33:00",
         415.83,
         415.83,
         "416.4500",
         "415.8300",
         1806.0
        ],
        [
         "MSFT",
         "2024-10-04 19:35:00",
         415.84,
         415.835,
         "415.8400",
         "415.8350",
         66.0
        ],
        [
         "MSFT",
         "2024-10-04 19:18:00",
         415.86999999999995,
         415.86999999999995,
         "415.8700",
         "415.8250",
         204.0
        ],
        [
         "MSFT",
         "2024-10-04 18:49:00",
         415.93999999999994,
         415.875,
         "415.9400",
         "415.8750",
         595.0
        ],
        [
         "MSFT",
         "2024-10-04 19:08:00",
         415.81,
         415.785,
         "415.8400",
         "415.7650",
         282.0
        ],
        [
         "MSFT",
         "2024-10-04 19:10:00",
         415.815,
         415.84999999999997,
         "415.8500",
         "415.8100",
         360.0
        ],
        [
         "MSFT",
         "2024-10-04 19:50:00",
         415.82,
         415.92,
         "415.9200",
         "415.8200",
         276.0
        ],
        [
         "MSFT",
         "2024-10-04 19:45:00",
         415.94,
         415.84999999999997,
         "415.9400",
         "415.8300",
         1956.0
        ],
        [
         "MSFT",
         "2024-10-04 19:39:00",
         415.84,
         415.84999999999997,
         "415.8500",
         "415.8300",
         324.0
        ],
        [
         "MSFT",
         "2024-10-04 18:46:00",
         415.84,
         415.8,
         "415.9500",
         "415.8000",
         185.0
        ],
        [
         "MSFT",
         "2024-10-04 19:27:00",
         415.84920000000005,
         415.82,
         "418.0700",
         "415.8000",
         570.0
        ],
        [
         "MSFT",
         "2024-10-04 19:22:00",
         415.835,
         415.8,
         "415.8700",
         "415.8000",
         1890.0
        ],
        [
         "MSFT",
         "2024-10-04 18:33:00",
         415.66999999999996,
         415.66999999999996,
         "415.6900",
         "415.6700",
         30.0
        ],
        [
         "MSFT",
         "2024-10-04 18:52:00",
         415.95,
         415.8,
         "415.9500",
         "415.8000",
         585.0
        ],
        [
         "MSFT",
         "2024-10-04 18:27:00",
         415.6549999999999,
         415.6145,
         "415.7000",
         "415.6145",
         445.0
        ],
        [
         "MSFT",
         "2024-10-04 19:58:00",
         415.86000000000007,
         415.88000000000005,
         "417.2700",
         "415.8500",
         3954.0
        ],
        [
         "MSFT",
         "2024-10-04 18:35:00",
         415.7,
         415.7,
         "415.7000",
         "415.6700",
         630.0
        ],
        [
         "MSFT",
         "2024-10-04 19:37:00",
         415.84,
         415.83,
         "415.8500",
         "415.8300",
         420.0
        ],
        [
         "MSFT",
         "2024-10-04 19:44:00",
         415.8,
         415.81,
         "415.9400",
         "415.7600",
         750.0
        ],
        [
         "MSFT",
         "2024-10-04 18:41:00",
         415.73999999999995,
         415.73999999999995,
         "415.7400",
         "415.7200",
         285.0
        ],
        [
         "MSFT",
         "2024-10-04 19:23:00",
         415.8622,
         415.84999999999997,
         "415.8700",
         "415.8200",
         714.0
        ],
        [
         "MSFT",
         "2024-10-04 19:11:00",
         415.82,
         415.825,
         "415.8300",
         "415.7800",
         222.0
        ],
        [
         "MSFT",
         "2024-10-04 19:52:00",
         415.86999999999995,
         415.86999999999995,
         "415.9000",
         "415.7600",
         708.0
        ],
        [
         "MSFT",
         "2024-10-04 19:55:00",
         415.84999999999997,
         415.86999999999995,
         "415.9200",
         "415.7500",
         558.0
        ],
        [
         "MSFT",
         "2024-10-04 19:49:00",
         415.82,
         415.84999999999997,
         "415.9100",
         "415.8200",
         192.0
        ],
        [
         "MSFT",
         "2024-10-04 18:22:00",
         415.7,
         415.62,
         "415.7000",
         "415.6092",
         2512.0
        ],
        [
         "MSFT",
         "2024-10-04 19:43:00",
         415.84999999999997,
         415.84999999999997,
         "415.8500",
         "415.7850",
         246.0
        ],
        [
         "MSFT",
         "2024-10-04 18:28:00",
         415.7,
         415.7,
         "415.7000",
         "415.6550",
         440.0
        ],
        [
         "MSFT",
         "2024-10-04 19:36:00",
         415.8485,
         415.84,
         "415.8500",
         "415.8350",
         228.0
        ],
        [
         "MSFT",
         "2024-10-04 19:51:00",
         415.86000000000007,
         415.825,
         "415.9199",
         "415.7300",
         438.0
        ],
        [
         "MSFT",
         "2024-10-04 18:26:00",
         415.6549999999999,
         415.6549999999999,
         "415.7800",
         "415.6100",
         235.0
        ],
        [
         "MSFT",
         "2024-10-04 19:54:00",
         415.825,
         415.92,
         "415.9200",
         "415.8250",
         252.0
        ],
        [
         "MSFT",
         "2024-10-04 18:29:00",
         415.7,
         415.7,
         "415.7000",
         "415.6550",
         3015.0
        ],
        [
         "MSFT",
         "2024-10-04 19:41:00",
         415.84,
         415.7865,
         "415.8500",
         "415.7550",
         3630.0
        ],
        [
         "MSFT",
         "2024-10-04 19:31:00",
         417.71,
         415.83,
         "417.7100",
         "415.8200",
         1920.0
        ],
        [
         "MSFT",
         "2024-10-04 18:37:00",
         415.68999999999994,
         415.7,
         "415.7100",
         "415.6900",
         960.0
        ],
        [
         "MSFT",
         "2024-10-04 18:55:00",
         415.87,
         415.83000000000004,
         "415.9000",
         "415.8300",
         445.0
        ],
        [
         "MSFT",
         "2024-10-04 18:24:00",
         415.65,
         415.68,
         "415.7000",
         "415.6500",
         268.0
        ],
        [
         "MSFT",
         "2024-10-04 19:56:00",
         415.86999999999995,
         415.8450000000001,
         "417.5100",
         "415.8450",
         618.0
        ],
        [
         "MSFT",
         "2024-10-04 19:00:00",
         415.9,
         415.8,
         "415.9000",
         "415.8000",
         95.0
        ],
        [
         "MSFT",
         "2024-10-04 19:13:00",
         416.93,
         415.86999999999995,
         "416.9300",
         "415.8200",
         2958.0
        ],
        [
         "MSFT",
         "2024-10-04 18:34:00",
         415.68999999999994,
         415.7,
         "415.7000",
         "415.6700",
         305.0
        ],
        [
         "MSFT",
         "2024-10-04 18:57:00",
         415.88,
         415.8992999999999,
         "415.8999",
         "415.8500",
         170.0
        ],
        [
         "MSFT",
         "2024-10-04 19:29:00",
         415.84,
         415.835,
         "417.5600",
         "415.8350",
         960.0
        ],
        [
         "MSFT",
         "2024-10-04 18:59:00",
         415.9,
         415.805,
         "415.9000",
         "415.8000",
         195.0
        ],
        [
         "MSFT",
         "2024-10-04 19:30:00",
         415.84999999999997,
         415.82,
         "415.8500",
         "415.8200",
         870.0
        ],
        [
         "MSFT",
         "2024-10-04 19:53:00",
         415.88000000000005,
         415.88000000000005,
         "415.8800",
         "415.8250",
         258.0
        ],
        [
         "MSFT",
         "2024-10-04 18:36:00",
         415.68999999999994,
         415.7,
         "415.7000",
         "415.6900",
         145.0
        ],
        [
         "MSFT",
         "2024-10-04 18:39:00",
         415.73999999999995,
         415.7099999999999,
         "415.7400",
         "415.7100",
         910.0
        ],
        [
         "MSFT",
         "2024-10-04 18:47:00",
         415.95,
         415.95,
         "415.9500",
         "415.8400",
         825.0
        ],
        [
         "MSFT",
         "2024-10-04 19:40:00",
         415.84999999999997,
         415.84999999999997,
         "415.8500",
         "415.8215",
         348.0
        ],
        [
         "MSFT",
         "2024-10-04 19:47:00",
         415.82,
         415.82,
         "415.8500",
         "415.7500",
         408.0
        ],
        [
         "MSFT",
         "2024-10-04 19:12:00",
         415.86999999999995,
         415.79,
         "416.0600",
         "415.7900",
         22386.0
        ],
        [
         "MSFT",
         "2024-10-04 19:02:00",
         415.9,
         415.8,
         "415.9000",
         "415.7800",
         130.0
        ],
        [
         "MSFT",
         "2024-10-04 19:17:00",
         415.86769999999996,
         415.8699,
         "415.8700",
         "415.8250",
         816.0
        ],
        [
         "MSFT",
         "2024-10-04 19:05:00",
         415.81000000000006,
         415.87,
         "415.9000",
         "415.8100",
         155.0
        ],
        [
         "MSFT",
         "2024-10-04 19:06:00",
         415.86999999999995,
         415.86999999999995,
         "415.9000",
         "415.8100",
         192.0
        ],
        [
         "MSFT",
         "2024-10-04 19:32:00",
         415.83,
         415.83,
         "415.8500",
         "415.8200",
         1086.0
        ],
        [
         "MSFT",
         "2024-10-04 19:15:00",
         415.825,
         415.825,
         "415.8250",
         "415.8250",
         12.0
        ],
        [
         "MSFT",
         "2024-10-04 19:01:00",
         415.805,
         415.8999,
         "415.8999",
         "415.7100",
         320.0
        ],
        [
         "MSFT",
         "2024-10-04 19:25:00",
         415.84999999999997,
         415.82,
         "415.8500",
         "415.8000",
         744.0
        ],
        [
         "MSFT",
         "2024-10-04 19:57:00",
         415.86999999999995,
         415.89989999999995,
         "415.9500",
         "415.8450",
         9372.0
        ],
        [
         "MSFT",
         "2024-10-04 19:14:00",
         415.825,
         415.86999999999995,
         "416.7800",
         "415.7800",
         162.0
        ],
        [
         "MSFT",
         "2024-10-04 19:21:00",
         415.84,
         415.8,
         "415.8500",
         "415.8000",
         1908.0
        ],
        [
         "MSFT",
         "2024-10-04 18:48:00",
         415.84,
         415.91999999999996,
         "415.9500",
         "415.8400",
         210.0
        ],
        [
         "MSFT",
         "2024-10-04 18:43:00",
         415.9335,
         415.84,
         "415.9500",
         "415.8400",
         1195.0
        ],
        [
         "MSFT",
         "2024-10-04 19:28:00",
         415.82,
         415.84999999999997,
         "416.2600",
         "415.8200",
         360.0
        ],
        [
         "MSFT",
         "2024-10-04 19:48:00",
         415.82,
         415.82,
         "415.9200",
         "415.7700",
         144.0
        ],
        [
         "MSFT",
         "2024-10-04 18:45:00",
         415.95,
         415.84,
         "415.9500",
         "415.8000",
         305.0
        ],
        [
         "MSFT",
         "2024-10-04 18:42:00",
         415.7200000000001,
         415.84,
         "415.9500",
         "415.7200",
         4685.0
        ],
        [
         "MSFT",
         "2024-10-04 18:56:00",
         415.83000000000004,
         415.895,
         "415.8950",
         "415.8300",
         45.0
        ],
        [
         "MSFT",
         "2024-10-04 18:40:00",
         415.7099999999999,
         415.73999999999995,
         "415.7400",
         "415.7100",
         160.0
        ],
        [
         "MSFT",
         "2024-10-04 18:50:00",
         415.95,
         415.95,
         "415.9500",
         "415.8750",
         180.0
        ],
        [
         "MSFT",
         "2024-10-04 18:38:00",
         415.68999999999994,
         415.7099999999999,
         "415.7400",
         "415.6800",
         6165.0
        ],
        [
         "MSFT",
         "2024-10-04 18:20:00",
         415.7,
         415.65,
         "415.7100",
         "415.6200",
         672.0
        ]
       ],
       "datasetInfos": [],
       "dbfsResultPath": null,
       "isJsonSchema": true,
       "metadata": {
        "createTempViewForImplicitDf": true,
        "dataframeName": "_sqldf",
        "executionCount": 21
       },
       "overflow": false,
       "plotOptions": {
        "customPlotOptions": {},
        "displayType": "table",
        "pivotAggregation": null,
        "pivotColumns": null,
        "xColumns": null,
        "yColumns": null
       },
       "removedWidgets": [],
       "schema": [
        {
         "metadata": "{}",
         "name": "symbol",
         "type": "\"string\""
        },
        {
         "metadata": "{}",
         "name": "timestamp",
         "type": "\"string\""
        },
        {
         "metadata": "{}",
         "name": "avg_open",
         "type": "\"double\""
        },
        {
         "metadata": "{}",
         "name": "avg_close",
         "type": "\"double\""
        },
        {
         "metadata": "{}",
         "name": "max_high",
         "type": "\"string\""
        },
        {
         "metadata": "{}",
         "name": "min_low",
         "type": "\"string\""
        },
        {
         "metadata": "{}",
         "name": "total_volume",
         "type": "\"double\""
        }
       ],
       "type": "table"
      }
     },
     "output_type": "display_data"
    }
   ],
   "source": [
    "%sql\n",
    "select * from kafka.gold.daily_stock_aggregates order by symbol"
   ]
  },
  {
   "cell_type": "code",
   "execution_count": 0,
   "metadata": {
    "application/vnd.databricks.v1+cell": {
     "cellMetadata": {
      "byteLimit": 2048000,
      "implicitDf": true,
      "rowLimit": 10000
     },
     "inputWidgets": {},
     "nuid": "2b3f0d62-ff18-4584-aa4f-90902f4ca76e",
     "showTitle": false,
     "title": ""
    }
   },
   "outputs": [
    {
     "output_type": "display_data",
     "data": {
      "text/html": [
       "<style scoped>\n",
       "  .table-result-container {\n",
       "    max-height: 300px;\n",
       "    overflow: auto;\n",
       "  }\n",
       "  table, th, td {\n",
       "    border: 1px solid black;\n",
       "    border-collapse: collapse;\n",
       "  }\n",
       "  th, td {\n",
       "    padding: 5px;\n",
       "  }\n",
       "  th {\n",
       "    text-align: left;\n",
       "  }\n",
       "</style><div class='table-result-container'><table class='table-result'><thead style='background-color: white'><tr><th>window</th><th>symbol</th><th>avg_price</th><th>open_price</th><th>high_price</th><th>low_price</th><th>close_price</th><th>daily_volume</th></tr></thead><tbody><tr><td>List(2024-10-04T00:00:00Z, 2024-10-05T00:00:00Z)</td><td>MSFT</td><td>null</td><td>415.8800</td><td>418.1800</td><td>415.6025</td><td>415.6550</td><td>115084.0</td></tr><tr><td>List(2024-10-04T00:00:00Z, 2024-10-05T00:00:00Z)</td><td>GOOGL</td><td>null</td><td>166.9500</td><td>167.0600</td><td>164.5400</td><td>166.8500</td><td>579984.0</td></tr><tr><td>List(2024-10-04T00:00:00Z, 2024-10-05T00:00:00Z)</td><td>AAPL</td><td>null</td><td>226.3700</td><td>226.8000</td><td>224.4200</td><td>226.6350</td><td>950900.0</td></tr></tbody></table></div>"
      ]
     },
     "metadata": {
      "application/vnd.databricks.v1+output": {
       "addedWidgets": {},
       "aggData": [],
       "aggError": "",
       "aggOverflow": false,
       "aggSchema": [],
       "aggSeriesLimitReached": false,
       "aggType": "",
       "arguments": {},
       "columnCustomDisplayInfos": {},
       "data": [
        [
         [
          "2024-10-04T00:00:00Z",
          "2024-10-05T00:00:00Z"
         ],
         "MSFT",
         null,
         "415.8800",
         "418.1800",
         "415.6025",
         "415.6550",
         115084.0
        ],
        [
         [
          "2024-10-04T00:00:00Z",
          "2024-10-05T00:00:00Z"
         ],
         "GOOGL",
         null,
         "166.9500",
         "167.0600",
         "164.5400",
         "166.8500",
         579984.0
        ],
        [
         [
          "2024-10-04T00:00:00Z",
          "2024-10-05T00:00:00Z"
         ],
         "AAPL",
         null,
         "226.3700",
         "226.8000",
         "224.4200",
         "226.6350",
         950900.0
        ]
       ],
       "datasetInfos": [],
       "dbfsResultPath": null,
       "isJsonSchema": true,
       "metadata": {
        "createTempViewForImplicitDf": true,
        "dataframeName": "_sqldf",
        "executionCount": 22
       },
       "overflow": false,
       "plotOptions": {
        "customPlotOptions": {},
        "displayType": "table",
        "pivotAggregation": null,
        "pivotColumns": null,
        "xColumns": null,
        "yColumns": null
       },
       "removedWidgets": [],
       "schema": [
        {
         "metadata": "{\"spark.timeWindow\":true}",
         "name": "window",
         "type": "{\"type\":\"struct\",\"fields\":[{\"name\":\"start\",\"type\":\"timestamp\",\"nullable\":true,\"metadata\":{}},{\"name\":\"end\",\"type\":\"timestamp\",\"nullable\":true,\"metadata\":{}}]}"
        },
        {
         "metadata": "{}",
         "name": "symbol",
         "type": "\"string\""
        },
        {
         "metadata": "{}",
         "name": "avg_price",
         "type": "\"double\""
        },
        {
         "metadata": "{}",
         "name": "open_price",
         "type": "\"string\""
        },
        {
         "metadata": "{}",
         "name": "high_price",
         "type": "\"string\""
        },
        {
         "metadata": "{}",
         "name": "low_price",
         "type": "\"string\""
        },
        {
         "metadata": "{}",
         "name": "close_price",
         "type": "\"string\""
        },
        {
         "metadata": "{}",
         "name": "daily_volume",
         "type": "\"double\""
        }
       ],
       "type": "table"
      }
     },
     "output_type": "display_data"
    }
   ],
   "source": [
    "%sql\n",
    "SELECT * FROM kafka.gold.gold_stock_data ;"
   ]
  },
  {
   "cell_type": "code",
   "execution_count": 0,
   "metadata": {
    "application/vnd.databricks.v1+cell": {
     "cellMetadata": {
      "byteLimit": 2048000,
      "rowLimit": 10000
     },
     "inputWidgets": {},
     "nuid": "12d57cff-c563-4cc4-885e-5da834c324d5",
     "showTitle": false,
     "title": ""
    }
   },
   "outputs": [],
   "source": [
    "from pyspark.sql.functions import max as spark_max, min as spark_min, sum as spark_sum\n",
    "\n",
    "# Monthly Aggregates\n",
    "monthly_aggregates = silver_df.groupBy(\"symbol\", \"timestamp\").agg(\n",
    "    spark_max(\"high\").alias(\"max_high\"),\n",
    "    spark_min(\"low\").alias(\"min_low\"),\n",
    "    spark_sum(\"volume\").alias(\"total_volume\")\n",
    ")\n",
    "\n",
    "# Write the monthly aggregates to Delta table\n",
    "monthly_aggregates.write.format(\"delta\").mode(\"overwrite\").saveAsTable(\"kafka.gold.monthly_aggregates\")"
   ]
  },
  {
   "cell_type": "code",
   "execution_count": 0,
   "metadata": {
    "application/vnd.databricks.v1+cell": {
     "cellMetadata": {
      "byteLimit": 2048000,
      "implicitDf": true,
      "rowLimit": 10000
     },
     "inputWidgets": {},
     "nuid": "7f666e02-9a28-4f7d-a1b4-2b4ed3c418bb",
     "showTitle": false,
     "title": ""
    }
   },
   "outputs": [
    {
     "output_type": "display_data",
     "data": {
      "text/html": [
       "<style scoped>\n",
       "  .table-result-container {\n",
       "    max-height: 300px;\n",
       "    overflow: auto;\n",
       "  }\n",
       "  table, th, td {\n",
       "    border: 1px solid black;\n",
       "    border-collapse: collapse;\n",
       "  }\n",
       "  th, td {\n",
       "    padding: 5px;\n",
       "  }\n",
       "  th {\n",
       "    text-align: left;\n",
       "  }\n",
       "</style><div class='table-result-container'><table class='table-result'><thead style='background-color: white'><tr><th>symbol</th><th>timestamp</th><th>max_high</th><th>min_low</th><th>total_volume</th></tr></thead><tbody><tr><td>AAPL</td><td>2024-10-04 19:48:00</td><td>226.4900</td><td>226.4200</td><td>1530.0</td></tr><tr><td>AAPL</td><td>2024-10-04 18:59:00</td><td>226.7000</td><td>226.5600</td><td>1290.0</td></tr><tr><td>AAPL</td><td>2024-10-04 18:55:00</td><td>226.5400</td><td>226.5300</td><td>550.0</td></tr><tr><td>AAPL</td><td>2024-10-04 18:39:00</td><td>226.6300</td><td>226.5300</td><td>7990.0</td></tr><tr><td>AAPL</td><td>2024-10-04 19:00:00</td><td>226.5750</td><td>226.4500</td><td>60.0</td></tr><tr><td>AAPL</td><td>2024-10-04 18:38:00</td><td>226.5400</td><td>226.5300</td><td>270.0</td></tr><tr><td>AAPL</td><td>2024-10-04 19:04:00</td><td>226.5750</td><td>226.4500</td><td>260.0</td></tr><tr><td>AAPL</td><td>2024-10-04 19:16:00</td><td>226.5550</td><td>226.5000</td><td>280.0</td></tr><tr><td>AAPL</td><td>2024-10-04 19:58:00</td><td>226.4600</td><td>225.2900</td><td>1450.0</td></tr><tr><td>AAPL</td><td>2024-10-04 19:38:00</td><td>226.4600</td><td>226.4600</td><td>360.0</td></tr><tr><td>AAPL</td><td>2024-10-04 19:55:00</td><td>226.4600</td><td>226.4220</td><td>4230.0</td></tr><tr><td>AAPL</td><td>2024-10-04 18:44:00</td><td>226.6600</td><td>226.6300</td><td>800.0</td></tr><tr><td>AAPL</td><td>2024-10-04 18:32:00</td><td>226.5900</td><td>226.5400</td><td>220.0</td></tr><tr><td>AAPL</td><td>2024-10-04 18:57:00</td><td>226.5500</td><td>226.4800</td><td>17680.0</td></tr><tr><td>AAPL</td><td>2024-10-04 18:36:00</td><td>226.5500</td><td>226.5300</td><td>3180.0</td></tr><tr><td>AAPL</td><td>2024-10-04 19:10:00</td><td>226.5000</td><td>226.4965</td><td>60.0</td></tr><tr><td>AAPL</td><td>2024-10-04 18:40:00</td><td>226.5800</td><td>226.5300</td><td>400.0</td></tr><tr><td>AAPL</td><td>2024-10-04 19:27:00</td><td>226.5600</td><td>225.0100</td><td>8630.0</td></tr><tr><td>AAPL</td><td>2024-10-04 18:52:00</td><td>226.7300</td><td>226.6300</td><td>5190.0</td></tr><tr><td>AAPL</td><td>2024-10-04 18:27:00</td><td>226.6500</td><td>226.5212</td><td>350.0</td></tr><tr><td>AAPL</td><td>2024-10-04 19:07:00</td><td>226.5500</td><td>226.4500</td><td>90.0</td></tr><tr><td>AAPL</td><td>2024-10-04 19:21:00</td><td>226.6000</td><td>226.5600</td><td>1520.0</td></tr><tr><td>AAPL</td><td>2024-10-04 19:43:00</td><td>226.4850</td><td>226.4400</td><td>130.0</td></tr><tr><td>AAPL</td><td>2024-10-04 19:36:00</td><td>226.5472</td><td>226.4450</td><td>30240.0</td></tr><tr><td>AAPL</td><td>2024-10-04 18:30:00</td><td>226.6400</td><td>226.5200</td><td>600.0</td></tr><tr><td>AAPL</td><td>2024-10-04 19:13:00</td><td>226.6200</td><td>226.4900</td><td>2360.0</td></tr><tr><td>AAPL</td><td>2024-10-04 19:12:00</td><td>226.8000</td><td>226.5100</td><td>596090.0</td></tr><tr><td>AAPL</td><td>2024-10-04 19:40:00</td><td>226.4500</td><td>226.4200</td><td>2490.0</td></tr><tr><td>AAPL</td><td>2024-10-04 19:17:00</td><td>226.6167</td><td>226.4900</td><td>13650.0</td></tr><tr><td>AAPL</td><td>2024-10-04 19:01:00</td><td>226.7000</td><td>226.4500</td><td>170.0</td></tr><tr><td>AAPL</td><td>2024-10-04 18:29:00</td><td>226.6500</td><td>226.5300</td><td>5330.0</td></tr><tr><td>AAPL</td><td>2024-10-04 18:46:00</td><td>226.6800</td><td>226.6400</td><td>1930.0</td></tr><tr><td>AAPL</td><td>2024-10-04 18:26:00</td><td>226.6400</td><td>226.5800</td><td>2700.0</td></tr><tr><td>AAPL</td><td>2024-10-04 18:43:00</td><td>226.6300</td><td>226.5475</td><td>2150.0</td></tr><tr><td>AAPL</td><td>2024-10-04 19:24:00</td><td>226.5950</td><td>226.5712</td><td>40.0</td></tr><tr><td>AAPL</td><td>2024-10-04 19:35:00</td><td>226.5700</td><td>226.3300</td><td>49890.0</td></tr><tr><td>AAPL</td><td>2024-10-04 19:53:00</td><td>226.5000</td><td>226.4600</td><td>1520.0</td></tr><tr><td>AAPL</td><td>2024-10-04 19:44:00</td><td>226.5500</td><td>226.4200</td><td>1640.0</td></tr><tr><td>AAPL</td><td>2024-10-04 18:53:00</td><td>226.6900</td><td>226.6300</td><td>220.0</td></tr><tr><td>AAPL</td><td>2024-10-04 19:54:00</td><td>226.4700</td><td>226.4600</td><td>5190.0</td></tr><tr><td>AAPL</td><td>2024-10-04 19:14:00</td><td>226.6200</td><td>226.4900</td><td>530.0</td></tr><tr><td>AAPL</td><td>2024-10-04 18:51:00</td><td>226.7100</td><td>226.6400</td><td>31740.0</td></tr><tr><td>AAPL</td><td>2024-10-04 18:58:00</td><td>226.7000</td><td>226.4300</td><td>120.0</td></tr><tr><td>AAPL</td><td>2024-10-04 19:15:00</td><td>226.6200</td><td>226.4900</td><td>360.0</td></tr><tr><td>AAPL</td><td>2024-10-04 18:37:00</td><td>226.5400</td><td>226.5300</td><td>570.0</td></tr><tr><td>AAPL</td><td>2024-10-04 19:33:00</td><td>226.4650</td><td>226.3600</td><td>550.0</td></tr><tr><td>AAPL</td><td>2024-10-04 19:28:00</td><td>226.5100</td><td>226.2800</td><td>5600.0</td></tr><tr><td>AAPL</td><td>2024-10-04 19:06:00</td><td>226.6000</td><td>226.4500</td><td>140.0</td></tr><tr><td>AAPL</td><td>2024-10-04 18:22:00</td><td>226.6400</td><td>226.5600</td><td>3830.0</td></tr><tr><td>AAPL</td><td>2024-10-04 19:46:00</td><td>226.5500</td><td>226.4200</td><td>670.0</td></tr><tr><td>AAPL</td><td>2024-10-04 18:50:00</td><td>226.6900</td><td>226.6400</td><td>1970.0</td></tr><tr><td>AAPL</td><td>2024-10-04 18:34:00</td><td>226.5750</td><td>226.5300</td><td>410.0</td></tr><tr><td>AAPL</td><td>2024-10-04 18:20:00</td><td>226.6500</td><td>226.5600</td><td>60.0</td></tr><tr><td>AAPL</td><td>2024-10-04 19:50:00</td><td>226.5500</td><td>226.4200</td><td>180.0</td></tr><tr><td>AAPL</td><td>2024-10-04 19:05:00</td><td>226.6900</td><td>226.4500</td><td>160.0</td></tr><tr><td>AAPL</td><td>2024-10-04 18:31:00</td><td>226.6400</td><td>226.5400</td><td>950.0</td></tr><tr><td>AAPL</td><td>2024-10-04 19:56:00</td><td>226.4600</td><td>226.3700</td><td>21340.0</td></tr><tr><td>AAPL</td><td>2024-10-04 18:42:00</td><td>226.6900</td><td>226.5300</td><td>7850.0</td></tr><tr><td>AAPL</td><td>2024-10-04 19:49:00</td><td>226.5500</td><td>226.4252</td><td>270.0</td></tr><tr><td>AAPL</td><td>2024-10-04 19:51:00</td><td>226.4980</td><td>226.4200</td><td>800.0</td></tr><tr><td>AAPL</td><td>2024-10-04 18:45:00</td><td>226.6900</td><td>226.6300</td><td>5650.0</td></tr><tr><td>AAPL</td><td>2024-10-04 18:35:00</td><td>226.5400</td><td>226.5300</td><td>480.0</td></tr><tr><td>AAPL</td><td>2024-10-04 19:45:00</td><td>226.4900</td><td>226.4200</td><td>1120.0</td></tr><tr><td>AAPL</td><td>2024-10-04 19:31:00</td><td>226.4450</td><td>224.7100</td><td>1700.0</td></tr><tr><td>AAPL</td><td>2024-10-04 19:23:00</td><td>226.6000</td><td>226.5700</td><td>570.0</td></tr><tr><td>AAPL</td><td>2024-10-04 19:57:00</td><td>226.4593</td><td>226.3700</td><td>660.0</td></tr><tr><td>AAPL</td><td>2024-10-04 18:41:00</td><td>226.5800</td><td>226.5323</td><td>4680.0</td></tr><tr><td>AAPL</td><td>2024-10-04 19:59:00</td><td>226.4500</td><td>226.3700</td><td>2660.0</td></tr><tr><td>AAPL</td><td>2024-10-04 19:39:00</td><td>226.4600</td><td>226.4200</td><td>330.0</td></tr><tr><td>AAPL</td><td>2024-10-04 18:24:00</td><td>226.6955</td><td>226.5200</td><td>100.0</td></tr><tr><td>AAPL</td><td>2024-10-04 19:03:00</td><td>226.5750</td><td>226.4700</td><td>90.0</td></tr><tr><td>AAPL</td><td>2024-10-04 19:29:00</td><td>226.5700</td><td>225.1100</td><td>1910.0</td></tr><tr><td>AAPL</td><td>2024-10-04 19:30:00</td><td>226.5700</td><td>226.3000</td><td>460.0</td></tr><tr><td>AAPL</td><td>2024-10-04 19:19:00</td><td>226.6200</td><td>226.5700</td><td>1400.0</td></tr><tr><td>AAPL</td><td>2024-10-04 19:41:00</td><td>226.5500</td><td>226.4211</td><td>2530.0</td></tr><tr><td>AAPL</td><td>2024-10-04 18:23:00</td><td>226.6955</td><td>226.5200</td><td>1510.0</td></tr><tr><td>AAPL</td><td>2024-10-04 18:54:00</td><td>226.7255</td><td>226.5500</td><td>26170.0</td></tr><tr><td>AAPL</td><td>2024-10-04 19:34:00</td><td>226.5700</td><td>226.4201</td><td>280.0</td></tr><tr><td>AAPL</td><td>2024-10-04 19:20:00</td><td>226.6000</td><td>226.5700</td><td>2110.0</td></tr><tr><td>AAPL</td><td>2024-10-04 19:32:00</td><td>226.4450</td><td>224.4200</td><td>140.0</td></tr><tr><td>AAPL</td><td>2024-10-04 19:37:00</td><td>226.5500</td><td>226.3508</td><td>1010.0</td></tr><tr><td>AAPL</td><td>2024-10-04 18:28:00</td><td>226.5900</td><td>226.5300</td><td>630.0</td></tr><tr><td>AAPL</td><td>2024-10-04 19:09:00</td><td>226.6300</td><td>226.4800</td><td>50.0</td></tr><tr><td>AAPL</td><td>2024-10-04 19:25:00</td><td>226.6100</td><td>226.4900</td><td>1420.0</td></tr><tr><td>AAPL</td><td>2024-10-04 19:08:00</td><td>226.6300</td><td>226.5400</td><td>180.0</td></tr><tr><td>AAPL</td><td>2024-10-04 19:02:00</td><td>226.7000</td><td>226.4500</td><td>1120.0</td></tr><tr><td>AAPL</td><td>2024-10-04 18:48:00</td><td>226.6900</td><td>226.6400</td><td>4640.0</td></tr><tr><td>AAPL</td><td>2024-10-04 18:33:00</td><td>226.6300</td><td>226.5200</td><td>2050.0</td></tr><tr><td>AAPL</td><td>2024-10-04 19:42:00</td><td>226.5500</td><td>226.4200</td><td>1180.0</td></tr><tr><td>AAPL</td><td>2024-10-04 19:26:00</td><td>226.5600</td><td>225.6100</td><td>6340.0</td></tr><tr><td>AAPL</td><td>2024-10-04 18:21:00</td><td>226.6350</td><td>226.5600</td><td>70.0</td></tr><tr><td>AAPL</td><td>2024-10-04 18:49:00</td><td>226.6700</td><td>226.6400</td><td>620.0</td></tr><tr><td>AAPL</td><td>2024-10-04 18:47:00</td><td>226.6800</td><td>226.6400</td><td>130.0</td></tr><tr><td>AAPL</td><td>2024-10-04 19:18:00</td><td>226.6135</td><td>226.5550</td><td>1010.0</td></tr><tr><td>AAPL</td><td>2024-10-04 18:25:00</td><td>226.6910</td><td>226.5200</td><td>320.0</td></tr><tr><td>AAPL</td><td>2024-10-04 19:11:00</td><td>226.6135</td><td>226.4900</td><td>13750.0</td></tr><tr><td>AAPL</td><td>2024-10-04 19:22:00</td><td>226.6000</td><td>226.5850</td><td>1580.0</td></tr><tr><td>AAPL</td><td>2024-10-04 18:56:00</td><td>226.5500</td><td>226.5300</td><td>5320.0</td></tr><tr><td>AAPL</td><td>2024-10-04 19:52:00</td><td>226.4900</td><td>226.4600</td><td>1530.0</td></tr><tr><td>AAPL</td><td>2024-10-04 19:47:00</td><td>226.5467</td><td>226.4239</td><td>2570.0</td></tr><tr><td>GOOGL</td><td>2024-10-04 19:22:00</td><td>166.8775</td><td>166.8300</td><td>252.0</td></tr><tr><td>GOOGL</td><td>2024-10-04 19:00:00</td><td>166.8800</td><td>166.8700</td><td>60.0</td></tr><tr><td>GOOGL</td><td>2024-10-04 19:56:00</td><td>166.9800</td><td>164.5400</td><td>3324.0</td></tr><tr><td>GOOGL</td><td>2024-10-04 18:48:00</td><td>166.8400</td><td>166.7900</td><td>6552.0</td></tr><tr><td>GOOGL</td><td>2024-10-04 19:38:00</td><td>166.8800</td><td>166.8700</td><td>1080.0</td></tr><tr><td>GOOGL</td><td>2024-10-04 19:32:00</td><td>166.8800</td><td>166.8700</td><td>744.0</td></tr><tr><td>GOOGL</td><td>2024-10-04 18:27:00</td><td>166.8800</td><td>166.8500</td><td>96.0</td></tr><tr><td>GOOGL</td><td>2024-10-04 18:15:00</td><td>166.8900</td><td>166.8500</td><td>60.0</td></tr><tr><td>GOOGL</td><td>2024-10-04 18:52:00</td><td>166.8800</td><td>166.7700</td><td>372.0</td></tr><tr><td>GOOGL</td><td>2024-10-04 19:55:00</td><td>166.9000</td><td>166.8600</td><td>7932.0</td></tr><tr><td>GOOGL</td><td>2024-10-04 18:16:00</td><td>166.8900</td><td>166.7827</td><td>7848.0</td></tr><tr><td>GOOGL</td><td>2024-10-04 19:26:00</td><td>166.8800</td><td>166.8700</td><td>108.0</td></tr><tr><td>GOOGL</td><td>2024-10-04 19:19:00</td><td>166.8800</td><td>166.8800</td><td>48.0</td></tr><tr><td>GOOGL</td><td>2024-10-04 18:39:00</td><td>166.8400</td><td>166.8300</td><td>132.0</td></tr><tr><td>GOOGL</td><td>2024-10-04 18:55:00</td><td>166.8700</td><td>166.8100</td><td>1092.0</td></tr><tr><td>GOOGL</td><td>2024-10-04 18:50:00</td><td>166.8800</td><td>166.8800</td><td>24.0</td></tr><tr><td>GOOGL</td><td>2024-10-04 18:21:00</td><td>166.8900</td><td>166.8800</td><td>60.0</td></tr><tr><td>GOOGL</td><td>2024-10-04 19:15:00</td><td>166.8900</td><td>166.8800</td><td>1176.0</td></tr><tr><td>GOOGL</td><td>2024-10-04 19:03:00</td><td>166.8700</td><td>166.8700</td><td>576.0</td></tr><tr><td>GOOGL</td><td>2024-10-04 19:41:00</td><td>166.8800</td><td>166.8700</td><td>432.0</td></tr><tr><td>GOOGL</td><td>2024-10-04 18:19:00</td><td>166.8900</td><td>166.8600</td><td>192.0</td></tr><tr><td>GOOGL</td><td>2024-10-04 18:32:00</td><td>166.8800</td><td>166.7700</td><td>1236.0</td></tr><tr><td>GOOGL</td><td>2024-10-04 19:28:00</td><td>165.1100</td><td>165.1100</td><td>108.0</td></tr><tr><td>GOOGL</td><td>2024-10-04 19:39:00</td><td>166.8800</td><td>166.8300</td><td>60.0</td></tr><tr><td>GOOGL</td><td>2024-10-04 18:38:00</td><td>166.8500</td><td>166.8382</td><td>36.0</td></tr><tr><td>GOOGL</td><td>2024-10-04 18:42:00</td><td>166.8400</td><td>166.7700</td><td>324.0</td></tr><tr><td>GOOGL</td><td>2024-10-04 19:16:00</td><td>166.8800</td><td>166.8800</td><td>768.0</td></tr><tr><td>GOOGL</td><td>2024-10-04 19:27:00</td><td>166.8800</td><td>166.8800</td><td>132.0</td></tr><tr><td>GOOGL</td><td>2024-10-04 18:12:00</td><td>166.8900</td><td>166.8800</td><td>336.0</td></tr><tr><td>GOOGL</td><td>2024-10-04 19:02:00</td><td>166.8800</td><td>166.8500</td><td>1380.0</td></tr><tr><td>GOOGL</td><td>2024-10-04 19:04:00</td><td>166.8800</td><td>166.8700</td><td>7416.0</td></tr><tr><td>GOOGL</td><td>2024-10-04 19:42:00</td><td>166.8800</td><td>166.8799</td><td>624.0</td></tr><tr><td>GOOGL</td><td>2024-10-04 19:59:00</td><td>166.9715</td><td>166.8900</td><td>1056.0</td></tr><tr><td>GOOGL</td><td>2024-10-04 19:11:00</td><td>166.9500</td><td>166.8900</td><td>384.0</td></tr><tr><td>GOOGL</td><td>2024-10-04 18:25:00</td><td>166.8800</td><td>166.7700</td><td>144.0</td></tr><tr><td>GOOGL</td><td>2024-10-04 18:56:00</td><td>166.8800</td><td>166.8200</td><td>1800.0</td></tr><tr><td>GOOGL</td><td>2024-10-04 19:49:00</td><td>166.8700</td><td>166.8600</td><td>72.0</td></tr><tr><td>GOOGL</td><td>2024-10-04 18:08:00</td><td>166.8500</td><td>166.8500</td><td>48.0</td></tr><tr><td>GOOGL</td><td>2024-10-04 19:21:00</td><td>166.8800</td><td>166.8800</td><td>36.0</td></tr><tr><td>GOOGL</td><td>2024-10-04 18:11:00</td><td>166.8900</td><td>166.8500</td><td>588.0</td></tr><tr><td>GOOGL</td><td>2024-10-04 18:49:00</td><td>166.8800</td><td>166.7755</td><td>3360.0</td></tr><tr><td>GOOGL</td><td>2024-10-04 19:17:00</td><td>166.8800</td><td>166.8775</td><td>828.0</td></tr><tr><td>GOOGL</td><td>2024-10-04 18:31:00</td><td>166.8700</td><td>166.8700</td><td>12.0</td></tr><tr><td>GOOGL</td><td>2024-10-04 18:51:00</td><td>166.8800</td><td>166.7700</td><td>204.0</td></tr><tr><td>GOOGL</td><td>2024-10-04 18:33:00</td><td>166.8700</td><td>166.8600</td><td>552.0</td></tr><tr><td>GOOGL</td><td>2024-10-04 18:44:00</td><td>166.8400</td><td>166.8394</td><td>84.0</td></tr><tr><td>GOOGL</td><td>2024-10-04 18:18:00</td><td>166.8600</td><td>166.8300</td><td>108.0</td></tr><tr><td>GOOGL</td><td>2024-10-04 19:47:00</td><td>166.8500</td><td>166.8275</td><td>1380.0</td></tr><tr><td>GOOGL</td><td>2024-10-04 19:40:00</td><td>166.8800</td><td>166.8300</td><td>852.0</td></tr><tr><td>GOOGL</td><td>2024-10-04 18:26:00</td><td>166.8800</td><td>166.8700</td><td>360.0</td></tr><tr><td>GOOGL</td><td>2024-10-04 19:37:00</td><td>166.8800</td><td>166.7800</td><td>1872.0</td></tr><tr><td>GOOGL</td><td>2024-10-04 19:01:00</td><td>166.8800</td><td>166.8500</td><td>5028.0</td></tr><tr><td>GOOGL</td><td>2024-10-04 18:43:00</td><td>166.8400</td><td>166.7735</td><td>9552.0</td></tr><tr><td>GOOGL</td><td>2024-10-04 18:13:00</td><td>166.8900</td><td>166.8900</td><td>4176.0</td></tr><tr><td>GOOGL</td><td>2024-10-04 19:43:00</td><td>166.8302</td><td>166.8302</td><td>1200.0</td></tr><tr><td>GOOGL</td><td>2024-10-04 18:30:00</td><td>166.8700</td><td>166.8700</td><td>24.0</td></tr><tr><td>GOOGL</td><td>2024-10-04 18:57:00</td><td>166.8800</td><td>166.8214</td><td>696.0</td></tr><tr><td>GOOGL</td><td>2024-10-04 18:35:00</td><td>166.8700</td><td>166.8500</td><td>180.0</td></tr><tr><td>GOOGL</td><td>2024-10-04 19:51:00</td><td>166.8800</td><td>166.8040</td><td>264.0</td></tr><tr><td>GOOGL</td><td>2024-10-04 18:23:00</td><td>166.8700</td><td>166.8312</td><td>48.0</td></tr><tr><td>GOOGL</td><td>2024-10-04 19:36:00</td><td>166.8700</td><td>166.8227</td><td>780.0</td></tr><tr><td>GOOGL</td><td>2024-10-04 18:47:00</td><td>166.8400</td><td>166.8400</td><td>24.0</td></tr><tr><td>GOOGL</td><td>2024-10-04 19:05:00</td><td>166.8800</td><td>166.8800</td><td>72.0</td></tr><tr><td>GOOGL</td><td>2024-10-04 19:25:00</td><td>166.8800</td><td>166.7800</td><td>1224.0</td></tr><tr><td>GOOGL</td><td>2024-10-04 18:22:00</td><td>166.8800</td><td>166.8500</td><td>564.0</td></tr><tr><td>GOOGL</td><td>2024-10-04 19:54:00</td><td>166.8700</td><td>166.8600</td><td>252.0</td></tr><tr><td>GOOGL</td><td>2024-10-04 19:50:00</td><td>166.8797</td><td>166.8283</td><td>1428.0</td></tr><tr><td>GOOGL</td><td>2024-10-04 18:41:00</td><td>166.8400</td><td>166.7700</td><td>564.0</td></tr><tr><td>GOOGL</td><td>2024-10-04 18:40:00</td><td>166.8400</td><td>166.8400</td><td>600.0</td></tr><tr><td>GOOGL</td><td>2024-10-04 19:35:00</td><td>166.8800</td><td>166.8800</td><td>120.0</td></tr><tr><td>GOOGL</td><td>2024-10-04 19:57:00</td><td>166.9800</td><td>166.8800</td><td>5736.0</td></tr><tr><td>GOOGL</td><td>2024-10-04 19:44:00</td><td>166.8800</td><td>166.8800</td><td>1860.0</td></tr><tr><td>GOOGL</td><td>2024-10-04 19:46:00</td><td>166.8700</td><td>166.8300</td><td>132.0</td></tr><tr><td>GOOGL</td><td>2024-10-04 19:53:00</td><td>166.8000</td><td>166.8000</td><td>12.0</td></tr><tr><td>GOOGL</td><td>2024-10-04 18:24:00</td><td>166.8800</td><td>166.8800</td><td>12.0</td></tr><tr><td>GOOGL</td><td>2024-10-04 18:09:00</td><td>166.9000</td><td>166.8500</td><td>22560.0</td></tr><tr><td>GOOGL</td><td>2024-10-04 18:59:00</td><td>166.8800</td><td>166.8800</td><td>2412.0</td></tr><tr><td>GOOGL</td><td>2024-10-04 19:52:00</td><td>166.8800</td><td>166.8500</td><td>420.0</td></tr><tr><td>GOOGL</td><td>2024-10-04 19:08:00</td><td>167.0000</td><td>166.7943</td><td>2664.0</td></tr><tr><td>GOOGL</td><td>2024-10-04 19:09:00</td><td>167.0000</td><td>166.8800</td><td>1224.0</td></tr><tr><td>GOOGL</td><td>2024-10-04 19:58:00</td><td>166.9766</td><td>166.8800</td><td>5640.0</td></tr><tr><td>GOOGL</td><td>2024-10-04 19:30:00</td><td>166.8800</td><td>166.8800</td><td>624.0</td></tr><tr><td>GOOGL</td><td>2024-10-04 19:31:00</td><td>166.8760</td><td>165.3200</td><td>480.0</td></tr><tr><td>GOOGL</td><td>2024-10-04 19:06:00</td><td>167.0000</td><td>166.8218</td><td>240.0</td></tr><tr><td>GOOGL</td><td>2024-10-04 19:13:00</td><td>166.9918</td><td>166.9918</td><td>3000.0</td></tr><tr><td>GOOGL</td><td>2024-10-04 19:33:00</td><td>166.8800</td><td>166.8800</td><td>36.0</td></tr><tr><td>GOOGL</td><td>2024-10-04 19:12:00</td><td>167.0600</td><td>166.9300</td><td>437616.0</td></tr><tr><td>GOOGL</td><td>2024-10-04 18:46:00</td><td>166.8400</td><td>166.7735</td><td>696.0</td></tr><tr><td>GOOGL</td><td>2024-10-04 18:45:00</td><td>166.8400</td><td>166.7700</td><td>636.0</td></tr><tr><td>GOOGL</td><td>2024-10-04 19:34:00</td><td>166.8800</td><td>166.8000</td><td>2196.0</td></tr><tr><td>GOOGL</td><td>2024-10-04 19:20:00</td><td>166.8800</td><td>166.7825</td><td>648.0</td></tr><tr><td>GOOGL</td><td>2024-10-04 18:37:00</td><td>166.8500</td><td>166.8500</td><td>120.0</td></tr><tr><td>GOOGL</td><td>2024-10-04 18:10:00</td><td>166.9000</td><td>166.8500</td><td>72.0</td></tr><tr><td>GOOGL</td><td>2024-10-04 18:28:00</td><td>166.8799</td><td>166.7952</td><td>3084.0</td></tr><tr><td>GOOGL</td><td>2024-10-04 19:29:00</td><td>166.8800</td><td>166.8354</td><td>1104.0</td></tr><tr><td>GOOGL</td><td>2024-10-04 19:14:00</td><td>166.9500</td><td>166.9400</td><td>36.0</td></tr><tr><td>GOOGL</td><td>2024-10-04 18:20:00</td><td>166.8800</td><td>166.8312</td><td>36.0</td></tr><tr><td>GOOGL</td><td>2024-10-04 18:36:00</td><td>166.8500</td><td>166.8500</td><td>684.0</td></tr><tr><td>GOOGL</td><td>2024-10-04 18:58:00</td><td>166.8793</td><td>166.8700</td><td>576.0</td></tr><tr><td>GOOGL</td><td>2024-10-04 19:45:00</td><td>166.8800</td><td>166.8800</td><td>312.0</td></tr><tr><td>MSFT</td><td>2024-10-04 19:38:00</td><td>415.8500</td><td>415.8300</td><td>1206.0</td></tr><tr><td>MSFT</td><td>2024-10-04 19:42:00</td><td>415.8500</td><td>415.7400</td><td>2106.0</td></tr><tr><td>MSFT</td><td>2024-10-04 18:44:00</td><td>415.9500</td><td>415.8400</td><td>350.0</td></tr><tr><td>MSFT</td><td>2024-10-04 18:31:00</td><td>415.7000</td><td>415.6100</td><td>745.0</td></tr><tr><td>MSFT</td><td>2024-10-04 19:16:00</td><td>415.8700</td><td>415.8250</td><td>756.0</td></tr><tr><td>MSFT</td><td>2024-10-04 18:25:00</td><td>415.7000</td><td>415.6500</td><td>664.0</td></tr><tr><td>MSFT</td><td>2024-10-04 19:07:00</td><td>415.8700</td><td>415.7650</td><td>150.0</td></tr><tr><td>MSFT</td><td>2024-10-04 19:26:00</td><td>418.1800</td><td>415.8200</td><td>2598.0</td></tr><tr><td>MSFT</td><td>2024-10-04 18:23:00</td><td>415.7700</td><td>415.6025</td><td>304.0</td></tr><tr><td>MSFT</td><td>2024-10-04 19:03:00</td><td>415.9000</td><td>415.7200</td><td>345.0</td></tr><tr><td>MSFT</td><td>2024-10-04 18:58:00</td><td>415.9000</td><td>415.8000</td><td>1635.0</td></tr><tr><td>MSFT</td><td>2024-10-04 18:21:00</td><td>415.7000</td><td>415.6500</td><td>328.0</td></tr><tr><td>MSFT</td><td>2024-10-04 19:24:00</td><td>415.8500</td><td>415.8000</td><td>2532.0</td></tr><tr><td>MSFT</td><td>2024-10-04 19:20:00</td><td>415.8700</td><td>415.7800</td><td>144.0</td></tr><tr><td>MSFT</td><td>2024-10-04 18:54:00</td><td>415.9400</td><td>415.8700</td><td>210.0</td></tr><tr><td>MSFT</td><td>2024-10-04 19:19:00</td><td>415.8600</td><td>415.8150</td><td>246.0</td></tr><tr><td>MSFT</td><td>2024-10-04 18:51:00</td><td>415.9500</td><td>415.8500</td><td>535.0</td></tr><tr><td>MSFT</td><td>2024-10-04 18:53:00</td><td>415.9400</td><td>415.8075</td><td>380.0</td></tr><tr><td>MSFT</td><td>2024-10-04 19:59:00</td><td>415.9000</td><td>415.8150</td><td>2316.0</td></tr><tr><td>MSFT</td><td>2024-10-04 18:30:00</td><td>415.7000</td><td>415.6550</td><td>560.0</td></tr><tr><td>MSFT</td><td>2024-10-04 18:32:00</td><td>415.7000</td><td>415.6100</td><td>1925.0</td></tr><tr><td>MSFT</td><td>2024-10-04 19:04:00</td><td>415.8100</td><td>415.7290</td><td>520.0</td></tr><tr><td>MSFT</td><td>2024-10-04 19:34:00</td><td>415.8500</td><td>415.8350</td><td>1122.0</td></tr><tr><td>MSFT</td><td>2024-10-04 19:09:00</td><td>415.8500</td><td>415.7850</td><td>210.0</td></tr><tr><td>MSFT</td><td>2024-10-04 19:46:00</td><td>415.9200</td><td>415.8000</td><td>132.0</td></tr><tr><td>MSFT</td><td>2024-10-04 19:33:00</td><td>416.4500</td><td>415.8300</td><td>1806.0</td></tr><tr><td>MSFT</td><td>2024-10-04 19:35:00</td><td>415.8400</td><td>415.8350</td><td>66.0</td></tr><tr><td>MSFT</td><td>2024-10-04 19:18:00</td><td>415.8700</td><td>415.8250</td><td>204.0</td></tr><tr><td>MSFT</td><td>2024-10-04 18:49:00</td><td>415.9400</td><td>415.8750</td><td>595.0</td></tr><tr><td>MSFT</td><td>2024-10-04 19:08:00</td><td>415.8400</td><td>415.7650</td><td>282.0</td></tr><tr><td>MSFT</td><td>2024-10-04 19:10:00</td><td>415.8500</td><td>415.8100</td><td>360.0</td></tr><tr><td>MSFT</td><td>2024-10-04 19:50:00</td><td>415.9200</td><td>415.8200</td><td>276.0</td></tr><tr><td>MSFT</td><td>2024-10-04 19:45:00</td><td>415.9400</td><td>415.8300</td><td>1956.0</td></tr><tr><td>MSFT</td><td>2024-10-04 19:39:00</td><td>415.8500</td><td>415.8300</td><td>324.0</td></tr><tr><td>MSFT</td><td>2024-10-04 18:46:00</td><td>415.9500</td><td>415.8000</td><td>185.0</td></tr><tr><td>MSFT</td><td>2024-10-04 19:27:00</td><td>418.0700</td><td>415.8000</td><td>570.0</td></tr><tr><td>MSFT</td><td>2024-10-04 19:22:00</td><td>415.8700</td><td>415.8000</td><td>1890.0</td></tr><tr><td>MSFT</td><td>2024-10-04 18:33:00</td><td>415.6900</td><td>415.6700</td><td>30.0</td></tr><tr><td>MSFT</td><td>2024-10-04 18:52:00</td><td>415.9500</td><td>415.8000</td><td>585.0</td></tr><tr><td>MSFT</td><td>2024-10-04 18:27:00</td><td>415.7000</td><td>415.6145</td><td>445.0</td></tr><tr><td>MSFT</td><td>2024-10-04 19:58:00</td><td>417.2700</td><td>415.8500</td><td>3954.0</td></tr><tr><td>MSFT</td><td>2024-10-04 18:35:00</td><td>415.7000</td><td>415.6700</td><td>630.0</td></tr><tr><td>MSFT</td><td>2024-10-04 19:37:00</td><td>415.8500</td><td>415.8300</td><td>420.0</td></tr><tr><td>MSFT</td><td>2024-10-04 19:44:00</td><td>415.9400</td><td>415.7600</td><td>750.0</td></tr><tr><td>MSFT</td><td>2024-10-04 18:41:00</td><td>415.7400</td><td>415.7200</td><td>285.0</td></tr><tr><td>MSFT</td><td>2024-10-04 19:23:00</td><td>415.8700</td><td>415.8200</td><td>714.0</td></tr><tr><td>MSFT</td><td>2024-10-04 19:11:00</td><td>415.8300</td><td>415.7800</td><td>222.0</td></tr><tr><td>MSFT</td><td>2024-10-04 19:52:00</td><td>415.9000</td><td>415.7600</td><td>708.0</td></tr><tr><td>MSFT</td><td>2024-10-04 19:55:00</td><td>415.9200</td><td>415.7500</td><td>558.0</td></tr><tr><td>MSFT</td><td>2024-10-04 19:49:00</td><td>415.9100</td><td>415.8200</td><td>192.0</td></tr><tr><td>MSFT</td><td>2024-10-04 18:22:00</td><td>415.7000</td><td>415.6092</td><td>2512.0</td></tr><tr><td>MSFT</td><td>2024-10-04 19:43:00</td><td>415.8500</td><td>415.7850</td><td>246.0</td></tr><tr><td>MSFT</td><td>2024-10-04 18:28:00</td><td>415.7000</td><td>415.6550</td><td>440.0</td></tr><tr><td>MSFT</td><td>2024-10-04 19:36:00</td><td>415.8500</td><td>415.8350</td><td>228.0</td></tr><tr><td>MSFT</td><td>2024-10-04 19:51:00</td><td>415.9199</td><td>415.7300</td><td>438.0</td></tr><tr><td>MSFT</td><td>2024-10-04 18:26:00</td><td>415.7800</td><td>415.6100</td><td>235.0</td></tr><tr><td>MSFT</td><td>2024-10-04 19:54:00</td><td>415.9200</td><td>415.8250</td><td>252.0</td></tr><tr><td>MSFT</td><td>2024-10-04 18:29:00</td><td>415.7000</td><td>415.6550</td><td>3015.0</td></tr><tr><td>MSFT</td><td>2024-10-04 19:41:00</td><td>415.8500</td><td>415.7550</td><td>3630.0</td></tr><tr><td>MSFT</td><td>2024-10-04 19:31:00</td><td>417.7100</td><td>415.8200</td><td>1920.0</td></tr><tr><td>MSFT</td><td>2024-10-04 18:37:00</td><td>415.7100</td><td>415.6900</td><td>960.0</td></tr><tr><td>MSFT</td><td>2024-10-04 18:55:00</td><td>415.9000</td><td>415.8300</td><td>445.0</td></tr><tr><td>MSFT</td><td>2024-10-04 18:24:00</td><td>415.7000</td><td>415.6500</td><td>268.0</td></tr><tr><td>MSFT</td><td>2024-10-04 19:56:00</td><td>417.5100</td><td>415.8450</td><td>618.0</td></tr><tr><td>MSFT</td><td>2024-10-04 19:00:00</td><td>415.9000</td><td>415.8000</td><td>95.0</td></tr><tr><td>MSFT</td><td>2024-10-04 19:13:00</td><td>416.9300</td><td>415.8200</td><td>2958.0</td></tr><tr><td>MSFT</td><td>2024-10-04 18:34:00</td><td>415.7000</td><td>415.6700</td><td>305.0</td></tr><tr><td>MSFT</td><td>2024-10-04 18:57:00</td><td>415.8999</td><td>415.8500</td><td>170.0</td></tr><tr><td>MSFT</td><td>2024-10-04 19:29:00</td><td>417.5600</td><td>415.8350</td><td>960.0</td></tr><tr><td>MSFT</td><td>2024-10-04 18:59:00</td><td>415.9000</td><td>415.8000</td><td>195.0</td></tr><tr><td>MSFT</td><td>2024-10-04 19:30:00</td><td>415.8500</td><td>415.8200</td><td>870.0</td></tr><tr><td>MSFT</td><td>2024-10-04 19:53:00</td><td>415.8800</td><td>415.8250</td><td>258.0</td></tr><tr><td>MSFT</td><td>2024-10-04 18:36:00</td><td>415.7000</td><td>415.6900</td><td>145.0</td></tr><tr><td>MSFT</td><td>2024-10-04 18:39:00</td><td>415.7400</td><td>415.7100</td><td>910.0</td></tr><tr><td>MSFT</td><td>2024-10-04 18:47:00</td><td>415.9500</td><td>415.8400</td><td>825.0</td></tr><tr><td>MSFT</td><td>2024-10-04 19:40:00</td><td>415.8500</td><td>415.8215</td><td>348.0</td></tr><tr><td>MSFT</td><td>2024-10-04 19:47:00</td><td>415.8500</td><td>415.7500</td><td>408.0</td></tr><tr><td>MSFT</td><td>2024-10-04 19:12:00</td><td>416.0600</td><td>415.7900</td><td>22386.0</td></tr><tr><td>MSFT</td><td>2024-10-04 19:02:00</td><td>415.9000</td><td>415.7800</td><td>130.0</td></tr><tr><td>MSFT</td><td>2024-10-04 19:17:00</td><td>415.8700</td><td>415.8250</td><td>816.0</td></tr><tr><td>MSFT</td><td>2024-10-04 19:05:00</td><td>415.9000</td><td>415.8100</td><td>155.0</td></tr><tr><td>MSFT</td><td>2024-10-04 19:06:00</td><td>415.9000</td><td>415.8100</td><td>192.0</td></tr><tr><td>MSFT</td><td>2024-10-04 19:32:00</td><td>415.8500</td><td>415.8200</td><td>1086.0</td></tr><tr><td>MSFT</td><td>2024-10-04 19:15:00</td><td>415.8250</td><td>415.8250</td><td>12.0</td></tr><tr><td>MSFT</td><td>2024-10-04 19:01:00</td><td>415.8999</td><td>415.7100</td><td>320.0</td></tr><tr><td>MSFT</td><td>2024-10-04 19:25:00</td><td>415.8500</td><td>415.8000</td><td>744.0</td></tr><tr><td>MSFT</td><td>2024-10-04 19:57:00</td><td>415.9500</td><td>415.8450</td><td>9372.0</td></tr><tr><td>MSFT</td><td>2024-10-04 19:14:00</td><td>416.7800</td><td>415.7800</td><td>162.0</td></tr><tr><td>MSFT</td><td>2024-10-04 19:21:00</td><td>415.8500</td><td>415.8000</td><td>1908.0</td></tr><tr><td>MSFT</td><td>2024-10-04 18:48:00</td><td>415.9500</td><td>415.8400</td><td>210.0</td></tr><tr><td>MSFT</td><td>2024-10-04 18:43:00</td><td>415.9500</td><td>415.8400</td><td>1195.0</td></tr><tr><td>MSFT</td><td>2024-10-04 19:28:00</td><td>416.2600</td><td>415.8200</td><td>360.0</td></tr><tr><td>MSFT</td><td>2024-10-04 19:48:00</td><td>415.9200</td><td>415.7700</td><td>144.0</td></tr><tr><td>MSFT</td><td>2024-10-04 18:45:00</td><td>415.9500</td><td>415.8000</td><td>305.0</td></tr><tr><td>MSFT</td><td>2024-10-04 18:42:00</td><td>415.9500</td><td>415.7200</td><td>4685.0</td></tr><tr><td>MSFT</td><td>2024-10-04 18:56:00</td><td>415.8950</td><td>415.8300</td><td>45.0</td></tr><tr><td>MSFT</td><td>2024-10-04 18:40:00</td><td>415.7400</td><td>415.7100</td><td>160.0</td></tr><tr><td>MSFT</td><td>2024-10-04 18:50:00</td><td>415.9500</td><td>415.8750</td><td>180.0</td></tr><tr><td>MSFT</td><td>2024-10-04 18:38:00</td><td>415.7400</td><td>415.6800</td><td>6165.0</td></tr><tr><td>MSFT</td><td>2024-10-04 18:20:00</td><td>415.7100</td><td>415.6200</td><td>672.0</td></tr></tbody></table></div>"
      ]
     },
     "metadata": {
      "application/vnd.databricks.v1+output": {
       "addedWidgets": {},
       "aggData": [],
       "aggError": "",
       "aggOverflow": false,
       "aggSchema": [],
       "aggSeriesLimitReached": false,
       "aggType": "",
       "arguments": {},
       "columnCustomDisplayInfos": {},
       "data": [
        [
         "AAPL",
         "2024-10-04 19:48:00",
         "226.4900",
         "226.4200",
         1530.0
        ],
        [
         "AAPL",
         "2024-10-04 18:59:00",
         "226.7000",
         "226.5600",
         1290.0
        ],
        [
         "AAPL",
         "2024-10-04 18:55:00",
         "226.5400",
         "226.5300",
         550.0
        ],
        [
         "AAPL",
         "2024-10-04 18:39:00",
         "226.6300",
         "226.5300",
         7990.0
        ],
        [
         "AAPL",
         "2024-10-04 19:00:00",
         "226.5750",
         "226.4500",
         60.0
        ],
        [
         "AAPL",
         "2024-10-04 18:38:00",
         "226.5400",
         "226.5300",
         270.0
        ],
        [
         "AAPL",
         "2024-10-04 19:04:00",
         "226.5750",
         "226.4500",
         260.0
        ],
        [
         "AAPL",
         "2024-10-04 19:16:00",
         "226.5550",
         "226.5000",
         280.0
        ],
        [
         "AAPL",
         "2024-10-04 19:58:00",
         "226.4600",
         "225.2900",
         1450.0
        ],
        [
         "AAPL",
         "2024-10-04 19:38:00",
         "226.4600",
         "226.4600",
         360.0
        ],
        [
         "AAPL",
         "2024-10-04 19:55:00",
         "226.4600",
         "226.4220",
         4230.0
        ],
        [
         "AAPL",
         "2024-10-04 18:44:00",
         "226.6600",
         "226.6300",
         800.0
        ],
        [
         "AAPL",
         "2024-10-04 18:32:00",
         "226.5900",
         "226.5400",
         220.0
        ],
        [
         "AAPL",
         "2024-10-04 18:57:00",
         "226.5500",
         "226.4800",
         17680.0
        ],
        [
         "AAPL",
         "2024-10-04 18:36:00",
         "226.5500",
         "226.5300",
         3180.0
        ],
        [
         "AAPL",
         "2024-10-04 19:10:00",
         "226.5000",
         "226.4965",
         60.0
        ],
        [
         "AAPL",
         "2024-10-04 18:40:00",
         "226.5800",
         "226.5300",
         400.0
        ],
        [
         "AAPL",
         "2024-10-04 19:27:00",
         "226.5600",
         "225.0100",
         8630.0
        ],
        [
         "AAPL",
         "2024-10-04 18:52:00",
         "226.7300",
         "226.6300",
         5190.0
        ],
        [
         "AAPL",
         "2024-10-04 18:27:00",
         "226.6500",
         "226.5212",
         350.0
        ],
        [
         "AAPL",
         "2024-10-04 19:07:00",
         "226.5500",
         "226.4500",
         90.0
        ],
        [
         "AAPL",
         "2024-10-04 19:21:00",
         "226.6000",
         "226.5600",
         1520.0
        ],
        [
         "AAPL",
         "2024-10-04 19:43:00",
         "226.4850",
         "226.4400",
         130.0
        ],
        [
         "AAPL",
         "2024-10-04 19:36:00",
         "226.5472",
         "226.4450",
         30240.0
        ],
        [
         "AAPL",
         "2024-10-04 18:30:00",
         "226.6400",
         "226.5200",
         600.0
        ],
        [
         "AAPL",
         "2024-10-04 19:13:00",
         "226.6200",
         "226.4900",
         2360.0
        ],
        [
         "AAPL",
         "2024-10-04 19:12:00",
         "226.8000",
         "226.5100",
         596090.0
        ],
        [
         "AAPL",
         "2024-10-04 19:40:00",
         "226.4500",
         "226.4200",
         2490.0
        ],
        [
         "AAPL",
         "2024-10-04 19:17:00",
         "226.6167",
         "226.4900",
         13650.0
        ],
        [
         "AAPL",
         "2024-10-04 19:01:00",
         "226.7000",
         "226.4500",
         170.0
        ],
        [
         "AAPL",
         "2024-10-04 18:29:00",
         "226.6500",
         "226.5300",
         5330.0
        ],
        [
         "AAPL",
         "2024-10-04 18:46:00",
         "226.6800",
         "226.6400",
         1930.0
        ],
        [
         "AAPL",
         "2024-10-04 18:26:00",
         "226.6400",
         "226.5800",
         2700.0
        ],
        [
         "AAPL",
         "2024-10-04 18:43:00",
         "226.6300",
         "226.5475",
         2150.0
        ],
        [
         "AAPL",
         "2024-10-04 19:24:00",
         "226.5950",
         "226.5712",
         40.0
        ],
        [
         "AAPL",
         "2024-10-04 19:35:00",
         "226.5700",
         "226.3300",
         49890.0
        ],
        [
         "AAPL",
         "2024-10-04 19:53:00",
         "226.5000",
         "226.4600",
         1520.0
        ],
        [
         "AAPL",
         "2024-10-04 19:44:00",
         "226.5500",
         "226.4200",
         1640.0
        ],
        [
         "AAPL",
         "2024-10-04 18:53:00",
         "226.6900",
         "226.6300",
         220.0
        ],
        [
         "AAPL",
         "2024-10-04 19:54:00",
         "226.4700",
         "226.4600",
         5190.0
        ],
        [
         "AAPL",
         "2024-10-04 19:14:00",
         "226.6200",
         "226.4900",
         530.0
        ],
        [
         "AAPL",
         "2024-10-04 18:51:00",
         "226.7100",
         "226.6400",
         31740.0
        ],
        [
         "AAPL",
         "2024-10-04 18:58:00",
         "226.7000",
         "226.4300",
         120.0
        ],
        [
         "AAPL",
         "2024-10-04 19:15:00",
         "226.6200",
         "226.4900",
         360.0
        ],
        [
         "AAPL",
         "2024-10-04 18:37:00",
         "226.5400",
         "226.5300",
         570.0
        ],
        [
         "AAPL",
         "2024-10-04 19:33:00",
         "226.4650",
         "226.3600",
         550.0
        ],
        [
         "AAPL",
         "2024-10-04 19:28:00",
         "226.5100",
         "226.2800",
         5600.0
        ],
        [
         "AAPL",
         "2024-10-04 19:06:00",
         "226.6000",
         "226.4500",
         140.0
        ],
        [
         "AAPL",
         "2024-10-04 18:22:00",
         "226.6400",
         "226.5600",
         3830.0
        ],
        [
         "AAPL",
         "2024-10-04 19:46:00",
         "226.5500",
         "226.4200",
         670.0
        ],
        [
         "AAPL",
         "2024-10-04 18:50:00",
         "226.6900",
         "226.6400",
         1970.0
        ],
        [
         "AAPL",
         "2024-10-04 18:34:00",
         "226.5750",
         "226.5300",
         410.0
        ],
        [
         "AAPL",
         "2024-10-04 18:20:00",
         "226.6500",
         "226.5600",
         60.0
        ],
        [
         "AAPL",
         "2024-10-04 19:50:00",
         "226.5500",
         "226.4200",
         180.0
        ],
        [
         "AAPL",
         "2024-10-04 19:05:00",
         "226.6900",
         "226.4500",
         160.0
        ],
        [
         "AAPL",
         "2024-10-04 18:31:00",
         "226.6400",
         "226.5400",
         950.0
        ],
        [
         "AAPL",
         "2024-10-04 19:56:00",
         "226.4600",
         "226.3700",
         21340.0
        ],
        [
         "AAPL",
         "2024-10-04 18:42:00",
         "226.6900",
         "226.5300",
         7850.0
        ],
        [
         "AAPL",
         "2024-10-04 19:49:00",
         "226.5500",
         "226.4252",
         270.0
        ],
        [
         "AAPL",
         "2024-10-04 19:51:00",
         "226.4980",
         "226.4200",
         800.0
        ],
        [
         "AAPL",
         "2024-10-04 18:45:00",
         "226.6900",
         "226.6300",
         5650.0
        ],
        [
         "AAPL",
         "2024-10-04 18:35:00",
         "226.5400",
         "226.5300",
         480.0
        ],
        [
         "AAPL",
         "2024-10-04 19:45:00",
         "226.4900",
         "226.4200",
         1120.0
        ],
        [
         "AAPL",
         "2024-10-04 19:31:00",
         "226.4450",
         "224.7100",
         1700.0
        ],
        [
         "AAPL",
         "2024-10-04 19:23:00",
         "226.6000",
         "226.5700",
         570.0
        ],
        [
         "AAPL",
         "2024-10-04 19:57:00",
         "226.4593",
         "226.3700",
         660.0
        ],
        [
         "AAPL",
         "2024-10-04 18:41:00",
         "226.5800",
         "226.5323",
         4680.0
        ],
        [
         "AAPL",
         "2024-10-04 19:59:00",
         "226.4500",
         "226.3700",
         2660.0
        ],
        [
         "AAPL",
         "2024-10-04 19:39:00",
         "226.4600",
         "226.4200",
         330.0
        ],
        [
         "AAPL",
         "2024-10-04 18:24:00",
         "226.6955",
         "226.5200",
         100.0
        ],
        [
         "AAPL",
         "2024-10-04 19:03:00",
         "226.5750",
         "226.4700",
         90.0
        ],
        [
         "AAPL",
         "2024-10-04 19:29:00",
         "226.5700",
         "225.1100",
         1910.0
        ],
        [
         "AAPL",
         "2024-10-04 19:30:00",
         "226.5700",
         "226.3000",
         460.0
        ],
        [
         "AAPL",
         "2024-10-04 19:19:00",
         "226.6200",
         "226.5700",
         1400.0
        ],
        [
         "AAPL",
         "2024-10-04 19:41:00",
         "226.5500",
         "226.4211",
         2530.0
        ],
        [
         "AAPL",
         "2024-10-04 18:23:00",
         "226.6955",
         "226.5200",
         1510.0
        ],
        [
         "AAPL",
         "2024-10-04 18:54:00",
         "226.7255",
         "226.5500",
         26170.0
        ],
        [
         "AAPL",
         "2024-10-04 19:34:00",
         "226.5700",
         "226.4201",
         280.0
        ],
        [
         "AAPL",
         "2024-10-04 19:20:00",
         "226.6000",
         "226.5700",
         2110.0
        ],
        [
         "AAPL",
         "2024-10-04 19:32:00",
         "226.4450",
         "224.4200",
         140.0
        ],
        [
         "AAPL",
         "2024-10-04 19:37:00",
         "226.5500",
         "226.3508",
         1010.0
        ],
        [
         "AAPL",
         "2024-10-04 18:28:00",
         "226.5900",
         "226.5300",
         630.0
        ],
        [
         "AAPL",
         "2024-10-04 19:09:00",
         "226.6300",
         "226.4800",
         50.0
        ],
        [
         "AAPL",
         "2024-10-04 19:25:00",
         "226.6100",
         "226.4900",
         1420.0
        ],
        [
         "AAPL",
         "2024-10-04 19:08:00",
         "226.6300",
         "226.5400",
         180.0
        ],
        [
         "AAPL",
         "2024-10-04 19:02:00",
         "226.7000",
         "226.4500",
         1120.0
        ],
        [
         "AAPL",
         "2024-10-04 18:48:00",
         "226.6900",
         "226.6400",
         4640.0
        ],
        [
         "AAPL",
         "2024-10-04 18:33:00",
         "226.6300",
         "226.5200",
         2050.0
        ],
        [
         "AAPL",
         "2024-10-04 19:42:00",
         "226.5500",
         "226.4200",
         1180.0
        ],
        [
         "AAPL",
         "2024-10-04 19:26:00",
         "226.5600",
         "225.6100",
         6340.0
        ],
        [
         "AAPL",
         "2024-10-04 18:21:00",
         "226.6350",
         "226.5600",
         70.0
        ],
        [
         "AAPL",
         "2024-10-04 18:49:00",
         "226.6700",
         "226.6400",
         620.0
        ],
        [
         "AAPL",
         "2024-10-04 18:47:00",
         "226.6800",
         "226.6400",
         130.0
        ],
        [
         "AAPL",
         "2024-10-04 19:18:00",
         "226.6135",
         "226.5550",
         1010.0
        ],
        [
         "AAPL",
         "2024-10-04 18:25:00",
         "226.6910",
         "226.5200",
         320.0
        ],
        [
         "AAPL",
         "2024-10-04 19:11:00",
         "226.6135",
         "226.4900",
         13750.0
        ],
        [
         "AAPL",
         "2024-10-04 19:22:00",
         "226.6000",
         "226.5850",
         1580.0
        ],
        [
         "AAPL",
         "2024-10-04 18:56:00",
         "226.5500",
         "226.5300",
         5320.0
        ],
        [
         "AAPL",
         "2024-10-04 19:52:00",
         "226.4900",
         "226.4600",
         1530.0
        ],
        [
         "AAPL",
         "2024-10-04 19:47:00",
         "226.5467",
         "226.4239",
         2570.0
        ],
        [
         "GOOGL",
         "2024-10-04 19:22:00",
         "166.8775",
         "166.8300",
         252.0
        ],
        [
         "GOOGL",
         "2024-10-04 19:00:00",
         "166.8800",
         "166.8700",
         60.0
        ],
        [
         "GOOGL",
         "2024-10-04 19:56:00",
         "166.9800",
         "164.5400",
         3324.0
        ],
        [
         "GOOGL",
         "2024-10-04 18:48:00",
         "166.8400",
         "166.7900",
         6552.0
        ],
        [
         "GOOGL",
         "2024-10-04 19:38:00",
         "166.8800",
         "166.8700",
         1080.0
        ],
        [
         "GOOGL",
         "2024-10-04 19:32:00",
         "166.8800",
         "166.8700",
         744.0
        ],
        [
         "GOOGL",
         "2024-10-04 18:27:00",
         "166.8800",
         "166.8500",
         96.0
        ],
        [
         "GOOGL",
         "2024-10-04 18:15:00",
         "166.8900",
         "166.8500",
         60.0
        ],
        [
         "GOOGL",
         "2024-10-04 18:52:00",
         "166.8800",
         "166.7700",
         372.0
        ],
        [
         "GOOGL",
         "2024-10-04 19:55:00",
         "166.9000",
         "166.8600",
         7932.0
        ],
        [
         "GOOGL",
         "2024-10-04 18:16:00",
         "166.8900",
         "166.7827",
         7848.0
        ],
        [
         "GOOGL",
         "2024-10-04 19:26:00",
         "166.8800",
         "166.8700",
         108.0
        ],
        [
         "GOOGL",
         "2024-10-04 19:19:00",
         "166.8800",
         "166.8800",
         48.0
        ],
        [
         "GOOGL",
         "2024-10-04 18:39:00",
         "166.8400",
         "166.8300",
         132.0
        ],
        [
         "GOOGL",
         "2024-10-04 18:55:00",
         "166.8700",
         "166.8100",
         1092.0
        ],
        [
         "GOOGL",
         "2024-10-04 18:50:00",
         "166.8800",
         "166.8800",
         24.0
        ],
        [
         "GOOGL",
         "2024-10-04 18:21:00",
         "166.8900",
         "166.8800",
         60.0
        ],
        [
         "GOOGL",
         "2024-10-04 19:15:00",
         "166.8900",
         "166.8800",
         1176.0
        ],
        [
         "GOOGL",
         "2024-10-04 19:03:00",
         "166.8700",
         "166.8700",
         576.0
        ],
        [
         "GOOGL",
         "2024-10-04 19:41:00",
         "166.8800",
         "166.8700",
         432.0
        ],
        [
         "GOOGL",
         "2024-10-04 18:19:00",
         "166.8900",
         "166.8600",
         192.0
        ],
        [
         "GOOGL",
         "2024-10-04 18:32:00",
         "166.8800",
         "166.7700",
         1236.0
        ],
        [
         "GOOGL",
         "2024-10-04 19:28:00",
         "165.1100",
         "165.1100",
         108.0
        ],
        [
         "GOOGL",
         "2024-10-04 19:39:00",
         "166.8800",
         "166.8300",
         60.0
        ],
        [
         "GOOGL",
         "2024-10-04 18:38:00",
         "166.8500",
         "166.8382",
         36.0
        ],
        [
         "GOOGL",
         "2024-10-04 18:42:00",
         "166.8400",
         "166.7700",
         324.0
        ],
        [
         "GOOGL",
         "2024-10-04 19:16:00",
         "166.8800",
         "166.8800",
         768.0
        ],
        [
         "GOOGL",
         "2024-10-04 19:27:00",
         "166.8800",
         "166.8800",
         132.0
        ],
        [
         "GOOGL",
         "2024-10-04 18:12:00",
         "166.8900",
         "166.8800",
         336.0
        ],
        [
         "GOOGL",
         "2024-10-04 19:02:00",
         "166.8800",
         "166.8500",
         1380.0
        ],
        [
         "GOOGL",
         "2024-10-04 19:04:00",
         "166.8800",
         "166.8700",
         7416.0
        ],
        [
         "GOOGL",
         "2024-10-04 19:42:00",
         "166.8800",
         "166.8799",
         624.0
        ],
        [
         "GOOGL",
         "2024-10-04 19:59:00",
         "166.9715",
         "166.8900",
         1056.0
        ],
        [
         "GOOGL",
         "2024-10-04 19:11:00",
         "166.9500",
         "166.8900",
         384.0
        ],
        [
         "GOOGL",
         "2024-10-04 18:25:00",
         "166.8800",
         "166.7700",
         144.0
        ],
        [
         "GOOGL",
         "2024-10-04 18:56:00",
         "166.8800",
         "166.8200",
         1800.0
        ],
        [
         "GOOGL",
         "2024-10-04 19:49:00",
         "166.8700",
         "166.8600",
         72.0
        ],
        [
         "GOOGL",
         "2024-10-04 18:08:00",
         "166.8500",
         "166.8500",
         48.0
        ],
        [
         "GOOGL",
         "2024-10-04 19:21:00",
         "166.8800",
         "166.8800",
         36.0
        ],
        [
         "GOOGL",
         "2024-10-04 18:11:00",
         "166.8900",
         "166.8500",
         588.0
        ],
        [
         "GOOGL",
         "2024-10-04 18:49:00",
         "166.8800",
         "166.7755",
         3360.0
        ],
        [
         "GOOGL",
         "2024-10-04 19:17:00",
         "166.8800",
         "166.8775",
         828.0
        ],
        [
         "GOOGL",
         "2024-10-04 18:31:00",
         "166.8700",
         "166.8700",
         12.0
        ],
        [
         "GOOGL",
         "2024-10-04 18:51:00",
         "166.8800",
         "166.7700",
         204.0
        ],
        [
         "GOOGL",
         "2024-10-04 18:33:00",
         "166.8700",
         "166.8600",
         552.0
        ],
        [
         "GOOGL",
         "2024-10-04 18:44:00",
         "166.8400",
         "166.8394",
         84.0
        ],
        [
         "GOOGL",
         "2024-10-04 18:18:00",
         "166.8600",
         "166.8300",
         108.0
        ],
        [
         "GOOGL",
         "2024-10-04 19:47:00",
         "166.8500",
         "166.8275",
         1380.0
        ],
        [
         "GOOGL",
         "2024-10-04 19:40:00",
         "166.8800",
         "166.8300",
         852.0
        ],
        [
         "GOOGL",
         "2024-10-04 18:26:00",
         "166.8800",
         "166.8700",
         360.0
        ],
        [
         "GOOGL",
         "2024-10-04 19:37:00",
         "166.8800",
         "166.7800",
         1872.0
        ],
        [
         "GOOGL",
         "2024-10-04 19:01:00",
         "166.8800",
         "166.8500",
         5028.0
        ],
        [
         "GOOGL",
         "2024-10-04 18:43:00",
         "166.8400",
         "166.7735",
         9552.0
        ],
        [
         "GOOGL",
         "2024-10-04 18:13:00",
         "166.8900",
         "166.8900",
         4176.0
        ],
        [
         "GOOGL",
         "2024-10-04 19:43:00",
         "166.8302",
         "166.8302",
         1200.0
        ],
        [
         "GOOGL",
         "2024-10-04 18:30:00",
         "166.8700",
         "166.8700",
         24.0
        ],
        [
         "GOOGL",
         "2024-10-04 18:57:00",
         "166.8800",
         "166.8214",
         696.0
        ],
        [
         "GOOGL",
         "2024-10-04 18:35:00",
         "166.8700",
         "166.8500",
         180.0
        ],
        [
         "GOOGL",
         "2024-10-04 19:51:00",
         "166.8800",
         "166.8040",
         264.0
        ],
        [
         "GOOGL",
         "2024-10-04 18:23:00",
         "166.8700",
         "166.8312",
         48.0
        ],
        [
         "GOOGL",
         "2024-10-04 19:36:00",
         "166.8700",
         "166.8227",
         780.0
        ],
        [
         "GOOGL",
         "2024-10-04 18:47:00",
         "166.8400",
         "166.8400",
         24.0
        ],
        [
         "GOOGL",
         "2024-10-04 19:05:00",
         "166.8800",
         "166.8800",
         72.0
        ],
        [
         "GOOGL",
         "2024-10-04 19:25:00",
         "166.8800",
         "166.7800",
         1224.0
        ],
        [
         "GOOGL",
         "2024-10-04 18:22:00",
         "166.8800",
         "166.8500",
         564.0
        ],
        [
         "GOOGL",
         "2024-10-04 19:54:00",
         "166.8700",
         "166.8600",
         252.0
        ],
        [
         "GOOGL",
         "2024-10-04 19:50:00",
         "166.8797",
         "166.8283",
         1428.0
        ],
        [
         "GOOGL",
         "2024-10-04 18:41:00",
         "166.8400",
         "166.7700",
         564.0
        ],
        [
         "GOOGL",
         "2024-10-04 18:40:00",
         "166.8400",
         "166.8400",
         600.0
        ],
        [
         "GOOGL",
         "2024-10-04 19:35:00",
         "166.8800",
         "166.8800",
         120.0
        ],
        [
         "GOOGL",
         "2024-10-04 19:57:00",
         "166.9800",
         "166.8800",
         5736.0
        ],
        [
         "GOOGL",
         "2024-10-04 19:44:00",
         "166.8800",
         "166.8800",
         1860.0
        ],
        [
         "GOOGL",
         "2024-10-04 19:46:00",
         "166.8700",
         "166.8300",
         132.0
        ],
        [
         "GOOGL",
         "2024-10-04 19:53:00",
         "166.8000",
         "166.8000",
         12.0
        ],
        [
         "GOOGL",
         "2024-10-04 18:24:00",
         "166.8800",
         "166.8800",
         12.0
        ],
        [
         "GOOGL",
         "2024-10-04 18:09:00",
         "166.9000",
         "166.8500",
         22560.0
        ],
        [
         "GOOGL",
         "2024-10-04 18:59:00",
         "166.8800",
         "166.8800",
         2412.0
        ],
        [
         "GOOGL",
         "2024-10-04 19:52:00",
         "166.8800",
         "166.8500",
         420.0
        ],
        [
         "GOOGL",
         "2024-10-04 19:08:00",
         "167.0000",
         "166.7943",
         2664.0
        ],
        [
         "GOOGL",
         "2024-10-04 19:09:00",
         "167.0000",
         "166.8800",
         1224.0
        ],
        [
         "GOOGL",
         "2024-10-04 19:58:00",
         "166.9766",
         "166.8800",
         5640.0
        ],
        [
         "GOOGL",
         "2024-10-04 19:30:00",
         "166.8800",
         "166.8800",
         624.0
        ],
        [
         "GOOGL",
         "2024-10-04 19:31:00",
         "166.8760",
         "165.3200",
         480.0
        ],
        [
         "GOOGL",
         "2024-10-04 19:06:00",
         "167.0000",
         "166.8218",
         240.0
        ],
        [
         "GOOGL",
         "2024-10-04 19:13:00",
         "166.9918",
         "166.9918",
         3000.0
        ],
        [
         "GOOGL",
         "2024-10-04 19:33:00",
         "166.8800",
         "166.8800",
         36.0
        ],
        [
         "GOOGL",
         "2024-10-04 19:12:00",
         "167.0600",
         "166.9300",
         437616.0
        ],
        [
         "GOOGL",
         "2024-10-04 18:46:00",
         "166.8400",
         "166.7735",
         696.0
        ],
        [
         "GOOGL",
         "2024-10-04 18:45:00",
         "166.8400",
         "166.7700",
         636.0
        ],
        [
         "GOOGL",
         "2024-10-04 19:34:00",
         "166.8800",
         "166.8000",
         2196.0
        ],
        [
         "GOOGL",
         "2024-10-04 19:20:00",
         "166.8800",
         "166.7825",
         648.0
        ],
        [
         "GOOGL",
         "2024-10-04 18:37:00",
         "166.8500",
         "166.8500",
         120.0
        ],
        [
         "GOOGL",
         "2024-10-04 18:10:00",
         "166.9000",
         "166.8500",
         72.0
        ],
        [
         "GOOGL",
         "2024-10-04 18:28:00",
         "166.8799",
         "166.7952",
         3084.0
        ],
        [
         "GOOGL",
         "2024-10-04 19:29:00",
         "166.8800",
         "166.8354",
         1104.0
        ],
        [
         "GOOGL",
         "2024-10-04 19:14:00",
         "166.9500",
         "166.9400",
         36.0
        ],
        [
         "GOOGL",
         "2024-10-04 18:20:00",
         "166.8800",
         "166.8312",
         36.0
        ],
        [
         "GOOGL",
         "2024-10-04 18:36:00",
         "166.8500",
         "166.8500",
         684.0
        ],
        [
         "GOOGL",
         "2024-10-04 18:58:00",
         "166.8793",
         "166.8700",
         576.0
        ],
        [
         "GOOGL",
         "2024-10-04 19:45:00",
         "166.8800",
         "166.8800",
         312.0
        ],
        [
         "MSFT",
         "2024-10-04 19:38:00",
         "415.8500",
         "415.8300",
         1206.0
        ],
        [
         "MSFT",
         "2024-10-04 19:42:00",
         "415.8500",
         "415.7400",
         2106.0
        ],
        [
         "MSFT",
         "2024-10-04 18:44:00",
         "415.9500",
         "415.8400",
         350.0
        ],
        [
         "MSFT",
         "2024-10-04 18:31:00",
         "415.7000",
         "415.6100",
         745.0
        ],
        [
         "MSFT",
         "2024-10-04 19:16:00",
         "415.8700",
         "415.8250",
         756.0
        ],
        [
         "MSFT",
         "2024-10-04 18:25:00",
         "415.7000",
         "415.6500",
         664.0
        ],
        [
         "MSFT",
         "2024-10-04 19:07:00",
         "415.8700",
         "415.7650",
         150.0
        ],
        [
         "MSFT",
         "2024-10-04 19:26:00",
         "418.1800",
         "415.8200",
         2598.0
        ],
        [
         "MSFT",
         "2024-10-04 18:23:00",
         "415.7700",
         "415.6025",
         304.0
        ],
        [
         "MSFT",
         "2024-10-04 19:03:00",
         "415.9000",
         "415.7200",
         345.0
        ],
        [
         "MSFT",
         "2024-10-04 18:58:00",
         "415.9000",
         "415.8000",
         1635.0
        ],
        [
         "MSFT",
         "2024-10-04 18:21:00",
         "415.7000",
         "415.6500",
         328.0
        ],
        [
         "MSFT",
         "2024-10-04 19:24:00",
         "415.8500",
         "415.8000",
         2532.0
        ],
        [
         "MSFT",
         "2024-10-04 19:20:00",
         "415.8700",
         "415.7800",
         144.0
        ],
        [
         "MSFT",
         "2024-10-04 18:54:00",
         "415.9400",
         "415.8700",
         210.0
        ],
        [
         "MSFT",
         "2024-10-04 19:19:00",
         "415.8600",
         "415.8150",
         246.0
        ],
        [
         "MSFT",
         "2024-10-04 18:51:00",
         "415.9500",
         "415.8500",
         535.0
        ],
        [
         "MSFT",
         "2024-10-04 18:53:00",
         "415.9400",
         "415.8075",
         380.0
        ],
        [
         "MSFT",
         "2024-10-04 19:59:00",
         "415.9000",
         "415.8150",
         2316.0
        ],
        [
         "MSFT",
         "2024-10-04 18:30:00",
         "415.7000",
         "415.6550",
         560.0
        ],
        [
         "MSFT",
         "2024-10-04 18:32:00",
         "415.7000",
         "415.6100",
         1925.0
        ],
        [
         "MSFT",
         "2024-10-04 19:04:00",
         "415.8100",
         "415.7290",
         520.0
        ],
        [
         "MSFT",
         "2024-10-04 19:34:00",
         "415.8500",
         "415.8350",
         1122.0
        ],
        [
         "MSFT",
         "2024-10-04 19:09:00",
         "415.8500",
         "415.7850",
         210.0
        ],
        [
         "MSFT",
         "2024-10-04 19:46:00",
         "415.9200",
         "415.8000",
         132.0
        ],
        [
         "MSFT",
         "2024-10-04 19:33:00",
         "416.4500",
         "415.8300",
         1806.0
        ],
        [
         "MSFT",
         "2024-10-04 19:35:00",
         "415.8400",
         "415.8350",
         66.0
        ],
        [
         "MSFT",
         "2024-10-04 19:18:00",
         "415.8700",
         "415.8250",
         204.0
        ],
        [
         "MSFT",
         "2024-10-04 18:49:00",
         "415.9400",
         "415.8750",
         595.0
        ],
        [
         "MSFT",
         "2024-10-04 19:08:00",
         "415.8400",
         "415.7650",
         282.0
        ],
        [
         "MSFT",
         "2024-10-04 19:10:00",
         "415.8500",
         "415.8100",
         360.0
        ],
        [
         "MSFT",
         "2024-10-04 19:50:00",
         "415.9200",
         "415.8200",
         276.0
        ],
        [
         "MSFT",
         "2024-10-04 19:45:00",
         "415.9400",
         "415.8300",
         1956.0
        ],
        [
         "MSFT",
         "2024-10-04 19:39:00",
         "415.8500",
         "415.8300",
         324.0
        ],
        [
         "MSFT",
         "2024-10-04 18:46:00",
         "415.9500",
         "415.8000",
         185.0
        ],
        [
         "MSFT",
         "2024-10-04 19:27:00",
         "418.0700",
         "415.8000",
         570.0
        ],
        [
         "MSFT",
         "2024-10-04 19:22:00",
         "415.8700",
         "415.8000",
         1890.0
        ],
        [
         "MSFT",
         "2024-10-04 18:33:00",
         "415.6900",
         "415.6700",
         30.0
        ],
        [
         "MSFT",
         "2024-10-04 18:52:00",
         "415.9500",
         "415.8000",
         585.0
        ],
        [
         "MSFT",
         "2024-10-04 18:27:00",
         "415.7000",
         "415.6145",
         445.0
        ],
        [
         "MSFT",
         "2024-10-04 19:58:00",
         "417.2700",
         "415.8500",
         3954.0
        ],
        [
         "MSFT",
         "2024-10-04 18:35:00",
         "415.7000",
         "415.6700",
         630.0
        ],
        [
         "MSFT",
         "2024-10-04 19:37:00",
         "415.8500",
         "415.8300",
         420.0
        ],
        [
         "MSFT",
         "2024-10-04 19:44:00",
         "415.9400",
         "415.7600",
         750.0
        ],
        [
         "MSFT",
         "2024-10-04 18:41:00",
         "415.7400",
         "415.7200",
         285.0
        ],
        [
         "MSFT",
         "2024-10-04 19:23:00",
         "415.8700",
         "415.8200",
         714.0
        ],
        [
         "MSFT",
         "2024-10-04 19:11:00",
         "415.8300",
         "415.7800",
         222.0
        ],
        [
         "MSFT",
         "2024-10-04 19:52:00",
         "415.9000",
         "415.7600",
         708.0
        ],
        [
         "MSFT",
         "2024-10-04 19:55:00",
         "415.9200",
         "415.7500",
         558.0
        ],
        [
         "MSFT",
         "2024-10-04 19:49:00",
         "415.9100",
         "415.8200",
         192.0
        ],
        [
         "MSFT",
         "2024-10-04 18:22:00",
         "415.7000",
         "415.6092",
         2512.0
        ],
        [
         "MSFT",
         "2024-10-04 19:43:00",
         "415.8500",
         "415.7850",
         246.0
        ],
        [
         "MSFT",
         "2024-10-04 18:28:00",
         "415.7000",
         "415.6550",
         440.0
        ],
        [
         "MSFT",
         "2024-10-04 19:36:00",
         "415.8500",
         "415.8350",
         228.0
        ],
        [
         "MSFT",
         "2024-10-04 19:51:00",
         "415.9199",
         "415.7300",
         438.0
        ],
        [
         "MSFT",
         "2024-10-04 18:26:00",
         "415.7800",
         "415.6100",
         235.0
        ],
        [
         "MSFT",
         "2024-10-04 19:54:00",
         "415.9200",
         "415.8250",
         252.0
        ],
        [
         "MSFT",
         "2024-10-04 18:29:00",
         "415.7000",
         "415.6550",
         3015.0
        ],
        [
         "MSFT",
         "2024-10-04 19:41:00",
         "415.8500",
         "415.7550",
         3630.0
        ],
        [
         "MSFT",
         "2024-10-04 19:31:00",
         "417.7100",
         "415.8200",
         1920.0
        ],
        [
         "MSFT",
         "2024-10-04 18:37:00",
         "415.7100",
         "415.6900",
         960.0
        ],
        [
         "MSFT",
         "2024-10-04 18:55:00",
         "415.9000",
         "415.8300",
         445.0
        ],
        [
         "MSFT",
         "2024-10-04 18:24:00",
         "415.7000",
         "415.6500",
         268.0
        ],
        [
         "MSFT",
         "2024-10-04 19:56:00",
         "417.5100",
         "415.8450",
         618.0
        ],
        [
         "MSFT",
         "2024-10-04 19:00:00",
         "415.9000",
         "415.8000",
         95.0
        ],
        [
         "MSFT",
         "2024-10-04 19:13:00",
         "416.9300",
         "415.8200",
         2958.0
        ],
        [
         "MSFT",
         "2024-10-04 18:34:00",
         "415.7000",
         "415.6700",
         305.0
        ],
        [
         "MSFT",
         "2024-10-04 18:57:00",
         "415.8999",
         "415.8500",
         170.0
        ],
        [
         "MSFT",
         "2024-10-04 19:29:00",
         "417.5600",
         "415.8350",
         960.0
        ],
        [
         "MSFT",
         "2024-10-04 18:59:00",
         "415.9000",
         "415.8000",
         195.0
        ],
        [
         "MSFT",
         "2024-10-04 19:30:00",
         "415.8500",
         "415.8200",
         870.0
        ],
        [
         "MSFT",
         "2024-10-04 19:53:00",
         "415.8800",
         "415.8250",
         258.0
        ],
        [
         "MSFT",
         "2024-10-04 18:36:00",
         "415.7000",
         "415.6900",
         145.0
        ],
        [
         "MSFT",
         "2024-10-04 18:39:00",
         "415.7400",
         "415.7100",
         910.0
        ],
        [
         "MSFT",
         "2024-10-04 18:47:00",
         "415.9500",
         "415.8400",
         825.0
        ],
        [
         "MSFT",
         "2024-10-04 19:40:00",
         "415.8500",
         "415.8215",
         348.0
        ],
        [
         "MSFT",
         "2024-10-04 19:47:00",
         "415.8500",
         "415.7500",
         408.0
        ],
        [
         "MSFT",
         "2024-10-04 19:12:00",
         "416.0600",
         "415.7900",
         22386.0
        ],
        [
         "MSFT",
         "2024-10-04 19:02:00",
         "415.9000",
         "415.7800",
         130.0
        ],
        [
         "MSFT",
         "2024-10-04 19:17:00",
         "415.8700",
         "415.8250",
         816.0
        ],
        [
         "MSFT",
         "2024-10-04 19:05:00",
         "415.9000",
         "415.8100",
         155.0
        ],
        [
         "MSFT",
         "2024-10-04 19:06:00",
         "415.9000",
         "415.8100",
         192.0
        ],
        [
         "MSFT",
         "2024-10-04 19:32:00",
         "415.8500",
         "415.8200",
         1086.0
        ],
        [
         "MSFT",
         "2024-10-04 19:15:00",
         "415.8250",
         "415.8250",
         12.0
        ],
        [
         "MSFT",
         "2024-10-04 19:01:00",
         "415.8999",
         "415.7100",
         320.0
        ],
        [
         "MSFT",
         "2024-10-04 19:25:00",
         "415.8500",
         "415.8000",
         744.0
        ],
        [
         "MSFT",
         "2024-10-04 19:57:00",
         "415.9500",
         "415.8450",
         9372.0
        ],
        [
         "MSFT",
         "2024-10-04 19:14:00",
         "416.7800",
         "415.7800",
         162.0
        ],
        [
         "MSFT",
         "2024-10-04 19:21:00",
         "415.8500",
         "415.8000",
         1908.0
        ],
        [
         "MSFT",
         "2024-10-04 18:48:00",
         "415.9500",
         "415.8400",
         210.0
        ],
        [
         "MSFT",
         "2024-10-04 18:43:00",
         "415.9500",
         "415.8400",
         1195.0
        ],
        [
         "MSFT",
         "2024-10-04 19:28:00",
         "416.2600",
         "415.8200",
         360.0
        ],
        [
         "MSFT",
         "2024-10-04 19:48:00",
         "415.9200",
         "415.7700",
         144.0
        ],
        [
         "MSFT",
         "2024-10-04 18:45:00",
         "415.9500",
         "415.8000",
         305.0
        ],
        [
         "MSFT",
         "2024-10-04 18:42:00",
         "415.9500",
         "415.7200",
         4685.0
        ],
        [
         "MSFT",
         "2024-10-04 18:56:00",
         "415.8950",
         "415.8300",
         45.0
        ],
        [
         "MSFT",
         "2024-10-04 18:40:00",
         "415.7400",
         "415.7100",
         160.0
        ],
        [
         "MSFT",
         "2024-10-04 18:50:00",
         "415.9500",
         "415.8750",
         180.0
        ],
        [
         "MSFT",
         "2024-10-04 18:38:00",
         "415.7400",
         "415.6800",
         6165.0
        ],
        [
         "MSFT",
         "2024-10-04 18:20:00",
         "415.7100",
         "415.6200",
         672.0
        ]
       ],
       "datasetInfos": [],
       "dbfsResultPath": null,
       "isJsonSchema": true,
       "metadata": {
        "createTempViewForImplicitDf": true,
        "dataframeName": "_sqldf",
        "executionCount": 24
       },
       "overflow": false,
       "plotOptions": {
        "customPlotOptions": {},
        "displayType": "table",
        "pivotAggregation": null,
        "pivotColumns": null,
        "xColumns": null,
        "yColumns": null
       },
       "removedWidgets": [],
       "schema": [
        {
         "metadata": "{}",
         "name": "symbol",
         "type": "\"string\""
        },
        {
         "metadata": "{}",
         "name": "timestamp",
         "type": "\"string\""
        },
        {
         "metadata": "{}",
         "name": "max_high",
         "type": "\"string\""
        },
        {
         "metadata": "{}",
         "name": "min_low",
         "type": "\"string\""
        },
        {
         "metadata": "{}",
         "name": "total_volume",
         "type": "\"double\""
        }
       ],
       "type": "table"
      }
     },
     "output_type": "display_data"
    }
   ],
   "source": [
    "%sql\n",
    "select * from kafka.gold.monthly_aggregates order by symbol"
   ]
  },
  {
   "cell_type": "markdown",
   "metadata": {
    "application/vnd.databricks.v1+cell": {
     "cellMetadata": {},
     "inputWidgets": {},
     "nuid": "b3e3009a-5ac8-4f06-99e1-b666fa412380",
     "showTitle": false,
     "title": ""
    }
   },
   "source": [
    "# Optimize Delta Tables"
   ]
  },
  {
   "cell_type": "code",
   "execution_count": 0,
   "metadata": {
    "application/vnd.databricks.v1+cell": {
     "cellMetadata": {
      "byteLimit": 2048000,
      "implicitDf": true,
      "rowLimit": 10000
     },
     "inputWidgets": {},
     "nuid": "8cfa7b65-ed2e-46fc-ad78-2f39ae5cd420",
     "showTitle": false,
     "title": ""
    }
   },
   "outputs": [
    {
     "output_type": "display_data",
     "data": {
      "text/html": [
       "<style scoped>\n",
       "  .table-result-container {\n",
       "    max-height: 300px;\n",
       "    overflow: auto;\n",
       "  }\n",
       "  table, th, td {\n",
       "    border: 1px solid black;\n",
       "    border-collapse: collapse;\n",
       "  }\n",
       "  th, td {\n",
       "    padding: 5px;\n",
       "  }\n",
       "  th {\n",
       "    text-align: left;\n",
       "  }\n",
       "</style><div class='table-result-container'><table class='table-result'><thead style='background-color: white'><tr><th>path</th><th>metrics</th></tr></thead><tbody><tr><td>abfss://data@adbmathew01.dfs.core.windows.net/ext_tables/gold/__unitystorage/schemas/1b6382ee-4640-4e7b-bc3c-4bf9b5517b79/tables/6966fa29-10e5-44d2-9036-92ae8b369be9</td><td>List(0, 0, List(null, null, 0.0, 0, 0), List(null, null, 0.0, 0, 0), 0, List(minCubeSize(107374182400), List(0, 0), List(1, 8051), 0, List(0, 0), 0, null), null, 0, 0, 1, 1, false, 0, 0, 1728317014422, 1728317015709, 4, 0, null, List(0, 0), 7, 7, 0, 0, null)</td></tr></tbody></table></div>"
      ]
     },
     "metadata": {
      "application/vnd.databricks.v1+output": {
       "addedWidgets": {},
       "aggData": [],
       "aggError": "",
       "aggOverflow": false,
       "aggSchema": [],
       "aggSeriesLimitReached": false,
       "aggType": "",
       "arguments": {},
       "columnCustomDisplayInfos": {},
       "data": [
        [
         "abfss://data@adbmathew01.dfs.core.windows.net/ext_tables/gold/__unitystorage/schemas/1b6382ee-4640-4e7b-bc3c-4bf9b5517b79/tables/6966fa29-10e5-44d2-9036-92ae8b369be9",
         [
          0,
          0,
          [
           null,
           null,
           0.0,
           0,
           0
          ],
          [
           null,
           null,
           0.0,
           0,
           0
          ],
          0,
          [
           "minCubeSize(107374182400)",
           [
            0,
            0
           ],
           [
            1,
            8051
           ],
           0,
           [
            0,
            0
           ],
           0,
           null
          ],
          null,
          0,
          0,
          1,
          1,
          false,
          0,
          0,
          1728317014422,
          1728317015709,
          4,
          0,
          null,
          [
           0,
           0
          ],
          7,
          7,
          0,
          0,
          null
         ]
        ]
       ],
       "datasetInfos": [],
       "dbfsResultPath": null,
       "isJsonSchema": true,
       "metadata": {
        "createTempViewForImplicitDf": true,
        "dataframeName": "_sqldf",
        "executionCount": 10
       },
       "overflow": false,
       "plotOptions": {
        "customPlotOptions": {},
        "displayType": "table",
        "pivotAggregation": null,
        "pivotColumns": null,
        "xColumns": null,
        "yColumns": null
       },
       "removedWidgets": [],
       "schema": [
        {
         "metadata": "{}",
         "name": "path",
         "type": "\"string\""
        },
        {
         "metadata": "{}",
         "name": "metrics",
         "type": "{\"type\":\"struct\",\"fields\":[{\"name\":\"numFilesAdded\",\"type\":\"long\",\"nullable\":false,\"metadata\":{}},{\"name\":\"numFilesRemoved\",\"type\":\"long\",\"nullable\":false,\"metadata\":{}},{\"name\":\"filesAdded\",\"type\":{\"type\":\"struct\",\"fields\":[{\"name\":\"min\",\"type\":\"long\",\"nullable\":true,\"metadata\":{}},{\"name\":\"max\",\"type\":\"long\",\"nullable\":true,\"metadata\":{}},{\"name\":\"avg\",\"type\":\"double\",\"nullable\":false,\"metadata\":{}},{\"name\":\"totalFiles\",\"type\":\"long\",\"nullable\":false,\"metadata\":{}},{\"name\":\"totalSize\",\"type\":\"long\",\"nullable\":false,\"metadata\":{}}]},\"nullable\":true,\"metadata\":{}},{\"name\":\"filesRemoved\",\"type\":{\"type\":\"struct\",\"fields\":[{\"name\":\"min\",\"type\":\"long\",\"nullable\":true,\"metadata\":{}},{\"name\":\"max\",\"type\":\"long\",\"nullable\":true,\"metadata\":{}},{\"name\":\"avg\",\"type\":\"double\",\"nullable\":false,\"metadata\":{}},{\"name\":\"totalFiles\",\"type\":\"long\",\"nullable\":false,\"metadata\":{}},{\"name\":\"totalSize\",\"type\":\"long\",\"nullable\":false,\"metadata\":{}}]},\"nullable\":true,\"metadata\":{}},{\"name\":\"partitionsOptimized\",\"type\":\"long\",\"nullable\":false,\"metadata\":{}},{\"name\":\"zOrderStats\",\"type\":{\"type\":\"struct\",\"fields\":[{\"name\":\"strategyName\",\"type\":\"string\",\"nullable\":true,\"metadata\":{}},{\"name\":\"inputCubeFiles\",\"type\":{\"type\":\"struct\",\"fields\":[{\"name\":\"num\",\"type\":\"long\",\"nullable\":false,\"metadata\":{}},{\"name\":\"size\",\"type\":\"long\",\"nullable\":false,\"metadata\":{}}]},\"nullable\":true,\"metadata\":{}},{\"name\":\"inputOtherFiles\",\"type\":{\"type\":\"struct\",\"fields\":[{\"name\":\"num\",\"type\":\"long\",\"nullable\":false,\"metadata\":{}},{\"name\":\"size\",\"type\":\"long\",\"nullable\":false,\"metadata\":{}}]},\"nullable\":true,\"metadata\":{}},{\"name\":\"inputNumCubes\",\"type\":\"long\",\"nullable\":false,\"metadata\":{}},{\"name\":\"mergedFiles\",\"type\":{\"type\":\"struct\",\"fields\":[{\"name\":\"num\",\"type\":\"long\",\"nullable\":false,\"metadata\":{}},{\"name\":\"size\",\"type\":\"long\",\"nullable\":false,\"metadata\":{}}]},\"nullable\":true,\"metadata\":{}},{\"name\":\"numOutputCubes\",\"type\":\"long\",\"nullable\":false,\"metadata\":{}},{\"name\":\"mergedNumCubes\",\"type\":\"long\",\"nullable\":true,\"metadata\":{}}]},\"nullable\":true,\"metadata\":{}},{\"name\":\"clusteringStats\",\"type\":{\"type\":\"struct\",\"fields\":[{\"name\":\"inputZCubeFiles\",\"type\":{\"type\":\"struct\",\"fields\":[{\"name\":\"numFiles\",\"type\":\"long\",\"nullable\":false,\"metadata\":{}},{\"name\":\"size\",\"type\":\"long\",\"nullable\":false,\"metadata\":{}}]},\"nullable\":true,\"metadata\":{}},{\"name\":\"inputOtherFiles\",\"type\":{\"type\":\"struct\",\"fields\":[{\"name\":\"numFiles\",\"type\":\"long\",\"nullable\":false,\"metadata\":{}},{\"name\":\"size\",\"type\":\"long\",\"nullable\":false,\"metadata\":{}}]},\"nullable\":true,\"metadata\":{}},{\"name\":\"inputNumZCubes\",\"type\":\"long\",\"nullable\":false,\"metadata\":{}},{\"name\":\"mergedFiles\",\"type\":{\"type\":\"struct\",\"fields\":[{\"name\":\"numFiles\",\"type\":\"long\",\"nullable\":false,\"metadata\":{}},{\"name\":\"size\",\"type\":\"long\",\"nullable\":false,\"metadata\":{}}]},\"nullable\":true,\"metadata\":{}},{\"name\":\"numOutputZCubes\",\"type\":\"long\",\"nullable\":false,\"metadata\":{}}]},\"nullable\":true,\"metadata\":{}},{\"name\":\"numBins\",\"type\":\"long\",\"nullable\":false,\"metadata\":{}},{\"name\":\"numBatches\",\"type\":\"long\",\"nullable\":false,\"metadata\":{}},{\"name\":\"totalConsideredFiles\",\"type\":\"long\",\"nullable\":false,\"metadata\":{}},{\"name\":\"totalFilesSkipped\",\"type\":\"long\",\"nullable\":false,\"metadata\":{}},{\"name\":\"preserveInsertionOrder\",\"type\":\"boolean\",\"nullable\":false,\"metadata\":{}},{\"name\":\"numFilesSkippedToReduceWriteAmplification\",\"type\":\"long\",\"nullable\":false,\"metadata\":{}},{\"name\":\"numBytesSkippedToReduceWriteAmplification\",\"type\":\"long\",\"nullable\":false,\"metadata\":{}},{\"name\":\"startTimeMs\",\"type\":\"long\",\"nullable\":false,\"metadata\":{}},{\"name\":\"endTimeMs\",\"type\":\"long\",\"nullable\":false,\"metadata\":{}},{\"name\":\"totalClusterParallelism\",\"type\":\"long\",\"nullable\":false,\"metadata\":{}},{\"name\":\"totalScheduledTasks\",\"type\":\"long\",\"nullable\":false,\"metadata\":{}},{\"name\":\"autoCompactParallelismStats\",\"type\":{\"type\":\"struct\",\"fields\":[{\"name\":\"maxClusterActiveParallelism\",\"type\":\"long\",\"nullable\":true,\"metadata\":{}},{\"name\":\"minClusterActiveParallelism\",\"type\":\"long\",\"nullable\":true,\"metadata\":{}},{\"name\":\"maxSessionActiveParallelism\",\"type\":\"long\",\"nullable\":true,\"metadata\":{}},{\"name\":\"minSessionActiveParallelism\",\"type\":\"long\",\"nullable\":true,\"metadata\":{}}]},\"nullable\":true,\"metadata\":{}},{\"name\":\"deletionVectorStats\",\"type\":{\"type\":\"struct\",\"fields\":[{\"name\":\"numDeletionVectorsRemoved\",\"type\":\"long\",\"nullable\":false,\"metadata\":{}},{\"name\":\"numDeletionVectorRowsRemoved\",\"type\":\"long\",\"nullable\":false,\"metadata\":{}}]},\"nullable\":true,\"metadata\":{}},{\"name\":\"numTableColumns\",\"type\":\"long\",\"nullable\":false,\"metadata\":{}},{\"name\":\"numTableColumnsWithStats\",\"type\":\"long\",\"nullable\":false,\"metadata\":{}},{\"name\":\"totalTaskExecutionTimeMs\",\"type\":\"long\",\"nullable\":false,\"metadata\":{}},{\"name\":\"skippedArchivedFiles\",\"type\":\"long\",\"nullable\":false,\"metadata\":{}},{\"name\":\"clusteringMetrics\",\"type\":{\"type\":\"struct\",\"fields\":[{\"name\":\"sizeOfTableInBytesBeforeLazyClustering\",\"type\":\"long\",\"nullable\":false,\"metadata\":{}},{\"name\":\"isNewMetadataCreated\",\"type\":\"boolean\",\"nullable\":false,\"metadata\":{}},{\"name\":\"isPOTriggered\",\"type\":\"boolean\",\"nullable\":false,\"metadata\":{}},{\"name\":\"numFilesSkippedWithoutStats\",\"type\":\"long\",\"nullable\":false,\"metadata\":{}},{\"name\":\"numFilesClassifiedToIntermediateNodes\",\"type\":\"long\",\"nullable\":false,\"metadata\":{}},{\"name\":\"sizeOfFilesClassifiedToIntermediateNodesInBytes\",\"type\":\"long\",\"nullable\":false,\"metadata\":{}},{\"name\":\"logicalSizeOfFilesClassifiedToIntermediateNodesInBytes\",\"type\":\"long\",\"nullable\":false,\"metadata\":{}},{\"name\":\"numFilesClassifiedToLeafNodes\",\"type\":\"long\",\"nullable\":false,\"metadata\":{}},{\"name\":\"sizeOfFilesClassifiedToLeafNodesInBytes\",\"type\":\"long\",\"nullable\":false,\"metadata\":{}},{\"name\":\"logicalSizeOfFilesClassifiedToLeafNodesInBytes\",\"type\":\"long\",\"nullable\":false,\"metadata\":{}},{\"name\":\"numThreadsForClassifier\",\"type\":\"integer\",\"nullable\":true,\"metadata\":{}},{\"name\":\"clusterThresholdStrategy\",\"type\":\"string\",\"nullable\":true,\"metadata\":{}},{\"name\":\"minFileSize\",\"type\":\"long\",\"nullable\":false,\"metadata\":{}},{\"name\":\"maxFileSize\",\"type\":\"long\",\"nullable\":false,\"metadata\":{}},{\"name\":\"nodeMinNumFilesToCompact\",\"type\":\"long\",\"nullable\":false,\"metadata\":{}},{\"name\":\"numIdealFiles\",\"type\":\"long\",\"nullable\":false,\"metadata\":{}},{\"name\":\"numClusteringTasksPlanned\",\"type\":\"integer\",\"nullable\":false,\"metadata\":{}},{\"name\":\"numCompactionTasksPlanned\",\"type\":\"integer\",\"nullable\":false,\"metadata\":{}},{\"name\":\"numOptimizeBatchesPlanned\",\"type\":\"integer\",\"nullable\":false,\"metadata\":{}},{\"name\":\"numLeafNodesExpanded\",\"type\":\"long\",\"nullable\":false,\"metadata\":{}},{\"name\":\"numLeafNodesClustered\",\"type\":\"long\",\"nullable\":false,\"metadata\":{}},{\"name\":\"numGetFilesForNodeCalls\",\"type\":\"long\",\"nullable\":false,\"metadata\":{}},{\"name\":\"numSamplingJobs\",\"type\":\"long\",\"nullable\":false,\"metadata\":{}},{\"name\":\"numLeafNodesCompacted\",\"type\":\"long\",\"nullable\":false,\"metadata\":{}},{\"name\":\"numIntermediateNodesCompacted\",\"type\":\"long\",\"nullable\":false,\"metadata\":{}},{\"name\":\"totalSizeOfDataToCompactInBytes\",\"type\":\"long\",\"nullable\":false,\"metadata\":{}},{\"name\":\"totalLogicalSizeOfDataToCompactInBytes\",\"type\":\"long\",\"nullable\":false,\"metadata\":{}},{\"name\":\"numIntermediateNodesClustered\",\"type\":\"long\",\"nullable\":false,\"metadata\":{}},{\"name\":\"numFilesSkippedAfterExpansion\",\"type\":\"long\",\"nullable\":false,\"metadata\":{}},{\"name\":\"totalSizeOfFilesSkippedAfterExpansionInBytes\",\"type\":\"long\",\"nullable\":false,\"metadata\":{}},{\"name\":\"totalLogicalSizeOfFilesSkippedAfterExpansionInBytes\",\"type\":\"long\",\"nullable\":false,\"metadata\":{}},{\"name\":\"totalSizeOfDataToRewriteInBytes\",\"type\":\"long\",\"nullable\":false,\"metadata\":{}},{\"name\":\"totalLogicalSizeOfDataToRewriteInBytes\",\"type\":\"long\",\"nullable\":false,\"metadata\":{}},{\"name\":\"timeMetrics\",\"type\":{\"type\":\"struct\",\"fields\":[{\"name\":\"classifierTimeMs\",\"type\":\"long\",\"nullable\":false,\"metadata\":{}},{\"name\":\"optimizerTimeMs\",\"type\":\"long\",\"nullable\":false,\"metadata\":{}},{\"name\":\"metadataLoadTimeMs\",\"type\":\"long\",\"nullable\":false,\"metadata\":{}},{\"name\":\"totalGetFilesForNodeCallsTimeMs\",\"type\":\"long\",\"nullable\":false,\"metadata\":{}},{\"name\":\"totalSamplingTimeMs\",\"type\":\"long\",\"nullable\":false,\"metadata\":{}},{\"name\":\"metadataCreationTimeMs\",\"type\":\"long\",\"nullable\":false,\"metadata\":{}}]},\"nullable\":true,\"metadata\":{}},{\"name\":\"maxOptimizeBatchesInParallel\",\"type\":\"long\",\"nullable\":false,\"metadata\":{}},{\"name\":\"currentIteration\",\"type\":\"integer\",\"nullable\":false,\"metadata\":{}},{\"name\":\"maxIterations\",\"type\":\"integer\",\"nullable\":false,\"metadata\":{}},{\"name\":\"clusteringStrategy\",\"type\":\"string\",\"nullable\":true,\"metadata\":{}}]},\"nullable\":true,\"metadata\":{}}]}"
        }
       ],
       "type": "table"
      }
     },
     "output_type": "display_data"
    }
   ],
   "source": [
    "%sql\n",
    "OPTIMIZE kafka.gold.daily_stock_aggregates ZORDER BY (symbol)\n"
   ]
  },
  {
   "cell_type": "code",
   "execution_count": 0,
   "metadata": {
    "application/vnd.databricks.v1+cell": {
     "cellMetadata": {
      "byteLimit": 2048000,
      "implicitDf": true,
      "rowLimit": 10000
     },
     "inputWidgets": {},
     "nuid": "c4040771-2e28-48c3-9cc4-b43f46f2dbfd",
     "showTitle": false,
     "title": ""
    }
   },
   "outputs": [
    {
     "output_type": "display_data",
     "data": {
      "text/html": [
       "<style scoped>\n",
       "  .table-result-container {\n",
       "    max-height: 300px;\n",
       "    overflow: auto;\n",
       "  }\n",
       "  table, th, td {\n",
       "    border: 1px solid black;\n",
       "    border-collapse: collapse;\n",
       "  }\n",
       "  th, td {\n",
       "    padding: 5px;\n",
       "  }\n",
       "  th {\n",
       "    text-align: left;\n",
       "  }\n",
       "</style><div class='table-result-container'><table class='table-result'><thead style='background-color: white'><tr><th>window</th><th>symbol</th><th>avg_price</th><th>open_price</th><th>high_price</th><th>low_price</th><th>close_price</th><th>daily_volume</th></tr></thead><tbody><tr><td>List(2024-10-04T00:00:00Z, 2024-10-05T00:00:00Z)</td><td>MSFT</td><td>null</td><td>415.8800</td><td>418.1800</td><td>415.6025</td><td>415.6550</td><td>115084.0</td></tr><tr><td>List(2024-10-04T00:00:00Z, 2024-10-05T00:00:00Z)</td><td>GOOGL</td><td>null</td><td>166.9500</td><td>167.0600</td><td>164.5400</td><td>166.8500</td><td>579984.0</td></tr><tr><td>List(2024-10-04T00:00:00Z, 2024-10-05T00:00:00Z)</td><td>AAPL</td><td>null</td><td>226.3700</td><td>226.8000</td><td>224.4200</td><td>226.6350</td><td>665630.0</td></tr></tbody></table></div>"
      ]
     },
     "metadata": {
      "application/vnd.databricks.v1+output": {
       "addedWidgets": {},
       "aggData": [],
       "aggError": "",
       "aggOverflow": false,
       "aggSchema": [],
       "aggSeriesLimitReached": false,
       "aggType": "",
       "arguments": {},
       "columnCustomDisplayInfos": {},
       "data": [
        [
         [
          "2024-10-04T00:00:00Z",
          "2024-10-05T00:00:00Z"
         ],
         "MSFT",
         null,
         "415.8800",
         "418.1800",
         "415.6025",
         "415.6550",
         115084.0
        ],
        [
         [
          "2024-10-04T00:00:00Z",
          "2024-10-05T00:00:00Z"
         ],
         "GOOGL",
         null,
         "166.9500",
         "167.0600",
         "164.5400",
         "166.8500",
         579984.0
        ],
        [
         [
          "2024-10-04T00:00:00Z",
          "2024-10-05T00:00:00Z"
         ],
         "AAPL",
         null,
         "226.3700",
         "226.8000",
         "224.4200",
         "226.6350",
         665630.0
        ]
       ],
       "datasetInfos": [],
       "dbfsResultPath": null,
       "isJsonSchema": true,
       "metadata": {
        "createTempViewForImplicitDf": true,
        "dataframeName": "_sqldf",
        "executionCount": 12
       },
       "overflow": false,
       "plotOptions": {
        "customPlotOptions": {},
        "displayType": "table",
        "pivotAggregation": null,
        "pivotColumns": null,
        "xColumns": null,
        "yColumns": null
       },
       "removedWidgets": [],
       "schema": [
        {
         "metadata": "{\"spark.timeWindow\":true}",
         "name": "window",
         "type": "{\"type\":\"struct\",\"fields\":[{\"name\":\"start\",\"type\":\"timestamp\",\"nullable\":true,\"metadata\":{}},{\"name\":\"end\",\"type\":\"timestamp\",\"nullable\":true,\"metadata\":{}}]}"
        },
        {
         "metadata": "{}",
         "name": "symbol",
         "type": "\"string\""
        },
        {
         "metadata": "{}",
         "name": "avg_price",
         "type": "\"double\""
        },
        {
         "metadata": "{}",
         "name": "open_price",
         "type": "\"string\""
        },
        {
         "metadata": "{}",
         "name": "high_price",
         "type": "\"string\""
        },
        {
         "metadata": "{}",
         "name": "low_price",
         "type": "\"string\""
        },
        {
         "metadata": "{}",
         "name": "close_price",
         "type": "\"string\""
        },
        {
         "metadata": "{}",
         "name": "daily_volume",
         "type": "\"double\""
        }
       ],
       "type": "table"
      }
     },
     "output_type": "display_data"
    }
   ],
   "source": [
    "%sql\n",
    "SELECT * FROM kafka.gold.gold_stock_data ;"
   ]
  },
  {
   "cell_type": "code",
   "execution_count": 0,
   "metadata": {
    "application/vnd.databricks.v1+cell": {
     "cellMetadata": {
      "byteLimit": 2048000,
      "implicitDf": true,
      "rowLimit": 10000
     },
     "inputWidgets": {},
     "nuid": "34bdb2b1-c49c-49f8-8149-fed171573c88",
     "showTitle": false,
     "title": ""
    }
   },
   "outputs": [
    {
     "output_type": "display_data",
     "data": {
      "text/html": [
       "<style scoped>\n",
       "  .table-result-container {\n",
       "    max-height: 300px;\n",
       "    overflow: auto;\n",
       "  }\n",
       "  table, th, td {\n",
       "    border: 1px solid black;\n",
       "    border-collapse: collapse;\n",
       "  }\n",
       "  th, td {\n",
       "    padding: 5px;\n",
       "  }\n",
       "  th {\n",
       "    text-align: left;\n",
       "  }\n",
       "</style><div class='table-result-container'><table class='table-result'><thead style='background-color: white'><tr><th>symbol</th><th>timestamp</th><th>avg_open</th><th>avg_close</th><th>max_high</th><th>min_low</th><th>total_volume</th></tr></thead><tbody><tr><td>MSFT</td><td>2024-10-04 18:45:00</td><td>415.95</td><td>415.84</td><td>415.9500</td><td>415.8000</td><td>305.0</td></tr><tr><td>GOOGL</td><td>2024-10-04 18:33:00</td><td>166.86000000000004</td><td>166.86999999999998</td><td>166.8700</td><td>166.8600</td><td>552.0</td></tr><tr><td>AAPL</td><td>2024-10-04 19:58:00</td><td>225.29</td><td>226.41890000000006</td><td>226.4600</td><td>225.2900</td><td>1015.0</td></tr><tr><td>GOOGL</td><td>2024-10-04 19:57:00</td><td>166.93000000000004</td><td>166.98</td><td>166.9800</td><td>166.8800</td><td>5736.0</td></tr><tr><td>GOOGL</td><td>2024-10-04 19:51:00</td><td>166.87799999999996</td><td>166.80400000000003</td><td>166.8800</td><td>166.8040</td><td>264.0</td></tr><tr><td>GOOGL</td><td>2024-10-04 19:00:00</td><td>166.86999999999998</td><td>166.88000000000002</td><td>166.8800</td><td>166.8700</td><td>60.0</td></tr><tr><td>AAPL</td><td>2024-10-04 18:31:00</td><td>226.59999999999997</td><td>226.58999999999997</td><td>226.6400</td><td>226.5400</td><td>665.0</td></tr><tr><td>MSFT</td><td>2024-10-04 19:38:00</td><td>415.84999999999997</td><td>415.84</td><td>415.8500</td><td>415.8300</td><td>1206.0</td></tr><tr><td>MSFT</td><td>2024-10-04 19:53:00</td><td>415.88000000000005</td><td>415.88000000000005</td><td>415.8800</td><td>415.8250</td><td>258.0</td></tr><tr><td>MSFT</td><td>2024-10-04 18:32:00</td><td>415.7</td><td>415.68999999999994</td><td>415.7000</td><td>415.6100</td><td>1925.0</td></tr><tr><td>AAPL</td><td>2024-10-04 18:51:00</td><td>226.65000000000003</td><td>226.71</td><td>226.7100</td><td>226.6400</td><td>22218.0</td></tr><tr><td>MSFT</td><td>2024-10-04 19:30:00</td><td>415.84999999999997</td><td>415.82</td><td>415.8500</td><td>415.8200</td><td>870.0</td></tr><tr><td>GOOGL</td><td>2024-10-04 19:06:00</td><td>166.82179999999997</td><td>167.0</td><td>167.0000</td><td>166.8218</td><td>240.0</td></tr><tr><td>GOOGL</td><td>2024-10-04 18:45:00</td><td>166.83999999999997</td><td>166.83999999999997</td><td>166.8400</td><td>166.7700</td><td>636.0</td></tr><tr><td>GOOGL</td><td>2024-10-04 18:16:00</td><td>166.88000000000002</td><td>166.82999999999998</td><td>166.8900</td><td>166.7827</td><td>7848.0</td></tr><tr><td>MSFT</td><td>2024-10-04 18:43:00</td><td>415.9335</td><td>415.84</td><td>415.9500</td><td>415.8400</td><td>1195.0</td></tr><tr><td>AAPL</td><td>2024-10-04 18:39:00</td><td>226.53500000000003</td><td>226.53</td><td>226.6300</td><td>226.5300</td><td>5593.0</td></tr><tr><td>AAPL</td><td>2024-10-04 19:19:00</td><td>226.61999999999995</td><td>226.5707</td><td>226.6200</td><td>226.5700</td><td>980.0</td></tr><tr><td>MSFT</td><td>2024-10-04 18:26:00</td><td>415.6549999999999</td><td>415.6549999999999</td><td>415.7800</td><td>415.6100</td><td>235.0</td></tr><tr><td>GOOGL</td><td>2024-10-04 18:58:00</td><td>166.86999999999998</td><td>166.86999999999998</td><td>166.8793</td><td>166.8700</td><td>576.0</td></tr><tr><td>AAPL</td><td>2024-10-04 19:07:00</td><td>226.54</td><td>226.54</td><td>226.5500</td><td>226.4500</td><td>63.0</td></tr><tr><td>GOOGL</td><td>2024-10-04 19:31:00</td><td>166.876</td><td>165.31999999999996</td><td>166.8760</td><td>165.3200</td><td>480.0</td></tr><tr><td>MSFT</td><td>2024-10-04 19:09:00</td><td>415.84</td><td>415.785</td><td>415.8500</td><td>415.7850</td><td>210.0</td></tr><tr><td>MSFT</td><td>2024-10-04 18:54:00</td><td>415.87</td><td>415.9</td><td>415.9400</td><td>415.8700</td><td>210.0</td></tr><tr><td>AAPL</td><td>2024-10-04 19:18:00</td><td>226.55500000000004</td><td>226.595</td><td>226.6135</td><td>226.5550</td><td>707.0</td></tr><tr><td>MSFT</td><td>2024-10-04 19:59:00</td><td>415.88000000000005</td><td>415.815</td><td>415.9000</td><td>415.8150</td><td>2316.0</td></tr><tr><td>MSFT</td><td>2024-10-04 18:50:00</td><td>415.95</td><td>415.95</td><td>415.9500</td><td>415.8750</td><td>180.0</td></tr><tr><td>AAPL</td><td>2024-10-04 19:23:00</td><td>226.59999999999997</td><td>226.59999999999997</td><td>226.6000</td><td>226.5700</td><td>399.0</td></tr><tr><td>AAPL</td><td>2024-10-04 19:50:00</td><td>226.42000000000002</td><td>226.48500000000007</td><td>226.5500</td><td>226.4200</td><td>126.0</td></tr><tr><td>AAPL</td><td>2024-10-04 19:36:00</td><td>226.539</td><td>226.44499999999996</td><td>226.5472</td><td>226.4450</td><td>21168.0</td></tr><tr><td>AAPL</td><td>2024-10-04 19:46:00</td><td>226.42080000000004</td><td>226.48500000000007</td><td>226.5500</td><td>226.4200</td><td>469.0</td></tr><tr><td>AAPL</td><td>2024-10-04 19:08:00</td><td>226.63000000000005</td><td>226.63000000000005</td><td>226.6300</td><td>226.5400</td><td>126.0</td></tr><tr><td>MSFT</td><td>2024-10-04 19:48:00</td><td>415.82</td><td>415.82</td><td>415.9200</td><td>415.7700</td><td>144.0</td></tr><tr><td>MSFT</td><td>2024-10-04 19:24:00</td><td>415.825</td><td>415.8</td><td>415.8500</td><td>415.8000</td><td>2532.0</td></tr><tr><td>AAPL</td><td>2024-10-04 19:06:00</td><td>226.59999999999997</td><td>226.54999999999998</td><td>226.6000</td><td>226.4500</td><td>98.0</td></tr><tr><td>GOOGL</td><td>2024-10-04 19:16:00</td><td>166.88000000000002</td><td>166.88000000000002</td><td>166.8800</td><td>166.8800</td><td>768.0</td></tr><tr><td>GOOGL</td><td>2024-10-04 19:39:00</td><td>166.82999999999998</td><td>166.88000000000002</td><td>166.8800</td><td>166.8300</td><td>60.0</td></tr><tr><td>AAPL</td><td>2024-10-04 18:33:00</td><td>226.56999999999996</td><td>226.57500000000002</td><td>226.6300</td><td>226.5200</td><td>1435.0</td></tr><tr><td>AAPL</td><td>2024-10-04 18:53:00</td><td>226.63000000000005</td><td>226.68000000000004</td><td>226.6900</td><td>226.6300</td><td>154.0</td></tr><tr><td>AAPL</td><td>2024-10-04 18:23:00</td><td>226.58999999999997</td><td>226.65000000000003</td><td>226.6955</td><td>226.5200</td><td>1057.0</td></tr><tr><td>MSFT</td><td>2024-10-04 18:31:00</td><td>415.61</td><td>415.7</td><td>415.7000</td><td>415.6100</td><td>745.0</td></tr><tr><td>GOOGL</td><td>2024-10-04 18:41:00</td><td>166.82999999999998</td><td>166.83999999999997</td><td>166.8400</td><td>166.7700</td><td>564.0</td></tr><tr><td>MSFT</td><td>2024-10-04 19:49:00</td><td>415.82</td><td>415.84999999999997</td><td>415.9100</td><td>415.8200</td><td>192.0</td></tr><tr><td>MSFT</td><td>2024-10-04 18:48:00</td><td>415.84</td><td>415.91999999999996</td><td>415.9500</td><td>415.8400</td><td>210.0</td></tr><tr><td>MSFT</td><td>2024-10-04 19:32:00</td><td>415.83</td><td>415.83</td><td>415.8500</td><td>415.8200</td><td>1086.0</td></tr><tr><td>MSFT</td><td>2024-10-04 18:41:00</td><td>415.73999999999995</td><td>415.73999999999995</td><td>415.7400</td><td>415.7200</td><td>285.0</td></tr><tr><td>AAPL</td><td>2024-10-04 18:38:00</td><td>226.53500000000003</td><td>226.53500000000003</td><td>226.5400</td><td>226.5300</td><td>189.0</td></tr><tr><td>AAPL</td><td>2024-10-04 19:21:00</td><td>226.59999999999997</td><td>226.56999999999996</td><td>226.6000</td><td>226.5600</td><td>1064.0</td></tr><tr><td>MSFT</td><td>2024-10-04 19:27:00</td><td>415.84920000000005</td><td>415.82</td><td>418.0700</td><td>415.8000</td><td>570.0</td></tr><tr><td>GOOGL</td><td>2024-10-04 18:21:00</td><td>166.88999999999996</td><td>166.88999999999996</td><td>166.8900</td><td>166.8800</td><td>60.0</td></tr><tr><td>MSFT</td><td>2024-10-04 19:34:00</td><td>415.84920000000005</td><td>415.84009999999995</td><td>415.8500</td><td>415.8350</td><td>1122.0</td></tr><tr><td>AAPL</td><td>2024-10-04 18:56:00</td><td>226.53</td><td>226.54</td><td>226.5500</td><td>226.5300</td><td>3724.0</td></tr><tr><td>MSFT</td><td>2024-10-04 18:33:00</td><td>415.66999999999996</td><td>415.66999999999996</td><td>415.6900</td><td>415.6700</td><td>30.0</td></tr><tr><td>MSFT</td><td>2024-10-04 18:49:00</td><td>415.93999999999994</td><td>415.875</td><td>415.9400</td><td>415.8750</td><td>595.0</td></tr><tr><td>MSFT</td><td>2024-10-04 18:44:00</td><td>415.95</td><td>415.95</td><td>415.9500</td><td>415.8400</td><td>350.0</td></tr><tr><td>MSFT</td><td>2024-10-04 18:22:00</td><td>415.7</td><td>415.62</td><td>415.7000</td><td>415.6092</td><td>2512.0</td></tr><tr><td>AAPL</td><td>2024-10-04 18:44:00</td><td>226.63999999999993</td><td>226.66000000000003</td><td>226.6600</td><td>226.6300</td><td>560.0</td></tr><tr><td>MSFT</td><td>2024-10-04 18:46:00</td><td>415.84</td><td>415.8</td><td>415.9500</td><td>415.8000</td><td>185.0</td></tr><tr><td>GOOGL</td><td>2024-10-04 19:59:00</td><td>166.95000000000002</td><td>166.97150000000002</td><td>166.9715</td><td>166.8900</td><td>1056.0</td></tr><tr><td>GOOGL</td><td>2024-10-04 18:20:00</td><td>166.88000000000002</td><td>166.83120000000002</td><td>166.8800</td><td>166.8312</td><td>36.0</td></tr><tr><td>AAPL</td><td>2024-10-04 19:16:00</td><td>226.55500000000004</td><td>226.5</td><td>226.5550</td><td>226.5000</td><td>196.0</td></tr><tr><td>MSFT</td><td>2024-10-04 19:20:00</td><td>415.825</td><td>415.825</td><td>415.8700</td><td>415.7800</td><td>144.0</td></tr><tr><td>MSFT</td><td>2024-10-04 19:05:00</td><td>415.81000000000006</td><td>415.87</td><td>415.9000</td><td>415.8100</td><td>155.0</td></tr><tr><td>GOOGL</td><td>2024-10-04 19:04:00</td><td>166.88000000000002</td><td>166.88000000000002</td><td>166.8800</td><td>166.8700</td><td>7416.0</td></tr><tr><td>AAPL</td><td>2024-10-04 19:10:00</td><td>226.4965</td><td>226.5</td><td>226.5000</td><td>226.4965</td><td>42.0</td></tr><tr><td>MSFT</td><td>2024-10-04 19:15:00</td><td>415.825</td><td>415.825</td><td>415.8250</td><td>415.8250</td><td>12.0</td></tr><tr><td>GOOGL</td><td>2024-10-04 18:49:00</td><td>166.81999999999996</td><td>166.88000000000002</td><td>166.8800</td><td>166.7755</td><td>3360.0</td></tr><tr><td>AAPL</td><td>2024-10-04 19:37:00</td><td>226.44000000000003</td><td>226.46</td><td>226.5500</td><td>226.3508</td><td>707.0</td></tr><tr><td>AAPL</td><td>2024-10-04 18:40:00</td><td>226.57999999999998</td><td>226.57999999999998</td><td>226.5800</td><td>226.5300</td><td>280.0</td></tr><tr><td>GOOGL</td><td>2024-10-04 19:17:00</td><td>166.87750000000003</td><td>166.88000000000002</td><td>166.8800</td><td>166.8775</td><td>828.0</td></tr><tr><td>GOOGL</td><td>2024-10-04 19:30:00</td><td>166.88000000000002</td><td>166.88000000000002</td><td>166.8800</td><td>166.8800</td><td>624.0</td></tr><tr><td>GOOGL</td><td>2024-10-04 19:01:00</td><td>166.86999999999998</td><td>166.88000000000002</td><td>166.8800</td><td>166.8500</td><td>5028.0</td></tr><tr><td>AAPL</td><td>2024-10-04 18:46:00</td><td>226.63999999999993</td><td>226.63999999999993</td><td>226.6800</td><td>226.6400</td><td>1351.0</td></tr><tr><td>GOOGL</td><td>2024-10-04 18:26:00</td><td>166.86999999999998</td><td>166.88000000000002</td><td>166.8800</td><td>166.8700</td><td>360.0</td></tr><tr><td>MSFT</td><td>2024-10-04 19:31:00</td><td>417.71</td><td>415.83</td><td>417.7100</td><td>415.8200</td><td>1920.0</td></tr><tr><td>MSFT</td><td>2024-10-04 19:01:00</td><td>415.805</td><td>415.8999</td><td>415.8999</td><td>415.7100</td><td>320.0</td></tr><tr><td>GOOGL</td><td>2024-10-04 19:35:00</td><td>166.88000000000002</td><td>166.88000000000002</td><td>166.8800</td><td>166.8800</td><td>120.0</td></tr><tr><td>GOOGL</td><td>2024-10-04 19:54:00</td><td>166.86000000000004</td><td>166.86999999999998</td><td>166.8700</td><td>166.8600</td><td>252.0</td></tr><tr><td>MSFT</td><td>2024-10-04 19:36:00</td><td>415.8485</td><td>415.84</td><td>415.8500</td><td>415.8350</td><td>228.0</td></tr><tr><td>GOOGL</td><td>2024-10-04 19:05:00</td><td>166.88000000000002</td><td>166.88000000000002</td><td>166.8800</td><td>166.8800</td><td>72.0</td></tr><tr><td>AAPL</td><td>2024-10-04 19:02:00</td><td>226.70000000000002</td><td>226.57500000000002</td><td>226.7000</td><td>226.4500</td><td>784.0</td></tr><tr><td>MSFT</td><td>2024-10-04 19:28:00</td><td>415.82</td><td>415.84999999999997</td><td>416.2600</td><td>415.8200</td><td>360.0</td></tr><tr><td>GOOGL</td><td>2024-10-04 18:22:00</td><td>166.86999999999998</td><td>166.86999999999998</td><td>166.8800</td><td>166.8500</td><td>564.0</td></tr><tr><td>MSFT</td><td>2024-10-04 18:59:00</td><td>415.9</td><td>415.805</td><td>415.9000</td><td>415.8000</td><td>195.0</td></tr><tr><td>GOOGL</td><td>2024-10-04 19:37:00</td><td>166.78</td><td>166.83999999999997</td><td>166.8800</td><td>166.7800</td><td>1872.0</td></tr><tr><td>GOOGL</td><td>2024-10-04 18:44:00</td><td>166.83999999999997</td><td>166.83999999999997</td><td>166.8400</td><td>166.8394</td><td>84.0</td></tr><tr><td>AAPL</td><td>2024-10-04 19:59:00</td><td>226.36999999999995</td><td>226.415</td><td>226.4500</td><td>226.3700</td><td>1862.0</td></tr><tr><td>AAPL</td><td>2024-10-04 18:24:00</td><td>226.5245</td><td>226.61000000000007</td><td>226.6955</td><td>226.5200</td><td>70.0</td></tr><tr><td>GOOGL</td><td>2024-10-04 19:46:00</td><td>166.82999999999998</td><td>166.86999999999998</td><td>166.8700</td><td>166.8300</td><td>132.0</td></tr><tr><td>GOOGL</td><td>2024-10-04 19:29:00</td><td>166.88000000000002</td><td>166.86999999999998</td><td>166.8800</td><td>166.8354</td><td>1104.0</td></tr><tr><td>AAPL</td><td>2024-10-04 19:42:00</td><td>226.54999999999998</td><td>226.48500000000007</td><td>226.5500</td><td>226.4200</td><td>826.0</td></tr><tr><td>GOOGL</td><td>2024-10-04 18:08:00</td><td>166.84999999999997</td><td>166.84999999999997</td><td>166.8500</td><td>166.8500</td><td>48.0</td></tr><tr><td>MSFT</td><td>2024-10-04 19:46:00</td><td>415.8</td><td>415.84999999999997</td><td>415.9200</td><td>415.8000</td><td>132.0</td></tr><tr><td>AAPL</td><td>2024-10-04 18:47:00</td><td>226.68000000000004</td><td>226.67000000000002</td><td>226.6800</td><td>226.6400</td><td>91.0</td></tr><tr><td>GOOGL</td><td>2024-10-04 19:47:00</td><td>166.82749999999996</td><td>166.84999999999997</td><td>166.8500</td><td>166.8275</td><td>1380.0</td></tr><tr><td>AAPL</td><td>2024-10-04 19:22:00</td><td>226.59999999999997</td><td>226.59999999999997</td><td>226.6000</td><td>226.5850</td><td>1106.0</td></tr><tr><td>GOOGL</td><td>2024-10-04 19:09:00</td><td>166.88000000000002</td><td>166.93000000000004</td><td>167.0000</td><td>166.8800</td><td>1224.0</td></tr><tr><td>AAPL</td><td>2024-10-04 19:17:00</td><td>226.5</td><td>226.55500000000004</td><td>226.6167</td><td>226.4900</td><td>9555.0</td></tr><tr><td>MSFT</td><td>2024-10-04 19:39:00</td><td>415.84</td><td>415.84999999999997</td><td>415.8500</td><td>415.8300</td><td>324.0</td></tr><tr><td>MSFT</td><td>2024-10-04 19:03:00</td><td>415.87</td><td>415.7200000000001</td><td>415.9000</td><td>415.7200</td><td>345.0</td></tr><tr><td>MSFT</td><td>2024-10-04 18:27:00</td><td>415.6549999999999</td><td>415.6145</td><td>415.7000</td><td>415.6145</td><td>445.0</td></tr><tr><td>GOOGL</td><td>2024-10-04 19:13:00</td><td>166.9918</td><td>166.9918</td><td>166.9918</td><td>166.9918</td><td>3000.0</td></tr><tr><td>AAPL</td><td>2024-10-04 19:43:00</td><td>226.48500000000007</td><td>226.44000000000003</td><td>226.4850</td><td>226.4400</td><td>91.0</td></tr><tr><td>GOOGL</td><td>2024-10-04 19:20:00</td><td>166.88000000000002</td><td>166.88000000000002</td><td>166.8800</td><td>166.7825</td><td>648.0</td></tr><tr><td>AAPL</td><td>2024-10-04 19:05:00</td><td>226.48</td><td>226.56999999999996</td><td>226.6900</td><td>226.4500</td><td>112.0</td></tr><tr><td>AAPL</td><td>2024-10-04 18:42:00</td><td>226.54</td><td>226.69000000000003</td><td>226.6900</td><td>226.5300</td><td>5495.0</td></tr><tr><td>AAPL</td><td>2024-10-04 19:00:00</td><td>226.45000000000002</td><td>226.57500000000002</td><td>226.5750</td><td>226.4500</td><td>42.0</td></tr><tr><td>GOOGL</td><td>2024-10-04 18:48:00</td><td>166.79</td><td>166.81999999999996</td><td>166.8400</td><td>166.7900</td><td>6552.0</td></tr><tr><td>GOOGL</td><td>2024-10-04 18:27:00</td><td>166.88000000000002</td><td>166.87879999999998</td><td>166.8800</td><td>166.8500</td><td>96.0</td></tr><tr><td>MSFT</td><td>2024-10-04 19:35:00</td><td>415.84</td><td>415.835</td><td>415.8400</td><td>415.8350</td><td>66.0</td></tr><tr><td>AAPL</td><td>2024-10-04 19:49:00</td><td>226.42519999999996</td><td>226.48500000000007</td><td>226.5500</td><td>226.4252</td><td>189.0</td></tr><tr><td>MSFT</td><td>2024-10-04 18:58:00</td><td>415.85</td><td>415.805</td><td>415.9000</td><td>415.8000</td><td>1635.0</td></tr><tr><td>AAPL</td><td>2024-10-04 18:32:00</td><td>226.58999999999997</td><td>226.585</td><td>226.5900</td><td>226.5400</td><td>154.0</td></tr><tr><td>GOOGL</td><td>2024-10-04 19:41:00</td><td>166.88000000000002</td><td>166.88000000000002</td><td>166.8800</td><td>166.8700</td><td>432.0</td></tr><tr><td>AAPL</td><td>2024-10-04 19:11:00</td><td>226.5</td><td>226.55500000000004</td><td>226.6135</td><td>226.4900</td><td>9625.0</td></tr><tr><td>GOOGL</td><td>2024-10-04 18:37:00</td><td>166.84999999999997</td><td>166.84999999999997</td><td>166.8500</td><td>166.8500</td><td>120.0</td></tr><tr><td>AAPL</td><td>2024-10-04 19:28:00</td><td>226.47</td><td>226.40000000000003</td><td>226.5100</td><td>226.2800</td><td>3920.0</td></tr><tr><td>GOOGL</td><td>2024-10-04 19:58:00</td><td>166.88000000000002</td><td>166.90000000000003</td><td>166.9766</td><td>166.8800</td><td>5640.0</td></tr><tr><td>GOOGL</td><td>2024-10-04 19:32:00</td><td>166.88000000000002</td><td>166.88000000000002</td><td>166.8800</td><td>166.8700</td><td>744.0</td></tr><tr><td>AAPL</td><td>2024-10-04 19:33:00</td><td>226.44499999999996</td><td>226.46499999999997</td><td>226.4650</td><td>226.3600</td><td>385.0</td></tr><tr><td>AAPL</td><td>2024-10-04 18:45:00</td><td>226.66000000000003</td><td>226.69000000000003</td><td>226.6900</td><td>226.6300</td><td>3955.0</td></tr><tr><td>GOOGL</td><td>2024-10-04 18:46:00</td><td>166.7735</td><td>166.83999999999997</td><td>166.8400</td><td>166.7735</td><td>696.0</td></tr><tr><td>GOOGL</td><td>2024-10-04 18:39:00</td><td>166.83999999999997</td><td>166.83999999999997</td><td>166.8400</td><td>166.8300</td><td>132.0</td></tr><tr><td>MSFT</td><td>2024-10-04 19:25:00</td><td>415.84999999999997</td><td>415.82</td><td>415.8500</td><td>415.8000</td><td>744.0</td></tr><tr><td>GOOGL</td><td>2024-10-04 19:52:00</td><td>166.84999999999997</td><td>166.88000000000002</td><td>166.8800</td><td>166.8500</td><td>420.0</td></tr><tr><td>GOOGL</td><td>2024-10-04 18:59:00</td><td>166.88000000000002</td><td>166.88000000000002</td><td>166.8800</td><td>166.8800</td><td>2412.0</td></tr><tr><td>GOOGL</td><td>2024-10-04 18:24:00</td><td>166.88000000000002</td><td>166.88000000000002</td><td>166.8800</td><td>166.8800</td><td>12.0</td></tr><tr><td>AAPL</td><td>2024-10-04 18:52:00</td><td>226.71</td><td>226.68000000000004</td><td>226.7300</td><td>226.6300</td><td>3633.0</td></tr><tr><td>AAPL</td><td>2024-10-04 18:48:00</td><td>226.665</td><td>226.665</td><td>226.6900</td><td>226.6400</td><td>3248.0</td></tr><tr><td>GOOGL</td><td>2024-10-04 19:11:00</td><td>166.95000000000002</td><td>166.90000000000003</td><td>166.9500</td><td>166.8900</td><td>384.0</td></tr><tr><td>MSFT</td><td>2024-10-04 18:57:00</td><td>415.88</td><td>415.8992999999999</td><td>415.8999</td><td>415.8500</td><td>170.0</td></tr><tr><td>GOOGL</td><td>2024-10-04 19:02:00</td><td>166.84999999999997</td><td>166.86999999999998</td><td>166.8800</td><td>166.8500</td><td>1380.0</td></tr><tr><td>AAPL</td><td>2024-10-04 19:35:00</td><td>226.56500000000003</td><td>226.44000000000003</td><td>226.5700</td><td>226.3300</td><td>34923.0</td></tr><tr><td>AAPL</td><td>2024-10-04 18:28:00</td><td>226.58999999999997</td><td>226.58999999999997</td><td>226.5900</td><td>226.5300</td><td>441.0</td></tr><tr><td>GOOGL</td><td>2024-10-04 19:36:00</td><td>166.86999999999998</td><td>166.82269999999997</td><td>166.8700</td><td>166.8227</td><td>780.0</td></tr><tr><td>AAPL</td><td>2024-10-04 18:41:00</td><td>226.53230000000002</td><td>226.57999999999998</td><td>226.5800</td><td>226.5323</td><td>3276.0</td></tr><tr><td>AAPL</td><td>2024-10-04 18:21:00</td><td>226.61000000000007</td><td>226.55999999999997</td><td>226.6350</td><td>226.5600</td><td>49.0</td></tr><tr><td>GOOGL</td><td>2024-10-04 18:18:00</td><td>166.82999999999998</td><td>166.82999999999998</td><td>166.8600</td><td>166.8300</td><td>108.0</td></tr><tr><td>MSFT</td><td>2024-10-04 19:54:00</td><td>415.825</td><td>415.92</td><td>415.9200</td><td>415.8250</td><td>252.0</td></tr><tr><td>MSFT</td><td>2024-10-04 19:17:00</td><td>415.86769999999996</td><td>415.8699</td><td>415.8700</td><td>415.8250</td><td>816.0</td></tr><tr><td>AAPL</td><td>2024-10-04 18:22:00</td><td>226.61999999999995</td><td>226.58999999999997</td><td>226.6400</td><td>226.5600</td><td>2681.0</td></tr><tr><td>MSFT</td><td>2024-10-04 19:21:00</td><td>415.84</td><td>415.8</td><td>415.8500</td><td>415.8000</td><td>1908.0</td></tr><tr><td>MSFT</td><td>2024-10-04 18:36:00</td><td>415.68999999999994</td><td>415.7</td><td>415.7000</td><td>415.6900</td><td>145.0</td></tr><tr><td>GOOGL</td><td>2024-10-04 19:34:00</td><td>166.80009999999996</td><td>166.86999999999998</td><td>166.8800</td><td>166.8000</td><td>2196.0</td></tr><tr><td>GOOGL</td><td>2024-10-04 18:13:00</td><td>166.88999999999996</td><td>166.88999999999996</td><td>166.8900</td><td>166.8900</td><td>4176.0</td></tr><tr><td>AAPL</td><td>2024-10-04 19:41:00</td><td>226.43000000000004</td><td>226.4211</td><td>226.5500</td><td>226.4211</td><td>1771.0</td></tr><tr><td>AAPL</td><td>2024-10-04 19:04:00</td><td>226.57500000000002</td><td>226.45000000000002</td><td>226.5750</td><td>226.4500</td><td>182.0</td></tr><tr><td>GOOGL</td><td>2024-10-04 19:27:00</td><td>166.88000000000002</td><td>166.88000000000002</td><td>166.8800</td><td>166.8800</td><td>132.0</td></tr><tr><td>AAPL</td><td>2024-10-04 19:13:00</td><td>226.55500000000004</td><td>226.54</td><td>226.6200</td><td>226.4900</td><td>1652.0</td></tr><tr><td>AAPL</td><td>2024-10-04 19:40:00</td><td>226.45000000000002</td><td>226.43000000000004</td><td>226.4500</td><td>226.4200</td><td>1743.0</td></tr><tr><td>AAPL</td><td>2024-10-04 19:44:00</td><td>226.48500000000007</td><td>226.48500000000007</td><td>226.5500</td><td>226.4200</td><td>1148.0</td></tr><tr><td>AAPL</td><td>2024-10-04 19:38:00</td><td>226.46</td><td>226.46</td><td>226.4600</td><td>226.4600</td><td>252.0</td></tr><tr><td>MSFT</td><td>2024-10-04 18:24:00</td><td>415.65</td><td>415.68</td><td>415.7000</td><td>415.6500</td><td>268.0</td></tr><tr><td>GOOGL</td><td>2024-10-04 18:57:00</td><td>166.88000000000002</td><td>166.88000000000002</td><td>166.8800</td><td>166.8214</td><td>696.0</td></tr><tr><td>MSFT</td><td>2024-10-04 19:57:00</td><td>415.86999999999995</td><td>415.89989999999995</td><td>415.9500</td><td>415.8450</td><td>9372.0</td></tr><tr><td>GOOGL</td><td>2024-10-04 19:43:00</td><td>166.83019999999996</td><td>166.83019999999996</td><td>166.8302</td><td>166.8302</td><td>1200.0</td></tr><tr><td>AAPL</td><td>2024-10-04 18:43:00</td><td>226.55999999999997</td><td>226.63000000000005</td><td>226.6300</td><td>226.5475</td><td>1505.0</td></tr><tr><td>MSFT</td><td>2024-10-04 18:25:00</td><td>415.69</td><td>415.69</td><td>415.7000</td><td>415.6500</td><td>664.0</td></tr><tr><td>GOOGL</td><td>2024-10-04 18:30:00</td><td>166.86999999999998</td><td>166.86999999999998</td><td>166.8700</td><td>166.8700</td><td>24.0</td></tr><tr><td>AAPL</td><td>2024-10-04 19:54:00</td><td>226.47</td><td>226.46</td><td>226.4700</td><td>226.4600</td><td>3633.0</td></tr><tr><td>GOOGL</td><td>2024-10-04 18:35:00</td><td>166.84999999999997</td><td>166.86999999999998</td><td>166.8700</td><td>166.8500</td><td>180.0</td></tr><tr><td>AAPL</td><td>2024-10-04 18:55:00</td><td>226.54</td><td>226.53</td><td>226.5400</td><td>226.5300</td><td>385.0</td></tr><tr><td>AAPL</td><td>2024-10-04 19:34:00</td><td>226.56999999999996</td><td>226.49499999999995</td><td>226.5700</td><td>226.4201</td><td>196.0</td></tr><tr><td>MSFT</td><td>2024-10-04 19:33:00</td><td>415.83</td><td>415.83</td><td>416.4500</td><td>415.8300</td><td>1806.0</td></tr><tr><td>GOOGL</td><td>2024-10-04 18:09:00</td><td>166.84999999999997</td><td>166.89989999999997</td><td>166.9000</td><td>166.8500</td><td>22560.0</td></tr><tr><td>AAPL</td><td>2024-10-04 19:53:00</td><td>226.46</td><td>226.47</td><td>226.5000</td><td>226.4600</td><td>1064.0</td></tr><tr><td>AAPL</td><td>2024-10-04 18:37:00</td><td>226.53</td><td>226.53</td><td>226.5400</td><td>226.5300</td><td>399.0</td></tr><tr><td>GOOGL</td><td>2024-10-04 19:25:00</td><td>166.78</td><td>166.88000000000002</td><td>166.8800</td><td>166.7800</td><td>1224.0</td></tr><tr><td>GOOGL</td><td>2024-10-04 18:47:00</td><td>166.83999999999997</td><td>166.83999999999997</td><td>166.8400</td><td>166.8400</td><td>24.0</td></tr><tr><td>AAPL</td><td>2024-10-04 19:39:00</td><td>226.42000000000002</td><td>226.45000000000002</td><td>226.4600</td><td>226.4200</td><td>231.0</td></tr><tr><td>GOOGL</td><td>2024-10-04 18:40:00</td><td>166.83999999999997</td><td>166.83999999999997</td><td>166.8400</td><td>166.8400</td><td>600.0</td></tr><tr><td>AAPL</td><td>2024-10-04 19:14:00</td><td>226.49</td><td>226.54</td><td>226.6200</td><td>226.4900</td><td>371.0</td></tr><tr><td>AAPL</td><td>2024-10-04 19:25:00</td><td>226.61000000000007</td><td>226.53</td><td>226.6100</td><td>226.4900</td><td>994.0</td></tr><tr><td>MSFT</td><td>2024-10-04 19:16:00</td><td>415.8412</td><td>415.86549999999994</td><td>415.8700</td><td>415.8250</td><td>756.0</td></tr><tr><td>GOOGL</td><td>2024-10-04 19:50:00</td><td>166.86000000000004</td><td>166.87969999999999</td><td>166.8797</td><td>166.8283</td><td>1428.0</td></tr><tr><td>AAPL</td><td>2024-10-04 18:27:00</td><td>226.57999999999998</td><td>226.65000000000003</td><td>226.6500</td><td>226.5212</td><td>245.0</td></tr><tr><td>GOOGL</td><td>2024-10-04 18:51:00</td><td>166.88000000000002</td><td>166.77</td><td>166.8800</td><td>166.7700</td><td>204.0</td></tr><tr><td>MSFT</td><td>2024-10-04 18:23:00</td><td>415.65</td><td>415.65</td><td>415.7700</td><td>415.6025</td><td>304.0</td></tr><tr><td>GOOGL</td><td>2024-10-04 19:44:00</td><td>166.88000000000002</td><td>166.88000000000002</td><td>166.8800</td><td>166.8800</td><td>1860.0</td></tr><tr><td>AAPL</td><td>2024-10-04 19:03:00</td><td>226.57500000000002</td><td>226.55999999999997</td><td>226.5750</td><td>226.4700</td><td>63.0</td></tr><tr><td>MSFT</td><td>2024-10-04 18:21:00</td><td>415.6999</td><td>415.6986</td><td>415.7000</td><td>415.6500</td><td>328.0</td></tr><tr><td>GOOGL</td><td>2024-10-04 18:11:00</td><td>166.84999999999997</td><td>166.86999999999998</td><td>166.8900</td><td>166.8500</td><td>588.0</td></tr><tr><td>MSFT</td><td>2024-10-04 19:42:00</td><td>415.75500000000005</td><td>415.785</td><td>415.8500</td><td>415.7400</td><td>2106.0</td></tr><tr><td>AAPL</td><td>2024-10-04 19:15:00</td><td>226.52</td><td>226.55500000000004</td><td>226.6200</td><td>226.4900</td><td>252.0</td></tr><tr><td>MSFT</td><td>2024-10-04 18:28:00</td><td>415.7</td><td>415.7</td><td>415.7000</td><td>415.6550</td><td>440.0</td></tr><tr><td>AAPL</td><td>2024-10-04 19:26:00</td><td>226.55999999999997</td><td>225.63999999999993</td><td>226.5600</td><td>225.6100</td><td>4438.0</td></tr><tr><td>MSFT</td><td>2024-10-04 19:14:00</td><td>415.825</td><td>415.86999999999995</td><td>416.7800</td><td>415.7800</td><td>162.0</td></tr><tr><td>MSFT</td><td>2024-10-04 18:29:00</td><td>415.7</td><td>415.7</td><td>415.7000</td><td>415.6550</td><td>3015.0</td></tr><tr><td>GOOGL</td><td>2024-10-04 18:10:00</td><td>166.84999999999997</td><td>166.90000000000003</td><td>166.9000</td><td>166.8500</td><td>72.0</td></tr><tr><td>AAPL</td><td>2024-10-04 18:59:00</td><td>226.56500000000003</td><td>226.56500000000003</td><td>226.7000</td><td>226.5600</td><td>903.0</td></tr><tr><td>MSFT</td><td>2024-10-04 19:19:00</td><td>415.86000000000007</td><td>415.825</td><td>415.8600</td><td>415.8150</td><td>246.0</td></tr><tr><td>AAPL</td><td>2024-10-04 19:24:00</td><td>226.57120000000003</td><td>226.58999999999997</td><td>226.5950</td><td>226.5712</td><td>28.0</td></tr><tr><td>AAPL</td><td>2024-10-04 18:25:00</td><td>226.61000000000007</td><td>226.63990000000007</td><td>226.6910</td><td>226.5200</td><td>224.0</td></tr><tr><td>AAPL</td><td>2024-10-04 18:50:00</td><td>226.67000000000002</td><td>226.665</td><td>226.6900</td><td>226.6400</td><td>1379.0</td></tr><tr><td>AAPL</td><td>2024-10-04 19:31:00</td><td>225.13000000000005</td><td>226.44499999999996</td><td>226.4450</td><td>224.7100</td><td>1190.0</td></tr><tr><td>AAPL</td><td>2024-10-04 18:20:00</td><td>226.635</td><td>226.635</td><td>226.6500</td><td>226.5600</td><td>42.0</td></tr><tr><td>MSFT</td><td>2024-10-04 19:26:00</td><td>415.82</td><td>415.82</td><td>418.1800</td><td>415.8200</td><td>2598.0</td></tr><tr><td>MSFT</td><td>2024-10-04 19:04:00</td><td>415.81000000000006</td><td>415.81000000000006</td><td>415.8100</td><td>415.7290</td><td>520.0</td></tr><tr><td>MSFT</td><td>2024-10-04 18:51:00</td><td>415.91999999999996</td><td>415.875</td><td>415.9500</td><td>415.8500</td><td>535.0</td></tr><tr><td>GOOGL</td><td>2024-10-04 19:14:00</td><td>166.95000000000002</td><td>166.94000000000003</td><td>166.9500</td><td>166.9400</td><td>36.0</td></tr><tr><td>AAPL</td><td>2024-10-04 18:29:00</td><td>226.58999999999997</td><td>226.58999999999997</td><td>226.6500</td><td>226.5300</td><td>3731.0</td></tr><tr><td>MSFT</td><td>2024-10-04 19:08:00</td><td>415.81</td><td>415.785</td><td>415.8400</td><td>415.7650</td><td>282.0</td></tr><tr><td>GOOGL</td><td>2024-10-04 19:55:00</td><td>166.86000000000004</td><td>166.90000000000003</td><td>166.9000</td><td>166.8600</td><td>7932.0</td></tr><tr><td>AAPL</td><td>2024-10-04 19:47:00</td><td>226.42779999999996</td><td>226.48500000000007</td><td>226.5467</td><td>226.4239</td><td>1799.0</td></tr><tr><td>GOOGL</td><td>2024-10-04 19:12:00</td><td>166.93000000000004</td><td>166.93000000000004</td><td>167.0600</td><td>166.9300</td><td>437616.0</td></tr><tr><td>AAPL</td><td>2024-10-04 18:35:00</td><td>226.53500000000003</td><td>226.53</td><td>226.5400</td><td>226.5300</td><td>336.0</td></tr><tr><td>AAPL</td><td>2024-10-04 19:55:00</td><td>226.45800000000003</td><td>226.45000000000002</td><td>226.4600</td><td>226.4220</td><td>2961.0</td></tr><tr><td>GOOGL</td><td>2024-10-04 18:52:00</td><td>166.88000000000002</td><td>166.77</td><td>166.8800</td><td>166.7700</td><td>372.0</td></tr><tr><td>AAPL</td><td>2024-10-04 19:01:00</td><td>226.70000000000002</td><td>226.57500000000002</td><td>226.7000</td><td>226.4500</td><td>119.0</td></tr><tr><td>MSFT</td><td>2024-10-04 19:43:00</td><td>415.84999999999997</td><td>415.84999999999997</td><td>415.8500</td><td>415.7850</td><td>246.0</td></tr><tr><td>MSFT</td><td>2024-10-04 18:30:00</td><td>415.7</td><td>415.7</td><td>415.7000</td><td>415.6550</td><td>560.0</td></tr><tr><td>GOOGL</td><td>2024-10-04 19:03:00</td><td>166.86999999999998</td><td>166.86999999999998</td><td>166.8700</td><td>166.8700</td><td>576.0</td></tr><tr><td>GOOGL</td><td>2024-10-04 18:55:00</td><td>166.86999999999998</td><td>166.80999999999997</td><td>166.8700</td><td>166.8100</td><td>1092.0</td></tr><tr><td>MSFT</td><td>2024-10-04 18:53:00</td><td>415.875</td><td>415.87</td><td>415.9400</td><td>415.8075</td><td>380.0</td></tr><tr><td>GOOGL</td><td>2024-10-04 19:28:00</td><td>165.11000000000004</td><td>165.11000000000004</td><td>165.1100</td><td>165.1100</td><td>108.0</td></tr><tr><td>GOOGL</td><td>2024-10-04 19:15:00</td><td>166.88999999999996</td><td>166.88000000000002</td><td>166.8900</td><td>166.8800</td><td>1176.0</td></tr><tr><td>MSFT</td><td>2024-10-04 19:23:00</td><td>415.8622</td><td>415.84999999999997</td><td>415.8700</td><td>415.8200</td><td>714.0</td></tr><tr><td>MSFT</td><td>2024-10-04 19:50:00</td><td>415.82</td><td>415.92</td><td>415.9200</td><td>415.8200</td><td>276.0</td></tr><tr><td>GOOGL</td><td>2024-10-04 19:42:00</td><td>166.87989999999996</td><td>166.88000000000002</td><td>166.8800</td><td>166.8799</td><td>624.0</td></tr><tr><td>GOOGL</td><td>2024-10-04 18:50:00</td><td>166.88000000000002</td><td>166.88000000000002</td><td>166.8800</td><td>166.8800</td><td>24.0</td></tr><tr><td>AAPL</td><td>2024-10-04 19:57:00</td><td>226.4593</td><td>226.44000000000003</td><td>226.4593</td><td>226.3700</td><td>462.0</td></tr><tr><td>MSFT</td><td>2024-10-04 19:44:00</td><td>415.8</td><td>415.81</td><td>415.9400</td><td>415.7600</td><td>750.0</td></tr><tr><td>GOOGL</td><td>2024-10-04 19:19:00</td><td>166.88000000000002</td><td>166.88000000000002</td><td>166.8800</td><td>166.8800</td><td>48.0</td></tr><tr><td>GOOGL</td><td>2024-10-04 18:19:00</td><td>166.88999999999996</td><td>166.86000000000004</td><td>166.8900</td><td>166.8600</td><td>192.0</td></tr><tr><td>AAPL</td><td>2024-10-04 18:57:00</td><td>226.54</td><td>226.4982</td><td>226.5500</td><td>226.4800</td><td>12376.0</td></tr><tr><td>MSFT</td><td>2024-10-04 19:45:00</td><td>415.94</td><td>415.84999999999997</td><td>415.9400</td><td>415.8300</td><td>1956.0</td></tr><tr><td>GOOGL</td><td>2024-10-04 18:25:00</td><td>166.88000000000002</td><td>166.77</td><td>166.8800</td><td>166.7700</td><td>144.0</td></tr><tr><td>AAPL</td><td>2024-10-04 19:12:00</td><td>226.55500000000004</td><td>226.55500000000004</td><td>226.8000</td><td>226.5100</td><td>417263.0</td></tr><tr><td>GOOGL</td><td>2024-10-04 19:26:00</td><td>166.86999999999998</td><td>166.87989999999996</td><td>166.8800</td><td>166.8700</td><td>108.0</td></tr><tr><td>MSFT</td><td>2024-10-04 19:18:00</td><td>415.86999999999995</td><td>415.86999999999995</td><td>415.8700</td><td>415.8250</td><td>204.0</td></tr><tr><td>AAPL</td><td>2024-10-04 19:51:00</td><td>226.46</td><td>226.46</td><td>226.4980</td><td>226.4200</td><td>560.0</td></tr><tr><td>MSFT</td><td>2024-10-04 19:22:00</td><td>415.835</td><td>415.8</td><td>415.8700</td><td>415.8000</td><td>1890.0</td></tr><tr><td>MSFT</td><td>2024-10-04 18:52:00</td><td>415.95</td><td>415.8</td><td>415.9500</td><td>415.8000</td><td>585.0</td></tr><tr><td>GOOGL</td><td>2024-10-04 19:08:00</td><td>166.88000000000002</td><td>166.7943</td><td>167.0000</td><td>166.7943</td><td>2664.0</td></tr><tr><td>GOOGL</td><td>2024-10-04 18:15:00</td><td>166.84999999999997</td><td>166.88999999999996</td><td>166.8900</td><td>166.8500</td><td>60.0</td></tr><tr><td>AAPL</td><td>2024-10-04 19:52:00</td><td>226.46</td><td>226.46</td><td>226.4900</td><td>226.4600</td><td>1071.0</td></tr><tr><td>AAPL</td><td>2024-10-04 18:30:00</td><td>226.52</td><td>226.63999999999993</td><td>226.6400</td><td>226.5200</td><td>420.0</td></tr><tr><td>MSFT</td><td>2024-10-04 18:35:00</td><td>415.7</td><td>415.7</td><td>415.7000</td><td>415.6700</td><td>630.0</td></tr><tr><td>GOOGL</td><td>2024-10-04 19:38:00</td><td>166.86999999999998</td><td>166.88000000000002</td><td>166.8800</td><td>166.8700</td><td>1080.0</td></tr><tr><td>GOOGL</td><td>2024-10-04 19:22:00</td><td>166.87750000000003</td><td>166.82999999999998</td><td>166.8775</td><td>166.8300</td><td>252.0</td></tr><tr><td>MSFT</td><td>2024-10-04 19:52:00</td><td>415.86999999999995</td><td>415.86999999999995</td><td>415.9000</td><td>415.7600</td><td>708.0</td></tr><tr><td>MSFT</td><td>2024-10-04 19:11:00</td><td>415.82</td><td>415.825</td><td>415.8300</td><td>415.7800</td><td>222.0</td></tr><tr><td>MSFT</td><td>2024-10-04 19:55:00</td><td>415.84999999999997</td><td>415.86999999999995</td><td>415.9200</td><td>415.7500</td><td>558.0</td></tr><tr><td>GOOGL</td><td>2024-10-04 19:56:00</td><td>166.98</td><td>164.99</td><td>166.9800</td><td>164.5400</td><td>3324.0</td></tr><tr><td>GOOGL</td><td>2024-10-04 19:45:00</td><td>166.88000000000002</td><td>166.88000000000002</td><td>166.8800</td><td>166.8800</td><td>312.0</td></tr><tr><td>GOOGL</td><td>2024-10-04 18:38:00</td><td>166.84999999999997</td><td>166.83819999999997</td><td>166.8500</td><td>166.8382</td><td>36.0</td></tr><tr><td>GOOGL</td><td>2024-10-04 18:32:00</td><td>166.77</td><td>166.88000000000002</td><td>166.8800</td><td>166.7700</td><td>1236.0</td></tr><tr><td>AAPL</td><td>2024-10-04 19:29:00</td><td>226.33999999999997</td><td>226.30999999999997</td><td>226.5700</td><td>225.1100</td><td>1337.0</td></tr><tr><td>AAPL</td><td>2024-10-04 18:34:00</td><td>226.54999999999998</td><td>226.57500000000002</td><td>226.5750</td><td>226.5300</td><td>287.0</td></tr><tr><td>MSFT</td><td>2024-10-04 19:37:00</td><td>415.84</td><td>415.83</td><td>415.8500</td><td>415.8300</td><td>420.0</td></tr><tr><td>MSFT</td><td>2024-10-04 19:58:00</td><td>415.86000000000007</td><td>415.88000000000005</td><td>417.2700</td><td>415.8500</td><td>3954.0</td></tr><tr><td>MSFT</td><td>2024-10-04 19:10:00</td><td>415.815</td><td>415.84999999999997</td><td>415.8500</td><td>415.8100</td><td>360.0</td></tr><tr><td>MSFT</td><td>2024-10-04 19:07:00</td><td>415.86999999999995</td><td>415.76499999999993</td><td>415.8700</td><td>415.7650</td><td>150.0</td></tr><tr><td>AAPL</td><td>2024-10-04 18:36:00</td><td>226.54950000000002</td><td>226.53</td><td>226.5500</td><td>226.5300</td><td>2226.0</td></tr><tr><td>MSFT</td><td>2024-10-04 18:55:00</td><td>415.87</td><td>415.83000000000004</td><td>415.9000</td><td>415.8300</td><td>445.0</td></tr><tr><td>MSFT</td><td>2024-10-04 19:41:00</td><td>415.84</td><td>415.7865</td><td>415.8500</td><td>415.7550</td><td>3630.0</td></tr><tr><td>MSFT</td><td>2024-10-04 18:37:00</td><td>415.68999999999994</td><td>415.7</td><td>415.7100</td><td>415.6900</td><td>960.0</td></tr><tr><td>MSFT</td><td>2024-10-04 19:56:00</td><td>415.86999999999995</td><td>415.8450000000001</td><td>417.5100</td><td>415.8450</td><td>618.0</td></tr><tr><td>AAPL</td><td>2024-10-04 19:09:00</td><td>226.63000000000005</td><td>226.54</td><td>226.6300</td><td>226.4800</td><td>35.0</td></tr><tr><td>MSFT</td><td>2024-10-04 19:02:00</td><td>415.9</td><td>415.8</td><td>415.9000</td><td>415.7800</td><td>130.0</td></tr><tr><td>GOOGL</td><td>2024-10-04 18:42:00</td><td>166.77</td><td>166.82500000000002</td><td>166.8400</td><td>166.7700</td><td>324.0</td></tr><tr><td>AAPL</td><td>2024-10-04 19:20:00</td><td>226.56999999999996</td><td>226.56999999999996</td><td>226.6000</td><td>226.5700</td><td>1477.0</td></tr><tr><td>AAPL</td><td>2024-10-04 18:54:00</td><td>226.66000000000003</td><td>226.54999999999998</td><td>226.7255</td><td>226.5500</td><td>18319.0</td></tr><tr><td>AAPL</td><td>2024-10-04 19:56:00</td><td>226.44000000000003</td><td>226.36999999999995</td><td>226.4600</td><td>226.3700</td><td>14938.0</td></tr><tr><td>GOOGL</td><td>2024-10-04 18:28:00</td><td>166.86000000000004</td><td>166.7952</td><td>166.8799</td><td>166.7952</td><td>3084.0</td></tr><tr><td>GOOGL</td><td>2024-10-04 18:36:00</td><td>166.84999999999997</td><td>166.84999999999997</td><td>166.8500</td><td>166.8500</td><td>684.0</td></tr><tr><td>AAPL</td><td>2024-10-04 18:58:00</td><td>226.46499999999997</td><td>226.45000000000002</td><td>226.7000</td><td>226.4300</td><td>84.0</td></tr><tr><td>MSFT</td><td>2024-10-04 19:29:00</td><td>415.84</td><td>415.835</td><td>417.5600</td><td>415.8350</td><td>960.0</td></tr><tr><td>MSFT</td><td>2024-10-04 18:34:00</td><td>415.68999999999994</td><td>415.7</td><td>415.7000</td><td>415.6700</td><td>305.0</td></tr><tr><td>GOOGL</td><td>2024-10-04 18:23:00</td><td>166.86999999999998</td><td>166.83120000000002</td><td>166.8700</td><td>166.8312</td><td>48.0</td></tr><tr><td>MSFT</td><td>2024-10-04 19:13:00</td><td>416.93</td><td>415.86999999999995</td><td>416.9300</td><td>415.8200</td><td>2958.0</td></tr><tr><td>GOOGL</td><td>2024-10-04 19:49:00</td><td>166.86000000000004</td><td>166.86999999999998</td><td>166.8700</td><td>166.8600</td><td>72.0</td></tr><tr><td>GOOGL</td><td>2024-10-04 19:40:00</td><td>166.82999999999998</td><td>166.88000000000002</td><td>166.8800</td><td>166.8300</td><td>852.0</td></tr><tr><td>GOOGL</td><td>2024-10-04 19:21:00</td><td>166.88000000000002</td><td>166.88000000000002</td><td>166.8800</td><td>166.8800</td><td>36.0</td></tr><tr><td>MSFT</td><td>2024-10-04 18:56:00</td><td>415.83000000000004</td><td>415.895</td><td>415.8950</td><td>415.8300</td><td>45.0</td></tr><tr><td>GOOGL</td><td>2024-10-04 19:33:00</td><td>166.88000000000002</td><td>166.88000000000002</td><td>166.8800</td><td>166.8800</td><td>36.0</td></tr><tr><td>MSFT</td><td>2024-10-04 19:00:00</td><td>415.9</td><td>415.8</td><td>415.9000</td><td>415.8000</td><td>95.0</td></tr><tr><td>AAPL</td><td>2024-10-04 19:30:00</td><td>226.32999999999998</td><td>226.44000000000003</td><td>226.5700</td><td>226.3000</td><td>322.0</td></tr><tr><td>AAPL</td><td>2024-10-04 18:49:00</td><td>226.665</td><td>226.67000000000002</td><td>226.6700</td><td>226.6400</td><td>434.0</td></tr><tr><td>AAPL</td><td>2024-10-04 19:48:00</td><td>226.43000000000004</td><td>226.48500000000007</td><td>226.4900</td><td>226.4200</td><td>1071.0</td></tr><tr><td>MSFT</td><td>2024-10-04 19:47:00</td><td>415.82</td><td>415.82</td><td>415.8500</td><td>415.7500</td><td>408.0</td></tr><tr><td>GOOGL</td><td>2024-10-04 18:31:00</td><td>166.86999999999998</td><td>166.86999999999998</td><td>166.8700</td><td>166.8700</td><td>12.0</td></tr><tr><td>AAPL</td><td>2024-10-04 19:27:00</td><td>226.53</td><td>226.46</td><td>226.5600</td><td>225.0100</td><td>6041.0</td></tr><tr><td>AAPL</td><td>2024-10-04 19:32:00</td><td>226.44499999999996</td><td>224.42000000000002</td><td>226.4450</td><td>224.4200</td><td>98.0</td></tr><tr><td>MSFT</td><td>2024-10-04 19:51:00</td><td>415.86000000000007</td><td>415.825</td><td>415.9199</td><td>415.7300</td><td>438.0</td></tr><tr><td>GOOGL</td><td>2024-10-04 18:56:00</td><td>166.88000000000002</td><td>166.84999999999997</td><td>166.8800</td><td>166.8200</td><td>1800.0</td></tr><tr><td>MSFT</td><td>2024-10-04 19:40:00</td><td>415.84999999999997</td><td>415.84999999999997</td><td>415.8500</td><td>415.8215</td><td>348.0</td></tr><tr><td>MSFT</td><td>2024-10-04 18:39:00</td><td>415.73999999999995</td><td>415.7099999999999</td><td>415.7400</td><td>415.7100</td><td>910.0</td></tr><tr><td>GOOGL</td><td>2024-10-04 18:12:00</td><td>166.88999999999996</td><td>166.88999999999996</td><td>166.8900</td><td>166.8800</td><td>336.0</td></tr><tr><td>MSFT</td><td>2024-10-04 18:47:00</td><td>415.95</td><td>415.95</td><td>415.9500</td><td>415.8400</td><td>825.0</td></tr><tr><td>MSFT</td><td>2024-10-04 18:42:00</td><td>415.7200000000001</td><td>415.84</td><td>415.9500</td><td>415.7200</td><td>4685.0</td></tr><tr><td>MSFT</td><td>2024-10-04 19:12:00</td><td>415.86999999999995</td><td>415.79</td><td>416.0600</td><td>415.7900</td><td>22386.0</td></tr><tr><td>MSFT</td><td>2024-10-04 19:06:00</td><td>415.86999999999995</td><td>415.86999999999995</td><td>415.9000</td><td>415.8100</td><td>192.0</td></tr><tr><td>MSFT</td><td>2024-10-04 18:40:00</td><td>415.7099999999999</td><td>415.73999999999995</td><td>415.7400</td><td>415.7100</td><td>160.0</td></tr><tr><td>MSFT</td><td>2024-10-04 18:38:00</td><td>415.68999999999994</td><td>415.7099999999999</td><td>415.7400</td><td>415.6800</td><td>6165.0</td></tr><tr><td>AAPL</td><td>2024-10-04 19:45:00</td><td>226.43000000000004</td><td>226.48500000000007</td><td>226.4900</td><td>226.4200</td><td>784.0</td></tr><tr><td>MSFT</td><td>2024-10-04 18:20:00</td><td>415.7</td><td>415.65</td><td>415.7100</td><td>415.6200</td><td>672.0</td></tr><tr><td>GOOGL</td><td>2024-10-04 18:43:00</td><td>166.83999999999997</td><td>166.83999999999997</td><td>166.8400</td><td>166.7735</td><td>9552.0</td></tr><tr><td>GOOGL</td><td>2024-10-04 19:53:00</td><td>166.79999999999998</td><td>166.79999999999998</td><td>166.8000</td><td>166.8000</td><td>12.0</td></tr><tr><td>AAPL</td><td>2024-10-04 18:26:00</td><td>226.61000000000007</td><td>226.63999999999993</td><td>226.6400</td><td>226.5800</td><td>1890.0</td></tr></tbody></table></div>"
      ]
     },
     "metadata": {
      "application/vnd.databricks.v1+output": {
       "addedWidgets": {},
       "aggData": [],
       "aggError": "",
       "aggOverflow": false,
       "aggSchema": [],
       "aggSeriesLimitReached": false,
       "aggType": "",
       "arguments": {},
       "columnCustomDisplayInfos": {},
       "data": [
        [
         "MSFT",
         "2024-10-04 18:45:00",
         415.95,
         415.84,
         "415.9500",
         "415.8000",
         305.0
        ],
        [
         "GOOGL",
         "2024-10-04 18:33:00",
         166.86000000000004,
         166.86999999999998,
         "166.8700",
         "166.8600",
         552.0
        ],
        [
         "AAPL",
         "2024-10-04 19:58:00",
         225.29,
         226.41890000000006,
         "226.4600",
         "225.2900",
         1015.0
        ],
        [
         "GOOGL",
         "2024-10-04 19:57:00",
         166.93000000000004,
         166.98,
         "166.9800",
         "166.8800",
         5736.0
        ],
        [
         "GOOGL",
         "2024-10-04 19:51:00",
         166.87799999999996,
         166.80400000000003,
         "166.8800",
         "166.8040",
         264.0
        ],
        [
         "GOOGL",
         "2024-10-04 19:00:00",
         166.86999999999998,
         166.88000000000002,
         "166.8800",
         "166.8700",
         60.0
        ],
        [
         "AAPL",
         "2024-10-04 18:31:00",
         226.59999999999997,
         226.58999999999997,
         "226.6400",
         "226.5400",
         665.0
        ],
        [
         "MSFT",
         "2024-10-04 19:38:00",
         415.84999999999997,
         415.84,
         "415.8500",
         "415.8300",
         1206.0
        ],
        [
         "MSFT",
         "2024-10-04 19:53:00",
         415.88000000000005,
         415.88000000000005,
         "415.8800",
         "415.8250",
         258.0
        ],
        [
         "MSFT",
         "2024-10-04 18:32:00",
         415.7,
         415.68999999999994,
         "415.7000",
         "415.6100",
         1925.0
        ],
        [
         "AAPL",
         "2024-10-04 18:51:00",
         226.65000000000003,
         226.71,
         "226.7100",
         "226.6400",
         22218.0
        ],
        [
         "MSFT",
         "2024-10-04 19:30:00",
         415.84999999999997,
         415.82,
         "415.8500",
         "415.8200",
         870.0
        ],
        [
         "GOOGL",
         "2024-10-04 19:06:00",
         166.82179999999997,
         167.0,
         "167.0000",
         "166.8218",
         240.0
        ],
        [
         "GOOGL",
         "2024-10-04 18:45:00",
         166.83999999999997,
         166.83999999999997,
         "166.8400",
         "166.7700",
         636.0
        ],
        [
         "GOOGL",
         "2024-10-04 18:16:00",
         166.88000000000002,
         166.82999999999998,
         "166.8900",
         "166.7827",
         7848.0
        ],
        [
         "MSFT",
         "2024-10-04 18:43:00",
         415.9335,
         415.84,
         "415.9500",
         "415.8400",
         1195.0
        ],
        [
         "AAPL",
         "2024-10-04 18:39:00",
         226.53500000000003,
         226.53,
         "226.6300",
         "226.5300",
         5593.0
        ],
        [
         "AAPL",
         "2024-10-04 19:19:00",
         226.61999999999995,
         226.5707,
         "226.6200",
         "226.5700",
         980.0
        ],
        [
         "MSFT",
         "2024-10-04 18:26:00",
         415.6549999999999,
         415.6549999999999,
         "415.7800",
         "415.6100",
         235.0
        ],
        [
         "GOOGL",
         "2024-10-04 18:58:00",
         166.86999999999998,
         166.86999999999998,
         "166.8793",
         "166.8700",
         576.0
        ],
        [
         "AAPL",
         "2024-10-04 19:07:00",
         226.54,
         226.54,
         "226.5500",
         "226.4500",
         63.0
        ],
        [
         "GOOGL",
         "2024-10-04 19:31:00",
         166.876,
         165.31999999999996,
         "166.8760",
         "165.3200",
         480.0
        ],
        [
         "MSFT",
         "2024-10-04 19:09:00",
         415.84,
         415.785,
         "415.8500",
         "415.7850",
         210.0
        ],
        [
         "MSFT",
         "2024-10-04 18:54:00",
         415.87,
         415.9,
         "415.9400",
         "415.8700",
         210.0
        ],
        [
         "AAPL",
         "2024-10-04 19:18:00",
         226.55500000000004,
         226.595,
         "226.6135",
         "226.5550",
         707.0
        ],
        [
         "MSFT",
         "2024-10-04 19:59:00",
         415.88000000000005,
         415.815,
         "415.9000",
         "415.8150",
         2316.0
        ],
        [
         "MSFT",
         "2024-10-04 18:50:00",
         415.95,
         415.95,
         "415.9500",
         "415.8750",
         180.0
        ],
        [
         "AAPL",
         "2024-10-04 19:23:00",
         226.59999999999997,
         226.59999999999997,
         "226.6000",
         "226.5700",
         399.0
        ],
        [
         "AAPL",
         "2024-10-04 19:50:00",
         226.42000000000002,
         226.48500000000007,
         "226.5500",
         "226.4200",
         126.0
        ],
        [
         "AAPL",
         "2024-10-04 19:36:00",
         226.539,
         226.44499999999996,
         "226.5472",
         "226.4450",
         21168.0
        ],
        [
         "AAPL",
         "2024-10-04 19:46:00",
         226.42080000000004,
         226.48500000000007,
         "226.5500",
         "226.4200",
         469.0
        ],
        [
         "AAPL",
         "2024-10-04 19:08:00",
         226.63000000000005,
         226.63000000000005,
         "226.6300",
         "226.5400",
         126.0
        ],
        [
         "MSFT",
         "2024-10-04 19:48:00",
         415.82,
         415.82,
         "415.9200",
         "415.7700",
         144.0
        ],
        [
         "MSFT",
         "2024-10-04 19:24:00",
         415.825,
         415.8,
         "415.8500",
         "415.8000",
         2532.0
        ],
        [
         "AAPL",
         "2024-10-04 19:06:00",
         226.59999999999997,
         226.54999999999998,
         "226.6000",
         "226.4500",
         98.0
        ],
        [
         "GOOGL",
         "2024-10-04 19:16:00",
         166.88000000000002,
         166.88000000000002,
         "166.8800",
         "166.8800",
         768.0
        ],
        [
         "GOOGL",
         "2024-10-04 19:39:00",
         166.82999999999998,
         166.88000000000002,
         "166.8800",
         "166.8300",
         60.0
        ],
        [
         "AAPL",
         "2024-10-04 18:33:00",
         226.56999999999996,
         226.57500000000002,
         "226.6300",
         "226.5200",
         1435.0
        ],
        [
         "AAPL",
         "2024-10-04 18:53:00",
         226.63000000000005,
         226.68000000000004,
         "226.6900",
         "226.6300",
         154.0
        ],
        [
         "AAPL",
         "2024-10-04 18:23:00",
         226.58999999999997,
         226.65000000000003,
         "226.6955",
         "226.5200",
         1057.0
        ],
        [
         "MSFT",
         "2024-10-04 18:31:00",
         415.61,
         415.7,
         "415.7000",
         "415.6100",
         745.0
        ],
        [
         "GOOGL",
         "2024-10-04 18:41:00",
         166.82999999999998,
         166.83999999999997,
         "166.8400",
         "166.7700",
         564.0
        ],
        [
         "MSFT",
         "2024-10-04 19:49:00",
         415.82,
         415.84999999999997,
         "415.9100",
         "415.8200",
         192.0
        ],
        [
         "MSFT",
         "2024-10-04 18:48:00",
         415.84,
         415.91999999999996,
         "415.9500",
         "415.8400",
         210.0
        ],
        [
         "MSFT",
         "2024-10-04 19:32:00",
         415.83,
         415.83,
         "415.8500",
         "415.8200",
         1086.0
        ],
        [
         "MSFT",
         "2024-10-04 18:41:00",
         415.73999999999995,
         415.73999999999995,
         "415.7400",
         "415.7200",
         285.0
        ],
        [
         "AAPL",
         "2024-10-04 18:38:00",
         226.53500000000003,
         226.53500000000003,
         "226.5400",
         "226.5300",
         189.0
        ],
        [
         "AAPL",
         "2024-10-04 19:21:00",
         226.59999999999997,
         226.56999999999996,
         "226.6000",
         "226.5600",
         1064.0
        ],
        [
         "MSFT",
         "2024-10-04 19:27:00",
         415.84920000000005,
         415.82,
         "418.0700",
         "415.8000",
         570.0
        ],
        [
         "GOOGL",
         "2024-10-04 18:21:00",
         166.88999999999996,
         166.88999999999996,
         "166.8900",
         "166.8800",
         60.0
        ],
        [
         "MSFT",
         "2024-10-04 19:34:00",
         415.84920000000005,
         415.84009999999995,
         "415.8500",
         "415.8350",
         1122.0
        ],
        [
         "AAPL",
         "2024-10-04 18:56:00",
         226.53,
         226.54,
         "226.5500",
         "226.5300",
         3724.0
        ],
        [
         "MSFT",
         "2024-10-04 18:33:00",
         415.66999999999996,
         415.66999999999996,
         "415.6900",
         "415.6700",
         30.0
        ],
        [
         "MSFT",
         "2024-10-04 18:49:00",
         415.93999999999994,
         415.875,
         "415.9400",
         "415.8750",
         595.0
        ],
        [
         "MSFT",
         "2024-10-04 18:44:00",
         415.95,
         415.95,
         "415.9500",
         "415.8400",
         350.0
        ],
        [
         "MSFT",
         "2024-10-04 18:22:00",
         415.7,
         415.62,
         "415.7000",
         "415.6092",
         2512.0
        ],
        [
         "AAPL",
         "2024-10-04 18:44:00",
         226.63999999999993,
         226.66000000000003,
         "226.6600",
         "226.6300",
         560.0
        ],
        [
         "MSFT",
         "2024-10-04 18:46:00",
         415.84,
         415.8,
         "415.9500",
         "415.8000",
         185.0
        ],
        [
         "GOOGL",
         "2024-10-04 19:59:00",
         166.95000000000002,
         166.97150000000002,
         "166.9715",
         "166.8900",
         1056.0
        ],
        [
         "GOOGL",
         "2024-10-04 18:20:00",
         166.88000000000002,
         166.83120000000002,
         "166.8800",
         "166.8312",
         36.0
        ],
        [
         "AAPL",
         "2024-10-04 19:16:00",
         226.55500000000004,
         226.5,
         "226.5550",
         "226.5000",
         196.0
        ],
        [
         "MSFT",
         "2024-10-04 19:20:00",
         415.825,
         415.825,
         "415.8700",
         "415.7800",
         144.0
        ],
        [
         "MSFT",
         "2024-10-04 19:05:00",
         415.81000000000006,
         415.87,
         "415.9000",
         "415.8100",
         155.0
        ],
        [
         "GOOGL",
         "2024-10-04 19:04:00",
         166.88000000000002,
         166.88000000000002,
         "166.8800",
         "166.8700",
         7416.0
        ],
        [
         "AAPL",
         "2024-10-04 19:10:00",
         226.4965,
         226.5,
         "226.5000",
         "226.4965",
         42.0
        ],
        [
         "MSFT",
         "2024-10-04 19:15:00",
         415.825,
         415.825,
         "415.8250",
         "415.8250",
         12.0
        ],
        [
         "GOOGL",
         "2024-10-04 18:49:00",
         166.81999999999996,
         166.88000000000002,
         "166.8800",
         "166.7755",
         3360.0
        ],
        [
         "AAPL",
         "2024-10-04 19:37:00",
         226.44000000000003,
         226.46,
         "226.5500",
         "226.3508",
         707.0
        ],
        [
         "AAPL",
         "2024-10-04 18:40:00",
         226.57999999999998,
         226.57999999999998,
         "226.5800",
         "226.5300",
         280.0
        ],
        [
         "GOOGL",
         "2024-10-04 19:17:00",
         166.87750000000003,
         166.88000000000002,
         "166.8800",
         "166.8775",
         828.0
        ],
        [
         "GOOGL",
         "2024-10-04 19:30:00",
         166.88000000000002,
         166.88000000000002,
         "166.8800",
         "166.8800",
         624.0
        ],
        [
         "GOOGL",
         "2024-10-04 19:01:00",
         166.86999999999998,
         166.88000000000002,
         "166.8800",
         "166.8500",
         5028.0
        ],
        [
         "AAPL",
         "2024-10-04 18:46:00",
         226.63999999999993,
         226.63999999999993,
         "226.6800",
         "226.6400",
         1351.0
        ],
        [
         "GOOGL",
         "2024-10-04 18:26:00",
         166.86999999999998,
         166.88000000000002,
         "166.8800",
         "166.8700",
         360.0
        ],
        [
         "MSFT",
         "2024-10-04 19:31:00",
         417.71,
         415.83,
         "417.7100",
         "415.8200",
         1920.0
        ],
        [
         "MSFT",
         "2024-10-04 19:01:00",
         415.805,
         415.8999,
         "415.8999",
         "415.7100",
         320.0
        ],
        [
         "GOOGL",
         "2024-10-04 19:35:00",
         166.88000000000002,
         166.88000000000002,
         "166.8800",
         "166.8800",
         120.0
        ],
        [
         "GOOGL",
         "2024-10-04 19:54:00",
         166.86000000000004,
         166.86999999999998,
         "166.8700",
         "166.8600",
         252.0
        ],
        [
         "MSFT",
         "2024-10-04 19:36:00",
         415.8485,
         415.84,
         "415.8500",
         "415.8350",
         228.0
        ],
        [
         "GOOGL",
         "2024-10-04 19:05:00",
         166.88000000000002,
         166.88000000000002,
         "166.8800",
         "166.8800",
         72.0
        ],
        [
         "AAPL",
         "2024-10-04 19:02:00",
         226.70000000000002,
         226.57500000000002,
         "226.7000",
         "226.4500",
         784.0
        ],
        [
         "MSFT",
         "2024-10-04 19:28:00",
         415.82,
         415.84999999999997,
         "416.2600",
         "415.8200",
         360.0
        ],
        [
         "GOOGL",
         "2024-10-04 18:22:00",
         166.86999999999998,
         166.86999999999998,
         "166.8800",
         "166.8500",
         564.0
        ],
        [
         "MSFT",
         "2024-10-04 18:59:00",
         415.9,
         415.805,
         "415.9000",
         "415.8000",
         195.0
        ],
        [
         "GOOGL",
         "2024-10-04 19:37:00",
         166.78,
         166.83999999999997,
         "166.8800",
         "166.7800",
         1872.0
        ],
        [
         "GOOGL",
         "2024-10-04 18:44:00",
         166.83999999999997,
         166.83999999999997,
         "166.8400",
         "166.8394",
         84.0
        ],
        [
         "AAPL",
         "2024-10-04 19:59:00",
         226.36999999999995,
         226.415,
         "226.4500",
         "226.3700",
         1862.0
        ],
        [
         "AAPL",
         "2024-10-04 18:24:00",
         226.5245,
         226.61000000000007,
         "226.6955",
         "226.5200",
         70.0
        ],
        [
         "GOOGL",
         "2024-10-04 19:46:00",
         166.82999999999998,
         166.86999999999998,
         "166.8700",
         "166.8300",
         132.0
        ],
        [
         "GOOGL",
         "2024-10-04 19:29:00",
         166.88000000000002,
         166.86999999999998,
         "166.8800",
         "166.8354",
         1104.0
        ],
        [
         "AAPL",
         "2024-10-04 19:42:00",
         226.54999999999998,
         226.48500000000007,
         "226.5500",
         "226.4200",
         826.0
        ],
        [
         "GOOGL",
         "2024-10-04 18:08:00",
         166.84999999999997,
         166.84999999999997,
         "166.8500",
         "166.8500",
         48.0
        ],
        [
         "MSFT",
         "2024-10-04 19:46:00",
         415.8,
         415.84999999999997,
         "415.9200",
         "415.8000",
         132.0
        ],
        [
         "AAPL",
         "2024-10-04 18:47:00",
         226.68000000000004,
         226.67000000000002,
         "226.6800",
         "226.6400",
         91.0
        ],
        [
         "GOOGL",
         "2024-10-04 19:47:00",
         166.82749999999996,
         166.84999999999997,
         "166.8500",
         "166.8275",
         1380.0
        ],
        [
         "AAPL",
         "2024-10-04 19:22:00",
         226.59999999999997,
         226.59999999999997,
         "226.6000",
         "226.5850",
         1106.0
        ],
        [
         "GOOGL",
         "2024-10-04 19:09:00",
         166.88000000000002,
         166.93000000000004,
         "167.0000",
         "166.8800",
         1224.0
        ],
        [
         "AAPL",
         "2024-10-04 19:17:00",
         226.5,
         226.55500000000004,
         "226.6167",
         "226.4900",
         9555.0
        ],
        [
         "MSFT",
         "2024-10-04 19:39:00",
         415.84,
         415.84999999999997,
         "415.8500",
         "415.8300",
         324.0
        ],
        [
         "MSFT",
         "2024-10-04 19:03:00",
         415.87,
         415.7200000000001,
         "415.9000",
         "415.7200",
         345.0
        ],
        [
         "MSFT",
         "2024-10-04 18:27:00",
         415.6549999999999,
         415.6145,
         "415.7000",
         "415.6145",
         445.0
        ],
        [
         "GOOGL",
         "2024-10-04 19:13:00",
         166.9918,
         166.9918,
         "166.9918",
         "166.9918",
         3000.0
        ],
        [
         "AAPL",
         "2024-10-04 19:43:00",
         226.48500000000007,
         226.44000000000003,
         "226.4850",
         "226.4400",
         91.0
        ],
        [
         "GOOGL",
         "2024-10-04 19:20:00",
         166.88000000000002,
         166.88000000000002,
         "166.8800",
         "166.7825",
         648.0
        ],
        [
         "AAPL",
         "2024-10-04 19:05:00",
         226.48,
         226.56999999999996,
         "226.6900",
         "226.4500",
         112.0
        ],
        [
         "AAPL",
         "2024-10-04 18:42:00",
         226.54,
         226.69000000000003,
         "226.6900",
         "226.5300",
         5495.0
        ],
        [
         "AAPL",
         "2024-10-04 19:00:00",
         226.45000000000002,
         226.57500000000002,
         "226.5750",
         "226.4500",
         42.0
        ],
        [
         "GOOGL",
         "2024-10-04 18:48:00",
         166.79,
         166.81999999999996,
         "166.8400",
         "166.7900",
         6552.0
        ],
        [
         "GOOGL",
         "2024-10-04 18:27:00",
         166.88000000000002,
         166.87879999999998,
         "166.8800",
         "166.8500",
         96.0
        ],
        [
         "MSFT",
         "2024-10-04 19:35:00",
         415.84,
         415.835,
         "415.8400",
         "415.8350",
         66.0
        ],
        [
         "AAPL",
         "2024-10-04 19:49:00",
         226.42519999999996,
         226.48500000000007,
         "226.5500",
         "226.4252",
         189.0
        ],
        [
         "MSFT",
         "2024-10-04 18:58:00",
         415.85,
         415.805,
         "415.9000",
         "415.8000",
         1635.0
        ],
        [
         "AAPL",
         "2024-10-04 18:32:00",
         226.58999999999997,
         226.585,
         "226.5900",
         "226.5400",
         154.0
        ],
        [
         "GOOGL",
         "2024-10-04 19:41:00",
         166.88000000000002,
         166.88000000000002,
         "166.8800",
         "166.8700",
         432.0
        ],
        [
         "AAPL",
         "2024-10-04 19:11:00",
         226.5,
         226.55500000000004,
         "226.6135",
         "226.4900",
         9625.0
        ],
        [
         "GOOGL",
         "2024-10-04 18:37:00",
         166.84999999999997,
         166.84999999999997,
         "166.8500",
         "166.8500",
         120.0
        ],
        [
         "AAPL",
         "2024-10-04 19:28:00",
         226.47,
         226.40000000000003,
         "226.5100",
         "226.2800",
         3920.0
        ],
        [
         "GOOGL",
         "2024-10-04 19:58:00",
         166.88000000000002,
         166.90000000000003,
         "166.9766",
         "166.8800",
         5640.0
        ],
        [
         "GOOGL",
         "2024-10-04 19:32:00",
         166.88000000000002,
         166.88000000000002,
         "166.8800",
         "166.8700",
         744.0
        ],
        [
         "AAPL",
         "2024-10-04 19:33:00",
         226.44499999999996,
         226.46499999999997,
         "226.4650",
         "226.3600",
         385.0
        ],
        [
         "AAPL",
         "2024-10-04 18:45:00",
         226.66000000000003,
         226.69000000000003,
         "226.6900",
         "226.6300",
         3955.0
        ],
        [
         "GOOGL",
         "2024-10-04 18:46:00",
         166.7735,
         166.83999999999997,
         "166.8400",
         "166.7735",
         696.0
        ],
        [
         "GOOGL",
         "2024-10-04 18:39:00",
         166.83999999999997,
         166.83999999999997,
         "166.8400",
         "166.8300",
         132.0
        ],
        [
         "MSFT",
         "2024-10-04 19:25:00",
         415.84999999999997,
         415.82,
         "415.8500",
         "415.8000",
         744.0
        ],
        [
         "GOOGL",
         "2024-10-04 19:52:00",
         166.84999999999997,
         166.88000000000002,
         "166.8800",
         "166.8500",
         420.0
        ],
        [
         "GOOGL",
         "2024-10-04 18:59:00",
         166.88000000000002,
         166.88000000000002,
         "166.8800",
         "166.8800",
         2412.0
        ],
        [
         "GOOGL",
         "2024-10-04 18:24:00",
         166.88000000000002,
         166.88000000000002,
         "166.8800",
         "166.8800",
         12.0
        ],
        [
         "AAPL",
         "2024-10-04 18:52:00",
         226.71,
         226.68000000000004,
         "226.7300",
         "226.6300",
         3633.0
        ],
        [
         "AAPL",
         "2024-10-04 18:48:00",
         226.665,
         226.665,
         "226.6900",
         "226.6400",
         3248.0
        ],
        [
         "GOOGL",
         "2024-10-04 19:11:00",
         166.95000000000002,
         166.90000000000003,
         "166.9500",
         "166.8900",
         384.0
        ],
        [
         "MSFT",
         "2024-10-04 18:57:00",
         415.88,
         415.8992999999999,
         "415.8999",
         "415.8500",
         170.0
        ],
        [
         "GOOGL",
         "2024-10-04 19:02:00",
         166.84999999999997,
         166.86999999999998,
         "166.8800",
         "166.8500",
         1380.0
        ],
        [
         "AAPL",
         "2024-10-04 19:35:00",
         226.56500000000003,
         226.44000000000003,
         "226.5700",
         "226.3300",
         34923.0
        ],
        [
         "AAPL",
         "2024-10-04 18:28:00",
         226.58999999999997,
         226.58999999999997,
         "226.5900",
         "226.5300",
         441.0
        ],
        [
         "GOOGL",
         "2024-10-04 19:36:00",
         166.86999999999998,
         166.82269999999997,
         "166.8700",
         "166.8227",
         780.0
        ],
        [
         "AAPL",
         "2024-10-04 18:41:00",
         226.53230000000002,
         226.57999999999998,
         "226.5800",
         "226.5323",
         3276.0
        ],
        [
         "AAPL",
         "2024-10-04 18:21:00",
         226.61000000000007,
         226.55999999999997,
         "226.6350",
         "226.5600",
         49.0
        ],
        [
         "GOOGL",
         "2024-10-04 18:18:00",
         166.82999999999998,
         166.82999999999998,
         "166.8600",
         "166.8300",
         108.0
        ],
        [
         "MSFT",
         "2024-10-04 19:54:00",
         415.825,
         415.92,
         "415.9200",
         "415.8250",
         252.0
        ],
        [
         "MSFT",
         "2024-10-04 19:17:00",
         415.86769999999996,
         415.8699,
         "415.8700",
         "415.8250",
         816.0
        ],
        [
         "AAPL",
         "2024-10-04 18:22:00",
         226.61999999999995,
         226.58999999999997,
         "226.6400",
         "226.5600",
         2681.0
        ],
        [
         "MSFT",
         "2024-10-04 19:21:00",
         415.84,
         415.8,
         "415.8500",
         "415.8000",
         1908.0
        ],
        [
         "MSFT",
         "2024-10-04 18:36:00",
         415.68999999999994,
         415.7,
         "415.7000",
         "415.6900",
         145.0
        ],
        [
         "GOOGL",
         "2024-10-04 19:34:00",
         166.80009999999996,
         166.86999999999998,
         "166.8800",
         "166.8000",
         2196.0
        ],
        [
         "GOOGL",
         "2024-10-04 18:13:00",
         166.88999999999996,
         166.88999999999996,
         "166.8900",
         "166.8900",
         4176.0
        ],
        [
         "AAPL",
         "2024-10-04 19:41:00",
         226.43000000000004,
         226.4211,
         "226.5500",
         "226.4211",
         1771.0
        ],
        [
         "AAPL",
         "2024-10-04 19:04:00",
         226.57500000000002,
         226.45000000000002,
         "226.5750",
         "226.4500",
         182.0
        ],
        [
         "GOOGL",
         "2024-10-04 19:27:00",
         166.88000000000002,
         166.88000000000002,
         "166.8800",
         "166.8800",
         132.0
        ],
        [
         "AAPL",
         "2024-10-04 19:13:00",
         226.55500000000004,
         226.54,
         "226.6200",
         "226.4900",
         1652.0
        ],
        [
         "AAPL",
         "2024-10-04 19:40:00",
         226.45000000000002,
         226.43000000000004,
         "226.4500",
         "226.4200",
         1743.0
        ],
        [
         "AAPL",
         "2024-10-04 19:44:00",
         226.48500000000007,
         226.48500000000007,
         "226.5500",
         "226.4200",
         1148.0
        ],
        [
         "AAPL",
         "2024-10-04 19:38:00",
         226.46,
         226.46,
         "226.4600",
         "226.4600",
         252.0
        ],
        [
         "MSFT",
         "2024-10-04 18:24:00",
         415.65,
         415.68,
         "415.7000",
         "415.6500",
         268.0
        ],
        [
         "GOOGL",
         "2024-10-04 18:57:00",
         166.88000000000002,
         166.88000000000002,
         "166.8800",
         "166.8214",
         696.0
        ],
        [
         "MSFT",
         "2024-10-04 19:57:00",
         415.86999999999995,
         415.89989999999995,
         "415.9500",
         "415.8450",
         9372.0
        ],
        [
         "GOOGL",
         "2024-10-04 19:43:00",
         166.83019999999996,
         166.83019999999996,
         "166.8302",
         "166.8302",
         1200.0
        ],
        [
         "AAPL",
         "2024-10-04 18:43:00",
         226.55999999999997,
         226.63000000000005,
         "226.6300",
         "226.5475",
         1505.0
        ],
        [
         "MSFT",
         "2024-10-04 18:25:00",
         415.69,
         415.69,
         "415.7000",
         "415.6500",
         664.0
        ],
        [
         "GOOGL",
         "2024-10-04 18:30:00",
         166.86999999999998,
         166.86999999999998,
         "166.8700",
         "166.8700",
         24.0
        ],
        [
         "AAPL",
         "2024-10-04 19:54:00",
         226.47,
         226.46,
         "226.4700",
         "226.4600",
         3633.0
        ],
        [
         "GOOGL",
         "2024-10-04 18:35:00",
         166.84999999999997,
         166.86999999999998,
         "166.8700",
         "166.8500",
         180.0
        ],
        [
         "AAPL",
         "2024-10-04 18:55:00",
         226.54,
         226.53,
         "226.5400",
         "226.5300",
         385.0
        ],
        [
         "AAPL",
         "2024-10-04 19:34:00",
         226.56999999999996,
         226.49499999999995,
         "226.5700",
         "226.4201",
         196.0
        ],
        [
         "MSFT",
         "2024-10-04 19:33:00",
         415.83,
         415.83,
         "416.4500",
         "415.8300",
         1806.0
        ],
        [
         "GOOGL",
         "2024-10-04 18:09:00",
         166.84999999999997,
         166.89989999999997,
         "166.9000",
         "166.8500",
         22560.0
        ],
        [
         "AAPL",
         "2024-10-04 19:53:00",
         226.46,
         226.47,
         "226.5000",
         "226.4600",
         1064.0
        ],
        [
         "AAPL",
         "2024-10-04 18:37:00",
         226.53,
         226.53,
         "226.5400",
         "226.5300",
         399.0
        ],
        [
         "GOOGL",
         "2024-10-04 19:25:00",
         166.78,
         166.88000000000002,
         "166.8800",
         "166.7800",
         1224.0
        ],
        [
         "GOOGL",
         "2024-10-04 18:47:00",
         166.83999999999997,
         166.83999999999997,
         "166.8400",
         "166.8400",
         24.0
        ],
        [
         "AAPL",
         "2024-10-04 19:39:00",
         226.42000000000002,
         226.45000000000002,
         "226.4600",
         "226.4200",
         231.0
        ],
        [
         "GOOGL",
         "2024-10-04 18:40:00",
         166.83999999999997,
         166.83999999999997,
         "166.8400",
         "166.8400",
         600.0
        ],
        [
         "AAPL",
         "2024-10-04 19:14:00",
         226.49,
         226.54,
         "226.6200",
         "226.4900",
         371.0
        ],
        [
         "AAPL",
         "2024-10-04 19:25:00",
         226.61000000000007,
         226.53,
         "226.6100",
         "226.4900",
         994.0
        ],
        [
         "MSFT",
         "2024-10-04 19:16:00",
         415.8412,
         415.86549999999994,
         "415.8700",
         "415.8250",
         756.0
        ],
        [
         "GOOGL",
         "2024-10-04 19:50:00",
         166.86000000000004,
         166.87969999999999,
         "166.8797",
         "166.8283",
         1428.0
        ],
        [
         "AAPL",
         "2024-10-04 18:27:00",
         226.57999999999998,
         226.65000000000003,
         "226.6500",
         "226.5212",
         245.0
        ],
        [
         "GOOGL",
         "2024-10-04 18:51:00",
         166.88000000000002,
         166.77,
         "166.8800",
         "166.7700",
         204.0
        ],
        [
         "MSFT",
         "2024-10-04 18:23:00",
         415.65,
         415.65,
         "415.7700",
         "415.6025",
         304.0
        ],
        [
         "GOOGL",
         "2024-10-04 19:44:00",
         166.88000000000002,
         166.88000000000002,
         "166.8800",
         "166.8800",
         1860.0
        ],
        [
         "AAPL",
         "2024-10-04 19:03:00",
         226.57500000000002,
         226.55999999999997,
         "226.5750",
         "226.4700",
         63.0
        ],
        [
         "MSFT",
         "2024-10-04 18:21:00",
         415.6999,
         415.6986,
         "415.7000",
         "415.6500",
         328.0
        ],
        [
         "GOOGL",
         "2024-10-04 18:11:00",
         166.84999999999997,
         166.86999999999998,
         "166.8900",
         "166.8500",
         588.0
        ],
        [
         "MSFT",
         "2024-10-04 19:42:00",
         415.75500000000005,
         415.785,
         "415.8500",
         "415.7400",
         2106.0
        ],
        [
         "AAPL",
         "2024-10-04 19:15:00",
         226.52,
         226.55500000000004,
         "226.6200",
         "226.4900",
         252.0
        ],
        [
         "MSFT",
         "2024-10-04 18:28:00",
         415.7,
         415.7,
         "415.7000",
         "415.6550",
         440.0
        ],
        [
         "AAPL",
         "2024-10-04 19:26:00",
         226.55999999999997,
         225.63999999999993,
         "226.5600",
         "225.6100",
         4438.0
        ],
        [
         "MSFT",
         "2024-10-04 19:14:00",
         415.825,
         415.86999999999995,
         "416.7800",
         "415.7800",
         162.0
        ],
        [
         "MSFT",
         "2024-10-04 18:29:00",
         415.7,
         415.7,
         "415.7000",
         "415.6550",
         3015.0
        ],
        [
         "GOOGL",
         "2024-10-04 18:10:00",
         166.84999999999997,
         166.90000000000003,
         "166.9000",
         "166.8500",
         72.0
        ],
        [
         "AAPL",
         "2024-10-04 18:59:00",
         226.56500000000003,
         226.56500000000003,
         "226.7000",
         "226.5600",
         903.0
        ],
        [
         "MSFT",
         "2024-10-04 19:19:00",
         415.86000000000007,
         415.825,
         "415.8600",
         "415.8150",
         246.0
        ],
        [
         "AAPL",
         "2024-10-04 19:24:00",
         226.57120000000003,
         226.58999999999997,
         "226.5950",
         "226.5712",
         28.0
        ],
        [
         "AAPL",
         "2024-10-04 18:25:00",
         226.61000000000007,
         226.63990000000007,
         "226.6910",
         "226.5200",
         224.0
        ],
        [
         "AAPL",
         "2024-10-04 18:50:00",
         226.67000000000002,
         226.665,
         "226.6900",
         "226.6400",
         1379.0
        ],
        [
         "AAPL",
         "2024-10-04 19:31:00",
         225.13000000000005,
         226.44499999999996,
         "226.4450",
         "224.7100",
         1190.0
        ],
        [
         "AAPL",
         "2024-10-04 18:20:00",
         226.635,
         226.635,
         "226.6500",
         "226.5600",
         42.0
        ],
        [
         "MSFT",
         "2024-10-04 19:26:00",
         415.82,
         415.82,
         "418.1800",
         "415.8200",
         2598.0
        ],
        [
         "MSFT",
         "2024-10-04 19:04:00",
         415.81000000000006,
         415.81000000000006,
         "415.8100",
         "415.7290",
         520.0
        ],
        [
         "MSFT",
         "2024-10-04 18:51:00",
         415.91999999999996,
         415.875,
         "415.9500",
         "415.8500",
         535.0
        ],
        [
         "GOOGL",
         "2024-10-04 19:14:00",
         166.95000000000002,
         166.94000000000003,
         "166.9500",
         "166.9400",
         36.0
        ],
        [
         "AAPL",
         "2024-10-04 18:29:00",
         226.58999999999997,
         226.58999999999997,
         "226.6500",
         "226.5300",
         3731.0
        ],
        [
         "MSFT",
         "2024-10-04 19:08:00",
         415.81,
         415.785,
         "415.8400",
         "415.7650",
         282.0
        ],
        [
         "GOOGL",
         "2024-10-04 19:55:00",
         166.86000000000004,
         166.90000000000003,
         "166.9000",
         "166.8600",
         7932.0
        ],
        [
         "AAPL",
         "2024-10-04 19:47:00",
         226.42779999999996,
         226.48500000000007,
         "226.5467",
         "226.4239",
         1799.0
        ],
        [
         "GOOGL",
         "2024-10-04 19:12:00",
         166.93000000000004,
         166.93000000000004,
         "167.0600",
         "166.9300",
         437616.0
        ],
        [
         "AAPL",
         "2024-10-04 18:35:00",
         226.53500000000003,
         226.53,
         "226.5400",
         "226.5300",
         336.0
        ],
        [
         "AAPL",
         "2024-10-04 19:55:00",
         226.45800000000003,
         226.45000000000002,
         "226.4600",
         "226.4220",
         2961.0
        ],
        [
         "GOOGL",
         "2024-10-04 18:52:00",
         166.88000000000002,
         166.77,
         "166.8800",
         "166.7700",
         372.0
        ],
        [
         "AAPL",
         "2024-10-04 19:01:00",
         226.70000000000002,
         226.57500000000002,
         "226.7000",
         "226.4500",
         119.0
        ],
        [
         "MSFT",
         "2024-10-04 19:43:00",
         415.84999999999997,
         415.84999999999997,
         "415.8500",
         "415.7850",
         246.0
        ],
        [
         "MSFT",
         "2024-10-04 18:30:00",
         415.7,
         415.7,
         "415.7000",
         "415.6550",
         560.0
        ],
        [
         "GOOGL",
         "2024-10-04 19:03:00",
         166.86999999999998,
         166.86999999999998,
         "166.8700",
         "166.8700",
         576.0
        ],
        [
         "GOOGL",
         "2024-10-04 18:55:00",
         166.86999999999998,
         166.80999999999997,
         "166.8700",
         "166.8100",
         1092.0
        ],
        [
         "MSFT",
         "2024-10-04 18:53:00",
         415.875,
         415.87,
         "415.9400",
         "415.8075",
         380.0
        ],
        [
         "GOOGL",
         "2024-10-04 19:28:00",
         165.11000000000004,
         165.11000000000004,
         "165.1100",
         "165.1100",
         108.0
        ],
        [
         "GOOGL",
         "2024-10-04 19:15:00",
         166.88999999999996,
         166.88000000000002,
         "166.8900",
         "166.8800",
         1176.0
        ],
        [
         "MSFT",
         "2024-10-04 19:23:00",
         415.8622,
         415.84999999999997,
         "415.8700",
         "415.8200",
         714.0
        ],
        [
         "MSFT",
         "2024-10-04 19:50:00",
         415.82,
         415.92,
         "415.9200",
         "415.8200",
         276.0
        ],
        [
         "GOOGL",
         "2024-10-04 19:42:00",
         166.87989999999996,
         166.88000000000002,
         "166.8800",
         "166.8799",
         624.0
        ],
        [
         "GOOGL",
         "2024-10-04 18:50:00",
         166.88000000000002,
         166.88000000000002,
         "166.8800",
         "166.8800",
         24.0
        ],
        [
         "AAPL",
         "2024-10-04 19:57:00",
         226.4593,
         226.44000000000003,
         "226.4593",
         "226.3700",
         462.0
        ],
        [
         "MSFT",
         "2024-10-04 19:44:00",
         415.8,
         415.81,
         "415.9400",
         "415.7600",
         750.0
        ],
        [
         "GOOGL",
         "2024-10-04 19:19:00",
         166.88000000000002,
         166.88000000000002,
         "166.8800",
         "166.8800",
         48.0
        ],
        [
         "GOOGL",
         "2024-10-04 18:19:00",
         166.88999999999996,
         166.86000000000004,
         "166.8900",
         "166.8600",
         192.0
        ],
        [
         "AAPL",
         "2024-10-04 18:57:00",
         226.54,
         226.4982,
         "226.5500",
         "226.4800",
         12376.0
        ],
        [
         "MSFT",
         "2024-10-04 19:45:00",
         415.94,
         415.84999999999997,
         "415.9400",
         "415.8300",
         1956.0
        ],
        [
         "GOOGL",
         "2024-10-04 18:25:00",
         166.88000000000002,
         166.77,
         "166.8800",
         "166.7700",
         144.0
        ],
        [
         "AAPL",
         "2024-10-04 19:12:00",
         226.55500000000004,
         226.55500000000004,
         "226.8000",
         "226.5100",
         417263.0
        ],
        [
         "GOOGL",
         "2024-10-04 19:26:00",
         166.86999999999998,
         166.87989999999996,
         "166.8800",
         "166.8700",
         108.0
        ],
        [
         "MSFT",
         "2024-10-04 19:18:00",
         415.86999999999995,
         415.86999999999995,
         "415.8700",
         "415.8250",
         204.0
        ],
        [
         "AAPL",
         "2024-10-04 19:51:00",
         226.46,
         226.46,
         "226.4980",
         "226.4200",
         560.0
        ],
        [
         "MSFT",
         "2024-10-04 19:22:00",
         415.835,
         415.8,
         "415.8700",
         "415.8000",
         1890.0
        ],
        [
         "MSFT",
         "2024-10-04 18:52:00",
         415.95,
         415.8,
         "415.9500",
         "415.8000",
         585.0
        ],
        [
         "GOOGL",
         "2024-10-04 19:08:00",
         166.88000000000002,
         166.7943,
         "167.0000",
         "166.7943",
         2664.0
        ],
        [
         "GOOGL",
         "2024-10-04 18:15:00",
         166.84999999999997,
         166.88999999999996,
         "166.8900",
         "166.8500",
         60.0
        ],
        [
         "AAPL",
         "2024-10-04 19:52:00",
         226.46,
         226.46,
         "226.4900",
         "226.4600",
         1071.0
        ],
        [
         "AAPL",
         "2024-10-04 18:30:00",
         226.52,
         226.63999999999993,
         "226.6400",
         "226.5200",
         420.0
        ],
        [
         "MSFT",
         "2024-10-04 18:35:00",
         415.7,
         415.7,
         "415.7000",
         "415.6700",
         630.0
        ],
        [
         "GOOGL",
         "2024-10-04 19:38:00",
         166.86999999999998,
         166.88000000000002,
         "166.8800",
         "166.8700",
         1080.0
        ],
        [
         "GOOGL",
         "2024-10-04 19:22:00",
         166.87750000000003,
         166.82999999999998,
         "166.8775",
         "166.8300",
         252.0
        ],
        [
         "MSFT",
         "2024-10-04 19:52:00",
         415.86999999999995,
         415.86999999999995,
         "415.9000",
         "415.7600",
         708.0
        ],
        [
         "MSFT",
         "2024-10-04 19:11:00",
         415.82,
         415.825,
         "415.8300",
         "415.7800",
         222.0
        ],
        [
         "MSFT",
         "2024-10-04 19:55:00",
         415.84999999999997,
         415.86999999999995,
         "415.9200",
         "415.7500",
         558.0
        ],
        [
         "GOOGL",
         "2024-10-04 19:56:00",
         166.98,
         164.99,
         "166.9800",
         "164.5400",
         3324.0
        ],
        [
         "GOOGL",
         "2024-10-04 19:45:00",
         166.88000000000002,
         166.88000000000002,
         "166.8800",
         "166.8800",
         312.0
        ],
        [
         "GOOGL",
         "2024-10-04 18:38:00",
         166.84999999999997,
         166.83819999999997,
         "166.8500",
         "166.8382",
         36.0
        ],
        [
         "GOOGL",
         "2024-10-04 18:32:00",
         166.77,
         166.88000000000002,
         "166.8800",
         "166.7700",
         1236.0
        ],
        [
         "AAPL",
         "2024-10-04 19:29:00",
         226.33999999999997,
         226.30999999999997,
         "226.5700",
         "225.1100",
         1337.0
        ],
        [
         "AAPL",
         "2024-10-04 18:34:00",
         226.54999999999998,
         226.57500000000002,
         "226.5750",
         "226.5300",
         287.0
        ],
        [
         "MSFT",
         "2024-10-04 19:37:00",
         415.84,
         415.83,
         "415.8500",
         "415.8300",
         420.0
        ],
        [
         "MSFT",
         "2024-10-04 19:58:00",
         415.86000000000007,
         415.88000000000005,
         "417.2700",
         "415.8500",
         3954.0
        ],
        [
         "MSFT",
         "2024-10-04 19:10:00",
         415.815,
         415.84999999999997,
         "415.8500",
         "415.8100",
         360.0
        ],
        [
         "MSFT",
         "2024-10-04 19:07:00",
         415.86999999999995,
         415.76499999999993,
         "415.8700",
         "415.7650",
         150.0
        ],
        [
         "AAPL",
         "2024-10-04 18:36:00",
         226.54950000000002,
         226.53,
         "226.5500",
         "226.5300",
         2226.0
        ],
        [
         "MSFT",
         "2024-10-04 18:55:00",
         415.87,
         415.83000000000004,
         "415.9000",
         "415.8300",
         445.0
        ],
        [
         "MSFT",
         "2024-10-04 19:41:00",
         415.84,
         415.7865,
         "415.8500",
         "415.7550",
         3630.0
        ],
        [
         "MSFT",
         "2024-10-04 18:37:00",
         415.68999999999994,
         415.7,
         "415.7100",
         "415.6900",
         960.0
        ],
        [
         "MSFT",
         "2024-10-04 19:56:00",
         415.86999999999995,
         415.8450000000001,
         "417.5100",
         "415.8450",
         618.0
        ],
        [
         "AAPL",
         "2024-10-04 19:09:00",
         226.63000000000005,
         226.54,
         "226.6300",
         "226.4800",
         35.0
        ],
        [
         "MSFT",
         "2024-10-04 19:02:00",
         415.9,
         415.8,
         "415.9000",
         "415.7800",
         130.0
        ],
        [
         "GOOGL",
         "2024-10-04 18:42:00",
         166.77,
         166.82500000000002,
         "166.8400",
         "166.7700",
         324.0
        ],
        [
         "AAPL",
         "2024-10-04 19:20:00",
         226.56999999999996,
         226.56999999999996,
         "226.6000",
         "226.5700",
         1477.0
        ],
        [
         "AAPL",
         "2024-10-04 18:54:00",
         226.66000000000003,
         226.54999999999998,
         "226.7255",
         "226.5500",
         18319.0
        ],
        [
         "AAPL",
         "2024-10-04 19:56:00",
         226.44000000000003,
         226.36999999999995,
         "226.4600",
         "226.3700",
         14938.0
        ],
        [
         "GOOGL",
         "2024-10-04 18:28:00",
         166.86000000000004,
         166.7952,
         "166.8799",
         "166.7952",
         3084.0
        ],
        [
         "GOOGL",
         "2024-10-04 18:36:00",
         166.84999999999997,
         166.84999999999997,
         "166.8500",
         "166.8500",
         684.0
        ],
        [
         "AAPL",
         "2024-10-04 18:58:00",
         226.46499999999997,
         226.45000000000002,
         "226.7000",
         "226.4300",
         84.0
        ],
        [
         "MSFT",
         "2024-10-04 19:29:00",
         415.84,
         415.835,
         "417.5600",
         "415.8350",
         960.0
        ],
        [
         "MSFT",
         "2024-10-04 18:34:00",
         415.68999999999994,
         415.7,
         "415.7000",
         "415.6700",
         305.0
        ],
        [
         "GOOGL",
         "2024-10-04 18:23:00",
         166.86999999999998,
         166.83120000000002,
         "166.8700",
         "166.8312",
         48.0
        ],
        [
         "MSFT",
         "2024-10-04 19:13:00",
         416.93,
         415.86999999999995,
         "416.9300",
         "415.8200",
         2958.0
        ],
        [
         "GOOGL",
         "2024-10-04 19:49:00",
         166.86000000000004,
         166.86999999999998,
         "166.8700",
         "166.8600",
         72.0
        ],
        [
         "GOOGL",
         "2024-10-04 19:40:00",
         166.82999999999998,
         166.88000000000002,
         "166.8800",
         "166.8300",
         852.0
        ],
        [
         "GOOGL",
         "2024-10-04 19:21:00",
         166.88000000000002,
         166.88000000000002,
         "166.8800",
         "166.8800",
         36.0
        ],
        [
         "MSFT",
         "2024-10-04 18:56:00",
         415.83000000000004,
         415.895,
         "415.8950",
         "415.8300",
         45.0
        ],
        [
         "GOOGL",
         "2024-10-04 19:33:00",
         166.88000000000002,
         166.88000000000002,
         "166.8800",
         "166.8800",
         36.0
        ],
        [
         "MSFT",
         "2024-10-04 19:00:00",
         415.9,
         415.8,
         "415.9000",
         "415.8000",
         95.0
        ],
        [
         "AAPL",
         "2024-10-04 19:30:00",
         226.32999999999998,
         226.44000000000003,
         "226.5700",
         "226.3000",
         322.0
        ],
        [
         "AAPL",
         "2024-10-04 18:49:00",
         226.665,
         226.67000000000002,
         "226.6700",
         "226.6400",
         434.0
        ],
        [
         "AAPL",
         "2024-10-04 19:48:00",
         226.43000000000004,
         226.48500000000007,
         "226.4900",
         "226.4200",
         1071.0
        ],
        [
         "MSFT",
         "2024-10-04 19:47:00",
         415.82,
         415.82,
         "415.8500",
         "415.7500",
         408.0
        ],
        [
         "GOOGL",
         "2024-10-04 18:31:00",
         166.86999999999998,
         166.86999999999998,
         "166.8700",
         "166.8700",
         12.0
        ],
        [
         "AAPL",
         "2024-10-04 19:27:00",
         226.53,
         226.46,
         "226.5600",
         "225.0100",
         6041.0
        ],
        [
         "AAPL",
         "2024-10-04 19:32:00",
         226.44499999999996,
         224.42000000000002,
         "226.4450",
         "224.4200",
         98.0
        ],
        [
         "MSFT",
         "2024-10-04 19:51:00",
         415.86000000000007,
         415.825,
         "415.9199",
         "415.7300",
         438.0
        ],
        [
         "GOOGL",
         "2024-10-04 18:56:00",
         166.88000000000002,
         166.84999999999997,
         "166.8800",
         "166.8200",
         1800.0
        ],
        [
         "MSFT",
         "2024-10-04 19:40:00",
         415.84999999999997,
         415.84999999999997,
         "415.8500",
         "415.8215",
         348.0
        ],
        [
         "MSFT",
         "2024-10-04 18:39:00",
         415.73999999999995,
         415.7099999999999,
         "415.7400",
         "415.7100",
         910.0
        ],
        [
         "GOOGL",
         "2024-10-04 18:12:00",
         166.88999999999996,
         166.88999999999996,
         "166.8900",
         "166.8800",
         336.0
        ],
        [
         "MSFT",
         "2024-10-04 18:47:00",
         415.95,
         415.95,
         "415.9500",
         "415.8400",
         825.0
        ],
        [
         "MSFT",
         "2024-10-04 18:42:00",
         415.7200000000001,
         415.84,
         "415.9500",
         "415.7200",
         4685.0
        ],
        [
         "MSFT",
         "2024-10-04 19:12:00",
         415.86999999999995,
         415.79,
         "416.0600",
         "415.7900",
         22386.0
        ],
        [
         "MSFT",
         "2024-10-04 19:06:00",
         415.86999999999995,
         415.86999999999995,
         "415.9000",
         "415.8100",
         192.0
        ],
        [
         "MSFT",
         "2024-10-04 18:40:00",
         415.7099999999999,
         415.73999999999995,
         "415.7400",
         "415.7100",
         160.0
        ],
        [
         "MSFT",
         "2024-10-04 18:38:00",
         415.68999999999994,
         415.7099999999999,
         "415.7400",
         "415.6800",
         6165.0
        ],
        [
         "AAPL",
         "2024-10-04 19:45:00",
         226.43000000000004,
         226.48500000000007,
         "226.4900",
         "226.4200",
         784.0
        ],
        [
         "MSFT",
         "2024-10-04 18:20:00",
         415.7,
         415.65,
         "415.7100",
         "415.6200",
         672.0
        ],
        [
         "GOOGL",
         "2024-10-04 18:43:00",
         166.83999999999997,
         166.83999999999997,
         "166.8400",
         "166.7735",
         9552.0
        ],
        [
         "GOOGL",
         "2024-10-04 19:53:00",
         166.79999999999998,
         166.79999999999998,
         "166.8000",
         "166.8000",
         12.0
        ],
        [
         "AAPL",
         "2024-10-04 18:26:00",
         226.61000000000007,
         226.63999999999993,
         "226.6400",
         "226.5800",
         1890.0
        ]
       ],
       "datasetInfos": [],
       "dbfsResultPath": null,
       "isJsonSchema": true,
       "metadata": {
        "createTempViewForImplicitDf": true,
        "dataframeName": "_sqldf",
        "executionCount": 13
       },
       "overflow": false,
       "plotOptions": {
        "customPlotOptions": {},
        "displayType": "table",
        "pivotAggregation": null,
        "pivotColumns": null,
        "xColumns": null,
        "yColumns": null
       },
       "removedWidgets": [],
       "schema": [
        {
         "metadata": "{}",
         "name": "symbol",
         "type": "\"string\""
        },
        {
         "metadata": "{}",
         "name": "timestamp",
         "type": "\"string\""
        },
        {
         "metadata": "{}",
         "name": "avg_open",
         "type": "\"double\""
        },
        {
         "metadata": "{}",
         "name": "avg_close",
         "type": "\"double\""
        },
        {
         "metadata": "{}",
         "name": "max_high",
         "type": "\"string\""
        },
        {
         "metadata": "{}",
         "name": "min_low",
         "type": "\"string\""
        },
        {
         "metadata": "{}",
         "name": "total_volume",
         "type": "\"double\""
        }
       ],
       "type": "table"
      }
     },
     "output_type": "display_data"
    }
   ],
   "source": [
    "%sql\n",
    "select * from kafka.gold.daily_stock_aggregates"
   ]
  },
  {
   "cell_type": "code",
   "execution_count": 0,
   "metadata": {
    "application/vnd.databricks.v1+cell": {
     "cellMetadata": {},
     "inputWidgets": {},
     "nuid": "20123ae9-acde-400c-a086-abae0259c20e",
     "showTitle": false,
     "title": ""
    }
   },
   "outputs": [],
   "source": []
  }
 ],
 "metadata": {
  "application/vnd.databricks.v1+notebook": {
   "dashboards": [],
   "environmentMetadata": null,
   "language": "python",
   "notebookMetadata": {
    "mostRecentlyExecutedCommandWithImplicitDF": {
     "commandId": 2550244756311928,
     "dataframes": [
      "_sqldf"
     ]
    },
    "pythonIndentUnit": 4
   },
   "notebookName": "4 Gold Layer Aggregated-Processed Data",
   "widgets": {}
  }
 },
 "nbformat": 4,
 "nbformat_minor": 0
}
