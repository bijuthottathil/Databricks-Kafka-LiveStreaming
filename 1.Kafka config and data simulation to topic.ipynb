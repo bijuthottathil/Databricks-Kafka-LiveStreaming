{
 "cells": [
  {
   "cell_type": "markdown",
   "metadata": {
    "application/vnd.databricks.v1+cell": {
     "cellMetadata": {},
     "inputWidgets": {},
     "nuid": "8cb5ea75-5f71-4acf-b182-cd2c72ce02f0",
     "showTitle": false,
     "title": ""
    }
   },
   "source": [
    "1. API Setup"
   ]
  },
  {
   "cell_type": "code",
   "execution_count": 0,
   "metadata": {
    "application/vnd.databricks.v1+cell": {
     "cellMetadata": {
      "byteLimit": 2048000,
      "rowLimit": 10000
     },
     "inputWidgets": {},
     "nuid": "d0925062-27e9-46e6-bd98-c376bab6c0fb",
     "showTitle": false,
     "title": ""
    }
   },
   "outputs": [],
   "source": [
    "%python\n",
    "import os\n",
    "import requests\n",
    "import time\n",
    "\n",
    "# Alpha Vantage Configuration\n",
    "ALPHA_VANTAGE_API_KEY =  os.getenv('MY_API_KEY')\n",
    "SYMBOL = \"AAPL\"\n",
    "INTERVAL = \"1min\"  # Possible values: 1min, 5min, 15min, 30min, 60min\n",
    "ALPHA_VANTAGE_API_URL = f\"https://www.alphavantage.co/query?function=TIME_SERIES_INTRADAY&symbol={SYMBOL}&interval={INTERVAL}&apikey={ALPHA_VANTAGE_API_KEY}\"\n"
   ]
  },
  {
   "cell_type": "markdown",
   "metadata": {
    "application/vnd.databricks.v1+cell": {
     "cellMetadata": {},
     "inputWidgets": {},
     "nuid": "d7fb399b-e074-42eb-a35d-4670d8942658",
     "showTitle": false,
     "title": ""
    }
   },
   "source": [
    " # Kafka setup"
   ]
  },
  {
   "cell_type": "code",
   "execution_count": 0,
   "metadata": {
    "application/vnd.databricks.v1+cell": {
     "cellMetadata": {
      "byteLimit": 2048000,
      "rowLimit": 10000
     },
     "inputWidgets": {},
     "nuid": "15a9cfa0-eb20-4262-9c3c-cd0f9acb4431",
     "showTitle": false,
     "title": ""
    }
   },
   "outputs": [
    {
     "output_type": "stream",
     "name": "stdout",
     "output_type": "stream",
     "text": [
      "Collecting confluent_kafka\n  Obtaining dependency information for confluent_kafka from https://files.pythonhosted.org/packages/e0/37/4ab00b1562ba8f9b7a4e91fde2ce8b6105e9901a05f6852ffaf2fec44417/confluent_kafka-2.5.3-cp311-cp311-manylinux_2_28_x86_64.whl.metadata\n  Downloading confluent_kafka-2.5.3-cp311-cp311-manylinux_2_28_x86_64.whl.metadata (2.3 kB)\nDownloading confluent_kafka-2.5.3-cp311-cp311-manylinux_2_28_x86_64.whl (3.9 MB)\n\u001B[?25l   \u001B[90m━━━━━━━━━━━━━━━━━━━━━━━━━━━━━━━━━━━━━━━━\u001B[0m \u001B[32m0.0/3.9 MB\u001B[0m \u001B[31m?\u001B[0m eta \u001B[36m-:--:--\u001B[0m\n\u001B[2K   \u001B[91m╸\u001B[0m\u001B[90m━━━━━━━━━━━━━━━━━━━━━━━━━━━━━━━━━━━━━━━\u001B[0m \u001B[32m0.1/3.9 MB\u001B[0m \u001B[31m1.8 MB/s\u001B[0m eta \u001B[36m0:00:03\u001B[0m\n\u001B[2K   \u001B[91m━━\u001B[0m\u001B[91m╸\u001B[0m\u001B[90m━━━━━━━━━━━━━━━━━━━━━━━━━━━━━━━━━━━━━\u001B[0m \u001B[32m0.3/3.9 MB\u001B[0m \u001B[31m3.7 MB/s\u001B[0m eta \u001B[36m0:00:01\u001B[0m\n\u001B[2K   \u001B[91m━━━━━━━━━\u001B[0m\u001B[91m╸\u001B[0m\u001B[90m━━━━━━━━━━━━━━━━━━━━━━━━━━━━━━\u001B[0m \u001B[32m0.9/3.9 MB\u001B[0m \u001B[31m9.1 MB/s\u001B[0m eta \u001B[36m0:00:01\u001B[0m\n\u001B[2K   \u001B[91m━━━━━━━━━━━━━━━━━━━━━━━━\u001B[0m\u001B[90m╺\u001B[0m\u001B[90m━━━━━━━━━━━━━━━\u001B[0m \u001B[32m2.4/3.9 MB\u001B[0m \u001B[31m17.2 MB/s\u001B[0m eta \u001B[36m0:00:01\u001B[0m\n\u001B[2K   \u001B[91m━━━━━━━━━━━━━━━━━━━━━━━━━━━━━━━━━━━━━━━\u001B[0m\u001B[91m╸\u001B[0m \u001B[32m3.9/3.9 MB\u001B[0m \u001B[31m25.7 MB/s\u001B[0m eta \u001B[36m0:00:01\u001B[0m\n\u001B[2K   \u001B[90m━━━━━━━━━━━━━━━━━━━━━━━━━━━━━━━━━━━━━━━━\u001B[0m \u001B[32m3.9/3.9 MB\u001B[0m \u001B[31m21.4 MB/s\u001B[0m eta \u001B[36m0:00:00\u001B[0m\n\u001B[?25hInstalling collected packages: confluent_kafka\nSuccessfully installed confluent_kafka-2.5.3\n\u001B[43mNote: you may need to restart the kernel using %restart_python or dbutils.library.restartPython() to use updated packages.\u001B[0m\n"
     ]
    }
   ],
   "source": [
    "%python\n",
    "%pip install confluent_kafka"
   ]
  },
  {
   "cell_type": "code",
   "execution_count": 0,
   "metadata": {
    "application/vnd.databricks.v1+cell": {
     "cellMetadata": {
      "byteLimit": 2048000,
      "rowLimit": 10000
     },
     "inputWidgets": {},
     "nuid": "87734c02-9235-4378-9830-40a038ada1ba",
     "showTitle": false,
     "title": ""
    }
   },
   "outputs": [],
   "source": [
    "%restart_python"
   ]
  },
  {
   "cell_type": "code",
   "execution_count": 0,
   "metadata": {
    "application/vnd.databricks.v1+cell": {
     "cellMetadata": {
      "byteLimit": 2048000,
      "rowLimit": 10000
     },
     "inputWidgets": {},
     "nuid": "3cc316bc-555c-41f6-91ec-4cf5adaee2fc",
     "showTitle": false,
     "title": ""
    }
   },
   "outputs": [],
   "source": [
    "%python\n",
    "kafka_bootstrap_servers = os.getenv('MY_KAFKA_SERVER')\n",
    "kafka_topic = os.getenv('MY_KAFKA_TOPIC')\n"
   ]
  },
  {
   "cell_type": "markdown",
   "metadata": {
    "application/vnd.databricks.v1+cell": {
     "cellMetadata": {},
     "inputWidgets": {},
     "nuid": "7c9a47fc-9bdc-4dfd-8ee0-2948d66b6b7d",
     "showTitle": false,
     "title": ""
    }
   },
   "source": [
    "# Kafka configuration and pulling data from API to Kafka topic"
   ]
  },
  {
   "cell_type": "code",
   "execution_count": 0,
   "metadata": {
    "application/vnd.databricks.v1+cell": {
     "cellMetadata": {
      "byteLimit": 2048000,
      "rowLimit": 10000
     },
     "inputWidgets": {},
     "nuid": "1742e814-952c-4915-92bb-50692bf170fb",
     "showTitle": false,
     "title": ""
    }
   },
   "outputs": [
    {
     "output_type": "stream",
     "name": "stdout",
     "output_type": "stream",
     "text": [
      "Message delivered to stock_data [0]\nMessage delivered to stock_data [0]\nMessage delivered to stock_data [0]\nMessage delivered to stock_data [0]\nMessage delivered to stock_data [0]\nMessage delivered to stock_data [0]\nMessage delivered to stock_data [0]\nMessage delivered to stock_data [0]\nMessage delivered to stock_data [0]\nMessage delivered to stock_data [0]\nMessage delivered to stock_data [0]\nMessage delivered to stock_data [0]\nMessage delivered to stock_data [0]\nMessage delivered to stock_data [0]\nMessage delivered to stock_data [0]\nMessage delivered to stock_data [0]\nMessage delivered to stock_data [0]\nMessage delivered to stock_data [0]\nMessage delivered to stock_data [0]\nMessage delivered to stock_data [0]\nMessage delivered to stock_data [0]\nMessage delivered to stock_data [0]\nMessage delivered to stock_data [0]\nMessage delivered to stock_data [0]\nMessage delivered to stock_data [0]\nMessage delivered to stock_data [0]\nMessage delivered to stock_data [0]\nMessage delivered to stock_data [0]\nMessage delivered to stock_data [0]\nMessage delivered to stock_data [0]\nMessage delivered to stock_data [0]\nMessage delivered to stock_data [0]\nMessage delivered to stock_data [0]\nMessage delivered to stock_data [0]\nMessage delivered to stock_data [0]\nMessage delivered to stock_data [0]\nMessage delivered to stock_data [0]\nMessage delivered to stock_data [0]\nMessage delivered to stock_data [0]\nMessage delivered to stock_data [0]\nMessage delivered to stock_data [0]\nMessage delivered to stock_data [0]\nMessage delivered to stock_data [0]\nMessage delivered to stock_data [0]\nMessage delivered to stock_data [0]\nMessage delivered to stock_data [0]\nMessage delivered to stock_data [0]\nMessage delivered to stock_data [0]\nMessage delivered to stock_data [0]\nMessage delivered to stock_data [0]\nMessage delivered to stock_data [0]\nMessage delivered to stock_data [0]\nMessage delivered to stock_data [0]\nMessage delivered to stock_data [0]\nMessage delivered to stock_data [0]\nMessage delivered to stock_data [0]\nMessage delivered to stock_data [0]\nMessage delivered to stock_data [0]\nMessage delivered to stock_data [0]\nMessage delivered to stock_data [0]\nMessage delivered to stock_data [0]\nMessage delivered to stock_data [0]\nMessage delivered to stock_data [0]\nMessage delivered to stock_data [0]\nMessage delivered to stock_data [0]\nMessage delivered to stock_data [0]\nMessage delivered to stock_data [0]\nMessage delivered to stock_data [0]\nMessage delivered to stock_data [0]\nMessage delivered to stock_data [0]\nMessage delivered to stock_data [0]\nMessage delivered to stock_data [0]\nMessage delivered to stock_data [0]\nMessage delivered to stock_data [0]\nMessage delivered to stock_data [0]\nMessage delivered to stock_data [0]\nMessage delivered to stock_data [0]\nMessage delivered to stock_data [0]\nMessage delivered to stock_data [0]\nMessage delivered to stock_data [0]\nMessage delivered to stock_data [0]\nMessage delivered to stock_data [0]\nMessage delivered to stock_data [0]\nMessage delivered to stock_data [0]\nMessage delivered to stock_data [0]\nMessage delivered to stock_data [0]\nMessage delivered to stock_data [0]\nMessage delivered to stock_data [0]\nMessage delivered to stock_data [0]\nMessage delivered to stock_data [0]\nMessage delivered to stock_data [0]\nMessage delivered to stock_data [0]\nMessage delivered to stock_data [0]\nMessage delivered to stock_data [0]\nMessage delivered to stock_data [0]\nMessage delivered to stock_data [0]\nMessage delivered to stock_data [0]\nMessage delivered to stock_data [0]\nMessage delivered to stock_data [0]\nMessage delivered to stock_data [0]\nMessage delivered to stock_data [0]\nMessage delivered to stock_data [0]\nMessage delivered to stock_data [0]\nMessage delivered to stock_data [0]\nMessage delivered to stock_data [0]\nMessage delivered to stock_data [0]\nMessage delivered to stock_data [0]\nMessage delivered to stock_data [0]\nMessage delivered to stock_data [0]\nMessage delivered to stock_data [0]\nMessage delivered to stock_data [0]\nMessage delivered to stock_data [0]\nMessage delivered to stock_data [0]\nMessage delivered to stock_data [0]\nMessage delivered to stock_data [0]\nMessage delivered to stock_data [0]\nMessage delivered to stock_data [0]\nMessage delivered to stock_data [0]\nMessage delivered to stock_data [0]\nMessage delivered to stock_data [0]\nMessage delivered to stock_data [0]\nMessage delivered to stock_data [0]\nMessage delivered to stock_data [0]\nMessage delivered to stock_data [0]\nMessage delivered to stock_data [0]\nMessage delivered to stock_data [0]\nMessage delivered to stock_data [0]\nMessage delivered to stock_data [0]\nMessage delivered to stock_data [0]\nMessage delivered to stock_data [0]\nMessage delivered to stock_data [0]\nMessage delivered to stock_data [0]\nMessage delivered to stock_data [0]\nMessage delivered to stock_data [0]\nMessage delivered to stock_data [0]\nMessage delivered to stock_data [0]\nMessage delivered to stock_data [0]\nMessage delivered to stock_data [0]\nMessage delivered to stock_data [0]\nMessage delivered to stock_data [0]\nMessage delivered to stock_data [0]\nMessage delivered to stock_data [0]\nMessage delivered to stock_data [0]\nMessage delivered to stock_data [0]\nMessage delivered to stock_data [0]\nMessage delivered to stock_data [0]\nMessage delivered to stock_data [0]\nMessage delivered to stock_data [0]\nMessage delivered to stock_data [0]\nMessage delivered to stock_data [0]\nMessage delivered to stock_data [0]\nMessage delivered to stock_data [0]\nMessage delivered to stock_data [0]\nMessage delivered to stock_data [0]\nMessage delivered to stock_data [0]\nMessage delivered to stock_data [0]\nMessage delivered to stock_data [0]\nMessage delivered to stock_data [0]\nMessage delivered to stock_data [0]\nMessage delivered to stock_data [0]\nMessage delivered to stock_data [0]\nMessage delivered to stock_data [0]\nMessage delivered to stock_data [0]\nMessage delivered to stock_data [0]\nMessage delivered to stock_data [0]\nMessage delivered to stock_data [0]\nMessage delivered to stock_data [0]\nMessage delivered to stock_data [0]\nMessage delivered to stock_data [0]\nMessage delivered to stock_data [0]\nMessage delivered to stock_data [0]\nMessage delivered to stock_data [0]\nMessage delivered to stock_data [0]\nMessage delivered to stock_data [0]\nMessage delivered to stock_data [0]\nMessage delivered to stock_data [0]\nMessage delivered to stock_data [0]\nMessage delivered to stock_data [0]\nMessage delivered to stock_data [0]\nMessage delivered to stock_data [0]\nMessage delivered to stock_data [0]\nMessage delivered to stock_data [0]\nMessage delivered to stock_data [0]\nMessage delivered to stock_data [0]\nMessage delivered to stock_data [0]\nMessage delivered to stock_data [0]\nMessage delivered to stock_data [0]\nMessage delivered to stock_data [0]\nMessage delivered to stock_data [0]\nMessage delivered to stock_data [0]\nMessage delivered to stock_data [0]\nMessage delivered to stock_data [0]\nMessage delivered to stock_data [0]\nMessage delivered to stock_data [0]\nMessage delivered to stock_data [0]\nMessage delivered to stock_data [0]\nMessage delivered to stock_data [0]\nMessage delivered to stock_data [0]\nMessage delivered to stock_data [0]\nMessage delivered to stock_data [0]\nMessage delivered to stock_data [0]\nMessage delivered to stock_data [0]\nMessage delivered to stock_data [0]\nMessage delivered to stock_data [0]\nMessage delivered to stock_data [0]\nMessage delivered to stock_data [0]\nMessage delivered to stock_data [0]\nMessage delivered to stock_data [0]\nMessage delivered to stock_data [0]\nMessage delivered to stock_data [0]\nMessage delivered to stock_data [0]\nMessage delivered to stock_data [0]\nMessage delivered to stock_data [0]\nMessage delivered to stock_data [0]\nMessage delivered to stock_data [0]\nMessage delivered to stock_data [0]\nMessage delivered to stock_data [0]\nMessage delivered to stock_data [0]\nMessage delivered to stock_data [0]\nMessage delivered to stock_data [0]\nMessage delivered to stock_data [0]\nMessage delivered to stock_data [0]\nMessage delivered to stock_data [0]\nMessage delivered to stock_data [0]\nMessage delivered to stock_data [0]\nMessage delivered to stock_data [0]\nMessage delivered to stock_data [0]\nMessage delivered to stock_data [0]\nMessage delivered to stock_data [0]\nMessage delivered to stock_data [0]\nMessage delivered to stock_data [0]\nMessage delivered to stock_data [0]\nMessage delivered to stock_data [0]\nMessage delivered to stock_data [0]\nMessage delivered to stock_data [0]\nMessage delivered to stock_data [0]\nMessage delivered to stock_data [0]\nMessage delivered to stock_data [0]\nMessage delivered to stock_data [0]\nMessage delivered to stock_data [0]\nMessage delivered to stock_data [0]\nMessage delivered to stock_data [0]\nMessage delivered to stock_data [0]\nMessage delivered to stock_data [0]\nMessage delivered to stock_data [0]\nMessage delivered to stock_data [0]\nMessage delivered to stock_data [0]\nMessage delivered to stock_data [0]\nMessage delivered to stock_data [0]\nMessage delivered to stock_data [0]\nMessage delivered to stock_data [0]\nMessage delivered to stock_data [0]\nMessage delivered to stock_data [0]\nMessage delivered to stock_data [0]\nMessage delivered to stock_data [0]\nMessage delivered to stock_data [0]\nMessage delivered to stock_data [0]\nMessage delivered to stock_data [0]\nMessage delivered to stock_data [0]\nMessage delivered to stock_data [0]\nMessage delivered to stock_data [0]\nMessage delivered to stock_data [0]\nMessage delivered to stock_data [0]\nMessage delivered to stock_data [0]\nMessage delivered to stock_data [0]\nMessage delivered to stock_data [0]\nMessage delivered to stock_data [0]\nMessage delivered to stock_data [0]\nMessage delivered to stock_data [0]\nMessage delivered to stock_data [0]\nMessage delivered to stock_data [0]\nMessage delivered to stock_data [0]\nMessage delivered to stock_data [0]\nMessage delivered to stock_data [0]\nMessage delivered to stock_data [0]\nMessage delivered to stock_data [0]\nMessage delivered to stock_data [0]\nMessage delivered to stock_data [0]\nMessage delivered to stock_data [0]\nMessage delivered to stock_data [0]\nMessage delivered to stock_data [0]\nMessage delivered to stock_data [0]\nMessage delivered to stock_data [0]\nMessage delivered to stock_data [0]\nMessage delivered to stock_data [0]\nMessage delivered to stock_data [0]\nMessage delivered to stock_data [0]\nMessage delivered to stock_data [0]\nMessage delivered to stock_data [0]\nMessage delivered to stock_data [0]\nMessage delivered to stock_data [0]\nMessage delivered to stock_data [0]\nMessage delivered to stock_data [0]\nMessage delivered to stock_data [0]\nMessage delivered to stock_data [0]\nMessage delivered to stock_data [0]\nMessage delivered to stock_data [0]\nMessage delivered to stock_data [0]\nMessage delivered to stock_data [0]\nMessage delivered to stock_data [0]\nMessage delivered to stock_data [0]\nMessage delivered to stock_data [0]\nMessage delivered to stock_data [0]\nMessage delivered to stock_data [0]\nMessage delivered to stock_data [0]\nMessage delivered to stock_data [0]\nMessage delivered to stock_data [0]\nMessage delivered to stock_data [0]\nMessage delivered to stock_data [0]\nMessage delivered to stock_data [0]\nMessage delivered to stock_data [0]\nMessage delivered to stock_data [0]\nMessage delivered to stock_data [0]\nMessage delivered to stock_data [0]\nMessage delivered to stock_data [0]\nMessage delivered to stock_data [0]\nMessage delivered to stock_data [0]\nMessage delivered to stock_data [0]\nMessage delivered to stock_data [0]\nMessage delivered to stock_data [0]\nMessage delivered to stock_data [0]\nMessage delivered to stock_data [0]\nMessage delivered to stock_data [0]\nMessage delivered to stock_data [0]\nMessage delivered to stock_data [0]\nMessage delivered to stock_data [0]\nMessage delivered to stock_data [0]\nMessage delivered to stock_data [0]\nMessage delivered to stock_data [0]\nMessage delivered to stock_data [0]\nMessage delivered to stock_data [0]\nMessage delivered to stock_data [0]\nMessage delivered to stock_data [0]\nMessage delivered to stock_data [0]\nMessage delivered to stock_data [0]\nMessage delivered to stock_data [0]\nMessage delivered to stock_data [0]\nMessage delivered to stock_data [0]\nMessage delivered to stock_data [0]\nMessage delivered to stock_data [0]\nMessage delivered to stock_data [0]\nMessage delivered to stock_data [0]\nMessage delivered to stock_data [0]\nMessage delivered to stock_data [0]\nMessage delivered to stock_data [0]\nMessage delivered to stock_data [0]\nMessage delivered to stock_data [0]\nMessage delivered to stock_data [0]\nMessage delivered to stock_data [0]\nMessage delivered to stock_data [0]\nMessage delivered to stock_data [0]\nMessage delivered to stock_data [0]\nMessage delivered to stock_data [0]\nMessage delivered to stock_data [0]\nMessage delivered to stock_data [0]\nMessage delivered to stock_data [0]\nMessage delivered to stock_data [0]\nMessage delivered to stock_data [0]\nMessage delivered to stock_data [0]\nMessage delivered to stock_data [0]\nMessage delivered to stock_data [0]\nMessage delivered to stock_data [0]\nMessage delivered to stock_data [0]\nMessage delivered to stock_data [0]\nMessage delivered to stock_data [0]\nMessage delivered to stock_data [0]\nMessage delivered to stock_data [0]\nMessage delivered to stock_data [0]\nMessage delivered to stock_data [0]\nMessage delivered to stock_data [0]\nMessage delivered to stock_data [0]\nMessage delivered to stock_data [0]\nMessage delivered to stock_data [0]\nMessage delivered to stock_data [0]\nMessage delivered to stock_data [0]\nMessage delivered to stock_data [0]\nMessage delivered to stock_data [0]\nMessage delivered to stock_data [0]\nMessage delivered to stock_data [0]\nMessage delivered to stock_data [0]\nMessage delivered to stock_data [0]\nMessage delivered to stock_data [0]\nMessage delivered to stock_data [0]\nMessage delivered to stock_data [0]\nMessage delivered to stock_data [0]\nMessage delivered to stock_data [0]\nMessage delivered to stock_data [0]\nMessage delivered to stock_data [0]\nMessage delivered to stock_data [0]\nMessage delivered to stock_data [0]\nMessage delivered to stock_data [0]\nMessage delivered to stock_data [0]\nMessage delivered to stock_data [0]\nMessage delivered to stock_data [0]\nMessage delivered to stock_data [0]\nMessage delivered to stock_data [0]\nMessage delivered to stock_data [0]\nMessage delivered to stock_data [0]\nMessage delivered to stock_data [0]\nMessage delivered to stock_data [0]\nMessage delivered to stock_data [0]\nMessage delivered to stock_data [0]\nMessage delivered to stock_data [0]\nMessage delivered to stock_data [0]\nMessage delivered to stock_data [0]\nMessage delivered to stock_data [0]\nMessage delivered to stock_data [0]\nMessage delivered to stock_data [0]\nMessage delivered to stock_data [0]\nMessage delivered to stock_data [0]\nMessage delivered to stock_data [0]\nMessage delivered to stock_data [0]\nMessage delivered to stock_data [0]\nMessage delivered to stock_data [0]\nMessage delivered to stock_data [0]\nMessage delivered to stock_data [0]\nMessage delivered to stock_data [0]\nMessage delivered to stock_data [0]\nMessage delivered to stock_data [0]\nMessage delivered to stock_data [0]\nMessage delivered to stock_data [0]\nMessage delivered to stock_data [0]\nMessage delivered to stock_data [0]\nMessage delivered to stock_data [0]\nMessage delivered to stock_data [0]\nMessage delivered to stock_data [0]\nMessage delivered to stock_data [0]\nMessage delivered to stock_data [0]\nMessage delivered to stock_data [0]\nMessage delivered to stock_data [0]\nMessage delivered to stock_data [0]\nMessage delivered to stock_data [0]\nMessage delivered to stock_data [0]\nMessage delivered to stock_data [0]\nMessage delivered to stock_data [0]\nMessage delivered to stock_data [0]\nMessage delivered to stock_data [0]\nMessage delivered to stock_data [0]\nMessage delivered to stock_data [0]\nMessage delivered to stock_data [0]\nMessage delivered to stock_data [0]\nMessage delivered to stock_data [0]\nMessage delivered to stock_data [0]\nMessage delivered to stock_data [0]\nMessage delivered to stock_data [0]\nMessage delivered to stock_data [0]\nMessage delivered to stock_data [0]\nMessage delivered to stock_data [0]\nMessage delivered to stock_data [0]\nMessage delivered to stock_data [0]\nMessage delivered to stock_data [0]\nMessage delivered to stock_data [0]\nMessage delivered to stock_data [0]\nMessage delivered to stock_data [0]\nMessage delivered to stock_data [0]\nMessage delivered to stock_data [0]\nMessage delivered to stock_data [0]\nMessage delivered to stock_data [0]\nMessage delivered to stock_data [0]\nMessage delivered to stock_data [0]\nMessage delivered to stock_data [0]\nMessage delivered to stock_data [0]\nMessage delivered to stock_data [0]\nMessage delivered to stock_data [0]\nMessage delivered to stock_data [0]\nMessage delivered to stock_data [0]\nMessage delivered to stock_data [0]\nMessage delivered to stock_data [0]\nMessage delivered to stock_data [0]\nMessage delivered to stock_data [0]\nMessage delivered to stock_data [0]\nMessage delivered to stock_data [0]\nMessage delivered to stock_data [0]\nMessage delivered to stock_data [0]\nMessage delivered to stock_data [0]\nMessage delivered to stock_data [0]\nMessage delivered to stock_data [0]\nMessage delivered to stock_data [0]\nMessage delivered to stock_data [0]\nMessage delivered to stock_data [0]\nMessage delivered to stock_data [0]\nMessage delivered to stock_data [0]\nMessage delivered to stock_data [0]\nMessage delivered to stock_data [0]\nMessage delivered to stock_data [0]\nMessage delivered to stock_data [0]\nMessage delivered to stock_data [0]\nMessage delivered to stock_data [0]\nMessage delivered to stock_data [0]\nMessage delivered to stock_data [0]\nMessage delivered to stock_data [0]\nMessage delivered to stock_data [0]\nMessage delivered to stock_data [0]\nMessage delivered to stock_data [0]\nMessage delivered to stock_data [0]\nMessage delivered to stock_data [0]\nMessage delivered to stock_data [0]\nMessage delivered to stock_data [0]\nMessage delivered to stock_data [0]\nMessage delivered to stock_data [0]\nMessage delivered to stock_data [0]\nMessage delivered to stock_data [0]\nMessage delivered to stock_data [0]\nMessage delivered to stock_data [0]\nMessage delivered to stock_data [0]\nMessage delivered to stock_data [0]\nMessage delivered to stock_data [0]\nMessage delivered to stock_data [0]\nMessage delivered to stock_data [0]\nMessage delivered to stock_data [0]\nMessage delivered to stock_data [0]\nMessage delivered to stock_data [0]\nMessage delivered to stock_data [0]\nMessage delivered to stock_data [0]\nMessage delivered to stock_data [0]\nMessage delivered to stock_data [0]\nMessage delivered to stock_data [0]\nMessage delivered to stock_data [0]\nMessage delivered to stock_data [0]\nMessage delivered to stock_data [0]\nMessage delivered to stock_data [0]\nMessage delivered to stock_data [0]\nMessage delivered to stock_data [0]\nMessage delivered to stock_data [0]\nMessage delivered to stock_data [0]\nMessage delivered to stock_data [0]\nMessage delivered to stock_data [0]\nMessage delivered to stock_data [0]\nMessage delivered to stock_data [0]\nMessage delivered to stock_data [0]\nMessage delivered to stock_data [0]\nMessage delivered to stock_data [0]\nMessage delivered to stock_data [0]\nMessage delivered to stock_data [0]\nMessage delivered to stock_data [0]\nMessage delivered to stock_data [0]\nMessage delivered to stock_data [0]\nMessage delivered to stock_data [0]\nMessage delivered to stock_data [0]\nMessage delivered to stock_data [0]\nMessage delivered to stock_data [0]\nMessage delivered to stock_data [0]\nMessage delivered to stock_data [0]\nMessage delivered to stock_data [0]\nMessage delivered to stock_data [0]\nMessage delivered to stock_data [0]\nMessage delivered to stock_data [0]\nMessage delivered to stock_data [0]\nMessage delivered to stock_data [0]\nMessage delivered to stock_data [0]\nMessage delivered to stock_data [0]\nMessage delivered to stock_data [0]\nMessage delivered to stock_data [0]\nMessage delivered to stock_data [0]\nMessage delivered to stock_data [0]\nMessage delivered to stock_data [0]\nMessage delivered to stock_data [0]\nMessage delivered to stock_data [0]\nMessage delivered to stock_data [0]\nMessage delivered to stock_data [0]\nMessage delivered to stock_data [0]\nMessage delivered to stock_data [0]\nMessage delivered to stock_data [0]\nMessage delivered to stock_data [0]\nMessage delivered to stock_data [0]\nMessage delivered to stock_data [0]\nMessage delivered to stock_data [0]\nMessage delivered to stock_data [0]\nMessage delivered to stock_data [0]\nMessage delivered to stock_data [0]\nMessage delivered to stock_data [0]\nMessage delivered to stock_data [0]\nMessage delivered to stock_data [0]\nMessage delivered to stock_data [0]\nMessage delivered to stock_data [0]\nMessage delivered to stock_data [0]\nMessage delivered to stock_data [0]\nMessage delivered to stock_data [0]\nMessage delivered to stock_data [0]\nMessage delivered to stock_data [0]\nMessage delivered to stock_data [0]\nMessage delivered to stock_data [0]\nMessage delivered to stock_data [0]\nMessage delivered to stock_data [0]\nMessage delivered to stock_data [0]\nMessage delivered to stock_data [0]\nMessage delivered to stock_data [0]\nMessage delivered to stock_data [0]\nMessage delivered to stock_data [0]\nMessage delivered to stock_data [0]\nMessage delivered to stock_data [0]\nMessage delivered to stock_data [0]\nMessage delivered to stock_data [0]\nMessage delivered to stock_data [0]\nMessage delivered to stock_data [0]\nMessage delivered to stock_data [0]\nMessage delivered to stock_data [0]\nMessage delivered to stock_data [0]\nMessage delivered to stock_data [0]\nMessage delivered to stock_data [0]\nMessage delivered to stock_data [0]\nMessage delivered to stock_data [0]\nMessage delivered to stock_data [0]\nMessage delivered to stock_data [0]\nMessage delivered to stock_data [0]\nMessage delivered to stock_data [0]\nMessage delivered to stock_data [0]\nMessage delivered to stock_data [0]\nMessage delivered to stock_data [0]\nMessage delivered to stock_data [0]\nMessage delivered to stock_data [0]\nMessage delivered to stock_data [0]\nMessage delivered to stock_data [0]\nMessage delivered to stock_data [0]\nMessage delivered to stock_data [0]\nMessage delivered to stock_data [0]\nMessage delivered to stock_data [0]\nMessage delivered to stock_data [0]\nMessage delivered to stock_data [0]\nMessage delivered to stock_data [0]\nMessage delivered to stock_data [0]\nMessage delivered to stock_data [0]\nMessage delivered to stock_data [0]\nMessage delivered to stock_data [0]\nMessage delivered to stock_data [0]\nMessage delivered to stock_data [0]\nMessage delivered to stock_data [0]\nMessage delivered to stock_data [0]\nMessage delivered to stock_data [0]\nMessage delivered to stock_data [0]\nMessage delivered to stock_data [0]\nMessage delivered to stock_data [0]\nMessage delivered to stock_data [0]\nMessage delivered to stock_data [0]\nMessage delivered to stock_data [0]\nMessage delivered to stock_data [0]\nMessage delivered to stock_data [0]\nMessage delivered to stock_data [0]\nMessage delivered to stock_data [0]\nMessage delivered to stock_data [0]\nMessage delivered to stock_data [0]\nMessage delivered to stock_data [0]\nMessage delivered to stock_data [0]\nMessage delivered to stock_data [0]\nMessage delivered to stock_data [0]\nMessage delivered to stock_data [0]\nMessage delivered to stock_data [0]\nMessage delivered to stock_data [0]\nMessage delivered to stock_data [0]\nMessage delivered to stock_data [0]\nMessage delivered to stock_data [0]\nMessage delivered to stock_data [0]\nMessage delivered to stock_data [0]\nMessage delivered to stock_data [0]\nMessage delivered to stock_data [0]\nMessage delivered to stock_data [0]\nMessage delivered to stock_data [0]\nMessage delivered to stock_data [0]\nMessage delivered to stock_data [0]\nMessage delivered to stock_data [0]\nMessage delivered to stock_data [0]\nMessage delivered to stock_data [0]\nMessage delivered to stock_data [0]\nMessage delivered to stock_data [0]\nMessage delivered to stock_data [0]\nMessage delivered to stock_data [0]\nMessage delivered to stock_data [0]\nMessage delivered to stock_data [0]\nMessage delivered to stock_data [0]\nMessage delivered to stock_data [0]\nMessage delivered to stock_data [0]\nMessage delivered to stock_data [0]\nMessage delivered to stock_data [0]\nMessage delivered to stock_data [0]\nMessage delivered to stock_data [0]\nMessage delivered to stock_data [0]\nMessage delivered to stock_data [0]\nMessage delivered to stock_data [0]\nMessage delivered to stock_data [0]\nMessage delivered to stock_data [0]\nMessage delivered to stock_data [0]\nMessage delivered to stock_data [0]\nMessage delivered to stock_data [0]\nMessage delivered to stock_data [0]\nMessage delivered to stock_data [0]\nMessage delivered to stock_data [0]\nMessage delivered to stock_data [0]\nMessage delivered to stock_data [0]\nMessage delivered to stock_data [0]\nMessage delivered to stock_data [0]\nMessage delivered to stock_data [0]\nMessage delivered to stock_data [0]\nMessage delivered to stock_data [0]\nMessage delivered to stock_data [0]\nMessage delivered to stock_data [0]\nMessage delivered to stock_data [0]\nMessage delivered to stock_data [0]\nMessage delivered to stock_data [0]\nMessage delivered to stock_data [0]\nMessage delivered to stock_data [0]\nMessage delivered to stock_data [0]\nMessage delivered to stock_data [0]\nMessage delivered to stock_data [0]\nMessage delivered to stock_data [0]\nMessage delivered to stock_data [0]\nMessage delivered to stock_data [0]\nMessage delivered to stock_data [0]\nMessage delivered to stock_data [0]\nMessage delivered to stock_data [0]\nMessage delivered to stock_data [0]\nMessage delivered to stock_data [0]\nMessage delivered to stock_data [0]\nMessage delivered to stock_data [0]\nMessage delivered to stock_data [0]\nMessage delivered to stock_data [0]\nMessage delivered to stock_data [0]\nMessage delivered to stock_data [0]\nMessage delivered to stock_data [0]\nMessage delivered to stock_data [0]\nMessage delivered to stock_data [0]\nMessage delivered to stock_data [0]\nMessage delivered to stock_data [0]\nMessage delivered to stock_data [0]\nMessage delivered to stock_data [0]\nMessage delivered to stock_data [0]\nMessage delivered to stock_data [0]\nMessage delivered to stock_data [0]\nMessage delivered to stock_data [0]\nMessage delivered to stock_data [0]\nMessage delivered to stock_data [0]\nMessage delivered to stock_data [0]\nMessage delivered to stock_data [0]\nMessage delivered to stock_data [0]\nMessage delivered to stock_data [0]\nMessage delivered to stock_data [0]\nMessage delivered to stock_data [0]\nMessage delivered to stock_data [0]\nMessage delivered to stock_data [0]\nMessage delivered to stock_data [0]\nMessage delivered to stock_data [0]\nMessage delivered to stock_data [0]\nMessage delivered to stock_data [0]\nMessage delivered to stock_data [0]\nMessage delivered to stock_data [0]\nMessage delivered to stock_data [0]\nMessage delivered to stock_data [0]\nMessage delivered to stock_data [0]\nMessage delivered to stock_data [0]\nMessage delivered to stock_data [0]\nMessage delivered to stock_data [0]\nMessage delivered to stock_data [0]\nMessage delivered to stock_data [0]\nMessage delivered to stock_data [0]\nMessage delivered to stock_data [0]\nMessage delivered to stock_data [0]\nMessage delivered to stock_data [0]\nMessage delivered to stock_data [0]\nMessage delivered to stock_data [0]\nMessage delivered to stock_data [0]\nMessage delivered to stock_data [0]\nMessage delivered to stock_data [0]\nMessage delivered to stock_data [0]\nMessage delivered to stock_data [0]\nMessage delivered to stock_data [0]\nMessage delivered to stock_data [0]\nMessage delivered to stock_data [0]\nMessage delivered to stock_data [0]\nMessage delivered to stock_data [0]\nMessage delivered to stock_data [0]\nMessage delivered to stock_data [0]\nMessage delivered to stock_data [0]\nMessage delivered to stock_data [0]\nMessage delivered to stock_data [0]\nMessage delivered to stock_data [0]\nMessage delivered to stock_data [0]\nMessage delivered to stock_data [0]\nMessage delivered to stock_data [0]\nMessage delivered to stock_data [0]\nMessage delivered to stock_data [0]\nMessage delivered to stock_data [0]\nMessage delivered to stock_data [0]\nMessage delivered to stock_data [0]\nMessage delivered to stock_data [0]\nMessage delivered to stock_data [0]\nMessage delivered to stock_data [0]\nMessage delivered to stock_data [0]\nMessage delivered to stock_data [0]\nMessage delivered to stock_data [0]\nMessage delivered to stock_data [0]\nMessage delivered to stock_data [0]\nMessage delivered to stock_data [0]\nMessage delivered to stock_data [0]\nMessage delivered to stock_data [0]\nMessage delivered to stock_data [0]\nMessage delivered to stock_data [0]\nMessage delivered to stock_data [0]\nMessage delivered to stock_data [0]\nMessage delivered to stock_data [0]\nMessage delivered to stock_data [0]\nMessage delivered to stock_data [0]\nMessage delivered to stock_data [0]\nMessage delivered to stock_data [0]\nMessage delivered to stock_data [0]\nMessage delivered to stock_data [0]\nMessage delivered to stock_data [0]\nMessage delivered to stock_data [0]\nMessage delivered to stock_data [0]\nMessage delivered to stock_data [0]\nMessage delivered to stock_data [0]\nMessage delivered to stock_data [0]\nMessage delivered to stock_data [0]\nMessage delivered to stock_data [0]\nMessage delivered to stock_data [0]\nMessage delivered to stock_data [0]\nMessage delivered to stock_data [0]\nMessage delivered to stock_data [0]\nMessage delivered to stock_data [0]\nMessage delivered to stock_data [0]\nMessage delivered to stock_data [0]\nMessage delivered to stock_data [0]\nMessage delivered to stock_data [0]\nMessage delivered to stock_data [0]\nMessage delivered to stock_data [0]\nMessage delivered to stock_data [0]\nMessage delivered to stock_data [0]\nMessage delivered to stock_data [0]\nMessage delivered to stock_data [0]\nMessage delivered to stock_data [0]\nMessage delivered to stock_data [0]\nMessage delivered to stock_data [0]\nMessage delivered to stock_data [0]\nMessage delivered to stock_data [0]\nMessage delivered to stock_data [0]\nMessage delivered to stock_data [0]\nMessage delivered to stock_data [0]\nMessage delivered to stock_data [0]\nMessage delivered to stock_data [0]\nMessage delivered to stock_data [0]\nMessage delivered to stock_data [0]\nMessage delivered to stock_data [0]\nMessage delivered to stock_data [0]\nMessage delivered to stock_data [0]\nMessage delivered to stock_data [0]\nMessage delivered to stock_data [0]\nMessage delivered to stock_data [0]\nMessage delivered to stock_data [0]\nMessage delivered to stock_data [0]\nMessage delivered to stock_data [0]\nMessage delivered to stock_data [0]\nMessage delivered to stock_data [0]\nMessage delivered to stock_data [0]\nMessage delivered to stock_data [0]\nMessage delivered to stock_data [0]\nMessage delivered to stock_data [0]\nMessage delivered to stock_data [0]\nMessage delivered to stock_data [0]\nMessage delivered to stock_data [0]\nMessage delivered to stock_data [0]\nMessage delivered to stock_data [0]\nMessage delivered to stock_data [0]\nMessage delivered to stock_data [0]\nMessage delivered to stock_data [0]\nMessage delivered to stock_data [0]\nMessage delivered to stock_data [0]\nMessage delivered to stock_data [0]\nMessage delivered to stock_data [0]\nMessage delivered to stock_data [0]\nMessage delivered to stock_data [0]\nMessage delivered to stock_data [0]\nMessage delivered to stock_data [0]\nMessage delivered to stock_data [0]\nMessage delivered to stock_data [0]\nMessage delivered to stock_data [0]\nMessage delivered to stock_data [0]\nMessage delivered to stock_data [0]\nMessage delivered to stock_data [0]\nMessage delivered to stock_data [0]\nMessage delivered to stock_data [0]\nMessage delivered to stock_data [0]\nMessage delivered to stock_data [0]\nMessage delivered to stock_data [0]\nMessage delivered to stock_data [0]\nMessage delivered to stock_data [0]\nMessage delivered to stock_data [0]\nMessage delivered to stock_data [0]\nMessage delivered to stock_data [0]\nMessage delivered to stock_data [0]\nMessage delivered to stock_data [0]\nMessage delivered to stock_data [0]\nMessage delivered to stock_data [0]\nMessage delivered to stock_data [0]\nMessage delivered to stock_data [0]\nMessage delivered to stock_data [0]\nMessage delivered to stock_data [0]\nMessage delivered to stock_data [0]\nMessage delivered to stock_data [0]\nMessage delivered to stock_data [0]\nMessage delivered to stock_data [0]\nMessage delivered to stock_data [0]\nMessage delivered to stock_data [0]\nMessage delivered to stock_data [0]\nMessage delivered to stock_data [0]\nMessage delivered to stock_data [0]\nMessage delivered to stock_data [0]\nMessage delivered to stock_data [0]\nMessage delivered to stock_data [0]\nMessage delivered to stock_data [0]\nMessage delivered to stock_data [0]\nMessage delivered to stock_data [0]\nMessage delivered to stock_data [0]\nMessage delivered to stock_data [0]\nMessage delivered to stock_data [0]\nMessage delivered to stock_data [0]\nMessage delivered to stock_data [0]\nMessage delivered to stock_data [0]\nMessage delivered to stock_data [0]\nMessage delivered to stock_data [0]\nMessage delivered to stock_data [0]\nMessage delivered to stock_data [0]\nMessage delivered to stock_data [0]\nMessage delivered to stock_data [0]\nMessage delivered to stock_data [0]\nMessage delivered to stock_data [0]\nMessage delivered to stock_data [0]\nMessage delivered to stock_data [0]\nMessage delivered to stock_data [0]\nMessage delivered to stock_data [0]\nMessage delivered to stock_data [0]\nMessage delivered to stock_data [0]\nMessage delivered to stock_data [0]\nMessage delivered to stock_data [0]\nMessage delivered to stock_data [0]\nMessage delivered to stock_data [0]\nMessage delivered to stock_data [0]\nMessage delivered to stock_data [0]\nMessage delivered to stock_data [0]\nMessage delivered to stock_data [0]\nMessage delivered to stock_data [0]\nMessage delivered to stock_data [0]\nMessage delivered to stock_data [0]\nMessage delivered to stock_data [0]\nMessage delivered to stock_data [0]\nMessage delivered to stock_data [0]\nMessage delivered to stock_data [0]\nMessage delivered to stock_data [0]\nMessage delivered to stock_data [0]\nMessage delivered to stock_data [0]\nMessage delivered to stock_data [0]\nMessage delivered to stock_data [0]\nMessage delivered to stock_data [0]\nMessage delivered to stock_data [0]\nMessage delivered to stock_data [0]\nMessage delivered to stock_data [0]\nMessage delivered to stock_data [0]\nMessage delivered to stock_data [0]\nMessage delivered to stock_data [0]\nMessage delivered to stock_data [0]\nMessage delivered to stock_data [0]\nMessage delivered to stock_data [0]\nMessage delivered to stock_data [0]\nMessage delivered to stock_data [0]\nMessage delivered to stock_data [0]\nMessage delivered to stock_data [0]\nMessage delivered to stock_data [0]\nMessage delivered to stock_data [0]\nMessage delivered to stock_data [0]\nMessage delivered to stock_data [0]\nMessage delivered to stock_data [0]\nMessage delivered to stock_data [0]\nMessage delivered to stock_data [0]\nMessage delivered to stock_data [0]\nMessage delivered to stock_data [0]\nMessage delivered to stock_data [0]\nMessage delivered to stock_data [0]\nMessage delivered to stock_data [0]\nMessage delivered to stock_data [0]\nMessage delivered to stock_data [0]\nMessage delivered to stock_data [0]\nMessage delivered to stock_data [0]\nMessage delivered to stock_data [0]\nMessage delivered to stock_data [0]\nMessage delivered to stock_data [0]\nMessage delivered to stock_data [0]\nMessage delivered to stock_data [0]\nMessage delivered to stock_data [0]\nMessage delivered to stock_data [0]\nMessage delivered to stock_data [0]\nMessage delivered to stock_data [0]\nMessage delivered to stock_data [0]\nMessage delivered to stock_data [0]\nMessage delivered to stock_data [0]\nMessage delivered to stock_data [0]\nMessage delivered to stock_data [0]\nMessage delivered to stock_data [0]\nMessage delivered to stock_data [0]\nMessage delivered to stock_data [0]\nMessage delivered to stock_data [0]\nMessage delivered to stock_data [0]\nMessage delivered to stock_data [0]\nMessage delivered to stock_data [0]\n"
     ]
    },
    {
     "output_type": "display_data",
     "data": {
      "text/plain": [
       "com.databricks.backend.common.rpc.CommandCancelledException\n",
       "\tat com.databricks.spark.chauffeur.SequenceExecutionState.$anonfun$cancel$5(SequenceExecutionState.scala:136)\n",
       "\tat scala.Option.getOrElse(Option.scala:189)\n",
       "\tat com.databricks.spark.chauffeur.SequenceExecutionState.$anonfun$cancel$3(SequenceExecutionState.scala:136)\n",
       "\tat com.databricks.spark.chauffeur.SequenceExecutionState.$anonfun$cancel$3$adapted(SequenceExecutionState.scala:133)\n",
       "\tat scala.collection.immutable.Range.foreach(Range.scala:158)\n",
       "\tat com.databricks.spark.chauffeur.SequenceExecutionState.cancel(SequenceExecutionState.scala:133)\n",
       "\tat com.databricks.spark.chauffeur.ExecContextState.cancelRunningSequence(ExecContextState.scala:728)\n",
       "\tat com.databricks.spark.chauffeur.ExecContextState.$anonfun$cancel$1(ExecContextState.scala:446)\n",
       "\tat scala.Option.getOrElse(Option.scala:189)\n",
       "\tat com.databricks.spark.chauffeur.ExecContextState.cancel(ExecContextState.scala:446)\n",
       "\tat com.databricks.spark.chauffeur.ExecutionContextManagerV1.cancelExecution(ExecutionContextManagerV1.scala:460)\n",
       "\tat com.databricks.spark.chauffeur.ChauffeurState.$anonfun$process$1(ChauffeurState.scala:577)\n",
       "\tat com.databricks.logging.UsageLogging.$anonfun$recordOperation$1(UsageLogging.scala:527)\n",
       "\tat com.databricks.logging.UsageLogging.executeThunkAndCaptureResultTags$1(UsageLogging.scala:631)\n",
       "\tat com.databricks.logging.UsageLogging.$anonfun$recordOperationWithResultTags$4(UsageLogging.scala:651)\n",
       "\tat com.databricks.logging.AttributionContextTracing.$anonfun$withAttributionContext$1(AttributionContextTracing.scala:48)\n",
       "\tat com.databricks.logging.AttributionContext$.$anonfun$withValue$1(AttributionContext.scala:276)\n",
       "\tat scala.util.DynamicVariable.withValue(DynamicVariable.scala:62)\n",
       "\tat com.databricks.logging.AttributionContext$.withValue(AttributionContext.scala:272)\n",
       "\tat com.databricks.logging.AttributionContextTracing.withAttributionContext(AttributionContextTracing.scala:46)\n",
       "\tat com.databricks.logging.AttributionContextTracing.withAttributionContext$(AttributionContextTracing.scala:43)\n",
       "\tat com.databricks.spark.chauffeur.ChauffeurState.withAttributionContext(ChauffeurState.scala:57)\n",
       "\tat com.databricks.logging.AttributionContextTracing.withAttributionTags(AttributionContextTracing.scala:95)\n",
       "\tat com.databricks.logging.AttributionContextTracing.withAttributionTags$(AttributionContextTracing.scala:76)\n",
       "\tat com.databricks.spark.chauffeur.ChauffeurState.withAttributionTags(ChauffeurState.scala:57)\n",
       "\tat com.databricks.logging.UsageLogging.recordOperationWithResultTags(UsageLogging.scala:626)\n",
       "\tat com.databricks.logging.UsageLogging.recordOperationWithResultTags$(UsageLogging.scala:536)\n",
       "\tat com.databricks.spark.chauffeur.ChauffeurState.recordOperationWithResultTags(ChauffeurState.scala:57)\n",
       "\tat com.databricks.logging.UsageLogging.recordOperation(UsageLogging.scala:528)\n",
       "\tat com.databricks.logging.UsageLogging.recordOperation$(UsageLogging.scala:496)\n",
       "\tat com.databricks.spark.chauffeur.ChauffeurState.recordOperation(ChauffeurState.scala:57)\n",
       "\tat com.databricks.spark.chauffeur.ChauffeurState.process(ChauffeurState.scala:559)\n",
       "\tat com.databricks.spark.chauffeur.Chauffeur$$anon$1$$anonfun$receive$1.handleDriverRequest$1(Chauffeur.scala:818)\n",
       "\tat com.databricks.spark.chauffeur.Chauffeur$$anon$1$$anonfun$receive$1.$anonfun$applyOrElse$5(Chauffeur.scala:844)\n",
       "\tat com.databricks.logging.UsageLogging.executeThunkAndCaptureResultTags$1(UsageLogging.scala:631)\n",
       "\tat com.databricks.logging.UsageLogging.$anonfun$recordOperationWithResultTags$4(UsageLogging.scala:651)\n",
       "\tat com.databricks.logging.AttributionContextTracing.$anonfun$withAttributionContext$1(AttributionContextTracing.scala:48)\n",
       "\tat com.databricks.logging.AttributionContext$.$anonfun$withValue$1(AttributionContext.scala:276)\n",
       "\tat scala.util.DynamicVariable.withValue(DynamicVariable.scala:62)\n",
       "\tat com.databricks.logging.AttributionContext$.withValue(AttributionContext.scala:272)\n",
       "\tat com.databricks.logging.AttributionContextTracing.withAttributionContext(AttributionContextTracing.scala:46)\n",
       "\tat com.databricks.logging.AttributionContextTracing.withAttributionContext$(AttributionContextTracing.scala:43)\n",
       "\tat com.databricks.rpc.ServerBackend.withAttributionContext(ServerBackend.scala:22)\n",
       "\tat com.databricks.logging.AttributionContextTracing.withAttributionTags(AttributionContextTracing.scala:95)\n",
       "\tat com.databricks.logging.AttributionContextTracing.withAttributionTags$(AttributionContextTracing.scala:76)\n",
       "\tat com.databricks.rpc.ServerBackend.withAttributionTags(ServerBackend.scala:22)\n",
       "\tat com.databricks.logging.UsageLogging.recordOperationWithResultTags(UsageLogging.scala:626)\n",
       "\tat com.databricks.logging.UsageLogging.recordOperationWithResultTags$(UsageLogging.scala:536)\n",
       "\tat com.databricks.rpc.ServerBackend.recordOperationWithResultTags(ServerBackend.scala:22)\n",
       "\tat com.databricks.spark.chauffeur.Chauffeur$$anon$1$$anonfun$receive$1.handleDriverRequestWithUsageLogging$1(Chauffeur.scala:843)\n",
       "\tat com.databricks.spark.chauffeur.Chauffeur$$anon$1$$anonfun$receive$1.applyOrElse(Chauffeur.scala:898)\n",
       "\tat com.databricks.spark.chauffeur.Chauffeur$$anon$1$$anonfun$receive$1.applyOrElse(Chauffeur.scala:691)\n",
       "\tat com.databricks.rpc.ServerBackend.$anonfun$internalReceive0$2(ServerBackend.scala:174)\n",
       "\tat com.databricks.rpc.ServerBackend$$anonfun$commonReceive$1.applyOrElse(ServerBackend.scala:200)\n",
       "\tat com.databricks.rpc.ServerBackend$$anonfun$commonReceive$1.applyOrElse(ServerBackend.scala:200)\n",
       "\tat com.databricks.rpc.ServerBackend.internalReceive0(ServerBackend.scala:171)\n",
       "\tat com.databricks.rpc.ServerBackend.$anonfun$internalReceive$1(ServerBackend.scala:147)\n",
       "\tat com.databricks.logging.UsageLogging.$anonfun$recordOperation$1(UsageLogging.scala:527)\n",
       "\tat com.databricks.logging.UsageLogging.executeThunkAndCaptureResultTags$1(UsageLogging.scala:631)\n",
       "\tat com.databricks.logging.UsageLogging.$anonfun$recordOperationWithResultTags$4(UsageLogging.scala:651)\n",
       "\tat com.databricks.logging.AttributionContextTracing.$anonfun$withAttributionContext$1(AttributionContextTracing.scala:48)\n",
       "\tat com.databricks.logging.AttributionContext$.$anonfun$withValue$1(AttributionContext.scala:276)\n",
       "\tat scala.util.DynamicVariable.withValue(DynamicVariable.scala:62)\n",
       "\tat com.databricks.logging.AttributionContext$.withValue(AttributionContext.scala:272)\n",
       "\tat com.databricks.logging.AttributionContextTracing.withAttributionContext(AttributionContextTracing.scala:46)\n",
       "\tat com.databricks.logging.AttributionContextTracing.withAttributionContext$(AttributionContextTracing.scala:43)\n",
       "\tat com.databricks.rpc.ServerBackend.withAttributionContext(ServerBackend.scala:22)\n",
       "\tat com.databricks.logging.AttributionContextTracing.withAttributionTags(AttributionContextTracing.scala:95)\n",
       "\tat com.databricks.logging.AttributionContextTracing.withAttributionTags$(AttributionContextTracing.scala:76)\n",
       "\tat com.databricks.rpc.ServerBackend.withAttributionTags(ServerBackend.scala:22)\n",
       "\tat com.databricks.logging.UsageLogging.recordOperationWithResultTags(UsageLogging.scala:626)\n",
       "\tat com.databricks.logging.UsageLogging.recordOperationWithResultTags$(UsageLogging.scala:536)\n",
       "\tat com.databricks.rpc.ServerBackend.recordOperationWithResultTags(ServerBackend.scala:22)\n",
       "\tat com.databricks.logging.UsageLogging.recordOperation(UsageLogging.scala:528)\n",
       "\tat com.databricks.logging.UsageLogging.recordOperation$(UsageLogging.scala:496)\n",
       "\tat com.databricks.rpc.ServerBackend.recordOperation(ServerBackend.scala:22)\n",
       "\tat com.databricks.rpc.ServerBackend.internalReceive(ServerBackend.scala:146)\n",
       "\tat com.databricks.rpc.JettyServer$RequestManager.handleRPC(JettyServer.scala:1021)\n",
       "\tat com.databricks.rpc.JettyServer$RequestManager.handleRequestAndRespond(JettyServer.scala:942)\n",
       "\tat com.databricks.rpc.JettyServer$RequestManager.$anonfun$handleHttp$6(JettyServer.scala:546)\n",
       "\tat com.databricks.rpc.JettyServer$RequestManager.$anonfun$handleHttp$6$adapted(JettyServer.scala:515)\n",
       "\tat com.databricks.logging.activity.ActivityContextFactory$.$anonfun$withActivityInternal$6(ActivityContextFactory.scala:545)\n",
       "\tat com.databricks.logging.AttributionContextTracing.$anonfun$withAttributionContext$1(AttributionContextTracing.scala:48)\n",
       "\tat com.databricks.logging.AttributionContext$.$anonfun$withValue$1(AttributionContext.scala:276)\n",
       "\tat scala.util.DynamicVariable.withValue(DynamicVariable.scala:62)\n",
       "\tat com.databricks.logging.AttributionContext$.withValue(AttributionContext.scala:272)\n",
       "\tat com.databricks.logging.AttributionContextTracing.withAttributionContext(AttributionContextTracing.scala:46)\n",
       "\tat com.databricks.logging.AttributionContextTracing.withAttributionContext$(AttributionContextTracing.scala:43)\n",
       "\tat com.databricks.logging.activity.ActivityContextFactory$.withAttributionContext(ActivityContextFactory.scala:48)\n",
       "\tat com.databricks.logging.activity.ActivityContextFactory$.$anonfun$withActivityInternal$3(ActivityContextFactory.scala:545)\n",
       "\tat com.databricks.context.integrity.IntegrityCheckContext$ThreadLocalStorage$.withValue(IntegrityCheckContext.scala:73)\n",
       "\tat com.databricks.logging.activity.ActivityContextFactory$.withActivityInternal(ActivityContextFactory.scala:523)\n",
       "\tat com.databricks.logging.activity.ActivityContextFactory$.withServiceRequestActivity(ActivityContextFactory.scala:175)\n",
       "\tat com.databricks.rpc.JettyServer$RequestManager.handleHttp(JettyServer.scala:515)\n",
       "\tat com.databricks.rpc.JettyServer$RequestManager.doPost(JettyServer.scala:405)\n",
       "\tat javax.servlet.http.HttpServlet.service(HttpServlet.java:665)\n",
       "\tat com.databricks.rpc.HttpServletWithPatch.service(HttpServletWithPatch.scala:33)\n",
       "\tat javax.servlet.http.HttpServlet.service(HttpServlet.java:750)\n",
       "\tat org.eclipse.jetty.servlet.ServletHolder.handle(ServletHolder.java:799)\n",
       "\tat org.eclipse.jetty.servlet.ServletHandler.doHandle(ServletHandler.java:554)\n",
       "\tat org.eclipse.jetty.server.handler.ScopedHandler.nextScope(ScopedHandler.java:190)\n",
       "\tat org.eclipse.jetty.servlet.ServletHandler.doScope(ServletHandler.java:505)\n",
       "\tat org.eclipse.jetty.server.handler.ScopedHandler.handle(ScopedHandler.java:141)\n",
       "\tat org.eclipse.jetty.server.handler.HandlerWrapper.handle(HandlerWrapper.java:127)\n",
       "\tat org.eclipse.jetty.server.Server.handle(Server.java:516)\n",
       "\tat org.eclipse.jetty.server.HttpChannel.lambda$handle$1(HttpChannel.java:487)\n",
       "\tat org.eclipse.jetty.server.HttpChannel.dispatch(HttpChannel.java:732)\n",
       "\tat org.eclipse.jetty.server.HttpChannel.handle(HttpChannel.java:479)\n",
       "\tat org.eclipse.jetty.server.HttpConnection.onFillable(HttpConnection.java:277)\n",
       "\tat org.eclipse.jetty.io.AbstractConnection$ReadCallback.succeeded(AbstractConnection.java:311)\n",
       "\tat org.eclipse.jetty.io.FillInterest.fillable(FillInterest.java:105)\n",
       "\tat org.eclipse.jetty.io.ssl.SslConnection$DecryptedEndPoint.onFillable(SslConnection.java:555)\n",
       "\tat org.eclipse.jetty.io.ssl.SslConnection.onFillable(SslConnection.java:410)\n",
       "\tat org.eclipse.jetty.io.ssl.SslConnection$2.succeeded(SslConnection.java:164)\n",
       "\tat org.eclipse.jetty.io.FillInterest.fillable(FillInterest.java:105)\n",
       "\tat org.eclipse.jetty.io.ChannelEndPoint$1.run(ChannelEndPoint.java:104)\n",
       "\tat org.eclipse.jetty.util.thread.strategy.EatWhatYouKill.runTask(EatWhatYouKill.java:338)\n",
       "\tat org.eclipse.jetty.util.thread.strategy.EatWhatYouKill.doProduce(EatWhatYouKill.java:315)\n",
       "\tat org.eclipse.jetty.util.thread.strategy.EatWhatYouKill.tryProduce(EatWhatYouKill.java:173)\n",
       "\tat org.eclipse.jetty.util.thread.strategy.EatWhatYouKill.run(EatWhatYouKill.java:131)\n",
       "\tat org.eclipse.jetty.util.thread.ReservedThreadExecutor$ReservedThread.run(ReservedThreadExecutor.java:409)\n",
       "\tat com.databricks.rpc.InstrumentedQueuedThreadPool$$anon$1.$anonfun$run$2(InstrumentedQueuedThreadPool.scala:105)\n",
       "\tat scala.runtime.java8.JFunction0$mcV$sp.apply(JFunction0$mcV$sp.java:23)\n",
       "\tat com.databricks.logging.AttributionContextTracing.$anonfun$withAttributionContext$1(AttributionContextTracing.scala:48)\n",
       "\tat com.databricks.logging.AttributionContext$.$anonfun$withValue$1(AttributionContext.scala:276)\n",
       "\tat scala.util.DynamicVariable.withValue(DynamicVariable.scala:62)\n",
       "\tat com.databricks.logging.AttributionContext$.withValue(AttributionContext.scala:272)\n",
       "\tat com.databricks.logging.AttributionContextTracing.withAttributionContext(AttributionContextTracing.scala:46)\n",
       "\tat com.databricks.logging.AttributionContextTracing.withAttributionContext$(AttributionContextTracing.scala:43)\n",
       "\tat com.databricks.rpc.InstrumentedQueuedThreadPool.withAttributionContext(InstrumentedQueuedThreadPool.scala:45)\n",
       "\tat com.databricks.rpc.InstrumentedQueuedThreadPool$$anon$1.$anonfun$run$1(InstrumentedQueuedThreadPool.scala:105)\n",
       "\tat scala.runtime.java8.JFunction0$mcV$sp.apply(JFunction0$mcV$sp.java:23)\n",
       "\tat com.databricks.instrumentation.QueuedThreadPoolInstrumenter.trackActiveThreads(QueuedThreadPoolInstrumenter.scala:110)\n",
       "\tat com.databricks.instrumentation.QueuedThreadPoolInstrumenter.trackActiveThreads$(QueuedThreadPoolInstrumenter.scala:107)\n",
       "\tat com.databricks.rpc.InstrumentedQueuedThreadPool.trackActiveThreads(InstrumentedQueuedThreadPool.scala:45)\n",
       "\tat com.databricks.rpc.InstrumentedQueuedThreadPool$$anon$1.run(InstrumentedQueuedThreadPool.scala:87)\n",
       "\tat org.eclipse.jetty.util.thread.QueuedThreadPool.runJob(QueuedThreadPool.java:883)\n",
       "\tat org.eclipse.jetty.util.thread.QueuedThreadPool$Runner.run(QueuedThreadPool.java:1034)\n",
       "\tat java.lang.Thread.run(Thread.java:750)"
      ]
     },
     "metadata": {
      "application/vnd.databricks.v1+output": {
       "addedWidgets": {},
       "arguments": {},
       "datasetInfos": [],
       "jupyterProps": null,
       "metadata": {
        "errorSummary": "Cancelled"
       },
       "removedWidgets": [],
       "sqlProps": null,
       "stackFrames": [
        "com.databricks.backend.common.rpc.CommandCancelledException",
        "\tat com.databricks.spark.chauffeur.SequenceExecutionState.$anonfun$cancel$5(SequenceExecutionState.scala:136)",
        "\tat scala.Option.getOrElse(Option.scala:189)",
        "\tat com.databricks.spark.chauffeur.SequenceExecutionState.$anonfun$cancel$3(SequenceExecutionState.scala:136)",
        "\tat com.databricks.spark.chauffeur.SequenceExecutionState.$anonfun$cancel$3$adapted(SequenceExecutionState.scala:133)",
        "\tat scala.collection.immutable.Range.foreach(Range.scala:158)",
        "\tat com.databricks.spark.chauffeur.SequenceExecutionState.cancel(SequenceExecutionState.scala:133)",
        "\tat com.databricks.spark.chauffeur.ExecContextState.cancelRunningSequence(ExecContextState.scala:728)",
        "\tat com.databricks.spark.chauffeur.ExecContextState.$anonfun$cancel$1(ExecContextState.scala:446)",
        "\tat scala.Option.getOrElse(Option.scala:189)",
        "\tat com.databricks.spark.chauffeur.ExecContextState.cancel(ExecContextState.scala:446)",
        "\tat com.databricks.spark.chauffeur.ExecutionContextManagerV1.cancelExecution(ExecutionContextManagerV1.scala:460)",
        "\tat com.databricks.spark.chauffeur.ChauffeurState.$anonfun$process$1(ChauffeurState.scala:577)",
        "\tat com.databricks.logging.UsageLogging.$anonfun$recordOperation$1(UsageLogging.scala:527)",
        "\tat com.databricks.logging.UsageLogging.executeThunkAndCaptureResultTags$1(UsageLogging.scala:631)",
        "\tat com.databricks.logging.UsageLogging.$anonfun$recordOperationWithResultTags$4(UsageLogging.scala:651)",
        "\tat com.databricks.logging.AttributionContextTracing.$anonfun$withAttributionContext$1(AttributionContextTracing.scala:48)",
        "\tat com.databricks.logging.AttributionContext$.$anonfun$withValue$1(AttributionContext.scala:276)",
        "\tat scala.util.DynamicVariable.withValue(DynamicVariable.scala:62)",
        "\tat com.databricks.logging.AttributionContext$.withValue(AttributionContext.scala:272)",
        "\tat com.databricks.logging.AttributionContextTracing.withAttributionContext(AttributionContextTracing.scala:46)",
        "\tat com.databricks.logging.AttributionContextTracing.withAttributionContext$(AttributionContextTracing.scala:43)",
        "\tat com.databricks.spark.chauffeur.ChauffeurState.withAttributionContext(ChauffeurState.scala:57)",
        "\tat com.databricks.logging.AttributionContextTracing.withAttributionTags(AttributionContextTracing.scala:95)",
        "\tat com.databricks.logging.AttributionContextTracing.withAttributionTags$(AttributionContextTracing.scala:76)",
        "\tat com.databricks.spark.chauffeur.ChauffeurState.withAttributionTags(ChauffeurState.scala:57)",
        "\tat com.databricks.logging.UsageLogging.recordOperationWithResultTags(UsageLogging.scala:626)",
        "\tat com.databricks.logging.UsageLogging.recordOperationWithResultTags$(UsageLogging.scala:536)",
        "\tat com.databricks.spark.chauffeur.ChauffeurState.recordOperationWithResultTags(ChauffeurState.scala:57)",
        "\tat com.databricks.logging.UsageLogging.recordOperation(UsageLogging.scala:528)",
        "\tat com.databricks.logging.UsageLogging.recordOperation$(UsageLogging.scala:496)",
        "\tat com.databricks.spark.chauffeur.ChauffeurState.recordOperation(ChauffeurState.scala:57)",
        "\tat com.databricks.spark.chauffeur.ChauffeurState.process(ChauffeurState.scala:559)",
        "\tat com.databricks.spark.chauffeur.Chauffeur$$anon$1$$anonfun$receive$1.handleDriverRequest$1(Chauffeur.scala:818)",
        "\tat com.databricks.spark.chauffeur.Chauffeur$$anon$1$$anonfun$receive$1.$anonfun$applyOrElse$5(Chauffeur.scala:844)",
        "\tat com.databricks.logging.UsageLogging.executeThunkAndCaptureResultTags$1(UsageLogging.scala:631)",
        "\tat com.databricks.logging.UsageLogging.$anonfun$recordOperationWithResultTags$4(UsageLogging.scala:651)",
        "\tat com.databricks.logging.AttributionContextTracing.$anonfun$withAttributionContext$1(AttributionContextTracing.scala:48)",
        "\tat com.databricks.logging.AttributionContext$.$anonfun$withValue$1(AttributionContext.scala:276)",
        "\tat scala.util.DynamicVariable.withValue(DynamicVariable.scala:62)",
        "\tat com.databricks.logging.AttributionContext$.withValue(AttributionContext.scala:272)",
        "\tat com.databricks.logging.AttributionContextTracing.withAttributionContext(AttributionContextTracing.scala:46)",
        "\tat com.databricks.logging.AttributionContextTracing.withAttributionContext$(AttributionContextTracing.scala:43)",
        "\tat com.databricks.rpc.ServerBackend.withAttributionContext(ServerBackend.scala:22)",
        "\tat com.databricks.logging.AttributionContextTracing.withAttributionTags(AttributionContextTracing.scala:95)",
        "\tat com.databricks.logging.AttributionContextTracing.withAttributionTags$(AttributionContextTracing.scala:76)",
        "\tat com.databricks.rpc.ServerBackend.withAttributionTags(ServerBackend.scala:22)",
        "\tat com.databricks.logging.UsageLogging.recordOperationWithResultTags(UsageLogging.scala:626)",
        "\tat com.databricks.logging.UsageLogging.recordOperationWithResultTags$(UsageLogging.scala:536)",
        "\tat com.databricks.rpc.ServerBackend.recordOperationWithResultTags(ServerBackend.scala:22)",
        "\tat com.databricks.spark.chauffeur.Chauffeur$$anon$1$$anonfun$receive$1.handleDriverRequestWithUsageLogging$1(Chauffeur.scala:843)",
        "\tat com.databricks.spark.chauffeur.Chauffeur$$anon$1$$anonfun$receive$1.applyOrElse(Chauffeur.scala:898)",
        "\tat com.databricks.spark.chauffeur.Chauffeur$$anon$1$$anonfun$receive$1.applyOrElse(Chauffeur.scala:691)",
        "\tat com.databricks.rpc.ServerBackend.$anonfun$internalReceive0$2(ServerBackend.scala:174)",
        "\tat com.databricks.rpc.ServerBackend$$anonfun$commonReceive$1.applyOrElse(ServerBackend.scala:200)",
        "\tat com.databricks.rpc.ServerBackend$$anonfun$commonReceive$1.applyOrElse(ServerBackend.scala:200)",
        "\tat com.databricks.rpc.ServerBackend.internalReceive0(ServerBackend.scala:171)",
        "\tat com.databricks.rpc.ServerBackend.$anonfun$internalReceive$1(ServerBackend.scala:147)",
        "\tat com.databricks.logging.UsageLogging.$anonfun$recordOperation$1(UsageLogging.scala:527)",
        "\tat com.databricks.logging.UsageLogging.executeThunkAndCaptureResultTags$1(UsageLogging.scala:631)",
        "\tat com.databricks.logging.UsageLogging.$anonfun$recordOperationWithResultTags$4(UsageLogging.scala:651)",
        "\tat com.databricks.logging.AttributionContextTracing.$anonfun$withAttributionContext$1(AttributionContextTracing.scala:48)",
        "\tat com.databricks.logging.AttributionContext$.$anonfun$withValue$1(AttributionContext.scala:276)",
        "\tat scala.util.DynamicVariable.withValue(DynamicVariable.scala:62)",
        "\tat com.databricks.logging.AttributionContext$.withValue(AttributionContext.scala:272)",
        "\tat com.databricks.logging.AttributionContextTracing.withAttributionContext(AttributionContextTracing.scala:46)",
        "\tat com.databricks.logging.AttributionContextTracing.withAttributionContext$(AttributionContextTracing.scala:43)",
        "\tat com.databricks.rpc.ServerBackend.withAttributionContext(ServerBackend.scala:22)",
        "\tat com.databricks.logging.AttributionContextTracing.withAttributionTags(AttributionContextTracing.scala:95)",
        "\tat com.databricks.logging.AttributionContextTracing.withAttributionTags$(AttributionContextTracing.scala:76)",
        "\tat com.databricks.rpc.ServerBackend.withAttributionTags(ServerBackend.scala:22)",
        "\tat com.databricks.logging.UsageLogging.recordOperationWithResultTags(UsageLogging.scala:626)",
        "\tat com.databricks.logging.UsageLogging.recordOperationWithResultTags$(UsageLogging.scala:536)",
        "\tat com.databricks.rpc.ServerBackend.recordOperationWithResultTags(ServerBackend.scala:22)",
        "\tat com.databricks.logging.UsageLogging.recordOperation(UsageLogging.scala:528)",
        "\tat com.databricks.logging.UsageLogging.recordOperation$(UsageLogging.scala:496)",
        "\tat com.databricks.rpc.ServerBackend.recordOperation(ServerBackend.scala:22)",
        "\tat com.databricks.rpc.ServerBackend.internalReceive(ServerBackend.scala:146)",
        "\tat com.databricks.rpc.JettyServer$RequestManager.handleRPC(JettyServer.scala:1021)",
        "\tat com.databricks.rpc.JettyServer$RequestManager.handleRequestAndRespond(JettyServer.scala:942)",
        "\tat com.databricks.rpc.JettyServer$RequestManager.$anonfun$handleHttp$6(JettyServer.scala:546)",
        "\tat com.databricks.rpc.JettyServer$RequestManager.$anonfun$handleHttp$6$adapted(JettyServer.scala:515)",
        "\tat com.databricks.logging.activity.ActivityContextFactory$.$anonfun$withActivityInternal$6(ActivityContextFactory.scala:545)",
        "\tat com.databricks.logging.AttributionContextTracing.$anonfun$withAttributionContext$1(AttributionContextTracing.scala:48)",
        "\tat com.databricks.logging.AttributionContext$.$anonfun$withValue$1(AttributionContext.scala:276)",
        "\tat scala.util.DynamicVariable.withValue(DynamicVariable.scala:62)",
        "\tat com.databricks.logging.AttributionContext$.withValue(AttributionContext.scala:272)",
        "\tat com.databricks.logging.AttributionContextTracing.withAttributionContext(AttributionContextTracing.scala:46)",
        "\tat com.databricks.logging.AttributionContextTracing.withAttributionContext$(AttributionContextTracing.scala:43)",
        "\tat com.databricks.logging.activity.ActivityContextFactory$.withAttributionContext(ActivityContextFactory.scala:48)",
        "\tat com.databricks.logging.activity.ActivityContextFactory$.$anonfun$withActivityInternal$3(ActivityContextFactory.scala:545)",
        "\tat com.databricks.context.integrity.IntegrityCheckContext$ThreadLocalStorage$.withValue(IntegrityCheckContext.scala:73)",
        "\tat com.databricks.logging.activity.ActivityContextFactory$.withActivityInternal(ActivityContextFactory.scala:523)",
        "\tat com.databricks.logging.activity.ActivityContextFactory$.withServiceRequestActivity(ActivityContextFactory.scala:175)",
        "\tat com.databricks.rpc.JettyServer$RequestManager.handleHttp(JettyServer.scala:515)",
        "\tat com.databricks.rpc.JettyServer$RequestManager.doPost(JettyServer.scala:405)",
        "\tat javax.servlet.http.HttpServlet.service(HttpServlet.java:665)",
        "\tat com.databricks.rpc.HttpServletWithPatch.service(HttpServletWithPatch.scala:33)",
        "\tat javax.servlet.http.HttpServlet.service(HttpServlet.java:750)",
        "\tat org.eclipse.jetty.servlet.ServletHolder.handle(ServletHolder.java:799)",
        "\tat org.eclipse.jetty.servlet.ServletHandler.doHandle(ServletHandler.java:554)",
        "\tat org.eclipse.jetty.server.handler.ScopedHandler.nextScope(ScopedHandler.java:190)",
        "\tat org.eclipse.jetty.servlet.ServletHandler.doScope(ServletHandler.java:505)",
        "\tat org.eclipse.jetty.server.handler.ScopedHandler.handle(ScopedHandler.java:141)",
        "\tat org.eclipse.jetty.server.handler.HandlerWrapper.handle(HandlerWrapper.java:127)",
        "\tat org.eclipse.jetty.server.Server.handle(Server.java:516)",
        "\tat org.eclipse.jetty.server.HttpChannel.lambda$handle$1(HttpChannel.java:487)",
        "\tat org.eclipse.jetty.server.HttpChannel.dispatch(HttpChannel.java:732)",
        "\tat org.eclipse.jetty.server.HttpChannel.handle(HttpChannel.java:479)",
        "\tat org.eclipse.jetty.server.HttpConnection.onFillable(HttpConnection.java:277)",
        "\tat org.eclipse.jetty.io.AbstractConnection$ReadCallback.succeeded(AbstractConnection.java:311)",
        "\tat org.eclipse.jetty.io.FillInterest.fillable(FillInterest.java:105)",
        "\tat org.eclipse.jetty.io.ssl.SslConnection$DecryptedEndPoint.onFillable(SslConnection.java:555)",
        "\tat org.eclipse.jetty.io.ssl.SslConnection.onFillable(SslConnection.java:410)",
        "\tat org.eclipse.jetty.io.ssl.SslConnection$2.succeeded(SslConnection.java:164)",
        "\tat org.eclipse.jetty.io.FillInterest.fillable(FillInterest.java:105)",
        "\tat org.eclipse.jetty.io.ChannelEndPoint$1.run(ChannelEndPoint.java:104)",
        "\tat org.eclipse.jetty.util.thread.strategy.EatWhatYouKill.runTask(EatWhatYouKill.java:338)",
        "\tat org.eclipse.jetty.util.thread.strategy.EatWhatYouKill.doProduce(EatWhatYouKill.java:315)",
        "\tat org.eclipse.jetty.util.thread.strategy.EatWhatYouKill.tryProduce(EatWhatYouKill.java:173)",
        "\tat org.eclipse.jetty.util.thread.strategy.EatWhatYouKill.run(EatWhatYouKill.java:131)",
        "\tat org.eclipse.jetty.util.thread.ReservedThreadExecutor$ReservedThread.run(ReservedThreadExecutor.java:409)",
        "\tat com.databricks.rpc.InstrumentedQueuedThreadPool$$anon$1.$anonfun$run$2(InstrumentedQueuedThreadPool.scala:105)",
        "\tat scala.runtime.java8.JFunction0$mcV$sp.apply(JFunction0$mcV$sp.java:23)",
        "\tat com.databricks.logging.AttributionContextTracing.$anonfun$withAttributionContext$1(AttributionContextTracing.scala:48)",
        "\tat com.databricks.logging.AttributionContext$.$anonfun$withValue$1(AttributionContext.scala:276)",
        "\tat scala.util.DynamicVariable.withValue(DynamicVariable.scala:62)",
        "\tat com.databricks.logging.AttributionContext$.withValue(AttributionContext.scala:272)",
        "\tat com.databricks.logging.AttributionContextTracing.withAttributionContext(AttributionContextTracing.scala:46)",
        "\tat com.databricks.logging.AttributionContextTracing.withAttributionContext$(AttributionContextTracing.scala:43)",
        "\tat com.databricks.rpc.InstrumentedQueuedThreadPool.withAttributionContext(InstrumentedQueuedThreadPool.scala:45)",
        "\tat com.databricks.rpc.InstrumentedQueuedThreadPool$$anon$1.$anonfun$run$1(InstrumentedQueuedThreadPool.scala:105)",
        "\tat scala.runtime.java8.JFunction0$mcV$sp.apply(JFunction0$mcV$sp.java:23)",
        "\tat com.databricks.instrumentation.QueuedThreadPoolInstrumenter.trackActiveThreads(QueuedThreadPoolInstrumenter.scala:110)",
        "\tat com.databricks.instrumentation.QueuedThreadPoolInstrumenter.trackActiveThreads$(QueuedThreadPoolInstrumenter.scala:107)",
        "\tat com.databricks.rpc.InstrumentedQueuedThreadPool.trackActiveThreads(InstrumentedQueuedThreadPool.scala:45)",
        "\tat com.databricks.rpc.InstrumentedQueuedThreadPool$$anon$1.run(InstrumentedQueuedThreadPool.scala:87)",
        "\tat org.eclipse.jetty.util.thread.QueuedThreadPool.runJob(QueuedThreadPool.java:883)",
        "\tat org.eclipse.jetty.util.thread.QueuedThreadPool$Runner.run(QueuedThreadPool.java:1034)",
        "\tat java.lang.Thread.run(Thread.java:750)"
       ],
       "type": "baseError"
      }
     },
     "output_type": "display_data"
    }
   ],
   "source": [
    "\n",
    "# Import necessary libraries\n",
    "from confluent_kafka import Producer\n",
    "import requests\n",
    "import json\n",
    "import time\n",
    "\n",
    "# Kafka Configuration\n",
    "conf = {\n",
    "    'bootstrap.servers': 'pkc-56d1g.eastus.azure.confluent.cloud:9092',\n",
    "    'client.id': 'alpha-vantage-producer',\n",
    "    'security.protocol': 'SASL_SSL',\n",
    "    'sasl.mechanism': 'PLAIN',\n",
    "    'sasl.username': 'OPJG2TBO5A6V3KGQ',\n",
    "    'sasl.password': 'NktHxsYoNZZjBNQyfyBMsfqxo3FIe1soT6VhBiL82np1pTQtmqJwYvCzQTRULLVk'\n",
    "}\n",
    "\n",
    "# Initialize Kafka producer\n",
    "producer = Producer(conf)\n",
    "\n",
    "def delivery_report(err, msg):\n",
    "    \"\"\"Callback called once the message is delivered or delivery failed.\"\"\"\n",
    "    if err:\n",
    "        print(f\"Message delivery failed: {err}\")\n",
    "    else:\n",
    "        print(f\"Message delivered to {msg.topic()} [{msg.partition()}]\")\n",
    "\n",
    "def fetch_and_send_stock_data():\n",
    "    # Fetch stock data from Alpha Vantage API\n",
    "    response = requests.get(ALPHA_VANTAGE_API_URL)\n",
    "    \n",
    "    if response.status_code == 200:\n",
    "        stock_data = response.json()\n",
    "        # Extract time series data\n",
    "        time_series = stock_data.get(\"Time Series (1min)\", {})\n",
    "        for timestamp, data in time_series.items():\n",
    "            message = {\n",
    "                \"symbol\": SYMBOL,\n",
    "                \"timestamp\": timestamp,\n",
    "                \"open\": data[\"1. open\"],\n",
    "                \"high\": data[\"2. high\"],\n",
    "                \"low\": data[\"3. low\"],\n",
    "                \"close\": data[\"4. close\"],\n",
    "                \"volume\": data[\"5. volume\"]\n",
    "            }\n",
    "            # Send each data point to Kafka\n",
    "            producer.produce(\n",
    "                kafka_topic, \n",
    "                key=SYMBOL, \n",
    "                value=json.dumps(message), \n",
    "                callback=delivery_report\n",
    "            )\n",
    "            producer.flush()\n",
    "    else:\n",
    "        print(f\"Failed to fetch stock data: {response.status_code}\")\n",
    "\n",
    "# Call this function periodically (respecting Alpha Vantage rate limits)\n",
    "while True:\n",
    "    fetch_and_send_stock_data()\n",
    "    time.sleep(60)  # Sleep to respect the API rate limit (1 minute)"
   ]
  }
 ],
 "metadata": {
  "application/vnd.databricks.v1+notebook": {
   "dashboards": [],
   "environmentMetadata": null,
   "language": "python",
   "notebookMetadata": {
    "pythonIndentUnit": 4
   },
   "notebookName": "1.Kafka config and data simulation to topic",
   "widgets": {}
  }
 },
 "nbformat": 4,
 "nbformat_minor": 0
}
